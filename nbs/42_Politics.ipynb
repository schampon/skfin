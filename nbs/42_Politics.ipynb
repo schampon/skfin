{
 "cells": [
  {
   "cell_type": "markdown",
   "id": "3c92292b-9ed9-4f0a-9c83-3f1d0e84734a",
   "metadata": {
    "editable": true,
    "slideshow": {
     "slide_type": ""
    },
    "tags": []
   },
   "source": [
    "# Politics and the stock market"
   ]
  },
  {
   "cell_type": "code",
   "execution_count": null,
   "id": "57c709fe-daff-4a2b-ac2e-91b99401096d",
   "metadata": {
    "execution": {
     "iopub.execute_input": "2025-09-29T15:53:51.427161Z",
     "iopub.status.busy": "2025-09-29T15:53:51.426899Z",
     "iopub.status.idle": "2025-09-29T15:53:53.237051Z",
     "shell.execute_reply": "2025-09-29T15:53:53.236465Z"
    }
   },
   "outputs": [],
   "source": [
    "# hide\n",
    "%load_ext autoreload\n",
    "%autoreload 2\n",
    "%matplotlib inline\n",
    "\n",
    "import numpy as np\n",
    "import pandas as pd\n",
    "\n",
    "from skfin.metrics import sharpe_ratio\n",
    "from skfin.plot import *\n",
    "from skfin.datasets_ import load_kf_returns\n",
    "\n",
    "from IPython.display import Image, display\n",
    "\n",
    "import logging \n",
    "logging.getLogger(\"skfin.dataloaders.cache\").setLevel(level=logging.CRITICAL)\n",
    "\n",
    "ret = load_kf_returns(filename=\"F-F_Research_Data_Factors\")[\"Monthly\"]"
   ]
  },
  {
   "cell_type": "markdown",
   "id": "16d9efe9-c58a-4498-a498-cb1abe38c932",
   "metadata": {},
   "source": [
    "In this section, we explore the relationship between political control in the United States government and stock market performance, focusing on the phenomenon known as the \"Government Puzzle.\" We first discuss the \"Presidential Puzzle\"—the observation that U.S. stock market excess returns have historically been higher under Democratic presidents. \n",
    "\n",
    "We then examine whether the alignment or division of political power across the executive and legislative branches (i.e., United vs. Divided government) has an even greater impact on financial markets and economic growth. "
   ]
  },
  {
   "cell_type": "markdown",
   "id": "fdf91fa9-fab2-4204-84e8-9246637d185e",
   "metadata": {},
   "source": [
    "## The Presidential puzzle and the division of the government"
   ]
  },
  {
   "cell_type": "code",
   "execution_count": null,
   "id": "3d1cfe5d-72ea-43a3-81f7-f1ce103703d1",
   "metadata": {
    "execution": {
     "iopub.execute_input": "2025-09-29T15:53:53.239538Z",
     "iopub.status.busy": "2025-09-29T15:53:53.239106Z",
     "iopub.status.idle": "2025-09-29T15:53:53.272588Z",
     "shell.execute_reply": "2025-09-29T15:53:53.272113Z"
    }
   },
   "outputs": [],
   "source": [
    "# hide\n",
    "display(Image(\"images/santa_clara_valkanov.png\", width=600))"
   ]
  },
  {
   "cell_type": "code",
   "execution_count": null,
   "id": "44cd3409-5d28-48f8-8807-76237738bba3",
   "metadata": {
    "execution": {
     "iopub.execute_input": "2025-09-29T15:53:53.274405Z",
     "iopub.status.busy": "2025-09-29T15:53:53.274109Z",
     "iopub.status.idle": "2025-09-29T15:53:53.303673Z",
     "shell.execute_reply": "2025-09-29T15:53:53.303203Z"
    }
   },
   "outputs": [],
   "source": [
    "# hide\n",
    "display(Image(\"images/papamichalis_ryu_wilson.png\", width=600))"
   ]
  },
  {
   "cell_type": "markdown",
   "id": "db0117a0-293e-4aa6-8b92-1375fea1127f",
   "metadata": {},
   "source": [
    "The figure below from Papamichalis, Ryu and Wilson (2024) shows a two-way sort of average annual excess stock returns by both the president's party and whether the government is united or divided, using post-war data (1927–2020). The main takeaway is that Republican and Democratic presidents deliver strong stock market returns when they have unified control of government, while Republican presidents under divided government are associated with particularly weak market performance—demonstrating that the government cycle, not just presidential party, is key to explaining stock market outcomes."
   ]
  },
  {
   "cell_type": "code",
   "execution_count": null,
   "id": "de65962c-ae44-4773-85c9-c5284b7530ac",
   "metadata": {
    "execution": {
     "iopub.execute_input": "2025-09-29T15:53:53.305501Z",
     "iopub.status.busy": "2025-09-29T15:53:53.305222Z",
     "iopub.status.idle": "2025-09-29T15:53:53.336666Z",
     "shell.execute_reply": "2025-09-29T15:53:53.336197Z"
    }
   },
   "outputs": [],
   "source": [
    "# hide\n",
    "display(Image(\"images/papamichalis_ryu_wilson_table.png\", width=600))"
   ]
  },
  {
   "cell_type": "markdown",
   "id": "14b050cc-1dc9-4601-adf7-78fad6143e88",
   "metadata": {},
   "source": [
    "## Politics over century of data"
   ]
  },
  {
   "cell_type": "code",
   "execution_count": null,
   "id": "71df29c9-2131-4874-8d8a-a0273a6353c0",
   "metadata": {
    "execution": {
     "iopub.execute_input": "2025-09-29T15:53:53.338452Z",
     "iopub.status.busy": "2025-09-29T15:53:53.338181Z",
     "iopub.status.idle": "2025-09-29T15:53:53.444506Z",
     "shell.execute_reply": "2025-09-29T15:53:53.443940Z"
    }
   },
   "outputs": [],
   "source": [
    "from skfin.dataloaders.constants.dates import load_us_politics_dates\n",
    "\n",
    "end_date = \"2022-10-01\"  # Midterm election during Biden's term\n",
    "\n",
    "cols = [\"Presidency\", \"House\", \"Senate\"]\n",
    "cols_ = ret.columns\n",
    "government_ffill_shift = (\n",
    "    lambda x, cols: x[cols]\n",
    "    .shift(1)\n",
    "    .ffill()\n",
    "    .join(x.drop(cols, axis=1).dropna(), how=\"right\")\n",
    ")\n",
    "df = (\n",
    "    load_us_politics_dates()\n",
    "    .resample(\"MS\")\n",
    "    .last()\n",
    "    .join(ret, how=\"outer\")\n",
    "    .pipe(government_ffill_shift, cols)\n",
    "    .assign(\n",
    "        united_government=lambda x: x[cols].apply(\n",
    "            lambda row: row.nunique() == 1, axis=1\n",
    "        ),\n",
    "        democratic_president=lambda x: x[\"Presidency\"] == \"Democratic\",\n",
    "    )\n",
    "    .loc[:end_date]\n",
    ")"
   ]
  },
  {
   "cell_type": "markdown",
   "id": "0e0087bb-e0c6-4cfb-9005-8b559e021e02",
   "metadata": {},
   "source": [
    "We first look wether there is a monthly seasonality in returns. "
   ]
  },
  {
   "cell_type": "code",
   "execution_count": null,
   "id": "dc0298b2-f48f-4e67-bd31-6bfbe1e7cac5",
   "metadata": {
    "execution": {
     "iopub.execute_input": "2025-09-29T15:53:53.446608Z",
     "iopub.status.busy": "2025-09-29T15:53:53.446276Z",
     "iopub.status.idle": "2025-09-29T15:53:53.599642Z",
     "shell.execute_reply": "2025-09-29T15:53:53.599107Z"
    }
   },
   "outputs": [],
   "source": [
    "bar(\n",
    "    df.groupby(lambda x: x.month)[\"Mkt-RF\"].apply(sharpe_ratio, num_period_per_year=12),\n",
    "    sort=False,\n",
    "    title=\"Annualized sharpe ratio by month\",\n",
    ")"
   ]
  },
  {
   "cell_type": "markdown",
   "id": "cb50fb0c-0cda-45ad-bea9-81fd7a784dd5",
   "metadata": {},
   "source": [
    "In particular, the bar chart below shows that there is no strong imbalance in the number of months in each subcategories. "
   ]
  },
  {
   "cell_type": "code",
   "execution_count": null,
   "id": "d7fc608b-dda4-4c05-9bd6-5fa2c958fbbc",
   "metadata": {
    "execution": {
     "iopub.execute_input": "2025-09-29T15:53:53.601688Z",
     "iopub.status.busy": "2025-09-29T15:53:53.601365Z",
     "iopub.status.idle": "2025-09-29T15:53:53.773204Z",
     "shell.execute_reply": "2025-09-29T15:53:53.772669Z"
    }
   },
   "outputs": [],
   "source": [
    "vars = [\"democratic_president\", \"united_government\"]\n",
    "\n",
    "fig, ax = plt.subplots(1, 2, figsize=(18, 6))\n",
    "fig.suptitle(\"Number of months\")\n",
    "for i, c in enumerate(vars):\n",
    "    bar(df.groupby(c)[\"RF\"].count(), ax=ax[i], title=c)"
   ]
  },
  {
   "cell_type": "markdown",
   "id": "24c2e789-8ed3-4dcb-a3a4-2dbc10fbad1a",
   "metadata": {},
   "source": [
    "The two graphs below essentially replicates the results in Santa-Clara and Valkanov (2003) and Papamichalis et al. (2024): higher Sharpe ratio (and gain) for democratic presidents and unified governments. "
   ]
  },
  {
   "cell_type": "code",
   "execution_count": null,
   "id": "f0895b0a-65b7-4644-91ae-aafec6d3430f",
   "metadata": {
    "execution": {
     "iopub.execute_input": "2025-09-29T15:53:53.775201Z",
     "iopub.status.busy": "2025-09-29T15:53:53.774888Z",
     "iopub.status.idle": "2025-09-29T15:53:53.955798Z",
     "shell.execute_reply": "2025-09-29T15:53:53.955293Z"
    }
   },
   "outputs": [],
   "source": [
    "fig, ax = plt.subplots(1, 2, figsize=(20, 6))\n",
    "fig.suptitle(\"Sharpe ratio\")\n",
    "for i, c in enumerate(vars):\n",
    "    bar(\n",
    "        df.groupby(c)[\"Mkt-RF\"].apply(sharpe_ratio, num_period_per_year=12),\n",
    "        ax=ax[i],\n",
    "        title=c,\n",
    "    )"
   ]
  },
  {
   "cell_type": "code",
   "execution_count": null,
   "id": "c7ca1200-c1be-459a-b597-1d75ec9f2d03",
   "metadata": {
    "execution": {
     "iopub.execute_input": "2025-09-29T15:53:53.957694Z",
     "iopub.status.busy": "2025-09-29T15:53:53.957392Z",
     "iopub.status.idle": "2025-09-29T15:53:54.127481Z",
     "shell.execute_reply": "2025-09-29T15:53:54.126944Z"
    }
   },
   "outputs": [],
   "source": [
    "fig, ax = plt.subplots(1, 2, figsize=(20, 6))\n",
    "fig.suptitle(\"Annualized mean\")\n",
    "for i, c in enumerate(vars):\n",
    "    bar(df.groupby(c)[\"Mkt-RF\"].mean().mul(12), ax=ax[i], title=c)"
   ]
  },
  {
   "cell_type": "code",
   "execution_count": null,
   "id": "23e00c0e-5257-4c69-a622-ee5f8cc947e3",
   "metadata": {
    "execution": {
     "iopub.execute_input": "2025-09-29T15:53:54.129514Z",
     "iopub.status.busy": "2025-09-29T15:53:54.129193Z",
     "iopub.status.idle": "2025-09-29T15:53:54.317707Z",
     "shell.execute_reply": "2025-09-29T15:53:54.317196Z"
    }
   },
   "outputs": [],
   "source": [
    "fig, ax = plt.subplots(1, 2, figsize=(20, 6))\n",
    "fig.suptitle(\"Annualized standard deviation\")\n",
    "for i, c in enumerate(vars):\n",
    "    bar(df.groupby(c)[\"Mkt-RF\"].std().mul(np.sqrt(12)), ax=ax[i], title=c)"
   ]
  },
  {
   "cell_type": "code",
   "execution_count": null,
   "id": "d973d4eb-8f2c-4002-ba3a-bd30c2fa8f1e",
   "metadata": {
    "execution": {
     "iopub.execute_input": "2025-09-29T15:53:54.319611Z",
     "iopub.status.busy": "2025-09-29T15:53:54.319316Z",
     "iopub.status.idle": "2025-09-29T15:53:55.957163Z",
     "shell.execute_reply": "2025-09-29T15:53:55.956660Z"
    }
   },
   "outputs": [],
   "source": [
    "q = \"Mkt-RF\"\n",
    "c = \"united_government\"\n",
    "\n",
    "dfs = {\n",
    "    c: df.assign(**{c: lambda x: x[c].apply(str)})\n",
    "    .set_index(c, append=True)[q]\n",
    "    .unstack()\n",
    "    .fillna(0)\n",
    "    .join(ret[q])\n",
    "    for c in vars\n",
    "}\n",
    "\n",
    "fig, ax = plt.subplots(1, 2, figsize=(20, 8))\n",
    "for i, (k, v) in enumerate(dfs.items()):\n",
    "    line(v, cumsum=True, title=k, ax=ax[i], loc=\"best\")"
   ]
  }
 ],
 "metadata": {
  "kernelspec": {
   "display_name": "skfin 2024",
   "language": "python",
   "name": "skfin"
  },
  "language_info": {
   "codemirror_mode": {
    "name": "ipython",
    "version": 3
   },
   "file_extension": ".py",
   "mimetype": "text/x-python",
   "name": "python",
   "nbconvert_exporter": "python",
   "pygments_lexer": "ipython3",
   "version": "3.9.20"
  },
  "toc": {
   "base_numbering": 1
  }
 },
 "nbformat": 4,
 "nbformat_minor": 5
}
