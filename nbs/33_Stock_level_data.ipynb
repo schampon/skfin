{
 "cells": [
  {
   "cell_type": "markdown",
   "id": "6858aa59-3670-4fbf-a7ae-540dc987fad1",
   "metadata": {
    "editable": true,
    "slideshow": {
     "slide_type": ""
    },
    "tags": []
   },
   "source": [
    "# Data Challenges in Calculating Historical Stock Returns"
   ]
  },
  {
   "cell_type": "code",
   "execution_count": null,
   "id": "b51fbd15-6143-4ef0-a6ef-8cf04e834ee3",
   "metadata": {
    "execution": {
     "iopub.execute_input": "2025-09-29T15:50:24.062524Z",
     "iopub.status.busy": "2025-09-29T15:50:24.062314Z",
     "iopub.status.idle": "2025-09-29T15:50:24.068019Z",
     "shell.execute_reply": "2025-09-29T15:50:24.067479Z"
    }
   },
   "outputs": [],
   "source": [
    "# hide\n",
    "import logging\n",
    "\n",
    "logging.getLogger(\"yfinance\").setLevel(logging.CRITICAL)"
   ]
  },
  {
   "cell_type": "code",
   "execution_count": null,
   "id": "045b70f4-2f43-432d-9617-89529e705c6c",
   "metadata": {
    "editable": true,
    "execution": {
     "iopub.execute_input": "2025-09-29T15:50:24.069749Z",
     "iopub.status.busy": "2025-09-29T15:50:24.069547Z",
     "iopub.status.idle": "2025-09-29T15:50:25.664057Z",
     "shell.execute_reply": "2025-09-29T15:50:25.663372Z"
    },
    "slideshow": {
     "slide_type": ""
    },
    "tags": []
   },
   "outputs": [],
   "source": [
    "import pandas as pd\n",
    "from skfin.plot import *\n",
    "from tqdm.auto import tqdm"
   ]
  },
  {
   "cell_type": "markdown",
   "id": "0fbbd48e-3c6b-4965-9b90-f0997b11a97e",
   "metadata": {},
   "source": [
    "In this section, we discuss two issues related to stock data:\n",
    "- survivorship bias\n",
    "- matching datasets (e.g. tickers and company names). \n",
    "\n",
    "Survivorship bias in data analysis refers to the error that occurs when only the \"surviving\" or currently existing subjects are considered, while those that have ceased to exist or dropped out are ignored. This leads to overly optimistic results and conclusions because the analysis does not account for entities that failed, exited, or disappeared from the sample. For example, in financial studies, analyzing only funds that exist today ignores those that closed down due to poor performance, thereby distorting performance statistics.\n",
    "\n",
    "Matching stock tickers and company names presents several challenges. First, ticker symbols can change over time due to corporate actions such as mergers, acquisitions, or rebranding, making it difficult to maintain a consistent mapping. Additionally, different stock exchanges may assign the same or similar tickers to entirely different companies, leading to ambiguity, especially in multinational datasets. Company names themselves can vary due to abbreviations, punctuation, company suffixes (like Inc., Corp., Ltd.), or changes following corporate events. Name spelling differences, typographical errors, and the use of aliases or former names further complicate matching. "
   ]
  },
  {
   "cell_type": "markdown",
   "id": "6ffca7e9-20ab-41c1-af8c-1efe3ff51b03",
   "metadata": {},
   "source": [
    "## Returns data "
   ]
  },
  {
   "cell_type": "markdown",
   "id": "81430c3e-4613-4b10-bc90-1a59a5ef54eb",
   "metadata": {},
   "source": [
    "### Scikit-learn returns"
   ]
  },
  {
   "cell_type": "markdown",
   "id": "47dd9cbf-411f-4043-a56b-6a6c1947dfa7",
   "metadata": {},
   "source": [
    "The main issue with this dataset compiled by `Scikit-learn` is we have no information on how the returns were constructed (and how the stocks were chosen at the time). "
   ]
  },
  {
   "cell_type": "code",
   "execution_count": null,
   "id": "f4fa3464-2e86-41fb-b661-66af45330498",
   "metadata": {
    "execution": {
     "iopub.execute_input": "2025-09-29T15:50:25.666443Z",
     "iopub.status.busy": "2025-09-29T15:50:25.666096Z",
     "iopub.status.idle": "2025-09-29T15:50:25.823708Z",
     "shell.execute_reply": "2025-09-29T15:50:25.823082Z"
    }
   },
   "outputs": [],
   "source": [
    "from skfin.dataloaders.constants.mappings import symbol_dict\n",
    "from skfin.datasets_ import load_sklearn_stock_returns\n",
    "\n",
    "clip = lambda x: x.T.clip(\n",
    "    lower=x.quantile(q=0.01, axis=0), upper=x.quantile(0.99, axis=0), axis=0\n",
    ").T\n",
    "rescale = lambda x: x.div(x.std())"
   ]
  },
  {
   "cell_type": "code",
   "execution_count": null,
   "id": "bfab1b5e-29f9-433d-baee-045427b728bb",
   "metadata": {
    "execution": {
     "iopub.execute_input": "2025-09-29T15:50:25.825688Z",
     "iopub.status.busy": "2025-09-29T15:50:25.825374Z",
     "iopub.status.idle": "2025-09-29T15:50:25.878789Z",
     "shell.execute_reply": "2025-09-29T15:50:25.878160Z"
    }
   },
   "outputs": [],
   "source": [
    "ret = load_sklearn_stock_returns(cache_dir=\"data\") / 100\n",
    "ret_clip = ret.pipe(clip)"
   ]
  },
  {
   "cell_type": "markdown",
   "id": "cbac0cd2-50f2-4f08-a533-515963a6b530",
   "metadata": {},
   "source": [
    "### Yahoo finance returns"
   ]
  },
  {
   "cell_type": "markdown",
   "id": "24f6d7a3-2fd1-499e-b2f7-70a53c94ae70",
   "metadata": {},
   "source": [
    "The main issue with Yahoo finnace returns is the survivorship bias because the deslisted firms are no longer available in the past."
   ]
  },
  {
   "cell_type": "code",
   "execution_count": null,
   "id": "4e13d5b6-a231-4366-98fb-1db392dc4228",
   "metadata": {
    "execution": {
     "iopub.execute_input": "2025-09-29T15:50:25.880787Z",
     "iopub.status.busy": "2025-09-29T15:50:25.880552Z",
     "iopub.status.idle": "2025-09-29T15:50:26.189929Z",
     "shell.execute_reply": "2025-09-29T15:50:26.189300Z"
    }
   },
   "outputs": [],
   "source": [
    "import yfinance as yf"
   ]
  },
  {
   "cell_type": "code",
   "execution_count": null,
   "id": "ac58a216-07bb-4e1b-a9c0-a024e545b59c",
   "metadata": {
    "execution": {
     "iopub.execute_input": "2025-09-29T15:50:26.191913Z",
     "iopub.status.busy": "2025-09-29T15:50:26.191588Z",
     "iopub.status.idle": "2025-09-29T15:50:26.195575Z",
     "shell.execute_reply": "2025-09-29T15:50:26.195019Z"
    }
   },
   "outputs": [],
   "source": [
    "tickers = list(symbol_dict.keys())\n",
    "start, end = ret.index[0].strftime(\"%Y-%m-%d\"), ret.index[-1].strftime(\"%Y-%m-%d\")"
   ]
  },
  {
   "cell_type": "code",
   "execution_count": null,
   "id": "e3dcf6f7-aedc-4bc9-a36c-ee5d99a05d7c",
   "metadata": {
    "execution": {
     "iopub.execute_input": "2025-09-29T15:50:26.197252Z",
     "iopub.status.busy": "2025-09-29T15:50:26.197023Z",
     "iopub.status.idle": "2025-09-29T15:50:28.311188Z",
     "shell.execute_reply": "2025-09-29T15:50:28.310505Z"
    }
   },
   "outputs": [],
   "source": [
    "data = yf.download(tickers, start=start, end=end, auto_adjust=True, progress=False)\n",
    "data = data.dropna(how=\"all\", axis=1)"
   ]
  },
  {
   "cell_type": "code",
   "execution_count": null,
   "id": "87880e95-8428-49f5-b71b-c771f6643621",
   "metadata": {
    "execution": {
     "iopub.execute_input": "2025-09-29T15:50:28.313590Z",
     "iopub.status.busy": "2025-09-29T15:50:28.313304Z",
     "iopub.status.idle": "2025-09-29T15:50:48.835524Z",
     "shell.execute_reply": "2025-09-29T15:50:48.834833Z"
    }
   },
   "outputs": [],
   "source": [
    "tickers_ = data.columns.get_level_values(1).unique()\n",
    "dividends = {}\n",
    "for ticker in tickers_:\n",
    "    stock = yf.Ticker(ticker)\n",
    "    div = stock.dividends[start:end]\n",
    "    if div.dtype == \"O\":\n",
    "        div = div.str.replace(\" USD\", \"\").astype(float)\n",
    "    dividends[ticker] = div\n",
    "\n",
    "div = (\n",
    "    pd.concat(dividends, axis=1)\n",
    "    .pipe(lambda x: x.set_index(x.index.tz_localize(None)))\n",
    "    .reindex_like(data[\"Close\"])\n",
    "    .fillna(0)\n",
    "    .astype(float)\n",
    "    .div(data[\"Close\"])\n",
    ")"
   ]
  },
  {
   "cell_type": "markdown",
   "id": "ce3224d6-8030-4e87-b066-bcc3e0e738d8",
   "metadata": {
    "editable": true,
    "slideshow": {
     "slide_type": ""
    },
    "tags": []
   },
   "source": [
    "## Survivorship bias and non-US firms"
   ]
  },
  {
   "cell_type": "code",
   "execution_count": null,
   "id": "62e7a977-60c3-4054-ad26-db813ce67f8d",
   "metadata": {
    "execution": {
     "iopub.execute_input": "2025-09-29T15:50:48.837877Z",
     "iopub.status.busy": "2025-09-29T15:50:48.837604Z",
     "iopub.status.idle": "2025-09-29T15:50:48.843818Z",
     "shell.execute_reply": "2025-09-29T15:50:48.843255Z"
    }
   },
   "outputs": [],
   "source": [
    "cols = [\"CAJ\", \"SNE\", \"UN\", \"NAV\", \"TOT\", \"RTN\", \"DELL\", \"YHOO\", \"CVC\"]\n",
    "{c: symbol_dict[c] for c in cols}"
   ]
  },
  {
   "cell_type": "code",
   "execution_count": null,
   "id": "37247ee5-1c4f-47a5-a93d-eab40b03cd3a",
   "metadata": {
    "execution": {
     "iopub.execute_input": "2025-09-29T15:50:48.845556Z",
     "iopub.status.busy": "2025-09-29T15:50:48.845327Z",
     "iopub.status.idle": "2025-09-29T15:50:49.488395Z",
     "shell.execute_reply": "2025-09-29T15:50:49.487773Z"
    }
   },
   "outputs": [],
   "source": [
    "fig, ax = plt.subplots(1, 2, figsize=(15, 5))\n",
    "line(ret[cols], cumsum=True, ax=ax[0], title=\"Unclipped returns\", loc=\"best\")\n",
    "line(ret_clip[cols], cumsum=True, ax=ax[1], title=\"Clipped returns\", loc=\"best\")"
   ]
  },
  {
   "cell_type": "markdown",
   "id": "e64f2815-961e-432c-8502-41e18bda38d1",
   "metadata": {},
   "source": [
    "### Dirty data and jumps "
   ]
  },
  {
   "cell_type": "markdown",
   "id": "01cc9a85-89f1-432e-bacb-bb86999e28b8",
   "metadata": {},
   "source": [
    "Total returns are defined as: \n",
    "\n",
    "$$ total\\_returns_t = \\frac{price_t + dividend_t - price_{t-1}}{price_{t-1}}.$$ \n",
    "\n",
    "Adjustments are necessary when there are stock splits (or reverse splits) that alter the number of shares outstanding and the nominal price per share."
   ]
  },
  {
   "cell_type": "code",
   "execution_count": null,
   "id": "460fb3ef-8059-4927-9555-4ee259f859e6",
   "metadata": {
    "execution": {
     "iopub.execute_input": "2025-09-29T15:50:49.490656Z",
     "iopub.status.busy": "2025-09-29T15:50:49.490413Z",
     "iopub.status.idle": "2025-09-29T15:50:49.494740Z",
     "shell.execute_reply": "2025-09-29T15:50:49.494192Z"
    }
   },
   "outputs": [],
   "source": [
    "data.columns.get_level_values(0).unique()"
   ]
  },
  {
   "cell_type": "code",
   "execution_count": null,
   "id": "e93e6e3b-ca0b-4e46-a337-d41ff1d619d4",
   "metadata": {
    "execution": {
     "iopub.execute_input": "2025-09-29T15:50:49.496437Z",
     "iopub.status.busy": "2025-09-29T15:50:49.496221Z",
     "iopub.status.idle": "2025-09-29T15:50:49.510804Z",
     "shell.execute_reply": "2025-09-29T15:50:49.510191Z"
    }
   },
   "outputs": [],
   "source": [
    "pret = data[\"Close\"].pct_change().dropna(how=\"all\", axis=1)\n",
    "tret = pret.add(div)"
   ]
  },
  {
   "cell_type": "code",
   "execution_count": null,
   "id": "aef2453e-f3e3-4b2c-b567-720b1f3c7349",
   "metadata": {
    "execution": {
     "iopub.execute_input": "2025-09-29T15:50:49.512435Z",
     "iopub.status.busy": "2025-09-29T15:50:49.512218Z",
     "iopub.status.idle": "2025-09-29T15:50:49.518301Z",
     "shell.execute_reply": "2025-09-29T15:50:49.517756Z"
    }
   },
   "outputs": [],
   "source": [
    "rets = {\n",
    "    \"price returns\": pret,\n",
    "    \"total returns\": tret,\n",
    "}"
   ]
  },
  {
   "cell_type": "code",
   "execution_count": null,
   "id": "927c6798-700b-42a2-bfc2-87ef1eee7a93",
   "metadata": {
    "execution": {
     "iopub.execute_input": "2025-09-29T15:50:49.520055Z",
     "iopub.status.busy": "2025-09-29T15:50:49.519658Z",
     "iopub.status.idle": "2025-09-29T15:50:49.545676Z",
     "shell.execute_reply": "2025-09-29T15:50:49.545109Z"
    }
   },
   "outputs": [],
   "source": [
    "axis = 0\n",
    "pd.DataFrame({k: v.corrwith(ret, axis=axis) for k, v in rets.items()}).mean()"
   ]
  },
  {
   "cell_type": "code",
   "execution_count": null,
   "id": "7d38eb04-50c6-4fbc-97cb-a178fdbfed62",
   "metadata": {
    "execution": {
     "iopub.execute_input": "2025-09-29T15:50:49.547396Z",
     "iopub.status.busy": "2025-09-29T15:50:49.547159Z",
     "iopub.status.idle": "2025-09-29T15:50:49.566389Z",
     "shell.execute_reply": "2025-09-29T15:50:49.565824Z"
    }
   },
   "outputs": [],
   "source": [
    "axis = 0\n",
    "pd.DataFrame({k: v.corrwith(ret_clip, axis=axis) for k, v in rets.items()}).mean()"
   ]
  },
  {
   "cell_type": "code",
   "execution_count": null,
   "id": "2dfa5ef0-c522-4349-9e0a-a734f93c7e9d",
   "metadata": {
    "editable": true,
    "execution": {
     "iopub.execute_input": "2025-09-29T15:50:49.568051Z",
     "iopub.status.busy": "2025-09-29T15:50:49.567825Z",
     "iopub.status.idle": "2025-09-29T15:50:50.622951Z",
     "shell.execute_reply": "2025-09-29T15:50:50.622319Z"
    },
    "slideshow": {
     "slide_type": ""
    },
    "tags": []
   },
   "outputs": [],
   "source": [
    "cols = [\"IBM\", \"AAPL\", \"BAC\", \"JPM\", \"WFC\", \"PG\"]\n",
    "fig, axs = plt.subplots(2, 3, figsize=(20, 8))\n",
    "axs = axs.ravel()\n",
    "for i, c in enumerate(cols):\n",
    "    line(\n",
    "        pd.concat(\n",
    "            {\n",
    "                \"pret (yfinance)\": pret[c],\n",
    "                \"tret (yfinance)\": tret[c],\n",
    "                \"sklearn\": ret[c],\n",
    "                \"sklearn (clipped)\": ret_clip[c],\n",
    "            },\n",
    "            axis=1,\n",
    "        )\n",
    "        .fillna(0)\n",
    "        .pipe(rescale),\n",
    "        cumsum=True,\n",
    "        title=c,\n",
    "        ax=axs[i],\n",
    "        loc=\"best\",\n",
    "    )"
   ]
  },
  {
   "cell_type": "markdown",
   "id": "2b22cb2c-5705-42aa-b10b-5a71436af695",
   "metadata": {},
   "source": [
    "## Matching to other datasets "
   ]
  },
  {
   "cell_type": "markdown",
   "id": "4f78e709-1543-4108-a6d8-b5740228ea5a",
   "metadata": {
    "editable": true,
    "slideshow": {
     "slide_type": ""
    },
    "tags": []
   },
   "source": [
    "Matching company names is often a time-consuming task: below we use the package `rapidfuzz` to check the candidate matches. "
   ]
  },
  {
   "cell_type": "code",
   "execution_count": null,
   "id": "1457d530-122b-4fa9-ba8b-fcd60a29a8e3",
   "metadata": {
    "editable": true,
    "execution": {
     "iopub.execute_input": "2025-09-29T15:50:50.625794Z",
     "iopub.status.busy": "2025-09-29T15:50:50.625546Z",
     "iopub.status.idle": "2025-09-29T15:50:54.197902Z",
     "shell.execute_reply": "2025-09-29T15:50:54.197190Z"
    },
    "slideshow": {
     "slide_type": ""
    },
    "tags": []
   },
   "outputs": [],
   "source": [
    "from skfin.datasets_ import load_10X_summaries\n",
    "from skfin.dataloaders.constants.mappings import mapping_10X\n",
    "\n",
    "df = load_10X_summaries()"
   ]
  },
  {
   "cell_type": "code",
   "execution_count": null,
   "id": "16b58588-a67c-4914-8bb2-5375878ab7ad",
   "metadata": {
    "execution": {
     "iopub.execute_input": "2025-09-29T15:50:54.200048Z",
     "iopub.status.busy": "2025-09-29T15:50:54.199767Z",
     "iopub.status.idle": "2025-09-29T15:50:54.636004Z",
     "shell.execute_reply": "2025-09-29T15:50:54.635366Z"
    }
   },
   "outputs": [],
   "source": [
    "v = mapping_10X[\"CVC\"]\n",
    "print(v)\n",
    "df.loc[lambda x: x.CoName.isin(v if isinstance(v, list) else [v])].loc[\n",
    "    ret.index[0] : ret.index[-1]\n",
    "].loc[\"2006\"].iloc[:, :10]"
   ]
  },
  {
   "cell_type": "code",
   "execution_count": null,
   "id": "bce01a24-c1b9-4cdf-8558-71d10e1d4bbe",
   "metadata": {
    "editable": true,
    "execution": {
     "iopub.execute_input": "2025-09-29T15:50:54.637959Z",
     "iopub.status.busy": "2025-09-29T15:50:54.637674Z",
     "iopub.status.idle": "2025-09-29T15:50:55.943199Z",
     "shell.execute_reply": "2025-09-29T15:50:55.942560Z"
    },
    "slideshow": {
     "slide_type": ""
    },
    "tags": []
   },
   "outputs": [],
   "source": [
    "CoName = list(\n",
    "    df.assign(CoName=lambda x: x.CoName.str.upper())\n",
    "    .groupby([\"date\", \"CoName\"])[\"FILING_DATE\"]\n",
    "    .count()\n",
    "    .loc[ret.index[0] : ret.index[-1]]\n",
    "    .groupby(level=1)\n",
    "    .count()\n",
    "    .index\n",
    ")\n",
    "\n",
    "from rapidfuzz import fuzz\n",
    "\n",
    "pd.Series({c: fuzz.token_set_ratio(\"CABLEVISION\", c) for c in CoName}).sort_values(\n",
    "    ascending=False\n",
    ").head(5)"
   ]
  }
 ],
 "metadata": {
  "kernelspec": {
   "display_name": "skfin 2024",
   "language": "python",
   "name": "skfin"
  },
  "language_info": {
   "codemirror_mode": {
    "name": "ipython",
    "version": 3
   },
   "file_extension": ".py",
   "mimetype": "text/x-python",
   "name": "python",
   "nbconvert_exporter": "python",
   "pygments_lexer": "ipython3",
   "version": "3.9.20"
  },
  "toc": {
   "base_numbering": 1
  },
  "widgets": {
   "application/vnd.jupyter.widget-state+json": {
    "state": {
     "10dac89391e0438eba5e8e24b939ccb9": {
      "model_module": "@jupyter-widgets/controls",
      "model_module_version": "2.0.0",
      "model_name": "HTMLModel",
      "state": {
       "_dom_classes": [],
       "_model_module": "@jupyter-widgets/controls",
       "_model_module_version": "2.0.0",
       "_model_name": "HTMLModel",
       "_view_count": null,
       "_view_module": "@jupyter-widgets/controls",
       "_view_module_version": "2.0.0",
       "_view_name": "HTMLView",
       "description": "",
       "description_allow_html": false,
       "layout": "IPY_MODEL_a1c3bca34f5a4b31b0be2350566b5896",
       "placeholder": "​",
       "style": "IPY_MODEL_69b0543709a747b4aa5b5b6607f4bbd3",
       "tabbable": null,
       "tooltip": null,
       "value": " 47/47 [00:19&lt;00:00,  2.20it/s]"
      }
     },
     "29497386b2914952865aa5261a04a4ca": {
      "model_module": "@jupyter-widgets/base",
      "model_module_version": "2.0.0",
      "model_name": "LayoutModel",
      "state": {
       "_model_module": "@jupyter-widgets/base",
       "_model_module_version": "2.0.0",
       "_model_name": "LayoutModel",
       "_view_count": null,
       "_view_module": "@jupyter-widgets/base",
       "_view_module_version": "2.0.0",
       "_view_name": "LayoutView",
       "align_content": null,
       "align_items": null,
       "align_self": null,
       "border_bottom": null,
       "border_left": null,
       "border_right": null,
       "border_top": null,
       "bottom": null,
       "display": null,
       "flex": null,
       "flex_flow": null,
       "grid_area": null,
       "grid_auto_columns": null,
       "grid_auto_flow": null,
       "grid_auto_rows": null,
       "grid_column": null,
       "grid_gap": null,
       "grid_row": null,
       "grid_template_areas": null,
       "grid_template_columns": null,
       "grid_template_rows": null,
       "height": null,
       "justify_content": null,
       "justify_items": null,
       "left": null,
       "margin": null,
       "max_height": null,
       "max_width": null,
       "min_height": null,
       "min_width": null,
       "object_fit": null,
       "object_position": null,
       "order": null,
       "overflow": null,
       "padding": null,
       "right": null,
       "top": null,
       "visibility": null,
       "width": null
      }
     },
     "2ca471d557554902954cc0026b676e1d": {
      "model_module": "@jupyter-widgets/controls",
      "model_module_version": "2.0.0",
      "model_name": "HTMLModel",
      "state": {
       "_dom_classes": [],
       "_model_module": "@jupyter-widgets/controls",
       "_model_module_version": "2.0.0",
       "_model_name": "HTMLModel",
       "_view_count": null,
       "_view_module": "@jupyter-widgets/controls",
       "_view_module_version": "2.0.0",
       "_view_name": "HTMLView",
       "description": "",
       "description_allow_html": false,
       "layout": "IPY_MODEL_61158b336e664e73a37f290417373281",
       "placeholder": "​",
       "style": "IPY_MODEL_c719319524244430b8c1f63c95a60452",
       "tabbable": null,
       "tooltip": null,
       "value": "100%"
      }
     },
     "61158b336e664e73a37f290417373281": {
      "model_module": "@jupyter-widgets/base",
      "model_module_version": "2.0.0",
      "model_name": "LayoutModel",
      "state": {
       "_model_module": "@jupyter-widgets/base",
       "_model_module_version": "2.0.0",
       "_model_name": "LayoutModel",
       "_view_count": null,
       "_view_module": "@jupyter-widgets/base",
       "_view_module_version": "2.0.0",
       "_view_name": "LayoutView",
       "align_content": null,
       "align_items": null,
       "align_self": null,
       "border_bottom": null,
       "border_left": null,
       "border_right": null,
       "border_top": null,
       "bottom": null,
       "display": null,
       "flex": null,
       "flex_flow": null,
       "grid_area": null,
       "grid_auto_columns": null,
       "grid_auto_flow": null,
       "grid_auto_rows": null,
       "grid_column": null,
       "grid_gap": null,
       "grid_row": null,
       "grid_template_areas": null,
       "grid_template_columns": null,
       "grid_template_rows": null,
       "height": null,
       "justify_content": null,
       "justify_items": null,
       "left": null,
       "margin": null,
       "max_height": null,
       "max_width": null,
       "min_height": null,
       "min_width": null,
       "object_fit": null,
       "object_position": null,
       "order": null,
       "overflow": null,
       "padding": null,
       "right": null,
       "top": null,
       "visibility": null,
       "width": null
      }
     },
     "69b0543709a747b4aa5b5b6607f4bbd3": {
      "model_module": "@jupyter-widgets/controls",
      "model_module_version": "2.0.0",
      "model_name": "HTMLStyleModel",
      "state": {
       "_model_module": "@jupyter-widgets/controls",
       "_model_module_version": "2.0.0",
       "_model_name": "HTMLStyleModel",
       "_view_count": null,
       "_view_module": "@jupyter-widgets/base",
       "_view_module_version": "2.0.0",
       "_view_name": "StyleView",
       "background": null,
       "description_width": "",
       "font_size": null,
       "text_color": null
      }
     },
     "7f59a65f76a14ab9bc2b274c39b191fd": {
      "model_module": "@jupyter-widgets/controls",
      "model_module_version": "2.0.0",
      "model_name": "ProgressStyleModel",
      "state": {
       "_model_module": "@jupyter-widgets/controls",
       "_model_module_version": "2.0.0",
       "_model_name": "ProgressStyleModel",
       "_view_count": null,
       "_view_module": "@jupyter-widgets/base",
       "_view_module_version": "2.0.0",
       "_view_name": "StyleView",
       "bar_color": null,
       "description_width": ""
      }
     },
     "a1c3bca34f5a4b31b0be2350566b5896": {
      "model_module": "@jupyter-widgets/base",
      "model_module_version": "2.0.0",
      "model_name": "LayoutModel",
      "state": {
       "_model_module": "@jupyter-widgets/base",
       "_model_module_version": "2.0.0",
       "_model_name": "LayoutModel",
       "_view_count": null,
       "_view_module": "@jupyter-widgets/base",
       "_view_module_version": "2.0.0",
       "_view_name": "LayoutView",
       "align_content": null,
       "align_items": null,
       "align_self": null,
       "border_bottom": null,
       "border_left": null,
       "border_right": null,
       "border_top": null,
       "bottom": null,
       "display": null,
       "flex": null,
       "flex_flow": null,
       "grid_area": null,
       "grid_auto_columns": null,
       "grid_auto_flow": null,
       "grid_auto_rows": null,
       "grid_column": null,
       "grid_gap": null,
       "grid_row": null,
       "grid_template_areas": null,
       "grid_template_columns": null,
       "grid_template_rows": null,
       "height": null,
       "justify_content": null,
       "justify_items": null,
       "left": null,
       "margin": null,
       "max_height": null,
       "max_width": null,
       "min_height": null,
       "min_width": null,
       "object_fit": null,
       "object_position": null,
       "order": null,
       "overflow": null,
       "padding": null,
       "right": null,
       "top": null,
       "visibility": null,
       "width": null
      }
     },
     "b605ee690aed479391c2ebaf39081643": {
      "model_module": "@jupyter-widgets/controls",
      "model_module_version": "2.0.0",
      "model_name": "FloatProgressModel",
      "state": {
       "_dom_classes": [],
       "_model_module": "@jupyter-widgets/controls",
       "_model_module_version": "2.0.0",
       "_model_name": "FloatProgressModel",
       "_view_count": null,
       "_view_module": "@jupyter-widgets/controls",
       "_view_module_version": "2.0.0",
       "_view_name": "ProgressView",
       "bar_style": "success",
       "description": "",
       "description_allow_html": false,
       "layout": "IPY_MODEL_eda02a536f644c899ba7721a229a4eb5",
       "max": 47,
       "min": 0,
       "orientation": "horizontal",
       "style": "IPY_MODEL_7f59a65f76a14ab9bc2b274c39b191fd",
       "tabbable": null,
       "tooltip": null,
       "value": 47
      }
     },
     "c719319524244430b8c1f63c95a60452": {
      "model_module": "@jupyter-widgets/controls",
      "model_module_version": "2.0.0",
      "model_name": "HTMLStyleModel",
      "state": {
       "_model_module": "@jupyter-widgets/controls",
       "_model_module_version": "2.0.0",
       "_model_name": "HTMLStyleModel",
       "_view_count": null,
       "_view_module": "@jupyter-widgets/base",
       "_view_module_version": "2.0.0",
       "_view_name": "StyleView",
       "background": null,
       "description_width": "",
       "font_size": null,
       "text_color": null
      }
     },
     "eda02a536f644c899ba7721a229a4eb5": {
      "model_module": "@jupyter-widgets/base",
      "model_module_version": "2.0.0",
      "model_name": "LayoutModel",
      "state": {
       "_model_module": "@jupyter-widgets/base",
       "_model_module_version": "2.0.0",
       "_model_name": "LayoutModel",
       "_view_count": null,
       "_view_module": "@jupyter-widgets/base",
       "_view_module_version": "2.0.0",
       "_view_name": "LayoutView",
       "align_content": null,
       "align_items": null,
       "align_self": null,
       "border_bottom": null,
       "border_left": null,
       "border_right": null,
       "border_top": null,
       "bottom": null,
       "display": null,
       "flex": null,
       "flex_flow": null,
       "grid_area": null,
       "grid_auto_columns": null,
       "grid_auto_flow": null,
       "grid_auto_rows": null,
       "grid_column": null,
       "grid_gap": null,
       "grid_row": null,
       "grid_template_areas": null,
       "grid_template_columns": null,
       "grid_template_rows": null,
       "height": null,
       "justify_content": null,
       "justify_items": null,
       "left": null,
       "margin": null,
       "max_height": null,
       "max_width": null,
       "min_height": null,
       "min_width": null,
       "object_fit": null,
       "object_position": null,
       "order": null,
       "overflow": null,
       "padding": null,
       "right": null,
       "top": null,
       "visibility": null,
       "width": null
      }
     },
     "f61e4997d9964e40bfb103add9c171e0": {
      "model_module": "@jupyter-widgets/controls",
      "model_module_version": "2.0.0",
      "model_name": "HBoxModel",
      "state": {
       "_dom_classes": [],
       "_model_module": "@jupyter-widgets/controls",
       "_model_module_version": "2.0.0",
       "_model_name": "HBoxModel",
       "_view_count": null,
       "_view_module": "@jupyter-widgets/controls",
       "_view_module_version": "2.0.0",
       "_view_name": "HBoxView",
       "box_style": "",
       "children": [
        "IPY_MODEL_2ca471d557554902954cc0026b676e1d",
        "IPY_MODEL_b605ee690aed479391c2ebaf39081643",
        "IPY_MODEL_10dac89391e0438eba5e8e24b939ccb9"
       ],
       "layout": "IPY_MODEL_29497386b2914952865aa5261a04a4ca",
       "tabbable": null,
       "tooltip": null
      }
     }
    },
    "version_major": 2,
    "version_minor": 0
   }
  }
 },
 "nbformat": 4,
 "nbformat_minor": 5
}
