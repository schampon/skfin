{
 "cells": [
  {
   "cell_type": "markdown",
   "metadata": {},
   "source": [
    "# Corporate sentiment"
   ]
  },
  {
   "cell_type": "code",
   "execution_count": null,
   "metadata": {
    "execution": {
     "iopub.execute_input": "2024-11-07T17:04:05.588817Z",
     "iopub.status.busy": "2024-11-07T17:04:05.588397Z",
     "iopub.status.idle": "2024-11-07T17:04:07.008591Z",
     "shell.execute_reply": "2024-11-07T17:04:07.007909Z"
    }
   },
   "outputs": [],
   "source": [
    "# hide\n",
    "%load_ext autoreload\n",
    "%autoreload 2\n",
    "%matplotlib inline\n",
    "\n",
    "from datetime import date\n",
    "from pathlib import Path\n",
    "\n",
    "import pandas as pd\n",
    "from matplotlib import pyplot as plt\n",
    "from skfin.plot import bar, line\n",
    "from tqdm.auto import tqdm"
   ]
  },
  {
   "cell_type": "markdown",
   "metadata": {},
   "source": [
    "In this section, we describe two strategies to measure sentiment in text. A first strategy is based a dictionary of positive and negative words: simple word counts capture the polarity of the document. A second strategy relies on fitting a linear model with target as returns and features as word counts: in this case, the sign and amplitude of the learned coefficients is used to determined the document sentiment. \n",
    "\n",
    "Two main papers: \n",
    "\n",
    "- Loughran and McDonald (2011): \"When is a Liability not a Liability? Textual Analysis, Dictionaries and 10-Ks,\" *Journal of Finance*\n",
    "- Jegadeesh and Wu (2013): \"Word Power: A New Approach for Content Analysis,\" *Journal of Financial Economics*"
   ]
  },
  {
   "cell_type": "markdown",
   "metadata": {},
   "source": [
    "## Rule-based sentiment"
   ]
  },
  {
   "cell_type": "code",
   "execution_count": null,
   "metadata": {
    "execution": {
     "iopub.execute_input": "2024-11-07T17:04:07.011783Z",
     "iopub.status.busy": "2024-11-07T17:04:07.011359Z",
     "iopub.status.idle": "2024-11-07T17:04:07.033935Z",
     "shell.execute_reply": "2024-11-07T17:04:07.033367Z"
    }
   },
   "outputs": [],
   "source": [
    "# hide\n",
    "from IPython.display import Image, display"
   ]
  },
  {
   "cell_type": "markdown",
   "metadata": {},
   "source": [
    "Loughran-McDonalds (2011): textual analysis in finance/accounting to examine the tone and sentiment of corporate 10-K reports. Two statements: \n",
    "\n",
    "1. a Finance-specific dictionary of negative words matters\n",
    "1. weighting (e.g. tf.idf weights) matters\n",
    "\n",
    "\n",
    " Bag of words method: parse the 10-K documents into vectors of words and word counts.\n",
    " \n",
    "- Dictionaries: http://www3.nd.edu/~mcdonald/Word_Lists.html: \n",
    "- sentiment negative and positive words\n",
    "- uncertainty (e.g. approximate, contingency, depend, fluctuate, indefinite, uncertain, and variability)\n",
    "- litigation (e.g. claimant, deposition, interlocutory, testimony, and tort.)\n",
    "- modal words are related to levels of confidence: strong modal words (e.g. always, highest, must, and will) and weak model words (e.g. could, depending, might)"
   ]
  },
  {
   "cell_type": "markdown",
   "metadata": {},
   "source": [
    "The table below shows the most frequent sentiment words in the full 10-K document in the \"Management Discussion and Analysis\" subsection. "
   ]
  },
  {
   "cell_type": "code",
   "execution_count": null,
   "metadata": {
    "execution": {
     "iopub.execute_input": "2024-11-07T17:04:07.036224Z",
     "iopub.status.busy": "2024-11-07T17:04:07.035876Z",
     "iopub.status.idle": "2024-11-07T17:04:07.067597Z",
     "shell.execute_reply": "2024-11-07T17:04:07.067168Z"
    }
   },
   "outputs": [],
   "source": [
    "# hide\n",
    "display(Image(\"images/loughran_table3.png\", width=500))"
   ]
  },
  {
   "cell_type": "markdown",
   "metadata": {},
   "source": [
    "The following table shows that sentiment words reprenet about 1% of all words. In these sections, there are more words deemed negative (mean=1.39%) than positive (mean=0.75%). "
   ]
  },
  {
   "cell_type": "code",
   "execution_count": null,
   "metadata": {
    "execution": {
     "iopub.execute_input": "2024-11-07T17:04:07.099421Z",
     "iopub.status.busy": "2024-11-07T17:04:07.099179Z",
     "iopub.status.idle": "2024-11-07T17:04:07.122143Z",
     "shell.execute_reply": "2024-11-07T17:04:07.121728Z"
    }
   },
   "outputs": [],
   "source": [
    "# hide\n",
    "display(Image(\"images/l7_loughran.PNG\", width=350))"
   ]
  },
  {
   "cell_type": "markdown",
   "metadata": {},
   "source": [
    "The following table shows the predictibility of sentiment for 4-day forward value-weighted excess return (1994-2008). More precisely, the `Fin-Neg` (negative) sentiment predicts returns with a t-stat from -2.64 to -3.11 after controlling for risk factors. "
   ]
  },
  {
   "cell_type": "code",
   "execution_count": null,
   "metadata": {
    "execution": {
     "iopub.execute_input": "2024-11-07T17:04:07.124154Z",
     "iopub.status.busy": "2024-11-07T17:04:07.123899Z",
     "iopub.status.idle": "2024-11-07T17:04:07.147625Z",
     "shell.execute_reply": "2024-11-07T17:04:07.147241Z"
    }
   },
   "outputs": [],
   "source": [
    "# hide\n",
    "display(Image(\"images/loughran_table4.png\", width=500))"
   ]
  },
  {
   "cell_type": "markdown",
   "metadata": {},
   "source": [
    "The table below shows the same results for several word dictionaries. "
   ]
  },
  {
   "cell_type": "code",
   "execution_count": null,
   "metadata": {
    "execution": {
     "iopub.execute_input": "2024-11-07T17:04:07.149703Z",
     "iopub.status.busy": "2024-11-07T17:04:07.149367Z",
     "iopub.status.idle": "2024-11-07T17:04:07.171030Z",
     "shell.execute_reply": "2024-11-07T17:04:07.170626Z"
    }
   },
   "outputs": [],
   "source": [
    "# hide\n",
    "display(Image(\"images/loughran_table6.png\", width=700))"
   ]
  },
  {
   "cell_type": "markdown",
   "metadata": {},
   "source": [
    "## Learning-based sentiment"
   ]
  },
  {
   "cell_type": "markdown",
   "metadata": {},
   "source": [
    "Jegadessh and Wu (2013) discuss how to fit word weights to better identify terms that drive returns.\n",
    "\n",
    "- The idea is to identify sentiment words associated to significant return moves (either positive or negative) when firm file 10Ks with the SEC. \n"
   ]
  },
  {
   "cell_type": "markdown",
   "metadata": {},
   "source": [
    "Learning for document $d$: \n",
    "$$\n",
    "r_{d,t\\rightarrow t+3} = a + \\sum_{v \\in LM} b_v \\frac{count_{d,v}}{length_v} + e \n",
    "$$\n",
    "where the terms $v$ are in the base sentiment vocabulary $LM$ from  Loughran and McDonalds. \n",
    "\n",
    "Out-of-sample forecast: \n",
    "$$\n",
    "Score_d = \\sum_v \\left(\\frac{b_v - \\bar{b}}{\\sqrt{Var(b_j)}} \\right) \\frac{cound_{d,v}}{length_d}\n",
    "$$\n",
    "\n",
    "$$\n",
    "r_{d,t+5\\rightarrow t+w} = \\alpha + \\beta Score_d  + \\epsilon \n",
    "$$\n",
    "where the statistical significance of $\\beta$ is evaluated using Fama-MacBeth statistics. \n"
   ]
  },
  {
   "cell_type": "markdown",
   "metadata": {},
   "source": [
    "The table below shows the most impactful words from the regressions. "
   ]
  },
  {
   "cell_type": "code",
   "execution_count": null,
   "metadata": {
    "execution": {
     "iopub.execute_input": "2024-11-07T17:04:07.173269Z",
     "iopub.status.busy": "2024-11-07T17:04:07.173069Z",
     "iopub.status.idle": "2024-11-07T17:04:07.192852Z",
     "shell.execute_reply": "2024-11-07T17:04:07.192453Z"
    }
   },
   "outputs": [],
   "source": [
    "# hide\n",
    "display(Image(\"images/Jegadeesh_1.PNG\", width=700))"
   ]
  },
  {
   "cell_type": "markdown",
   "metadata": {},
   "source": [
    "The table below shows taht the words identified in the regressions are not the same as the one with high `tfidf` weights."
   ]
  },
  {
   "cell_type": "code",
   "execution_count": null,
   "metadata": {
    "execution": {
     "iopub.execute_input": "2024-11-07T17:04:07.194904Z",
     "iopub.status.busy": "2024-11-07T17:04:07.194527Z",
     "iopub.status.idle": "2024-11-07T17:04:07.214295Z",
     "shell.execute_reply": "2024-11-07T17:04:07.213890Z"
    }
   },
   "outputs": [],
   "source": [
    "# hide\n",
    "display(Image(\"images/Jegadeesh_2.PNG\", width=700))"
   ]
  },
  {
   "cell_type": "markdown",
   "metadata": {},
   "source": [
    "The table shows that the learned sentiment (as the `WP` or word power score) predicts 4-day forward returns -- even after controlling for known risk factors."
   ]
  },
  {
   "cell_type": "code",
   "execution_count": null,
   "metadata": {
    "execution": {
     "iopub.execute_input": "2024-11-07T17:04:07.216292Z",
     "iopub.status.busy": "2024-11-07T17:04:07.215964Z",
     "iopub.status.idle": "2024-11-07T17:04:07.235706Z",
     "shell.execute_reply": "2024-11-07T17:04:07.235303Z"
    }
   },
   "outputs": [],
   "source": [
    "# hide\n",
    "display(Image(\"images/Jegadeesh_results.png\", width=500))"
   ]
  },
  {
   "cell_type": "markdown",
   "metadata": {},
   "source": [
    "## 10-Ks"
   ]
  },
  {
   "cell_type": "markdown",
   "metadata": {},
   "source": [
    "We use the 10-K/10-Q summary file from the McDonalds data repository to test some insights from the Loughran-McDonalds paper. The sentiment metric is: \n",
    "- sentiment = (#positive - #negative)/#words"
   ]
  },
  {
   "cell_type": "code",
   "execution_count": null,
   "metadata": {
    "execution": {
     "iopub.execute_input": "2024-11-07T17:04:07.237702Z",
     "iopub.status.busy": "2024-11-07T17:04:07.237430Z",
     "iopub.status.idle": "2024-11-07T17:04:07.495180Z",
     "shell.execute_reply": "2024-11-07T17:04:07.494623Z"
    }
   },
   "outputs": [],
   "source": [
    "from skfin.datasets import load_10X_summaries, load_sklearn_stock_returns, mapping_10X\n",
    "from skfin.metrics import sharpe_ratio\n",
    "\n",
    "ret = load_sklearn_stock_returns(cache_dir=\"data\")"
   ]
  },
  {
   "cell_type": "code",
   "execution_count": null,
   "metadata": {
    "execution": {
     "iopub.execute_input": "2024-11-07T17:04:07.497804Z",
     "iopub.status.busy": "2024-11-07T17:04:07.497475Z",
     "iopub.status.idle": "2024-11-07T17:04:10.727119Z",
     "shell.execute_reply": "2024-11-07T17:04:10.726285Z"
    }
   },
   "outputs": [],
   "source": [
    "df = load_10X_summaries()"
   ]
  },
  {
   "cell_type": "code",
   "execution_count": null,
   "metadata": {
    "execution": {
     "iopub.execute_input": "2024-11-07T17:04:10.730239Z",
     "iopub.status.busy": "2024-11-07T17:04:10.729964Z",
     "iopub.status.idle": "2024-11-07T17:04:10.755669Z",
     "shell.execute_reply": "2024-11-07T17:04:10.755252Z"
    }
   },
   "outputs": [],
   "source": [
    "df.columns"
   ]
  },
  {
   "cell_type": "code",
   "execution_count": null,
   "metadata": {
    "execution": {
     "iopub.execute_input": "2024-11-07T17:04:10.757645Z",
     "iopub.status.busy": "2024-11-07T17:04:10.757426Z",
     "iopub.status.idle": "2024-11-07T17:04:11.852878Z",
     "shell.execute_reply": "2024-11-07T17:04:11.852259Z"
    }
   },
   "outputs": [],
   "source": [
    "sentiment_func = lambda x: (x.N_Positive - x.N_Negative) / x.N_Words\n",
    "\n",
    "sent = (\n",
    "    pd.concat(\n",
    "        {\n",
    "            k: df.loc[lambda x: x.CoName.isin(v if isinstance(v, list) else [v])]\n",
    "            .set_index(\"date\")\n",
    "            .loc[\"2002-01-01\" : ret.index[-1]]\n",
    "            .pipe(sentiment_func)\n",
    "            for k, v in mapping_10X.items()\n",
    "        }\n",
    "    )\n",
    "    .groupby(level=[0, 1])\n",
    "    .mean()\n",
    ")"
   ]
  },
  {
   "cell_type": "markdown",
   "metadata": {},
   "source": [
    "From the sentiment metrics, we follows the steps to contruct a predictor: \n",
    "\n",
    "- take the sentiment difference from on filing to the previous to measure improvement or deterioration (and remove biases)\n",
    "- forward-fill the value for one-month (=21 business days) to have an active position over a limited window\n",
    "- remove the cross-sectional mean (and standardise) so that the predictor have long-short risk-managed positions. "
   ]
  },
  {
   "cell_type": "code",
   "execution_count": null,
   "metadata": {
    "execution": {
     "iopub.execute_input": "2024-11-07T17:04:11.855811Z",
     "iopub.status.busy": "2024-11-07T17:04:11.855467Z",
     "iopub.status.idle": "2024-11-07T17:04:11.914637Z",
     "shell.execute_reply": "2024-11-07T17:04:11.914159Z"
    }
   },
   "outputs": [],
   "source": [
    "pred = (\n",
    "    sent.sort_index(level=[0, 1])\n",
    "    .groupby(level=0)\n",
    "    .transform(\"diff\")\n",
    "    .unstack(level=0)\n",
    "    .resample(\"B\")\n",
    "    .last()\n",
    "    .ffill(limit=21)\n",
    "    .pipe(lambda x: x.sub(x.mean(axis=1), axis=0).div(x.std(axis=1), axis=0))\n",
    "    .reindex(ret.index)\n",
    ")"
   ]
  },
  {
   "cell_type": "code",
   "execution_count": null,
   "metadata": {
    "execution": {
     "iopub.execute_input": "2024-11-07T17:04:11.916893Z",
     "iopub.status.busy": "2024-11-07T17:04:11.916586Z",
     "iopub.status.idle": "2024-11-07T17:04:12.082752Z",
     "shell.execute_reply": "2024-11-07T17:04:12.082293Z"
    }
   },
   "outputs": [],
   "source": [
    "line(pred.shift(2).mul(ret).sum(axis=1), cumsum=True)"
   ]
  },
  {
   "cell_type": "markdown",
   "metadata": {},
   "source": [
    "Interesting to note that over this period, two firms contribute disportionately to the pnl -- Apple and Goldman Sachs."
   ]
  },
  {
   "cell_type": "code",
   "execution_count": null,
   "metadata": {
    "execution": {
     "iopub.execute_input": "2024-11-07T17:04:12.085112Z",
     "iopub.status.busy": "2024-11-07T17:04:12.084716Z",
     "iopub.status.idle": "2024-11-07T17:04:12.116852Z",
     "shell.execute_reply": "2024-11-07T17:04:12.116393Z"
    }
   },
   "outputs": [],
   "source": [
    "pred.shift(2).mul(ret).dropna(how=\"all\", axis=1).sum().pipe(\n",
    "    lambda x: pd.concat([x.nlargest(), x.sort_values(ascending=False).tail(5)])\n",
    ").rename(\"Stock-level pnl contribution\").to_frame()"
   ]
  },
  {
   "cell_type": "markdown",
   "metadata": {},
   "source": [
    "To assess the alpha decay, the graph below shows the sharpe ratio when the predictor is lagged (or led) by multiple business days. "
   ]
  },
  {
   "cell_type": "code",
   "execution_count": null,
   "metadata": {
    "execution": {
     "iopub.execute_input": "2024-11-07T17:04:12.119007Z",
     "iopub.status.busy": "2024-11-07T17:04:12.118680Z",
     "iopub.status.idle": "2024-11-07T17:04:12.588134Z",
     "shell.execute_reply": "2024-11-07T17:04:12.587686Z"
    }
   },
   "outputs": [],
   "source": [
    "bar(\n",
    "    {\n",
    "        i: pred.shift(2 + i).mul(ret).sum(axis=1).pipe(sharpe_ratio)\n",
    "        for i in range(-10, 10)\n",
    "    },\n",
    "    sort=False,\n",
    "    baseline=0,\n",
    "    title=\"Lead-lag sharpe ratio\",\n",
    ")"
   ]
  },
  {
   "cell_type": "markdown",
   "metadata": {},
   "source": [
    "We can test different sentiment construct as shown in the graph below. "
   ]
  },
  {
   "cell_type": "code",
   "execution_count": null,
   "metadata": {
    "code_folding": [],
    "execution": {
     "iopub.execute_input": "2024-11-07T17:04:12.590578Z",
     "iopub.status.busy": "2024-11-07T17:04:12.590235Z",
     "iopub.status.idle": "2024-11-07T17:04:24.779202Z",
     "shell.execute_reply": "2024-11-07T17:04:24.778572Z"
    },
    "tags": []
   },
   "outputs": [],
   "source": [
    "pnls_ = {}\n",
    "for c in [\"N_Litigious\", \"N_Constraining\", \"N_Words\"]:\n",
    "    sentiment_func_ = lambda x: (x.N_Positive - x.N_Negative) / x[c]\n",
    "    sent_ = (\n",
    "        pd.concat(\n",
    "            {\n",
    "                k: df.loc[lambda x: x.CoName.isin(v if isinstance(v, list) else [v])]\n",
    "                .set_index(\"date\")\n",
    "                .loc[\"2002-01-01\" : ret.index[-1]]\n",
    "                .pipe(sentiment_func_)\n",
    "                for k, v in mapping_10X.items()\n",
    "            }\n",
    "        )\n",
    "        .groupby(level=[0, 1])\n",
    "        .mean()\n",
    "    )\n",
    "\n",
    "    pred_ = (\n",
    "        sent_.sort_index(level=[0, 1])\n",
    "        .groupby(level=0)\n",
    "        .transform(\"diff\")\n",
    "        .unstack(level=0)\n",
    "        .resample(\"B\")\n",
    "        .last()\n",
    "        .ffill(limit=21)\n",
    "        .pipe(lambda x: x.sub(x.mean(axis=1), axis=0).div(x.std(axis=1), axis=0))\n",
    "        .reindex(ret.index)\n",
    "    )\n",
    "\n",
    "    pnls_[f\"sent/{c}\"] = pred_.shift(2).mul(ret).sum(axis=1)\n",
    "\n",
    "\n",
    "for c in [\"N_Negative\", \"N_Negation\", \"N_WeakModal\"]:\n",
    "    sentiment_func_ = lambda x: -1 * x[c] / x.N_Words\n",
    "    sent_ = (\n",
    "        pd.concat(\n",
    "            {\n",
    "                k: df.loc[lambda x: x.CoName.isin(v if isinstance(v, list) else [v])]\n",
    "                .set_index(\"date\")\n",
    "                .loc[\"2002-01-01\" : ret.index[-1]]\n",
    "                .pipe(sentiment_func_)\n",
    "                for k, v in mapping_10X.items()\n",
    "            }\n",
    "        )\n",
    "        .groupby(level=[0, 1])\n",
    "        .mean()\n",
    "    )\n",
    "\n",
    "    pred_ = (\n",
    "        sent_.sort_index(level=[0, 1])\n",
    "        .groupby(level=0)\n",
    "        .transform(\"diff\")\n",
    "        .unstack(level=0)\n",
    "        .resample(\"B\")\n",
    "        .last()\n",
    "        .ffill(limit=21)\n",
    "        .pipe(lambda x: x.sub(x.mean(axis=1), axis=0).div(x.std(axis=1), axis=0))\n",
    "        .reindex(ret.index)\n",
    "    )\n",
    "\n",
    "    pnls_[f\"-1*{c}/N_word\"] = pred_.shift(2).mul(ret).sum(axis=1)\n",
    "\n",
    "\n",
    "for c in [\n",
    "    \"N_Unique_Words\",\n",
    "    \"N_Positive\",\n",
    "    \"N_Uncertainty\",\n",
    "    \"N_StrongModal\",\n",
    "    \"N_Constraining\",\n",
    "]:\n",
    "    sentiment_func_ = lambda x: x[c] / x.N_Words\n",
    "    sent_ = (\n",
    "        pd.concat(\n",
    "            {\n",
    "                k: df.loc[lambda x: x.CoName.isin(v if isinstance(v, list) else [v])]\n",
    "                .set_index(\"date\")\n",
    "                .loc[\"2002-01-01\" : ret.index[-1]]\n",
    "                .pipe(sentiment_func_)\n",
    "                for k, v in mapping_10X.items()\n",
    "            }\n",
    "        )\n",
    "        .groupby(level=[0, 1])\n",
    "        .mean()\n",
    "    )\n",
    "\n",
    "    pred_ = (\n",
    "        sent_.sort_index(level=[0, 1])\n",
    "        .groupby(level=0)\n",
    "        .transform(\"diff\")\n",
    "        .unstack(level=0)\n",
    "        .resample(\"B\")\n",
    "        .last()\n",
    "        .ffill(limit=21)\n",
    "        .pipe(lambda x: x.sub(x.mean(axis=1), axis=0).div(x.std(axis=1), axis=0))\n",
    "        .reindex(ret.index)\n",
    "    )\n",
    "\n",
    "    pnls_[f\"{c}/N_word\"] = pred_.shift(2).mul(ret).sum(axis=1)\n",
    "line(pnls_, cumsum=True)"
   ]
  }
 ],
 "metadata": {
  "hide_input": false,
  "kernelspec": {
   "display_name": "skfin 2024",
   "language": "python",
   "name": "skfin"
  },
  "language_info": {
   "codemirror_mode": {
    "name": "ipython",
    "version": 3
   },
   "file_extension": ".py",
   "mimetype": "text/x-python",
   "name": "python",
   "nbconvert_exporter": "python",
   "pygments_lexer": "ipython3",
   "version": "3.9.20"
  },
  "toc": {
   "base_numbering": 1,
   "nav_menu": {},
   "number_sections": true,
   "sideBar": true,
   "skip_h1_title": false,
   "title_cell": "Table of Contents",
   "title_sidebar": "Contents",
   "toc_cell": false,
   "toc_position": {},
   "toc_section_display": true,
   "toc_window_display": false
  }
 },
 "nbformat": 4,
 "nbformat_minor": 4
}
