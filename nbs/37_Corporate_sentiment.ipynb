{
 "cells": [
  {
   "cell_type": "markdown",
   "metadata": {
    "editable": true,
    "slideshow": {
     "slide_type": ""
    },
    "tags": []
   },
   "source": [
    "# Measuring Financial Sentiment in 10-K Filings: Dictionary and Model-Based Approaches"
   ]
  },
  {
   "cell_type": "code",
   "execution_count": null,
   "metadata": {
    "execution": {
     "iopub.execute_input": "2025-09-29T15:52:46.197469Z",
     "iopub.status.busy": "2025-09-29T15:52:46.197197Z",
     "iopub.status.idle": "2025-09-29T15:52:47.722198Z",
     "shell.execute_reply": "2025-09-29T15:52:47.721571Z"
    }
   },
   "outputs": [],
   "source": [
    "# hide\n",
    "%load_ext autoreload\n",
    "%autoreload 2\n",
    "%matplotlib inline\n",
    "\n",
    "from datetime import date\n",
    "from pathlib import Path\n",
    "\n",
    "import pandas as pd\n",
    "from matplotlib import pyplot as plt\n",
    "from skfin.plot import bar, line\n",
    "from tqdm.auto import tqdm"
   ]
  },
  {
   "cell_type": "markdown",
   "metadata": {},
   "source": [
    "In this section, we describe two strategies to measure sentiment in text. A first strategy is based a dictionary of positive and negative words: simple word counts capture the polarity of the document. A second strategy relies on fitting a linear model with target as returns and features as word counts: in this case, the sign and amplitude of the learned coefficients is used to determined the document sentiment. \n",
    "\n",
    "Two main papers: \n",
    "\n",
    "- Loughran and McDonald (2011): \"When is a Liability not a Liability? Textual Analysis, Dictionaries and 10-Ks,\" *Journal of Finance*\n",
    "- Jegadeesh and Wu (2013): \"Word Power: A New Approach for Content Analysis,\" *Journal of Financial Economics*"
   ]
  },
  {
   "cell_type": "markdown",
   "metadata": {},
   "source": [
    "## Rule-based sentiment"
   ]
  },
  {
   "cell_type": "code",
   "execution_count": null,
   "metadata": {
    "execution": {
     "iopub.execute_input": "2025-09-29T15:52:47.724791Z",
     "iopub.status.busy": "2025-09-29T15:52:47.724269Z",
     "iopub.status.idle": "2025-09-29T15:52:47.749435Z",
     "shell.execute_reply": "2025-09-29T15:52:47.748882Z"
    }
   },
   "outputs": [],
   "source": [
    "# hide\n",
    "from IPython.display import Image, display"
   ]
  },
  {
   "cell_type": "markdown",
   "metadata": {},
   "source": [
    "Loughran-McDonalds (2011): textual analysis in finance/accounting to examine the tone and sentiment of corporate 10-K reports. Two statements: \n",
    "\n",
    "1. a Finance-specific dictionary of negative words matters\n",
    "1. weighting (e.g. tf.idf weights) matters\n",
    "\n",
    "\n",
    " Bag of words method: parse the 10-K documents into vectors of words and word counts.\n",
    " \n",
    "- Dictionaries: http://www3.nd.edu/~mcdonald/Word_Lists.html: \n",
    "- sentiment negative and positive words\n",
    "- uncertainty (e.g. approximate, contingency, depend, fluctuate, indefinite, uncertain, and variability)\n",
    "- litigation (e.g. claimant, deposition, interlocutory, testimony, and tort.)\n",
    "- modal words are related to levels of confidence: strong modal words (e.g. always, highest, must, and will) and weak model words (e.g. could, depending, might)"
   ]
  },
  {
   "cell_type": "markdown",
   "metadata": {
    "editable": true,
    "slideshow": {
     "slide_type": ""
    },
    "tags": []
   },
   "source": [
    "The table below shows the most frequent sentiment words in the full 10-K document in the \"Management Discussion and Analysis\" subsection. "
   ]
  },
  {
   "cell_type": "code",
   "execution_count": null,
   "metadata": {
    "execution": {
     "iopub.execute_input": "2025-09-29T15:52:47.751613Z",
     "iopub.status.busy": "2025-09-29T15:52:47.751182Z",
     "iopub.status.idle": "2025-09-29T15:52:47.790484Z",
     "shell.execute_reply": "2025-09-29T15:52:47.789940Z"
    }
   },
   "outputs": [],
   "source": [
    "# hide\n",
    "display(Image(\"images/loughran_table3.png\", width=500))"
   ]
  },
  {
   "cell_type": "markdown",
   "metadata": {},
   "source": [
    "The following table shows that sentiment words reprenet about 1% of all words. In these sections, there are more words deemed negative (mean=1.39%) than positive (mean=0.75%). "
   ]
  },
  {
   "cell_type": "code",
   "execution_count": null,
   "metadata": {
    "execution": {
     "iopub.execute_input": "2025-09-29T15:52:47.824763Z",
     "iopub.status.busy": "2025-09-29T15:52:47.824370Z",
     "iopub.status.idle": "2025-09-29T15:52:47.852472Z",
     "shell.execute_reply": "2025-09-29T15:52:47.851955Z"
    }
   },
   "outputs": [],
   "source": [
    "# hide\n",
    "display(Image(\"images/l7_loughran.PNG\", width=350))"
   ]
  },
  {
   "cell_type": "markdown",
   "metadata": {},
   "source": [
    "The following table shows the predictibility of sentiment for 4-day forward value-weighted excess return (1994-2008). More precisely, the `Fin-Neg` (negative) sentiment predicts returns with a t-stat from -2.64 to -3.11 after controlling for risk factors. "
   ]
  },
  {
   "cell_type": "code",
   "execution_count": null,
   "metadata": {
    "execution": {
     "iopub.execute_input": "2025-09-29T15:52:47.854450Z",
     "iopub.status.busy": "2025-09-29T15:52:47.854132Z",
     "iopub.status.idle": "2025-09-29T15:52:47.886803Z",
     "shell.execute_reply": "2025-09-29T15:52:47.886290Z"
    }
   },
   "outputs": [],
   "source": [
    "# hide\n",
    "display(Image(\"images/loughran_table4.png\", width=500))"
   ]
  },
  {
   "cell_type": "markdown",
   "metadata": {},
   "source": [
    "The table below shows the same results for several word dictionaries. "
   ]
  },
  {
   "cell_type": "code",
   "execution_count": null,
   "metadata": {
    "execution": {
     "iopub.execute_input": "2025-09-29T15:52:47.888732Z",
     "iopub.status.busy": "2025-09-29T15:52:47.888438Z",
     "iopub.status.idle": "2025-09-29T15:52:47.919253Z",
     "shell.execute_reply": "2025-09-29T15:52:47.918763Z"
    }
   },
   "outputs": [],
   "source": [
    "# hide\n",
    "display(Image(\"images/loughran_table6.png\", width=700))"
   ]
  },
  {
   "cell_type": "markdown",
   "metadata": {},
   "source": [
    "## Learning-based sentiment"
   ]
  },
  {
   "cell_type": "markdown",
   "metadata": {},
   "source": [
    "Jegadessh and Wu (2013) discuss how to fit word weights to better identify terms that drive returns.\n",
    "\n",
    "- The idea is to identify sentiment words associated to significant return moves (either positive or negative) when firm file 10Ks with the SEC. \n"
   ]
  },
  {
   "cell_type": "markdown",
   "metadata": {},
   "source": [
    "Learning for document $d$: \n",
    "$$\n",
    "r_{d,t\\rightarrow t+3} = a + \\sum_{v \\in LM} b_v \\frac{count_{d,v}}{length_v} + e \n",
    "$$\n",
    "where the terms $v$ are in the base sentiment vocabulary $LM$ from  Loughran and McDonalds. \n",
    "\n",
    "Out-of-sample forecast: \n",
    "$$\n",
    "Score_d = \\sum_v \\left(\\frac{b_v - \\bar{b}}{\\sqrt{Var(b_j)}} \\right) \\frac{cound_{d,v}}{length_d}\n",
    "$$\n",
    "\n",
    "$$\n",
    "r_{d,t+5\\rightarrow t+w} = \\alpha + \\beta Score_d  + \\epsilon \n",
    "$$\n",
    "where the statistical significance of $\\beta$ is evaluated using Fama-MacBeth statistics. \n"
   ]
  },
  {
   "cell_type": "markdown",
   "metadata": {},
   "source": [
    "The table below shows the most impactful words from the regressions. "
   ]
  },
  {
   "cell_type": "code",
   "execution_count": null,
   "metadata": {
    "execution": {
     "iopub.execute_input": "2025-09-29T15:52:47.921370Z",
     "iopub.status.busy": "2025-09-29T15:52:47.920938Z",
     "iopub.status.idle": "2025-09-29T15:52:47.947292Z",
     "shell.execute_reply": "2025-09-29T15:52:47.946835Z"
    }
   },
   "outputs": [],
   "source": [
    "# hide\n",
    "display(Image(\"images/Jegadeesh_1.PNG\", width=700))"
   ]
  },
  {
   "cell_type": "markdown",
   "metadata": {},
   "source": [
    "The table below shows taht the words identified in the regressions are not the same as the one with high `tfidf` weights."
   ]
  },
  {
   "cell_type": "code",
   "execution_count": null,
   "metadata": {
    "execution": {
     "iopub.execute_input": "2025-09-29T15:52:47.949125Z",
     "iopub.status.busy": "2025-09-29T15:52:47.948839Z",
     "iopub.status.idle": "2025-09-29T15:52:47.975554Z",
     "shell.execute_reply": "2025-09-29T15:52:47.975079Z"
    }
   },
   "outputs": [],
   "source": [
    "# hide\n",
    "display(Image(\"images/Jegadeesh_2.PNG\", width=700))"
   ]
  },
  {
   "cell_type": "markdown",
   "metadata": {},
   "source": [
    "The table shows that the learned sentiment (as the `WP` or word power score) predicts 4-day forward returns -- even after controlling for known risk factors."
   ]
  },
  {
   "cell_type": "code",
   "execution_count": null,
   "metadata": {
    "execution": {
     "iopub.execute_input": "2025-09-29T15:52:47.977373Z",
     "iopub.status.busy": "2025-09-29T15:52:47.977098Z",
     "iopub.status.idle": "2025-09-29T15:52:48.005562Z",
     "shell.execute_reply": "2025-09-29T15:52:48.005003Z"
    }
   },
   "outputs": [],
   "source": [
    "# hide\n",
    "display(Image(\"images/Jegadeesh_results.png\", width=500))"
   ]
  },
  {
   "cell_type": "markdown",
   "metadata": {},
   "source": [
    "## 10-Ks"
   ]
  },
  {
   "cell_type": "markdown",
   "metadata": {},
   "source": [
    "We use the 10-K/10-Q summary file from the McDonalds data repository to test some insights from the Loughran-McDonalds paper. The sentiment metric is: \n",
    "- sentiment = (#positive - #negative)/#words"
   ]
  },
  {
   "cell_type": "code",
   "execution_count": null,
   "metadata": {
    "execution": {
     "iopub.execute_input": "2025-09-29T15:52:48.007639Z",
     "iopub.status.busy": "2025-09-29T15:52:48.007309Z",
     "iopub.status.idle": "2025-09-29T15:52:48.222963Z",
     "shell.execute_reply": "2025-09-29T15:52:48.222362Z"
    }
   },
   "outputs": [],
   "source": [
    "from skfin.datasets_ import load_10X_summaries, load_sklearn_stock_returns\n",
    "from skfin.dataloaders.constants.mappings import mapping_10X\n",
    "from skfin.metrics import sharpe_ratio\n",
    "\n",
    "ret = load_sklearn_stock_returns(cache_dir=\"data\")"
   ]
  },
  {
   "cell_type": "code",
   "execution_count": null,
   "metadata": {
    "execution": {
     "iopub.execute_input": "2025-09-29T15:52:48.225267Z",
     "iopub.status.busy": "2025-09-29T15:52:48.224796Z",
     "iopub.status.idle": "2025-09-29T15:52:51.911027Z",
     "shell.execute_reply": "2025-09-29T15:52:51.910384Z"
    }
   },
   "outputs": [],
   "source": [
    "df = load_10X_summaries()"
   ]
  },
  {
   "cell_type": "code",
   "execution_count": null,
   "metadata": {
    "execution": {
     "iopub.execute_input": "2025-09-29T15:52:51.913402Z",
     "iopub.status.busy": "2025-09-29T15:52:51.913018Z",
     "iopub.status.idle": "2025-09-29T15:52:51.941105Z",
     "shell.execute_reply": "2025-09-29T15:52:51.940612Z"
    }
   },
   "outputs": [],
   "source": [
    "df.columns"
   ]
  },
  {
   "cell_type": "code",
   "execution_count": null,
   "metadata": {
    "execution": {
     "iopub.execute_input": "2025-09-29T15:52:51.942984Z",
     "iopub.status.busy": "2025-09-29T15:52:51.942693Z",
     "iopub.status.idle": "2025-09-29T15:52:53.532821Z",
     "shell.execute_reply": "2025-09-29T15:52:53.532185Z"
    }
   },
   "outputs": [],
   "source": [
    "sentiment_func = lambda x: (x.N_Positive - x.N_Negative) / x.N_Words\n",
    "\n",
    "sent = (\n",
    "    pd.concat(\n",
    "        {\n",
    "            k: df.loc[lambda x: x.CoName.isin(v if isinstance(v, list) else [v])]\n",
    "            .loc[\"2002-01-01\" : ret.index[-1]]\n",
    "            .pipe(sentiment_func)\n",
    "            for k, v in mapping_10X.items()\n",
    "        }\n",
    "    )\n",
    "    .groupby(level=[0, 1])\n",
    "    .mean()\n",
    ")"
   ]
  },
  {
   "cell_type": "markdown",
   "metadata": {},
   "source": [
    "From the sentiment metrics, we follows the steps to contruct a predictor: \n",
    "\n",
    "- take the sentiment difference from on filing to the previous to measure improvement or deterioration (and remove biases)\n",
    "- forward-fill the value for one-month (=21 business days) to have an active position over a limited window\n",
    "- remove the cross-sectional mean (and standardise) so that the predictor have long-short risk-managed positions. "
   ]
  },
  {
   "cell_type": "code",
   "execution_count": null,
   "metadata": {
    "execution": {
     "iopub.execute_input": "2025-09-29T15:52:53.535137Z",
     "iopub.status.busy": "2025-09-29T15:52:53.534759Z",
     "iopub.status.idle": "2025-09-29T15:52:53.599300Z",
     "shell.execute_reply": "2025-09-29T15:52:53.598694Z"
    }
   },
   "outputs": [],
   "source": [
    "pred = (\n",
    "    sent.sort_index(level=[0, 1])\n",
    "    .groupby(level=0)\n",
    "    .transform(\"diff\")\n",
    "    .unstack(level=0)\n",
    "    .resample(\"B\")\n",
    "    .last()\n",
    "    .ffill(limit=21)\n",
    "    .pipe(lambda x: x.sub(x.mean(axis=1), axis=0).div(x.std(axis=1), axis=0))\n",
    "    .reindex(ret.index)\n",
    ")"
   ]
  },
  {
   "cell_type": "code",
   "execution_count": null,
   "metadata": {
    "editable": true,
    "execution": {
     "iopub.execute_input": "2025-09-29T15:52:53.601457Z",
     "iopub.status.busy": "2025-09-29T15:52:53.601091Z",
     "iopub.status.idle": "2025-09-29T15:52:53.771836Z",
     "shell.execute_reply": "2025-09-29T15:52:53.771284Z"
    },
    "slideshow": {
     "slide_type": ""
    },
    "tags": []
   },
   "outputs": [],
   "source": [
    "line(pred.shift(2).mul(ret).sum(axis=1), cumsum=True)"
   ]
  },
  {
   "cell_type": "markdown",
   "metadata": {},
   "source": [
    "Interesting to note that over this period, two firms contribute disportionately to the pnl -- Apple and Goldman Sachs."
   ]
  },
  {
   "cell_type": "code",
   "execution_count": null,
   "metadata": {
    "execution": {
     "iopub.execute_input": "2025-09-29T15:52:53.773917Z",
     "iopub.status.busy": "2025-09-29T15:52:53.773569Z",
     "iopub.status.idle": "2025-09-29T15:52:53.811291Z",
     "shell.execute_reply": "2025-09-29T15:52:53.810797Z"
    }
   },
   "outputs": [],
   "source": [
    "pred.shift(2).mul(ret).dropna(how=\"all\", axis=1).sum().pipe(\n",
    "    lambda x: pd.concat([x.nlargest(), x.sort_values(ascending=False).tail(5)])\n",
    ").rename(\"Stock-level pnl contribution\").to_frame()"
   ]
  },
  {
   "cell_type": "markdown",
   "metadata": {},
   "source": [
    "To assess the alpha decay, the graph below shows the sharpe ratio when the predictor is lagged (or led) by multiple business days. "
   ]
  },
  {
   "cell_type": "code",
   "execution_count": null,
   "metadata": {
    "execution": {
     "iopub.execute_input": "2025-09-29T15:52:53.813268Z",
     "iopub.status.busy": "2025-09-29T15:52:53.812954Z",
     "iopub.status.idle": "2025-09-29T15:52:54.310443Z",
     "shell.execute_reply": "2025-09-29T15:52:54.309879Z"
    }
   },
   "outputs": [],
   "source": [
    "bar(\n",
    "    {\n",
    "        i: pred.shift(2 + i).mul(ret).sum(axis=1).pipe(sharpe_ratio)\n",
    "        for i in range(-10, 10)\n",
    "    },\n",
    "    sort=False,\n",
    "    baseline=0,\n",
    "    title=\"Lead-lag sharpe ratio\",\n",
    ")"
   ]
  },
  {
   "cell_type": "markdown",
   "metadata": {},
   "source": [
    "We can test different sentiment construct as shown in the graph below. "
   ]
  },
  {
   "cell_type": "code",
   "execution_count": null,
   "metadata": {
    "code_folding": [],
    "execution": {
     "iopub.execute_input": "2025-09-29T15:52:54.312799Z",
     "iopub.status.busy": "2025-09-29T15:52:54.312439Z",
     "iopub.status.idle": "2025-09-29T15:53:07.369270Z",
     "shell.execute_reply": "2025-09-29T15:53:07.368731Z"
    },
    "tags": []
   },
   "outputs": [],
   "source": [
    "pnls_ = {}\n",
    "for c in [\"N_Litigious\", \"N_Constraining\", \"N_Words\"]:\n",
    "    sentiment_func_ = lambda x: (x.N_Positive - x.N_Negative) / x[c]\n",
    "    sent_ = (\n",
    "        pd.concat(\n",
    "            {\n",
    "                k: df.loc[lambda x: x.CoName.isin(v if isinstance(v, list) else [v])]\n",
    "                .loc[\"2002-01-01\" : ret.index[-1]]\n",
    "                .pipe(sentiment_func_)\n",
    "                for k, v in mapping_10X.items()\n",
    "            }\n",
    "        )\n",
    "        .groupby(level=[0, 1])\n",
    "        .mean()\n",
    "    )\n",
    "\n",
    "    pred_ = (\n",
    "        sent_.sort_index(level=[0, 1])\n",
    "        .groupby(level=0)\n",
    "        .transform(\"diff\")\n",
    "        .unstack(level=0)\n",
    "        .resample(\"B\")\n",
    "        .last()\n",
    "        .ffill(limit=21)\n",
    "        .pipe(lambda x: x.sub(x.mean(axis=1), axis=0).div(x.std(axis=1), axis=0))\n",
    "        .reindex(ret.index)\n",
    "    )\n",
    "\n",
    "    pnls_[f\"sent/{c}\"] = pred_.shift(2).mul(ret).sum(axis=1)\n",
    "\n",
    "\n",
    "for c in [\"N_Negative\", \"N_Negation\", \"N_WeakModal\"]:\n",
    "    sentiment_func_ = lambda x: -1 * x[c] / x.N_Words\n",
    "    sent_ = (\n",
    "        pd.concat(\n",
    "            {\n",
    "                k: df.loc[lambda x: x.CoName.isin(v if isinstance(v, list) else [v])]\n",
    "                .loc[\"2002-01-01\" : ret.index[-1]]\n",
    "                .pipe(sentiment_func_)\n",
    "                for k, v in mapping_10X.items()\n",
    "            }\n",
    "        )\n",
    "        .groupby(level=[0, 1])\n",
    "        .mean()\n",
    "    )\n",
    "\n",
    "    pred_ = (\n",
    "        sent_.sort_index(level=[0, 1])\n",
    "        .groupby(level=0)\n",
    "        .transform(\"diff\")\n",
    "        .unstack(level=0)\n",
    "        .resample(\"B\")\n",
    "        .last()\n",
    "        .ffill(limit=21)\n",
    "        .pipe(lambda x: x.sub(x.mean(axis=1), axis=0).div(x.std(axis=1), axis=0))\n",
    "        .reindex(ret.index)\n",
    "    )\n",
    "\n",
    "    pnls_[f\"-1*{c}/N_word\"] = pred_.shift(2).mul(ret).sum(axis=1)\n",
    "\n",
    "\n",
    "for c in [\n",
    "    \"N_Unique_Words\",\n",
    "    \"N_Positive\",\n",
    "    \"N_Uncertainty\",\n",
    "    \"N_StrongModal\",\n",
    "    \"N_Constraining\",\n",
    "]:\n",
    "    sentiment_func_ = lambda x: x[c] / x.N_Words\n",
    "    sent_ = (\n",
    "        pd.concat(\n",
    "            {\n",
    "                k: df.loc[lambda x: x.CoName.isin(v if isinstance(v, list) else [v])]\n",
    "                .loc[\"2002-01-01\" : ret.index[-1]]\n",
    "                .pipe(sentiment_func_)\n",
    "                for k, v in mapping_10X.items()\n",
    "            }\n",
    "        )\n",
    "        .groupby(level=[0, 1])\n",
    "        .mean()\n",
    "    )\n",
    "\n",
    "    pred_ = (\n",
    "        sent_.sort_index(level=[0, 1])\n",
    "        .groupby(level=0)\n",
    "        .transform(\"diff\")\n",
    "        .unstack(level=0)\n",
    "        .resample(\"B\")\n",
    "        .last()\n",
    "        .ffill(limit=21)\n",
    "        .pipe(lambda x: x.sub(x.mean(axis=1), axis=0).div(x.std(axis=1), axis=0))\n",
    "        .reindex(ret.index)\n",
    "    )\n",
    "\n",
    "    pnls_[f\"{c}/N_word\"] = pred_.shift(2).mul(ret).sum(axis=1)\n",
    "line(pnls_, cumsum=True)"
   ]
  }
 ],
 "metadata": {
  "hide_input": false,
  "kernelspec": {
   "display_name": "skfin 2024",
   "language": "python",
   "name": "skfin"
  },
  "language_info": {
   "codemirror_mode": {
    "name": "ipython",
    "version": 3
   },
   "file_extension": ".py",
   "mimetype": "text/x-python",
   "name": "python",
   "nbconvert_exporter": "python",
   "pygments_lexer": "ipython3",
   "version": "3.9.20"
  },
  "toc": {
   "base_numbering": 1,
   "nav_menu": {},
   "number_sections": true,
   "sideBar": true,
   "skip_h1_title": false,
   "title_cell": "Table of Contents",
   "title_sidebar": "Contents",
   "toc_cell": false,
   "toc_position": {},
   "toc_section_display": true,
   "toc_window_display": false
  }
 },
 "nbformat": 4,
 "nbformat_minor": 4
}
