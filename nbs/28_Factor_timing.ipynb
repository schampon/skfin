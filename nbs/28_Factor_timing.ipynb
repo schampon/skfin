{
 "cells": [
  {
   "cell_type": "markdown",
   "metadata": {},
   "source": [
    "# Factor timing"
   ]
  },
  {
   "cell_type": "markdown",
   "metadata": {},
   "source": [
    "In this section, we discuss a simple Momentum strategy to time the quantitative factors previsouly considers (Stock Momentum, Value, Size and the Market)."
   ]
  },
  {
   "cell_type": "code",
   "execution_count": null,
   "metadata": {
    "execution": {
     "iopub.execute_input": "2024-11-07T16:57:57.810647Z",
     "iopub.status.busy": "2024-11-07T16:57:57.810213Z",
     "iopub.status.idle": "2024-11-07T16:57:59.322598Z",
     "shell.execute_reply": "2024-11-07T16:57:59.321915Z"
    }
   },
   "outputs": [],
   "source": [
    "# hide\n",
    "%load_ext autoreload\n",
    "%autoreload 2\n",
    "%matplotlib inline\n",
    "\n",
    "import numpy as np\n",
    "import pandas as pd\n",
    "from IPython.display import Image, display\n",
    "from matplotlib import pyplot as plt\n",
    "from skfin.backtesting import Backtester\n",
    "from skfin.datasets import load_kf_returns\n",
    "from skfin.mv_estimators import MeanVariance\n",
    "from skfin.plot import bar, heatmap, line\n",
    "\n",
    "from matplotlib import pyplot as plt"
   ]
  },
  {
   "cell_type": "code",
   "execution_count": null,
   "metadata": {
    "execution": {
     "iopub.execute_input": "2024-11-07T16:57:59.325892Z",
     "iopub.status.busy": "2024-11-07T16:57:59.325208Z",
     "iopub.status.idle": "2024-11-07T16:57:59.447192Z",
     "shell.execute_reply": "2024-11-07T16:57:59.446569Z"
    }
   },
   "outputs": [],
   "source": [
    "files = [\"F-F_Research_Data_Factors\", \"F-F_Momentum_Factor\"]\n",
    "ret = pd.concat([load_kf_returns(c)[\"Monthly\"] for c in files], axis=1).drop('RF', axis=1)[:'1999']"
   ]
  },
  {
   "cell_type": "code",
   "execution_count": null,
   "metadata": {
    "execution": {
     "iopub.execute_input": "2024-11-07T16:57:59.449560Z",
     "iopub.status.busy": "2024-11-07T16:57:59.449276Z",
     "iopub.status.idle": "2024-11-07T16:58:00.231488Z",
     "shell.execute_reply": "2024-11-07T16:58:00.230794Z"
    }
   },
   "outputs": [],
   "source": [
    "line(ret, cumsum=True, title='Factor returns')"
   ]
  },
  {
   "cell_type": "markdown",
   "metadata": {},
   "source": [
    "As in the industry Momentum case, we use the previous 12-month returns as the prediction of returns."
   ]
  },
  {
   "cell_type": "code",
   "execution_count": null,
   "metadata": {
    "execution": {
     "iopub.execute_input": "2024-11-07T16:58:00.234092Z",
     "iopub.status.busy": "2024-11-07T16:58:00.233783Z",
     "iopub.status.idle": "2024-11-07T16:58:00.262638Z",
     "shell.execute_reply": "2024-11-07T16:58:00.261970Z"
    }
   },
   "outputs": [],
   "source": [
    "def transform_X(df, window=12):\n",
    "    return df.rolling(window=window).mean()\n",
    "\n",
    "def transform_y(df):\n",
    "    return df.shift(-1)\n",
    "\n",
    "X = transform_X(ret)\n",
    "y = transform_y(ret)"
   ]
  },
  {
   "cell_type": "markdown",
   "metadata": {},
   "source": [
    "While in the sector rotation case, we imposed a \"cash-neutrality constraint\" (so that the sum of the positions on a given is zero and the strategy is long-short), this constraint is not necessary in the factor timing case. Below, we set the constraint vector `A` to `None` in the `MeanVariance` estimator. "
   ]
  },
  {
   "cell_type": "code",
   "execution_count": null,
   "metadata": {
    "execution": {
     "iopub.execute_input": "2024-11-07T16:58:00.265173Z",
     "iopub.status.busy": "2024-11-07T16:58:00.264688Z",
     "iopub.status.idle": "2024-11-07T16:58:00.651980Z",
     "shell.execute_reply": "2024-11-07T16:58:00.651371Z"
    }
   },
   "outputs": [],
   "source": [
    "m = Backtester(estimator=MeanVariance(A=None), name=\"Factor momentum\")\n",
    "pnl_ = m.train(X, y, ret)\n",
    "line(pnl_, cumsum=True)"
   ]
  },
  {
   "cell_type": "markdown",
   "metadata": {},
   "source": [
    "Below we decompose the strategy pnl by the contribution of each asset. (We also divide the total pnl by the square-root of the number of assets so that all the pnl shown below have approximately the same standard devation.)"
   ]
  },
  {
   "cell_type": "code",
   "execution_count": null,
   "metadata": {
    "execution": {
     "iopub.execute_input": "2024-11-07T16:58:00.654405Z",
     "iopub.status.busy": "2024-11-07T16:58:00.654104Z",
     "iopub.status.idle": "2024-11-07T16:58:01.380125Z",
     "shell.execute_reply": "2024-11-07T16:58:01.379497Z"
    }
   },
   "outputs": [],
   "source": [
    "line(m.h_.shift(1).mul(ret)\\\n",
    "        .dropna(how='all', axis=0)\\\n",
    "        .assign(ALL = lambda x: x.sum(axis=1).div(np.sqrt(ret.shape[1]))), cumsum=True, \n",
    "    title='Pnl decomposition by asset')"
   ]
  },
  {
   "cell_type": "markdown",
   "metadata": {},
   "source": [
    "The chart below shows the average positions on the factors is positive, but there is a significant standard deviation on the position. "
   ]
  },
  {
   "cell_type": "code",
   "execution_count": null,
   "metadata": {
    "execution": {
     "iopub.execute_input": "2024-11-07T16:58:01.382646Z",
     "iopub.status.busy": "2024-11-07T16:58:01.382329Z",
     "iopub.status.idle": "2024-11-07T16:58:01.487009Z",
     "shell.execute_reply": "2024-11-07T16:58:01.486414Z"
    }
   },
   "outputs": [],
   "source": [
    "bar(m.h_.mean(), m.h_.std(), horizontal=True, title='Average factor holdings')"
   ]
  },
  {
   "cell_type": "markdown",
   "metadata": {},
   "source": [
    "To see whether the performance is coming from factor \"tilts\", we decompose the pnls into the slow positions (over a one-year halflife) and the faster residual positions (defined as the difference between the positions and slow positions). This tilt/timing decomposition below shows some contribution from timing.  "
   ]
  },
  {
   "cell_type": "code",
   "execution_count": null,
   "metadata": {
    "execution": {
     "iopub.execute_input": "2024-11-07T16:58:01.489469Z",
     "iopub.status.busy": "2024-11-07T16:58:01.489169Z",
     "iopub.status.idle": "2024-11-07T16:58:01.998289Z",
     "shell.execute_reply": "2024-11-07T16:58:01.997344Z"
    },
    "tags": []
   },
   "outputs": [],
   "source": [
    "line(\n",
    "    {\n",
    "        \"ALL\": pnl_,\n",
    "        \"tilt\": m.h_.ewm(halflife=12).mean().shift(1).mul(ret).sum(axis=1).replace(0, np.nan).dropna(),\n",
    "        \"timing\": m.h_.sub(m.h_.ewm(halflife=12).mean()).shift(1).mul(ret).sum(axis=1).replace(0, np.nan).dropna(),\n",
    "    },\n",
    "    cumsum=True, title='Tilt/timing decomposition'\n",
    ")"
   ]
  }
 ],
 "metadata": {
  "hide_input": false,
  "kernelspec": {
   "display_name": "skfin 2024",
   "language": "python",
   "name": "skfin"
  },
  "language_info": {
   "codemirror_mode": {
    "name": "ipython",
    "version": 3
   },
   "file_extension": ".py",
   "mimetype": "text/x-python",
   "name": "python",
   "nbconvert_exporter": "python",
   "pygments_lexer": "ipython3",
   "version": "3.9.20"
  },
  "toc": {
   "base_numbering": 1,
   "nav_menu": {},
   "number_sections": true,
   "sideBar": true,
   "skip_h1_title": false,
   "title_cell": "Table of Contents",
   "title_sidebar": "Contents",
   "toc_cell": false,
   "toc_position": {},
   "toc_section_display": true,
   "toc_window_display": false
  }
 },
 "nbformat": 4,
 "nbformat_minor": 4
}
