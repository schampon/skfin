{
 "cells": [
  {
   "cell_type": "markdown",
   "metadata": {},
   "source": [
    "# Momentum-Based Factor Timing: Decomposition and Performance Analysis"
   ]
  },
  {
   "cell_type": "markdown",
   "metadata": {},
   "source": [
    "In this section, we discuss a simple Momentum strategy to time the quantitative factors previsouly considered (Stock Momentum, Value, Size and the Market)."
   ]
  },
  {
   "cell_type": "code",
   "execution_count": null,
   "metadata": {
    "execution": {
     "iopub.execute_input": "2025-09-29T15:45:30.910353Z",
     "iopub.status.busy": "2025-09-29T15:45:30.910088Z",
     "iopub.status.idle": "2025-09-29T15:45:32.700373Z",
     "shell.execute_reply": "2025-09-29T15:45:32.699643Z"
    }
   },
   "outputs": [],
   "source": [
    "# hide\n",
    "%load_ext autoreload\n",
    "%autoreload 2\n",
    "%matplotlib inline\n",
    "\n",
    "import numpy as np\n",
    "import pandas as pd\n",
    "from IPython.display import Image, display\n",
    "from matplotlib import pyplot as plt\n",
    "from skfin.backtesting import Backtester\n",
    "from skfin.datasets_ import load_kf_returns\n",
    "from skfin.mv_estimators import MeanVariance\n",
    "from skfin.plot import bar, heatmap, line\n",
    "\n",
    "from matplotlib import pyplot as plt"
   ]
  },
  {
   "cell_type": "code",
   "execution_count": null,
   "metadata": {
    "execution": {
     "iopub.execute_input": "2025-09-29T15:45:32.703081Z",
     "iopub.status.busy": "2025-09-29T15:45:32.702509Z",
     "iopub.status.idle": "2025-09-29T15:45:32.760142Z",
     "shell.execute_reply": "2025-09-29T15:45:32.759450Z"
    }
   },
   "outputs": [],
   "source": [
    "files = [\"F-F_Research_Data_Factors\", \"F-F_Momentum_Factor\"]\n",
    "ret = pd.concat([load_kf_returns(c)[\"Monthly\"] for c in files], axis=1).drop(\n",
    "    \"RF\", axis=1\n",
    ")[:\"1999\"]"
   ]
  },
  {
   "cell_type": "code",
   "execution_count": null,
   "metadata": {
    "execution": {
     "iopub.execute_input": "2025-09-29T15:45:32.762543Z",
     "iopub.status.busy": "2025-09-29T15:45:32.762173Z",
     "iopub.status.idle": "2025-09-29T15:45:33.574008Z",
     "shell.execute_reply": "2025-09-29T15:45:33.573357Z"
    }
   },
   "outputs": [],
   "source": [
    "line(ret, cumsum=True, title=\"Factor returns\")"
   ]
  },
  {
   "cell_type": "markdown",
   "metadata": {},
   "source": [
    "As in the industry Momentum case, we use the previous 12-month returns as the prediction of returns."
   ]
  },
  {
   "cell_type": "code",
   "execution_count": null,
   "metadata": {
    "execution": {
     "iopub.execute_input": "2025-09-29T15:45:33.605757Z",
     "iopub.status.busy": "2025-09-29T15:45:33.605392Z",
     "iopub.status.idle": "2025-09-29T15:45:33.633026Z",
     "shell.execute_reply": "2025-09-29T15:45:33.632368Z"
    }
   },
   "outputs": [],
   "source": [
    "def transform_X(df, window=12):\n",
    "    return df.rolling(window=window).mean()\n",
    "\n",
    "\n",
    "def transform_y(df):\n",
    "    return df.shift(-1)\n",
    "\n",
    "\n",
    "X = transform_X(ret)\n",
    "y = transform_y(ret)"
   ]
  },
  {
   "cell_type": "markdown",
   "metadata": {},
   "source": [
    "While in the sector rotation case, we imposed a \"cash-neutrality constraint\" (so that the sum of the positions on a given is zero and the strategy is long-short), this constraint is not necessary in the factor timing case. Below, we set the constraint vector `A` to `None` in the `MeanVariance` estimator. "
   ]
  },
  {
   "cell_type": "code",
   "execution_count": null,
   "metadata": {
    "execution": {
     "iopub.execute_input": "2025-09-29T15:45:33.635217Z",
     "iopub.status.busy": "2025-09-29T15:45:33.634925Z",
     "iopub.status.idle": "2025-09-29T15:45:34.040482Z",
     "shell.execute_reply": "2025-09-29T15:45:34.039803Z"
    }
   },
   "outputs": [],
   "source": [
    "m = Backtester(estimator=MeanVariance(A=None), name=\"Factor momentum\")\n",
    "pnl_ = m.train(X, y, ret)\n",
    "line(pnl_, cumsum=True)"
   ]
  },
  {
   "cell_type": "markdown",
   "metadata": {},
   "source": [
    "Below we decompose the strategy pnl by the contribution of each asset. (We also divide the total pnl by the square-root of the number of assets so that all the pnl shown below have approximately the same standard devation.)"
   ]
  },
  {
   "cell_type": "code",
   "execution_count": null,
   "metadata": {
    "execution": {
     "iopub.execute_input": "2025-09-29T15:45:34.042869Z",
     "iopub.status.busy": "2025-09-29T15:45:34.042547Z",
     "iopub.status.idle": "2025-09-29T15:45:34.776819Z",
     "shell.execute_reply": "2025-09-29T15:45:34.776163Z"
    }
   },
   "outputs": [],
   "source": [
    "line(\n",
    "    m.h_.shift(1)\n",
    "    .mul(ret)\n",
    "    .dropna(how=\"all\", axis=0)\n",
    "    .assign(ALL=lambda x: x.sum(axis=1).div(np.sqrt(ret.shape[1]))),\n",
    "    cumsum=True,\n",
    "    title=\"Pnl decomposition by asset\",\n",
    ")"
   ]
  },
  {
   "cell_type": "markdown",
   "metadata": {},
   "source": [
    "The chart below shows the average positions on the factors is positive, but there is a significant standard deviation on the position. "
   ]
  },
  {
   "cell_type": "code",
   "execution_count": null,
   "metadata": {
    "execution": {
     "iopub.execute_input": "2025-09-29T15:45:34.779031Z",
     "iopub.status.busy": "2025-09-29T15:45:34.778708Z",
     "iopub.status.idle": "2025-09-29T15:45:34.895420Z",
     "shell.execute_reply": "2025-09-29T15:45:34.894756Z"
    }
   },
   "outputs": [],
   "source": [
    "bar(m.h_.mean(), m.h_.std(), horizontal=True, title=\"Average factor holdings\")"
   ]
  },
  {
   "cell_type": "markdown",
   "metadata": {},
   "source": [
    "To see whether the performance is coming from factor \"tilts\", we decompose the pnls into the slow positions (over a one-year halflife) and the faster residual positions (defined as the difference between the positions and slow positions). This tilt/timing decomposition below shows some contribution from timing.  "
   ]
  },
  {
   "cell_type": "code",
   "execution_count": null,
   "metadata": {
    "execution": {
     "iopub.execute_input": "2025-09-29T15:45:34.897597Z",
     "iopub.status.busy": "2025-09-29T15:45:34.897291Z",
     "iopub.status.idle": "2025-09-29T15:45:35.400366Z",
     "shell.execute_reply": "2025-09-29T15:45:35.399729Z"
    },
    "tags": []
   },
   "outputs": [],
   "source": [
    "line(\n",
    "    {\n",
    "        \"ALL\": pnl_,\n",
    "        \"tilt\": m.h_.ewm(halflife=12)\n",
    "        .mean()\n",
    "        .shift(1)\n",
    "        .mul(ret)\n",
    "        .sum(axis=1)\n",
    "        .replace(0, np.nan)\n",
    "        .dropna(),\n",
    "        \"timing\": m.h_.sub(m.h_.ewm(halflife=12).mean())\n",
    "        .shift(1)\n",
    "        .mul(ret)\n",
    "        .sum(axis=1)\n",
    "        .replace(0, np.nan)\n",
    "        .dropna(),\n",
    "    },\n",
    "    cumsum=True,\n",
    "    title=\"Tilt/timing decomposition\",\n",
    ")"
   ]
  }
 ],
 "metadata": {
  "hide_input": false,
  "kernelspec": {
   "display_name": "skfin 2024",
   "language": "python",
   "name": "skfin"
  },
  "language_info": {
   "codemirror_mode": {
    "name": "ipython",
    "version": 3
   },
   "file_extension": ".py",
   "mimetype": "text/x-python",
   "name": "python",
   "nbconvert_exporter": "python",
   "pygments_lexer": "ipython3",
   "version": "3.9.20"
  },
  "toc": {
   "base_numbering": 1,
   "nav_menu": {},
   "number_sections": true,
   "sideBar": true,
   "skip_h1_title": false,
   "title_cell": "Table of Contents",
   "title_sidebar": "Contents",
   "toc_cell": false,
   "toc_position": {},
   "toc_section_display": true,
   "toc_window_display": false
  }
 },
 "nbformat": 4,
 "nbformat_minor": 4
}
