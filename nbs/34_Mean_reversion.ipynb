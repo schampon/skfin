{
 "cells": [
  {
   "cell_type": "markdown",
   "id": "5b3ee3f0",
   "metadata": {
    "editable": true,
    "slideshow": {
     "slide_type": ""
    },
    "tags": []
   },
   "source": [
    "# Risk Management and Mean-Reversion Strategies in Hedge Funds: Lessons from the 2007 Quant Crisis"
   ]
  },
  {
   "cell_type": "markdown",
   "id": "fa7c31c1",
   "metadata": {},
   "source": [
    "Hedge funds generate returns by taking on risks, which can be categorized into idiosyncratic risk and aggregate risk. Idiosyncratic risk is specific to individual assets or sectors and can be mitigated through diversification. Aggregate risk, affecting the broader market, cannot be diversified away and requires hedging strategies. The returns earned by hedge funds are the reward for navigating and exploiting these risks effectively.\n",
    "\n",
    "In this section, we discuss one particular risk-taking stategy on stocks --  `liquidity provision` (or `mean-reversion`) -- and discuss its performance during the period elevated aggregated risk in August 2007. \n",
    "\n",
    "Hedge funds need to consider two key factors in their overall approach to risk-taking:\n",
    "\n",
    "- Risk management: Effective risk management often relies on improved risk models. We will examine the use of risk-model shrinkage as a method to decrease the over-realization of risk. \n",
    "\n",
    "- Leverage management: another aspect of risk is the management of leverage and we discuss how to reduce the risk-per-unit of leverage by concentrating the positions or the predictors. "
   ]
  },
  {
   "cell_type": "markdown",
   "id": "9730fbab",
   "metadata": {},
   "source": [
    "## Liquidity and autocorrelation of stock returns"
   ]
  },
  {
   "cell_type": "code",
   "execution_count": null,
   "id": "c761a7b9",
   "metadata": {
    "execution": {
     "iopub.execute_input": "2025-09-29T15:50:59.818448Z",
     "iopub.status.busy": "2025-09-29T15:50:59.818248Z",
     "iopub.status.idle": "2025-09-29T15:50:59.823369Z",
     "shell.execute_reply": "2025-09-29T15:50:59.822933Z"
    }
   },
   "outputs": [],
   "source": [
    "# hide\n",
    "from IPython.display import Image, display"
   ]
  },
  {
   "cell_type": "code",
   "execution_count": null,
   "id": "643d2db6",
   "metadata": {
    "execution": {
     "iopub.execute_input": "2025-09-29T15:50:59.824934Z",
     "iopub.status.busy": "2025-09-29T15:50:59.824739Z",
     "iopub.status.idle": "2025-09-29T15:50:59.850171Z",
     "shell.execute_reply": "2025-09-29T15:50:59.849739Z"
    }
   },
   "outputs": [],
   "source": [
    "# hide\n",
    "display(Image(\"images/khandani_1.png\", width=500))"
   ]
  },
  {
   "cell_type": "markdown",
   "id": "20d11abb",
   "metadata": {},
   "source": [
    "Hedge funds as provider of liquidity is trend perfected by Long-Term Capital Management (until its\n",
    "fatal crash in 1998...): \n",
    "\n",
    "> \"by taking long positions in stocks that have declined and short positions in stocks that have advanced over the previous\n",
    "day, the strategy actively provides liquidity to the marketplace;\"\n",
    "\n",
    "This type of strategies generally requires a very high leverage, so anticipating market dislocations is key. Khandani-Lo (2007) argue that hedge funds have overtook traditional market makers as liquidity providers, so much so that when hedge funds retract, the whole market collapses..."
   ]
  },
  {
   "cell_type": "markdown",
   "id": "c17ae6bd",
   "metadata": {},
   "source": [
    "Mean-reversion is a contrarian strategy where the holdings positive in past losers and negative in past winners: \n",
    "    \n",
    "$$h_{n, t} = - 1 \\times \\frac{1}{N} \\left(r_{n, t} - r_{\\text{Market}, t} \\right), $$\n",
    "\n",
    "where $r_{\\text{Market}, t} = \\frac{1}{N} \\sum_n r_{n, t}$ is the cross-sectional average. By construction, such a strategy is cash-neutral: \n",
    "\n",
    "$$ \\sum_n h_{n, t} = 0.$$ "
   ]
  },
  {
   "cell_type": "markdown",
   "id": "bbd26105",
   "metadata": {},
   "source": [
    "Khandani and Lo (2007) show that a market-making liquidity provision exhibited extreme losses during the week of August 6, 2007 suggesting market-wide deleveraging.\n",
    "\n",
    "> \"We wish to acknowledge at the outset that the hypotheses advanced in this paper are speculative, tentative, and based solely on indirect evidence.\""
   ]
  },
  {
   "cell_type": "code",
   "execution_count": null,
   "id": "b97ac8f1",
   "metadata": {
    "execution": {
     "iopub.execute_input": "2025-09-29T15:50:59.851831Z",
     "iopub.status.busy": "2025-09-29T15:50:59.851632Z",
     "iopub.status.idle": "2025-09-29T15:50:59.860409Z",
     "shell.execute_reply": "2025-09-29T15:50:59.859985Z"
    },
    "slideshow": {
     "slide_type": "fragment"
    }
   },
   "outputs": [],
   "source": [
    "# hide\n",
    "display(Image(\"images/khandaniLoFigure1.PNG\", width=500))"
   ]
  },
  {
   "cell_type": "code",
   "execution_count": null,
   "id": "90dc965b",
   "metadata": {
    "execution": {
     "iopub.execute_input": "2025-09-29T15:50:59.862042Z",
     "iopub.status.busy": "2025-09-29T15:50:59.861842Z",
     "iopub.status.idle": "2025-09-29T15:50:59.873555Z",
     "shell.execute_reply": "2025-09-29T15:50:59.873138Z"
    }
   },
   "outputs": [],
   "source": [
    "# hide\n",
    "display(Image(\"images/khandaniLoFigure2.PNG\", width=500))"
   ]
  },
  {
   "cell_type": "code",
   "execution_count": null,
   "id": "89f2618a",
   "metadata": {
    "execution": {
     "iopub.execute_input": "2025-09-29T15:50:59.875025Z",
     "iopub.status.busy": "2025-09-29T15:50:59.874832Z",
     "iopub.status.idle": "2025-09-29T15:50:59.885832Z",
     "shell.execute_reply": "2025-09-29T15:50:59.885449Z"
    }
   },
   "outputs": [],
   "source": [
    "# hide\n",
    "display(Image(\"images/khandaniLoTable1Header.PNG\", width=500))\n",
    "display(Image(\"images/khandaniLoTable1.PNG\", width=500))"
   ]
  },
  {
   "cell_type": "markdown",
   "id": "0a4aae03",
   "metadata": {},
   "source": [
    "Quantitative equity fnds were hit in August 2007 especifically on August 7th–9th with massive reversal on August 10th. Some of the most consistently profitable funds lost too. Moreover, it seemed to only affect quants and it was not related to any real market news. \n",
    "\n",
    "Kandhani-Lo “Unwind hypothesis:\"\n",
    "\n",
    "- many quant funds use similar factor models\n",
    "- if one fund has to unwind a large position, that hurts other funds\n",
    "- this causes these other funds to sell as well..."
   ]
  },
  {
   "cell_type": "markdown",
   "id": "ac024514",
   "metadata": {},
   "source": [
    "Sequence of event:\n",
    "\n",
    "-  initial losses \"initiated by the rapid unwind of one or more sizeable quantitative equity market-neutral portfolios (likely the result of a force liquidation by a multi-strategy fund or proprietary desk, possibly due to a margin call or a risk reduction)\"\n",
    "- \"these initial losses put pressure on a broader set of long/short and long-only equity portfolios, causing further losses by triggering stop/loss and deleveraging policies\"\n",
    "- \"on Friday, August 10th, sharp reversals in all five strategies erased nearly all of the losses of the previous four days, returning portfolio values back to their levels on the morning of August 6th. Of course, this assumes that portfolio leverage did not change during this tumultuous week, which is an unlikely assumption given the enormous losses during the first few days.\""
   ]
  },
  {
   "cell_type": "code",
   "execution_count": null,
   "id": "031e5cb2",
   "metadata": {
    "execution": {
     "iopub.execute_input": "2025-09-29T15:50:59.887385Z",
     "iopub.status.busy": "2025-09-29T15:50:59.887187Z",
     "iopub.status.idle": "2025-09-29T15:50:59.910464Z",
     "shell.execute_reply": "2025-09-29T15:50:59.910052Z"
    }
   },
   "outputs": [],
   "source": [
    "# hide\n",
    "display(Image(\"images/brunnermeier_1.png\", width=500))"
   ]
  },
  {
   "cell_type": "markdown",
   "id": "b534bb3b",
   "metadata": {},
   "source": [
    "## Sample "
   ]
  },
  {
   "cell_type": "code",
   "execution_count": null,
   "id": "673c0052",
   "metadata": {
    "execution": {
     "iopub.execute_input": "2025-09-29T15:50:59.911976Z",
     "iopub.status.busy": "2025-09-29T15:50:59.911784Z",
     "iopub.status.idle": "2025-09-29T15:51:01.362545Z",
     "shell.execute_reply": "2025-09-29T15:51:01.362005Z"
    }
   },
   "outputs": [],
   "source": [
    "# hide\n",
    "%load_ext autoreload\n",
    "%autoreload 2\n",
    "%matplotlib inline\n",
    "\n",
    "import numpy as np\n",
    "import pandas as pd\n",
    "from IPython.display import Image\n",
    "from matplotlib import pyplot as plt\n",
    "from skfin.metrics import sharpe_ratio\n",
    "from skfin.plot import bar, line\n",
    "from tqdm.auto import tqdm"
   ]
  },
  {
   "cell_type": "code",
   "execution_count": null,
   "id": "de57f53b",
   "metadata": {
    "execution": {
     "iopub.execute_input": "2025-09-29T15:51:01.364791Z",
     "iopub.status.busy": "2025-09-29T15:51:01.364464Z",
     "iopub.status.idle": "2025-09-29T15:51:01.564486Z",
     "shell.execute_reply": "2025-09-29T15:51:01.563962Z"
    }
   },
   "outputs": [],
   "source": [
    "from skfin.datasets_ import load_sklearn_stock_returns\n",
    "\n",
    "ret = load_sklearn_stock_returns(cache_dir=\"data\")"
   ]
  },
  {
   "cell_type": "markdown",
   "id": "83b22f9f",
   "metadata": {},
   "source": [
    "This stock return is found in the `example` folder on `scikit-learn` github repository and contains returns from 2003 to 2008. Interestingly, it includes not only US companies, but also European (e.g. Total, SAP, Novartis, etc) and Japanese (Honda, Sony, Toyota) ones. Moreover, some companies are no longer publically traded (e.g. Dell) or have been split (DuPont). "
   ]
  },
  {
   "cell_type": "markdown",
   "id": "a211c67b",
   "metadata": {},
   "source": [
    "In particular, removing firms that are no longer publicly traded would create a survival bias in the sample. More generally, it is important to make sure that the firms that would have been available for trading are dynamically included in the backtest sample and removed when there are no longer traded (or not liquid enough to be traded given transaction costs). "
   ]
  },
  {
   "cell_type": "markdown",
   "id": "1b90a29d",
   "metadata": {},
   "source": [
    "## Mean-reversion strategy"
   ]
  },
  {
   "cell_type": "markdown",
   "id": "b70585e9",
   "metadata": {},
   "source": [
    "We load the same functions as the ones we used for the industry backtest."
   ]
  },
  {
   "cell_type": "code",
   "execution_count": null,
   "id": "d6f0d7e1",
   "metadata": {
    "execution": {
     "iopub.execute_input": "2025-09-29T15:51:01.566691Z",
     "iopub.status.busy": "2025-09-29T15:51:01.566379Z",
     "iopub.status.idle": "2025-09-29T15:51:01.590599Z",
     "shell.execute_reply": "2025-09-29T15:51:01.590168Z"
    }
   },
   "outputs": [],
   "source": [
    "from skfin.backtesting import Backtester\n",
    "from skfin.mv_estimators import MeanVariance"
   ]
  },
  {
   "cell_type": "markdown",
   "id": "62fefe3a",
   "metadata": {},
   "source": [
    "Rather than setting the positions as $-1 \\times$ returns (as Khandani and Lo do), we feed the $-1 \\times$ EMA(returns) into the `Backtester` class to get mean-variance positions. "
   ]
  },
  {
   "cell_type": "code",
   "execution_count": null,
   "id": "67556e03",
   "metadata": {
    "execution": {
     "iopub.execute_input": "2025-09-29T15:51:01.592210Z",
     "iopub.status.busy": "2025-09-29T15:51:01.592007Z",
     "iopub.status.idle": "2025-09-29T15:51:01.617566Z",
     "shell.execute_reply": "2025-09-29T15:51:01.617133Z"
    }
   },
   "outputs": [],
   "source": [
    "def xs_score(x, clip=5):\n",
    "    return (\n",
    "        x.sub(x.mean(axis=1), axis=0)\n",
    "        .div(x.std(axis=1), axis=0)\n",
    "        .clip(lower=-clip, upper=clip)\n",
    "    )"
   ]
  },
  {
   "cell_type": "code",
   "execution_count": null,
   "id": "dc28181c",
   "metadata": {
    "execution": {
     "iopub.execute_input": "2025-09-29T15:51:01.619103Z",
     "iopub.status.busy": "2025-09-29T15:51:01.618902Z",
     "iopub.status.idle": "2025-09-29T15:51:01.652216Z",
     "shell.execute_reply": "2025-09-29T15:51:01.651773Z"
    }
   },
   "outputs": [],
   "source": [
    "transform_X = lambda x: -1 * x.pipe(xs_score).ewm(halflife=5).mean().fillna(0)\n",
    "transform_y = lambda x: x.shift(-1).fillna(0)\n",
    "features = transform_X(ret)\n",
    "target = transform_y(ret)"
   ]
  },
  {
   "cell_type": "markdown",
   "id": "5fd544ac",
   "metadata": {},
   "source": [
    "In contrast to the industry backtests (which were at the Monthly frequency), these mean-reversion backtests are at the (business) day frequency."
   ]
  },
  {
   "cell_type": "code",
   "execution_count": null,
   "id": "9181179b",
   "metadata": {
    "execution": {
     "iopub.execute_input": "2025-09-29T15:51:01.653808Z",
     "iopub.status.busy": "2025-09-29T15:51:01.653607Z",
     "iopub.status.idle": "2025-09-29T15:51:01.700080Z",
     "shell.execute_reply": "2025-09-29T15:51:01.699621Z"
    }
   },
   "outputs": [],
   "source": [
    "ret.equals(ret.resample(\"B\").mean())"
   ]
  },
  {
   "cell_type": "markdown",
   "id": "23747199",
   "metadata": {},
   "source": [
    "The backtest is setup so that the risk-model is computed over 3-months (=63 business days)."
   ]
  },
  {
   "cell_type": "code",
   "execution_count": null,
   "id": "ab94d72b",
   "metadata": {
    "execution": {
     "iopub.execute_input": "2025-09-29T15:51:01.701782Z",
     "iopub.status.busy": "2025-09-29T15:51:01.701554Z",
     "iopub.status.idle": "2025-09-29T15:51:01.725527Z",
     "shell.execute_reply": "2025-09-29T15:51:01.725074Z"
    }
   },
   "outputs": [],
   "source": [
    "risk_model_window = 63"
   ]
  },
  {
   "cell_type": "code",
   "execution_count": null,
   "id": "32a309e8-8cbf-403d-b9a1-e6d0d5cd5db6",
   "metadata": {
    "editable": true,
    "execution": {
     "iopub.execute_input": "2025-09-29T15:51:01.727145Z",
     "iopub.status.busy": "2025-09-29T15:51:01.726924Z",
     "iopub.status.idle": "2025-09-29T15:51:02.320177Z",
     "shell.execute_reply": "2025-09-29T15:51:02.319590Z"
    },
    "slideshow": {
     "slide_type": ""
    },
    "tags": []
   },
   "outputs": [],
   "source": [
    "m = (\n",
    "    Backtester(\n",
    "        MeanVariance(), max_train_size=risk_model_window, start_date=\"2003-05-01\"\n",
    "    )\n",
    "    .compute_holdings(features, target)\n",
    "    .compute_pnl(ret)\n",
    ")\n",
    "\n",
    "hs = {\"no-shrinkage\": m.h_}"
   ]
  },
  {
   "cell_type": "code",
   "execution_count": null,
   "id": "4b38c30e",
   "metadata": {
    "execution": {
     "iopub.execute_input": "2025-09-29T15:51:02.322396Z",
     "iopub.status.busy": "2025-09-29T15:51:02.322125Z",
     "iopub.status.idle": "2025-09-29T15:51:02.683052Z",
     "shell.execute_reply": "2025-09-29T15:51:02.682579Z"
    }
   },
   "outputs": [],
   "source": [
    "fig, ax = plt.subplots(1, 2, figsize=(16, 5))\n",
    "m.pnl_.div(np.sqrt(risk_model_window)).hist(bins=30, ax=ax[0])\n",
    "ax[0].set_title(\"Normalized pnl histogram\")\n",
    "line(\n",
    "    m.pnl_,\n",
    "    cumsum=True,\n",
    "    start_date=\"2003-05-01\",\n",
    "    title=\"Mean-reversion pnl\",\n",
    "    ax=ax[1],\n",
    "    loc=\"best\",\n",
    ")"
   ]
  },
  {
   "cell_type": "markdown",
   "id": "483e480b",
   "metadata": {},
   "source": [
    "The graph below shows the lead-lag sharpe ratio. The right graph shows the lag: the $0$ lag is the tradable lag with a sharpe ratio equal to 1.06 (as in the cumulative pnl graph above). Lagging trading by several business days (up to five) maintain sharpe ratio approximately constant. \n",
    "\n",
    "The left graph shows the \"lead\" sharpe ratios -- that is, the counterfactual of what the sharpe ratio would have been with future information. Given that the strategy is strong countrarian, this lead sharpe ratio is very negative. "
   ]
  },
  {
   "cell_type": "code",
   "execution_count": null,
   "id": "9f6dae30",
   "metadata": {
    "execution": {
     "iopub.execute_input": "2025-09-29T15:51:02.684832Z",
     "iopub.status.busy": "2025-09-29T15:51:02.684605Z",
     "iopub.status.idle": "2025-09-29T15:51:03.164934Z",
     "shell.execute_reply": "2025-09-29T15:51:03.164432Z"
    }
   },
   "outputs": [],
   "source": [
    "fig, ax = plt.subplots(1, 2, figsize=(20, 6))\n",
    "fig.suptitle(\"Lead-lag sharpe ratio\")\n",
    "bar(\n",
    "    {\n",
    "        i: m.h_.shift(1 + i).mul(ret).sum(axis=1).pipe(sharpe_ratio)\n",
    "        for i in range(-10, 0)\n",
    "    },\n",
    "    sort=False,\n",
    "    title=\"Lead (with future information)\",\n",
    "    ax=ax[0],\n",
    ")\n",
    "\n",
    "bar(\n",
    "    {\n",
    "        i: m.h_.shift(1 + i).mul(ret).sum(axis=1).pipe(sharpe_ratio)\n",
    "        for i in range(0, 10)\n",
    "    },\n",
    "    sort=False,\n",
    "    title=\"Lag\",\n",
    "    ax=ax[1],\n",
    ")"
   ]
  },
  {
   "cell_type": "code",
   "execution_count": null,
   "id": "58812759",
   "metadata": {
    "execution": {
     "iopub.execute_input": "2025-09-29T15:51:03.166834Z",
     "iopub.status.busy": "2025-09-29T15:51:03.166581Z",
     "iopub.status.idle": "2025-09-29T15:51:05.695375Z",
     "shell.execute_reply": "2025-09-29T15:51:05.694859Z"
    }
   },
   "outputs": [],
   "source": [
    "m_ = Backtester(\n",
    "    MeanVariance(), max_train_size=risk_model_window, start_date=\"2003-05-01\"\n",
    ")\n",
    "pnls_ = {}\n",
    "for clip in [2, 3, 4, 5]:\n",
    "    transform_X_ = lambda x: -1 * x.pipe(xs_score, clip=clip).ewm(\n",
    "        halflife=5\n",
    "    ).mean().fillna(0)\n",
    "    features_ = transform_X_(ret)\n",
    "    pnls_[f\"clip={clip}\"] = m_.train(features_, target, ret)\n",
    "line(pnls_, cumsum=True, title=\"Robustness: return clipping\")"
   ]
  },
  {
   "cell_type": "markdown",
   "id": "4329af67",
   "metadata": {},
   "source": [
    "## Mean-reversion with risk-model shrinkage"
   ]
  },
  {
   "cell_type": "markdown",
   "id": "cea3feb8",
   "metadata": {},
   "source": [
    "Intuitively, risk-model shrinkage is more necessary and useful with more assets (e.g. many stocks versus few industries). We show how the shrinkage of the coveriance matrix helps reducing the over-realisation of risk. "
   ]
  },
  {
   "cell_type": "code",
   "execution_count": null,
   "id": "3c4a6e38",
   "metadata": {
    "editable": true,
    "execution": {
     "iopub.execute_input": "2025-09-29T15:51:05.697245Z",
     "iopub.status.busy": "2025-09-29T15:51:05.697001Z",
     "iopub.status.idle": "2025-09-29T15:51:14.436994Z",
     "shell.execute_reply": "2025-09-29T15:51:14.436214Z"
    },
    "slideshow": {
     "slide_type": ""
    },
    "tags": []
   },
   "outputs": [],
   "source": [
    "from sklearn.covariance import ShrunkCovariance\n",
    "\n",
    "pnls_ = {}\n",
    "for shrinkage in [0, 0.001, 0.01, 0.1]:\n",
    "    transform_V_ = lambda x: ShrunkCovariance(shrinkage=shrinkage).fit(x).covariance_\n",
    "    pnls_[shrinkage] = Backtester(\n",
    "        MeanVariance(transform_V=transform_V_),\n",
    "        max_train_size=risk_model_window,\n",
    "        start_date=\"2003-05-01\",\n",
    "    ).train(features, target, ret)"
   ]
  },
  {
   "cell_type": "code",
   "execution_count": null,
   "id": "f1874f33",
   "metadata": {
    "execution": {
     "iopub.execute_input": "2025-09-29T15:51:14.439451Z",
     "iopub.status.busy": "2025-09-29T15:51:14.439125Z",
     "iopub.status.idle": "2025-09-29T15:51:14.828118Z",
     "shell.execute_reply": "2025-09-29T15:51:14.827599Z"
    }
   },
   "outputs": [],
   "source": [
    "fig, ax = plt.subplots(1, 2, figsize=(16, 5))\n",
    "\n",
    "line(pnls_, cumsum=True, title=\"Pnl (constant risk)\", loc=\"best\", ax=ax[0])\n",
    "line(\n",
    "    pd.concat(pnls_, axis=1).pipe(lambda x: x.div(x.std())),\n",
    "    cumsum=True,\n",
    "    title=\"Pnl (constant risk + ex-post rescaling) \",\n",
    "    loc=\"best\",\n",
    "    ax=ax[1],\n",
    ")"
   ]
  },
  {
   "cell_type": "markdown",
   "id": "7489b4f0",
   "metadata": {},
   "source": [
    "We see that with no risk-model shrinkage, the over-realisation of risk is very significant. With some shrinkage, there are less pnl outliers -- as shown in the histogram below. "
   ]
  },
  {
   "cell_type": "code",
   "execution_count": null,
   "id": "8da37469",
   "metadata": {
    "execution": {
     "iopub.execute_input": "2025-09-29T15:51:14.830216Z",
     "iopub.status.busy": "2025-09-29T15:51:14.829964Z",
     "iopub.status.idle": "2025-09-29T15:51:14.960619Z",
     "shell.execute_reply": "2025-09-29T15:51:14.960141Z"
    }
   },
   "outputs": [],
   "source": [
    "pnls_[0.01].div(np.sqrt(risk_model_window)).hist(bins=30);"
   ]
  },
  {
   "cell_type": "markdown",
   "id": "d3b2f737",
   "metadata": {},
   "source": [
    "## Leverage of mean-reversion strategies"
   ]
  },
  {
   "attachments": {},
   "cell_type": "markdown",
   "id": "a96a3f08-5500-404e-8695-ea0c7a3b41c5",
   "metadata": {},
   "source": [
    "Concentrating portfolio positions—in other words, setting smaller positions close to zero—can help increase the risk per unit of leverage. Intuitively, when a portfolio is very diversified across many positions, the realized risk is low -- which is great to generate a high Sharpe ratio, but not necessarily good to generate high returns. \n",
    "\n",
    "In this section, we discuss how we can increase the level of risk per unit of leverage by concentrating the positions. \n",
    "\n",
    "$$\n",
    "risk\\_per\\_unit\\_of\\_leverage = STD\\left[\\frac{h_t^T r_t}{||h_t||_1}\\right]\n",
    "$$\n",
    "\n",
    "As the ratio of a L2 and L1 norms, the risk-per-unit-of-leverage is related to other concentration measures such as the Herfindahl-Hirschman Index or the Gini coefficient. "
   ]
  },
  {
   "cell_type": "code",
   "execution_count": null,
   "id": "b55aa976",
   "metadata": {
    "execution": {
     "iopub.execute_input": "2025-09-29T15:51:14.962559Z",
     "iopub.status.busy": "2025-09-29T15:51:14.962304Z",
     "iopub.status.idle": "2025-09-29T15:51:14.989359Z",
     "shell.execute_reply": "2025-09-29T15:51:14.988885Z"
    }
   },
   "outputs": [],
   "source": [
    "from skfin.metrics import sharpe_ratio\n",
    "\n",
    "leverage_scaling = lambda x: x.div(x.abs().sum(axis=1), axis=0)\n",
    "\n",
    "\n",
    "def risk_per_unit_of_leverage(h, ret, return_sharpe_ratio=False):\n",
    "    pnl = h.pipe(leverage_scaling).shift(1).mul(ret).sum(axis=1).loc[h.index]\n",
    "    if return_sharpe_ratio:\n",
    "        return {\"std\": pnl.std() * np.sqrt(252), \"sharpe_ratio\": pnl.pipe(sharpe_ratio)}\n",
    "    else:\n",
    "        return pnl.std() * np.sqrt(252)"
   ]
  },
  {
   "cell_type": "code",
   "execution_count": null,
   "id": "6e850457-bedd-4691-a28e-e2b0ebecd6e1",
   "metadata": {
    "execution": {
     "iopub.execute_input": "2025-09-29T15:51:14.991073Z",
     "iopub.status.busy": "2025-09-29T15:51:14.990883Z",
     "iopub.status.idle": "2025-09-29T15:51:17.191836Z",
     "shell.execute_reply": "2025-09-29T15:51:17.191187Z"
    }
   },
   "outputs": [],
   "source": [
    "shrinkage = 0.01\n",
    "transform_V_ = lambda x: ShrunkCovariance(shrinkage=shrinkage).fit(x).covariance_\n",
    "m_ = (\n",
    "    Backtester(\n",
    "        MeanVariance(transform_V=transform_V_),\n",
    "        max_train_size=risk_model_window,\n",
    "        start_date=\"2003-05-01\",\n",
    "    )\n",
    "    .compute_holdings(features, target)\n",
    "    .compute_pnl(ret)\n",
    ")\n",
    "\n",
    "hs[\"shrinkage=0.01\"] = m_.h_"
   ]
  },
  {
   "cell_type": "code",
   "execution_count": null,
   "id": "29218e6a-0a1a-46a1-824e-d49a1eb6ab81",
   "metadata": {
    "execution": {
     "iopub.execute_input": "2025-09-29T15:51:17.194277Z",
     "iopub.status.busy": "2025-09-29T15:51:17.193986Z",
     "iopub.status.idle": "2025-09-29T15:51:17.231015Z",
     "shell.execute_reply": "2025-09-29T15:51:17.230452Z"
    }
   },
   "outputs": [],
   "source": [
    "from sklearn.base import TransformerMixin\n",
    "\n",
    "\n",
    "def apply_quantile_filter(dataframe, q):\n",
    "    \"\"\"\n",
    "    Apply a quantile-based filtering to a DataFrame.\n",
    "\n",
    "    This function sets values within each row of the DataFrame to zero if they are not\n",
    "    in the range defined by the quantiles specified along the rows of the DataFrame. Values that\n",
    "    are greater than or equal to the upper quantile or less than or equal to the lower quantile\n",
    "    remain unchanged.\n",
    "\n",
    "    Parameters:\n",
    "    - dataframe (pd.DataFrame): The input DataFrame to apply the filter to.\n",
    "    - q (float): The quantile threshold to use for filtering. It should be a float\n",
    "      between 0 and 1. Values are retained if they are above `q` or below `1-q`.\n",
    "\n",
    "    Returns:\n",
    "    - pd.DataFrame: A DataFrame with values set to zero if they don't meet the quantile condition.\n",
    "    \"\"\"\n",
    "    return dataframe.where(\n",
    "        dataframe.ge(dataframe.quantile(q=q, axis=1), axis=0)\n",
    "        | dataframe.le(dataframe.quantile(q=1 - q, axis=1), axis=0),\n",
    "        0,\n",
    "    )\n",
    "\n",
    "\n",
    "class Concentrate(TransformerMixin):\n",
    "    \"\"\"\n",
    "    A transformer that filters data based on quantile thresholds across rows.\n",
    "\n",
    "    The `Concentrate` transformer is designed to modify a DataFrame by zeroing out\n",
    "    values that fall between the specified quantile thresholds for each row. This highlights\n",
    "    outliers or concentrations along each row.\n",
    "\n",
    "    Attributes:\n",
    "    - quantile (float): The quantile threshold set during initialization.\n",
    "\n",
    "    Methods:\n",
    "    - fit(X, y=None): Returns the transformer itself. It doesn't learn any parameters.\n",
    "    - transform(X, return_dataframe=False): Transforms the input data based on quantile filtering.\n",
    "\n",
    "    Parameters:\n",
    "    - q (float): The quantile threshold to determine which values to keep. The default is 0.75.\n",
    "                 If `q` is less than or equal to 0.5, it automatically adjusts to `1-q`.\n",
    "\n",
    "    Example:\n",
    "    >>> transformer = Concentrate(q=0.75)\n",
    "    >>> transformed_data = transformer.transform(dataframe)\n",
    "    >>> transformed_data[:5]  # View the top 5 rows\n",
    "    \"\"\"\n",
    "\n",
    "    def __init__(self, q=0.75):\n",
    "        self.quantile = q if q > 0.5 else 1 - q\n",
    "\n",
    "    def fit(self, X, y=None):\n",
    "        return self\n",
    "\n",
    "    def transform(self, X, return_dataframe=False):\n",
    "        if not isinstance(X, pd.DataFrame):\n",
    "            X = pd.DataFrame(X)\n",
    "        filtered_data = apply_quantile_filter(X, q=self.quantile)\n",
    "        return filtered_data if return_dataframe else filtered_data.values"
   ]
  },
  {
   "cell_type": "code",
   "execution_count": null,
   "id": "9dc80e43",
   "metadata": {
    "execution": {
     "iopub.execute_input": "2025-09-29T15:51:17.232857Z",
     "iopub.status.busy": "2025-09-29T15:51:17.232607Z",
     "iopub.status.idle": "2025-09-29T15:51:17.271439Z",
     "shell.execute_reply": "2025-09-29T15:51:17.271024Z"
    }
   },
   "outputs": [],
   "source": [
    "q = 0.75\n",
    "hs[f\"shrinkage=0.01, concentration q={q}\"] = m_.h_.pipe(apply_quantile_filter, q=q)"
   ]
  },
  {
   "cell_type": "code",
   "execution_count": null,
   "id": "15055c2a",
   "metadata": {
    "execution": {
     "iopub.execute_input": "2025-09-29T15:51:17.273229Z",
     "iopub.status.busy": "2025-09-29T15:51:17.273016Z",
     "iopub.status.idle": "2025-09-29T15:51:17.382935Z",
     "shell.execute_reply": "2025-09-29T15:51:17.382432Z"
    }
   },
   "outputs": [],
   "source": [
    "bar(\n",
    "    pd.Series({k: risk_per_unit_of_leverage(v, ret) for k, v in hs.items()}),\n",
    "    horizontal=True,\n",
    "    title=\"Annualized risk per unit of leverage\",\n",
    ")"
   ]
  },
  {
   "cell_type": "code",
   "execution_count": null,
   "id": "b27a0409",
   "metadata": {
    "execution": {
     "iopub.execute_input": "2025-09-29T15:51:17.384726Z",
     "iopub.status.busy": "2025-09-29T15:51:17.384477Z",
     "iopub.status.idle": "2025-09-29T15:51:17.725197Z",
     "shell.execute_reply": "2025-09-29T15:51:17.724662Z"
    }
   },
   "outputs": [],
   "source": [
    "df = pd.DataFrame.from_dict(\n",
    "    {\n",
    "        q: m_.h_.pipe(apply_quantile_filter, q=q).pipe(\n",
    "            risk_per_unit_of_leverage, ret=ret, return_sharpe_ratio=True\n",
    "        )\n",
    "        for q in np.arange(0.5, 0.95, 0.05)\n",
    "    },\n",
    "    orient=\"index\",\n",
    ")\n",
    "\n",
    "\n",
    "fig, ax = plt.subplots(1, 1, figsize=(8, 5))\n",
    "ax.scatter(df.iloc[:, 0], df.iloc[:, 1], s=5, c=\"tab:blue\")\n",
    "ax.set_xlabel(df.columns[0])\n",
    "ax.set_ylabel(df.columns[1])\n",
    "ax.set_title(\n",
    "    \"Sharpe ratio against (annualized) risk per unit of leverage: concentrated positions\"\n",
    ")\n",
    "for i, txt in enumerate(df.index):\n",
    "    ax.text(df.iloc[i, 0], df.iloc[i, 1], round(txt, 3), fontsize=9)"
   ]
  },
  {
   "cell_type": "markdown",
   "id": "efdb681c",
   "metadata": {},
   "source": [
    "## Concentrating the predictor instead of the positions"
   ]
  },
  {
   "cell_type": "markdown",
   "id": "bdadcd21",
   "metadata": {},
   "source": [
    "Instead of applying the concentration operator on positions, we can also apply on the predictor. The results are similar. "
   ]
  },
  {
   "cell_type": "code",
   "execution_count": null,
   "id": "96054a90",
   "metadata": {
    "execution": {
     "iopub.execute_input": "2025-09-29T15:51:17.727174Z",
     "iopub.status.busy": "2025-09-29T15:51:17.726906Z",
     "iopub.status.idle": "2025-09-29T15:51:17.757872Z",
     "shell.execute_reply": "2025-09-29T15:51:17.757359Z"
    }
   },
   "outputs": [],
   "source": [
    "from sklearn.pipeline import make_pipeline"
   ]
  },
  {
   "cell_type": "code",
   "execution_count": null,
   "id": "e7fa9e24",
   "metadata": {
    "execution": {
     "iopub.execute_input": "2025-09-29T15:51:17.759865Z",
     "iopub.status.busy": "2025-09-29T15:51:17.759536Z",
     "iopub.status.idle": "2025-09-29T15:52:19.225274Z",
     "shell.execute_reply": "2025-09-29T15:52:19.224606Z"
    }
   },
   "outputs": [],
   "source": [
    "res = {}\n",
    "for q in np.arange(0.5, 0.95, 0.05):\n",
    "    estimator = make_pipeline(Concentrate(q=q), MeanVariance(transform_V=transform_V_))\n",
    "    m2_ = Backtester(\n",
    "        estimator, max_train_size=risk_model_window, start_date=\"2003-05-01\"\n",
    "    ).compute_holdings(features, target)\n",
    "    res[q] = m2_.h_.pipe(risk_per_unit_of_leverage, ret=ret, return_sharpe_ratio=True)"
   ]
  },
  {
   "cell_type": "code",
   "execution_count": null,
   "id": "7012e737",
   "metadata": {
    "editable": true,
    "execution": {
     "iopub.execute_input": "2025-09-29T15:52:19.227850Z",
     "iopub.status.busy": "2025-09-29T15:52:19.227469Z",
     "iopub.status.idle": "2025-09-29T15:52:19.728180Z",
     "shell.execute_reply": "2025-09-29T15:52:19.727651Z"
    },
    "slideshow": {
     "slide_type": ""
    },
    "tags": []
   },
   "outputs": [],
   "source": [
    "df = pd.DataFrame.from_dict(res, orient=\"index\")\n",
    "\n",
    "fig, ax = plt.subplots(1, 1, figsize=(8, 5))\n",
    "ax.scatter(df.iloc[:, 0], df.iloc[:, 1], s=5, c=\"tab:blue\")\n",
    "ax.set_xlabel(df.columns[0])\n",
    "ax.set_ylabel(df.columns[1])\n",
    "ax.set_title(\n",
    "    \"Sharpe ratio against (annualized) risk per unit of leverage: concentrated predictor\"\n",
    ")\n",
    "for i, txt in enumerate(df.index):\n",
    "    ax.text(df.iloc[i, 0], df.iloc[i, 1], round(txt, 3), fontsize=9)"
   ]
  }
 ],
 "metadata": {
  "hide_input": false,
  "kernelspec": {
   "display_name": "skfin 2024",
   "language": "python",
   "name": "skfin"
  },
  "language_info": {
   "codemirror_mode": {
    "name": "ipython",
    "version": 3
   },
   "file_extension": ".py",
   "mimetype": "text/x-python",
   "name": "python",
   "nbconvert_exporter": "python",
   "pygments_lexer": "ipython3",
   "version": "3.9.20"
  },
  "toc": {
   "base_numbering": 1,
   "nav_menu": {},
   "number_sections": true,
   "sideBar": true,
   "skip_h1_title": false,
   "title_cell": "Table of Contents",
   "title_sidebar": "Contents",
   "toc_cell": false,
   "toc_position": {},
   "toc_section_display": true,
   "toc_window_display": false
  }
 },
 "nbformat": 4,
 "nbformat_minor": 5
}
