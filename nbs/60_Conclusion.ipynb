{
 "cells": [
  {
   "cell_type": "markdown",
   "metadata": {},
   "source": [
    "# Conclusion"
   ]
  },
  {
   "cell_type": "markdown",
   "metadata": {},
   "source": [
    "There are several packages that are natural extensions of the ideas described here: \n",
    "    \n",
    "- `jax`: https://github.com/google/jax\n",
    "- `cvxpy`: https://github.com/cvxpy/cvxpy\n",
    "- `optuna`: https://github.com/optuna/optuna or `auto-sklearn`: https://github.com/automl/auto-sklearn\n",
    "\n",
    "Several recent significant progress were made in Natural Language Processing, Computer Vision, Audio, and Graph Neural Networks. \n",
    "\n",
    "\n",
    "Moreover, similar analyses could be extented to several asset classes (for instance by leveraging `yfinance`: https://github.com/ranaroussi/yfinance or `pandas-datareader`: https://github.com/pydata/pandas-datareader): \n",
    "\n",
    "- options\n",
    "- futures contracts (including commodity futures)\n",
    "- non-US stocks (e.g. Chinese stocks)\n",
    "- bitcoin and other crypto currencies "
   ]
  }
 ],
 "metadata": {
  "hide_input": false,
  "kernelspec": {
   "display_name": "skfin",
   "language": "python",
   "name": "skfin"
  },
  "language_info": {
   "codemirror_mode": {
    "name": "ipython",
    "version": 3
   },
   "file_extension": ".py",
   "mimetype": "text/x-python",
   "name": "python",
   "nbconvert_exporter": "python",
   "pygments_lexer": "ipython3",
   "version": "3.8.16"
  },
  "toc": {
   "base_numbering": 1,
   "nav_menu": {},
   "number_sections": true,
   "sideBar": true,
   "skip_h1_title": false,
   "title_cell": "Table of Contents",
   "title_sidebar": "Contents",
   "toc_cell": false,
   "toc_position": {},
   "toc_section_display": true,
   "toc_window_display": false
  }
 },
 "nbformat": 4,
 "nbformat_minor": 4
}
