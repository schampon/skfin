{
 "cells": [
  {
   "cell_type": "markdown",
   "id": "5001e962",
   "metadata": {},
   "source": [
    "# Text processing"
   ]
  },
  {
   "cell_type": "code",
   "execution_count": null,
   "id": "6ebcecd8",
   "metadata": {
    "execution": {
     "iopub.execute_input": "2024-11-07T17:05:13.389049Z",
     "iopub.status.busy": "2024-11-07T17:05:13.388567Z",
     "iopub.status.idle": "2024-11-07T17:05:14.824124Z",
     "shell.execute_reply": "2024-11-07T17:05:14.823570Z"
    }
   },
   "outputs": [],
   "source": [
    "# hide\n",
    "%load_ext autoreload\n",
    "%autoreload 2\n",
    "%matplotlib inline\n",
    "\n",
    "from datetime import date\n",
    "from pathlib import Path\n",
    "\n",
    "import numpy as np\n",
    "import pandas as pd\n",
    "from matplotlib import cm\n",
    "from matplotlib import pyplot as plt\n",
    "from skfin.plot import bar, line\n",
    "from tqdm.auto import tqdm\n",
    "\n",
    "def plot_document_embeddings(X): \n",
    "    fig, ax = plt.subplots(1, 1, figsize=(8, 7))\n",
    "    years = [str(y) for y in X.index.year.unique()]\n",
    "    colors = cm.RdBu(np.linspace(0, 1, len(years)))\n",
    "    for i, y in enumerate(years):\n",
    "        ax.scatter(x=X.loc[y][0], y=X.loc[y][1], color=colors[i])\n",
    "    ax.legend(years, loc=\"center left\", bbox_to_anchor=(1, 0.5))\n",
    "    ax.set_xlabel(\"PC 0\")\n",
    "    ax.set_ylabel(\"PC 1\")\n",
    "\n",
    "    d = \"2020-03-03\"\n",
    "    ax.text(x=X.loc[d][0], y=X.loc[d][1], s=d);\n",
    "    \n",
    "def plot_word_embeddings(H, n=6): \n",
    "    fig, ax = plt.subplots(int(n/2), 2, figsize=(20, 16), sharex=True)\n",
    "    plt.subplots_adjust(wspace=0.5)\n",
    "    ax = ax.ravel()\n",
    "    for i in range(n):\n",
    "        bar(\n",
    "            H[i].sort_values(ascending=False).head(10),\n",
    "            horizontal=True,\n",
    "            ax=ax[i],\n",
    "            title=i,\n",
    "        )"
   ]
  },
  {
   "cell_type": "markdown",
   "id": "1d385211-59d6-4961-93ea-f454ad38f835",
   "metadata": {},
   "source": [
    "In this section, we introduce several techniques to analyse a corpus of documents. This is done in the context of the statements of the Federal Open Market Committee (FOMC). "
   ]
  },
  {
   "cell_type": "markdown",
   "id": "2c8ef8f6",
   "metadata": {},
   "source": [
    "## Loading the FOMC statements "
   ]
  },
  {
   "cell_type": "code",
   "execution_count": null,
   "id": "ad1a34fc",
   "metadata": {
    "execution": {
     "iopub.execute_input": "2024-11-07T17:05:14.827149Z",
     "iopub.status.busy": "2024-11-07T17:05:14.826707Z",
     "iopub.status.idle": "2024-11-07T17:05:15.080989Z",
     "shell.execute_reply": "2024-11-07T17:05:15.080420Z"
    }
   },
   "outputs": [],
   "source": [
    "from skfin.datasets import load_fomc_statements\n",
    "from skfin.text import show_text\n",
    "\n",
    "statements = load_fomc_statements(force_reload=False)"
   ]
  },
  {
   "cell_type": "code",
   "execution_count": null,
   "id": "f616db0d",
   "metadata": {
    "execution": {
     "iopub.execute_input": "2024-11-07T17:05:15.083678Z",
     "iopub.status.busy": "2024-11-07T17:05:15.083256Z",
     "iopub.status.idle": "2024-11-07T17:05:15.111143Z",
     "shell.execute_reply": "2024-11-07T17:05:15.110693Z"
    }
   },
   "outputs": [],
   "source": [
    "show_text(statements)"
   ]
  },
  {
   "cell_type": "code",
   "execution_count": null,
   "id": "25ad4bfa",
   "metadata": {
    "execution": {
     "iopub.execute_input": "2024-11-07T17:05:15.113406Z",
     "iopub.status.busy": "2024-11-07T17:05:15.112939Z",
     "iopub.status.idle": "2024-11-07T17:05:15.133930Z",
     "shell.execute_reply": "2024-11-07T17:05:15.133510Z"
    }
   },
   "outputs": [],
   "source": [
    "special_days = [\"2008-01-22\", \"2010-05-09\", \"2020-03-15\"]"
   ]
  },
  {
   "cell_type": "code",
   "execution_count": null,
   "id": "711bb53f",
   "metadata": {
    "execution": {
     "iopub.execute_input": "2024-11-07T17:05:15.135983Z",
     "iopub.status.busy": "2024-11-07T17:05:15.135626Z",
     "iopub.status.idle": "2024-11-07T17:05:15.164619Z",
     "shell.execute_reply": "2024-11-07T17:05:15.164036Z"
    }
   },
   "outputs": [],
   "source": [
    "show_text(statements.loc[special_days])"
   ]
  },
  {
   "cell_type": "markdown",
   "id": "d081d997-83ff-46c4-998e-73bbe883a1bb",
   "metadata": {},
   "source": [
    "## Text representation and vectorization"
   ]
  },
  {
   "cell_type": "markdown",
   "id": "49acc61e-e0b1-4e6e-a7ca-ab08f0f6abe6",
   "metadata": {},
   "source": [
    "The progress of Natural Language Processing has been based on coming up with progressively better representations of text. In this section, we first discuss \"word counting\" in a given corpus and then embedding derived from pretrained language models. "
   ]
  },
  {
   "cell_type": "markdown",
   "id": "90a4ecb7",
   "metadata": {},
   "source": [
    "### Word counting and TFIDF "
   ]
  },
  {
   "cell_type": "markdown",
   "id": "a7145d90",
   "metadata": {},
   "source": [
    "In order to extract features from text, the simplest way is to count words. In `scikit-learn`, this is done with the function `CountVectorizer`. A slightly more advanced feature is to select words based on a `TFIDF` score, defined as the product of the term frequency (`TF`) and the inverse document frequency (`IDF`). More precisely, the `TFIDF` score trades off: \n",
    "- the terms that are frequent and therefore important in a corpus: \n",
    "- the terms that appear in almost all documents and therefore are not helping to discriminate across documents. \n",
    "\n",
    "In `TfidfVectorizer`, terms can be filtered additionally with: \n",
    "- a `stop word` list\n",
    "- min and max document frequencies or counts \n",
    "- some token pattern (e.g. that eliminates the short tokens). "
   ]
  },
  {
   "cell_type": "code",
   "execution_count": null,
   "id": "87b5be80",
   "metadata": {
    "execution": {
     "iopub.execute_input": "2024-11-07T17:05:15.167309Z",
     "iopub.status.busy": "2024-11-07T17:05:15.166796Z",
     "iopub.status.idle": "2024-11-07T17:05:15.212853Z",
     "shell.execute_reply": "2024-11-07T17:05:15.212412Z"
    }
   },
   "outputs": [],
   "source": [
    "from sklearn.decomposition import NMF, PCA\n",
    "from sklearn.feature_extraction.text import TfidfVectorizer\n",
    "from sklearn.pipeline import Pipeline"
   ]
  },
  {
   "cell_type": "code",
   "execution_count": null,
   "id": "dc8f0409",
   "metadata": {
    "execution": {
     "iopub.execute_input": "2024-11-07T17:05:15.215182Z",
     "iopub.status.busy": "2024-11-07T17:05:15.214703Z",
     "iopub.status.idle": "2024-11-07T17:05:15.313943Z",
     "shell.execute_reply": "2024-11-07T17:05:15.313433Z"
    }
   },
   "outputs": [],
   "source": [
    "vectorizer = TfidfVectorizer(\n",
    "    stop_words=\"english\",\n",
    "    min_df=5,\n",
    "    max_df=0.8,\n",
    "    ngram_range=(1, 3),\n",
    "    token_pattern=r\"\\b[a-zA-Z]{3,}\\b\",\n",
    ")\n",
    "X_ = vectorizer.fit_transform(statements[\"text\"].values)"
   ]
  },
  {
   "cell_type": "code",
   "execution_count": null,
   "id": "7cf78da4",
   "metadata": {
    "execution": {
     "iopub.execute_input": "2024-11-07T17:05:15.316461Z",
     "iopub.status.busy": "2024-11-07T17:05:15.315961Z",
     "iopub.status.idle": "2024-11-07T17:05:15.340156Z",
     "shell.execute_reply": "2024-11-07T17:05:15.339736Z"
    }
   },
   "outputs": [],
   "source": [
    "cols = vectorizer.get_feature_names_out()\n",
    "print(len(cols))\n",
    "list(cols)[:10]"
   ]
  },
  {
   "cell_type": "markdown",
   "id": "88c50e34-af84-42c4-89a9-8ba309dc021b",
   "metadata": {},
   "source": [
    "In what follows, to reduce the impact over large  `tfidf` coefficients, we use the log transformationl $x \\mapsto log(1+x)$ "
   ]
  },
  {
   "cell_type": "code",
   "execution_count": null,
   "id": "32d7f16c-f47d-4097-94c3-df8021e4fbb6",
   "metadata": {
    "execution": {
     "iopub.execute_input": "2024-11-07T17:05:15.342395Z",
     "iopub.status.busy": "2024-11-07T17:05:15.341970Z",
     "iopub.status.idle": "2024-11-07T17:05:15.377108Z",
     "shell.execute_reply": "2024-11-07T17:05:15.376632Z"
    }
   },
   "outputs": [],
   "source": [
    "X_tfidf = pd.DataFrame(np.log1p(X_.toarray()), index=statements[\"text\"].index, columns=cols)"
   ]
  },
  {
   "cell_type": "code",
   "execution_count": null,
   "id": "8a99baf7",
   "metadata": {
    "execution": {
     "iopub.execute_input": "2024-11-07T17:05:15.379514Z",
     "iopub.status.busy": "2024-11-07T17:05:15.379134Z",
     "iopub.status.idle": "2024-11-07T17:05:15.605613Z",
     "shell.execute_reply": "2024-11-07T17:05:15.605120Z"
    }
   },
   "outputs": [],
   "source": [
    "bar(X_tfidf.mean().sort_values(ascending=False).head(30), horizontal=True, title='Largest (log1p) tfidf scores') "
   ]
  },
  {
   "cell_type": "markdown",
   "id": "b63a29f1-4251-4d27-bedb-927d8dae696e",
   "metadata": {},
   "source": [
    "### Deep-learning embeddings: sentence transformers"
   ]
  },
  {
   "cell_type": "markdown",
   "id": "0d54b766-6ceb-4e16-a6c5-792b8d8dc018",
   "metadata": {},
   "source": [
    "Deep-learning models have been used heavily to power NLP applications, in particular with `transformers` architecture starting with Delvin et al. (2018): \"BERT: Pre-training of Deep Bidirectional Transformers for Language Understanding\". Sentence Transformers are language models fined-tuned from pretrained language models to specifically generate meaningful text representations (as embeddings). \n",
    "\n",
    "- https://www.sbert.net/"
   ]
  },
  {
   "cell_type": "code",
   "execution_count": null,
   "id": "0a71898b",
   "metadata": {
    "execution": {
     "iopub.execute_input": "2024-11-07T17:05:15.608017Z",
     "iopub.status.busy": "2024-11-07T17:05:15.607717Z",
     "iopub.status.idle": "2024-11-07T17:05:24.783051Z",
     "shell.execute_reply": "2024-11-07T17:05:24.782466Z"
    }
   },
   "outputs": [],
   "source": [
    "from sentence_transformers import SentenceTransformer\n",
    "def count_trainable_parameters(model):\n",
    "    model_parameters = filter(lambda p: p.requires_grad, model.parameters())\n",
    "    params = sum([np.prod(p.size()) for p in model_parameters])\n",
    "    return params"
   ]
  },
  {
   "cell_type": "markdown",
   "id": "410a2a96-bf19-4ed3-b168-99cfba0ec53f",
   "metadata": {},
   "source": [
    "We use here a specific pretrained model and use it to derive embeddings for the corpus of Fed statements. "
   ]
  },
  {
   "cell_type": "code",
   "execution_count": null,
   "id": "db4643a8",
   "metadata": {
    "execution": {
     "iopub.execute_input": "2024-11-07T17:05:24.786051Z",
     "iopub.status.busy": "2024-11-07T17:05:24.785543Z",
     "iopub.status.idle": "2024-11-07T17:05:38.103262Z",
     "shell.execute_reply": "2024-11-07T17:05:38.102504Z"
    }
   },
   "outputs": [],
   "source": [
    "lm_name = \"all-distilroberta-v1\"\n",
    "m = SentenceTransformer(lm_name, device=\"cpu\", trust_remote_code=True)\n",
    "X_sbert = m.encode(statements[\"text\"].values, batch_size=2)"
   ]
  },
  {
   "cell_type": "code",
   "execution_count": null,
   "id": "5ca1cc44-21b4-4785-9594-5745052d61a1",
   "metadata": {
    "execution": {
     "iopub.execute_input": "2024-11-07T17:05:38.106017Z",
     "iopub.status.busy": "2024-11-07T17:05:38.105640Z",
     "iopub.status.idle": "2024-11-07T17:05:38.435813Z",
     "shell.execute_reply": "2024-11-07T17:05:38.435321Z"
    }
   },
   "outputs": [],
   "source": [
    "print(f'Model card:\\n - model name: {lm_name}\\n - number of parameters: {count_trainable_parameters(m)/1e6:.1f}m\\n - embedding size: {m.get_sentence_embedding_dimension()}')"
   ]
  },
  {
   "cell_type": "markdown",
   "id": "0bf56eff-98d2-4ebf-9e7a-b418bd8634f3",
   "metadata": {},
   "source": [
    "## Low-rank decomposition and visualisation"
   ]
  },
  {
   "cell_type": "markdown",
   "id": "1f8b9875-7e47-4c8e-8164-8afa92687901",
   "metadata": {},
   "source": [
    "In terms of representation of text, one key difference between the `tfidf` and `sentence transformer` reprenstation is that the former is very sparse (with many zeros) while the latter is dense. For the `tfidf` representation $X$ (where each row is a document and each column is an n-gram term out of the tfidf), the idea of a low-rank approximation is $\\hat{X}$ and $H$ such that $$ X \\approx \\hat{X} H^T, $$ \n",
    "\n",
    "where $\\hat{X}$ is a \"denser\" matrix than $X$ because intuitively, some columns have been combined. "
   ]
  },
  {
   "cell_type": "markdown",
   "id": "da0e7d46",
   "metadata": {},
   "source": [
    "### Principal component exploration"
   ]
  },
  {
   "cell_type": "markdown",
   "id": "a9086f86-fb35-446e-a8d8-fdb2b7ba5703",
   "metadata": {},
   "source": [
    "We first perform Principal Component Analysis (`PCA`) using the singular-value decomposition (`svd`) function in `numpy`. "
   ]
  },
  {
   "cell_type": "code",
   "execution_count": null,
   "id": "fb586060-d4a3-4bb1-93c7-67a041604e46",
   "metadata": {
    "execution": {
     "iopub.execute_input": "2024-11-07T17:05:38.438248Z",
     "iopub.status.busy": "2024-11-07T17:05:38.437938Z",
     "iopub.status.idle": "2024-11-07T17:05:39.737628Z",
     "shell.execute_reply": "2024-11-07T17:05:39.737071Z"
    }
   },
   "outputs": [],
   "source": [
    "u, s, w = np.linalg.svd(X_tfidf)"
   ]
  },
  {
   "cell_type": "markdown",
   "id": "d48fb633-efcb-4dd6-85d7-4a6e8052379e",
   "metadata": {},
   "source": [
    "A singular value decomposition yields: $$X = U \\times Diag (s) \\times W^T, $$\n",
    "\n",
    "where $s$ is the vector of eigenvalues and $U$ and $W$ are the matrix of eigenvectors. For a number of modes $n$, define: $s_n$ the vector with the first (largest) $n$ eivenvalues; and $U_n$ and $W_n$ the first $n$ columns of $U$ and $W$. \n",
    "\n",
    "Then with $\\hat{X} = U_n \\times Diag(\\sqrt{s_n})$ and $H_n =  W_n \\times Diag(\\sqrt{s_n})$, we have: \n",
    "\n",
    "$$X \\approx \\hat{X} H_n^T.$$ "
   ]
  },
  {
   "cell_type": "code",
   "execution_count": null,
   "id": "343f0bbc-1661-47d8-be7f-787e91ef045c",
   "metadata": {
    "execution": {
     "iopub.execute_input": "2024-11-07T17:05:39.740437Z",
     "iopub.status.busy": "2024-11-07T17:05:39.740043Z",
     "iopub.status.idle": "2024-11-07T17:05:39.790653Z",
     "shell.execute_reply": "2024-11-07T17:05:39.790191Z"
    }
   },
   "outputs": [],
   "source": [
    "n_modes = 6\n",
    "\n",
    "signed_sqrt_eigv = np.diag(np.sqrt(s[:n_modes])* np.sign(np.mean(u[:, :n_modes], axis=0)))\n",
    "X_pca = pd.DataFrame(u[:, :n_modes].dot(signed_sqrt_eigv), index=statements.index)\n",
    "H_ = pd.DataFrame(w[:n_modes, :].T.dot(signed_sqrt_eigv), index=cols)"
   ]
  },
  {
   "cell_type": "markdown",
   "id": "2af17740-d7e7-4e9f-b097-eccdae980f6d",
   "metadata": {},
   "source": [
    "We can compute a distance between the features $X$ and the approximation $W_n H_n^T$. More precisely, the Frobinus norm is the sum of squared coefficients of the matrix and it can be computed with `scipy`."
   ]
  },
  {
   "cell_type": "code",
   "execution_count": null,
   "id": "40b691dd-a8e7-4eb1-834c-be56018318ec",
   "metadata": {
    "execution": {
     "iopub.execute_input": "2024-11-07T17:05:39.793072Z",
     "iopub.status.busy": "2024-11-07T17:05:39.792647Z",
     "iopub.status.idle": "2024-11-07T17:05:39.848859Z",
     "shell.execute_reply": "2024-11-07T17:05:39.848383Z"
    }
   },
   "outputs": [],
   "source": [
    "import scipy\n",
    "norm_pca = scipy.linalg.norm(X_pca.dot(H_.T).sub(X_tfidf), ord='fro')"
   ]
  },
  {
   "cell_type": "code",
   "execution_count": null,
   "id": "44b532c9-e28e-42af-a49a-faefdddf135c",
   "metadata": {
    "execution": {
     "iopub.execute_input": "2024-11-07T17:05:39.851250Z",
     "iopub.status.busy": "2024-11-07T17:05:39.850761Z",
     "iopub.status.idle": "2024-11-07T17:05:39.906755Z",
     "shell.execute_reply": "2024-11-07T17:05:39.906264Z"
    }
   },
   "outputs": [],
   "source": [
    "np.allclose(norm_pca, np.sqrt(X_pca.dot(H_.T).sub(X_tfidf).pow(2).sum().sum()))"
   ]
  },
  {
   "cell_type": "code",
   "execution_count": null,
   "id": "238469f3-baf4-4bba-87f4-190cb9fac591",
   "metadata": {
    "execution": {
     "iopub.execute_input": "2024-11-07T17:05:39.908984Z",
     "iopub.status.busy": "2024-11-07T17:05:39.908654Z",
     "iopub.status.idle": "2024-11-07T17:05:40.691757Z",
     "shell.execute_reply": "2024-11-07T17:05:40.691111Z"
    }
   },
   "outputs": [],
   "source": [
    "def func(x, n=5):\n",
    "    return pd.concat([x.nlargest(n=n), x.sort_values(ascending=False).tail(n)])\n",
    "\n",
    "fig, ax = plt.subplots(int(n_modes/2), 2, figsize=(20, 16))\n",
    "ax = ax.ravel()\n",
    "plt.subplots_adjust(wspace=0.5)\n",
    "for i in range(n_modes):\n",
    "    bar(H_[i].pipe(func, n=5), horizontal=True, ax=ax[i], title=f'PC {i}')"
   ]
  },
  {
   "cell_type": "markdown",
   "id": "8b7bc0c6-195f-42ef-a9e1-d6ccc2ea0ddc",
   "metadata": {},
   "source": [
    "The plot above shows that the first principal component `PC0` is related to the labor market and the second principal component `PC1` is relate to economic growth. The graph below shows the loadings on these factor over time by document. \n",
    "\n",
    "- in the earlier years (1999-2009), the statements talk more about economic growth (high loading on `PC1`, low loading on `PC0`), but there is a switch in later years (2010-2020). \n",
    "- interestingly the last part of the sample (2021-2023) are in the middle and do not seem well explained by the loadings. "
   ]
  },
  {
   "cell_type": "code",
   "execution_count": null,
   "id": "8fe33c7e-499d-453f-bc4d-5282fe770642",
   "metadata": {
    "execution": {
     "iopub.execute_input": "2024-11-07T17:05:40.694243Z",
     "iopub.status.busy": "2024-11-07T17:05:40.693880Z",
     "iopub.status.idle": "2024-11-07T17:05:41.268861Z",
     "shell.execute_reply": "2024-11-07T17:05:41.268209Z"
    }
   },
   "outputs": [],
   "source": [
    "plot_document_embeddings(X_pca)"
   ]
  },
  {
   "cell_type": "markdown",
   "id": "3896b062",
   "metadata": {},
   "source": [
    "### Non-negative matrix factorization"
   ]
  },
  {
   "cell_type": "markdown",
   "id": "64c64601",
   "metadata": {},
   "source": [
    "It is often information to group tokens into topics that explain differences across documents. A powerful algorithm is the non-negative matrix factorisation (`NMF`): for a non-negative matrix $X$ (such as the one with tfidf scores), `NMF` finds two other non-negative matrices such that $$ X \\approx \\hat{X}_n H_n^T. $$\n",
    "\n",
    "The number of topics (called `n_components` in the `scikit-learn` implementation) determines the number of columns in $X_n$ and the number of rows in $H_n$. "
   ]
  },
  {
   "cell_type": "code",
   "execution_count": null,
   "id": "a2b11ce8",
   "metadata": {
    "execution": {
     "iopub.execute_input": "2024-11-07T17:05:41.271546Z",
     "iopub.status.busy": "2024-11-07T17:05:41.271175Z",
     "iopub.status.idle": "2024-11-07T17:05:41.495904Z",
     "shell.execute_reply": "2024-11-07T17:05:41.495351Z"
    }
   },
   "outputs": [],
   "source": [
    "n_components = 8\n",
    "m = NMF(\n",
    "    n_components=n_components,\n",
    "    init=\"nndsvd\",\n",
    "    solver=\"cd\",\n",
    "    beta_loss=\"frobenius\",\n",
    "    random_state=1,\n",
    "    alpha_W=0,\n",
    "    l1_ratio=0,\n",
    "    max_iter=500,\n",
    ").fit(X_tfidf)"
   ]
  },
  {
   "cell_type": "code",
   "execution_count": null,
   "id": "514dbcc2-00c8-4737-8aaa-8b9294b368cd",
   "metadata": {
    "execution": {
     "iopub.execute_input": "2024-11-07T17:05:41.498843Z",
     "iopub.status.busy": "2024-11-07T17:05:41.498236Z",
     "iopub.status.idle": "2024-11-07T17:05:41.571975Z",
     "shell.execute_reply": "2024-11-07T17:05:41.571479Z"
    }
   },
   "outputs": [],
   "source": [
    "H2_ = pd.DataFrame(m.components_.T, index=cols)\n",
    "X_nmf = pd.DataFrame(m.transform(X_tfidf), index=statements.index)"
   ]
  },
  {
   "cell_type": "markdown",
   "id": "fc5822a1-cf49-40c1-a433-52150c773638",
   "metadata": {},
   "source": [
    "The non-negative matrix factorization provides a slightly better approximation as measured by the Frobinus norm. "
   ]
  },
  {
   "cell_type": "code",
   "execution_count": null,
   "id": "aa9ac7ee-2fe0-4429-ab6c-160a2080d184",
   "metadata": {
    "execution": {
     "iopub.execute_input": "2024-11-07T17:05:41.574479Z",
     "iopub.status.busy": "2024-11-07T17:05:41.574073Z",
     "iopub.status.idle": "2024-11-07T17:05:41.634365Z",
     "shell.execute_reply": "2024-11-07T17:05:41.633680Z"
    }
   },
   "outputs": [],
   "source": [
    "norm_nmf = scipy.linalg.norm(X_nmf.dot(H2_.T).sub(X_tfidf), ord='fro')\n",
    "print(f'The norm of the approximations are: pca = {norm_pca:.2f}; nmf = {norm_nmf:.2f}.')"
   ]
  },
  {
   "cell_type": "code",
   "execution_count": null,
   "id": "99780c32",
   "metadata": {
    "execution": {
     "iopub.execute_input": "2024-11-07T17:05:41.636680Z",
     "iopub.status.busy": "2024-11-07T17:05:41.636413Z",
     "iopub.status.idle": "2024-11-07T17:05:42.370513Z",
     "shell.execute_reply": "2024-11-07T17:05:42.370001Z"
    }
   },
   "outputs": [],
   "source": [
    "plot_word_embeddings(H2_)"
   ]
  },
  {
   "cell_type": "markdown",
   "id": "1e185dfc",
   "metadata": {},
   "source": [
    "Are these topics interesting? This is a matter of interpretation, but at least, the graph below shows that these topics capture a strong element of time-clustering which makes it a bit less useful.  "
   ]
  },
  {
   "cell_type": "code",
   "execution_count": null,
   "id": "db2f963d",
   "metadata": {
    "execution": {
     "iopub.execute_input": "2024-11-07T17:05:42.373354Z",
     "iopub.status.busy": "2024-11-07T17:05:42.372847Z",
     "iopub.status.idle": "2024-11-07T17:05:43.061160Z",
     "shell.execute_reply": "2024-11-07T17:05:43.060678Z"
    }
   },
   "outputs": [],
   "source": [
    "line(X_nmf.resample(\"B\").last().ffill(), cumsum=True, title=\"Cumulative topic loadings\")"
   ]
  },
  {
   "cell_type": "markdown",
   "id": "87a820cb-26bb-430a-b35a-f00d02ab8253",
   "metadata": {
    "tags": []
   },
   "source": [
    "### UMAP"
   ]
  },
  {
   "cell_type": "markdown",
   "id": "18451267-6047-43a4-9417-46111dd12a41",
   "metadata": {},
   "source": [
    "Uniform Manifold Approximation and Projection (UMAP)  is a non-linear dimensionality reduction technique. It works by constructing a high-dimensional graph representation of the data and then optimizing a low-dimensional graph to be as structurally similar as possible. UMAP is useful because it effectively preserves both local and global structures in the data, which makes it particularly good for visualizing clusters and relationships in high-dimensional datasets.\n",
    "\n",
    "- https://umap-learn.readthedocs.io/en/latest/"
   ]
  },
  {
   "cell_type": "code",
   "execution_count": null,
   "id": "4c6687f8",
   "metadata": {
    "execution": {
     "iopub.execute_input": "2024-11-07T17:05:43.063517Z",
     "iopub.status.busy": "2024-11-07T17:05:43.063157Z",
     "iopub.status.idle": "2024-11-07T17:05:48.467228Z",
     "shell.execute_reply": "2024-11-07T17:05:48.466433Z"
    }
   },
   "outputs": [],
   "source": [
    "from umap import UMAP"
   ]
  },
  {
   "cell_type": "code",
   "execution_count": null,
   "id": "eda429cc-fb00-4950-b4d0-c68d1d70b8ac",
   "metadata": {
    "execution": {
     "iopub.execute_input": "2024-11-07T17:05:48.470254Z",
     "iopub.status.busy": "2024-11-07T17:05:48.469886Z",
     "iopub.status.idle": "2024-11-07T17:05:55.707042Z",
     "shell.execute_reply": "2024-11-07T17:05:55.706126Z"
    }
   },
   "outputs": [],
   "source": [
    "embedding_ = UMAP().fit_transform(X_tfidf)\n",
    "X_umap = pd.DataFrame(embedding_, index=statements.index)"
   ]
  },
  {
   "cell_type": "code",
   "execution_count": null,
   "id": "9a471c11-ae76-4738-a106-2b0a037ccaef",
   "metadata": {
    "execution": {
     "iopub.execute_input": "2024-11-07T17:05:55.709916Z",
     "iopub.status.busy": "2024-11-07T17:05:55.709528Z",
     "iopub.status.idle": "2024-11-07T17:05:56.938001Z",
     "shell.execute_reply": "2024-11-07T17:05:56.937507Z"
    }
   },
   "outputs": [],
   "source": [
    "plot_document_embeddings(X_umap)"
   ]
  },
  {
   "cell_type": "markdown",
   "id": "8b7117b6-b328-4b71-9371-ec2e76670924",
   "metadata": {},
   "source": [
    "## Clustering"
   ]
  },
  {
   "cell_type": "code",
   "execution_count": null,
   "id": "69ef020a-9ba4-413c-a730-233db9c54e90",
   "metadata": {
    "execution": {
     "iopub.execute_input": "2024-11-07T17:05:56.940362Z",
     "iopub.status.busy": "2024-11-07T17:05:56.939975Z",
     "iopub.status.idle": "2024-11-07T17:05:57.096327Z",
     "shell.execute_reply": "2024-11-07T17:05:57.095809Z"
    }
   },
   "outputs": [],
   "source": [
    "from sklearn.cluster import KMeans"
   ]
  },
  {
   "cell_type": "code",
   "execution_count": null,
   "id": "caa1d68a-d755-4a83-a033-0df74ff7e250",
   "metadata": {
    "execution": {
     "iopub.execute_input": "2024-11-07T17:05:57.098850Z",
     "iopub.status.busy": "2024-11-07T17:05:57.098484Z",
     "iopub.status.idle": "2024-11-07T17:05:57.407726Z",
     "shell.execute_reply": "2024-11-07T17:05:57.407118Z"
    }
   },
   "outputs": [],
   "source": [
    "m = KMeans(n_clusters=6).fit(X_tfidf)\n",
    "X_kmeans = pd.get_dummies(pd.Series(m.labels_, index=statements.index))\n",
    "\n",
    "H3_ = pd.DataFrame(m.cluster_centers_.T, index=cols)\n",
    "norm_kmeans = scipy.linalg.norm(X_kmeans.dot(H3_.T).sub(X_tfidf), ord='fro')"
   ]
  },
  {
   "cell_type": "code",
   "execution_count": null,
   "id": "6d009260-51d0-4106-b022-7b71acfe6ff5",
   "metadata": {
    "execution": {
     "iopub.execute_input": "2024-11-07T17:05:57.410172Z",
     "iopub.status.busy": "2024-11-07T17:05:57.409811Z",
     "iopub.status.idle": "2024-11-07T17:05:57.465580Z",
     "shell.execute_reply": "2024-11-07T17:05:57.465133Z"
    }
   },
   "outputs": [],
   "source": [
    "print(f'The norm of the approximations are: pca = {norm_pca:.2f}; nmf = {norm_nmf:.2f}, kmeans = {norm_kmeans:.2f}.')"
   ]
  },
  {
   "cell_type": "code",
   "execution_count": null,
   "id": "79bc8c0d-b34c-486f-b1c7-9df6467f7e73",
   "metadata": {
    "execution": {
     "iopub.execute_input": "2024-11-07T17:05:57.467602Z",
     "iopub.status.busy": "2024-11-07T17:05:57.467338Z",
     "iopub.status.idle": "2024-11-07T17:05:58.189360Z",
     "shell.execute_reply": "2024-11-07T17:05:58.188871Z"
    }
   },
   "outputs": [],
   "source": [
    "plot_word_embeddings(H3_)"
   ]
  },
  {
   "cell_type": "code",
   "execution_count": null,
   "id": "f448449a-8adc-45df-83b2-c3451148cfaf",
   "metadata": {
    "execution": {
     "iopub.execute_input": "2024-11-07T17:05:58.191795Z",
     "iopub.status.busy": "2024-11-07T17:05:58.191478Z",
     "iopub.status.idle": "2024-11-07T17:05:58.770860Z",
     "shell.execute_reply": "2024-11-07T17:05:58.770374Z"
    }
   },
   "outputs": [],
   "source": [
    "line(X_kmeans.resample(\"B\").last().ffill(), cumsum=True, title=\"Cumulative topic loadings\")"
   ]
  },
  {
   "cell_type": "markdown",
   "id": "2aeda607-fa84-4f4c-828e-3cce05e6db00",
   "metadata": {},
   "source": [
    "Does the `sentence transformers` embeddings yield a decomposition which is less clustered in time? "
   ]
  },
  {
   "cell_type": "code",
   "execution_count": null,
   "id": "63c81811-5734-47a0-a811-1440fc51d4e9",
   "metadata": {
    "execution": {
     "iopub.execute_input": "2024-11-07T17:05:58.773106Z",
     "iopub.status.busy": "2024-11-07T17:05:58.772799Z",
     "iopub.status.idle": "2024-11-07T17:05:58.874638Z",
     "shell.execute_reply": "2024-11-07T17:05:58.874152Z"
    }
   },
   "outputs": [],
   "source": [
    "m = KMeans(n_clusters=6).fit(X_sbert)\n",
    "X_kmeans_ = pd.get_dummies(pd.Series(m.labels_, index=statements.index))"
   ]
  },
  {
   "cell_type": "code",
   "execution_count": null,
   "id": "d0358557-647e-475a-b7b0-10715e6fb755",
   "metadata": {
    "execution": {
     "iopub.execute_input": "2024-11-07T17:05:58.877005Z",
     "iopub.status.busy": "2024-11-07T17:05:58.876730Z",
     "iopub.status.idle": "2024-11-07T17:05:59.454162Z",
     "shell.execute_reply": "2024-11-07T17:05:59.453687Z"
    }
   },
   "outputs": [],
   "source": [
    "line(X_kmeans_.resample(\"B\").last().ffill(), cumsum=True, title=\"Cumulative topic loadings\")"
   ]
  },
  {
   "cell_type": "markdown",
   "id": "047a5ce5",
   "metadata": {},
   "source": [
    "## Supervised learning: vector representation + Elastic net"
   ]
  },
  {
   "cell_type": "markdown",
   "id": "11bdb8bd",
   "metadata": {},
   "source": [
    "In this section, we use the corpus of FOMC statements for supervised learning. More precisely, we match the text of the statements to the decision of the committee to raise rates, decrease rates or do nothing.  \n",
    "\n",
    "In practice, this implemented by using `scikit-learn pipelines` and chaining the `TfidfVectorizer` with a logistic regression. "
   ]
  },
  {
   "cell_type": "code",
   "execution_count": null,
   "id": "7d4874ea",
   "metadata": {
    "execution": {
     "iopub.execute_input": "2024-11-07T17:05:59.456803Z",
     "iopub.status.busy": "2024-11-07T17:05:59.456189Z",
     "iopub.status.idle": "2024-11-07T17:05:59.508525Z",
     "shell.execute_reply": "2024-11-07T17:05:59.508078Z"
    }
   },
   "outputs": [],
   "source": [
    "import numpy as np\n",
    "from skfin.datasets import load_fomc_change_date\n",
    "\n",
    "fomc_change_up, fomc_change_dw = load_fomc_change_date()"
   ]
  },
  {
   "cell_type": "code",
   "execution_count": null,
   "id": "0fb35ff4",
   "metadata": {
    "execution": {
     "iopub.execute_input": "2024-11-07T17:05:59.510874Z",
     "iopub.status.busy": "2024-11-07T17:05:59.510413Z",
     "iopub.status.idle": "2024-11-07T17:05:59.558320Z",
     "shell.execute_reply": "2024-11-07T17:05:59.557898Z"
    }
   },
   "outputs": [],
   "source": [
    "fomc_change_up, fomc_change_dw"
   ]
  },
  {
   "cell_type": "code",
   "execution_count": null,
   "id": "9816b951",
   "metadata": {
    "execution": {
     "iopub.execute_input": "2024-11-07T17:05:59.560514Z",
     "iopub.status.busy": "2024-11-07T17:05:59.560076Z",
     "iopub.status.idle": "2024-11-07T17:05:59.605473Z",
     "shell.execute_reply": "2024-11-07T17:05:59.605049Z"
    }
   },
   "outputs": [],
   "source": [
    "other = {\n",
    "    \"other_dt_change\": [\"2003-01-09\", \"2008-03-16\", \"2011-06-22\"],\n",
    "    \"statements_dt_change_other\": [\"2007-08-16\"],\n",
    "    \"qe1\": [\"2008-11-25\", \"2008-12-01\", \"2008-12-16\", \"2009-03-18\"],\n",
    "    \"qe2\": [\"2010-11-03\"],\n",
    "    \"twist\": [\"2011-09-21\", \"2012-06-20\"],\n",
    "    \"qe3\": [\"2012-09-13\", \"2012-12-12\", \"2013-12-13\"],\n",
    "    \"corona\": [\"2020-03-20\"],\n",
    "}"
   ]
  },
  {
   "cell_type": "code",
   "execution_count": null,
   "id": "027c3f9f",
   "metadata": {
    "execution": {
     "iopub.execute_input": "2024-11-07T17:05:59.607738Z",
     "iopub.status.busy": "2024-11-07T17:05:59.607394Z",
     "iopub.status.idle": "2024-11-07T17:05:59.652843Z",
     "shell.execute_reply": "2024-11-07T17:05:59.652411Z"
    }
   },
   "outputs": [],
   "source": [
    "dates = {\n",
    "    \"up\": fomc_change_up,\n",
    "    \"dw\": fomc_change_dw,\n",
    "    \"other\": [d for c in other.values() for d in c],\n",
    "}\n",
    "dates[\"no change\"] = statements.index.difference([d for c in dates.values() for d in c])"
   ]
  },
  {
   "cell_type": "code",
   "execution_count": null,
   "id": "b42a53b5",
   "metadata": {
    "execution": {
     "iopub.execute_input": "2024-11-07T17:05:59.655577Z",
     "iopub.status.busy": "2024-11-07T17:05:59.655138Z",
     "iopub.status.idle": "2024-11-07T17:05:59.698490Z",
     "shell.execute_reply": "2024-11-07T17:05:59.698069Z"
    }
   },
   "outputs": [],
   "source": [
    "from skfin.text import coefs_plot, show_text\n",
    "from sklearn.linear_model import ElasticNet, LogisticRegression\n",
    "from sklearn.preprocessing import FunctionTransformer"
   ]
  },
  {
   "cell_type": "code",
   "execution_count": null,
   "id": "199cda44",
   "metadata": {
    "execution": {
     "iopub.execute_input": "2024-11-07T17:05:59.700546Z",
     "iopub.status.busy": "2024-11-07T17:05:59.700283Z",
     "iopub.status.idle": "2024-11-07T17:05:59.831441Z",
     "shell.execute_reply": "2024-11-07T17:05:59.830974Z"
    }
   },
   "outputs": [],
   "source": [
    "est = Pipeline(\n",
    "    [\n",
    "        (\n",
    "            \"tfidf\",\n",
    "            TfidfVectorizer(\n",
    "                vocabulary=None,\n",
    "                ngram_range=(1, 3),\n",
    "                max_features=500,\n",
    "                stop_words=\"english\",\n",
    "                token_pattern=r\"\\b[a-zA-Z]{3,}\\b\",\n",
    "            ),\n",
    "        ),\n",
    "        (\"log1p\", FunctionTransformer(np.log1p)), \n",
    "        (\n",
    "            \"reg\",\n",
    "            LogisticRegression(\n",
    "                C=1, l1_ratio=0.35, penalty=\"elasticnet\", solver=\"saga\", max_iter=500\n",
    "            ),\n",
    "        ),\n",
    "    ]\n",
    ")\n",
    "X, y = pd.concat(\n",
    "    [\n",
    "        statements.loc[fomc_change_up].assign(change=1),\n",
    "        statements.loc[fomc_change_dw].assign(change=-1),\n",
    "    ]\n",
    ").pipe(lambda df: (df[\"text\"], df[\"change\"]))\n",
    "est.fit(X, y)\n",
    "vocab_ = pd.Series(est.named_steps[\"tfidf\"].vocabulary_).sort_values().index"
   ]
  },
  {
   "cell_type": "code",
   "execution_count": null,
   "id": "e6c1a12a-2360-4b09-a3e9-24dba2393cab",
   "metadata": {
    "execution": {
     "iopub.execute_input": "2024-11-07T17:05:59.833773Z",
     "iopub.status.busy": "2024-11-07T17:05:59.833424Z",
     "iopub.status.idle": "2024-11-07T17:06:00.511289Z",
     "shell.execute_reply": "2024-11-07T17:06:00.510777Z"
    }
   },
   "outputs": [],
   "source": [
    "interpret_coef = pd.DataFrame(np.transpose(est.named_steps[\"reg\"].coef_), index=vocab_)\n",
    "coefs_plot(interpret_coef, title=\"Interpreted coefficients for trained model\")"
   ]
  },
  {
   "cell_type": "markdown",
   "id": "92784e5f",
   "metadata": {},
   "source": [
    "A trick is that using a linear regression (e.g. ElasticNet) instead of a logistic regression is faster and as efficient (even sometimes better)"
   ]
  },
  {
   "cell_type": "code",
   "execution_count": null,
   "id": "fec6feb7",
   "metadata": {
    "execution": {
     "iopub.execute_input": "2024-11-07T17:06:00.514599Z",
     "iopub.status.busy": "2024-11-07T17:06:00.514301Z",
     "iopub.status.idle": "2024-11-07T17:06:00.721158Z",
     "shell.execute_reply": "2024-11-07T17:06:00.720668Z"
    }
   },
   "outputs": [],
   "source": [
    "est = Pipeline(\n",
    "    [\n",
    "        (\n",
    "            \"tfidf\",\n",
    "            TfidfVectorizer(\n",
    "                vocabulary=None,\n",
    "                ngram_range=(1, 3),\n",
    "                max_features=500,\n",
    "                stop_words=\"english\",\n",
    "                token_pattern=r\"\\b[a-zA-Z]{3,}\\b\",\n",
    "            ),\n",
    "        ),\n",
    "         (\"log1p\", FunctionTransformer(np.log1p)), \n",
    "        (\"reg\", ElasticNet(alpha=0.01)),\n",
    "    ]\n",
    ")\n",
    "X, y = pd.concat(\n",
    "    [\n",
    "        statements.loc[fomc_change_up].assign(change=1),\n",
    "        statements.loc[fomc_change_dw].assign(change=-1),\n",
    "    ]\n",
    ").pipe(lambda df: (df[\"text\"], df[\"change\"]))\n",
    "est.fit(X, y)\n",
    "vocab_ = pd.Series(est.named_steps[\"tfidf\"].vocabulary_).sort_values().index"
   ]
  },
  {
   "cell_type": "code",
   "execution_count": null,
   "id": "1b9ff360",
   "metadata": {
    "execution": {
     "iopub.execute_input": "2024-11-07T17:06:00.723629Z",
     "iopub.status.busy": "2024-11-07T17:06:00.723340Z",
     "iopub.status.idle": "2024-11-07T17:06:01.398209Z",
     "shell.execute_reply": "2024-11-07T17:06:01.397677Z"
    }
   },
   "outputs": [],
   "source": [
    "interpret_coef = pd.DataFrame(np.transpose(est.named_steps[\"reg\"].coef_), index=vocab_)\n",
    "coefs_plot(interpret_coef, title=\"Interpreted coefficients for trained model\")"
   ]
  },
  {
   "cell_type": "code",
   "execution_count": null,
   "id": "1b5f31fc",
   "metadata": {
    "execution": {
     "iopub.execute_input": "2024-11-07T17:06:01.401417Z",
     "iopub.status.busy": "2024-11-07T17:06:01.401028Z",
     "iopub.status.idle": "2024-11-07T17:06:01.746149Z",
     "shell.execute_reply": "2024-11-07T17:06:01.745677Z"
    }
   },
   "outputs": [],
   "source": [
    "fig, ax = plt.subplots(figsize=(8, 6))\n",
    "pred_tfidf = (\n",
    "    pd.Series(est.predict(statements[\"text\"]), index=statements.index)\n",
    "    .resample(\"B\")\n",
    "    .last()\n",
    "    .ffill()\n",
    ")\n",
    "line(\n",
    "    pred_tfidf.rename(\"implied rate\")\n",
    "    .to_frame()\n",
    "    .join(\n",
    "        pd.Series(1, index=fomc_change_up)\n",
    "        .reindex(pred_tfidf.index)\n",
    "        .fillna(0)\n",
    "        .rename(\"up\")\n",
    "    )\n",
    "    .join(\n",
    "        pd.Series(-1, index=fomc_change_dw)\n",
    "        .reindex(pred_tfidf.index)\n",
    "        .fillna(0)\n",
    "        .rename(\"dw\")\n",
    "    ),\n",
    "    sort=False,\n",
    "    ax=ax,\n",
    "    title=\"Implied interest rate (with forward information)\",\n",
    ")\n",
    "cols = [\"corona\", \"twist\", \"qe1\", \"qe2\", \"qe3\"]\n",
    "for c in cols:\n",
    "    ax.plot(pred_tfidf.loc[other[c]], marker=\"*\", ms=10)\n",
    "ax.legend(\n",
    "    [\"implied rate\", \"up\", \"down\"] + cols, loc=\"center left\", bbox_to_anchor=(1, 0.5)\n",
    ");"
   ]
  },
  {
   "cell_type": "code",
   "execution_count": null,
   "id": "7ccb726b",
   "metadata": {
    "execution": {
     "iopub.execute_input": "2024-11-07T17:06:01.748463Z",
     "iopub.status.busy": "2024-11-07T17:06:01.748153Z",
     "iopub.status.idle": "2024-11-07T17:06:01.798331Z",
     "shell.execute_reply": "2024-11-07T17:06:01.797862Z"
    }
   },
   "outputs": [],
   "source": [
    "lexica = {\n",
    "    \"positive\": interpret_coef.squeeze().nlargest(n=10),\n",
    "    \"negative\": interpret_coef.squeeze().nsmallest(n=10),\n",
    "}"
   ]
  },
  {
   "cell_type": "code",
   "execution_count": null,
   "id": "04fb7053",
   "metadata": {
    "execution": {
     "iopub.execute_input": "2024-11-07T17:06:01.800614Z",
     "iopub.status.busy": "2024-11-07T17:06:01.800425Z",
     "iopub.status.idle": "2024-11-07T17:06:01.866451Z",
     "shell.execute_reply": "2024-11-07T17:06:01.866003Z"
    }
   },
   "outputs": [],
   "source": [
    "idx_ = (\n",
    "    pd.Series(est.predict(X), index=X.index)\n",
    "    .sort_values()\n",
    "    .pipe(lambda x: [x.index[0], x.index[-1]])\n",
    ")\n",
    "show_text(statements.loc[idx_], lexica=lexica, n=None)"
   ]
  },
  {
   "cell_type": "markdown",
   "id": "93685583",
   "metadata": {},
   "source": [
    "### comparison with sentence transformer embeddings"
   ]
  },
  {
   "cell_type": "markdown",
   "id": "1e4ec62d-ff4a-4236-8868-2a8faeae2147",
   "metadata": {},
   "source": [
    "To test the usefulness of these `SentenceTransformer` , we run a regression of the embeddings on the rate decison. Warning: this is a full sample regression, so this is just an illustration, not a statistical test. "
   ]
  },
  {
   "cell_type": "code",
   "execution_count": null,
   "id": "9421a5d8-9a89-45d5-ad62-c9e0ba551d8e",
   "metadata": {
    "execution": {
     "iopub.execute_input": "2024-11-07T17:06:01.868693Z",
     "iopub.status.busy": "2024-11-07T17:06:01.868363Z",
     "iopub.status.idle": "2024-11-07T17:06:01.984700Z",
     "shell.execute_reply": "2024-11-07T17:06:01.984179Z"
    }
   },
   "outputs": [],
   "source": [
    "df = pd.DataFrame(X_sbert, index=statements.index)\n",
    "m = ElasticNet(alpha=0.01)\n",
    "X_, y_ = pd.concat(\n",
    "    [df.loc[fomc_change_up].assign(change=1), df.loc[fomc_change_dw].assign(change=-1)]\n",
    ").pipe(lambda df: (df.drop(\"change\", axis=1), df[\"change\"]))\n",
    "m.fit(X_, y_);\n",
    "\n",
    "pred_sbert = (\n",
    "    pd.Series(m.predict(df), index=statements.index).resample(\"B\").last().ffill()\n",
    ")"
   ]
  },
  {
   "cell_type": "code",
   "execution_count": null,
   "id": "d0e18bca",
   "metadata": {
    "execution": {
     "iopub.execute_input": "2024-11-07T17:06:01.987233Z",
     "iopub.status.busy": "2024-11-07T17:06:01.986986Z",
     "iopub.status.idle": "2024-11-07T17:06:02.037397Z",
     "shell.execute_reply": "2024-11-07T17:06:02.036893Z"
    }
   },
   "outputs": [],
   "source": [
    "corr_tfidf_sbert = pd.concat({\"sbert\": pred_sbert, \"tdfidf\": pred_tfidf}, axis=1).corr().iloc[0, 1]\n",
    "print(f'The correlation of the in-sample prediction for the decisions of the Fed for the two text representations (tfidf and sbert) is {corr_tfidf_sbert:.2f}.')"
   ]
  },
  {
   "cell_type": "code",
   "execution_count": null,
   "id": "0dcb2b09",
   "metadata": {
    "execution": {
     "iopub.execute_input": "2024-11-07T17:06:02.039601Z",
     "iopub.status.busy": "2024-11-07T17:06:02.039376Z",
     "iopub.status.idle": "2024-11-07T17:06:02.207335Z",
     "shell.execute_reply": "2024-11-07T17:06:02.206840Z"
    },
    "tags": []
   },
   "outputs": [],
   "source": [
    "line(\n",
    "    pd.concat({\"sbert\": pred_sbert, \"tdfidf\": pred_tfidf}, axis=1).pipe(\n",
    "        lambda x: x.div(x.std())\n",
    "    )\n",
    ")"
   ]
  }
 ],
 "metadata": {
  "hide_input": false,
  "kernelspec": {
   "display_name": "skfin 2024",
   "language": "python",
   "name": "skfin"
  },
  "language_info": {
   "codemirror_mode": {
    "name": "ipython",
    "version": 3
   },
   "file_extension": ".py",
   "mimetype": "text/x-python",
   "name": "python",
   "nbconvert_exporter": "python",
   "pygments_lexer": "ipython3",
   "version": "3.9.20"
  },
  "toc": {
   "base_numbering": 1,
   "nav_menu": {},
   "number_sections": true,
   "sideBar": true,
   "skip_h1_title": false,
   "title_cell": "Table of Contents",
   "title_sidebar": "Contents",
   "toc_cell": false,
   "toc_position": {},
   "toc_section_display": true,
   "toc_window_display": false
  },
  "widgets": {
   "application/vnd.jupyter.widget-state+json": {
    "state": {
     "2a7823d1fff749c599bc434591a9bfce": {
      "model_module": "@jupyter-widgets/controls",
      "model_module_version": "2.0.0",
      "model_name": "HTMLModel",
      "state": {
       "_dom_classes": [],
       "_model_module": "@jupyter-widgets/controls",
       "_model_module_version": "2.0.0",
       "_model_name": "HTMLModel",
       "_view_count": null,
       "_view_module": "@jupyter-widgets/controls",
       "_view_module_version": "2.0.0",
       "_view_name": "HTMLView",
       "description": "",
       "description_allow_html": false,
       "layout": "IPY_MODEL_57ca1bfafada4401932b728699dd1e85",
       "placeholder": "​",
       "style": "IPY_MODEL_2bc14039a1b645148ea85959c7004b82",
       "tabbable": null,
       "tooltip": null,
       "value": " 109/109 [00:10&lt;00:00, 22.27it/s]"
      }
     },
     "2bc14039a1b645148ea85959c7004b82": {
      "model_module": "@jupyter-widgets/controls",
      "model_module_version": "2.0.0",
      "model_name": "HTMLStyleModel",
      "state": {
       "_model_module": "@jupyter-widgets/controls",
       "_model_module_version": "2.0.0",
       "_model_name": "HTMLStyleModel",
       "_view_count": null,
       "_view_module": "@jupyter-widgets/base",
       "_view_module_version": "2.0.0",
       "_view_name": "StyleView",
       "background": null,
       "description_width": "",
       "font_size": null,
       "text_color": null
      }
     },
     "3fa9dc0e49e94461ac043e1270cb28c5": {
      "model_module": "@jupyter-widgets/controls",
      "model_module_version": "2.0.0",
      "model_name": "HBoxModel",
      "state": {
       "_dom_classes": [],
       "_model_module": "@jupyter-widgets/controls",
       "_model_module_version": "2.0.0",
       "_model_name": "HBoxModel",
       "_view_count": null,
       "_view_module": "@jupyter-widgets/controls",
       "_view_module_version": "2.0.0",
       "_view_name": "HBoxView",
       "box_style": "",
       "children": [
        "IPY_MODEL_89412b6b446043bcb64547c9a12ddcb2",
        "IPY_MODEL_757c50cfd6534b43bbc33d1e2426ebe9",
        "IPY_MODEL_2a7823d1fff749c599bc434591a9bfce"
       ],
       "layout": "IPY_MODEL_51dec1b6d626410083be027be91c8e64",
       "tabbable": null,
       "tooltip": null
      }
     },
     "51dec1b6d626410083be027be91c8e64": {
      "model_module": "@jupyter-widgets/base",
      "model_module_version": "2.0.0",
      "model_name": "LayoutModel",
      "state": {
       "_model_module": "@jupyter-widgets/base",
       "_model_module_version": "2.0.0",
       "_model_name": "LayoutModel",
       "_view_count": null,
       "_view_module": "@jupyter-widgets/base",
       "_view_module_version": "2.0.0",
       "_view_name": "LayoutView",
       "align_content": null,
       "align_items": null,
       "align_self": null,
       "border_bottom": null,
       "border_left": null,
       "border_right": null,
       "border_top": null,
       "bottom": null,
       "display": null,
       "flex": null,
       "flex_flow": null,
       "grid_area": null,
       "grid_auto_columns": null,
       "grid_auto_flow": null,
       "grid_auto_rows": null,
       "grid_column": null,
       "grid_gap": null,
       "grid_row": null,
       "grid_template_areas": null,
       "grid_template_columns": null,
       "grid_template_rows": null,
       "height": null,
       "justify_content": null,
       "justify_items": null,
       "left": null,
       "margin": null,
       "max_height": null,
       "max_width": null,
       "min_height": null,
       "min_width": null,
       "object_fit": null,
       "object_position": null,
       "order": null,
       "overflow": null,
       "padding": null,
       "right": null,
       "top": null,
       "visibility": null,
       "width": null
      }
     },
     "57ca1bfafada4401932b728699dd1e85": {
      "model_module": "@jupyter-widgets/base",
      "model_module_version": "2.0.0",
      "model_name": "LayoutModel",
      "state": {
       "_model_module": "@jupyter-widgets/base",
       "_model_module_version": "2.0.0",
       "_model_name": "LayoutModel",
       "_view_count": null,
       "_view_module": "@jupyter-widgets/base",
       "_view_module_version": "2.0.0",
       "_view_name": "LayoutView",
       "align_content": null,
       "align_items": null,
       "align_self": null,
       "border_bottom": null,
       "border_left": null,
       "border_right": null,
       "border_top": null,
       "bottom": null,
       "display": null,
       "flex": null,
       "flex_flow": null,
       "grid_area": null,
       "grid_auto_columns": null,
       "grid_auto_flow": null,
       "grid_auto_rows": null,
       "grid_column": null,
       "grid_gap": null,
       "grid_row": null,
       "grid_template_areas": null,
       "grid_template_columns": null,
       "grid_template_rows": null,
       "height": null,
       "justify_content": null,
       "justify_items": null,
       "left": null,
       "margin": null,
       "max_height": null,
       "max_width": null,
       "min_height": null,
       "min_width": null,
       "object_fit": null,
       "object_position": null,
       "order": null,
       "overflow": null,
       "padding": null,
       "right": null,
       "top": null,
       "visibility": null,
       "width": null
      }
     },
     "6736e37a585f45cbb46ec8e2265968e2": {
      "model_module": "@jupyter-widgets/base",
      "model_module_version": "2.0.0",
      "model_name": "LayoutModel",
      "state": {
       "_model_module": "@jupyter-widgets/base",
       "_model_module_version": "2.0.0",
       "_model_name": "LayoutModel",
       "_view_count": null,
       "_view_module": "@jupyter-widgets/base",
       "_view_module_version": "2.0.0",
       "_view_name": "LayoutView",
       "align_content": null,
       "align_items": null,
       "align_self": null,
       "border_bottom": null,
       "border_left": null,
       "border_right": null,
       "border_top": null,
       "bottom": null,
       "display": null,
       "flex": null,
       "flex_flow": null,
       "grid_area": null,
       "grid_auto_columns": null,
       "grid_auto_flow": null,
       "grid_auto_rows": null,
       "grid_column": null,
       "grid_gap": null,
       "grid_row": null,
       "grid_template_areas": null,
       "grid_template_columns": null,
       "grid_template_rows": null,
       "height": null,
       "justify_content": null,
       "justify_items": null,
       "left": null,
       "margin": null,
       "max_height": null,
       "max_width": null,
       "min_height": null,
       "min_width": null,
       "object_fit": null,
       "object_position": null,
       "order": null,
       "overflow": null,
       "padding": null,
       "right": null,
       "top": null,
       "visibility": null,
       "width": null
      }
     },
     "757c50cfd6534b43bbc33d1e2426ebe9": {
      "model_module": "@jupyter-widgets/controls",
      "model_module_version": "2.0.0",
      "model_name": "FloatProgressModel",
      "state": {
       "_dom_classes": [],
       "_model_module": "@jupyter-widgets/controls",
       "_model_module_version": "2.0.0",
       "_model_name": "FloatProgressModel",
       "_view_count": null,
       "_view_module": "@jupyter-widgets/controls",
       "_view_module_version": "2.0.0",
       "_view_name": "ProgressView",
       "bar_style": "success",
       "description": "",
       "description_allow_html": false,
       "layout": "IPY_MODEL_6736e37a585f45cbb46ec8e2265968e2",
       "max": 109.0,
       "min": 0.0,
       "orientation": "horizontal",
       "style": "IPY_MODEL_b2340280630a444cb814f8fdd01d90ea",
       "tabbable": null,
       "tooltip": null,
       "value": 109.0
      }
     },
     "75b72e06b0254051ad55f7a7bf4a1438": {
      "model_module": "@jupyter-widgets/base",
      "model_module_version": "2.0.0",
      "model_name": "LayoutModel",
      "state": {
       "_model_module": "@jupyter-widgets/base",
       "_model_module_version": "2.0.0",
       "_model_name": "LayoutModel",
       "_view_count": null,
       "_view_module": "@jupyter-widgets/base",
       "_view_module_version": "2.0.0",
       "_view_name": "LayoutView",
       "align_content": null,
       "align_items": null,
       "align_self": null,
       "border_bottom": null,
       "border_left": null,
       "border_right": null,
       "border_top": null,
       "bottom": null,
       "display": null,
       "flex": null,
       "flex_flow": null,
       "grid_area": null,
       "grid_auto_columns": null,
       "grid_auto_flow": null,
       "grid_auto_rows": null,
       "grid_column": null,
       "grid_gap": null,
       "grid_row": null,
       "grid_template_areas": null,
       "grid_template_columns": null,
       "grid_template_rows": null,
       "height": null,
       "justify_content": null,
       "justify_items": null,
       "left": null,
       "margin": null,
       "max_height": null,
       "max_width": null,
       "min_height": null,
       "min_width": null,
       "object_fit": null,
       "object_position": null,
       "order": null,
       "overflow": null,
       "padding": null,
       "right": null,
       "top": null,
       "visibility": null,
       "width": null
      }
     },
     "820e13c6de19408e8e82a4b5a60ed4d9": {
      "model_module": "@jupyter-widgets/controls",
      "model_module_version": "2.0.0",
      "model_name": "HTMLStyleModel",
      "state": {
       "_model_module": "@jupyter-widgets/controls",
       "_model_module_version": "2.0.0",
       "_model_name": "HTMLStyleModel",
       "_view_count": null,
       "_view_module": "@jupyter-widgets/base",
       "_view_module_version": "2.0.0",
       "_view_name": "StyleView",
       "background": null,
       "description_width": "",
       "font_size": null,
       "text_color": null
      }
     },
     "89412b6b446043bcb64547c9a12ddcb2": {
      "model_module": "@jupyter-widgets/controls",
      "model_module_version": "2.0.0",
      "model_name": "HTMLModel",
      "state": {
       "_dom_classes": [],
       "_model_module": "@jupyter-widgets/controls",
       "_model_module_version": "2.0.0",
       "_model_name": "HTMLModel",
       "_view_count": null,
       "_view_module": "@jupyter-widgets/controls",
       "_view_module_version": "2.0.0",
       "_view_name": "HTMLView",
       "description": "",
       "description_allow_html": false,
       "layout": "IPY_MODEL_75b72e06b0254051ad55f7a7bf4a1438",
       "placeholder": "​",
       "style": "IPY_MODEL_820e13c6de19408e8e82a4b5a60ed4d9",
       "tabbable": null,
       "tooltip": null,
       "value": "Batches: 100%"
      }
     },
     "b2340280630a444cb814f8fdd01d90ea": {
      "model_module": "@jupyter-widgets/controls",
      "model_module_version": "2.0.0",
      "model_name": "ProgressStyleModel",
      "state": {
       "_model_module": "@jupyter-widgets/controls",
       "_model_module_version": "2.0.0",
       "_model_name": "ProgressStyleModel",
       "_view_count": null,
       "_view_module": "@jupyter-widgets/base",
       "_view_module_version": "2.0.0",
       "_view_name": "StyleView",
       "bar_color": null,
       "description_width": ""
      }
     }
    },
    "version_major": 2,
    "version_minor": 0
   }
  }
 },
 "nbformat": 4,
 "nbformat_minor": 5
}
