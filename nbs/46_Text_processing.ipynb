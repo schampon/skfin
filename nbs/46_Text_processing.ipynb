{
 "cells": [
  {
   "cell_type": "markdown",
   "id": "5001e962",
   "metadata": {},
   "source": [
    "# Text processing"
   ]
  },
  {
   "cell_type": "code",
   "execution_count": null,
   "id": "6ebcecd8",
   "metadata": {
    "execution": {
     "iopub.execute_input": "2023-12-07T08:32:35.073248Z",
     "iopub.status.busy": "2023-12-07T08:32:35.072714Z",
     "iopub.status.idle": "2023-12-07T08:32:38.255810Z",
     "shell.execute_reply": "2023-12-07T08:32:38.255039Z"
    }
   },
   "outputs": [],
   "source": [
    "# hide\n",
    "%load_ext autoreload\n",
    "%autoreload 2\n",
    "%matplotlib inline\n",
    "\n",
    "from datetime import date\n",
    "from pathlib import Path\n",
    "\n",
    "import numpy as np\n",
    "import pandas as pd\n",
    "from matplotlib import cm\n",
    "from matplotlib import pyplot as plt\n",
    "from skfin.plot import bar, line\n",
    "from tqdm.auto import tqdm"
   ]
  },
  {
   "cell_type": "markdown",
   "id": "1d385211-59d6-4961-93ea-f454ad38f835",
   "metadata": {},
   "source": [
    "In this section, we introduce several techniques to analyse a corpus of documents. This is done in the context of the statements of the Federal Open Market Committee (FOMC). "
   ]
  },
  {
   "cell_type": "markdown",
   "id": "2c8ef8f6",
   "metadata": {},
   "source": [
    "## Loading the FOMC statements "
   ]
  },
  {
   "cell_type": "code",
   "execution_count": null,
   "id": "ad1a34fc",
   "metadata": {
    "execution": {
     "iopub.execute_input": "2023-12-07T08:32:38.259517Z",
     "iopub.status.busy": "2023-12-07T08:32:38.259156Z",
     "iopub.status.idle": "2023-12-07T08:32:38.515865Z",
     "shell.execute_reply": "2023-12-07T08:32:38.515121Z"
    }
   },
   "outputs": [],
   "source": [
    "from skfin.datasets import load_fomc_statements\n",
    "from skfin.text import show_text\n",
    "\n",
    "statements = load_fomc_statements(force_reload=False)"
   ]
  },
  {
   "cell_type": "code",
   "execution_count": null,
   "id": "f616db0d",
   "metadata": {
    "execution": {
     "iopub.execute_input": "2023-12-07T08:32:38.519043Z",
     "iopub.status.busy": "2023-12-07T08:32:38.518588Z",
     "iopub.status.idle": "2023-12-07T08:32:38.560425Z",
     "shell.execute_reply": "2023-12-07T08:32:38.559759Z"
    }
   },
   "outputs": [],
   "source": [
    "show_text(statements)"
   ]
  },
  {
   "cell_type": "code",
   "execution_count": null,
   "id": "25ad4bfa",
   "metadata": {
    "execution": {
     "iopub.execute_input": "2023-12-07T08:32:38.563296Z",
     "iopub.status.busy": "2023-12-07T08:32:38.562863Z",
     "iopub.status.idle": "2023-12-07T08:32:38.588864Z",
     "shell.execute_reply": "2023-12-07T08:32:38.588202Z"
    }
   },
   "outputs": [],
   "source": [
    "special_days = [\"2008-01-22\", \"2010-05-09\", \"2020-03-15\"]"
   ]
  },
  {
   "cell_type": "code",
   "execution_count": null,
   "id": "711bb53f",
   "metadata": {
    "execution": {
     "iopub.execute_input": "2023-12-07T08:32:38.591565Z",
     "iopub.status.busy": "2023-12-07T08:32:38.591310Z",
     "iopub.status.idle": "2023-12-07T08:32:38.623136Z",
     "shell.execute_reply": "2023-12-07T08:32:38.622482Z"
    }
   },
   "outputs": [],
   "source": [
    "show_text(statements.loc[special_days])"
   ]
  },
  {
   "cell_type": "markdown",
   "id": "90a4ecb7",
   "metadata": {},
   "source": [
    "## TFIDF vectorization "
   ]
  },
  {
   "cell_type": "markdown",
   "id": "a7145d90",
   "metadata": {},
   "source": [
    "In order to extract features from text, the simplest way is to count words. In `scikit-learn`, this is done with the function `CountVectorizer`. A slightly more advanced feature is to select words based on a `TFIDF` score, defined as the product of the term frequency (`TF`) and the inverse document frequency (`IDF`). More precisely, the `TFIDF` score trades off: \n",
    "- the terms that are frequent and therefore important in a corpus: \n",
    "- the terms that appear in almost all documents and therefore are not helping to discriminate across documents. \n",
    "\n",
    "In `TfidfVectorizer`, terms can be filtered additionally with: \n",
    "- a `stop word` list\n",
    "- min and max document frequencies or counts \n",
    "- some token pattern (e.g. that eliminates the short tokens). "
   ]
  },
  {
   "cell_type": "code",
   "execution_count": null,
   "id": "87b5be80",
   "metadata": {
    "execution": {
     "iopub.execute_input": "2023-12-07T08:32:38.626333Z",
     "iopub.status.busy": "2023-12-07T08:32:38.625942Z",
     "iopub.status.idle": "2023-12-07T08:32:38.681076Z",
     "shell.execute_reply": "2023-12-07T08:32:38.680429Z"
    }
   },
   "outputs": [],
   "source": [
    "from sklearn.decomposition import NMF, PCA\n",
    "from sklearn.feature_extraction.text import TfidfVectorizer\n",
    "from sklearn.pipeline import Pipeline"
   ]
  },
  {
   "cell_type": "code",
   "execution_count": null,
   "id": "dc8f0409",
   "metadata": {
    "execution": {
     "iopub.execute_input": "2023-12-07T08:32:38.683957Z",
     "iopub.status.busy": "2023-12-07T08:32:38.683579Z",
     "iopub.status.idle": "2023-12-07T08:32:38.840158Z",
     "shell.execute_reply": "2023-12-07T08:32:38.839512Z"
    }
   },
   "outputs": [],
   "source": [
    "vectorizer = TfidfVectorizer(\n",
    "    stop_words=\"english\",\n",
    "    min_df=5,\n",
    "    max_df=0.8,\n",
    "    ngram_range=(1, 3),\n",
    "    token_pattern=r\"\\b[a-zA-Z]{3,}\\b\",\n",
    ")\n",
    "X = vectorizer.fit_transform(statements[\"text\"].values)"
   ]
  },
  {
   "cell_type": "code",
   "execution_count": null,
   "id": "7cf78da4",
   "metadata": {
    "execution": {
     "iopub.execute_input": "2023-12-07T08:32:38.842986Z",
     "iopub.status.busy": "2023-12-07T08:32:38.842614Z",
     "iopub.status.idle": "2023-12-07T08:32:38.873041Z",
     "shell.execute_reply": "2023-12-07T08:32:38.872390Z"
    }
   },
   "outputs": [],
   "source": [
    "cols = vectorizer.get_feature_names_out()\n",
    "print(len(cols))\n",
    "list(cols)[:10]"
   ]
  },
  {
   "cell_type": "markdown",
   "id": "9ddd771e",
   "metadata": {},
   "source": [
    "Here are the most frequent tokens"
   ]
  },
  {
   "cell_type": "code",
   "execution_count": null,
   "id": "8a99baf7",
   "metadata": {
    "execution": {
     "iopub.execute_input": "2023-12-07T08:32:38.876110Z",
     "iopub.status.busy": "2023-12-07T08:32:38.875642Z",
     "iopub.status.idle": "2023-12-07T08:32:39.232407Z",
     "shell.execute_reply": "2023-12-07T08:32:39.231745Z"
    }
   },
   "outputs": [],
   "source": [
    "df = pd.DataFrame(X.toarray(), index=statements[\"text\"].index, columns=cols)\n",
    "bar(df.mean().sort_values(ascending=False).head(30), horizontal=True)"
   ]
  },
  {
   "cell_type": "markdown",
   "id": "da0e7d46",
   "metadata": {},
   "source": [
    "## Principal component exploration"
   ]
  },
  {
   "cell_type": "markdown",
   "id": "1b0751ea",
   "metadata": {},
   "source": [
    "To describe the matrix of tdidf scores, we first perform a simple principal component analysis (`PCA`) with two modes. "
   ]
  },
  {
   "cell_type": "code",
   "execution_count": null,
   "id": "f1bec757",
   "metadata": {
    "execution": {
     "iopub.execute_input": "2023-12-07T08:32:39.235611Z",
     "iopub.status.busy": "2023-12-07T08:32:39.235196Z",
     "iopub.status.idle": "2023-12-07T08:32:39.311197Z",
     "shell.execute_reply": "2023-12-07T08:32:39.310512Z"
    }
   },
   "outputs": [],
   "source": [
    "m = PCA(n_components=2).fit(np.log1p(X.toarray().T))\n",
    "df = pd.DataFrame(m.components_.T, index=statements.index)"
   ]
  },
  {
   "cell_type": "code",
   "execution_count": null,
   "id": "f79d82a0",
   "metadata": {
    "execution": {
     "iopub.execute_input": "2023-12-07T08:32:39.314286Z",
     "iopub.status.busy": "2023-12-07T08:32:39.313860Z",
     "iopub.status.idle": "2023-12-07T08:32:40.246899Z",
     "shell.execute_reply": "2023-12-07T08:32:40.246226Z"
    }
   },
   "outputs": [],
   "source": [
    "m = PCA(n_components=2).fit(np.log1p(X.toarray().T))\n",
    "df = pd.DataFrame(m.components_.T, index=statements.index)\n",
    "\n",
    "fig, ax = plt.subplots(1, 1, figsize=(8, 7))\n",
    "years = [str(y) for y in df.index.year.unique()]\n",
    "colors = cm.RdBu(np.linspace(0, 1, len(years)))\n",
    "for i, y in enumerate(years):\n",
    "    ax.scatter(x=df.loc[y][0], y=df.loc[y][1], color=colors[i])\n",
    "ax.legend(years, loc=\"center left\", bbox_to_anchor=(1, 0.5))\n",
    "ax.set_xlabel(\"PC 0\")\n",
    "ax.set_ylabel(\"PC 1\")\n",
    "\n",
    "d = \"2020-03-03\"\n",
    "ax.text(x=df.loc[d][0], y=df.loc[d][1], s=d);"
   ]
  },
  {
   "cell_type": "markdown",
   "id": "85a93046",
   "metadata": {},
   "source": [
    "These two modes can be related to labor market and growth. "
   ]
  },
  {
   "cell_type": "code",
   "execution_count": null,
   "id": "980cc211",
   "metadata": {
    "execution": {
     "iopub.execute_input": "2023-12-07T08:32:40.250122Z",
     "iopub.status.busy": "2023-12-07T08:32:40.249566Z",
     "iopub.status.idle": "2023-12-07T08:32:40.701539Z",
     "shell.execute_reply": "2023-12-07T08:32:40.700838Z"
    }
   },
   "outputs": [],
   "source": [
    "func = lambda x: pd.concat([x.nlargest(), x.sort_values(ascending=False).tail(5)])\n",
    "W = pd.DataFrame(m.transform(np.log1p(X.toarray().T)), index=cols)\n",
    "\n",
    "fig, ax = plt.subplots(1, 2, figsize=(16, 5))\n",
    "plt.subplots_adjust(wspace=0.25)\n",
    "for i in [0, 1]:\n",
    "    bar(W[i].pipe(func), horizontal=True, ax=ax[i])"
   ]
  },
  {
   "cell_type": "markdown",
   "id": "3896b062",
   "metadata": {},
   "source": [
    "## Unsupervised learning: document clustering"
   ]
  },
  {
   "cell_type": "markdown",
   "id": "64c64601",
   "metadata": {},
   "source": [
    "It is often information to group tokens into topics that explain differences across documents. A powerful algorithm is the non-negative matrix factorisation (`NMF`): for a non-negative matrix $X$ (such as the one with tfidf scores), `NMF` finds two other non-negative matrices such that: \n",
    "\n",
    "$$ X \\approx W H. $$ \n",
    "\n",
    "The number of topics (called `n_components` in the `scikit-learn` implementation) determines the number of columns in $W$ and the number of rows in $H$. "
   ]
  },
  {
   "cell_type": "code",
   "execution_count": null,
   "id": "a2b11ce8",
   "metadata": {
    "execution": {
     "iopub.execute_input": "2023-12-07T08:32:40.705059Z",
     "iopub.status.busy": "2023-12-07T08:32:40.704480Z",
     "iopub.status.idle": "2023-12-07T08:32:40.830175Z",
     "shell.execute_reply": "2023-12-07T08:32:40.829495Z"
    }
   },
   "outputs": [],
   "source": [
    "n_components = 8\n",
    "m = NMF(\n",
    "    n_components=n_components,\n",
    "    init=\"nndsvd\",\n",
    "    solver=\"cd\",\n",
    "    beta_loss=\"frobenius\",\n",
    "    random_state=1,\n",
    "    alpha_W=0,\n",
    "    l1_ratio=0,\n",
    "    max_iter=500,\n",
    ").fit(X)"
   ]
  },
  {
   "cell_type": "code",
   "execution_count": null,
   "id": "99780c32",
   "metadata": {
    "execution": {
     "iopub.execute_input": "2023-12-07T08:32:40.833277Z",
     "iopub.status.busy": "2023-12-07T08:32:40.832754Z",
     "iopub.status.idle": "2023-12-07T08:32:42.307862Z",
     "shell.execute_reply": "2023-12-07T08:32:42.307165Z"
    }
   },
   "outputs": [],
   "source": [
    "fig, ax = plt.subplots(4, 2, figsize=(20, 16), sharex=True)\n",
    "ax = ax.ravel()\n",
    "for i in range(8):\n",
    "    bar(\n",
    "        pd.Series(m.components_[i, :], cols).sort_values(ascending=False).head(10),\n",
    "        horizontal=True,\n",
    "        ax=ax[i],\n",
    "        title=i,\n",
    "    )"
   ]
  },
  {
   "cell_type": "markdown",
   "id": "1e185dfc",
   "metadata": {},
   "source": [
    "Are these topics interesting? This is a matter of interpretation, but at least, the graph below shows that these topics capture a strong element of time-clustering which makes it a bit less useful.  "
   ]
  },
  {
   "cell_type": "code",
   "execution_count": null,
   "id": "db2f963d",
   "metadata": {
    "execution": {
     "iopub.execute_input": "2023-12-07T08:32:42.311003Z",
     "iopub.status.busy": "2023-12-07T08:32:42.310582Z",
     "iopub.status.idle": "2023-12-07T08:32:43.518860Z",
     "shell.execute_reply": "2023-12-07T08:32:43.518166Z"
    }
   },
   "outputs": [],
   "source": [
    "W = pd.DataFrame(m.transform(X), index=df.index)\n",
    "line(W.resample(\"B\").last().ffill(), cumsum=True, title=\"Cumulative topic loadings\")"
   ]
  },
  {
   "cell_type": "markdown",
   "id": "047a5ce5",
   "metadata": {},
   "source": [
    "## Supervised learning: TFIDF + Elastic net"
   ]
  },
  {
   "cell_type": "markdown",
   "id": "11bdb8bd",
   "metadata": {},
   "source": [
    "In this section, we use the corpus of FOMC statements for supervised learning. More precisely, we match the text of the statements to the decision of the committee to raise rates, decrease rates or do nothing.  \n",
    "\n",
    "In practice, this implemented by using `scikit-learn pipelines` and chaining the `TfidfVectorizer` with a logistic regression. "
   ]
  },
  {
   "cell_type": "code",
   "execution_count": null,
   "id": "7d4874ea",
   "metadata": {
    "execution": {
     "iopub.execute_input": "2023-12-07T08:32:43.522399Z",
     "iopub.status.busy": "2023-12-07T08:32:43.521773Z",
     "iopub.status.idle": "2023-12-07T08:32:43.554702Z",
     "shell.execute_reply": "2023-12-07T08:32:43.554045Z"
    }
   },
   "outputs": [],
   "source": [
    "import numpy as np\n",
    "from skfin.datasets import load_fomc_change_date\n",
    "\n",
    "fomc_change_up, fomc_change_dw = load_fomc_change_date()"
   ]
  },
  {
   "cell_type": "code",
   "execution_count": null,
   "id": "0fb35ff4",
   "metadata": {
    "execution": {
     "iopub.execute_input": "2023-12-07T08:32:43.557500Z",
     "iopub.status.busy": "2023-12-07T08:32:43.557153Z",
     "iopub.status.idle": "2023-12-07T08:32:43.585310Z",
     "shell.execute_reply": "2023-12-07T08:32:43.584654Z"
    }
   },
   "outputs": [],
   "source": [
    "fomc_change_up, fomc_change_dw"
   ]
  },
  {
   "cell_type": "code",
   "execution_count": null,
   "id": "9816b951",
   "metadata": {
    "execution": {
     "iopub.execute_input": "2023-12-07T08:32:43.588280Z",
     "iopub.status.busy": "2023-12-07T08:32:43.587743Z",
     "iopub.status.idle": "2023-12-07T08:32:43.614794Z",
     "shell.execute_reply": "2023-12-07T08:32:43.614131Z"
    }
   },
   "outputs": [],
   "source": [
    "other = {\n",
    "    \"other_dt_change\": [\"2003-01-09\", \"2008-03-16\", \"2011-06-22\"],\n",
    "    \"statements_dt_change_other\": [\"2007-08-16\"],\n",
    "    \"qe1\": [\"2008-11-25\", \"2008-12-01\", \"2008-12-16\", \"2009-03-18\"],\n",
    "    \"qe2\": [\"2010-11-03\"],\n",
    "    \"twist\": [\"2011-09-21\", \"2012-06-20\"],\n",
    "    \"qe3\": [\"2012-09-13\", \"2012-12-12\", \"2013-12-13\"],\n",
    "    \"corona\": [\"2020-03-20\"],\n",
    "}"
   ]
  },
  {
   "cell_type": "code",
   "execution_count": null,
   "id": "027c3f9f",
   "metadata": {
    "execution": {
     "iopub.execute_input": "2023-12-07T08:32:43.617740Z",
     "iopub.status.busy": "2023-12-07T08:32:43.617208Z",
     "iopub.status.idle": "2023-12-07T08:32:43.645602Z",
     "shell.execute_reply": "2023-12-07T08:32:43.644942Z"
    }
   },
   "outputs": [],
   "source": [
    "dates = {\n",
    "    \"up\": fomc_change_up,\n",
    "    \"dw\": fomc_change_dw,\n",
    "    \"other\": [d for c in other.values() for d in c],\n",
    "}\n",
    "dates[\"no change\"] = statements.index.difference([d for c in dates.values() for d in c])"
   ]
  },
  {
   "cell_type": "code",
   "execution_count": null,
   "id": "da5f19c0",
   "metadata": {
    "execution": {
     "iopub.execute_input": "2023-12-07T08:32:43.648475Z",
     "iopub.status.busy": "2023-12-07T08:32:43.648049Z",
     "iopub.status.idle": "2023-12-07T08:32:44.146794Z",
     "shell.execute_reply": "2023-12-07T08:32:44.146127Z"
    }
   },
   "outputs": [],
   "source": [
    "vectorizer = TfidfVectorizer(\n",
    "    stop_words=\"english\",\n",
    "    min_df=5,\n",
    "    max_df=0.8,\n",
    "    ngram_range=(1, 3),\n",
    "    token_pattern=r\"\\b[a-zA-Z]{3,}\\b\",\n",
    ")\n",
    "X = vectorizer.fit_transform(statements[\"text\"].values)\n",
    "\n",
    "m = PCA(n_components=2).fit(np.log1p(X.toarray().T))\n",
    "df = pd.DataFrame(m.components_.T, index=statements.index)\n",
    "\n",
    "fig, ax = plt.subplots(1, 1, figsize=(8, 7))\n",
    "colors = cm.RdBu(np.linspace(0, 1, len(dates)))\n",
    "for i, (k, v) in enumerate(dates.items()):\n",
    "    ax.scatter(\n",
    "        x=df.loc[lambda x: x.index.intersection(v)][0],\n",
    "        y=df.loc[lambda x: x.index.intersection(v)][1],\n",
    "        color=colors[i],\n",
    "    )\n",
    "ax.legend(dates.keys(), loc=\"center left\", bbox_to_anchor=(1, 0.5))\n",
    "ax.set_xlabel(\"PC 0\")\n",
    "ax.set_ylabel(\"PC 1\")\n",
    "\n",
    "d = \"2020-03-03\"\n",
    "ax.text(x=df.loc[d][0], y=df.loc[d][1], s=d);"
   ]
  },
  {
   "cell_type": "code",
   "execution_count": null,
   "id": "b42a53b5",
   "metadata": {
    "execution": {
     "iopub.execute_input": "2023-12-07T08:32:44.149804Z",
     "iopub.status.busy": "2023-12-07T08:32:44.149265Z",
     "iopub.status.idle": "2023-12-07T08:32:44.177143Z",
     "shell.execute_reply": "2023-12-07T08:32:44.176492Z"
    }
   },
   "outputs": [],
   "source": [
    "from skfin.text import coefs_plot, show_text\n",
    "from sklearn.linear_model import ElasticNet, LogisticRegression"
   ]
  },
  {
   "cell_type": "code",
   "execution_count": null,
   "id": "199cda44",
   "metadata": {
    "execution": {
     "iopub.execute_input": "2023-12-07T08:32:44.180082Z",
     "iopub.status.busy": "2023-12-07T08:32:44.179576Z",
     "iopub.status.idle": "2023-12-07T08:32:44.268266Z",
     "shell.execute_reply": "2023-12-07T08:32:44.267601Z"
    }
   },
   "outputs": [],
   "source": [
    "est = Pipeline(\n",
    "    [\n",
    "        (\n",
    "            \"tfidf\",\n",
    "            TfidfVectorizer(\n",
    "                vocabulary=None,\n",
    "                ngram_range=(1, 3),\n",
    "                max_features=500,\n",
    "                stop_words=\"english\",\n",
    "                token_pattern=r\"\\b[a-zA-Z]{3,}\\b\",\n",
    "            ),\n",
    "        ),\n",
    "        (\n",
    "            \"reg\",\n",
    "            LogisticRegression(\n",
    "                C=1, l1_ratio=0.35, penalty=\"elasticnet\", solver=\"saga\", max_iter=500\n",
    "            ),\n",
    "        ),\n",
    "    ]\n",
    ")\n",
    "X, y = pd.concat(\n",
    "    [\n",
    "        statements.loc[fomc_change_up].assign(change=1),\n",
    "        statements.loc[fomc_change_dw].assign(change=-1),\n",
    "    ]\n",
    ").pipe(lambda df: (df[\"text\"], df[\"change\"]))\n",
    "est.fit(X, y)\n",
    "vocab_ = pd.Series(est.named_steps[\"tfidf\"].vocabulary_).sort_values().index"
   ]
  },
  {
   "cell_type": "code",
   "execution_count": null,
   "id": "5d7a46d2",
   "metadata": {
    "execution": {
     "iopub.execute_input": "2023-12-07T08:32:44.271249Z",
     "iopub.status.busy": "2023-12-07T08:32:44.270712Z",
     "iopub.status.idle": "2023-12-07T08:32:45.290784Z",
     "shell.execute_reply": "2023-12-07T08:32:45.290093Z"
    }
   },
   "outputs": [],
   "source": [
    "interpret_coef = pd.DataFrame(np.transpose(est.named_steps[\"reg\"].coef_), index=vocab_)\n",
    "coefs_plot(interpret_coef, title=\"Interpreted coefficients for trained model\")"
   ]
  },
  {
   "cell_type": "markdown",
   "id": "92784e5f",
   "metadata": {},
   "source": [
    "A trick is that using a linear regression (e.g. ElasticNet) instead of a logistic regression is faster and as efficient (even sometimes better)"
   ]
  },
  {
   "cell_type": "code",
   "execution_count": null,
   "id": "fec6feb7",
   "metadata": {
    "execution": {
     "iopub.execute_input": "2023-12-07T08:32:45.294121Z",
     "iopub.status.busy": "2023-12-07T08:32:45.293537Z",
     "iopub.status.idle": "2023-12-07T08:32:45.485866Z",
     "shell.execute_reply": "2023-12-07T08:32:45.485142Z"
    }
   },
   "outputs": [],
   "source": [
    "est = Pipeline(\n",
    "    [\n",
    "        (\n",
    "            \"tfidf\",\n",
    "            TfidfVectorizer(\n",
    "                vocabulary=None,\n",
    "                ngram_range=(1, 3),\n",
    "                max_features=500,\n",
    "                stop_words=\"english\",\n",
    "                token_pattern=r\"\\b[a-zA-Z]{3,}\\b\",\n",
    "            ),\n",
    "        ),\n",
    "        (\"reg\", ElasticNet(alpha=0.01)),\n",
    "    ]\n",
    ")\n",
    "X, y = pd.concat(\n",
    "    [\n",
    "        statements.loc[fomc_change_up].assign(change=1),\n",
    "        statements.loc[fomc_change_dw].assign(change=-1),\n",
    "    ]\n",
    ").pipe(lambda df: (df[\"text\"], df[\"change\"]))\n",
    "est.fit(X, y)\n",
    "vocab_ = pd.Series(est.named_steps[\"tfidf\"].vocabulary_).sort_values().index"
   ]
  },
  {
   "cell_type": "code",
   "execution_count": null,
   "id": "1b9ff360",
   "metadata": {
    "execution": {
     "iopub.execute_input": "2023-12-07T08:32:45.489037Z",
     "iopub.status.busy": "2023-12-07T08:32:45.488497Z",
     "iopub.status.idle": "2023-12-07T08:32:46.485059Z",
     "shell.execute_reply": "2023-12-07T08:32:46.484380Z"
    }
   },
   "outputs": [],
   "source": [
    "interpret_coef = pd.DataFrame(np.transpose(est.named_steps[\"reg\"].coef_), index=vocab_)\n",
    "coefs_plot(interpret_coef, title=\"Interpreted coefficients for trained model\")"
   ]
  },
  {
   "cell_type": "code",
   "execution_count": null,
   "id": "1b5f31fc",
   "metadata": {
    "execution": {
     "iopub.execute_input": "2023-12-07T08:32:46.488139Z",
     "iopub.status.busy": "2023-12-07T08:32:46.487675Z",
     "iopub.status.idle": "2023-12-07T08:32:47.006482Z",
     "shell.execute_reply": "2023-12-07T08:32:47.005772Z"
    }
   },
   "outputs": [],
   "source": [
    "fig, ax = plt.subplots(figsize=(8, 6))\n",
    "pred_tfidf = (\n",
    "    pd.Series(est.predict(statements[\"text\"]), index=statements.index)\n",
    "    .resample(\"B\")\n",
    "    .last()\n",
    "    .ffill()\n",
    ")\n",
    "line(\n",
    "    pred_tfidf.rename(\"implied rate\")\n",
    "    .to_frame()\n",
    "    .join(\n",
    "        pd.Series(1, index=fomc_change_up)\n",
    "        .reindex(pred_tfidf.index)\n",
    "        .fillna(0)\n",
    "        .rename(\"up\")\n",
    "    )\n",
    "    .join(\n",
    "        pd.Series(-1, index=fomc_change_dw)\n",
    "        .reindex(pred_tfidf.index)\n",
    "        .fillna(0)\n",
    "        .rename(\"dw\")\n",
    "    ),\n",
    "    sort=False,\n",
    "    ax=ax,\n",
    "    title=\"Implied interest rate (with forward information)\",\n",
    ")\n",
    "cols = [\"corona\", \"twist\", \"qe1\", \"qe2\", \"qe3\"]\n",
    "for c in cols:\n",
    "    ax.plot(pred_tfidf.loc[other[c]], marker=\"*\", ms=10)\n",
    "ax.legend(\n",
    "    [\"implied rate\", \"up\", \"down\"] + cols, loc=\"center left\", bbox_to_anchor=(1, 0.5)\n",
    ");"
   ]
  },
  {
   "cell_type": "code",
   "execution_count": null,
   "id": "7ccb726b",
   "metadata": {
    "execution": {
     "iopub.execute_input": "2023-12-07T08:32:47.009632Z",
     "iopub.status.busy": "2023-12-07T08:32:47.009051Z",
     "iopub.status.idle": "2023-12-07T08:32:47.039825Z",
     "shell.execute_reply": "2023-12-07T08:32:47.039172Z"
    }
   },
   "outputs": [],
   "source": [
    "lexica = {\n",
    "    \"positive\": interpret_coef.squeeze().nlargest(n=10),\n",
    "    \"negative\": interpret_coef.squeeze().nsmallest(n=10),\n",
    "}"
   ]
  },
  {
   "cell_type": "code",
   "execution_count": null,
   "id": "04fb7053",
   "metadata": {
    "execution": {
     "iopub.execute_input": "2023-12-07T08:32:47.042739Z",
     "iopub.status.busy": "2023-12-07T08:32:47.042238Z",
     "iopub.status.idle": "2023-12-07T08:32:47.101904Z",
     "shell.execute_reply": "2023-12-07T08:32:47.101264Z"
    }
   },
   "outputs": [],
   "source": [
    "idx_ = (\n",
    "    pd.Series(est.predict(X), index=X.index)\n",
    "    .sort_values()\n",
    "    .pipe(lambda x: [x.index[0], x.index[-1]])\n",
    ")\n",
    "show_text(statements.loc[idx_], lexica=lexica, n=None)"
   ]
  },
  {
   "cell_type": "markdown",
   "id": "bb72bd24",
   "metadata": {},
   "source": [
    "## UMAP"
   ]
  },
  {
   "cell_type": "markdown",
   "id": "6a27067d",
   "metadata": {},
   "source": [
    "Uniform Manifold Approximation and Projection (UMAP)  is a non-linear dimensionality reduction technique. It works by constructing a high-dimensional graph representation of the data and then optimizing a low-dimensional graph to be as structurally similar as possible. UMAP is useful because it effectively preserves both local and global structures in the data, which makes it particularly good for visualizing clusters and relationships in high-dimensional datasets.\n",
    "\n",
    "- https://umap-learn.readthedocs.io/en/latest/"
   ]
  },
  {
   "cell_type": "code",
   "execution_count": null,
   "id": "4c6687f8",
   "metadata": {
    "execution": {
     "iopub.execute_input": "2023-12-07T08:32:47.105220Z",
     "iopub.status.busy": "2023-12-07T08:32:47.104698Z",
     "iopub.status.idle": "2023-12-07T08:32:56.499971Z",
     "shell.execute_reply": "2023-12-07T08:32:56.499208Z"
    }
   },
   "outputs": [],
   "source": [
    "from umap import UMAP"
   ]
  },
  {
   "cell_type": "code",
   "execution_count": null,
   "id": "df8ca1d3",
   "metadata": {
    "execution": {
     "iopub.execute_input": "2023-12-07T08:32:56.503350Z",
     "iopub.status.busy": "2023-12-07T08:32:56.502965Z",
     "iopub.status.idle": "2023-12-07T08:33:06.100065Z",
     "shell.execute_reply": "2023-12-07T08:33:06.099390Z"
    }
   },
   "outputs": [],
   "source": [
    "vectorizer = TfidfVectorizer(\n",
    "    stop_words=\"english\",\n",
    "    min_df=5,\n",
    "    max_df=0.8,\n",
    "    ngram_range=(1, 3),\n",
    "    token_pattern=r\"\\b[a-zA-Z]{3,}\\b\",\n",
    ")\n",
    "X = vectorizer.fit_transform(statements[\"text\"].values)\n",
    "\n",
    "Xtfm = UMAP().fit_transform(X)\n",
    "df = pd.DataFrame(Xtfm, index=statements.index)\n",
    "classes = df.index.year.unique()\n",
    "\n",
    "fig, ax = plt.subplots(1, 1, figsize=(7, 7))\n",
    "colors = cm.RdBu(np.linspace(0, 1, len(classes)))\n",
    "for i, y in enumerate(classes):\n",
    "    ax.scatter(df.loc[str(y)][0], df.loc[str(y)][1], color=colors[i])\n",
    "ax.legend(classes, loc=\"center left\", bbox_to_anchor=(1, 0.5))\n",
    "\n",
    "d = \"2020-03-03\"\n",
    "ax.text(df.loc[d][0], df.loc[d][1], d, fontsize=9, rotation=0, ha=\"right\");"
   ]
  },
  {
   "cell_type": "code",
   "execution_count": null,
   "id": "83b19e2e",
   "metadata": {
    "execution": {
     "iopub.execute_input": "2023-12-07T08:33:06.103088Z",
     "iopub.status.busy": "2023-12-07T08:33:06.102733Z",
     "iopub.status.idle": "2023-12-07T08:33:06.422205Z",
     "shell.execute_reply": "2023-12-07T08:33:06.421547Z"
    }
   },
   "outputs": [],
   "source": [
    "df = pd.DataFrame(Xtfm, index=statements.index)\n",
    "\n",
    "fig, ax = plt.subplots(1, 1, figsize=(8, 7))\n",
    "colors = cm.RdBu(np.linspace(0, 1, len(dates)))\n",
    "for i, (k, v) in enumerate(dates.items()):\n",
    "    ax.scatter(\n",
    "        x=df.loc[lambda x: x.index.intersection(v)][0],\n",
    "        y=df.loc[lambda x: x.index.intersection(v)][1],\n",
    "        color=colors[i],\n",
    "        alpha=0.25,\n",
    "    )\n",
    "ax.legend(dates.keys(), loc=\"center left\", bbox_to_anchor=(1, 0.5))\n",
    "ax.set_xlabel(\"PC 0\")\n",
    "ax.set_ylabel(\"PC 1\")\n",
    "\n",
    "d = \"2020-03-03\"\n",
    "ax.text(x=df.loc[d][0], y=df.loc[d][1], s=d);"
   ]
  },
  {
   "cell_type": "markdown",
   "id": "93685583",
   "metadata": {},
   "source": [
    "## Sentence transformer"
   ]
  },
  {
   "cell_type": "markdown",
   "id": "3fd15fc5-5418-4ce7-89d7-2509f472d23c",
   "metadata": {},
   "source": [
    "Sentence Transformers are models fined-tuned from pretrained language models to specifically generate meaningful text representations (as embeddings). \n",
    "\n",
    "- https://www.sbert.net/"
   ]
  },
  {
   "cell_type": "code",
   "execution_count": null,
   "id": "0a71898b",
   "metadata": {
    "execution": {
     "iopub.execute_input": "2023-12-07T08:33:06.425497Z",
     "iopub.status.busy": "2023-12-07T08:33:06.424979Z",
     "iopub.status.idle": "2023-12-07T08:33:11.180609Z",
     "shell.execute_reply": "2023-12-07T08:33:11.179869Z"
    }
   },
   "outputs": [],
   "source": [
    "from sentence_transformers import SentenceTransformer"
   ]
  },
  {
   "cell_type": "code",
   "execution_count": null,
   "id": "db4643a8",
   "metadata": {
    "execution": {
     "iopub.execute_input": "2023-12-07T08:33:11.184151Z",
     "iopub.status.busy": "2023-12-07T08:33:11.183459Z",
     "iopub.status.idle": "2023-12-07T08:33:47.436887Z",
     "shell.execute_reply": "2023-12-07T08:33:47.435974Z"
    }
   },
   "outputs": [],
   "source": [
    "m = SentenceTransformer(\"all-distilroberta-v1\", device=\"cpu\")\n",
    "X = m.encode(statements[\"text\"].values, batch_size=2)"
   ]
  },
  {
   "cell_type": "code",
   "execution_count": null,
   "id": "8d7d8ae5",
   "metadata": {
    "execution": {
     "iopub.execute_input": "2023-12-07T08:33:47.442942Z",
     "iopub.status.busy": "2023-12-07T08:33:47.442617Z",
     "iopub.status.idle": "2023-12-07T08:33:48.678125Z",
     "shell.execute_reply": "2023-12-07T08:33:48.677341Z"
    }
   },
   "outputs": [],
   "source": [
    "m = PCA(n_components=2).fit(np.log1p(X.T))\n",
    "df = pd.DataFrame(m.components_.T, index=statements.index)\n",
    "\n",
    "fig, ax = plt.subplots(1, 1, figsize=(8, 7))\n",
    "years = [str(y) for y in df.index.year.unique()]\n",
    "colors = cm.RdBu(np.linspace(0, 1, len(years)))\n",
    "for i, y in enumerate(years):\n",
    "    ax.scatter(x=df.loc[y][0], y=df.loc[y][1], color=colors[i])\n",
    "ax.legend(years, loc=\"center left\", bbox_to_anchor=(1, 0.5))\n",
    "ax.set_xlabel(\"PC 0\")\n",
    "ax.set_ylabel(\"PC 1\")\n",
    "\n",
    "d = \"2020-03-03\"\n",
    "ax.text(x=df.loc[d][0], y=df.loc[d][1], s=d);"
   ]
  },
  {
   "cell_type": "code",
   "execution_count": null,
   "id": "bc21d669",
   "metadata": {
    "execution": {
     "iopub.execute_input": "2023-12-07T08:33:48.682000Z",
     "iopub.status.busy": "2023-12-07T08:33:48.681737Z",
     "iopub.status.idle": "2023-12-07T08:33:54.481831Z",
     "shell.execute_reply": "2023-12-07T08:33:54.481028Z"
    }
   },
   "outputs": [],
   "source": [
    "Xtfm = UMAP().fit_transform(X)\n",
    "df_ = pd.DataFrame(Xtfm, index=statements.index)\n",
    "classes = df.index.year.unique()"
   ]
  },
  {
   "cell_type": "code",
   "execution_count": null,
   "id": "7b819063",
   "metadata": {
    "execution": {
     "iopub.execute_input": "2023-12-07T08:33:54.485486Z",
     "iopub.status.busy": "2023-12-07T08:33:54.485159Z",
     "iopub.status.idle": "2023-12-07T08:33:55.403458Z",
     "shell.execute_reply": "2023-12-07T08:33:55.402727Z"
    }
   },
   "outputs": [],
   "source": [
    "fig, ax = plt.subplots(1, 1, figsize=(7, 7))\n",
    "colors = cm.RdBu(np.linspace(0, 1, len(classes)))\n",
    "for i, y in enumerate(classes):\n",
    "    ax.scatter(df_.loc[str(y)][0], df_.loc[str(y)][1], color=colors[i])\n",
    "ax.legend(classes, loc=\"center left\", bbox_to_anchor=(1, 0.5))\n",
    "\n",
    "d = \"2020-03-03\"\n",
    "ax.text(df.loc[d][0], df.loc[d][1], d, fontsize=9, rotation=0, ha=\"right\");"
   ]
  },
  {
   "cell_type": "code",
   "execution_count": null,
   "id": "f02b5149",
   "metadata": {
    "execution": {
     "iopub.execute_input": "2023-12-07T08:33:55.406868Z",
     "iopub.status.busy": "2023-12-07T08:33:55.406343Z",
     "iopub.status.idle": "2023-12-07T08:33:55.492763Z",
     "shell.execute_reply": "2023-12-07T08:33:55.492085Z"
    }
   },
   "outputs": [],
   "source": [
    "df = pd.DataFrame(X, index=statements.index)\n",
    "m = ElasticNet(alpha=0.01)\n",
    "X_, y_ = pd.concat(\n",
    "    [df.loc[fomc_change_up].assign(change=1), df.loc[fomc_change_dw].assign(change=-1)]\n",
    ").pipe(lambda df: (df.drop(\"change\", axis=1), df[\"change\"]))\n",
    "m.fit(X_, y_);"
   ]
  },
  {
   "cell_type": "code",
   "execution_count": null,
   "id": "de8def4e",
   "metadata": {
    "execution": {
     "iopub.execute_input": "2023-12-07T08:33:55.495865Z",
     "iopub.status.busy": "2023-12-07T08:33:55.495466Z",
     "iopub.status.idle": "2023-12-07T08:33:55.665337Z",
     "shell.execute_reply": "2023-12-07T08:33:55.664555Z"
    }
   },
   "outputs": [],
   "source": [
    "pred_sbert = (\n",
    "    pd.Series(m.predict(df), index=statements.index).resample(\"B\").last().ffill()\n",
    ")"
   ]
  },
  {
   "cell_type": "code",
   "execution_count": null,
   "id": "d0e18bca",
   "metadata": {
    "execution": {
     "iopub.execute_input": "2023-12-07T08:33:55.668245Z",
     "iopub.status.busy": "2023-12-07T08:33:55.667989Z",
     "iopub.status.idle": "2023-12-07T08:33:55.749889Z",
     "shell.execute_reply": "2023-12-07T08:33:55.749158Z"
    }
   },
   "outputs": [],
   "source": [
    "pd.concat({\"sbert\": pred_sbert, \"tdfidf\": pred_tfidf}, axis=1).corr()"
   ]
  },
  {
   "cell_type": "code",
   "execution_count": null,
   "id": "0dcb2b09",
   "metadata": {
    "execution": {
     "iopub.execute_input": "2023-12-07T08:33:55.752922Z",
     "iopub.status.busy": "2023-12-07T08:33:55.752520Z",
     "iopub.status.idle": "2023-12-07T08:33:56.013739Z",
     "shell.execute_reply": "2023-12-07T08:33:56.013025Z"
    }
   },
   "outputs": [],
   "source": [
    "line(\n",
    "    pd.concat({\"sbert\": pred_sbert, \"tdfidf\": pred_tfidf}, axis=1).pipe(\n",
    "        lambda x: x.div(x.std())\n",
    "    )\n",
    ")"
   ]
  }
 ],
 "metadata": {
  "hide_input": false,
  "kernelspec": {
   "display_name": "Python (skfin)",
   "language": "python",
   "name": "skfin"
  },
  "language_info": {
   "codemirror_mode": {
    "name": "ipython",
    "version": 3
   },
   "file_extension": ".py",
   "mimetype": "text/x-python",
   "name": "python",
   "nbconvert_exporter": "python",
   "pygments_lexer": "ipython3",
   "version": "3.8.16"
  },
  "toc": {
   "base_numbering": 1,
   "nav_menu": {},
   "number_sections": true,
   "sideBar": true,
   "skip_h1_title": false,
   "title_cell": "Table of Contents",
   "title_sidebar": "Contents",
   "toc_cell": false,
   "toc_position": {},
   "toc_section_display": true,
   "toc_window_display": false
  },
  "widgets": {
   "application/vnd.jupyter.widget-state+json": {
    "state": {
     "01fcfc0c40ff411fa11b61cae843a164": {
      "model_module": "@jupyter-widgets/controls",
      "model_module_version": "2.0.0",
      "model_name": "HTMLStyleModel",
      "state": {
       "_model_module": "@jupyter-widgets/controls",
       "_model_module_version": "2.0.0",
       "_model_name": "HTMLStyleModel",
       "_view_count": null,
       "_view_module": "@jupyter-widgets/base",
       "_view_module_version": "2.0.0",
       "_view_name": "StyleView",
       "background": null,
       "description_width": "",
       "font_size": null,
       "text_color": null
      }
     },
     "12048233d32447f286330d0f0f2f6b84": {
      "model_module": "@jupyter-widgets/controls",
      "model_module_version": "2.0.0",
      "model_name": "HBoxModel",
      "state": {
       "_dom_classes": [],
       "_model_module": "@jupyter-widgets/controls",
       "_model_module_version": "2.0.0",
       "_model_name": "HBoxModel",
       "_view_count": null,
       "_view_module": "@jupyter-widgets/controls",
       "_view_module_version": "2.0.0",
       "_view_name": "HBoxView",
       "box_style": "",
       "children": [
        "IPY_MODEL_4bb999eb3e5a4f9cbe7f6153f1942e2b",
        "IPY_MODEL_1bea565c7cc6411e9c330c3400d9f9ae",
        "IPY_MODEL_72391b08f1a34d1e91e1431cbadc9fe9"
       ],
       "layout": "IPY_MODEL_89bb862377684d77852967896f23646b",
       "tabbable": null,
       "tooltip": null
      }
     },
     "1bea565c7cc6411e9c330c3400d9f9ae": {
      "model_module": "@jupyter-widgets/controls",
      "model_module_version": "2.0.0",
      "model_name": "FloatProgressModel",
      "state": {
       "_dom_classes": [],
       "_model_module": "@jupyter-widgets/controls",
       "_model_module_version": "2.0.0",
       "_model_name": "FloatProgressModel",
       "_view_count": null,
       "_view_module": "@jupyter-widgets/controls",
       "_view_module_version": "2.0.0",
       "_view_name": "ProgressView",
       "bar_style": "success",
       "description": "",
       "description_allow_html": false,
       "layout": "IPY_MODEL_91a424eeb741462aa78426ac42d74b62",
       "max": 106.0,
       "min": 0.0,
       "orientation": "horizontal",
       "style": "IPY_MODEL_dd98dcfb8b1d4a4583d9fd0b21b3cd5b",
       "tabbable": null,
       "tooltip": null,
       "value": 106.0
      }
     },
     "4bb999eb3e5a4f9cbe7f6153f1942e2b": {
      "model_module": "@jupyter-widgets/controls",
      "model_module_version": "2.0.0",
      "model_name": "HTMLModel",
      "state": {
       "_dom_classes": [],
       "_model_module": "@jupyter-widgets/controls",
       "_model_module_version": "2.0.0",
       "_model_name": "HTMLModel",
       "_view_count": null,
       "_view_module": "@jupyter-widgets/controls",
       "_view_module_version": "2.0.0",
       "_view_name": "HTMLView",
       "description": "",
       "description_allow_html": false,
       "layout": "IPY_MODEL_d39b5110f2144e3da853f72f35d565d3",
       "placeholder": "​",
       "style": "IPY_MODEL_fbaa84b6315f44109938037cd68cc373",
       "tabbable": null,
       "tooltip": null,
       "value": "Batches: 100%"
      }
     },
     "72391b08f1a34d1e91e1431cbadc9fe9": {
      "model_module": "@jupyter-widgets/controls",
      "model_module_version": "2.0.0",
      "model_name": "HTMLModel",
      "state": {
       "_dom_classes": [],
       "_model_module": "@jupyter-widgets/controls",
       "_model_module_version": "2.0.0",
       "_model_name": "HTMLModel",
       "_view_count": null,
       "_view_module": "@jupyter-widgets/controls",
       "_view_module_version": "2.0.0",
       "_view_name": "HTMLView",
       "description": "",
       "description_allow_html": false,
       "layout": "IPY_MODEL_94bb1547fc194f7b8dd880d22425a8db",
       "placeholder": "​",
       "style": "IPY_MODEL_01fcfc0c40ff411fa11b61cae843a164",
       "tabbable": null,
       "tooltip": null,
       "value": " 106/106 [00:34&lt;00:00,  8.80it/s]"
      }
     },
     "89bb862377684d77852967896f23646b": {
      "model_module": "@jupyter-widgets/base",
      "model_module_version": "2.0.0",
      "model_name": "LayoutModel",
      "state": {
       "_model_module": "@jupyter-widgets/base",
       "_model_module_version": "2.0.0",
       "_model_name": "LayoutModel",
       "_view_count": null,
       "_view_module": "@jupyter-widgets/base",
       "_view_module_version": "2.0.0",
       "_view_name": "LayoutView",
       "align_content": null,
       "align_items": null,
       "align_self": null,
       "border_bottom": null,
       "border_left": null,
       "border_right": null,
       "border_top": null,
       "bottom": null,
       "display": null,
       "flex": null,
       "flex_flow": null,
       "grid_area": null,
       "grid_auto_columns": null,
       "grid_auto_flow": null,
       "grid_auto_rows": null,
       "grid_column": null,
       "grid_gap": null,
       "grid_row": null,
       "grid_template_areas": null,
       "grid_template_columns": null,
       "grid_template_rows": null,
       "height": null,
       "justify_content": null,
       "justify_items": null,
       "left": null,
       "margin": null,
       "max_height": null,
       "max_width": null,
       "min_height": null,
       "min_width": null,
       "object_fit": null,
       "object_position": null,
       "order": null,
       "overflow": null,
       "padding": null,
       "right": null,
       "top": null,
       "visibility": null,
       "width": null
      }
     },
     "91a424eeb741462aa78426ac42d74b62": {
      "model_module": "@jupyter-widgets/base",
      "model_module_version": "2.0.0",
      "model_name": "LayoutModel",
      "state": {
       "_model_module": "@jupyter-widgets/base",
       "_model_module_version": "2.0.0",
       "_model_name": "LayoutModel",
       "_view_count": null,
       "_view_module": "@jupyter-widgets/base",
       "_view_module_version": "2.0.0",
       "_view_name": "LayoutView",
       "align_content": null,
       "align_items": null,
       "align_self": null,
       "border_bottom": null,
       "border_left": null,
       "border_right": null,
       "border_top": null,
       "bottom": null,
       "display": null,
       "flex": null,
       "flex_flow": null,
       "grid_area": null,
       "grid_auto_columns": null,
       "grid_auto_flow": null,
       "grid_auto_rows": null,
       "grid_column": null,
       "grid_gap": null,
       "grid_row": null,
       "grid_template_areas": null,
       "grid_template_columns": null,
       "grid_template_rows": null,
       "height": null,
       "justify_content": null,
       "justify_items": null,
       "left": null,
       "margin": null,
       "max_height": null,
       "max_width": null,
       "min_height": null,
       "min_width": null,
       "object_fit": null,
       "object_position": null,
       "order": null,
       "overflow": null,
       "padding": null,
       "right": null,
       "top": null,
       "visibility": null,
       "width": null
      }
     },
     "94bb1547fc194f7b8dd880d22425a8db": {
      "model_module": "@jupyter-widgets/base",
      "model_module_version": "2.0.0",
      "model_name": "LayoutModel",
      "state": {
       "_model_module": "@jupyter-widgets/base",
       "_model_module_version": "2.0.0",
       "_model_name": "LayoutModel",
       "_view_count": null,
       "_view_module": "@jupyter-widgets/base",
       "_view_module_version": "2.0.0",
       "_view_name": "LayoutView",
       "align_content": null,
       "align_items": null,
       "align_self": null,
       "border_bottom": null,
       "border_left": null,
       "border_right": null,
       "border_top": null,
       "bottom": null,
       "display": null,
       "flex": null,
       "flex_flow": null,
       "grid_area": null,
       "grid_auto_columns": null,
       "grid_auto_flow": null,
       "grid_auto_rows": null,
       "grid_column": null,
       "grid_gap": null,
       "grid_row": null,
       "grid_template_areas": null,
       "grid_template_columns": null,
       "grid_template_rows": null,
       "height": null,
       "justify_content": null,
       "justify_items": null,
       "left": null,
       "margin": null,
       "max_height": null,
       "max_width": null,
       "min_height": null,
       "min_width": null,
       "object_fit": null,
       "object_position": null,
       "order": null,
       "overflow": null,
       "padding": null,
       "right": null,
       "top": null,
       "visibility": null,
       "width": null
      }
     },
     "d39b5110f2144e3da853f72f35d565d3": {
      "model_module": "@jupyter-widgets/base",
      "model_module_version": "2.0.0",
      "model_name": "LayoutModel",
      "state": {
       "_model_module": "@jupyter-widgets/base",
       "_model_module_version": "2.0.0",
       "_model_name": "LayoutModel",
       "_view_count": null,
       "_view_module": "@jupyter-widgets/base",
       "_view_module_version": "2.0.0",
       "_view_name": "LayoutView",
       "align_content": null,
       "align_items": null,
       "align_self": null,
       "border_bottom": null,
       "border_left": null,
       "border_right": null,
       "border_top": null,
       "bottom": null,
       "display": null,
       "flex": null,
       "flex_flow": null,
       "grid_area": null,
       "grid_auto_columns": null,
       "grid_auto_flow": null,
       "grid_auto_rows": null,
       "grid_column": null,
       "grid_gap": null,
       "grid_row": null,
       "grid_template_areas": null,
       "grid_template_columns": null,
       "grid_template_rows": null,
       "height": null,
       "justify_content": null,
       "justify_items": null,
       "left": null,
       "margin": null,
       "max_height": null,
       "max_width": null,
       "min_height": null,
       "min_width": null,
       "object_fit": null,
       "object_position": null,
       "order": null,
       "overflow": null,
       "padding": null,
       "right": null,
       "top": null,
       "visibility": null,
       "width": null
      }
     },
     "dd98dcfb8b1d4a4583d9fd0b21b3cd5b": {
      "model_module": "@jupyter-widgets/controls",
      "model_module_version": "2.0.0",
      "model_name": "ProgressStyleModel",
      "state": {
       "_model_module": "@jupyter-widgets/controls",
       "_model_module_version": "2.0.0",
       "_model_name": "ProgressStyleModel",
       "_view_count": null,
       "_view_module": "@jupyter-widgets/base",
       "_view_module_version": "2.0.0",
       "_view_name": "StyleView",
       "bar_color": null,
       "description_width": ""
      }
     },
     "fbaa84b6315f44109938037cd68cc373": {
      "model_module": "@jupyter-widgets/controls",
      "model_module_version": "2.0.0",
      "model_name": "HTMLStyleModel",
      "state": {
       "_model_module": "@jupyter-widgets/controls",
       "_model_module_version": "2.0.0",
       "_model_name": "HTMLStyleModel",
       "_view_count": null,
       "_view_module": "@jupyter-widgets/base",
       "_view_module_version": "2.0.0",
       "_view_name": "StyleView",
       "background": null,
       "description_width": "",
       "font_size": null,
       "text_color": null
      }
     }
    },
    "version_major": 2,
    "version_minor": 0
   }
  }
 },
 "nbformat": 4,
 "nbformat_minor": 5
}
