{
 "cells": [
  {
   "cell_type": "markdown",
   "metadata": {},
   "source": [
    "# Appendix: Projet template"
   ]
  },
  {
   "cell_type": "markdown",
   "metadata": {},
   "source": [
    "We outline a structured approach for presenting research findings. The framework is divided into several key segments:\n",
    "\n",
    "1. Introduction\n",
    "1. Dataset overview\n",
    "1. Analytics and learning strategies\n",
    "1. Empirical resuts: baseline and robustness \n",
    "1. Conclusion\n",
    "\n",
    "The opening segment encompasses four essential elements:\n",
    "\n",
    "- Contextual Background: What is the larger setting of the study? What makes this area of inquiry compelling? What are the existing gaps or limitations within the current body of research? What are some unanswered yet noteworthy questions?\n",
    "\n",
    "- Project Contributions: What are the specific advancements made by this study, such as in data acquisition, algorithmic development, parameter adjustments, etc.?\n",
    "\n",
    "- Summary of the main empirical results: What is the main statistical statement? is it significant (e.g. statistically or economically)? \n",
    "\n",
    "- Literature and Resource Citations: What are related academic papers? What are the github repositories, expert blogs, or software packages that used in this project? \n",
    "\n",
    "In the dataset profile, one should consider:\n",
    "\n",
    "- The origin and composition of data utilized in the study. If the dataset is original, then provide the source code to ensure reproducibility.\n",
    "\n",
    "- The chronological accuracy of the data points, verifying that the dates reflect the actual availability of information.\n",
    "\n",
    "- A detailed analysis of descriptive statistics, with an emphasis on discussing the importance of the chosen graphs or metrics.\n",
    "\n",
    "The analytics and machine learning methodologies section accounts for:\n",
    "\n",
    "- A detailed explanation of the foundational algorithm.\n",
    "\n",
    "- A description of the data partitioning strategy for training, validation and test.\n",
    "\n",
    "- An overview of the parameter selection and optimization process.\n",
    "\n",
    "To effectively convey the empirical findings, separate the baseline results from the additional robustness tests. Within the primary empirical outcomes portion, include:\n",
    "\n",
    "- Key statistical evaluations (for instance, if presenting a backtest – provide a pnl graph alongside the Sharpe ratio).\n",
    "\n",
    "- Insights into what primarily influences the results, such as specific characteristics or assets that significantly impact performance.\n",
    "\n",
    "The robustness of empirical tests section should detail:\n",
    "\n",
    "- Evaluation of the stability of the principal finding against variations in hyperparameters or algorithmic modifications.\n",
    "\n",
    "Finally, the conclusive synthesis should recapitulate the primary findings, consider external elements that may influence the results, and hint at potential directions for further investigative work."
   ]
  }
 ],
 "metadata": {
  "hide_input": false,
  "kernelspec": {
   "display_name": "Python (skfin)",
   "language": "python",
   "name": "skfin"
  },
  "language_info": {
   "codemirror_mode": {
    "name": "ipython",
    "version": 3
   },
   "file_extension": ".py",
   "mimetype": "text/x-python",
   "name": "python",
   "nbconvert_exporter": "python",
   "pygments_lexer": "ipython3",
   "version": "3.8.16"
  },
  "toc": {
   "base_numbering": 1,
   "nav_menu": {},
   "number_sections": true,
   "sideBar": true,
   "skip_h1_title": false,
   "title_cell": "Table of Contents",
   "title_sidebar": "Contents",
   "toc_cell": false,
   "toc_position": {},
   "toc_section_display": true,
   "toc_window_display": false
  }
 },
 "nbformat": 4,
 "nbformat_minor": 4
}
