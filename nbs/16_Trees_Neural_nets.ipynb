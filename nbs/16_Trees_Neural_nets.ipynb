{
 "cells": [
  {
   "cell_type": "markdown",
   "id": "79d3ff11",
   "metadata": {},
   "source": [
    "# Boosted Trees and Neural nets"
   ]
  },
  {
   "cell_type": "markdown",
   "id": "e16a1c8c",
   "metadata": {},
   "source": [
    "In this section, we review two important classes of non-linear forecasting models: boosted trees and the multi-layer perceptron."
   ]
  },
  {
   "cell_type": "code",
   "execution_count": null,
   "id": "2e270470",
   "metadata": {
    "execution": {
     "iopub.execute_input": "2024-11-07T16:52:32.604402Z",
     "iopub.status.busy": "2024-11-07T16:52:32.604179Z",
     "iopub.status.idle": "2024-11-07T16:52:34.457372Z",
     "shell.execute_reply": "2024-11-07T16:52:34.456649Z"
    }
   },
   "outputs": [],
   "source": [
    "# hide\n",
    "%load_ext autoreload\n",
    "%autoreload 2\n",
    "%matplotlib inline\n",
    "\n",
    "import logging\n",
    "\n",
    "import numpy as np\n",
    "import pandas as pd\n",
    "from IPython.display import Image, display\n",
    "from skfin.backtesting import Backtester\n",
    "from skfin.datasets import load_kf_returns\n",
    "from skfin.metrics import sharpe_ratio\n",
    "from skfin.mv_estimators import MeanVariance\n",
    "from skfin.plot import heatmap, line\n",
    "from sklearn.model_selection import TimeSeriesSplit\n",
    "from sklearn.pipeline import make_pipeline\n",
    "from sklearn.preprocessing import StandardScaler\n",
    "from tqdm.auto import tqdm\n",
    "from matplotlib import pyplot as plt\n",
    "\n",
    "logging.getLogger(\"skfin.datasets\").setLevel(logging.CRITICAL)\n",
    "\n",
    "returns_data = load_kf_returns(cache_dir=\"data\")\n",
    "ret = returns_data[\"Monthly\"][\"Average_Value_Weighted_Returns\"][:\"1999\"]"
   ]
  },
  {
   "cell_type": "markdown",
   "id": "4fdd4967",
   "metadata": {},
   "source": [
    "## Boosted Trees"
   ]
  },
  {
   "cell_type": "markdown",
   "id": "0756d036",
   "metadata": {},
   "source": [
    "We first discuss boosted trees, in particular as described by the companion paper to the package `xgboost`: \n",
    "\n",
    "> Chen and Guestrin (2016): \"XGBoost: A Scalable Tree Boosting System,\" *Proceedings of the 22nd acm sigkdd international conference on knowledge discovery and data mining.*"
   ]
  },
  {
   "cell_type": "code",
   "execution_count": null,
   "id": "17cceb7d",
   "metadata": {
    "execution": {
     "iopub.execute_input": "2024-11-07T16:52:34.460353Z",
     "iopub.status.busy": "2024-11-07T16:52:34.459986Z",
     "iopub.status.idle": "2024-11-07T16:52:34.485391Z",
     "shell.execute_reply": "2024-11-07T16:52:34.484966Z"
    }
   },
   "outputs": [],
   "source": [
    "# hide\n",
    "display(Image(\"images/xgboost_1.png\", width=500))"
   ]
  },
  {
   "cell_type": "markdown",
   "id": "67cae3e1",
   "metadata": {},
   "source": [
    "For a dataset $\\langle x_n, y_n \\rangle$ with $N$ samples ($x_n \\in \\mathbb{R}^M$), a tree ensemble model uses $K$ additive functions: \n",
    "\n",
    "$$ \\hat{y}_n = \\phi(x_n) = \\sum_k f_k(x_n),  $$ \n",
    "\n",
    "where $f_k$ is in the space of regression trees $\\mathcal {F} = \\{ f \\}$: \n",
    "\n",
    "- $q$: $\\mathbb{R}^M \\rightarrow J$ is a partition; \n",
    "- $f(x) = w_{q(x)}$ is a constant value on each leaf of the tree. \n",
    "\n",
    "The objective is to minimize the loss: \n",
    "\n",
    "$$ \\mathcal{L}(\\phi) = \\sum_n l(y_n, \\hat{y}_n) + \\sum_k \\Omega(f_k),$$\n",
    "\n",
    "where $\\Omega(f) = \\gamma J + \\frac{1}{2}\\lambda || w ||^2$ is a regularisation term and $l$ is a convex loss function (e.g. mean squared error). "
   ]
  },
  {
   "cell_type": "markdown",
   "id": "1cd8862e",
   "metadata": {},
   "source": [
    "The functions $f_k$ are derived iteratively: \n",
    "\n",
    "$$ \\mathcal {L}^k =  \\sum_n l \\left(y_n, \\hat{y}^{k-1}_n + f_k(x_n) \\right) + \\Omega (f_k).$$\n",
    "\n",
    "With a second-order Taylor expansion, we have \n",
    "\n",
    "$$ \\mathcal {L}^k \\approx \\sum_n \\left[ l (y_n, \\hat{y}^{k-1}_n) + g_n f_k(x_n) + \\frac{1}{2} h_n f_k(x_n)^2 \\right] + \\Omega (f_k), $$\n",
    "\n",
    "where $g_n = \\partial_{\\hat{y}} l(y_n, \\hat{y}^{k-1}_n)$ and $h_n = \\partial^2 _{\\hat{y}} l(y_n, \\hat{y}^{k-1}_n)$. For an instance of leaf $j$, with $I_j = \\{n| q(x_n)= j \\}$, we can sum by leaf: \n",
    "\n",
    "$$ \\mathcal {L}^{k} = \\sum_{j=1}^{j=J} \\left(\\sum_{n \\in I_j} g_n \\right) w_j + \\frac{1}{2} \\left(\\sum_{n \\in I_j} h_n + \\lambda \\right) w_j^2 + \\gamma J + constant. $$\n",
    "\n",
    "For a given $q(x)$, the optimal weight $w_j^*$ of leaf $j$ is \n",
    "\n",
    "$$ w^*_j = - \\frac{ \\sum_{n \\in I_j} g_n }{\\sum_{n \\in I_j} h_n + \\lambda}. $$\n",
    "\n",
    "The corresponding optimal value is then\n",
    "\n",
    "$$\\tilde{\\mathcal{L}}^k (q) = - \\frac{1}{2} \\sum_{j=1}^{j=J} \\frac{\\left( \\sum_{n \\in I_j} g_n \\right)^2 }{\\sum_{n \\in I_j} h_n + \\lambda} + \\gamma J + constant. $$\n",
    "\n",
    "A greedy algorithm that starts from a single leaf and iteratively adds branches to the tree is used to dermine $q$. "
   ]
  },
  {
   "cell_type": "code",
   "execution_count": null,
   "id": "f34d72bf",
   "metadata": {
    "execution": {
     "iopub.execute_input": "2024-11-07T16:52:34.487483Z",
     "iopub.status.busy": "2024-11-07T16:52:34.487206Z",
     "iopub.status.idle": "2024-11-07T16:52:34.515629Z",
     "shell.execute_reply": "2024-11-07T16:52:34.515071Z"
    }
   },
   "outputs": [],
   "source": [
    "# hide\n",
    "display(Image(\"images/xgboost_3.png\", width=500))"
   ]
  },
  {
   "cell_type": "markdown",
   "id": "6fa2c936",
   "metadata": {},
   "source": [
    "In practice, `xgboost` (and `lightgbm`) can be used with custom loss functions -- for instance, by providing the gradient and hessian functions. "
   ]
  },
  {
   "cell_type": "markdown",
   "id": "f5cb1432",
   "metadata": {},
   "source": [
    "## Multi-layer perceptron "
   ]
  },
  {
   "cell_type": "markdown",
   "id": "ec7aa5ca",
   "metadata": {},
   "source": [
    "For the input $x \\in \\mathbb{M}$, the layer (with hidden size equals to $K$) of a multi-layer perceptron is given by \n",
    "\n",
    "$$g(b + W x)$$\n",
    "\n",
    "where $W$ is a $[K \\times M]$ matrix, $b$ is a scalar and $g$ is an activation function. The output of the last layer has to match the size of the target vector $y$. "
   ]
  },
  {
   "cell_type": "markdown",
   "id": "e3c77385",
   "metadata": {},
   "source": [
    "## Predicting industry returns with non-linear models"
   ]
  },
  {
   "cell_type": "markdown",
   "id": "22bf8d92",
   "metadata": {},
   "source": [
    "### Lightgbm"
   ]
  },
  {
   "cell_type": "code",
   "execution_count": null,
   "id": "532f4d36-ff2f-4ee5-a01b-76c38cb6e594",
   "metadata": {
    "execution": {
     "iopub.execute_input": "2024-11-07T16:52:34.518122Z",
     "iopub.status.busy": "2024-11-07T16:52:34.517794Z",
     "iopub.status.idle": "2024-11-07T16:52:34.543623Z",
     "shell.execute_reply": "2024-11-07T16:52:34.543180Z"
    }
   },
   "outputs": [],
   "source": [
    "from skfin.estimators import MLPRegressor, MultiLGBMRegressor, Ridge\n",
    "\n",
    "def transform_X(df, window=12):\n",
    "    return df.rolling(window=window).mean()\n",
    "\n",
    "\n",
    "def transform_y(df):\n",
    "    return df.shift(-1)\n",
    "\n",
    "\n",
    "features = transform_X(ret)\n",
    "target = transform_y(ret)"
   ]
  },
  {
   "cell_type": "markdown",
   "id": "e925dd5d",
   "metadata": {},
   "source": [
    "As a benchmark based on estimating the cross-industry effects, we first look at the `Ridge` estimator."
   ]
  },
  {
   "cell_type": "code",
   "execution_count": null,
   "id": "0bf08b57",
   "metadata": {
    "execution": {
     "iopub.execute_input": "2024-11-07T16:52:34.545635Z",
     "iopub.status.busy": "2024-11-07T16:52:34.545427Z",
     "iopub.status.idle": "2024-11-07T16:52:35.574799Z",
     "shell.execute_reply": "2024-11-07T16:52:35.573854Z"
    }
   },
   "outputs": [],
   "source": [
    "estimator0 = make_pipeline(StandardScaler(with_mean=False), Ridge(), MeanVariance())\n",
    "m = (\n",
    "    Backtester(estimator0, name=\"Ridge (benchmark)\")\n",
    "    .compute_holdings(features, target)\n",
    "    .compute_pnl(ret)\n",
    ")\n",
    "h0, pnl0, estimators0 = m.h_, m.pnl_, m.estimators_\n",
    "pnls = [pnl0]"
   ]
  },
  {
   "cell_type": "code",
   "execution_count": null,
   "id": "706ed81f",
   "metadata": {
    "execution": {
     "iopub.execute_input": "2024-11-07T16:52:35.577777Z",
     "iopub.status.busy": "2024-11-07T16:52:35.577243Z",
     "iopub.status.idle": "2024-11-07T16:52:35.611250Z",
     "shell.execute_reply": "2024-11-07T16:52:35.610694Z"
    }
   },
   "outputs": [],
   "source": [
    "estimator = make_pipeline(\n",
    "    MultiLGBMRegressor(min_child_samples=5, n_estimators=25), MeanVariance()\n",
    ")"
   ]
  },
  {
   "cell_type": "code",
   "execution_count": null,
   "id": "8a144403",
   "metadata": {
    "execution": {
     "iopub.execute_input": "2024-11-07T16:52:35.613601Z",
     "iopub.status.busy": "2024-11-07T16:52:35.613073Z",
     "iopub.status.idle": "2024-11-07T16:53:09.585613Z",
     "shell.execute_reply": "2024-11-07T16:53:09.584923Z"
    }
   },
   "outputs": [],
   "source": [
    "%%time\n",
    "m = (\n",
    "    Backtester(estimator, name=\"lightgm\")\n",
    "    .compute_holdings(features, target)\n",
    "    .compute_pnl(ret)\n",
    ")\n",
    "pnls += [m.pnl_]\n",
    "line(pnls, cumsum=True)"
   ]
  },
  {
   "cell_type": "code",
   "execution_count": null,
   "id": "b10ff2a6",
   "metadata": {
    "execution": {
     "iopub.execute_input": "2024-11-07T16:53:09.588005Z",
     "iopub.status.busy": "2024-11-07T16:53:09.587701Z",
     "iopub.status.idle": "2024-11-07T16:53:09.948959Z",
     "shell.execute_reply": "2024-11-07T16:53:09.948366Z"
    }
   },
   "outputs": [],
   "source": [
    "func = lambda x: np.stack(\n",
    "    [m.booster_.feature_importance(importance_type=\"gain\") for m in x]\n",
    ")\n",
    "importance = [func(m_.steps[0][1].m.estimators_) for m_ in m.estimators_]\n",
    "importance_mean = pd.DataFrame(\n",
    "    sum(importance) / len(importance), ret.columns, ret.columns\n",
    ").T\n",
    "\n",
    "heatmap(\n",
    "    importance_mean.loc[\n",
    "        importance_mean.mean().sort_values().index,\n",
    "        importance_mean.mean().sort_values().index,\n",
    "    ],\n",
    "    title=\"Average feature importance: gain (x-axis: predictors, y-axis=targets)\",\n",
    ")"
   ]
  },
  {
   "cell_type": "markdown",
   "id": "2621a619",
   "metadata": {},
   "source": [
    "### MLPRegressor "
   ]
  },
  {
   "cell_type": "markdown",
   "id": "83daa2cb",
   "metadata": {},
   "source": [
    "We first focus on a single window to understand how the `MLPRegressor` works in `scikit-learn`. "
   ]
  },
  {
   "cell_type": "code",
   "execution_count": null,
   "id": "46654469",
   "metadata": {
    "execution": {
     "iopub.execute_input": "2024-11-07T16:53:09.951335Z",
     "iopub.status.busy": "2024-11-07T16:53:09.951041Z",
     "iopub.status.idle": "2024-11-07T16:53:09.976046Z",
     "shell.execute_reply": "2024-11-07T16:53:09.975512Z"
    }
   },
   "outputs": [],
   "source": [
    "for train, test in m.cv_.split(ret):\n",
    "    break"
   ]
  },
  {
   "cell_type": "code",
   "execution_count": null,
   "id": "7e2ee621",
   "metadata": {
    "execution": {
     "iopub.execute_input": "2024-11-07T16:53:09.978412Z",
     "iopub.status.busy": "2024-11-07T16:53:09.978016Z",
     "iopub.status.idle": "2024-11-07T16:53:10.003471Z",
     "shell.execute_reply": "2024-11-07T16:53:10.003041Z"
    }
   },
   "outputs": [],
   "source": [
    "scaler = StandardScaler(with_mean=True)\n",
    "X_train = scaler.fit_transform(features.iloc[train])\n",
    "y_train = target.iloc[train]"
   ]
  },
  {
   "cell_type": "code",
   "execution_count": null,
   "id": "06f9a5d6",
   "metadata": {
    "execution": {
     "iopub.execute_input": "2024-11-07T16:53:10.005500Z",
     "iopub.status.busy": "2024-11-07T16:53:10.005167Z",
     "iopub.status.idle": "2024-11-07T16:53:10.025412Z",
     "shell.execute_reply": "2024-11-07T16:53:10.024982Z"
    }
   },
   "outputs": [],
   "source": [
    "X_test = scaler.transform(features.iloc[test])\n",
    "y_test = target.iloc[test]"
   ]
  },
  {
   "cell_type": "markdown",
   "id": "bb89f82d",
   "metadata": {},
   "source": [
    "We instantiate a simple `MLP` with 6 neurons. The activation function is a logistic sigmoid. "
   ]
  },
  {
   "cell_type": "code",
   "execution_count": null,
   "id": "eddee056",
   "metadata": {
    "execution": {
     "iopub.execute_input": "2024-11-07T16:53:10.027455Z",
     "iopub.status.busy": "2024-11-07T16:53:10.027132Z",
     "iopub.status.idle": "2024-11-07T16:53:10.447028Z",
     "shell.execute_reply": "2024-11-07T16:53:10.446358Z"
    }
   },
   "outputs": [],
   "source": [
    "m = MLPRegressor(\n",
    "    hidden_layer_sizes=(6,),\n",
    "    solver=\"adam\",\n",
    "    learning_rate_init=0.5,\n",
    "    alpha=100,\n",
    "    activation=\"logistic\",\n",
    "    tol=1e-2,\n",
    "    n_iter_no_change=25,\n",
    "    early_stopping=False,\n",
    ")\n",
    "m.fit(X_train, y_train)\n",
    "y_pred = m.predict(X_test)"
   ]
  },
  {
   "cell_type": "markdown",
   "id": "6e56072a",
   "metadata": {},
   "source": [
    "When `early_stopping` is `False`, the optimisation stops based on the in-sample score, while when `early_stopping` is `True`, \n",
    "the decision to stop is based on a random sample (e.g. 10% of the training data)."
   ]
  },
  {
   "cell_type": "code",
   "execution_count": null,
   "id": "ea0008b7",
   "metadata": {
    "execution": {
     "iopub.execute_input": "2024-11-07T16:53:10.449612Z",
     "iopub.status.busy": "2024-11-07T16:53:10.449311Z",
     "iopub.status.idle": "2024-11-07T16:53:10.474253Z",
     "shell.execute_reply": "2024-11-07T16:53:10.473697Z"
    }
   },
   "outputs": [],
   "source": [
    "print(f\"The number of iterations is {m.n_iter_} (out of a maximum of {m.max_iter}).\")"
   ]
  },
  {
   "cell_type": "code",
   "execution_count": null,
   "id": "f33f842e",
   "metadata": {
    "execution": {
     "iopub.execute_input": "2024-11-07T16:53:10.476449Z",
     "iopub.status.busy": "2024-11-07T16:53:10.476258Z",
     "iopub.status.idle": "2024-11-07T16:53:10.497326Z",
     "shell.execute_reply": "2024-11-07T16:53:10.496906Z"
    }
   },
   "outputs": [],
   "source": [
    "print(\n",
    "    f\"Number of parameter:\\n - first layer: {12 * 6  + 6}\\n - second layer: {12 * 6 + 12}\\n - total number of parameters: {12  * 12 + 6 + 12}\"\n",
    ")"
   ]
  },
  {
   "cell_type": "code",
   "execution_count": null,
   "id": "3c666952",
   "metadata": {
    "execution": {
     "iopub.execute_input": "2024-11-07T16:53:10.499245Z",
     "iopub.status.busy": "2024-11-07T16:53:10.498971Z",
     "iopub.status.idle": "2024-11-07T16:53:10.518890Z",
     "shell.execute_reply": "2024-11-07T16:53:10.518474Z"
    }
   },
   "outputs": [],
   "source": [
    "m.coefs_[0].shape, m.coefs_[1].shape"
   ]
  },
  {
   "cell_type": "code",
   "execution_count": null,
   "id": "69841e17",
   "metadata": {
    "execution": {
     "iopub.execute_input": "2024-11-07T16:53:10.520958Z",
     "iopub.status.busy": "2024-11-07T16:53:10.520508Z",
     "iopub.status.idle": "2024-11-07T16:53:10.539862Z",
     "shell.execute_reply": "2024-11-07T16:53:10.539449Z"
    }
   },
   "outputs": [],
   "source": [
    "m.intercepts_[0].shape, m.intercepts_[1].shape"
   ]
  },
  {
   "cell_type": "markdown",
   "id": "14b685f0",
   "metadata": {},
   "source": [
    "The `sigmoid logistic` activation function is also known as `expit` and it is provided by the `scipy` package. \n",
    "\n",
    "The MLP regressor in this case: \n",
    "\n",
    "- project the vector of size 12 on a vector of size 6\n",
    "- a bias vector of size 6 is added\n",
    "- the activitation function (here the `sigmoid`) regularizes the neurons\n",
    "- the second layer then projects the vector of size 6 on a vector of size 12 (with a bias of size 12). "
   ]
  },
  {
   "cell_type": "code",
   "execution_count": null,
   "id": "5d93d4f3",
   "metadata": {
    "execution": {
     "iopub.execute_input": "2024-11-07T16:53:10.541971Z",
     "iopub.status.busy": "2024-11-07T16:53:10.541535Z",
     "iopub.status.idle": "2024-11-07T16:53:10.560411Z",
     "shell.execute_reply": "2024-11-07T16:53:10.559980Z"
    }
   },
   "outputs": [],
   "source": [
    "from scipy.special import expit\n",
    "\n",
    "y_pred_ = (\n",
    "    expit(X_test.dot(m.coefs_[0]) + m.intercepts_[0]).dot(m.coefs_[1])\n",
    "    + m.intercepts_[1]\n",
    ")"
   ]
  },
  {
   "cell_type": "code",
   "execution_count": null,
   "id": "1bf6c3da",
   "metadata": {
    "execution": {
     "iopub.execute_input": "2024-11-07T16:53:10.562549Z",
     "iopub.status.busy": "2024-11-07T16:53:10.562111Z",
     "iopub.status.idle": "2024-11-07T16:53:10.581395Z",
     "shell.execute_reply": "2024-11-07T16:53:10.580970Z"
    }
   },
   "outputs": [],
   "source": [
    "np.allclose(y_pred, y_pred_)"
   ]
  },
  {
   "cell_type": "markdown",
   "id": "1182dca0",
   "metadata": {},
   "source": [
    "The `sklearn` package provides a loss curve"
   ]
  },
  {
   "cell_type": "code",
   "execution_count": null,
   "id": "5e87ae15",
   "metadata": {
    "execution": {
     "iopub.execute_input": "2024-11-07T16:53:10.583382Z",
     "iopub.status.busy": "2024-11-07T16:53:10.583063Z",
     "iopub.status.idle": "2024-11-07T16:53:10.689426Z",
     "shell.execute_reply": "2024-11-07T16:53:10.688989Z"
    }
   },
   "outputs": [],
   "source": [
    "line(pd.Series(m.loss_curve_), legend=False, title=\"Loss curve\")"
   ]
  },
  {
   "cell_type": "markdown",
   "id": "d3179eae",
   "metadata": {},
   "source": [
    "The quadratic loss of is the `squared error`: "
   ]
  },
  {
   "cell_type": "code",
   "execution_count": null,
   "id": "9529b98b",
   "metadata": {
    "execution": {
     "iopub.execute_input": "2024-11-07T16:53:10.691807Z",
     "iopub.status.busy": "2024-11-07T16:53:10.691315Z",
     "iopub.status.idle": "2024-11-07T16:53:10.714119Z",
     "shell.execute_reply": "2024-11-07T16:53:10.713689Z"
    }
   },
   "outputs": [],
   "source": [
    "np.allclose(m.loss_curve_[-1], ((y_train - y_pred) ** 2).mean().mean() / 2, atol=1e-2)"
   ]
  },
  {
   "cell_type": "markdown",
   "id": "e5b39b2c",
   "metadata": {},
   "source": [
    "We now look at a backtest using `MLPRegressor`."
   ]
  },
  {
   "cell_type": "code",
   "execution_count": null,
   "id": "b06094bb",
   "metadata": {
    "execution": {
     "iopub.execute_input": "2024-11-07T16:53:10.716156Z",
     "iopub.status.busy": "2024-11-07T16:53:10.715874Z",
     "iopub.status.idle": "2024-11-07T16:53:24.130052Z",
     "shell.execute_reply": "2024-11-07T16:53:24.129499Z"
    }
   },
   "outputs": [],
   "source": [
    "estimator = make_pipeline(\n",
    "    StandardScaler(with_mean=False),\n",
    "    MLPRegressor(\n",
    "        hidden_layer_sizes=(6,),\n",
    "        learning_rate_init=0.5,\n",
    "        alpha=100,\n",
    "        solver=\"adam\",\n",
    "        activation=\"logistic\",\n",
    "        tol=1e-2,\n",
    "        n_iter_no_change=25,\n",
    "        early_stopping=False,\n",
    "    ),\n",
    "    MeanVariance(),\n",
    ")\n",
    "m = (\n",
    "    Backtester(estimator, name=\"MLP\")\n",
    "    .compute_holdings(features, target)\n",
    "    .compute_pnl(ret)\n",
    ")\n",
    "pnls += [m.pnl_]\n",
    "\n",
    "line(pnls, cumsum=True)"
   ]
  },
  {
   "cell_type": "markdown",
   "id": "94083641-f9bf-4d94-81ca-b183b2f63ba2",
   "metadata": {},
   "source": [
    "The graph below shows the number of iteration in the `Adam` stochastic gradient descent of the MLP estimator. While the MLP has no fixed number of iterations, it oscillates around 80. "
   ]
  },
  {
   "cell_type": "code",
   "execution_count": null,
   "id": "04516b77",
   "metadata": {
    "execution": {
     "iopub.execute_input": "2024-11-07T16:53:24.132372Z",
     "iopub.status.busy": "2024-11-07T16:53:24.132038Z",
     "iopub.status.idle": "2024-11-07T16:53:24.247938Z",
     "shell.execute_reply": "2024-11-07T16:53:24.247476Z"
    }
   },
   "outputs": [],
   "source": [
    "line(\n",
    "    pd.Series([m_[1].n_iter_ for m_ in m.estimators_]),\n",
    "    title=\"Number of iterations\",\n",
    "    legend=False,\n",
    ")"
   ]
  },
  {
   "cell_type": "markdown",
   "id": "b8d1aea9-1885-44c8-a1f8-73b562360e51",
   "metadata": {},
   "source": [
    "The heatmaps below shows the coefficients $W$ for the first and second layers of the MLP. "
   ]
  },
  {
   "cell_type": "code",
   "execution_count": null,
   "id": "a5c55c50",
   "metadata": {
    "execution": {
     "iopub.execute_input": "2024-11-07T16:53:24.250181Z",
     "iopub.status.busy": "2024-11-07T16:53:24.249866Z",
     "iopub.status.idle": "2024-11-07T16:53:24.555231Z",
     "shell.execute_reply": "2024-11-07T16:53:24.554762Z"
    }
   },
   "outputs": [],
   "source": [
    "for m_ in m.estimators_:\n",
    "    break\n",
    "\n",
    "heatmap(\n",
    "    pd.DataFrame(m_[1].coefs_[0], index=ret.columns),\n",
    "    title=\"First estimator: first layer coefficients\",\n",
    ")\n",
    "heatmap(\n",
    "    pd.DataFrame(m_[1].coefs_[1], columns=ret.columns),\n",
    "    title=\"First estimator: second layer coefficients\",\n",
    ")"
   ]
  },
  {
   "cell_type": "markdown",
   "id": "a19d664d",
   "metadata": {},
   "source": [
    "Given the stochasticity of the estimation, we are interested in evaluating the noise associated to a given run. More precisely, we re-run the backtest with exactly the same estimator (and hence the same parameters). In fact, such stochasticity depends on the amount regularisation, and to make this point, we relax it with `alpha=50` (instead of 100)."
   ]
  },
  {
   "cell_type": "code",
   "execution_count": null,
   "id": "8bfe71d8",
   "metadata": {
    "execution": {
     "iopub.execute_input": "2024-11-07T16:53:24.557449Z",
     "iopub.status.busy": "2024-11-07T16:53:24.557141Z",
     "iopub.status.idle": "2024-11-07T16:55:13.698635Z",
     "shell.execute_reply": "2024-11-07T16:55:13.697984Z"
    }
   },
   "outputs": [],
   "source": [
    "%%time\n",
    "estimator_ = make_pipeline(\n",
    "    StandardScaler(with_mean=False),\n",
    "    MLPRegressor(\n",
    "        hidden_layer_sizes=(6,),\n",
    "        learning_rate_init=0.5,\n",
    "        alpha=50,\n",
    "        n_iter_no_change=25,\n",
    "        solver=\"adam\",\n",
    "        tol=1e-2,\n",
    "        activation=\"logistic\",\n",
    "    ),\n",
    "    MeanVariance(),\n",
    ")\n",
    "n_iter = 10\n",
    "pnls_ = {}\n",
    "for i in range(n_iter):\n",
    "    pnls_[i] = Backtester(estimator_).train(features, target, ret)\n",
    "\n",
    "sr_std = np.std([v.pipe(sharpe_ratio) for k, v in pnls_.items()])"
   ]
  },
  {
   "cell_type": "code",
   "execution_count": null,
   "id": "64584cd5",
   "metadata": {
    "execution": {
     "iopub.execute_input": "2024-11-07T16:55:13.700979Z",
     "iopub.status.busy": "2024-11-07T16:55:13.700712Z",
     "iopub.status.idle": "2024-11-07T16:55:15.273060Z",
     "shell.execute_reply": "2024-11-07T16:55:15.272582Z"
    },
    "tags": []
   },
   "outputs": [],
   "source": [
    "title = f\"MLP (n_iter={n_iter}, sr std= {sr_std:.2f})\"\n",
    "line(\n",
    "    pd.concat(pnls_, axis=1).assign(mean=lambda x: x.mean(axis=1)),\n",
    "    cumsum=True,\n",
    "    title=title,\n",
    ")"
   ]
  }
 ],
 "metadata": {
  "hide_input": false,
  "kernelspec": {
   "display_name": "Python (skfin)",
   "language": "python",
   "name": "skfin"
  },
  "language_info": {
   "codemirror_mode": {
    "name": "ipython",
    "version": 3
   },
   "file_extension": ".py",
   "mimetype": "text/x-python",
   "name": "python",
   "nbconvert_exporter": "python",
   "pygments_lexer": "ipython3",
   "version": "3.9.20"
  },
  "toc": {
   "base_numbering": 1,
   "nav_menu": {},
   "number_sections": false,
   "sideBar": true,
   "skip_h1_title": false,
   "title_cell": "Table of Contents",
   "title_sidebar": "Contents",
   "toc_cell": false,
   "toc_position": {},
   "toc_section_display": true,
   "toc_window_display": false
  }
 },
 "nbformat": 4,
 "nbformat_minor": 5
}
