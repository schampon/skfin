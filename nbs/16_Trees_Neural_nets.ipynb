{
 "cells": [
  {
   "cell_type": "markdown",
   "id": "79d3ff11",
   "metadata": {},
   "source": [
    "# Boosted Trees and Neural nets"
   ]
  },
  {
   "cell_type": "markdown",
   "id": "e16a1c8c",
   "metadata": {},
   "source": [
    "In this section, we review two important classes of non-linear forecasting models: boosted trees and the multi-layer perceptron."
   ]
  },
  {
   "cell_type": "code",
   "execution_count": null,
   "id": "2e270470",
   "metadata": {
    "execution": {
     "iopub.execute_input": "2023-12-07T08:15:57.759857Z",
     "iopub.status.busy": "2023-12-07T08:15:57.759417Z",
     "iopub.status.idle": "2023-12-07T08:16:01.064985Z",
     "shell.execute_reply": "2023-12-07T08:16:01.064198Z"
    }
   },
   "outputs": [],
   "source": [
    "# hide\n",
    "%load_ext autoreload\n",
    "%autoreload 2\n",
    "%matplotlib inline\n",
    "\n",
    "import logging\n",
    "\n",
    "import numpy as np\n",
    "import pandas as pd\n",
    "from IPython.display import Image, display\n",
    "from skfin.backtesting import Backtester\n",
    "from skfin.datasets import load_kf_returns\n",
    "from skfin.metrics import sharpe_ratio\n",
    "from skfin.mv_estimators import MeanVariance\n",
    "from skfin.plot import heatmap, line\n",
    "from sklearn.model_selection import TimeSeriesSplit\n",
    "from sklearn.pipeline import make_pipeline\n",
    "from sklearn.preprocessing import StandardScaler\n",
    "from tqdm.auto import tqdm\n",
    "from matplotlib import pyplot as plt\n",
    "\n",
    "logging.getLogger(\"skfin.datasets\").setLevel(logging.CRITICAL)\n",
    "\n",
    "returns_data = load_kf_returns(cache_dir=\"data\")\n",
    "ret = returns_data[\"Monthly\"][\"Average_Value_Weighted_Returns\"][:\"1999\"]"
   ]
  },
  {
   "cell_type": "markdown",
   "id": "4fdd4967",
   "metadata": {},
   "source": [
    "## Boosted Trees"
   ]
  },
  {
   "cell_type": "markdown",
   "id": "0756d036",
   "metadata": {},
   "source": [
    "We first discuss boosted trees, in particular as described by the companion paper to the package `xgboost`: \n",
    "\n",
    "> Chen and Guestrin (2016): \"XGBoost: A Scalable Tree Boosting System,\" *Proceedings of the 22nd acm sigkdd international conference on knowledge discovery and data mining.*"
   ]
  },
  {
   "cell_type": "code",
   "execution_count": null,
   "id": "17cceb7d",
   "metadata": {
    "execution": {
     "iopub.execute_input": "2023-12-07T08:16:01.069003Z",
     "iopub.status.busy": "2023-12-07T08:16:01.068683Z",
     "iopub.status.idle": "2023-12-07T08:16:01.104958Z",
     "shell.execute_reply": "2023-12-07T08:16:01.104288Z"
    }
   },
   "outputs": [],
   "source": [
    "# hide\n",
    "display(Image(\"images/xgboost_1.png\", width=500))"
   ]
  },
  {
   "cell_type": "markdown",
   "id": "67cae3e1",
   "metadata": {},
   "source": [
    "For a dataset $\\langle x_n, y_n \\rangle$ with $N$ samples ($x_n \\in \\mathbb{R}^M$), a tree ensemble model uses $K$ additive functions: \n",
    "\n",
    "$$ \\hat{y}_n = \\phi(x_n) = \\sum_k f_k(x_n),  $$ \n",
    "\n",
    "where $f_k$ is in the space of regression trees $\\mathcal {F} = \\{ f \\}$: \n",
    "\n",
    "- $q$: $\\mathbb{R}^M \\rightarrow J$ is a partition; \n",
    "- $f(x) = w_{q(x)}$ is a constant value on each leaf of the tree. \n",
    "\n",
    "The objective is to minimize the loss: \n",
    "\n",
    "$$ \\mathcal{L}(\\phi) = \\sum_n l(y_n, \\hat{y}_n) + \\sum_k \\Omega(f_k),$$\n",
    "\n",
    "where $\\Omega(f) = \\gamma J + \\frac{1}{2}\\lambda || w ||^2$ is a regularisation term and $l$ is a convex loss function (e.g. mean squared error). "
   ]
  },
  {
   "cell_type": "markdown",
   "id": "1cd8862e",
   "metadata": {},
   "source": [
    "The functions $f_k$ are derived iteratively: \n",
    "\n",
    "$$ \\mathcal {L}^k =  \\sum_n l \\left(y_n, \\hat{y}^{k-1}_n + f_k(x_n) \\right) + \\Omega (f_k).$$\n",
    "\n",
    "With a second-order Taylor expansion, we have \n",
    "\n",
    "$$ \\mathcal {L}^k \\approx \\sum_n \\left[ l (y_n, \\hat{y}^{k-1}_n) + g_n f_k(x_n) + \\frac{1}{2} h_n f_k(x_n)^2 \\right] + \\Omega (f_k), $$\n",
    "\n",
    "where $g_n = \\partial_{\\hat{y}} l(y_n, \\hat{y}^{k-1}_n)$ and $h_n = \\partial^2 _{\\hat{y}} l(y_n, \\hat{y}^{k-1}_n)$. For an instance of leaf $j$, with $I_j = \\{n| q(x_n)= j \\}$, we can sum by leaf: \n",
    "\n",
    "$$ \\mathcal {L}^{k} = \\sum_{j=1}^{j=J} \\left(\\sum_{n \\in I_j} g_n \\right) w_j + \\frac{1}{2} \\left(\\sum_{n \\in I_j} h_n + \\lambda \\right) w_j^2 + \\gamma J + constant. $$\n",
    "\n",
    "For a given $q(x)$, the optimal weight $w_j^*$ of leaf $j$ is \n",
    "\n",
    "$$ w^*_j = - \\frac{ \\sum_{n \\in I_j} g_n }{\\sum_{n \\in I_j} h_n + \\lambda}. $$\n",
    "\n",
    "The corresponding optimal value is then\n",
    "\n",
    "$$\\tilde{\\mathcal{L}}^k (q) = - \\frac{1}{2} \\sum_{j=1}^{j=J} \\frac{\\left( \\sum_{n \\in I_j} g_n \\right)^2 }{\\sum_{n \\in I_j} h_n + \\lambda} + \\gamma J + constant. $$\n",
    "\n",
    "A greedy algorithm that starts from a single leaf and iteratively adds branches to the tree is used to dermine $q$. "
   ]
  },
  {
   "cell_type": "code",
   "execution_count": null,
   "id": "f34d72bf",
   "metadata": {
    "execution": {
     "iopub.execute_input": "2023-12-07T08:16:01.108400Z",
     "iopub.status.busy": "2023-12-07T08:16:01.107873Z",
     "iopub.status.idle": "2023-12-07T08:16:01.141951Z",
     "shell.execute_reply": "2023-12-07T08:16:01.141262Z"
    }
   },
   "outputs": [],
   "source": [
    "# hide\n",
    "display(Image(\"images/xgboost_3.png\", width=500))"
   ]
  },
  {
   "cell_type": "markdown",
   "id": "6fa2c936",
   "metadata": {},
   "source": [
    "In practice, `xgboost` (and `lightgbm`) can be used with custom loss functions -- for instance, by providing the gradient and hessian functions. "
   ]
  },
  {
   "cell_type": "markdown",
   "id": "f5cb1432",
   "metadata": {},
   "source": [
    "## Multi-layer perceptron "
   ]
  },
  {
   "cell_type": "markdown",
   "id": "ec7aa5ca",
   "metadata": {},
   "source": [
    "For the input $x \\in \\mathbb{M}$, the layer (with hidden size equals to $K$) of a multi-layer perceptron is given by \n",
    "\n",
    "$$g(b + W x)$$\n",
    "\n",
    "where $W$ is a $[K \\times M]$ matrix, $b$ is a scalar and $g$ is an activation function. The output of the last layer has to match the size of the target vector $y$. "
   ]
  },
  {
   "cell_type": "markdown",
   "id": "e3c77385",
   "metadata": {},
   "source": [
    "## Predicting industry returns with non-linear models"
   ]
  },
  {
   "cell_type": "markdown",
   "id": "22bf8d92",
   "metadata": {},
   "source": [
    "### Lightgbm"
   ]
  },
  {
   "cell_type": "code",
   "execution_count": null,
   "id": "532f4d36-ff2f-4ee5-a01b-76c38cb6e594",
   "metadata": {
    "execution": {
     "iopub.execute_input": "2023-12-07T08:16:01.145733Z",
     "iopub.status.busy": "2023-12-07T08:16:01.145300Z",
     "iopub.status.idle": "2023-12-07T08:16:01.174589Z",
     "shell.execute_reply": "2023-12-07T08:16:01.173939Z"
    }
   },
   "outputs": [],
   "source": [
    "from skfin.estimators import MLPRegressor, MultiLGBMRegressor, Ridge\n",
    "\n",
    "def transform_X(df, window=12):\n",
    "    return df.rolling(window=window).mean()\n",
    "\n",
    "\n",
    "def transform_y(df):\n",
    "    return df.shift(-1)\n",
    "\n",
    "\n",
    "features = transform_X(ret)\n",
    "target = transform_y(ret)"
   ]
  },
  {
   "cell_type": "markdown",
   "id": "e925dd5d",
   "metadata": {},
   "source": [
    "As a benchmark based on estimating the cross-industry effects, we first look at the `Ridge` estimator."
   ]
  },
  {
   "cell_type": "code",
   "execution_count": null,
   "id": "0bf08b57",
   "metadata": {
    "execution": {
     "iopub.execute_input": "2023-12-07T08:16:01.177804Z",
     "iopub.status.busy": "2023-12-07T08:16:01.177350Z",
     "iopub.status.idle": "2023-12-07T08:16:02.612331Z",
     "shell.execute_reply": "2023-12-07T08:16:02.611597Z"
    }
   },
   "outputs": [],
   "source": [
    "estimator0 = make_pipeline(StandardScaler(with_mean=False), Ridge(), MeanVariance())\n",
    "m = (\n",
    "    Backtester(estimator0, name=\"Ridge (benchmark)\")\n",
    "    .compute_holdings(features, target)\n",
    "    .compute_pnl(ret)\n",
    ")\n",
    "h0, pnl0, estimators0 = m.h_, m.pnl_, m.estimators_\n",
    "pnls = [pnl0]"
   ]
  },
  {
   "cell_type": "code",
   "execution_count": null,
   "id": "706ed81f",
   "metadata": {
    "execution": {
     "iopub.execute_input": "2023-12-07T08:16:02.615846Z",
     "iopub.status.busy": "2023-12-07T08:16:02.615367Z",
     "iopub.status.idle": "2023-12-07T08:16:02.642689Z",
     "shell.execute_reply": "2023-12-07T08:16:02.641989Z"
    }
   },
   "outputs": [],
   "source": [
    "estimator = make_pipeline(\n",
    "    MultiLGBMRegressor(min_child_samples=5, n_estimators=25), MeanVariance()\n",
    ")"
   ]
  },
  {
   "cell_type": "code",
   "execution_count": null,
   "id": "8a144403",
   "metadata": {
    "execution": {
     "iopub.execute_input": "2023-12-07T08:16:02.645755Z",
     "iopub.status.busy": "2023-12-07T08:16:02.645341Z",
     "iopub.status.idle": "2023-12-07T08:16:45.960872Z",
     "shell.execute_reply": "2023-12-07T08:16:45.960082Z"
    }
   },
   "outputs": [],
   "source": [
    "%%time\n",
    "m = (\n",
    "    Backtester(estimator, name=\"lightgm\")\n",
    "    .compute_holdings(features, target)\n",
    "    .compute_pnl(ret)\n",
    ")\n",
    "pnls += [m.pnl_]\n",
    "line(pnls, cumsum=True)"
   ]
  },
  {
   "cell_type": "code",
   "execution_count": null,
   "id": "b10ff2a6",
   "metadata": {
    "execution": {
     "iopub.execute_input": "2023-12-07T08:16:45.964076Z",
     "iopub.status.busy": "2023-12-07T08:16:45.963770Z",
     "iopub.status.idle": "2023-12-07T08:16:46.673208Z",
     "shell.execute_reply": "2023-12-07T08:16:46.672472Z"
    }
   },
   "outputs": [],
   "source": [
    "func = lambda x: np.stack(\n",
    "    [m.booster_.feature_importance(importance_type=\"gain\") for m in x]\n",
    ")\n",
    "importance = [func(m_.steps[0][1].m.estimators_) for m_ in m.estimators_]\n",
    "importance_mean = pd.DataFrame(\n",
    "    sum(importance) / len(importance), ret.columns, ret.columns\n",
    ").T\n",
    "\n",
    "heatmap(\n",
    "    importance_mean.loc[\n",
    "        importance_mean.mean().sort_values().index,\n",
    "        importance_mean.mean().sort_values().index,\n",
    "    ],\n",
    "    title=\"Average feature importance: gain (x-axis: predictors, y-axis=targets)\",\n",
    ")"
   ]
  },
  {
   "cell_type": "markdown",
   "id": "2621a619",
   "metadata": {},
   "source": [
    "### MLPRegressor "
   ]
  },
  {
   "cell_type": "markdown",
   "id": "83daa2cb",
   "metadata": {},
   "source": [
    "We first focus on a single window to understand how the `MLPRegressor` works in `scikit-learn`. "
   ]
  },
  {
   "cell_type": "code",
   "execution_count": null,
   "id": "46654469",
   "metadata": {
    "execution": {
     "iopub.execute_input": "2023-12-07T08:16:46.676813Z",
     "iopub.status.busy": "2023-12-07T08:16:46.676312Z",
     "iopub.status.idle": "2023-12-07T08:16:46.706098Z",
     "shell.execute_reply": "2023-12-07T08:16:46.705412Z"
    }
   },
   "outputs": [],
   "source": [
    "for train, test in m.cv_.split(ret):\n",
    "    break"
   ]
  },
  {
   "cell_type": "code",
   "execution_count": null,
   "id": "7e2ee621",
   "metadata": {
    "execution": {
     "iopub.execute_input": "2023-12-07T08:16:46.709018Z",
     "iopub.status.busy": "2023-12-07T08:16:46.708544Z",
     "iopub.status.idle": "2023-12-07T08:16:46.737998Z",
     "shell.execute_reply": "2023-12-07T08:16:46.737309Z"
    }
   },
   "outputs": [],
   "source": [
    "scaler = StandardScaler(with_mean=True)\n",
    "X_train = scaler.fit_transform(features.iloc[train])\n",
    "y_train = target.iloc[train]"
   ]
  },
  {
   "cell_type": "code",
   "execution_count": null,
   "id": "06f9a5d6",
   "metadata": {
    "execution": {
     "iopub.execute_input": "2023-12-07T08:16:46.740902Z",
     "iopub.status.busy": "2023-12-07T08:16:46.740464Z",
     "iopub.status.idle": "2023-12-07T08:16:46.768702Z",
     "shell.execute_reply": "2023-12-07T08:16:46.767998Z"
    }
   },
   "outputs": [],
   "source": [
    "X_test = scaler.transform(features.iloc[test])\n",
    "y_test = target.iloc[test]"
   ]
  },
  {
   "cell_type": "markdown",
   "id": "bb89f82d",
   "metadata": {},
   "source": [
    "We instantiate a simple `MLP` with 6 neurons. The activation function is a logistic sigmoid. "
   ]
  },
  {
   "cell_type": "code",
   "execution_count": null,
   "id": "eddee056",
   "metadata": {
    "execution": {
     "iopub.execute_input": "2023-12-07T08:16:46.771822Z",
     "iopub.status.busy": "2023-12-07T08:16:46.771455Z",
     "iopub.status.idle": "2023-12-07T08:16:47.142238Z",
     "shell.execute_reply": "2023-12-07T08:16:47.141505Z"
    }
   },
   "outputs": [],
   "source": [
    "m = MLPRegressor(\n",
    "    hidden_layer_sizes=(6,),\n",
    "    solver=\"adam\",\n",
    "    learning_rate_init=0.5,\n",
    "    alpha=100,\n",
    "    activation=\"logistic\",\n",
    "    tol=1e-2,\n",
    "    n_iter_no_change=25,\n",
    "    early_stopping=False,\n",
    ")\n",
    "m.fit(X_train, y_train)\n",
    "y_pred = m.predict(X_test)"
   ]
  },
  {
   "cell_type": "markdown",
   "id": "6e56072a",
   "metadata": {},
   "source": [
    "When `early_stopping` is `False`, the optimisation stops based on the in-sample score, while when `early_stopping` is `True`, \n",
    "the decision to stop is based on a random sample (e.g. 10% of the training data)."
   ]
  },
  {
   "cell_type": "code",
   "execution_count": null,
   "id": "ea0008b7",
   "metadata": {
    "execution": {
     "iopub.execute_input": "2023-12-07T08:16:47.145493Z",
     "iopub.status.busy": "2023-12-07T08:16:47.145086Z",
     "iopub.status.idle": "2023-12-07T08:16:47.174441Z",
     "shell.execute_reply": "2023-12-07T08:16:47.173784Z"
    }
   },
   "outputs": [],
   "source": [
    "print(f\"The number of iterations is {m.n_iter_} (out of a maximum of {m.max_iter}).\")"
   ]
  },
  {
   "cell_type": "code",
   "execution_count": null,
   "id": "f33f842e",
   "metadata": {
    "execution": {
     "iopub.execute_input": "2023-12-07T08:16:47.177449Z",
     "iopub.status.busy": "2023-12-07T08:16:47.176947Z",
     "iopub.status.idle": "2023-12-07T08:16:47.202920Z",
     "shell.execute_reply": "2023-12-07T08:16:47.202271Z"
    }
   },
   "outputs": [],
   "source": [
    "print(\n",
    "    f\"Number of parameter:\\n - first layer: {12 * 6  + 6}\\n - second layer: {12 * 6 + 12}\\n - total number of parameters: {12  * 12 + 6 + 12}\"\n",
    ")"
   ]
  },
  {
   "cell_type": "code",
   "execution_count": null,
   "id": "3c666952",
   "metadata": {
    "execution": {
     "iopub.execute_input": "2023-12-07T08:16:47.205761Z",
     "iopub.status.busy": "2023-12-07T08:16:47.205334Z",
     "iopub.status.idle": "2023-12-07T08:16:47.232125Z",
     "shell.execute_reply": "2023-12-07T08:16:47.231488Z"
    }
   },
   "outputs": [],
   "source": [
    "m.coefs_[0].shape, m.coefs_[1].shape"
   ]
  },
  {
   "cell_type": "code",
   "execution_count": null,
   "id": "69841e17",
   "metadata": {
    "execution": {
     "iopub.execute_input": "2023-12-07T08:16:47.234909Z",
     "iopub.status.busy": "2023-12-07T08:16:47.234550Z",
     "iopub.status.idle": "2023-12-07T08:16:47.261438Z",
     "shell.execute_reply": "2023-12-07T08:16:47.260795Z"
    }
   },
   "outputs": [],
   "source": [
    "m.intercepts_[0].shape, m.intercepts_[1].shape"
   ]
  },
  {
   "cell_type": "markdown",
   "id": "14b685f0",
   "metadata": {},
   "source": [
    "The `sigmoid logistic` activation function is also known as `expit` and it is provided by the `scipy` package. \n",
    "\n",
    "The MLP regressor in this case: \n",
    "\n",
    "- project the vector of size 12 on a vector of size 6\n",
    "- a bias vector of size 6 is added\n",
    "- the activitation function (here the `sigmoid`) regularizes the neurons\n",
    "- the second layer then projects the vector of size 6 on a vector of size 12 (with a bias of size 12). "
   ]
  },
  {
   "cell_type": "code",
   "execution_count": null,
   "id": "5d93d4f3",
   "metadata": {
    "execution": {
     "iopub.execute_input": "2023-12-07T08:16:47.264526Z",
     "iopub.status.busy": "2023-12-07T08:16:47.264021Z",
     "iopub.status.idle": "2023-12-07T08:16:47.290060Z",
     "shell.execute_reply": "2023-12-07T08:16:47.289411Z"
    }
   },
   "outputs": [],
   "source": [
    "from scipy.special import expit\n",
    "\n",
    "y_pred_ = (\n",
    "    expit(X_test.dot(m.coefs_[0]) + m.intercepts_[0]).dot(m.coefs_[1])\n",
    "    + m.intercepts_[1]\n",
    ")"
   ]
  },
  {
   "cell_type": "code",
   "execution_count": null,
   "id": "1bf6c3da",
   "metadata": {
    "execution": {
     "iopub.execute_input": "2023-12-07T08:16:47.292889Z",
     "iopub.status.busy": "2023-12-07T08:16:47.292526Z",
     "iopub.status.idle": "2023-12-07T08:16:47.319208Z",
     "shell.execute_reply": "2023-12-07T08:16:47.318565Z"
    }
   },
   "outputs": [],
   "source": [
    "np.allclose(y_pred, y_pred_)"
   ]
  },
  {
   "cell_type": "markdown",
   "id": "1182dca0",
   "metadata": {},
   "source": [
    "The `sklearn` package provides a loss curve"
   ]
  },
  {
   "cell_type": "code",
   "execution_count": null,
   "id": "5e87ae15",
   "metadata": {
    "execution": {
     "iopub.execute_input": "2023-12-07T08:16:47.322256Z",
     "iopub.status.busy": "2023-12-07T08:16:47.321752Z",
     "iopub.status.idle": "2023-12-07T08:16:47.498496Z",
     "shell.execute_reply": "2023-12-07T08:16:47.497855Z"
    }
   },
   "outputs": [],
   "source": [
    "line(pd.Series(m.loss_curve_), legend=False, title=\"Loss curve\")"
   ]
  },
  {
   "cell_type": "markdown",
   "id": "d3179eae",
   "metadata": {},
   "source": [
    "The quadratic loss of is the `squared error`: "
   ]
  },
  {
   "cell_type": "code",
   "execution_count": null,
   "id": "9529b98b",
   "metadata": {
    "execution": {
     "iopub.execute_input": "2023-12-07T08:16:47.501478Z",
     "iopub.status.busy": "2023-12-07T08:16:47.501070Z",
     "iopub.status.idle": "2023-12-07T08:16:47.529415Z",
     "shell.execute_reply": "2023-12-07T08:16:47.528782Z"
    }
   },
   "outputs": [],
   "source": [
    "np.allclose(m.loss_curve_[-1], ((y_train - y_pred) ** 2).mean().mean() / 2, atol=1e-2)"
   ]
  },
  {
   "cell_type": "markdown",
   "id": "e5b39b2c",
   "metadata": {},
   "source": [
    "We now look at a backtest using `MLPRegressor`."
   ]
  },
  {
   "cell_type": "code",
   "execution_count": null,
   "id": "b06094bb",
   "metadata": {
    "execution": {
     "iopub.execute_input": "2023-12-07T08:16:47.532524Z",
     "iopub.status.busy": "2023-12-07T08:16:47.532036Z",
     "iopub.status.idle": "2023-12-07T08:17:07.224924Z",
     "shell.execute_reply": "2023-12-07T08:17:07.224264Z"
    }
   },
   "outputs": [],
   "source": [
    "estimator = make_pipeline(\n",
    "    StandardScaler(with_mean=False),\n",
    "    MLPRegressor(\n",
    "        hidden_layer_sizes=(6,),\n",
    "        learning_rate_init=0.5,\n",
    "        alpha=100,\n",
    "        solver=\"adam\",\n",
    "        activation=\"logistic\",\n",
    "        tol=1e-2,\n",
    "        n_iter_no_change=25,\n",
    "        early_stopping=False,\n",
    "    ),\n",
    "    MeanVariance(),\n",
    ")\n",
    "m = (\n",
    "    Backtester(estimator, name=\"MLP\")\n",
    "    .compute_holdings(features, target)\n",
    "    .compute_pnl(ret)\n",
    ")\n",
    "pnls += [m.pnl_]\n",
    "\n",
    "line(pnls, cumsum=True)"
   ]
  },
  {
   "cell_type": "code",
   "execution_count": null,
   "id": "04516b77",
   "metadata": {
    "execution": {
     "iopub.execute_input": "2023-12-07T08:17:07.228073Z",
     "iopub.status.busy": "2023-12-07T08:17:07.227702Z",
     "iopub.status.idle": "2023-12-07T08:17:07.406806Z",
     "shell.execute_reply": "2023-12-07T08:17:07.406167Z"
    }
   },
   "outputs": [],
   "source": [
    "line(\n",
    "    pd.Series([m_[1].n_iter_ for m_ in m.estimators_]),\n",
    "    title=\"Number of iterations\",\n",
    "    legend=False,\n",
    ")"
   ]
  },
  {
   "cell_type": "code",
   "execution_count": null,
   "id": "a5c55c50",
   "metadata": {
    "execution": {
     "iopub.execute_input": "2023-12-07T08:17:07.409797Z",
     "iopub.status.busy": "2023-12-07T08:17:07.409266Z",
     "iopub.status.idle": "2023-12-07T08:17:07.967343Z",
     "shell.execute_reply": "2023-12-07T08:17:07.966670Z"
    }
   },
   "outputs": [],
   "source": [
    "for m_ in m.estimators_:\n",
    "    break\n",
    "\n",
    "heatmap(\n",
    "    pd.DataFrame(m_[1].coefs_[0], index=ret.columns),\n",
    "    title=\"First estimator: first layer coefficients\",\n",
    ")\n",
    "heatmap(\n",
    "    pd.DataFrame(m_[1].coefs_[1], columns=ret.columns),\n",
    "    title=\"First estimator: second layer coefficients\",\n",
    ")"
   ]
  },
  {
   "cell_type": "markdown",
   "id": "a19d664d",
   "metadata": {},
   "source": [
    "Given the stochasticity of the estimation, we are interested in evaluating the noise associated to a given run. More precisely, we re-run the backtest with exactly the same estimator (and hence the same parameters). In fact, such stochasticity depends on the amount regularisation, and to make this point, we relax it with `alpha=50` (instead of 100)."
   ]
  },
  {
   "cell_type": "code",
   "execution_count": null,
   "id": "8bfe71d8",
   "metadata": {
    "execution": {
     "iopub.execute_input": "2023-12-07T08:17:07.970723Z",
     "iopub.status.busy": "2023-12-07T08:17:07.970357Z",
     "iopub.status.idle": "2023-12-07T08:19:48.412679Z",
     "shell.execute_reply": "2023-12-07T08:19:48.411901Z"
    }
   },
   "outputs": [],
   "source": [
    "%%time\n",
    "estimator_ = make_pipeline(\n",
    "    StandardScaler(with_mean=False),\n",
    "    MLPRegressor(\n",
    "        hidden_layer_sizes=(6,),\n",
    "        learning_rate_init=0.5,\n",
    "        alpha=50,\n",
    "        n_iter_no_change=25,\n",
    "        solver=\"adam\",\n",
    "        tol=1e-2,\n",
    "        activation=\"logistic\",\n",
    "    ),\n",
    "    MeanVariance(),\n",
    ")\n",
    "n_iter = 10\n",
    "pnls_ = {}\n",
    "for i in range(n_iter):\n",
    "    pnls_[i] = Backtester(estimator_).train(features, target, ret)\n",
    "\n",
    "sr_std = np.std([v.pipe(sharpe_ratio) for k, v in pnls_.items()])"
   ]
  },
  {
   "cell_type": "code",
   "execution_count": null,
   "id": "64584cd5",
   "metadata": {
    "execution": {
     "iopub.execute_input": "2023-12-07T08:19:48.416083Z",
     "iopub.status.busy": "2023-12-07T08:19:48.415705Z",
     "iopub.status.idle": "2023-12-07T08:19:51.657324Z",
     "shell.execute_reply": "2023-12-07T08:19:51.656668Z"
    },
    "tags": []
   },
   "outputs": [],
   "source": [
    "title = f\"MLP (n_iter={n_iter}, sr std= {sr_std:.2f})\"\n",
    "line(\n",
    "    pd.concat(pnls_, axis=1).assign(mean=lambda x: x.mean(axis=1)),\n",
    "    cumsum=True,\n",
    "    title=title,\n",
    ")"
   ]
  }
 ],
 "metadata": {
  "hide_input": false,
  "kernelspec": {
   "display_name": "Python (skfin)",
   "language": "python",
   "name": "skfin"
  },
  "language_info": {
   "codemirror_mode": {
    "name": "ipython",
    "version": 3
   },
   "file_extension": ".py",
   "mimetype": "text/x-python",
   "name": "python",
   "nbconvert_exporter": "python",
   "pygments_lexer": "ipython3",
   "version": "3.8.16"
  },
  "toc": {
   "base_numbering": 1,
   "nav_menu": {},
   "number_sections": false,
   "sideBar": true,
   "skip_h1_title": false,
   "title_cell": "Table of Contents",
   "title_sidebar": "Contents",
   "toc_cell": false,
   "toc_position": {},
   "toc_section_display": true,
   "toc_window_display": false
  }
 },
 "nbformat": 4,
 "nbformat_minor": 5
}
