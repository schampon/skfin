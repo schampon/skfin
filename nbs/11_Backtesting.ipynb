{
 "cells": [
  {
   "cell_type": "markdown",
   "id": "e03b873e",
   "metadata": {},
   "source": [
    "# Backtesting Industry Momentum Strategies"
   ]
  },
  {
   "cell_type": "markdown",
   "id": "949db0d6",
   "metadata": {},
   "source": [
    "In this section, we construct a backtest using industry data. More precisely, we use data from Ken French's data library to construct a simple industry momentum return predictor.\n",
    "\n",
    "The goal of a backtest is to assess the validity of a trading predictor at any point in the past. In particular, it is crucial to avoid any forward-looking bias -- in which information available only after time $t$ is mistakingly used at time $t$. In practice, the predictors are estimated over `rolling` (or `expanding`) windows. We implement rolling window estimation with the `sklearn` `TimeSeriesSplit` object.\n",
    "\n",
    "To validate a backtest, there are several steps: \n",
    "\n",
    "1. reasonability of the rationale (why it might/should work); \n",
    "2. predictability (e.g. statistical significance of the predictor over time and across assets); \n",
    "3. robustness (does the statistical significance survive perturbations); \n",
    "4. tradability (does the statistical significance survive cost). \n"
   ]
  },
  {
   "cell_type": "markdown",
   "id": "8c450a29",
   "metadata": {},
   "source": [
    "For backtesting, visualisation is very important and we make use of some plotting functions introduced in the Appendix:"
   ]
  },
  {
   "cell_type": "code",
   "execution_count": null,
   "id": "2d8adf0a",
   "metadata": {
    "execution": {
     "iopub.execute_input": "2025-09-29T15:38:56.772966Z",
     "iopub.status.busy": "2025-09-29T15:38:56.772760Z",
     "iopub.status.idle": "2025-09-29T15:38:58.127080Z",
     "shell.execute_reply": "2025-09-29T15:38:58.126377Z"
    },
    "tags": []
   },
   "outputs": [],
   "source": [
    "from skfin.backtesting import Backtester\n",
    "from skfin.plot import bar, heatmap, line"
   ]
  },
  {
   "cell_type": "markdown",
   "id": "c6c58cf9",
   "metadata": {},
   "source": [
    "## Industry momentum backtest "
   ]
  },
  {
   "cell_type": "markdown",
   "id": "f090274d",
   "metadata": {},
   "source": [
    "The setup for predicting industry returns is the following: \n",
    "\n",
    "- the assets are industries; \n",
    "\n",
    "- the return forecast $\\alpha$ is estimated using rolling-window returns (over $L$ months, $L=12$) preceding a given date; \n",
    "\n",
    "-  no `look-ahead bias`: at each date, only information up that date is used; \n",
    "\n",
    "- such a strategy goes long past \"winners\" (industries with higher-than-average returns) and goes short \"losers\" (industries with lower-than-average returns) $\\Rightarrow$ Momentum strategy; \n",
    "\n",
    "- this strategy is often implemented by skipping the most recent month to avoid the `1-month reversal\" effect`. \n",
    "\n",
    "The article \"Do Industries Explain Momentum\" (1999) by  Moskowitz and Grinblatt  in the  *Journal of Finance* document that indeed there is momentum in industry returns -- past industry returns help predict statistically and economically future industry returns. "
   ]
  },
  {
   "cell_type": "code",
   "execution_count": null,
   "id": "7b61f8cd",
   "metadata": {
    "execution": {
     "iopub.execute_input": "2025-09-29T15:38:58.129644Z",
     "iopub.status.busy": "2025-09-29T15:38:58.129273Z",
     "iopub.status.idle": "2025-09-29T15:38:58.166266Z",
     "shell.execute_reply": "2025-09-29T15:38:58.165677Z"
    },
    "tags": []
   },
   "outputs": [],
   "source": [
    "# hide\n",
    "%load_ext autoreload\n",
    "%autoreload 2\n",
    "%matplotlib inline\n",
    "\n",
    "import numpy as np\n",
    "import pandas as pd\n",
    "from IPython.display import Image, display"
   ]
  },
  {
   "cell_type": "code",
   "execution_count": null,
   "id": "81a9b5c7",
   "metadata": {
    "execution": {
     "iopub.execute_input": "2025-09-29T15:38:58.168109Z",
     "iopub.status.busy": "2025-09-29T15:38:58.167867Z",
     "iopub.status.idle": "2025-09-29T15:38:58.203739Z",
     "shell.execute_reply": "2025-09-29T15:38:58.203167Z"
    },
    "tags": []
   },
   "outputs": [],
   "source": [
    "# hide\n",
    "display(Image(\"images/l2_grinblatt_header.png\", width=600))"
   ]
  },
  {
   "cell_type": "code",
   "execution_count": null,
   "id": "bcc70944",
   "metadata": {
    "execution": {
     "iopub.execute_input": "2025-09-29T15:38:58.205617Z",
     "iopub.status.busy": "2025-09-29T15:38:58.205400Z",
     "iopub.status.idle": "2025-09-29T15:38:58.233466Z",
     "shell.execute_reply": "2025-09-29T15:38:58.232922Z"
    },
    "tags": []
   },
   "outputs": [],
   "source": [
    "# hide\n",
    "display(Image(\"images/l2_grinblatt_table3heading.PNG\", width=600))\n",
    "display(Image(\"images/l2_grinblatt_table3heading2.PNG\", width=800))\n",
    "display(Image(\"images/l2_grinblatt_table3.PNG\", width=800))"
   ]
  },
  {
   "cell_type": "markdown",
   "id": "2ae5491b",
   "metadata": {},
   "source": [
    "### Industry data"
   ]
  },
  {
   "cell_type": "markdown",
   "id": "a1b8acab",
   "metadata": {},
   "source": [
    "To load the data, we use the function `load_kf_returns` introduced in the `Data` section: "
   ]
  },
  {
   "cell_type": "code",
   "execution_count": null,
   "id": "989674e7",
   "metadata": {
    "execution": {
     "iopub.execute_input": "2025-09-29T15:38:58.235173Z",
     "iopub.status.busy": "2025-09-29T15:38:58.234966Z",
     "iopub.status.idle": "2025-09-29T15:38:58.535896Z",
     "shell.execute_reply": "2025-09-29T15:38:58.535220Z"
    },
    "tags": []
   },
   "outputs": [],
   "source": [
    "from skfin.datasets_ import load_kf_returns\n",
    "\n",
    "returns_data = load_kf_returns(cache_dir=\"data\", force_reload=False)"
   ]
  },
  {
   "cell_type": "markdown",
   "id": "5e62eca2",
   "metadata": {},
   "source": [
    "Since the Moskowitz-Grinblatt paper was published in August 1999, we will keep the data after 1999 as `out-of-sample` and only use the data before 1999. "
   ]
  },
  {
   "cell_type": "code",
   "execution_count": null,
   "id": "51ff9711",
   "metadata": {
    "execution": {
     "iopub.execute_input": "2025-09-29T15:38:58.538141Z",
     "iopub.status.busy": "2025-09-29T15:38:58.537814Z",
     "iopub.status.idle": "2025-09-29T15:38:58.563812Z",
     "shell.execute_reply": "2025-09-29T15:38:58.563236Z"
    },
    "tags": []
   },
   "outputs": [],
   "source": [
    "ret = returns_data[\"Monthly\"][\"Average_Value_Weighted_Returns\"][:\"1999\"]"
   ]
  },
  {
   "cell_type": "markdown",
   "id": "28a0c56d",
   "metadata": {},
   "source": [
    "### Backtesting functions"
   ]
  },
  {
   "cell_type": "markdown",
   "id": "04fc8615",
   "metadata": {},
   "source": [
    "In the next set of helper file, we introduce the main `Backtester` class and the `fit_and_predict` function to run rolling window estimations. "
   ]
  },
  {
   "cell_type": "code",
   "execution_count": null,
   "id": "2538d843",
   "metadata": {
    "code_folding": [],
    "editable": true,
    "execution": {
     "iopub.execute_input": "2025-09-29T15:38:58.565821Z",
     "iopub.status.busy": "2025-09-29T15:38:58.565545Z",
     "iopub.status.idle": "2025-09-29T15:38:58.596684Z",
     "shell.execute_reply": "2025-09-29T15:38:58.596077Z"
    },
    "lines_to_end_of_cell_marker": 2,
    "lines_to_next_cell": 2,
    "slideshow": {
     "slide_type": ""
    },
    "tags": []
   },
   "outputs": [],
   "source": [
    "%%writefile ../skfin/backtesting.py\n",
    "from dataclasses import dataclass\n",
    "\n",
    "import numpy as np\n",
    "import pandas as pd\n",
    "from joblib import Parallel, delayed\n",
    "from skfin.mv_estimators import MeanVariance\n",
    "from sklearn.base import BaseEstimator, clone\n",
    "from sklearn.model_selection import TimeSeriesSplit\n",
    "from sklearn.utils.metaestimators import _safe_split\n",
    "\n",
    "\n",
    "def compute_pnl(h, ret, pred_lag):\n",
    "    pnl = h.shift(pred_lag).mul(ret)\n",
    "    if isinstance(h, pd.DataFrame):\n",
    "        pnl = pnl.sum(axis=1)\n",
    "    return pnl\n",
    "\n",
    "\n",
    "def fit_predict(estimator, X, y, train, test, return_estimator=True):\n",
    "    X_train, y_train = _safe_split(estimator, X, y, train)\n",
    "    X_test, _ = _safe_split(estimator, X, y, test, train)\n",
    "    estimator.fit(X_train, y_train)\n",
    "    if return_estimator:\n",
    "        return estimator.predict(X_test), estimator\n",
    "    else:\n",
    "        return estimator.predict(X_test)\n",
    "\n",
    "\n",
    "@dataclass\n",
    "class Backtester:\n",
    "    estimator: BaseEstimator = MeanVariance()\n",
    "    max_train_size: int = 36\n",
    "    test_size: int = 1\n",
    "    pred_lag: int = 1\n",
    "    start_date: str = \"1945-01-01\"\n",
    "    end_date: str = None\n",
    "    name: str = None\n",
    "\n",
    "    def compute_holdings(self, X, y, pre_dispatch=\"2*n_jobs\", n_jobs=1):\n",
    "        X = X.loc[:self.end_date]\n",
    "        cv = TimeSeriesSplit(\n",
    "            max_train_size=self.max_train_size,\n",
    "            test_size=self.test_size,\n",
    "            n_splits=1 + len(X.loc[self.start_date : ]) // self.test_size,\n",
    "        )\n",
    "        parallel = Parallel(n_jobs=n_jobs, pre_dispatch=pre_dispatch)\n",
    "        res = parallel(\n",
    "            delayed(fit_predict)(\n",
    "                clone(self.estimator), X.values, y.values, train, test, True\n",
    "            )\n",
    "            for train, test in cv.split(X)\n",
    "        )\n",
    "        y_pred, estimators = zip(*res)\n",
    "        idx = X.index[np.concatenate([test for _, test in cv.split(X)])]\n",
    "        if isinstance(y, pd.DataFrame):\n",
    "            cols = y.columns\n",
    "            h = pd.DataFrame(np.concatenate(y_pred), index=idx, columns=cols)\n",
    "        elif isinstance(y, pd.Series):\n",
    "            h = pd.Series(np.concatenate(y_pred), index=idx)\n",
    "        else:\n",
    "            h = None\n",
    "        self.h_ = h\n",
    "        self.estimators_ = estimators\n",
    "        self.cv_ = cv\n",
    "        return self\n",
    "\n",
    "    def compute_pnl(self, ret):\n",
    "        pnl = compute_pnl(self.h_, ret, self.pred_lag)\n",
    "        self.pnl_ = pnl.loc[self.start_date : self.end_date]\n",
    "        if self.name:\n",
    "            self.pnl_ = self.pnl_.rename(self.name)\n",
    "        return self\n",
    "\n",
    "    def train(self, X, y, ret):\n",
    "        self.compute_holdings(X, y)\n",
    "        self.compute_pnl(ret)\n",
    "        return self.pnl_"
   ]
  },
  {
   "cell_type": "code",
   "execution_count": null,
   "id": "489a54fe",
   "metadata": {
    "execution": {
     "iopub.execute_input": "2025-09-29T15:38:58.598358Z",
     "iopub.status.busy": "2025-09-29T15:38:58.598141Z",
     "iopub.status.idle": "2025-09-29T15:38:58.650283Z",
     "shell.execute_reply": "2025-09-29T15:38:58.649731Z"
    },
    "tags": []
   },
   "outputs": [],
   "source": [
    "from skfin.backtesting import Backtester\n",
    "from skfin.mv_estimators import MeanVariance"
   ]
  },
  {
   "cell_type": "markdown",
   "id": "8388fba0",
   "metadata": {},
   "source": [
    "### Scikit-Learn TimeSeriesSplit"
   ]
  },
  {
   "cell_type": "code",
   "execution_count": null,
   "id": "ce96354a",
   "metadata": {
    "execution": {
     "iopub.execute_input": "2025-09-29T15:38:58.652018Z",
     "iopub.status.busy": "2025-09-29T15:38:58.651805Z",
     "iopub.status.idle": "2025-09-29T15:38:58.673881Z",
     "shell.execute_reply": "2025-09-29T15:38:58.673331Z"
    },
    "tags": []
   },
   "outputs": [],
   "source": [
    "from sklearn.model_selection import TimeSeriesSplit"
   ]
  },
  {
   "cell_type": "markdown",
   "id": "493a8355",
   "metadata": {},
   "source": [
    "Given that the data is monthly, we re-estimate the model every month. This is done by choosing the parameter `n_splits` in the class `TimeSeriesSplit` as the number of months. "
   ]
  },
  {
   "cell_type": "code",
   "execution_count": null,
   "id": "a5dcee8a",
   "metadata": {
    "execution": {
     "iopub.execute_input": "2025-09-29T15:38:58.675604Z",
     "iopub.status.busy": "2025-09-29T15:38:58.675341Z",
     "iopub.status.idle": "2025-09-29T15:38:58.699111Z",
     "shell.execute_reply": "2025-09-29T15:38:58.698548Z"
    },
    "tags": []
   },
   "outputs": [],
   "source": [
    "start_date = \"1945-01-01\"\n",
    "test_size = 1\n",
    "params = dict(max_train_size=36, test_size=test_size, gap=0)\n",
    "params[\"n_splits\"] = 1 + len(ret.loc[start_date:]) // test_size\n",
    "\n",
    "cv = TimeSeriesSplit(**params)"
   ]
  },
  {
   "cell_type": "markdown",
   "id": "a05e2d6b",
   "metadata": {},
   "source": [
    "More precisely, with `TimeSeriesSplit`:\n",
    "\n",
    "- the `test` indices are the dates for which the holdings are computed.\n",
    "\n",
    "- the `train` indices are the date range over which a forecasting model is trained.\n",
    "\n",
    "- the target will been shifted by $-1$ and `gap` is set to 0. \n",
    "\n",
    "- we can estimate batches with `test_size` > 1.\n",
    "\n",
    "- `n_splits` is determined so that the backtest starts (just) before a certain start date."
   ]
  },
  {
   "cell_type": "code",
   "execution_count": null,
   "id": "88f7c605",
   "metadata": {
    "execution": {
     "iopub.execute_input": "2025-09-29T15:38:58.700859Z",
     "iopub.status.busy": "2025-09-29T15:38:58.700631Z",
     "iopub.status.idle": "2025-09-29T15:38:58.726848Z",
     "shell.execute_reply": "2025-09-29T15:38:58.726277Z"
    },
    "tags": []
   },
   "outputs": [],
   "source": [
    "for train, test in cv.split(ret):\n",
    "    break\n",
    "ret.iloc[train].index[-1].strftime(\"%Y%m%d\"), ret.iloc[test].index[0].strftime(\"%Y%m%d\")"
   ]
  },
  {
   "cell_type": "markdown",
   "id": "83e4bb69",
   "metadata": {},
   "source": [
    "## Empirical results"
   ]
  },
  {
   "cell_type": "markdown",
   "id": "7d548b46",
   "metadata": {},
   "source": [
    "### Cumulative pnl"
   ]
  },
  {
   "cell_type": "markdown",
   "id": "2c329092",
   "metadata": {},
   "source": [
    "We first define two transform functions: \n",
    "\n",
    "- `transform_X` computes the main feature  (or `predictor`) as the average of the trailing 12-month returns; \n",
    "- `transform_y` is applied on the returns -- here when passed to the mean-variance `MeanVariance` class to compute the covariance matrix; but more generally to serve as a target for predictors with machine-learning. "
   ]
  },
  {
   "cell_type": "code",
   "execution_count": null,
   "id": "8882af67",
   "metadata": {
    "execution": {
     "iopub.execute_input": "2025-09-29T15:38:58.728705Z",
     "iopub.status.busy": "2025-09-29T15:38:58.728477Z",
     "iopub.status.idle": "2025-09-29T15:38:58.754114Z",
     "shell.execute_reply": "2025-09-29T15:38:58.753544Z"
    },
    "tags": []
   },
   "outputs": [],
   "source": [
    "def transform_X(df, window=12):\n",
    "    return df.rolling(window=window).mean()\n",
    "\n",
    "\n",
    "def transform_y(df):\n",
    "    return df.shift(-1)\n",
    "\n",
    "\n",
    "X = transform_X(ret)\n",
    "y = transform_y(ret)"
   ]
  },
  {
   "cell_type": "code",
   "execution_count": null,
   "id": "841a4a95",
   "metadata": {
    "editable": true,
    "execution": {
     "iopub.execute_input": "2025-09-29T15:38:58.755877Z",
     "iopub.status.busy": "2025-09-29T15:38:58.755646Z",
     "iopub.status.idle": "2025-09-29T15:38:58.864859Z",
     "shell.execute_reply": "2025-09-29T15:38:58.864302Z"
    },
    "slideshow": {
     "slide_type": ""
    },
    "tags": []
   },
   "outputs": [],
   "source": [
    "_h = []\n",
    "for train, test in cv.split(ret):\n",
    "    m = MeanVariance()\n",
    "    m.fit(X.values[train], y.values[train])\n",
    "    _h += [m.predict(X.values[test])]\n",
    "\n",
    "cols = ret.columns\n",
    "idx = ret.index[np.concatenate([test for _, test in cv.split(ret)])]\n",
    "h = pd.DataFrame(np.concatenate(_h), index=idx, columns=cols)"
   ]
  },
  {
   "cell_type": "markdown",
   "id": "224eb96a",
   "metadata": {},
   "source": [
    "Note that the `line` plotting function shows the sharpe ratio \"sr\" of the strategy. "
   ]
  },
  {
   "cell_type": "code",
   "execution_count": null,
   "id": "b3a0670c",
   "metadata": {
    "execution": {
     "iopub.execute_input": "2025-09-29T15:38:58.867123Z",
     "iopub.status.busy": "2025-09-29T15:38:58.866899Z",
     "iopub.status.idle": "2025-09-29T15:38:59.144687Z",
     "shell.execute_reply": "2025-09-29T15:38:59.144034Z"
    },
    "tags": []
   },
   "outputs": [],
   "source": [
    "pnl = h.shift(1).mul(ret).sum(axis=1)[start_date:].rename(\"Industry momentum\")\n",
    "line(pnl, cumsum=True, loc=\"best\")"
   ]
  },
  {
   "cell_type": "markdown",
   "id": "5f049f79",
   "metadata": {},
   "source": [
    "We can also use the `Backtester` class and we test that the two approaches yield the same result."
   ]
  },
  {
   "cell_type": "code",
   "execution_count": null,
   "id": "885061a4",
   "metadata": {
    "editable": true,
    "execution": {
     "iopub.execute_input": "2025-09-29T15:38:59.146760Z",
     "iopub.status.busy": "2025-09-29T15:38:59.146505Z",
     "iopub.status.idle": "2025-09-29T15:38:59.346491Z",
     "shell.execute_reply": "2025-09-29T15:38:59.345830Z"
    },
    "slideshow": {
     "slide_type": ""
    },
    "tags": []
   },
   "outputs": [],
   "source": [
    "m = Backtester(estimator=MeanVariance(), name=\"Industry momentum\")\n",
    "pnl_ = m.train(X, y, ret)"
   ]
  },
  {
   "cell_type": "code",
   "execution_count": null,
   "id": "989c7a45",
   "metadata": {
    "execution": {
     "iopub.execute_input": "2025-09-29T15:38:59.348627Z",
     "iopub.status.busy": "2025-09-29T15:38:59.348368Z",
     "iopub.status.idle": "2025-09-29T15:38:59.378679Z",
     "shell.execute_reply": "2025-09-29T15:38:59.378062Z"
    },
    "tags": []
   },
   "outputs": [],
   "source": [
    "assert np.allclose(h, m.h_)\n",
    "assert np.allclose(pnl, m.pnl_)"
   ]
  },
  {
   "cell_type": "markdown",
   "id": "f6ac1afa",
   "metadata": {},
   "source": [
    "### Other backtest statistics "
   ]
  },
  {
   "cell_type": "markdown",
   "id": "486d78fa",
   "metadata": {},
   "source": [
    "We can also extract information for the estimator -- e.g. in this simple case, recover the covariance matrix fitted by the class `MeanVariance()`."
   ]
  },
  {
   "cell_type": "code",
   "execution_count": null,
   "id": "c4aadc22",
   "metadata": {
    "execution": {
     "iopub.execute_input": "2025-09-29T15:38:59.380781Z",
     "iopub.status.busy": "2025-09-29T15:38:59.380354Z",
     "iopub.status.idle": "2025-09-29T15:38:59.574627Z",
     "shell.execute_reply": "2025-09-29T15:38:59.574000Z"
    },
    "tags": []
   },
   "outputs": [],
   "source": [
    "estimators = m.estimators_\n",
    "V_mean = pd.DataFrame(\n",
    "    sum([m.V_ for m in estimators]) / len(estimators),\n",
    "    index=ret.columns,\n",
    "    columns=ret.columns,\n",
    ")\n",
    "heatmap(V_mean, title=\"Average covariance matrix\")"
   ]
  },
  {
   "cell_type": "code",
   "execution_count": null,
   "id": "864e8e3d",
   "metadata": {
    "execution": {
     "iopub.execute_input": "2025-09-29T15:38:59.576647Z",
     "iopub.status.busy": "2025-09-29T15:38:59.576399Z",
     "iopub.status.idle": "2025-09-29T15:39:00.864522Z",
     "shell.execute_reply": "2025-09-29T15:39:00.863899Z"
    },
    "tags": []
   },
   "outputs": [],
   "source": [
    "pnls = []\n",
    "for window in [6, 12, 24, 36]:\n",
    "    X_ = ret.rolling(window).mean()\n",
    "    name = f\"window={window}\" if window != 12 else \"baseline\"\n",
    "    pnls += [Backtester(estimator=MeanVariance(), name=name).train(X_, y, ret)]\n",
    "title = \"Cumulative pnl for different look-back windows (in month)\"\n",
    "line(pd.concat(pnls, axis=1), cumsum=True, start_date=\"1945\", title=title)"
   ]
  },
  {
   "cell_type": "markdown",
   "id": "7600e4b5",
   "metadata": {},
   "source": [
    "The following graph shows the `lead-lag sharpe ratio` plot for the industry momentum backtest: \n",
    "    \n",
    "- the horizon \"0\" (green bar) represents the sharpe ratio of the tradable pnl; \n",
    "- the lagged horizons (with positive coordinates) show the performance when the positions are lagged by several months and illustrates the `alpha decay` of the predictor; \n",
    "- the lead horizons (with negative coordinates) represent the non-tradable counterfactual performance if the information had been available earlier. \n",
    "\n",
    "For `trending` predictors (like the industry momentum backtest), the lead sharpe ratios are very high and the alpha decay is quite fast. For `contrarian` predictors, the lead sharpe ratios are negative. "
   ]
  },
  {
   "cell_type": "code",
   "execution_count": null,
   "id": "adbc1e84",
   "metadata": {
    "execution": {
     "iopub.execute_input": "2025-09-29T15:39:00.866504Z",
     "iopub.status.busy": "2025-09-29T15:39:00.866247Z",
     "iopub.status.idle": "2025-09-29T15:39:04.485684Z",
     "shell.execute_reply": "2025-09-29T15:39:04.485031Z"
    },
    "tags": []
   },
   "outputs": [],
   "source": [
    "from skfin.metrics import sharpe_ratio\n",
    "\n",
    "sr = {i: h.shift(1 + i).mul(ret).sum(axis=1).pipe(sharpe_ratio) for i in range(-10, 12)}\n",
    "bar(sr, baseline=0, sort=False, title=\"Lead-lag sharpe ratio\")"
   ]
  },
  {
   "cell_type": "markdown",
   "id": "15260e56",
   "metadata": {},
   "source": [
    "The `off-the-top` approach is to remove an asset from the tradable set and check whether the portfolio sharpe ratio decreases (in which case, this asset is a *contributor*) or increases (in which case, this asset is a *detractor*)."
   ]
  },
  {
   "cell_type": "code",
   "execution_count": null,
   "id": "fad84eef",
   "metadata": {
    "editable": true,
    "execution": {
     "iopub.execute_input": "2025-09-29T15:39:04.487867Z",
     "iopub.status.busy": "2025-09-29T15:39:04.487583Z",
     "iopub.status.idle": "2025-09-29T15:39:08.299371Z",
     "shell.execute_reply": "2025-09-29T15:39:08.298722Z"
    },
    "slideshow": {
     "slide_type": ""
    },
    "tags": []
   },
   "outputs": [],
   "source": [
    "pnls_ott = {}\n",
    "for c in ret.columns:\n",
    "    ret_ = ret.drop(c, axis=1)\n",
    "    X_ = transform_X(ret_)\n",
    "    y_ = transform_y(ret_)\n",
    "    pnls_ott[c] = (\n",
    "        Backtester(estimator=MeanVariance()).train(X_, y_, ret_).pipe(sharpe_ratio)\n",
    "    )\n",
    "pnls_ott[\"ALL\"] = pnl.pipe(sharpe_ratio)\n",
    "bar(pnls_ott, baseline=\"ALL\", title=\"Industry momentum off-the-top\")"
   ]
  }
 ],
 "metadata": {
  "hide_input": false,
  "jupytext": {
   "encoding": "# -*- coding: utf-8 -*-"
  },
  "kernelspec": {
   "display_name": "skfin 2024",
   "language": "python",
   "name": "skfin"
  },
  "language_info": {
   "codemirror_mode": {
    "name": "ipython",
    "version": 3
   },
   "file_extension": ".py",
   "mimetype": "text/x-python",
   "name": "python",
   "nbconvert_exporter": "python",
   "pygments_lexer": "ipython3",
   "version": "3.9.20"
  },
  "toc": {
   "base_numbering": 1,
   "nav_menu": {},
   "number_sections": true,
   "sideBar": true,
   "skip_h1_title": false,
   "title_cell": "Table of Contents",
   "title_sidebar": "Contents",
   "toc_cell": false,
   "toc_position": {},
   "toc_section_display": true,
   "toc_window_display": false
  }
 },
 "nbformat": 4,
 "nbformat_minor": 5
}
