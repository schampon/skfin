{
 "cells": [
  {
   "cell_type": "markdown",
   "id": "689cb3f3",
   "metadata": {
    "editable": true,
    "slideshow": {
     "slide_type": ""
    },
    "tags": []
   },
   "source": [
    "# Shrinkage Estimators and Covariance Matrix Regularization in Portfolio Risk Modeling"
   ]
  },
  {
   "cell_type": "code",
   "execution_count": null,
   "id": "bd46a36c",
   "metadata": {
    "editable": true,
    "execution": {
     "iopub.execute_input": "2025-09-29T15:44:39.049561Z",
     "iopub.status.busy": "2025-09-29T15:44:39.049287Z",
     "iopub.status.idle": "2025-09-29T15:44:41.122177Z",
     "shell.execute_reply": "2025-09-29T15:44:41.121385Z"
    },
    "slideshow": {
     "slide_type": ""
    },
    "tags": []
   },
   "outputs": [],
   "source": [
    "# hide\n",
    "%load_ext autoreload\n",
    "%autoreload 2\n",
    "%matplotlib inline\n",
    "\n",
    "import logging\n",
    "from pathlib import Path\n",
    "\n",
    "import numpy as np\n",
    "import pandas as pd\n",
    "from IPython.display import Image, display\n",
    "from matplotlib import pyplot as plt\n",
    "from tqdm.auto import tqdm\n",
    "\n",
    "logging.basicConfig(level=logging.CRITICAL)\n",
    "\n",
    "from lightgbm.sklearn import LGBMRegressor\n",
    "from skfin.backtesting import Backtester\n",
    "from skfin.datasets_ import load_kf_returns\n",
    "from skfin.estimators import MLPRegressor, MultiOutputRegressor, RidgeCV\n",
    "from skfin.metrics import sharpe_ratio\n",
    "from skfin.mv_estimators import MeanVariance\n",
    "from skfin.plot import *\n",
    "from sklearn.pipeline import make_pipeline\n",
    "from sklearn.preprocessing import PolynomialFeatures, StandardScaler\n",
    "\n",
    "returns_data = load_kf_returns(cache_dir=\"data\")\n",
    "ret = returns_data[\"Monthly\"][\"Average_Value_Weighted_Returns\"][:\"1999\"]\n",
    "\n",
    "transform_X = lambda x: x.rolling(12).mean().fillna(0)\n",
    "transform_y = lambda x: x.shift(-1)\n",
    "features = transform_X(ret)\n",
    "target = transform_y(ret)"
   ]
  },
  {
   "attachments": {},
   "cell_type": "markdown",
   "id": "dfed8543-1937-4854-977e-f35594a79c42",
   "metadata": {
    "editable": true,
    "slideshow": {
     "slide_type": ""
    },
    "tags": []
   },
   "source": [
    "A key ingredient of portfolio construction is the ability to predict portfolio risk (in particular, with a risk-model) to be able to properly size the positions. \n",
    "\n",
    "In this section, we discuss different ways to estimate risk. More precisely, for the empirical covariance matrix $V$, there might be transformation $\\Phi: V \\mapsto V_{\\Phi}$ that improve the forward-looking estimates (and the portfolio construction). \n",
    "\n",
    "The risk-model is defined here as the covariance of returns $V$. To understand its impact on the backtest, it is important to remember that in the mean-variance optimisation, it is the inverse of the covariance matrix $V^{-1}$ that is used. \n",
    "\n",
    "Viewed from the point of view of a singular value decomposition, the smallest eigenvalues of $V$ are not only estimated with noise, but their impact is magnified in $V^{-1}$, leading to potentially significant noise in the estimate of positions. "
   ]
  },
  {
   "cell_type": "code",
   "execution_count": null,
   "id": "099c2b5e-6adf-4dde-8280-2d72e9a95e10",
   "metadata": {
    "editable": true,
    "execution": {
     "iopub.execute_input": "2025-09-29T15:44:41.124819Z",
     "iopub.status.busy": "2025-09-29T15:44:41.124312Z",
     "iopub.status.idle": "2025-09-29T15:44:41.159293Z",
     "shell.execute_reply": "2025-09-29T15:44:41.158668Z"
    },
    "slideshow": {
     "slide_type": ""
    },
    "tags": []
   },
   "outputs": [],
   "source": [
    "# hide\n",
    "display(Image(\"images/ledoit_2004.png\", width=600))"
   ]
  },
  {
   "cell_type": "markdown",
   "id": "b52d796c-6b73-4fdd-b741-d2e65beef4eb",
   "metadata": {
    "editable": true,
    "slideshow": {
     "slide_type": ""
    },
    "tags": []
   },
   "source": [
    "The insight of Ledoit and Wolf (2004) is to use a weighted average of two matrices to reduce estimation error\n",
    "\n",
    "- the empirical covariance matrix $V$ is asymptotically an unbiased estimated – but with a slow convergence for small samples\n",
    "\n",
    "- there are biased estimators but with a faster rate of convergence –- for instance the diagonal $Diag(V)$ of $V$ -- and on smaller samples, such biased estimators can be more efficient than the unbiased ones\n",
    "\n",
    "- The covariance matrix used in the portfolio optimisation is \n",
    "\n",
    "$$V_{\\omega} = \\omega \\times Diag(V) + (1-\\omega) \\times V.$$\n",
    "\n",
    "How to determine $\\omega$? Ledoit and Wolf (2004) minimize a norm that applies to matrices (Frobenius norm). In what follows, we test different shrinkage values. "
   ]
  },
  {
   "cell_type": "markdown",
   "id": "de740c9d",
   "metadata": {},
   "source": [
    "## Risk in the industry momentum backtest"
   ]
  },
  {
   "cell_type": "code",
   "execution_count": null,
   "id": "5d3024d7",
   "metadata": {
    "execution": {
     "iopub.execute_input": "2025-09-29T15:44:41.161373Z",
     "iopub.status.busy": "2025-09-29T15:44:41.161092Z",
     "iopub.status.idle": "2025-09-29T15:44:41.186313Z",
     "shell.execute_reply": "2025-09-29T15:44:41.185746Z"
    }
   },
   "outputs": [],
   "source": [
    "from skfin.metrics import drawdown, sharpe_ratio"
   ]
  },
  {
   "cell_type": "markdown",
   "id": "7a17de38",
   "metadata": {},
   "source": [
    "We first compute the Industry momentum benchmark. "
   ]
  },
  {
   "cell_type": "code",
   "execution_count": null,
   "id": "fbf6fd98",
   "metadata": {
    "editable": true,
    "execution": {
     "iopub.execute_input": "2025-09-29T15:44:41.188252Z",
     "iopub.status.busy": "2025-09-29T15:44:41.187992Z",
     "iopub.status.idle": "2025-09-29T15:44:41.392295Z",
     "shell.execute_reply": "2025-09-29T15:44:41.391539Z"
    },
    "slideshow": {
     "slide_type": ""
    },
    "tags": []
   },
   "outputs": [],
   "source": [
    "m = Backtester(MeanVariance()).compute_holdings(features, target).compute_pnl(ret)\n",
    "h0, pnl0, estimators0 = m.h_, m.pnl_, m.estimators_"
   ]
  },
  {
   "cell_type": "code",
   "execution_count": null,
   "id": "24235cb3",
   "metadata": {
    "execution": {
     "iopub.execute_input": "2025-09-29T15:44:41.394557Z",
     "iopub.status.busy": "2025-09-29T15:44:41.394200Z",
     "iopub.status.idle": "2025-09-29T15:44:41.793264Z",
     "shell.execute_reply": "2025-09-29T15:44:41.792569Z"
    }
   },
   "outputs": [],
   "source": [
    "fig, ax = plt.subplots(1, 2, figsize=(16, 5))\n",
    "line(\n",
    "    pnl0.rename(\"Industry momentum\"),\n",
    "    cumsum=True,\n",
    "    loc=\"best\",\n",
    "    title=\"Cumulative pnl\",\n",
    "    ax=ax[0],\n",
    ")\n",
    "line(\n",
    "    pnl0.rolling(36).std().mul(np.sqrt(12)),\n",
    "    title=\"Annualized risk\",\n",
    "    legend=False,\n",
    "    ax=ax[1],\n",
    ")"
   ]
  },
  {
   "cell_type": "markdown",
   "id": "a594889c-f75a-45ae-9fe9-d8b1e75d5fbe",
   "metadata": {},
   "source": [
    "The definition of a drawdown (in unit of annualized risk) is: \n",
    "    \n",
    "$$ dd_t = \\frac{\\sum_{s=0}^{s=t} pnl_s - Max_{\\tau}\\left(\\sum_{s=0}^{s=\\tau} pnl_s \\right)}{annualized\\_factor \\times \\sqrt{Var[pnl_s|s \\leq t]} }.$$"
   ]
  },
  {
   "cell_type": "code",
   "execution_count": null,
   "id": "8ec7aebf",
   "metadata": {
    "execution": {
     "iopub.execute_input": "2025-09-29T15:44:41.795456Z",
     "iopub.status.busy": "2025-09-29T15:44:41.795111Z",
     "iopub.status.idle": "2025-09-29T15:44:41.940880Z",
     "shell.execute_reply": "2025-09-29T15:44:41.940182Z"
    }
   },
   "outputs": [],
   "source": [
    "line(\n",
    "    pnl0.pipe(drawdown),\n",
    "    title=\"Drawdown in unit of annualized risk\",\n",
    "    legend=False,\n",
    "    figsize=(8, 5),\n",
    ")"
   ]
  },
  {
   "cell_type": "markdown",
   "id": "b1500410-6dc1-4a99-81ca-92cc8b96f1d4",
   "metadata": {},
   "source": [
    "The followning graph shows that on the period up to 2000, large absolute returns tend to be positive. It turns out that in the following period, the pnl of Momentum becomes left-skewed with large negative returns. For instance, February/March 2009 is a famous example of a Momentum drawdown. "
   ]
  },
  {
   "cell_type": "code",
   "execution_count": null,
   "id": "a99705d6",
   "metadata": {
    "execution": {
     "iopub.execute_input": "2025-09-29T15:44:41.942911Z",
     "iopub.status.busy": "2025-09-29T15:44:41.942607Z",
     "iopub.status.idle": "2025-09-29T15:44:42.073860Z",
     "shell.execute_reply": "2025-09-29T15:44:42.073148Z"
    }
   },
   "outputs": [],
   "source": [
    "line(\n",
    "    pnl0.rename(\"pnl\")\n",
    "    .to_frame()\n",
    "    .assign(pnl_abs=lambda x: x.pnl.abs())\n",
    "    .sort_values(\"pnl_abs\")\n",
    "    .reset_index(drop=True)[\"pnl\"],\n",
    "    cumsum=True,\n",
    "    title=\"Cumulative returns sorted by absolute monthly return\",\n",
    "    legend_sharpe_ratio=False,\n",
    ")"
   ]
  },
  {
   "cell_type": "markdown",
   "id": "9f44cfff-b332-4ad8-9ad8-1a2981d0444e",
   "metadata": {
    "editable": true,
    "slideshow": {
     "slide_type": ""
    },
    "tags": []
   },
   "source": [
    "## Risk model estimation"
   ]
  },
  {
   "cell_type": "code",
   "execution_count": null,
   "id": "1f8b9c4b",
   "metadata": {
    "execution": {
     "iopub.execute_input": "2025-09-29T15:44:42.076081Z",
     "iopub.status.busy": "2025-09-29T15:44:42.075771Z",
     "iopub.status.idle": "2025-09-29T15:44:42.107976Z",
     "shell.execute_reply": "2025-09-29T15:44:42.107363Z"
    }
   },
   "outputs": [],
   "source": [
    "from sklearn.covariance import LedoitWolf, ShrunkCovariance"
   ]
  },
  {
   "cell_type": "markdown",
   "id": "bf812803",
   "metadata": {},
   "source": [
    "The default value of the `shrinkage` parameter for `ShrunkCovariance` is 0.1. When `shrinkage=0`, there is no shrinkage and when `shrinkage=1`, all the off-diagonal terms are set to zero and the covariance matrix is diagonal.   "
   ]
  },
  {
   "cell_type": "code",
   "execution_count": null,
   "id": "cddbcb58",
   "metadata": {
    "execution": {
     "iopub.execute_input": "2025-09-29T15:44:42.109988Z",
     "iopub.status.busy": "2025-09-29T15:44:42.109702Z",
     "iopub.status.idle": "2025-09-29T15:44:43.007201Z",
     "shell.execute_reply": "2025-09-29T15:44:43.006527Z"
    }
   },
   "outputs": [],
   "source": [
    "transform_V_ = lambda x: ShrunkCovariance(shrinkage=0.1).fit(x).covariance_\n",
    "m = (\n",
    "    Backtester(MeanVariance(transform_V=transform_V_))\n",
    "    .compute_holdings(features, target)\n",
    "    .compute_pnl(ret)\n",
    ")\n",
    "h, pnl, estimators = m.h_, m.pnl_, m.estimators_\n",
    "line({\"benchmark\": pnl0, \"shrunk covariance\": pnl}, cumsum=True)"
   ]
  },
  {
   "cell_type": "markdown",
   "id": "500a0665",
   "metadata": {},
   "source": [
    "The estimation of risk with the shrunk covariance is much closer to the ex-ante risk (of 1). "
   ]
  },
  {
   "cell_type": "code",
   "execution_count": null,
   "id": "81e96878",
   "metadata": {
    "execution": {
     "iopub.execute_input": "2025-09-29T15:44:43.009325Z",
     "iopub.status.busy": "2025-09-29T15:44:43.008984Z",
     "iopub.status.idle": "2025-09-29T15:44:43.164154Z",
     "shell.execute_reply": "2025-09-29T15:44:43.163483Z"
    }
   },
   "outputs": [],
   "source": [
    "line(\n",
    "    {\"benchmark\": pnl0.rolling(36).std(), \"shrunk covariance\": pnl.rolling(36).std()},\n",
    "    title=\"Rolling risk bias (36-month)\",\n",
    ")"
   ]
  },
  {
   "cell_type": "markdown",
   "id": "ea2cf0ef",
   "metadata": {},
   "source": [
    "The ratio of the largest to the smallest eigenvalue is an order of magnitude smaller for the backtest with the shrunk covariance relative to the benchmark. "
   ]
  },
  {
   "cell_type": "code",
   "execution_count": null,
   "id": "f05131de-d4ad-4e68-bf9f-7cae05472b98",
   "metadata": {
    "execution": {
     "iopub.execute_input": "2025-09-29T15:44:43.166251Z",
     "iopub.status.busy": "2025-09-29T15:44:43.165943Z",
     "iopub.status.idle": "2025-09-29T15:44:43.191965Z",
     "shell.execute_reply": "2025-09-29T15:44:43.191360Z"
    }
   },
   "outputs": [],
   "source": [
    "for m in estimators0:\n",
    "    break"
   ]
  },
  {
   "cell_type": "code",
   "execution_count": null,
   "id": "2dfa8785-81da-4120-8fd7-f570614941c9",
   "metadata": {
    "execution": {
     "iopub.execute_input": "2025-09-29T15:44:43.193808Z",
     "iopub.status.busy": "2025-09-29T15:44:43.193530Z",
     "iopub.status.idle": "2025-09-29T15:44:43.219394Z",
     "shell.execute_reply": "2025-09-29T15:44:43.218817Z"
    }
   },
   "outputs": [],
   "source": [
    "s = np.linalg.svd(np.diag(np.diag(m.V_)), compute_uv=False)"
   ]
  },
  {
   "cell_type": "code",
   "execution_count": null,
   "id": "a639b8ae",
   "metadata": {
    "execution": {
     "iopub.execute_input": "2025-09-29T15:44:43.221203Z",
     "iopub.status.busy": "2025-09-29T15:44:43.220944Z",
     "iopub.status.idle": "2025-09-29T15:44:43.656849Z",
     "shell.execute_reply": "2025-09-29T15:44:43.656167Z"
    }
   },
   "outputs": [],
   "source": [
    "get_eigenvalues = lambda estimators: pd.DataFrame(\n",
    "    [np.linalg.svd(m.V_, compute_uv=False) for m in estimators]\n",
    ")\n",
    "\n",
    "ratio_largest_smallest_eigenvalue = lambda x: x.pipe(\n",
    "    lambda x: x.iloc[:, 0] / x.iloc[:, -1]\n",
    ")\n",
    "\n",
    "eigenvalues0 = get_eigenvalues(estimators0)\n",
    "eigenvalues = get_eigenvalues(estimators)\n",
    "\n",
    "line(\n",
    "    {\n",
    "        \"benchmark\": eigenvalues0.pipe(ratio_largest_smallest_eigenvalue),\n",
    "        \"shrunk covariance\": eigenvalues.pipe(ratio_largest_smallest_eigenvalue),\n",
    "    },\n",
    "    yscale=\"log\",\n",
    "    title=\"Ratio of the largest-to-the-smallest-eigenvalues\",\n",
    ")"
   ]
  },
  {
   "cell_type": "code",
   "execution_count": null,
   "id": "d59ff9ad",
   "metadata": {
    "execution": {
     "iopub.execute_input": "2025-09-29T15:44:43.658965Z",
     "iopub.status.busy": "2025-09-29T15:44:43.658634Z",
     "iopub.status.idle": "2025-09-29T15:44:45.951542Z",
     "shell.execute_reply": "2025-09-29T15:44:45.950873Z"
    }
   },
   "outputs": [],
   "source": [
    "pnls = {}\n",
    "for shrinkage in [0, 0.01, 0.1, 1]:\n",
    "    transform_V_ = lambda x: ShrunkCovariance(shrinkage=shrinkage).fit(x).covariance_\n",
    "    estimator = MeanVariance(transform_V=transform_V_)\n",
    "    pnls[shrinkage] = Backtester(estimator).train(features, target, ret)\n",
    "line(\n",
    "    pnls, cumsum=True, title=\"Robustness for different value of the shrinkage parameter\"\n",
    ")"
   ]
  },
  {
   "cell_type": "markdown",
   "id": "3d339216",
   "metadata": {},
   "source": [
    "A related shrinkage is to use the `LedoitWolf` method to determine the shrinkage and it yield similar performance. "
   ]
  },
  {
   "cell_type": "code",
   "execution_count": null,
   "id": "95e01b86",
   "metadata": {
    "execution": {
     "iopub.execute_input": "2025-09-29T15:44:45.953684Z",
     "iopub.status.busy": "2025-09-29T15:44:45.953352Z",
     "iopub.status.idle": "2025-09-29T15:44:46.915437Z",
     "shell.execute_reply": "2025-09-29T15:44:46.914758Z"
    }
   },
   "outputs": [],
   "source": [
    "transform_V_ = lambda x: LedoitWolf().fit(x).covariance_\n",
    "estimator = MeanVariance(transform_V=transform_V_)\n",
    "pnl_ = Backtester(estimator).train(features, target, ret)\n",
    "line(\n",
    "    {\"benchmark\": pnl0, \"shrunk covariance\": pnl, \"ledoit-wolf\": pnl_},\n",
    "    cumsum=True,\n",
    "    title=\"Ledoit-Wolf shrinkage\",\n",
    ")"
   ]
  },
  {
   "cell_type": "markdown",
   "id": "e4e146e5",
   "metadata": {},
   "source": [
    "The key empirical point is that the sharpe ratio is maximized for a covariance that involves a small amount of shrinkage."
   ]
  }
 ],
 "metadata": {
  "hide_input": false,
  "kernelspec": {
   "display_name": "skfin 2024",
   "language": "python",
   "name": "skfin"
  },
  "language_info": {
   "codemirror_mode": {
    "name": "ipython",
    "version": 3
   },
   "file_extension": ".py",
   "mimetype": "text/x-python",
   "name": "python",
   "nbconvert_exporter": "python",
   "pygments_lexer": "ipython3",
   "version": "3.9.20"
  },
  "toc": {
   "base_numbering": 1,
   "nav_menu": {},
   "number_sections": true,
   "sideBar": true,
   "skip_h1_title": false,
   "title_cell": "Table of Contents",
   "title_sidebar": "Contents",
   "toc_cell": false,
   "toc_position": {},
   "toc_section_display": true,
   "toc_window_display": false
  }
 },
 "nbformat": 4,
 "nbformat_minor": 5
}
