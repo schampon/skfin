{
 "cells": [
  {
   "cell_type": "markdown",
   "id": "5b3ee3f0",
   "metadata": {},
   "source": [
    "# Mean-Reversion"
   ]
  },
  {
   "cell_type": "markdown",
   "id": "fa7c31c1",
   "metadata": {},
   "source": [
    "In this section, we review the empirical evidence on `liquidity provision` and describe a  `mean-reversion` strategy on stock returns."
   ]
  },
  {
   "cell_type": "markdown",
   "id": "9730fbab",
   "metadata": {},
   "source": [
    "## Liquidity and autocorrelation of stock returns"
   ]
  },
  {
   "cell_type": "code",
   "execution_count": null,
   "id": "c761a7b9",
   "metadata": {
    "execution": {
     "iopub.execute_input": "2023-12-07T08:28:29.786044Z",
     "iopub.status.busy": "2023-12-07T08:28:29.785595Z",
     "iopub.status.idle": "2023-12-07T08:28:29.794848Z",
     "shell.execute_reply": "2023-12-07T08:28:29.794141Z"
    }
   },
   "outputs": [],
   "source": [
    "# hide\n",
    "from IPython.display import Image, display"
   ]
  },
  {
   "cell_type": "code",
   "execution_count": null,
   "id": "643d2db6",
   "metadata": {
    "execution": {
     "iopub.execute_input": "2023-12-07T08:28:29.797793Z",
     "iopub.status.busy": "2023-12-07T08:28:29.797414Z",
     "iopub.status.idle": "2023-12-07T08:28:29.823139Z",
     "shell.execute_reply": "2023-12-07T08:28:29.822460Z"
    }
   },
   "outputs": [],
   "source": [
    "# hide\n",
    "display(Image(\"images/khandani_1.png\", width=500))"
   ]
  },
  {
   "cell_type": "markdown",
   "id": "20d11abb",
   "metadata": {},
   "source": [
    "Hedge funds as provider of liquidity is trend perfected by Long-Term Capital Management (until its\n",
    "fatal crash in 1998...): \n",
    "\n",
    "> by taking long positions in stocks that have declined and short positions in stocks that have advanced over the previous\n",
    "day, the strategy actively provides liquidity to the marketplace;\n",
    "\n",
    "This type of strategies generally requires a very high leverage, so anticipating market dislocations is key. Khandani-Lo (2007) argue that hedge funds have overtook traditional market makers as liquidity providers, so much so that when hedge funds retract, the whole market collapses..."
   ]
  },
  {
   "cell_type": "markdown",
   "id": "c17ae6bd",
   "metadata": {},
   "source": [
    "Mean-reversion (contrarian) strategy returns: holdings positive in past losers, negative in past\n",
    "winners: \n",
    "    \n",
    "$$h_{n, t} = - 1 \\times \\frac{1}{N} \\left(r_{n, t} - r_{\\text{Market}, t} \\right), $$\n",
    "\n",
    "where $r_{\\text{Market}, t} = \\frac{1}{N} \\sum_n r_{n, t}$ is the cross-sectional average. By construction, such a strategy would be cash-neutral: \n",
    "\n",
    "$$ \\sum_n h_{n, t} = 0.$$ "
   ]
  },
  {
   "cell_type": "markdown",
   "id": "bbd26105",
   "metadata": {},
   "source": [
    "Khandani and Lo (2007):\n",
    "\n",
    "-  a market-making liquidity provision exhibits extreme losses during the week of August 6, 2007 – suggesting market-wide deleveraging.\n",
    "\n",
    "> We wish to acknowledge at the outset that the hypotheses advanced in this paper are speculative, tentative, and based solely on indirect evidence.\""
   ]
  },
  {
   "cell_type": "code",
   "execution_count": null,
   "id": "b97ac8f1",
   "metadata": {
    "execution": {
     "iopub.execute_input": "2023-12-07T08:28:29.826494Z",
     "iopub.status.busy": "2023-12-07T08:28:29.826061Z",
     "iopub.status.idle": "2023-12-07T08:28:29.833949Z",
     "shell.execute_reply": "2023-12-07T08:28:29.833296Z"
    },
    "slideshow": {
     "slide_type": "fragment"
    }
   },
   "outputs": [],
   "source": [
    "# hide\n",
    "display(Image(\"images/khandaniLoFigure1.PNG\", width=500))"
   ]
  },
  {
   "cell_type": "code",
   "execution_count": null,
   "id": "90dc965b",
   "metadata": {
    "execution": {
     "iopub.execute_input": "2023-12-07T08:28:29.836794Z",
     "iopub.status.busy": "2023-12-07T08:28:29.836378Z",
     "iopub.status.idle": "2023-12-07T08:28:29.859116Z",
     "shell.execute_reply": "2023-12-07T08:28:29.858458Z"
    }
   },
   "outputs": [],
   "source": [
    "# hide\n",
    "display(Image(\"images/khandaniLoFigure2.PNG\", width=500))"
   ]
  },
  {
   "cell_type": "code",
   "execution_count": null,
   "id": "89f2618a",
   "metadata": {
    "execution": {
     "iopub.execute_input": "2023-12-07T08:28:29.862130Z",
     "iopub.status.busy": "2023-12-07T08:28:29.861541Z",
     "iopub.status.idle": "2023-12-07T08:28:29.871751Z",
     "shell.execute_reply": "2023-12-07T08:28:29.871085Z"
    }
   },
   "outputs": [],
   "source": [
    "# hide\n",
    "display(Image(\"images/khandaniLoTable1Header.PNG\", width=500))\n",
    "display(Image(\"images/khandaniLoTable1.PNG\", width=500))"
   ]
  },
  {
   "cell_type": "markdown",
   "id": "0a4aae03",
   "metadata": {},
   "source": [
    "Quantitative Equity Funds Hit Hard In August 2007\n",
    "\n",
    "-  specifically, August 7th–9th, and massive reversal on August 10th\n",
    "- some of the most consistently profitable funds lost too\n",
    "- seemed to affect only quants\n",
    "-  no real market news\n",
    "\n",
    "Kandhani-Lo “Unwind hypothesis:\"\n",
    "\n",
    "- many quant funds use similar factor models\n",
    "- if one fund has to unwind a large position, that hurts other funds\n",
    "- this causes these other funds to sell as well..."
   ]
  },
  {
   "cell_type": "markdown",
   "id": "ac024514",
   "metadata": {},
   "source": [
    "Sequence of event:\n",
    "\n",
    "-  initial losses \"initiated by the rapid unwind of one or more sizeable quantitative equity market-neutral portfolios (likely the result of a force liquidation by a multi-strategy fund or proprietary desk, possibly due to a margin call or a risk reduction)\"\n",
    "- \"these initial losses put pressure on a broader set of long/short and long-only equity portfolios, causing further losses by triggering stop/loss and deleveraging policies\"\n",
    "- \"on Friday, August 10th, sharp reversals in all five strategies erased nearly all of the losses of the previous four days, returning portfolio values back to their levels on the morning of August 6th. Of course, this assumes that portfolio leverage did not change during this tumultuous week, which is an unlikely assumption given the enormous losses during the first few days.\""
   ]
  },
  {
   "cell_type": "code",
   "execution_count": null,
   "id": "031e5cb2",
   "metadata": {
    "execution": {
     "iopub.execute_input": "2023-12-07T08:28:29.874899Z",
     "iopub.status.busy": "2023-12-07T08:28:29.874501Z",
     "iopub.status.idle": "2023-12-07T08:28:29.881262Z",
     "shell.execute_reply": "2023-12-07T08:28:29.880598Z"
    }
   },
   "outputs": [],
   "source": [
    "# hide\n",
    "display(Image(\"images/brunnermeier_1.png\", width=500))"
   ]
  },
  {
   "cell_type": "markdown",
   "id": "b534bb3b",
   "metadata": {},
   "source": [
    "## Sample "
   ]
  },
  {
   "cell_type": "code",
   "execution_count": null,
   "id": "673c0052",
   "metadata": {
    "execution": {
     "iopub.execute_input": "2023-12-07T08:28:29.884294Z",
     "iopub.status.busy": "2023-12-07T08:28:29.883866Z",
     "iopub.status.idle": "2023-12-07T08:28:32.683360Z",
     "shell.execute_reply": "2023-12-07T08:28:32.682540Z"
    }
   },
   "outputs": [],
   "source": [
    "# hide\n",
    "%load_ext autoreload\n",
    "%autoreload 2\n",
    "%matplotlib inline\n",
    "\n",
    "import numpy as np\n",
    "import pandas as pd\n",
    "from IPython.display import Image\n",
    "from matplotlib import pyplot as plt\n",
    "from skfin.metrics import sharpe_ratio\n",
    "from skfin.plot import bar, line\n",
    "from tqdm.auto import tqdm"
   ]
  },
  {
   "cell_type": "code",
   "execution_count": null,
   "id": "de57f53b",
   "metadata": {
    "execution": {
     "iopub.execute_input": "2023-12-07T08:28:32.687077Z",
     "iopub.status.busy": "2023-12-07T08:28:32.686778Z",
     "iopub.status.idle": "2023-12-07T08:28:32.942808Z",
     "shell.execute_reply": "2023-12-07T08:28:32.942111Z"
    }
   },
   "outputs": [],
   "source": [
    "from skfin.datasets import load_sklearn_stock_returns\n",
    "\n",
    "ret = load_sklearn_stock_returns(cache_dir=\"data\")"
   ]
  },
  {
   "cell_type": "markdown",
   "id": "83b22f9f",
   "metadata": {},
   "source": [
    "This stock return is found in the `example` folder on `scikit-learn` github repository and contains returns from 2003 to 2008. Interestingly, it includes not only US companies, but also European (e.g. Total, SAP, Novartis, etc) and Japanese (Honda, Sony, Toyota) ones, but also companies that are no longer publically traded (e.g. Dell) or have been split (DuPont). "
   ]
  },
  {
   "cell_type": "markdown",
   "id": "a211c67b",
   "metadata": {},
   "source": [
    "In particular, removing firms that are no longer publicly traded would create a survival bias in the sample. More generally, it is important to make sure that the firms that would have been available for trading are dynamically included in the backtest sample and removed when there are no longer traded (or not liquid enough to be traded given transaction costs). "
   ]
  },
  {
   "cell_type": "markdown",
   "id": "1b90a29d",
   "metadata": {},
   "source": [
    "## Mean-reversion strategy"
   ]
  },
  {
   "cell_type": "markdown",
   "id": "b70585e9",
   "metadata": {},
   "source": [
    "We load the same functions as the ones we used for the industry backtest."
   ]
  },
  {
   "cell_type": "code",
   "execution_count": null,
   "id": "d6f0d7e1",
   "metadata": {
    "execution": {
     "iopub.execute_input": "2023-12-07T08:28:32.946457Z",
     "iopub.status.busy": "2023-12-07T08:28:32.946202Z",
     "iopub.status.idle": "2023-12-07T08:28:32.978645Z",
     "shell.execute_reply": "2023-12-07T08:28:32.978002Z"
    }
   },
   "outputs": [],
   "source": [
    "from skfin.backtesting import Backtester\n",
    "from skfin.mv_estimators import MeanVariance"
   ]
  },
  {
   "cell_type": "markdown",
   "id": "62fefe3a",
   "metadata": {},
   "source": [
    "Rather than setting the positions as $-1 \\times$ returns (as Khandani and Lo do), we feed the $-1 \\times$ EMA(returns) into the `Backtester` class to get mean-variance positions. "
   ]
  },
  {
   "cell_type": "code",
   "execution_count": null,
   "id": "67556e03",
   "metadata": {
    "execution": {
     "iopub.execute_input": "2023-12-07T08:28:32.981530Z",
     "iopub.status.busy": "2023-12-07T08:28:32.981218Z",
     "iopub.status.idle": "2023-12-07T08:28:33.007410Z",
     "shell.execute_reply": "2023-12-07T08:28:33.006767Z"
    }
   },
   "outputs": [],
   "source": [
    "def xs_score(x, clip=5):\n",
    "    return (\n",
    "        x.sub(x.mean(axis=1), axis=0)\n",
    "        .div(x.std(axis=1), axis=0)\n",
    "        .clip(lower=-clip, upper=clip)\n",
    "    )"
   ]
  },
  {
   "cell_type": "code",
   "execution_count": null,
   "id": "dc28181c",
   "metadata": {
    "execution": {
     "iopub.execute_input": "2023-12-07T08:28:33.010148Z",
     "iopub.status.busy": "2023-12-07T08:28:33.009843Z",
     "iopub.status.idle": "2023-12-07T08:28:33.048329Z",
     "shell.execute_reply": "2023-12-07T08:28:33.047684Z"
    }
   },
   "outputs": [],
   "source": [
    "transform_X = lambda x: -1 * x.pipe(xs_score).ewm(halflife=5).mean().fillna(0)\n",
    "transform_y = lambda x: x.shift(-1).fillna(0)\n",
    "features = transform_X(ret)\n",
    "target = transform_y(ret)"
   ]
  },
  {
   "cell_type": "markdown",
   "id": "5fd544ac",
   "metadata": {},
   "source": [
    "In contrast to the industry backtests (which were at the Monthly frequency), these mean-reversion backtests are at the (business) day frequency."
   ]
  },
  {
   "cell_type": "code",
   "execution_count": null,
   "id": "9181179b",
   "metadata": {
    "execution": {
     "iopub.execute_input": "2023-12-07T08:28:33.051260Z",
     "iopub.status.busy": "2023-12-07T08:28:33.050866Z",
     "iopub.status.idle": "2023-12-07T08:28:33.102114Z",
     "shell.execute_reply": "2023-12-07T08:28:33.101499Z"
    }
   },
   "outputs": [],
   "source": [
    "ret.equals(ret.resample(\"B\").mean())"
   ]
  },
  {
   "cell_type": "markdown",
   "id": "23747199",
   "metadata": {},
   "source": [
    "The backtest is setup so that the risk-model is computed over 3-months (=63 business days)."
   ]
  },
  {
   "cell_type": "code",
   "execution_count": null,
   "id": "ab94d72b",
   "metadata": {
    "execution": {
     "iopub.execute_input": "2023-12-07T08:28:33.105069Z",
     "iopub.status.busy": "2023-12-07T08:28:33.104683Z",
     "iopub.status.idle": "2023-12-07T08:28:33.129931Z",
     "shell.execute_reply": "2023-12-07T08:28:33.129313Z"
    }
   },
   "outputs": [],
   "source": [
    "risk_model_window = 63"
   ]
  },
  {
   "cell_type": "code",
   "execution_count": null,
   "id": "a4c32ae6",
   "metadata": {
    "execution": {
     "iopub.execute_input": "2023-12-07T08:28:33.132691Z",
     "iopub.status.busy": "2023-12-07T08:28:33.132322Z",
     "iopub.status.idle": "2023-12-07T08:28:33.880361Z",
     "shell.execute_reply": "2023-12-07T08:28:33.879687Z"
    }
   },
   "outputs": [],
   "source": [
    "m = Backtester(\n",
    "    MeanVariance(), max_train_size=risk_model_window, start_date=\"2003-05-01\"\n",
    ")\n",
    "m.compute_holdings(features, target)\n",
    "m.compute_pnl(ret)"
   ]
  },
  {
   "cell_type": "code",
   "execution_count": null,
   "id": "6ae38ade",
   "metadata": {
    "execution": {
     "iopub.execute_input": "2023-12-07T08:28:33.883362Z",
     "iopub.status.busy": "2023-12-07T08:28:33.883087Z",
     "iopub.status.idle": "2023-12-07T08:28:33.912928Z",
     "shell.execute_reply": "2023-12-07T08:28:33.912293Z"
    }
   },
   "outputs": [],
   "source": [
    "hs = {\"no-shrinkage\": m.h_}"
   ]
  },
  {
   "cell_type": "code",
   "execution_count": null,
   "id": "4b38c30e",
   "metadata": {
    "execution": {
     "iopub.execute_input": "2023-12-07T08:28:33.915677Z",
     "iopub.status.busy": "2023-12-07T08:28:33.915410Z",
     "iopub.status.idle": "2023-12-07T08:28:34.343648Z",
     "shell.execute_reply": "2023-12-07T08:28:34.343009Z"
    }
   },
   "outputs": [],
   "source": [
    "fig, ax = plt.subplots(1, 2, figsize=(16, 5))\n",
    "m.pnl_.div(np.sqrt(risk_model_window)).hist(bins=30, ax=ax[0])\n",
    "ax[0].set_title(\"Normalized pnl histogram\")\n",
    "line(\n",
    "    m.pnl_,\n",
    "    cumsum=True,\n",
    "    start_date=\"2003-05-01\",\n",
    "    title=\"Mean-reversion pnl\",\n",
    "    ax=ax[1],\n",
    "    loc=\"best\",\n",
    ")"
   ]
  },
  {
   "cell_type": "markdown",
   "id": "483e480b",
   "metadata": {},
   "source": [
    "The graph below shows the lead-lag sharpe ratio. The right graph shows the lag: the $0$ lag is the tradable lag with a sharpe ratio equal to 1.06 (as in the cumulative pnl graph above). Lagging trading by several business days (up to five) maintain sharpe ratio approximately constant. \n",
    "\n",
    "The left graph shows the \"lead\" sharpe ratios -- that is, the counterfactual of what the sharpe ratio would have been with future information. Given that the strategy is strong countrarian, this lead sharpe ratio is very negative. "
   ]
  },
  {
   "cell_type": "code",
   "execution_count": null,
   "id": "9f6dae30",
   "metadata": {
    "execution": {
     "iopub.execute_input": "2023-12-07T08:28:34.346643Z",
     "iopub.status.busy": "2023-12-07T08:28:34.346391Z",
     "iopub.status.idle": "2023-12-07T08:28:35.171427Z",
     "shell.execute_reply": "2023-12-07T08:28:35.170792Z"
    }
   },
   "outputs": [],
   "source": [
    "fig, ax = plt.subplots(1, 2, figsize=(20, 6))\n",
    "fig.suptitle(\"Lead-lag sharpe ratio\")\n",
    "bar(\n",
    "    {\n",
    "        i: m.h_.shift(1 + i).mul(ret).sum(axis=1).pipe(sharpe_ratio)\n",
    "        for i in range(-10, 0)\n",
    "    },\n",
    "    sort=False,\n",
    "    title=\"Lead (with future information)\",\n",
    "    ax=ax[0],\n",
    ")\n",
    "\n",
    "bar(\n",
    "    {\n",
    "        i: m.h_.shift(1 + i).mul(ret).sum(axis=1).pipe(sharpe_ratio)\n",
    "        for i in range(0, 10)\n",
    "    },\n",
    "    sort=False,\n",
    "    title=\"Lag\",\n",
    "    ax=ax[1],\n",
    ")"
   ]
  },
  {
   "cell_type": "code",
   "execution_count": null,
   "id": "58812759",
   "metadata": {
    "execution": {
     "iopub.execute_input": "2023-12-07T08:28:35.174169Z",
     "iopub.status.busy": "2023-12-07T08:28:35.173922Z",
     "iopub.status.idle": "2023-12-07T08:28:38.473164Z",
     "shell.execute_reply": "2023-12-07T08:28:38.472415Z"
    }
   },
   "outputs": [],
   "source": [
    "m_ = Backtester(\n",
    "    MeanVariance(), max_train_size=risk_model_window, start_date=\"2003-05-01\"\n",
    ")\n",
    "pnls_ = {}\n",
    "for clip in [2, 3, 4, 5]:\n",
    "    transform_X_ = lambda x: -1 * x.pipe(xs_score, clip=clip).ewm(\n",
    "        halflife=5\n",
    "    ).mean().fillna(0)\n",
    "    features_ = transform_X_(ret)\n",
    "    pnls_[f\"clip={clip}\"] = m_.train(features_, target, ret)\n",
    "line(pnls_, cumsum=True, title=\"Robustness: return clipping\")"
   ]
  },
  {
   "cell_type": "markdown",
   "id": "4329af67",
   "metadata": {},
   "source": [
    "## Mean-reversion with risk-model shrinkage"
   ]
  },
  {
   "cell_type": "markdown",
   "id": "cea3feb8",
   "metadata": {},
   "source": [
    "Intuitively, risk-model shrinkage is more necessary and useful with more assets (e.g. many stocks versus few industries). We show how the shrinkage of the coveriance matrix helps reducing the over-realisation of risk. "
   ]
  },
  {
   "cell_type": "code",
   "execution_count": null,
   "id": "3c4a6e38",
   "metadata": {
    "execution": {
     "iopub.execute_input": "2023-12-07T08:28:38.476736Z",
     "iopub.status.busy": "2023-12-07T08:28:38.476453Z",
     "iopub.status.idle": "2023-12-07T08:28:46.769616Z",
     "shell.execute_reply": "2023-12-07T08:28:46.768674Z"
    }
   },
   "outputs": [],
   "source": [
    "from sklearn.covariance import ShrunkCovariance\n",
    "\n",
    "pnls_ = {}\n",
    "for shrinkage in [0, 0.001, 0.01, 0.1]:\n",
    "    transform_V_ = lambda x: ShrunkCovariance(shrinkage=shrinkage).fit(x).covariance_\n",
    "    pnls_[shrinkage] = Backtester(\n",
    "        MeanVariance(transform_V=transform_V_),\n",
    "        max_train_size=risk_model_window,\n",
    "        start_date=\"2003-05-01\",\n",
    "    ).train(features, target, ret)"
   ]
  },
  {
   "cell_type": "code",
   "execution_count": null,
   "id": "f1874f33",
   "metadata": {
    "execution": {
     "iopub.execute_input": "2023-12-07T08:28:46.773593Z",
     "iopub.status.busy": "2023-12-07T08:28:46.773157Z",
     "iopub.status.idle": "2023-12-07T08:28:47.394105Z",
     "shell.execute_reply": "2023-12-07T08:28:47.393444Z"
    }
   },
   "outputs": [],
   "source": [
    "fig, ax = plt.subplots(1, 2, figsize=(16, 5))\n",
    "\n",
    "line(pnls_, cumsum=True, title=\"Pnl (constant risk)\", loc=\"best\", ax=ax[0])\n",
    "line(\n",
    "    pd.concat(pnls_, axis=1).pipe(lambda x: x.div(x.std())),\n",
    "    cumsum=True,\n",
    "    title=\"Pnl (constant risk + ex-post rescaling) \",\n",
    "    loc=\"best\",\n",
    "    ax=ax[1],\n",
    ")"
   ]
  },
  {
   "cell_type": "markdown",
   "id": "7489b4f0",
   "metadata": {},
   "source": [
    "We see that with no risk-model shrinkage, the over-realisation of risk is very significant. With some shrinkage, there are less pnl outliers -- as shown in the histogram below. "
   ]
  },
  {
   "cell_type": "code",
   "execution_count": null,
   "id": "8da37469",
   "metadata": {
    "execution": {
     "iopub.execute_input": "2023-12-07T08:28:47.397632Z",
     "iopub.status.busy": "2023-12-07T08:28:47.397063Z",
     "iopub.status.idle": "2023-12-07T08:28:47.601853Z",
     "shell.execute_reply": "2023-12-07T08:28:47.601133Z"
    }
   },
   "outputs": [],
   "source": [
    "pnls_[0.01].div(np.sqrt(risk_model_window)).hist(bins=30);"
   ]
  },
  {
   "cell_type": "markdown",
   "id": "d3b2f737",
   "metadata": {},
   "source": [
    "## Leverage of mean-reversion strategies"
   ]
  },
  {
   "cell_type": "markdown",
   "id": "43ce0169",
   "metadata": {},
   "source": [
    "In this section, we discuss how we can increase the level of risk per unit of leverage by concentrating the positions. "
   ]
  },
  {
   "cell_type": "code",
   "execution_count": null,
   "id": "e03ebbff",
   "metadata": {
    "execution": {
     "iopub.execute_input": "2023-12-07T08:28:47.605062Z",
     "iopub.status.busy": "2023-12-07T08:28:47.604806Z",
     "iopub.status.idle": "2023-12-07T08:28:49.675092Z",
     "shell.execute_reply": "2023-12-07T08:28:49.674147Z"
    }
   },
   "outputs": [],
   "source": [
    "shrinkage = 0.01\n",
    "transform_V_ = lambda x: ShrunkCovariance(shrinkage=shrinkage).fit(x).covariance_\n",
    "m_ = (\n",
    "    Backtester(\n",
    "        MeanVariance(transform_V=transform_V_),\n",
    "        max_train_size=risk_model_window,\n",
    "        start_date=\"2003-05-01\",\n",
    "    )\n",
    "    .compute_holdings(features, target)\n",
    "    .compute_pnl(ret)\n",
    ")"
   ]
  },
  {
   "cell_type": "code",
   "execution_count": null,
   "id": "bfb9febb",
   "metadata": {
    "execution": {
     "iopub.execute_input": "2023-12-07T08:28:49.678914Z",
     "iopub.status.busy": "2023-12-07T08:28:49.678631Z",
     "iopub.status.idle": "2023-12-07T08:28:49.710710Z",
     "shell.execute_reply": "2023-12-07T08:28:49.710041Z"
    }
   },
   "outputs": [],
   "source": [
    "hs[\"shrinkage=0.01\"] = m_.h_"
   ]
  },
  {
   "cell_type": "code",
   "execution_count": null,
   "id": "b55aa976",
   "metadata": {
    "execution": {
     "iopub.execute_input": "2023-12-07T08:28:49.713479Z",
     "iopub.status.busy": "2023-12-07T08:28:49.713151Z",
     "iopub.status.idle": "2023-12-07T08:28:49.741514Z",
     "shell.execute_reply": "2023-12-07T08:28:49.740840Z"
    }
   },
   "outputs": [],
   "source": [
    "from skfin.metrics import sharpe_ratio\n",
    "\n",
    "leverage_scaling = lambda x: x.div(x.abs().sum(axis=1), axis=0)\n",
    "\n",
    "\n",
    "def risk_per_unit_of_leverage(h, ret, return_sharpe_ratio=False):\n",
    "    pnl = h.pipe(leverage_scaling).shift(1).mul(ret).sum(axis=1).loc[h.index]\n",
    "    if return_sharpe_ratio:\n",
    "        return {\"std\": pnl.std() * np.sqrt(252), \"sharpe_ratio\": pnl.pipe(sharpe_ratio)}\n",
    "    else:\n",
    "        return pnl.std() * np.sqrt(252)"
   ]
  },
  {
   "cell_type": "code",
   "execution_count": null,
   "id": "eee533f5",
   "metadata": {
    "execution": {
     "iopub.execute_input": "2023-12-07T08:28:49.744335Z",
     "iopub.status.busy": "2023-12-07T08:28:49.743991Z",
     "iopub.status.idle": "2023-12-07T08:28:49.773178Z",
     "shell.execute_reply": "2023-12-07T08:28:49.772516Z"
    }
   },
   "outputs": [],
   "source": [
    "from sklearn.base import TransformerMixin\n",
    "\n",
    "\n",
    "def func(x, q):\n",
    "    return x.where(\n",
    "        x.ge(x.quantile(q=q, axis=1), axis=0)\n",
    "        | x.le(x.quantile(q=1 - q, axis=1), axis=0),\n",
    "        0,\n",
    "    )\n",
    "\n",
    "\n",
    "class Concentrate(TransformerMixin):\n",
    "    def __init__(self, q=0.75):\n",
    "        self.q = q if q > 0.5 else 1 - q\n",
    "\n",
    "    def fit(self, X, y=None):\n",
    "        return self\n",
    "\n",
    "    def transform(self, X, return_dataframe=False):\n",
    "        if not isinstance(X, pd.DataFrame):\n",
    "            X = pd.DataFrame(X)\n",
    "        df = func(X, q=self.q)\n",
    "        if return_dataframe:\n",
    "            return df\n",
    "        else:\n",
    "            return df.values"
   ]
  },
  {
   "cell_type": "code",
   "execution_count": null,
   "id": "9dc80e43",
   "metadata": {
    "execution": {
     "iopub.execute_input": "2023-12-07T08:28:49.775959Z",
     "iopub.status.busy": "2023-12-07T08:28:49.775606Z",
     "iopub.status.idle": "2023-12-07T08:28:49.809514Z",
     "shell.execute_reply": "2023-12-07T08:28:49.808765Z"
    }
   },
   "outputs": [],
   "source": [
    "q = 0.75\n",
    "hs[f\"shrinkage=0.01, concentration q={q}\"] = m_.h_.pipe(func, q=q)"
   ]
  },
  {
   "cell_type": "code",
   "execution_count": null,
   "id": "15055c2a",
   "metadata": {
    "execution": {
     "iopub.execute_input": "2023-12-07T08:28:49.812318Z",
     "iopub.status.busy": "2023-12-07T08:28:49.811956Z",
     "iopub.status.idle": "2023-12-07T08:28:49.973402Z",
     "shell.execute_reply": "2023-12-07T08:28:49.972697Z"
    }
   },
   "outputs": [],
   "source": [
    "bar(\n",
    "    pd.Series({k: risk_per_unit_of_leverage(v, ret) for k, v in hs.items()}),\n",
    "    horizontal=True,\n",
    "    title=\"Annualized risk per unit of leverage\",\n",
    ")"
   ]
  },
  {
   "cell_type": "code",
   "execution_count": null,
   "id": "b27a0409",
   "metadata": {
    "execution": {
     "iopub.execute_input": "2023-12-07T08:28:49.976497Z",
     "iopub.status.busy": "2023-12-07T08:28:49.976117Z",
     "iopub.status.idle": "2023-12-07T08:28:50.467318Z",
     "shell.execute_reply": "2023-12-07T08:28:50.466574Z"
    }
   },
   "outputs": [],
   "source": [
    "df = pd.DataFrame.from_dict(\n",
    "    {\n",
    "        q: m_.h_.pipe(func, q=q).pipe(\n",
    "            risk_per_unit_of_leverage, ret=ret, return_sharpe_ratio=True\n",
    "        )\n",
    "        for q in np.arange(0.5, 0.95, 0.05)\n",
    "    },\n",
    "    orient=\"index\",\n",
    ")\n",
    "\n",
    "\n",
    "fig, ax = plt.subplots(1, 1, figsize=(8, 5))\n",
    "ax.scatter(df.iloc[:, 0], df.iloc[:, 1], s=5, c=\"tab:blue\")\n",
    "ax.set_xlabel(df.columns[0])\n",
    "ax.set_ylabel(df.columns[1])\n",
    "ax.set_title(\n",
    "    \"Sharpe ratio against (annualized) risk per unit of leverage: concentrated positions\"\n",
    ")\n",
    "for i, txt in enumerate(df.index):\n",
    "    ax.text(df.iloc[i, 0], df.iloc[i, 1], round(txt, 3), fontsize=9)"
   ]
  },
  {
   "cell_type": "markdown",
   "id": "efdb681c",
   "metadata": {},
   "source": [
    "## Concentrating the predictor instead of the positions"
   ]
  },
  {
   "cell_type": "markdown",
   "id": "bdadcd21",
   "metadata": {},
   "source": [
    "Instead of applying the concentration operator on positions, we can also apply on the predictor. The results are similar. "
   ]
  },
  {
   "cell_type": "code",
   "execution_count": null,
   "id": "96054a90",
   "metadata": {
    "execution": {
     "iopub.execute_input": "2023-12-07T08:28:50.470796Z",
     "iopub.status.busy": "2023-12-07T08:28:50.470429Z",
     "iopub.status.idle": "2023-12-07T08:28:50.714881Z",
     "shell.execute_reply": "2023-12-07T08:28:50.714207Z"
    }
   },
   "outputs": [],
   "source": [
    "from sklearn.pipeline import make_pipeline"
   ]
  },
  {
   "cell_type": "code",
   "execution_count": null,
   "id": "e7fa9e24",
   "metadata": {
    "execution": {
     "iopub.execute_input": "2023-12-07T08:28:50.717887Z",
     "iopub.status.busy": "2023-12-07T08:28:50.717637Z",
     "iopub.status.idle": "2023-12-07T08:30:14.141361Z",
     "shell.execute_reply": "2023-12-07T08:30:14.140432Z"
    }
   },
   "outputs": [],
   "source": [
    "res = {}\n",
    "for q in np.arange(0.5, 0.95, 0.05):\n",
    "    estimator = make_pipeline(Concentrate(q=q), MeanVariance(transform_V=transform_V_))\n",
    "    m2_ = Backtester(\n",
    "        estimator, max_train_size=risk_model_window, start_date=\"2003-05-01\"\n",
    "    ).compute_holdings(features, target)\n",
    "    res[q] = m2_.h_.pipe(risk_per_unit_of_leverage, ret=ret, return_sharpe_ratio=True)"
   ]
  },
  {
   "cell_type": "code",
   "execution_count": null,
   "id": "7012e737",
   "metadata": {
    "execution": {
     "iopub.execute_input": "2023-12-07T08:30:14.145310Z",
     "iopub.status.busy": "2023-12-07T08:30:14.145028Z",
     "iopub.status.idle": "2023-12-07T08:30:14.614817Z",
     "shell.execute_reply": "2023-12-07T08:30:14.614089Z"
    }
   },
   "outputs": [],
   "source": [
    "df = pd.DataFrame.from_dict(res, orient=\"index\")\n",
    "\n",
    "fig, ax = plt.subplots(1, 1, figsize=(8, 5))\n",
    "ax.scatter(df.iloc[:, 0], df.iloc[:, 1], s=5, c=\"tab:blue\")\n",
    "ax.set_xlabel(df.columns[0])\n",
    "ax.set_ylabel(df.columns[1])\n",
    "ax.set_title(\n",
    "    \"Sharpe ratio against (annualized) risk per unit of leverage: concentrated predictor\"\n",
    ")\n",
    "for i, txt in enumerate(df.index):\n",
    "    ax.text(df.iloc[i, 0], df.iloc[i, 1], round(txt, 3), fontsize=9)"
   ]
  }
 ],
 "metadata": {
  "hide_input": false,
  "kernelspec": {
   "display_name": "Python (skfin)",
   "language": "python",
   "name": "skfin"
  },
  "language_info": {
   "codemirror_mode": {
    "name": "ipython",
    "version": 3
   },
   "file_extension": ".py",
   "mimetype": "text/x-python",
   "name": "python",
   "nbconvert_exporter": "python",
   "pygments_lexer": "ipython3",
   "version": "3.8.16"
  },
  "toc": {
   "base_numbering": 1,
   "nav_menu": {},
   "number_sections": true,
   "sideBar": true,
   "skip_h1_title": false,
   "title_cell": "Table of Contents",
   "title_sidebar": "Contents",
   "toc_cell": false,
   "toc_position": {},
   "toc_section_display": true,
   "toc_window_display": false
  }
 },
 "nbformat": 4,
 "nbformat_minor": 5
}
