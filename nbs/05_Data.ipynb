{
 "cells": [
  {
   "cell_type": "markdown",
   "id": "7da956d6",
   "metadata": {},
   "source": [
    "# The Data Deluge: Alternative Data and Its Role in Modern Financial Analysis"
   ]
  },
  {
   "cell_type": "code",
   "execution_count": null,
   "id": "60c1db02",
   "metadata": {
    "tags": []
   },
   "outputs": [],
   "source": [
    "# hide\n",
    "%load_ext autoreload\n",
    "%autoreload 2\n",
    "%matplotlib inline\n",
    "\n",
    "import numpy as np\n",
    "import pandas as pd\n",
    "from IPython.display import Image, display"
   ]
  },
  {
   "cell_type": "markdown",
   "id": "7b62f48e",
   "metadata": {},
   "source": [
    "In the prevous section, we described hedge funds, and more generally the buy-side industry, as `consumers of data`. In practice hedge funds have been a beneficiary of the exponential growth in the number of available datasets. We first describe the main classes of datasets that have been made available in the industry. We then introduce some of the illustrative `toy` datasets that will be used across notebooks. "
   ]
  },
  {
   "cell_type": "markdown",
   "id": "04d7f490",
   "metadata": {},
   "source": [
    "## Data deluge"
   ]
  },
  {
   "cell_type": "markdown",
   "id": "afc6a31c",
   "metadata": {},
   "source": [
    "There are now sensors everywhere in the physical world and most of the online interactions are tracked -- leading a `data deluge` (e.g. see [Mary Meeker (2018)](http://www.kpcb.com/internet-trends) on internet trends or [Lori Lewis (2022)](https://www.allaccess.com/merge/archive/31294/infographic-what-happens-in-an-internet-minute)). On the one hand, the cost of sensors has dropped so much that these sensors can be put practically everywhere and record data from the physicial world. On the other hand, the volume and velocity of online data only has also exploded. "
   ]
  },
  {
   "cell_type": "code",
   "execution_count": null,
   "id": "fcb979f2",
   "metadata": {
    "tags": []
   },
   "outputs": [],
   "source": [
    "# hide\n",
    "# sidebyside\n",
    "display(\n",
    "    Image(\"images/sensors.PNG\", width=500),\n",
    "    Image(\"images/internet_minute_2020.png\", width=400),\n",
    ")"
   ]
  },
  {
   "cell_type": "markdown",
   "id": "ccf4420e",
   "metadata": {},
   "source": [
    "### Data scouting"
   ]
  },
  {
   "cell_type": "markdown",
   "id": "03173a56",
   "metadata": {},
   "source": [
    "The article \"Hedge funds see a gold rush is data mining\" [FT (08/28/2017)](https://www.ft.com/content/d86ad460-8802-11e7-bf50-e1c239b45787) describes use-cases associated with four types of alternative data: \n",
    "\n",
    "- web traffic \n",
    "\n",
    "- credit card transaction\n",
    "\n",
    "- geolocalisation \n",
    "\n",
    "- satellite imaging \n",
    "\n",
    "In each of these cases, the main idea is to use alternative data to get a noisy, but real-time forecast of company fundamentals (e.g. quarterly  sales). "
   ]
  },
  {
   "cell_type": "code",
   "execution_count": null,
   "id": "b10dfda4",
   "metadata": {
    "tags": []
   },
   "outputs": [],
   "source": [
    "# hide\n",
    "display(Image(\"images/ftalternativedata.png\", width=700))"
   ]
  },
  {
   "cell_type": "markdown",
   "id": "3c4c8819-24bc-4502-98a8-d84978b9ba22",
   "metadata": {},
   "source": [
    "Obviously, predicting company fundamentals is only part of the story of what drives stock prices in financial markets. On the other side, understanding the market participants, in particular retail traders, is also important as shown in China [Bloomberg (06/15/2019)](https://www.bloomberg.com/news/articles/2019-05-15/quants-think-like-amateurs-in-the-world-s-wildest-stock-market) or in the US with the Game Stop saga [FT(01/29/2021)](https://www.ft.com/content/04477ee8-0af2-4f0f-a331-2987444892c3). "
   ]
  },
  {
   "cell_type": "code",
   "execution_count": null,
   "id": "1ff248c1",
   "metadata": {
    "tags": []
   },
   "outputs": [],
   "source": [
    "# hide\n",
    "# sidebyside\n",
    "display(\n",
    "    Image(\"images/bloomberg_investing_in_china.png\", width=600),\n",
    "    Image(\"images/game_stop.png\", width=600),\n",
    ")"
   ]
  },
  {
   "cell_type": "markdown",
   "id": "3212b6ca-8530-42bc-a828-841174308c3c",
   "metadata": {},
   "source": [
    "Recent examples show even more sophistication and creativity for new data -- .e.g. FT (09/13/2024): \"How SEC mobile phones can signal an imminent stock price drop.\""
   ]
  },
  {
   "cell_type": "code",
   "execution_count": null,
   "id": "65a7e8ae-00cf-4be5-80da-d9dced3d2165",
   "metadata": {},
   "outputs": [],
   "source": [
    "# hide\n",
    "display(Image(\"images/ft_sec_as_data.png\", width=600))"
   ]
  },
  {
   "cell_type": "markdown",
   "id": "0dc30aef",
   "metadata": {},
   "source": [
    "### ML research"
   ]
  },
  {
   "cell_type": "markdown",
   "id": "a4e3cac5",
   "metadata": {},
   "source": [
    "ML research has become a race with new ideas coming out with an increasing speed -- e.g. as illustrated by the number of papers published on the scientific paper repository arxiv.com ([Jeff Dean (06/02/2019)](https://twitter.com/JeffDean/status/1135114657344237568)). "
   ]
  },
  {
   "cell_type": "code",
   "execution_count": null,
   "id": "6b78070a",
   "metadata": {
    "tags": []
   },
   "outputs": [],
   "source": [
    "# hide\n",
    "display(Image(\"images/mlarxiv2.png\", width=600))"
   ]
  },
  {
   "cell_type": "markdown",
   "id": "5862e9b9",
   "metadata": {},
   "source": [
    "The success of deep-learning depends on: i) model capacity, ii) computational power, iii) dataset  size. [Sun, Shrivastava, Singh, Gupta (2017)](https://arxiv.org/abs/1707.02968) note that the size of the largest dataset has remained somewhat constant over the last few years. "
   ]
  },
  {
   "cell_type": "code",
   "execution_count": null,
   "id": "f3da419b",
   "metadata": {
    "tags": []
   },
   "outputs": [],
   "source": [
    "# hide\n",
    "# sidebyside\n",
    "display(\n",
    "    Image(\"images/unreasonableEffectiveness.PNG\", width=300),\n",
    "    Image(\"images/unreasonableEffectiveness2.PNG\", width=300),\n",
    ")"
   ]
  },
  {
   "cell_type": "markdown",
   "id": "95a70df4-2c33-48fd-8c54-b47e8affed5c",
   "metadata": {},
   "source": [
    "Here are several trends from the Stanford's AI index report: \n",
    "\n",
    "- The training costs for cutting-edge AI models have skyrocketed, with OpenAI's GPT-4 and Google's Gemini Ultra costing \\\\$78m and \\\\$191m, respectively.\n",
    "- AI projects on GitHub have surged from 845 in 2011 to about 1.8m in 2023, with a 59.3% increase in 2023 alone.\n",
    "- As language models have rapidly advanced, surpassing human performance on numerous benchmarks, there has been a growing need for more robust and wide-ranging evaluation methods -- with the Holistic Evaluation of Language Models (HELM) providing a comprehensive framework .\n",
    "-  Introduced by OpenAI researchers in 2021, HumanEval is a benchmark for assessing the coding abilities of AI systems. A variant of the GPT-4 model, AgentCoder, is currently leading in HumanEval performance. "
   ]
  },
  {
   "cell_type": "code",
   "execution_count": null,
   "id": "13199581",
   "metadata": {
    "tags": []
   },
   "outputs": [],
   "source": [
    "# hide\n",
    "display(Image(\"images/nlp_model_size2.png\", width=800))"
   ]
  },
  {
   "cell_type": "code",
   "execution_count": null,
   "id": "da5e629e-70cc-436e-93d8-20e40d6f808d",
   "metadata": {},
   "outputs": [],
   "source": [
    "# hide\n",
    "display(Image(\"images/nlp_model_cost.png\", width=800))"
   ]
  },
  {
   "cell_type": "code",
   "execution_count": null,
   "id": "325edfa8-25e1-47fa-a468-634bf565925a",
   "metadata": {},
   "outputs": [],
   "source": [
    "# hide\n",
    "display(Image(\"images/ai_understanding.png\", width=800))"
   ]
  },
  {
   "cell_type": "code",
   "execution_count": null,
   "id": "7c7c996c-0085-4473-963c-4a710a02746e",
   "metadata": {},
   "outputs": [],
   "source": [
    "# hide\n",
    "display(Image(\"images/ai_adoption.png\", width=800))"
   ]
  },
  {
   "cell_type": "markdown",
   "id": "a37a52de",
   "metadata": {},
   "source": [
    "## Datasets"
   ]
  },
  {
   "cell_type": "markdown",
   "id": "1861fa59",
   "metadata": {},
   "source": [
    "In particular, we look at several sources of data:\n",
    "\n",
    "- Ken French's Financial data library\n",
    "\n",
    "- Berkshire Hathaway financials \n",
    "\n",
    "- Stock returns \n",
    "\n",
    "- Federal Open Market Committee (FOMC) statements\n",
    "\n",
    "- the sentiment dictionary created by Loughran and McDonalds \n",
    "\n",
    "- US filings to the U.S. Securities and Exchange Commission (SEC) called 10Qs and 10Ks\n",
    "\n",
    "- Long term stock market data put together by Amit Goyal"
   ]
  },
  {
   "cell_type": "markdown",
   "id": "f2cae352-b391-4f6a-8837-731ba04ff37b",
   "metadata": {},
   "source": [
    "### data helper functions"
   ]
  },
  {
   "cell_type": "markdown",
   "id": "d7c08224-611d-4727-8ba2-940b679deea4",
   "metadata": {},
   "source": [
    "In this section, we use the `jupyter` command `%%writefile` to construct a module of data helper function. "
   ]
  },
  {
   "cell_type": "code",
   "execution_count": null,
   "id": "0a4acb92",
   "metadata": {
    "code_folding": [
     236
    ]
   },
   "outputs": [],
   "source": [
    "%%writefile ../skfin/dataloaders/loaders.py\n",
    "import logging\n",
    "import subprocess\n",
    "import sys\n",
    "from pathlib import Path\n",
    "from typing import Dict\n",
    "\n",
    "import pandas as pd\n",
    "from tqdm.auto import tqdm\n",
    "\n",
    "from skfin.dataloaders.cache import CacheManager\n",
    "from skfin.dataloaders.web_utils import WebUtils\n",
    "from skfin.dataloaders.cleaners import DataCleaner\n",
    "from skfin.dataloaders.fomc import FomcUtils\n",
    "from skfin.dataloaders.constants.mappings import symbol_dict\n",
    "from skfin.dataloaders.io_utils import _download_file_safely\n",
    "\n",
    "logging.basicConfig(stream=sys.stdout, level=logging.CRITICAL)\n",
    "logger = logging.getLogger(__name__)\n",
    "\n",
    "\n",
    "class DatasetLoader:\n",
    "    \"\"\"Class for loading various financial datasets.\"\"\"\n",
    "\n",
    "    def __init__(self, cache_dir: str = \"data\"):\n",
    "        self.cache_manager = CacheManager(cache_dir)\n",
    "        self.logger = logging.getLogger(__name__)\n",
    "\n",
    "    def load_kf_returns(\n",
    "        self, filename: str = \"12_Industry_Portfolios\", force_reload: bool = False\n",
    "    ) -> Dict:\n",
    "        \"\"\"\n",
    "        Load Ken French return data.\n",
    "\n",
    "        Args:\n",
    "            filename: Name of the data file to load\n",
    "            force_reload: If True, ignore cache and reload data\n",
    "\n",
    "        Returns:\n",
    "            Dictionary of return data\n",
    "        \"\"\"\n",
    "        if filename == \"12_Industry_Portfolios\":\n",
    "            skiprows, multi_df = 11, True\n",
    "        elif filename == \"F-F_Research_Data_Factors\":\n",
    "            skiprows, multi_df = 3, False\n",
    "        elif filename == \"F-F_Momentum_Factor\":\n",
    "            skiprows, multi_df = 13, False\n",
    "        elif filename == \"F-F_Research_Data_Factors_daily\":\n",
    "            skiprows, multi_df = 4, False\n",
    "        else:\n",
    "            skiprows, multi_df = 11, True\n",
    "\n",
    "        def loader_func():\n",
    "            path = (\n",
    "                \"http://mba.tuck.dartmouth.edu/pages/faculty/ken.french/ftp/\"\n",
    "                + filename\n",
    "                + \"_CSV.zip\"\n",
    "            )\n",
    "            files = WebUtils.download_zip_content(path)\n",
    "\n",
    "            df = pd.read_csv(\n",
    "                files.open(filename + \".csv\"), skiprows=skiprows, index_col=0\n",
    "            )\n",
    "            if \"daily\" in filename:\n",
    "                return {\n",
    "                    \"Daily\": df.iloc[:-1].pipe(\n",
    "                        lambda x: x.set_index(pd.to_datetime(x.index))\n",
    "                    )\n",
    "                }\n",
    "            else:\n",
    "                return DataCleaner.clean_kf_dataframes(df, multi_df=multi_df)\n",
    "\n",
    "        return self.cache_manager.get_cached_dataframe(\n",
    "            filename=Path(filename), loader_func=loader_func, force_reload=force_reload\n",
    "        )\n",
    "\n",
    "    def load_buffets_data(self, force_reload: bool = False) -> pd.DataFrame:\n",
    "        \"\"\"\n",
    "        Load Buffett's portfolio data.\n",
    "\n",
    "        Args:\n",
    "            force_reload: If True, ignore cache and reload data\n",
    "\n",
    "        Returns:\n",
    "            DataFrame containing Buffett's portfolio data\n",
    "        \"\"\"\n",
    "\n",
    "        def loader_func():\n",
    "            path = \"https://github.com/slihn/buffetts_alpha_R/archive/master.zip\"\n",
    "            files = WebUtils.download_zip_content(path)\n",
    "\n",
    "            df = pd.read_csv(\n",
    "                files.open(\"buffetts_alpha_R-master/ffdata_brk13f.csv\"), index_col=0\n",
    "            )\n",
    "            df.index = pd.to_datetime(df.index, format=\"%m/%d/%Y\")\n",
    "            return df\n",
    "\n",
    "        return self.cache_manager.get_cached_dataframe(\n",
    "            filename=Path(\"ffdata_brk13f.parquet\"),\n",
    "            loader_func=loader_func,\n",
    "            force_reload=force_reload,\n",
    "        )\n",
    "\n",
    "    def load_sklearn_stock_returns(self, force_reload: bool = False) -> pd.DataFrame:\n",
    "        \"\"\"\n",
    "        Load stock returns data from scikit-learn.\n",
    "\n",
    "        Args:\n",
    "            force_reload: If True, ignore cache and reload data\n",
    "\n",
    "        Returns:\n",
    "            DataFrame containing stock returns\n",
    "        \"\"\"\n",
    "\n",
    "        def loader_func():\n",
    "            url = \"https://raw.githubusercontent.com/scikit-learn/examples-data/master/financial-data\"\n",
    "            df = (\n",
    "                pd.concat(\n",
    "                    {\n",
    "                        c: pd.read_csv(f\"{url}/{c}.csv\", index_col=0, parse_dates=True)[\n",
    "                            \"close\"\n",
    "                        ].diff()\n",
    "                        for c in symbol_dict.keys()\n",
    "                    },\n",
    "                    axis=1,\n",
    "                )\n",
    "                .asfreq(\"B\")\n",
    "                .iloc[1:]\n",
    "            )\n",
    "            return df\n",
    "\n",
    "        return self.cache_manager.get_cached_dataframe(\n",
    "            filename=Path(\"sklearn_returns.parquet\"),\n",
    "            loader_func=loader_func,\n",
    "            force_reload=force_reload,\n",
    "        )\n",
    "\n",
    "    def load_fomc_statements(\n",
    "        self,\n",
    "        add_url: bool = True,\n",
    "        force_reload: bool = False,\n",
    "        progress_bar: bool = False,\n",
    "        from_year: int = 1999,\n",
    "    ) -> pd.DataFrame:\n",
    "        \"\"\"\n",
    "        Load FOMC statements.\n",
    "\n",
    "        Args:\n",
    "            add_url: If True, adds URLs to the output\n",
    "            force_reload: If True, ignore cache and reload data\n",
    "            progress_bar: If True, displays a progress bar during loading\n",
    "            from_year: Year from which to load data\n",
    "\n",
    "        Returns:\n",
    "            DataFrame containing FOMC statements\n",
    "        \"\"\"\n",
    "\n",
    "        def loader_func():\n",
    "            urls = FomcUtils.get_fomc_urls(from_year=from_year)\n",
    "            if progress_bar:\n",
    "                urls_ = tqdm(urls)\n",
    "            else:\n",
    "                urls_ = urls\n",
    "\n",
    "            corpus = [\n",
    "                DataCleaner.bs_cleaner(\n",
    "                    WebUtils.parse_html(WebUtils.get_response(url).text)\n",
    "                )\n",
    "                for url in urls_\n",
    "            ]\n",
    "\n",
    "            statements = FomcUtils.feature_extraction(corpus).set_index(\"release_date\")\n",
    "            if add_url:\n",
    "                statements = statements.assign(url=urls)\n",
    "            return statements.sort_index()\n",
    "\n",
    "        return self.cache_manager.get_cached_dataframe(\n",
    "            filename=Path(\"fomc_statements.parquet\"),\n",
    "            loader_func=loader_func,\n",
    "            force_reload=force_reload,\n",
    "        )\n",
    "\n",
    "    def load_loughran_mcdonald_dictionary(\n",
    "            self, filename: str = None, force_reload: bool = False\n",
    "    ) -> pd.DataFrame:\n",
    "        \"\"\"\n",
    "        Load the Loughran-McDonald dictionary.\n",
    "\n",
    "        Args:\n",
    "            filename: Custom filename to use\n",
    "            force_reload: If True, ignore cache and reload data\n",
    "\n",
    "        Returns:\n",
    "            DataFrame containing the dictionary data\n",
    "        \"\"\"\n",
    "        if filename is None:\n",
    "            filename = \"Loughran-McDonald_MasterDictionary_1993-2021.csv\"\n",
    "        filename = Path(filename)\n",
    "\n",
    "        def loader_func():\n",
    "            id = \"17CmUZM9hGUdGYjCXcjQLyybjTrcjrhik\"\n",
    "            url = f\"https://docs.google.com/uc?export=download&confirm=t&id={id}\"\n",
    "            filepath = self.cache_manager.cache_dir / filename\n",
    "\n",
    "            _download_file_safely(\n",
    "                url=url,\n",
    "                filepath=filepath,\n",
    "                manual_url=\"https://sraf.nd.edu/loughran-mcdonald-master-dictionary/\"\n",
    "            )\n",
    "\n",
    "            return pd.read_csv(filepath)\n",
    "\n",
    "        return self.cache_manager.get_cached_dataframe(\n",
    "            filename=filename, loader_func=loader_func, force_reload=force_reload\n",
    "        )\n",
    "\n",
    "\n",
    "    def load_10X_summaries(self, filename: str = None, force_reload: bool = False) -> pd.DataFrame:\n",
    "        \"\"\"\n",
    "        Load 10-X summaries.\n",
    "\n",
    "        Args:\n",
    "            filename: Custom filename to use\n",
    "            force_reload: If True, ignore cache and reload data\n",
    "\n",
    "        Returns:\n",
    "            DataFrame containing 10-X summaries\n",
    "        \"\"\"\n",
    "        if filename is None:\n",
    "            filename = \"Loughran-McDonald_10X_Summaries_1993-2021.csv\"\n",
    "        filename = Path(filename)\n",
    "\n",
    "        def loader_func():\n",
    "            id = \"1CUzLRwQSZ4aUTfPB9EkRtZ48gPwbCOHA\"\n",
    "            url = f\"https://docs.google.com/uc?export=download&confirm=t&id={id}\"\n",
    "            filepath = self.cache_manager.cache_dir / filename\n",
    "\n",
    "            _download_file_safely(\n",
    "                url=url,\n",
    "                filepath=filepath,\n",
    "                manual_url=\"https://sraf.nd.edu/sec-edgar-data/lm_10x_summaries/\"\n",
    "            )\n",
    "\n",
    "            return pd.read_csv(filepath)\n",
    "\n",
    "        df = self.cache_manager.get_cached_dataframe(\n",
    "            filename=filename,\n",
    "            loader_func=loader_func,\n",
    "            force_reload=force_reload,\n",
    "        )\n",
    "        return df.assign(\n",
    "            date=lambda x: pd.to_datetime(x.FILING_DATE, format=\"%Y%m%d\")\n",
    "        ).set_index(\"date\")\n",
    "\n",
    "    def load_ag_features(\n",
    "            self, filename: str = None, sheet_name: str = \"Monthly\", force_reload: bool = False\n",
    "    ) -> pd.DataFrame:\n",
    "        \"\"\"\n",
    "        Load Amit Goyal's characteristics data.\n",
    "\n",
    "        Args:\n",
    "            filename: Custom filename to use\n",
    "            sheet_name: Name of the sheet to load\n",
    "            force_reload: If True, ignore cache and reload data\n",
    "\n",
    "        Returns:\n",
    "            DataFrame containing characteristic data\n",
    "        \"\"\"\n",
    "        if filename is None:\n",
    "            filename = \"Data2024.xlsx\"\n",
    "        filename = Path(filename)\n",
    "\n",
    "        def loader_func():\n",
    "            id = \"10_nkOkJPvq4eZgNl-1ys63PzhbnM3S2y\"\n",
    "            url = f\"https://docs.google.com/spreadsheets/d/{id}/export?format=xlsx\"\n",
    "            filepath = self.cache_manager.cache_dir / filename\n",
    "\n",
    "            _download_file_safely(\n",
    "                url=url,\n",
    "                filepath=filepath,\n",
    "                manual_url=\"https://sites.google.com/view/agoyal145/data-library\"\n",
    "            )\n",
    "\n",
    "            return pd.read_excel(filepath, sheet_name=sheet_name)\n",
    "\n",
    "        df = self.cache_manager.get_cached_dataframe(\n",
    "            filename=filename,\n",
    "            loader_func=loader_func,\n",
    "            force_reload=force_reload,\n",
    "            sheet_name=sheet_name,\n",
    "        )\n",
    "        return df.assign(\n",
    "            date=lambda x: pd.to_datetime(x.yyyymm, format=\"%Y%m\")\n",
    "        ).set_index(\"date\")"
   ]
  },
  {
   "cell_type": "code",
   "execution_count": null,
   "id": "1c897813-84bb-47fa-925c-8a5d415300fc",
   "metadata": {},
   "outputs": [],
   "source": [
    "%%writefile ../skfin/datasets_.py\n",
    "import warnings\n",
    "import sys\n",
    "import logging\n",
    "from typing import Dict, Optional\n",
    "\n",
    "import pandas as pd\n",
    "\n",
    "from skfin.dataloaders import DatasetLoader\n",
    "\n",
    "warnings.filterwarnings(\"ignore\", category=UserWarning, module=\"openpyxl\")\n",
    "\n",
    "logging.basicConfig(stream=sys.stdout, level=logging.INFO)\n",
    "logger = logging.getLogger(__name__)\n",
    "\n",
    "\n",
    "def load_kf_returns(\n",
    "    filename: str = \"12_Industry_Portfolios\",\n",
    "    force_reload: bool = False,\n",
    "    cache_dir: Optional[str] = \"data\",\n",
    ") -> Dict:\n",
    "    \"\"\"Load Ken French return data.\"\"\"\n",
    "    loader = DatasetLoader(cache_dir=cache_dir)\n",
    "    return loader.load_kf_returns(filename, force_reload)\n",
    "\n",
    "\n",
    "def load_buffets_data(\n",
    "    force_reload: bool = False, cache_dir: Optional[str] = \"data\"\n",
    ") -> pd.DataFrame:\n",
    "    \"\"\"Load Buffett's portfolio data.\"\"\"\n",
    "    loader = DatasetLoader(cache_dir=cache_dir)\n",
    "    return loader.load_buffets_data(force_reload)\n",
    "\n",
    "\n",
    "def load_sklearn_stock_returns(\n",
    "    force_reload: bool = False, cache_dir: Optional[str] = \"data\"\n",
    ") -> pd.DataFrame:\n",
    "    \"\"\"Load stock returns data from scikit-learn.\"\"\"\n",
    "    loader = DatasetLoader(cache_dir=cache_dir)\n",
    "    return loader.load_sklearn_stock_returns(force_reload)\n",
    "\n",
    "\n",
    "def load_fomc_statements(\n",
    "    add_url: bool = True,\n",
    "    force_reload: bool = False,\n",
    "    progress_bar: bool = False,\n",
    "    from_year: int = 1999,\n",
    "    cache_dir: Optional[str] = \"data\",\n",
    ") -> pd.DataFrame:\n",
    "    \"\"\"Load FOMC statements.\"\"\"\n",
    "    loader = DatasetLoader(cache_dir=cache_dir)\n",
    "    return loader.load_fomc_statements(add_url, force_reload, progress_bar, from_year)\n",
    "\n",
    "\n",
    "def load_loughran_mcdonald_dictionary(\n",
    "    force_reload: bool = False, cache_dir: Optional[str] = \"data\", filename: str = None, \n",
    ") -> pd.DataFrame:\n",
    "    \"\"\"Load the Loughran-McDonald dictionary.\"\"\"\n",
    "    loader = DatasetLoader(cache_dir=cache_dir)\n",
    "    return loader.load_loughran_mcdonald_dictionary(force_reload=force_reload, filename=filename)\n",
    "\n",
    "\n",
    "def load_10X_summaries(\n",
    "    force_reload: bool = False, cache_dir: Optional[str] = \"data\", filename: str = None, \n",
    ") -> pd.DataFrame:\n",
    "    \"\"\"Load 10-X summaries.\"\"\"\n",
    "    loader = DatasetLoader(cache_dir=cache_dir)\n",
    "    return loader.load_10X_summaries(force_reload=force_reload, filename=filename)\n",
    "\n",
    "\n",
    "def load_ag_features(\n",
    "    sheet_name: str = \"Monthly\",\n",
    "    force_reload: bool = False,\n",
    "    cache_dir: Optional[str] = \"data\",\n",
    "    filename: str = None, \n",
    ") -> pd.DataFrame:\n",
    "    \"\"\"Load Amit Goyal's characteristics data.\"\"\"\n",
    "    loader = DatasetLoader(cache_dir=cache_dir)\n",
    "    return loader.load_ag_features(sheet_name=sheet_name, force_reload=force_reload, filename=filename)\n"
   ]
  },
  {
   "cell_type": "markdown",
   "id": "941a677c",
   "metadata": {
    "lines_to_next_cell": 2
   },
   "source": [
    "### Ken French data: industry returns"
   ]
  },
  {
   "cell_type": "code",
   "execution_count": null,
   "id": "75f43a66",
   "metadata": {
    "jupyter": {
     "source_hidden": true
    },
    "tags": []
   },
   "outputs": [],
   "source": [
    "from skfin.datasets_ import (\n",
    "    load_buffets_data,\n",
    "    load_kf_returns,\n",
    "    load_sklearn_stock_returns,\n",
    ")\n",
    "\n",
    "import logging \n",
    "logging.getLogger(\"skfin.dataloaders.cache\").setLevel(level=logging.INFO)"
   ]
  },
  {
   "cell_type": "code",
   "execution_count": null,
   "id": "66d007ad",
   "metadata": {
    "tags": []
   },
   "outputs": [],
   "source": [
    "%%time\n",
    "returns_data = load_kf_returns(filename=\"12_Industry_Portfolios\", force_reload=True)"
   ]
  },
  {
   "cell_type": "markdown",
   "id": "95c37d42",
   "metadata": {},
   "source": [
    "Reloading from a cache directory is faster!"
   ]
  },
  {
   "cell_type": "code",
   "execution_count": null,
   "id": "d5ab5acf",
   "metadata": {
    "tags": []
   },
   "outputs": [],
   "source": [
    "%%time\n",
    "returns_data = load_kf_returns(filename=\"12_Industry_Portfolios\", force_reload=False)"
   ]
  },
  {
   "cell_type": "code",
   "execution_count": null,
   "id": "770775d4",
   "metadata": {
    "tags": []
   },
   "outputs": [],
   "source": [
    "returns_data_SMB_HML = load_kf_returns(filename=\"F-F_Research_Data_Factors\")"
   ]
  },
  {
   "cell_type": "code",
   "execution_count": null,
   "id": "5ec591c6",
   "metadata": {
    "tags": []
   },
   "outputs": [],
   "source": [
    "returns_data_MOM = load_kf_returns(filename=\"F-F_Momentum_Factor\")"
   ]
  },
  {
   "cell_type": "code",
   "execution_count": null,
   "id": "2ebd1cb3",
   "metadata": {
    "tags": []
   },
   "outputs": [],
   "source": [
    "returns_data_DAILY = load_kf_returns(\n",
    "    filename=\"F-F_Research_Data_Factors_daily\", force_reload=True\n",
    ")[\"Daily\"]"
   ]
  },
  {
   "cell_type": "markdown",
   "id": "3924b345",
   "metadata": {},
   "source": [
    "### Stock returns (2003-2007)"
   ]
  },
  {
   "cell_type": "code",
   "execution_count": null,
   "id": "9b9e64cb",
   "metadata": {},
   "outputs": [],
   "source": [
    "%%time\n",
    "returns_data = load_sklearn_stock_returns(force_reload=True)"
   ]
  },
  {
   "cell_type": "code",
   "execution_count": null,
   "id": "3d928fe5",
   "metadata": {},
   "outputs": [],
   "source": [
    "from skfin.dataloaders.constants.mappings import symbol_dict\n",
    "from skfin.metrics import sharpe_ratio\n",
    "from skfin.plot import bar"
   ]
  },
  {
   "cell_type": "code",
   "execution_count": null,
   "id": "a9a93379",
   "metadata": {},
   "outputs": [],
   "source": [
    "start_date, end_date = (\n",
    "    returns_data.index[0].strftime(\"%Y-%m-%d\"),\n",
    "    returns_data.index[-1].strftime(\"%Y-%m-%d\"),\n",
    ")\n",
    "\n",
    "df = (\n",
    "    returns_data.pipe(sharpe_ratio)\n",
    "    .rename(index=symbol_dict)\n",
    "    .sort_values()\n",
    "    .pipe(lambda x: pd.concat([x.head(), x.tail()]))\n",
    ")\n",
    "bar(\n",
    "    df,\n",
    "    horizontal=True,\n",
    "    title=f\"Annualized stock sharpe ratio: {start_date} to {end_date}\",\n",
    ")"
   ]
  },
  {
   "cell_type": "markdown",
   "id": "393101a1",
   "metadata": {},
   "source": [
    "### 13F Berkshire Hathaway"
   ]
  },
  {
   "cell_type": "code",
   "execution_count": null,
   "id": "da65828b",
   "metadata": {},
   "outputs": [],
   "source": [
    "%%time\n",
    "df = load_buffets_data(force_reload=True)"
   ]
  },
  {
   "cell_type": "markdown",
   "id": "ad9dd860",
   "metadata": {},
   "source": [
    "### FOMC Statements "
   ]
  },
  {
   "cell_type": "code",
   "execution_count": null,
   "id": "52fed889",
   "metadata": {},
   "outputs": [],
   "source": [
    "from skfin.datasets_ import load_fomc_statements"
   ]
  },
  {
   "cell_type": "code",
   "execution_count": null,
   "id": "3ec13b85",
   "metadata": {},
   "outputs": [],
   "source": [
    "%%time\n",
    "statements = load_fomc_statements(force_reload=True)"
   ]
  },
  {
   "cell_type": "code",
   "execution_count": null,
   "id": "9d1e737e",
   "metadata": {
    "tags": []
   },
   "outputs": [],
   "source": [
    "%%time\n",
    "statements = load_fomc_statements(force_reload=False)"
   ]
  },
  {
   "cell_type": "markdown",
   "id": "23c91ad0",
   "metadata": {},
   "source": [
    "### Loughran-McDonalds sentiment dictionary and regulartory filing summaries"
   ]
  },
  {
   "cell_type": "code",
   "execution_count": null,
   "id": "42ffa230",
   "metadata": {},
   "outputs": [],
   "source": [
    "from skfin.datasets_ import load_loughran_mcdonald_dictionary, load_10X_summaries"
   ]
  },
  {
   "cell_type": "code",
   "execution_count": null,
   "id": "a4d0f75d-280c-4cc3-b7f6-15105ee32352",
   "metadata": {},
   "outputs": [],
   "source": [
    "%%time\n",
    "filing_summaries = load_10X_summaries(force_reload=False)"
   ]
  },
  {
   "cell_type": "code",
   "execution_count": null,
   "id": "e7a17a68",
   "metadata": {
    "tags": []
   },
   "outputs": [],
   "source": [
    "%%time\n",
    "lm = load_loughran_mcdonald_dictionary(force_reload=False, filename=\"Loughran-McDonald_MasterDictionary_1993-2021.csv\")"
   ]
  },
  {
   "cell_type": "markdown",
   "id": "f406d437-3a07-4765-b7a0-1fd2800c752a",
   "metadata": {},
   "source": [
    "### Goyal long-term market data"
   ]
  },
  {
   "cell_type": "code",
   "execution_count": null,
   "id": "bdcb9de1-d99f-4ca3-a1fd-2b2d251f585c",
   "metadata": {
    "tags": []
   },
   "outputs": [],
   "source": [
    "from skfin.datasets_ import load_ag_features"
   ]
  },
  {
   "cell_type": "code",
   "execution_count": null,
   "id": "921a37d4-85be-421a-8717-faf482be84a3",
   "metadata": {
    "tags": []
   },
   "outputs": [],
   "source": [
    "%%time \n",
    "ag = load_ag_features(force_reload=False);"
   ]
  }
 ],
 "metadata": {
  "hide_input": false,
  "jupytext": {
   "encoding": "# -*- coding: utf-8 -*-"
  },
  "kernelspec": {
   "display_name": "skfin 2024",
   "language": "python",
   "name": "skfin"
  },
  "language_info": {
   "codemirror_mode": {
    "name": "ipython",
    "version": 3
   },
   "file_extension": ".py",
   "mimetype": "text/x-python",
   "name": "python",
   "nbconvert_exporter": "python",
   "pygments_lexer": "ipython3",
   "version": "3.9.20"
  },
  "toc": {
   "base_numbering": 1,
   "nav_menu": {},
   "number_sections": false,
   "sideBar": true,
   "skip_h1_title": false,
   "title_cell": "Table of Contents",
   "title_sidebar": "Contents",
   "toc_cell": false,
   "toc_position": {},
   "toc_section_display": true,
   "toc_window_display": false
  },
  "widgets": {
   "application/vnd.jupyter.widget-state+json": {
    "state": {
     "021bcaf7e33f4de8870d26c821068e8e": {
      "model_module": "@jupyter-widgets/base",
      "model_module_version": "2.0.0",
      "model_name": "LayoutModel",
      "state": {
       "_model_module": "@jupyter-widgets/base",
       "_model_module_version": "2.0.0",
       "_model_name": "LayoutModel",
       "_view_count": null,
       "_view_module": "@jupyter-widgets/base",
       "_view_module_version": "2.0.0",
       "_view_name": "LayoutView",
       "align_content": null,
       "align_items": null,
       "align_self": null,
       "border_bottom": null,
       "border_left": null,
       "border_right": null,
       "border_top": null,
       "bottom": null,
       "display": null,
       "flex": null,
       "flex_flow": null,
       "grid_area": null,
       "grid_auto_columns": null,
       "grid_auto_flow": null,
       "grid_auto_rows": null,
       "grid_column": null,
       "grid_gap": null,
       "grid_row": null,
       "grid_template_areas": null,
       "grid_template_columns": null,
       "grid_template_rows": null,
       "height": null,
       "justify_content": null,
       "justify_items": null,
       "left": null,
       "margin": null,
       "max_height": null,
       "max_width": null,
       "min_height": null,
       "min_width": null,
       "object_fit": null,
       "object_position": null,
       "order": null,
       "overflow": null,
       "padding": null,
       "right": null,
       "top": null,
       "visibility": null,
       "width": null
      }
     },
     "190d506b0e394e518e07094de48539bb": {
      "model_module": "@jupyter-widgets/controls",
      "model_module_version": "2.0.0",
      "model_name": "HBoxModel",
      "state": {
       "_dom_classes": [],
       "_model_module": "@jupyter-widgets/controls",
       "_model_module_version": "2.0.0",
       "_model_name": "HBoxModel",
       "_view_count": null,
       "_view_module": "@jupyter-widgets/controls",
       "_view_module_version": "2.0.0",
       "_view_name": "HBoxView",
       "box_style": "",
       "children": [
        "IPY_MODEL_a6f763ba48f844fd9e4d3ed4170ad269",
        "IPY_MODEL_6ddab019338d46e5a5f12fc6f9b3ac32",
        "IPY_MODEL_7be640fb18954e37ac374372f98e285f"
       ],
       "layout": "IPY_MODEL_6f37101d3f284c78aedac1848a74f6bb",
       "tabbable": null,
       "tooltip": null
      }
     },
     "3109fc9d7c4149b5a801535f6b6f647a": {
      "model_module": "@jupyter-widgets/controls",
      "model_module_version": "2.0.0",
      "model_name": "ProgressStyleModel",
      "state": {
       "_model_module": "@jupyter-widgets/controls",
       "_model_module_version": "2.0.0",
       "_model_name": "ProgressStyleModel",
       "_view_count": null,
       "_view_module": "@jupyter-widgets/base",
       "_view_module_version": "2.0.0",
       "_view_name": "StyleView",
       "bar_color": null,
       "description_width": ""
      }
     },
     "3f8586a1d1e4412da041d634db61b847": {
      "model_module": "@jupyter-widgets/controls",
      "model_module_version": "2.0.0",
      "model_name": "HTMLStyleModel",
      "state": {
       "_model_module": "@jupyter-widgets/controls",
       "_model_module_version": "2.0.0",
       "_model_name": "HTMLStyleModel",
       "_view_count": null,
       "_view_module": "@jupyter-widgets/base",
       "_view_module_version": "2.0.0",
       "_view_name": "StyleView",
       "background": null,
       "description_width": "",
       "font_size": null,
       "text_color": null
      }
     },
     "516039fbd0bd43e098419b6a52bbbf9d": {
      "model_module": "@jupyter-widgets/base",
      "model_module_version": "2.0.0",
      "model_name": "LayoutModel",
      "state": {
       "_model_module": "@jupyter-widgets/base",
       "_model_module_version": "2.0.0",
       "_model_name": "LayoutModel",
       "_view_count": null,
       "_view_module": "@jupyter-widgets/base",
       "_view_module_version": "2.0.0",
       "_view_name": "LayoutView",
       "align_content": null,
       "align_items": null,
       "align_self": null,
       "border_bottom": null,
       "border_left": null,
       "border_right": null,
       "border_top": null,
       "bottom": null,
       "display": null,
       "flex": null,
       "flex_flow": null,
       "grid_area": null,
       "grid_auto_columns": null,
       "grid_auto_flow": null,
       "grid_auto_rows": null,
       "grid_column": null,
       "grid_gap": null,
       "grid_row": null,
       "grid_template_areas": null,
       "grid_template_columns": null,
       "grid_template_rows": null,
       "height": null,
       "justify_content": null,
       "justify_items": null,
       "left": null,
       "margin": null,
       "max_height": null,
       "max_width": null,
       "min_height": null,
       "min_width": null,
       "object_fit": null,
       "object_position": null,
       "order": null,
       "overflow": null,
       "padding": null,
       "right": null,
       "top": null,
       "visibility": null,
       "width": null
      }
     },
     "6ddab019338d46e5a5f12fc6f9b3ac32": {
      "model_module": "@jupyter-widgets/controls",
      "model_module_version": "2.0.0",
      "model_name": "FloatProgressModel",
      "state": {
       "_dom_classes": [],
       "_model_module": "@jupyter-widgets/controls",
       "_model_module_version": "2.0.0",
       "_model_name": "FloatProgressModel",
       "_view_count": null,
       "_view_module": "@jupyter-widgets/controls",
       "_view_module_version": "2.0.0",
       "_view_name": "ProgressView",
       "bar_style": "success",
       "description": "",
       "description_allow_html": false,
       "layout": "IPY_MODEL_e646105a66e3441a8d99328952d270d9",
       "max": 209,
       "min": 0,
       "orientation": "horizontal",
       "style": "IPY_MODEL_3109fc9d7c4149b5a801535f6b6f647a",
       "tabbable": null,
       "tooltip": null,
       "value": 209
      }
     },
     "6f37101d3f284c78aedac1848a74f6bb": {
      "model_module": "@jupyter-widgets/base",
      "model_module_version": "2.0.0",
      "model_name": "LayoutModel",
      "state": {
       "_model_module": "@jupyter-widgets/base",
       "_model_module_version": "2.0.0",
       "_model_name": "LayoutModel",
       "_view_count": null,
       "_view_module": "@jupyter-widgets/base",
       "_view_module_version": "2.0.0",
       "_view_name": "LayoutView",
       "align_content": null,
       "align_items": null,
       "align_self": null,
       "border_bottom": null,
       "border_left": null,
       "border_right": null,
       "border_top": null,
       "bottom": null,
       "display": null,
       "flex": null,
       "flex_flow": null,
       "grid_area": null,
       "grid_auto_columns": null,
       "grid_auto_flow": null,
       "grid_auto_rows": null,
       "grid_column": null,
       "grid_gap": null,
       "grid_row": null,
       "grid_template_areas": null,
       "grid_template_columns": null,
       "grid_template_rows": null,
       "height": null,
       "justify_content": null,
       "justify_items": null,
       "left": null,
       "margin": null,
       "max_height": null,
       "max_width": null,
       "min_height": null,
       "min_width": null,
       "object_fit": null,
       "object_position": null,
       "order": null,
       "overflow": null,
       "padding": null,
       "right": null,
       "top": null,
       "visibility": null,
       "width": null
      }
     },
     "7be640fb18954e37ac374372f98e285f": {
      "model_module": "@jupyter-widgets/controls",
      "model_module_version": "2.0.0",
      "model_name": "HTMLModel",
      "state": {
       "_dom_classes": [],
       "_model_module": "@jupyter-widgets/controls",
       "_model_module_version": "2.0.0",
       "_model_name": "HTMLModel",
       "_view_count": null,
       "_view_module": "@jupyter-widgets/controls",
       "_view_module_version": "2.0.0",
       "_view_name": "HTMLView",
       "description": "",
       "description_allow_html": false,
       "layout": "IPY_MODEL_021bcaf7e33f4de8870d26c821068e8e",
       "placeholder": "​",
       "style": "IPY_MODEL_3f8586a1d1e4412da041d634db61b847",
       "tabbable": null,
       "tooltip": null,
       "value": " 209/209 [00:56&lt;00:00,  3.98it/s]"
      }
     },
     "8fc4c25c372d4fdc9ecc06f51f1f039f": {
      "model_module": "@jupyter-widgets/controls",
      "model_module_version": "2.0.0",
      "model_name": "HTMLStyleModel",
      "state": {
       "_model_module": "@jupyter-widgets/controls",
       "_model_module_version": "2.0.0",
       "_model_name": "HTMLStyleModel",
       "_view_count": null,
       "_view_module": "@jupyter-widgets/base",
       "_view_module_version": "2.0.0",
       "_view_name": "StyleView",
       "background": null,
       "description_width": "",
       "font_size": null,
       "text_color": null
      }
     },
     "a6f763ba48f844fd9e4d3ed4170ad269": {
      "model_module": "@jupyter-widgets/controls",
      "model_module_version": "2.0.0",
      "model_name": "HTMLModel",
      "state": {
       "_dom_classes": [],
       "_model_module": "@jupyter-widgets/controls",
       "_model_module_version": "2.0.0",
       "_model_name": "HTMLModel",
       "_view_count": null,
       "_view_module": "@jupyter-widgets/controls",
       "_view_module_version": "2.0.0",
       "_view_name": "HTMLView",
       "description": "",
       "description_allow_html": false,
       "layout": "IPY_MODEL_516039fbd0bd43e098419b6a52bbbf9d",
       "placeholder": "​",
       "style": "IPY_MODEL_8fc4c25c372d4fdc9ecc06f51f1f039f",
       "tabbable": null,
       "tooltip": null,
       "value": "100%"
      }
     },
     "e646105a66e3441a8d99328952d270d9": {
      "model_module": "@jupyter-widgets/base",
      "model_module_version": "2.0.0",
      "model_name": "LayoutModel",
      "state": {
       "_model_module": "@jupyter-widgets/base",
       "_model_module_version": "2.0.0",
       "_model_name": "LayoutModel",
       "_view_count": null,
       "_view_module": "@jupyter-widgets/base",
       "_view_module_version": "2.0.0",
       "_view_name": "LayoutView",
       "align_content": null,
       "align_items": null,
       "align_self": null,
       "border_bottom": null,
       "border_left": null,
       "border_right": null,
       "border_top": null,
       "bottom": null,
       "display": null,
       "flex": null,
       "flex_flow": null,
       "grid_area": null,
       "grid_auto_columns": null,
       "grid_auto_flow": null,
       "grid_auto_rows": null,
       "grid_column": null,
       "grid_gap": null,
       "grid_row": null,
       "grid_template_areas": null,
       "grid_template_columns": null,
       "grid_template_rows": null,
       "height": null,
       "justify_content": null,
       "justify_items": null,
       "left": null,
       "margin": null,
       "max_height": null,
       "max_width": null,
       "min_height": null,
       "min_width": null,
       "object_fit": null,
       "object_position": null,
       "order": null,
       "overflow": null,
       "padding": null,
       "right": null,
       "top": null,
       "visibility": null,
       "width": null
      }
     }
    },
    "version_major": 2,
    "version_minor": 0
   }
  }
 },
 "nbformat": 4,
 "nbformat_minor": 5
}
