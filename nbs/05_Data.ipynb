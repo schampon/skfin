{
 "cells": [
  {
   "cell_type": "markdown",
   "id": "7da956d6",
   "metadata": {},
   "source": [
    "# Data"
   ]
  },
  {
   "cell_type": "code",
   "execution_count": null,
   "id": "60c1db02",
   "metadata": {
    "execution": {
     "iopub.execute_input": "2024-11-07T16:50:01.944272Z",
     "iopub.status.busy": "2024-11-07T16:50:01.943866Z",
     "iopub.status.idle": "2024-11-07T16:50:02.899167Z",
     "shell.execute_reply": "2024-11-07T16:50:02.898581Z"
    },
    "tags": []
   },
   "outputs": [],
   "source": [
    "# hide\n",
    "%load_ext autoreload\n",
    "%autoreload 2\n",
    "%matplotlib inline\n",
    "\n",
    "import numpy as np\n",
    "import pandas as pd\n",
    "from IPython.display import Image, display"
   ]
  },
  {
   "cell_type": "markdown",
   "id": "7b62f48e",
   "metadata": {},
   "source": [
    "In the prevous section, we described hedge funds, and more generally the buy-side industry, as `consumers of data`. In practice hedge funds have been a beneficiary of the exponential growth in the number of available datasets. We first describe the main classes of datasets that have been made available in the industry. We then introduce some of the illustrative `toy` datasets that will be used across notebooks. "
   ]
  },
  {
   "cell_type": "markdown",
   "id": "04d7f490",
   "metadata": {},
   "source": [
    "## Data deluge"
   ]
  },
  {
   "cell_type": "markdown",
   "id": "afc6a31c",
   "metadata": {},
   "source": [
    "There are now sensors everywhere in the physical world and most of the online interactions are tracked -- leading a `data deluge` (e.g. see [Mary Meeker (2018)](http://www.kpcb.com/internet-trends) on internet trends or [Lori Lewis (2022)](https://www.allaccess.com/merge/archive/31294/infographic-what-happens-in-an-internet-minute)). On the one hand, the cost of sensors has dropped so much that these sensors can be put practically everywhere and record data from the physicial world. On the other hand, the volume and velocity of data only has also exploded. "
   ]
  },
  {
   "cell_type": "code",
   "execution_count": null,
   "id": "fcb979f2",
   "metadata": {
    "execution": {
     "iopub.execute_input": "2024-11-07T16:50:02.902233Z",
     "iopub.status.busy": "2024-11-07T16:50:02.901903Z",
     "iopub.status.idle": "2024-11-07T16:50:02.972613Z",
     "shell.execute_reply": "2024-11-07T16:50:02.972082Z"
    },
    "tags": []
   },
   "outputs": [],
   "source": [
    "# hide\n",
    "# sidebyside\n",
    "display(\n",
    "    Image(\"images/sensors.PNG\", width=500),\n",
    "    Image(\"images/internet_minute_2020.png\", width=400),\n",
    ")"
   ]
  },
  {
   "cell_type": "markdown",
   "id": "ccf4420e",
   "metadata": {},
   "source": [
    "### Data scouting"
   ]
  },
  {
   "cell_type": "markdown",
   "id": "03173a56",
   "metadata": {},
   "source": [
    "The article \"Hedge funds see a gold rush is data mining\" [FT (08/28/2017)](https://www.ft.com/content/d86ad460-8802-11e7-bf50-e1c239b45787) describes use-cases associated with four types of alternative data: \n",
    "\n",
    "- web traffic \n",
    "\n",
    "- credit card transaction\n",
    "\n",
    "- geolocalisation \n",
    "\n",
    "- satellite imaging \n",
    "\n",
    "In each of these cases, the main idea is to use alternative data to get a noisy, but real-time forecast of company fundamentals (e.g. quarterly  sales). "
   ]
  },
  {
   "cell_type": "code",
   "execution_count": null,
   "id": "b10dfda4",
   "metadata": {
    "execution": {
     "iopub.execute_input": "2024-11-07T16:50:02.987479Z",
     "iopub.status.busy": "2024-11-07T16:50:02.987224Z",
     "iopub.status.idle": "2024-11-07T16:50:03.087793Z",
     "shell.execute_reply": "2024-11-07T16:50:03.087252Z"
    },
    "tags": []
   },
   "outputs": [],
   "source": [
    "# hide\n",
    "display(Image(\"images/ftalternativedata.png\", width=700))"
   ]
  },
  {
   "cell_type": "markdown",
   "id": "3c4c8819-24bc-4502-98a8-d84978b9ba22",
   "metadata": {},
   "source": [
    "Obviously, predicting company fundamentals is only part of the story of what drives stock prices in financial markets. On the other side, understanding the market participants, in particular retail traders, is also important as shown in China [Bloomberg (06/15/2019)](https://www.bloomberg.com/news/articles/2019-05-15/quants-think-like-amateurs-in-the-world-s-wildest-stock-market) or in the US with the Game Stop saga [FT(01/29/2021)](https://www.ft.com/content/04477ee8-0af2-4f0f-a331-2987444892c3). "
   ]
  },
  {
   "cell_type": "code",
   "execution_count": null,
   "id": "1ff248c1",
   "metadata": {
    "execution": {
     "iopub.execute_input": "2024-11-07T16:50:03.118883Z",
     "iopub.status.busy": "2024-11-07T16:50:03.118616Z",
     "iopub.status.idle": "2024-11-07T16:50:03.193101Z",
     "shell.execute_reply": "2024-11-07T16:50:03.192624Z"
    },
    "tags": []
   },
   "outputs": [],
   "source": [
    "# hide\n",
    "# sidebyside\n",
    "display(\n",
    "    Image(\"images/bloomberg_investing_in_china.png\", width=600),\n",
    "    Image(\"images/game_stop.png\", width=600),\n",
    ")"
   ]
  },
  {
   "cell_type": "markdown",
   "id": "3212b6ca-8530-42bc-a828-841174308c3c",
   "metadata": {},
   "source": [
    "More recent examples are more sophisticated and creativity for where to look is key. "
   ]
  },
  {
   "cell_type": "code",
   "execution_count": null,
   "id": "65a7e8ae-00cf-4be5-80da-d9dced3d2165",
   "metadata": {
    "execution": {
     "iopub.execute_input": "2024-11-07T16:50:03.201350Z",
     "iopub.status.busy": "2024-11-07T16:50:03.201037Z",
     "iopub.status.idle": "2024-11-07T16:50:03.246230Z",
     "shell.execute_reply": "2024-11-07T16:50:03.245783Z"
    }
   },
   "outputs": [],
   "source": [
    "# hide\n",
    "display(Image(\"images/ft_sec_as_data.png\", width=600))"
   ]
  },
  {
   "cell_type": "markdown",
   "id": "0dc30aef",
   "metadata": {},
   "source": [
    "### ML research"
   ]
  },
  {
   "cell_type": "markdown",
   "id": "a4e3cac5",
   "metadata": {},
   "source": [
    "ML research has become a race with new ideas coming out with an increasing speed -- e.g. as illustrated by the number of papers published on the scientific paper repository arxiv.com ([Jeff Dean (06/02/2019)](https://twitter.com/JeffDean/status/1135114657344237568)). "
   ]
  },
  {
   "cell_type": "code",
   "execution_count": null,
   "id": "6b78070a",
   "metadata": {
    "execution": {
     "iopub.execute_input": "2024-11-07T16:50:03.253239Z",
     "iopub.status.busy": "2024-11-07T16:50:03.253029Z",
     "iopub.status.idle": "2024-11-07T16:50:03.286240Z",
     "shell.execute_reply": "2024-11-07T16:50:03.285826Z"
    },
    "tags": []
   },
   "outputs": [],
   "source": [
    "# hide\n",
    "display(Image(\"images/mlarxiv2.png\", width=600))"
   ]
  },
  {
   "cell_type": "markdown",
   "id": "5862e9b9",
   "metadata": {},
   "source": [
    "The success of deep-learning depends on: i) model capacity, ii) computational power, iii) dataset  size. [Sun, Shrivastava, Singh, Gupta (2017)](https://arxiv.org/abs/1707.02968) note that the size of the largest dataset has remained somewhat constant over the last few years. "
   ]
  },
  {
   "cell_type": "code",
   "execution_count": null,
   "id": "f3da419b",
   "metadata": {
    "execution": {
     "iopub.execute_input": "2024-11-07T16:50:03.290786Z",
     "iopub.status.busy": "2024-11-07T16:50:03.290519Z",
     "iopub.status.idle": "2024-11-07T16:50:03.319788Z",
     "shell.execute_reply": "2024-11-07T16:50:03.319386Z"
    },
    "tags": []
   },
   "outputs": [],
   "source": [
    "# hide\n",
    "# sidebyside\n",
    "display(\n",
    "    Image(\"images/unreasonableEffectiveness.PNG\", width=300),\n",
    "    Image(\"images/unreasonableEffectiveness2.PNG\", width=300),\n",
    ")"
   ]
  },
  {
   "cell_type": "markdown",
   "id": "95a70df4-2c33-48fd-8c54-b47e8affed5c",
   "metadata": {},
   "source": [
    "Here are several trends from the Stanford's AI index report: \n",
    "\n",
    "- The training costs for cutting-edge AI models have skyrocketed, with OpenAI's GPT-4 and Google's Gemini Ultra costing \\\\$78m and \\\\$191m, respectively.\n",
    "- AI projects on GitHub have surged from 845 in 2011 to about 1.8m in 2023, with a 59.3% increase in 2023 alone.\n",
    "- As language models have rapidly advanced, surpassing human performance on numerous benchmarks, there has been a growing need for more robust and wide-ranging evaluation methods -- with the Holistic Evaluation of Language Models (HELM) providing a comprehensive framework .\n",
    "-  Introduced by OpenAI researchers in 2021, HumanEval is a benchmark for assessing the coding abilities of AI systems. A variant of the GPT-4 model, AgentCoder, is currently leading in HumanEval performance. "
   ]
  },
  {
   "cell_type": "code",
   "execution_count": null,
   "id": "13199581",
   "metadata": {
    "execution": {
     "iopub.execute_input": "2024-11-07T16:50:03.322111Z",
     "iopub.status.busy": "2024-11-07T16:50:03.321746Z",
     "iopub.status.idle": "2024-11-07T16:50:03.337670Z",
     "shell.execute_reply": "2024-11-07T16:50:03.337275Z"
    },
    "tags": []
   },
   "outputs": [],
   "source": [
    "# hide\n",
    "display(Image(\"images/nlp_model_size2.png\", width=800))"
   ]
  },
  {
   "cell_type": "code",
   "execution_count": null,
   "id": "da5e629e-70cc-436e-93d8-20e40d6f808d",
   "metadata": {
    "execution": {
     "iopub.execute_input": "2024-11-07T16:50:03.339698Z",
     "iopub.status.busy": "2024-11-07T16:50:03.339335Z",
     "iopub.status.idle": "2024-11-07T16:50:03.354316Z",
     "shell.execute_reply": "2024-11-07T16:50:03.353935Z"
    }
   },
   "outputs": [],
   "source": [
    "# hide\n",
    "display(Image(\"images/nlp_model_cost.png\", width=800))"
   ]
  },
  {
   "cell_type": "code",
   "execution_count": null,
   "id": "325edfa8-25e1-47fa-a468-634bf565925a",
   "metadata": {
    "execution": {
     "iopub.execute_input": "2024-11-07T16:50:03.356218Z",
     "iopub.status.busy": "2024-11-07T16:50:03.355956Z",
     "iopub.status.idle": "2024-11-07T16:50:03.371008Z",
     "shell.execute_reply": "2024-11-07T16:50:03.370622Z"
    }
   },
   "outputs": [],
   "source": [
    "# hide\n",
    "display(Image(\"images/ai_understanding.png\", width=800))"
   ]
  },
  {
   "cell_type": "code",
   "execution_count": null,
   "id": "7c7c996c-0085-4473-963c-4a710a02746e",
   "metadata": {
    "execution": {
     "iopub.execute_input": "2024-11-07T16:50:03.372985Z",
     "iopub.status.busy": "2024-11-07T16:50:03.372631Z",
     "iopub.status.idle": "2024-11-07T16:50:03.387532Z",
     "shell.execute_reply": "2024-11-07T16:50:03.387151Z"
    }
   },
   "outputs": [],
   "source": [
    "# hide\n",
    "display(Image(\"images/ai_adoption.png\", width=800))"
   ]
  },
  {
   "cell_type": "markdown",
   "id": "a37a52de",
   "metadata": {},
   "source": [
    "## Datasets"
   ]
  },
  {
   "cell_type": "markdown",
   "id": "1861fa59",
   "metadata": {},
   "source": [
    "In particular, we look at several sources of data:\n",
    "\n",
    "- Ken French's data library\n",
    "\n",
    "- Berkshire Hathaway financials \n",
    "\n",
    "- Stock returns \n",
    "\n",
    "- Federal Open Market Committee (FOMC) statements\n",
    "\n",
    "- the sentiment dictionary created by Loughran and McDonalds \n",
    "\n",
    "- US filings to the U.S. Securities and Exchange Commission (SEC) called 10Qs and 10Ks\n",
    "\n",
    "- Long term stock market data put together by Amit Goyal"
   ]
  },
  {
   "cell_type": "markdown",
   "id": "f2cae352-b391-4f6a-8837-731ba04ff37b",
   "metadata": {},
   "source": [
    "### data helper functions"
   ]
  },
  {
   "cell_type": "markdown",
   "id": "d7c08224-611d-4727-8ba2-940b679deea4",
   "metadata": {},
   "source": [
    "In this section, we use the `jupyter` command `%%writefile` to construct a module of data helper function. "
   ]
  },
  {
   "cell_type": "code",
   "execution_count": null,
   "id": "0a4acb92",
   "metadata": {
    "code_folding": [
     236
    ],
    "execution": {
     "iopub.execute_input": "2024-11-07T16:50:03.389835Z",
     "iopub.status.busy": "2024-11-07T16:50:03.389667Z",
     "iopub.status.idle": "2024-11-07T16:50:03.409638Z",
     "shell.execute_reply": "2024-11-07T16:50:03.409223Z"
    }
   },
   "outputs": [],
   "source": [
    "%%writefile ../skfin/datasets.py\n",
    "import logging\n",
    "import os\n",
    "import re\n",
    "import subprocess\n",
    "import sys\n",
    "import warnings\n",
    "from io import BytesIO\n",
    "from zipfile import ZipFile\n",
    "\n",
    "import numpy as np\n",
    "import pandas as pd\n",
    "import requests\n",
    "from bs4 import BeautifulSoup\n",
    "from tqdm.auto import tqdm\n",
    "\n",
    "warnings.filterwarnings(\"ignore\", category=UserWarning, module=\"openpyxl\")\n",
    "\n",
    "\n",
    "from skfin.data_utils import clean_directory_path, load_dict, save_dict\n",
    "from skfin.dataset_dates import load_fomc_change_date\n",
    "from skfin.dataset_mappings import mapping_10X, symbol_dict\n",
    "\n",
    "#import ssl\n",
    "#ssl._create_default_https_context = ssl._create_unverified_context\n",
    "\n",
    "logging.basicConfig(stream=sys.stdout, level=logging.INFO)\n",
    "logger = logging.getLogger(__name__)\n",
    "\n",
    "\n",
    "def clean_kf_dataframes(df, multi_df=False):\n",
    "    \"\"\"\n",
    "    extract the annual and monthly dataframes from the csv file with specific formatting\n",
    "    \"\"\"\n",
    "    idx = [-2] + list(np.where(df.notna().sum(axis=1) == 0)[0])\n",
    "    if multi_df:\n",
    "        cols = [\"  Average Value Weighted Returns -- Monthly\"] + list(\n",
    "            df.loc[df.notna().sum(axis=1) == 0].index\n",
    "        )\n",
    "    returns_data = {\"Annual\": {}, \"Monthly\": {}}\n",
    "    for i in range(len(idx)):\n",
    "        if multi_df:\n",
    "            c_ = (\n",
    "                cols[i]\n",
    "                .replace(\"-- Annual\", \"\")\n",
    "                .replace(\"-- Monthly\", \"\")\n",
    "                .strip()\n",
    "                .replace(\"/\", \" \")\n",
    "                .replace(\" \", \"_\")\n",
    "            )\n",
    "        if i != len(idx) - 1:\n",
    "            v = df.iloc[idx[i] + 2 : idx[i + 1] - 1].astype(float)\n",
    "            v.index = v.index.str.strip()\n",
    "            if len(v) != 0:\n",
    "                if len(v.index[0]) == 6:\n",
    "                    v.index = pd.to_datetime(v.index, format=\"%Y%m\")\n",
    "                    if multi_df:\n",
    "                        returns_data[\"Monthly\"][c_] = v\n",
    "                    else:\n",
    "                        returns_data[\"Monthly\"] = v\n",
    "                    continue\n",
    "                if len(v.index[0]) == 4:\n",
    "                    v.index = pd.to_datetime(v.index, format=\"%Y\")\n",
    "                    if multi_df:\n",
    "                        returns_data[\"Annual\"][c_] = v\n",
    "                    else:\n",
    "                        returns_data[\"Annual\"] = v\n",
    "    return returns_data\n",
    "\n",
    "\n",
    "def load_kf_returns(\n",
    "    filename=\"12_Industry_Portfolios\", cache_dir=\"data\", force_reload=False\n",
    "):\n",
    "    \"\"\"\n",
    "    industry returns from Ken French:\n",
    "    https://mba.tuck.dartmouth.edu/pages/faculty/ken.french/data_library.html\n",
    "    \"\"\"\n",
    "\n",
    "    if filename == \"12_Industry_Portfolios\":\n",
    "        skiprows, multi_df = 11, True\n",
    "    if filename == \"F-F_Research_Data_Factors\":\n",
    "        skiprows, multi_df = 3, False\n",
    "    if filename == \"F-F_Momentum_Factor\":\n",
    "        skiprows, multi_df = 13, False\n",
    "    if filename == \"F-F_Research_Data_Factors_daily\":\n",
    "        skiprows, multi_df = 4, False\n",
    "\n",
    "    output_dir = clean_directory_path(cache_dir) / filename\n",
    "    if (output_dir.is_dir()) & (~force_reload):\n",
    "        logger.info(f\"logging from cache directory: {output_dir}\")\n",
    "        returns_data = load_dict(output_dir)\n",
    "    else:\n",
    "        logger.info(\"loading from external source\")\n",
    "        path = (\n",
    "            \"http://mba.tuck.dartmouth.edu/pages/faculty/ken.french/ftp/\"\n",
    "            + filename\n",
    "            + \"_CSV.zip\"\n",
    "        )\n",
    "        r = requests.get(path)\n",
    "        files = ZipFile(BytesIO(r.content))\n",
    "\n",
    "        df = pd.read_csv(files.open(filename + \".CSV\"), skiprows=skiprows, index_col=0)\n",
    "        if \"daily\" in filename:\n",
    "            returns_data = {\n",
    "                \"Daily\": df.iloc[:-1].pipe(\n",
    "                    lambda x: x.set_index(pd.to_datetime(x.index))\n",
    "                )\n",
    "            }\n",
    "        else:\n",
    "            returns_data = clean_kf_dataframes(df, multi_df=multi_df)\n",
    "\n",
    "        logger.info(f\"saving in cache directory {output_dir}\")\n",
    "        save_dict(returns_data, output_dir)\n",
    "    return returns_data\n",
    "\n",
    "\n",
    "def load_buffets_data(cache_dir=\"data\", force_reload=False):\n",
    "    \"\"\"\n",
    "    data from Stephen Lihn: site: https://github.com/slihn\n",
    "    \"\"\"\n",
    "    filename = clean_directory_path(cache_dir) / \"ffdata_brk13f.parquet\"\n",
    "\n",
    "    if (filename.is_file()) & (~force_reload):\n",
    "        logger.info(f\"logging from cache directory: {filename}\")\n",
    "        df = pd.read_parquet(filename)\n",
    "\n",
    "    else:\n",
    "        logger.info(\"loading from external source\")\n",
    "        path = \"https://github.com/slihn/buffetts_alpha_R/archive/master.zip\"\n",
    "        r = requests.get(path) #, verify=False)\n",
    "        files = ZipFile(BytesIO(r.content))\n",
    "\n",
    "        df = pd.read_csv(\n",
    "            files.open(\"buffetts_alpha_R-master/ffdata_brk13f.csv\"), index_col=0\n",
    "        )\n",
    "        df.index = pd.to_datetime(df.index, format=\"%m/%d/%Y\")\n",
    "        logger.info(f\"saving in cache directory {filename}\")\n",
    "        df.to_parquet(filename)\n",
    "    return df\n",
    "\n",
    "\n",
    "def load_sklearn_stock_returns(cache_dir=\"data\", force_reload=False):\n",
    "    \"\"\"\n",
    "    data from scikit-learn\n",
    "    \"\"\"\n",
    "    filename = clean_directory_path(cache_dir) / \"sklearn_returns.parquet\"\n",
    "    if (filename.is_file()) & (~force_reload):\n",
    "        logger.info(f\"logging from cache directory: {filename}\")\n",
    "        df = pd.read_parquet(filename)\n",
    "\n",
    "    else:\n",
    "        logger.info(\"loading from external source\")\n",
    "        url = \"https://raw.githubusercontent.com/scikit-learn/examples-data/master/financial-data\"\n",
    "        df = (\n",
    "            pd.concat(\n",
    "                {\n",
    "                    c: pd.read_csv(f\"{url}/{c}.csv\", index_col=0, parse_dates=True)[\n",
    "                        \"close\"\n",
    "                    ].diff()\n",
    "                    for c in symbol_dict.keys()\n",
    "                },\n",
    "                axis=1,\n",
    "            )\n",
    "            .asfreq(\"B\")\n",
    "            .iloc[1:]\n",
    "        )\n",
    "\n",
    "        logger.info(f\"saving in cache directory {filename}\")\n",
    "        df.to_parquet(filename)\n",
    "    return df\n",
    "\n",
    "\n",
    "def get_fomc_urls(from_year=1999, switch_year=None):\n",
    "    if switch_year is None:\n",
    "        from datetime import datetime\n",
    "\n",
    "        switch_year = datetime.now().year - 5\n",
    "    calendar_url = \"https://www.federalreserve.gov/monetarypolicy/fomccalendars.htm\"\n",
    "    r = requests.get(calendar_url)\n",
    "    soup = BeautifulSoup(r.text, \"html.parser\")\n",
    "    contents = soup.find_all(\n",
    "        \"a\", href=re.compile(\"^/newsevents/pressreleases/monetary\\d{8}[ax].htm\")\n",
    "    )\n",
    "    urls_ = [content.attrs[\"href\"] for content in contents]\n",
    "\n",
    "    for year in range(from_year, switch_year):\n",
    "        yearly_contents = []\n",
    "        fomc_yearly_url = (\n",
    "            f\"https://www.federalreserve.gov/monetarypolicy/fomchistorical{year}.htm\"\n",
    "        )\n",
    "        r_year = requests.get(fomc_yearly_url)\n",
    "        soup_yearly = BeautifulSoup(r_year.text, \"html.parser\")\n",
    "        yearly_contents = soup_yearly.findAll(\"a\", text=\"Statement\")\n",
    "        for yearly_content in yearly_contents:\n",
    "            urls_.append(yearly_content.attrs[\"href\"])\n",
    "\n",
    "    urls = [\"https://www.federalreserve.gov\" + url for url in urls_]\n",
    "    return urls\n",
    "\n",
    "\n",
    "def sent_cleaner(s):\n",
    "    return s.replace(\"\\n\", \" \").replace(\"\\r\", \" \").replace(\"\\t\", \" \").strip()\n",
    "\n",
    "\n",
    "def bs_cleaner(bs, html_tag_blocked=None):\n",
    "    if html_tag_blocked is None:\n",
    "        html_tag_blocked = [\n",
    "            \"style\",\n",
    "            \"script\",\n",
    "            \"[document]\",\n",
    "            \"meta\",\n",
    "            \"a\",\n",
    "            \"span\",\n",
    "            \"label\",\n",
    "            \"strong\",\n",
    "            \"button\",\n",
    "            \"li\",\n",
    "            \"h6\",\n",
    "            \"font\",\n",
    "            \"h1\",\n",
    "            \"h2\",\n",
    "            \"h3\",\n",
    "            \"h5\",\n",
    "            \"h4\",\n",
    "            \"em\",\n",
    "            \"body\",\n",
    "            \"head\",\n",
    "            \"sup\",\n",
    "        ]\n",
    "    return [\n",
    "        sent_cleaner(t)\n",
    "        for t in bs.find_all(text=True)\n",
    "        if (t.parent.name not in html_tag_blocked) & (len(sent_cleaner(t)) > 0)\n",
    "    ]\n",
    "\n",
    "\n",
    "regexp = re.compile(r\"\\s+\", re.UNICODE)\n",
    "\n",
    "\n",
    "def feature_extraction(corpus, sent_filters=None):\n",
    "    if sent_filters is None:\n",
    "        sent_filters = [\n",
    "            \"Board of Governors\",\n",
    "            \"Federal Reserve System\",\n",
    "            \"20th Street and Constitution Avenue N.W., Washington, DC 20551\",\n",
    "            \"Federal Reserve Board - Federal Reserve issues FOMC statement\",\n",
    "            \"For immediate release\",\n",
    "            \"Federal Reserve Board - FOMC statement\",\n",
    "            \"DO NOT REMOVE:  Wireless Generation\",\n",
    "            \"For media inquiries\",\n",
    "            \"or call 202-452-2955.\",\n",
    "            \"Voting\",\n",
    "            \"For release at\",\n",
    "            \"For immediate release\",\n",
    "            \"Last Update\",\n",
    "            \"Last update\",\n",
    "        ]\n",
    "\n",
    "    text = [\n",
    "        \" \".join(\n",
    "            [\n",
    "                regexp.sub(\" \", s)\n",
    "                for i, s in enumerate(c)\n",
    "                if (i > 1) & np.all([q not in s for q in sent_filters])\n",
    "            ]\n",
    "        )\n",
    "        for c in corpus\n",
    "    ]\n",
    "\n",
    "    release_date = [pd.to_datetime(c[1].replace(\"Release Date: \", \"\")) for c in corpus]\n",
    "    last_update = [\n",
    "        pd.to_datetime(\n",
    "            [\n",
    "                s.replace(\"Last update:\", \"\").replace(\"Last Update:\", \"\").strip()\n",
    "                for s in c\n",
    "                if \"last update: \" in s.lower()\n",
    "            ][0]\n",
    "        )\n",
    "        for c in corpus\n",
    "    ]\n",
    "    voting = [\" \".join([s for s in c if \"Voting\" in s]) for c in corpus]\n",
    "    release_time = [\n",
    "        \" \".join(\n",
    "            [s for s in c if (\"For release at\" in s) | (\"For immediate release\" in s)]\n",
    "        )\n",
    "        for c in corpus\n",
    "    ]\n",
    "\n",
    "    return pd.DataFrame(\n",
    "        {\n",
    "            \"release_date\": release_date,\n",
    "            \"last_update\": last_update,\n",
    "            \"text\": text,\n",
    "            \"voting\": voting,\n",
    "            \"release_time\": release_time,\n",
    "        }\n",
    "    )\n",
    "\n",
    "\n",
    "def load_fomc_statements(\n",
    "    add_url=True, cache_dir=\"data\", force_reload=False, progress_bar=False, from_year=1999\n",
    "):\n",
    "    \"\"\"\n",
    "    https://www.federalreserve.gov/monetarypolicy/fomccalendars.htm\n",
    "    \"\"\"\n",
    "    filename = clean_directory_path(cache_dir) / \"fomc_statements.parquet\"\n",
    "    if (filename.exists()) & (~force_reload):\n",
    "        logger.info(f\"logging from cache file: {filename}\")\n",
    "        statements = pd.read_parquet(filename)\n",
    "    else:\n",
    "        logger.info(\"loading from external source\")\n",
    "        urls = get_fomc_urls(from_year=from_year)\n",
    "        if progress_bar:\n",
    "            urls_ = tqdm(urls)\n",
    "        else:\n",
    "            urls_ = urls\n",
    "        corpus = [\n",
    "            bs_cleaner(BeautifulSoup(requests.get(url).text, \"html.parser\"))\n",
    "            for url in urls_\n",
    "        ]\n",
    "        statements = feature_extraction(corpus).set_index(\"release_date\")\n",
    "        if add_url:\n",
    "            statements = statements.assign(url=urls)\n",
    "        statements = statements.sort_index()\n",
    "        logger.info(f\"saving cache file {filename}\")\n",
    "        statements.to_parquet(filename)\n",
    "    return statements\n",
    "\n",
    "\n",
    "def load_loughran_mcdonald_dictionary(cache_dir=\"data\", force_reload=False):\n",
    "    \"\"\"\n",
    "    Software Repository for Accounting and Finance by Bill McDonald\n",
    "    https://sraf.nd.edu/loughranmcdonald-master-dictionary/\n",
    "    \"\"\"\n",
    "    filename = (\n",
    "        clean_directory_path(cache_dir)\n",
    "        / \"Loughran-McDonald_MasterDictionary_1993-2021.csv\"\n",
    "    )\n",
    "    if (filename.exists()) & (~force_reload):\n",
    "        logger.info(f\"logging from cache file: {filename}\")\n",
    "    else:\n",
    "        logger.info(\"loading from external source\")\n",
    "        id = \"17CmUZM9hGUdGYjCXcjQLyybjTrcjrhik\"\n",
    "        url = f\"https://docs.google.com/uc?export=download&confirm=t&id={id}\"        \n",
    "        subprocess.run(f\"wget -O '{filename}' '{url}'\", shell=True, capture_output=True)\n",
    "    return pd.read_csv(filename)\n",
    "\n",
    "\n",
    "def load_10X_summaries(cache_dir=\"data\", force_reload=False):\n",
    "    \"\"\"\n",
    "    Software Repository for Accounting and Finance by Bill McDonald\n",
    "    https://sraf.nd.edu/sec-edgar-data/\n",
    "    \"\"\"\n",
    "    filename = (\n",
    "        clean_directory_path(cache_dir)\n",
    "        / \"Loughran-McDonald_10X_Summaries_1993-2021.csv\"\n",
    "    )\n",
    "    if (filename.is_file()) & (~force_reload):\n",
    "        logger.info(f\"logging from cache directory: {filename}\")\n",
    "    else:\n",
    "        logger.info(\"loading from external source\")\n",
    "        id = \"1CUzLRwQSZ4aUTfPB9EkRtZ48gPwbCOHA\"\n",
    "        url = f\"https://docs.google.com/uc?export=download&confirm=t&id={id}\"\n",
    "        subprocess.run(f\"wget -O '{filename}' '{url}'\", shell=True, capture_output=True)\n",
    "\n",
    "    df = pd.read_csv(filename).assign(\n",
    "        date=lambda x: pd.to_datetime(x.FILING_DATE, format=\"%Y%m%d\")\n",
    "    )\n",
    "    return df\n",
    "\n",
    "\n",
    "def load_ag_features(cache_dir=\"data\", sheet_name=\"Monthly\", force_reload=False):\n",
    "    \"\"\"\n",
    "    load features from Amit Goyal's website:\n",
    "    https://sites.google.com/view/agoyal145\n",
    "    \"\"\"\n",
    "    filename = clean_directory_path(cache_dir) / \"PredictorData2021.xlsx\"\n",
    "    if (filename.exists()) & (~force_reload):\n",
    "        logger.info(f\"logging from cache file: {filename}\")\n",
    "    else:\n",
    "        id = \"1OArfD2Wv9IvGoLkJ8JyoXS0YMQLDZfY2\"\n",
    "        url = f\"https://docs.google.com/uc?export=download&confirm=t&id={id}\"\n",
    "        subprocess.run(f\"wget -O '{filename}' '{url}'\", shell=True, capture_output=True)\n",
    "    return (\n",
    "        pd.read_excel(filename, sheet_name=sheet_name)\n",
    "        .assign(date=lambda x: pd.to_datetime(x.yyyymm, format=\"%Y%m\"))\n",
    "        .set_index(\"date\")\n",
    "    )"
   ]
  },
  {
   "cell_type": "markdown",
   "id": "941a677c",
   "metadata": {
    "lines_to_next_cell": 2
   },
   "source": [
    "### Ken French data: industry returns"
   ]
  },
  {
   "cell_type": "code",
   "execution_count": null,
   "id": "75f43a66",
   "metadata": {
    "execution": {
     "iopub.execute_input": "2024-11-07T16:50:03.411694Z",
     "iopub.status.busy": "2024-11-07T16:50:03.411327Z",
     "iopub.status.idle": "2024-11-07T16:50:04.070129Z",
     "shell.execute_reply": "2024-11-07T16:50:04.069627Z"
    },
    "tags": []
   },
   "outputs": [],
   "source": [
    "from skfin.datasets import (\n",
    "    load_buffets_data,\n",
    "    load_kf_returns,\n",
    "    load_sklearn_stock_returns,\n",
    ")"
   ]
  },
  {
   "cell_type": "code",
   "execution_count": null,
   "id": "66d007ad",
   "metadata": {
    "execution": {
     "iopub.execute_input": "2024-11-07T16:50:04.073018Z",
     "iopub.status.busy": "2024-11-07T16:50:04.072597Z",
     "iopub.status.idle": "2024-11-07T16:50:04.971698Z",
     "shell.execute_reply": "2024-11-07T16:50:04.971231Z"
    },
    "tags": []
   },
   "outputs": [],
   "source": [
    "%%time\n",
    "returns_data = load_kf_returns(filename=\"12_Industry_Portfolios\", force_reload=True)"
   ]
  },
  {
   "cell_type": "markdown",
   "id": "95c37d42",
   "metadata": {},
   "source": [
    "Reloading from a cache directory is faster!"
   ]
  },
  {
   "cell_type": "code",
   "execution_count": null,
   "id": "d5ab5acf",
   "metadata": {
    "execution": {
     "iopub.execute_input": "2024-11-07T16:50:04.974055Z",
     "iopub.status.busy": "2024-11-07T16:50:04.973713Z",
     "iopub.status.idle": "2024-11-07T16:50:05.029335Z",
     "shell.execute_reply": "2024-11-07T16:50:05.028818Z"
    },
    "tags": []
   },
   "outputs": [],
   "source": [
    "%%time\n",
    "returns_data = load_kf_returns(filename=\"12_Industry_Portfolios\", force_reload=False)"
   ]
  },
  {
   "cell_type": "code",
   "execution_count": null,
   "id": "770775d4",
   "metadata": {
    "execution": {
     "iopub.execute_input": "2024-11-07T16:50:05.031711Z",
     "iopub.status.busy": "2024-11-07T16:50:05.031473Z",
     "iopub.status.idle": "2024-11-07T16:50:05.062682Z",
     "shell.execute_reply": "2024-11-07T16:50:05.062234Z"
    },
    "tags": []
   },
   "outputs": [],
   "source": [
    "returns_data_SMB_HML = load_kf_returns(filename=\"F-F_Research_Data_Factors\")"
   ]
  },
  {
   "cell_type": "code",
   "execution_count": null,
   "id": "5ec591c6",
   "metadata": {
    "execution": {
     "iopub.execute_input": "2024-11-07T16:50:05.064926Z",
     "iopub.status.busy": "2024-11-07T16:50:05.064594Z",
     "iopub.status.idle": "2024-11-07T16:50:05.092965Z",
     "shell.execute_reply": "2024-11-07T16:50:05.092522Z"
    },
    "tags": []
   },
   "outputs": [],
   "source": [
    "returns_data_MOM = load_kf_returns(filename=\"F-F_Momentum_Factor\")"
   ]
  },
  {
   "cell_type": "code",
   "execution_count": null,
   "id": "2ebd1cb3",
   "metadata": {
    "execution": {
     "iopub.execute_input": "2024-11-07T16:50:05.095212Z",
     "iopub.status.busy": "2024-11-07T16:50:05.094887Z",
     "iopub.status.idle": "2024-11-07T16:50:05.853082Z",
     "shell.execute_reply": "2024-11-07T16:50:05.852594Z"
    },
    "tags": []
   },
   "outputs": [],
   "source": [
    "returns_data_DAILY = load_kf_returns(filename=\"F-F_Research_Data_Factors_daily\", force_reload=True)[\"Daily\"]"
   ]
  },
  {
   "cell_type": "markdown",
   "id": "3924b345",
   "metadata": {},
   "source": [
    "### Stock returns (2003-2007)"
   ]
  },
  {
   "cell_type": "code",
   "execution_count": null,
   "id": "9b9e64cb",
   "metadata": {
    "execution": {
     "iopub.execute_input": "2024-11-07T16:50:05.855675Z",
     "iopub.status.busy": "2024-11-07T16:50:05.855306Z",
     "iopub.status.idle": "2024-11-07T16:50:19.161898Z",
     "shell.execute_reply": "2024-11-07T16:50:19.161418Z"
    }
   },
   "outputs": [],
   "source": [
    "%%time\n",
    "returns_data = load_sklearn_stock_returns(force_reload=True)"
   ]
  },
  {
   "cell_type": "code",
   "execution_count": null,
   "id": "3d928fe5",
   "metadata": {
    "execution": {
     "iopub.execute_input": "2024-11-07T16:50:19.164303Z",
     "iopub.status.busy": "2024-11-07T16:50:19.163935Z",
     "iopub.status.idle": "2024-11-07T16:50:19.188537Z",
     "shell.execute_reply": "2024-11-07T16:50:19.188125Z"
    }
   },
   "outputs": [],
   "source": [
    "from skfin.datasets import symbol_dict\n",
    "from skfin.metrics import sharpe_ratio\n",
    "from skfin.plot import bar"
   ]
  },
  {
   "cell_type": "code",
   "execution_count": null,
   "id": "a9a93379",
   "metadata": {
    "execution": {
     "iopub.execute_input": "2024-11-07T16:50:19.190661Z",
     "iopub.status.busy": "2024-11-07T16:50:19.190322Z",
     "iopub.status.idle": "2024-11-07T16:50:19.341361Z",
     "shell.execute_reply": "2024-11-07T16:50:19.340913Z"
    }
   },
   "outputs": [],
   "source": [
    "start_date, end_date = returns_data.index[0].strftime(\"%Y-%m-%d\"), returns_data.index[\n",
    "    -1\n",
    "].strftime(\"%Y-%m-%d\")\n",
    "\n",
    "df = (\n",
    "    returns_data.pipe(sharpe_ratio)\n",
    "    .rename(index=symbol_dict)\n",
    "    .sort_values()\n",
    "    .pipe(lambda x: pd.concat([x.head(), x.tail()]))\n",
    ")\n",
    "bar(\n",
    "    df,\n",
    "    horizontal=True,\n",
    "    title=f\"Annualized stock sharpe ratio: {start_date} to {end_date}\",\n",
    ")"
   ]
  },
  {
   "cell_type": "markdown",
   "id": "393101a1",
   "metadata": {},
   "source": [
    "### 13F Berkshire Hathaway"
   ]
  },
  {
   "cell_type": "code",
   "execution_count": null,
   "id": "b5ed7f1c-f1bc-4b76-813f-3981b1cd8680",
   "metadata": {
    "execution": {
     "iopub.execute_input": "2024-11-07T16:50:19.343652Z",
     "iopub.status.busy": "2024-11-07T16:50:19.343329Z",
     "iopub.status.idle": "2024-11-07T16:50:19.364531Z",
     "shell.execute_reply": "2024-11-07T16:50:19.364121Z"
    }
   },
   "outputs": [],
   "source": [
    "#import os; os.environ['REQUESTS_CA_BUNDLE']='/etc/ssl/certs/ca-bundle.crt'"
   ]
  },
  {
   "cell_type": "code",
   "execution_count": null,
   "id": "da65828b",
   "metadata": {
    "execution": {
     "iopub.execute_input": "2024-11-07T16:50:19.366678Z",
     "iopub.status.busy": "2024-11-07T16:50:19.366339Z",
     "iopub.status.idle": "2024-11-07T16:50:20.134418Z",
     "shell.execute_reply": "2024-11-07T16:50:20.133967Z"
    }
   },
   "outputs": [],
   "source": [
    "%%time\n",
    "df = load_buffets_data(force_reload=True)"
   ]
  },
  {
   "cell_type": "markdown",
   "id": "ad9dd860",
   "metadata": {},
   "source": [
    "### FOMC Statements "
   ]
  },
  {
   "cell_type": "code",
   "execution_count": null,
   "id": "52fed889",
   "metadata": {
    "execution": {
     "iopub.execute_input": "2024-11-07T16:50:20.136753Z",
     "iopub.status.busy": "2024-11-07T16:50:20.136393Z",
     "iopub.status.idle": "2024-11-07T16:50:20.158016Z",
     "shell.execute_reply": "2024-11-07T16:50:20.157597Z"
    }
   },
   "outputs": [],
   "source": [
    "from skfin.datasets import load_fomc_statements"
   ]
  },
  {
   "cell_type": "code",
   "execution_count": null,
   "id": "3ec13b85",
   "metadata": {
    "execution": {
     "iopub.execute_input": "2024-11-07T16:50:20.160173Z",
     "iopub.status.busy": "2024-11-07T16:50:20.159885Z",
     "iopub.status.idle": "2024-11-07T16:51:30.997370Z",
     "shell.execute_reply": "2024-11-07T16:51:30.996889Z"
    }
   },
   "outputs": [],
   "source": [
    "%%time\n",
    "statements = load_fomc_statements(force_reload=True)"
   ]
  },
  {
   "cell_type": "code",
   "execution_count": null,
   "id": "9d1e737e",
   "metadata": {
    "execution": {
     "iopub.execute_input": "2024-11-07T16:51:30.999762Z",
     "iopub.status.busy": "2024-11-07T16:51:30.999375Z",
     "iopub.status.idle": "2024-11-07T16:51:31.334817Z",
     "shell.execute_reply": "2024-11-07T16:51:31.334184Z"
    },
    "tags": []
   },
   "outputs": [],
   "source": [
    "%%time\n",
    "statements = load_fomc_statements(force_reload=False)"
   ]
  },
  {
   "cell_type": "markdown",
   "id": "23c91ad0",
   "metadata": {},
   "source": [
    "### Loughran-McDonalds sentiment dictionary and regulartory filing summaries"
   ]
  },
  {
   "cell_type": "code",
   "execution_count": null,
   "id": "42ffa230",
   "metadata": {
    "execution": {
     "iopub.execute_input": "2024-11-07T16:51:31.337206Z",
     "iopub.status.busy": "2024-11-07T16:51:31.336848Z",
     "iopub.status.idle": "2024-11-07T16:51:31.358473Z",
     "shell.execute_reply": "2024-11-07T16:51:31.358050Z"
    }
   },
   "outputs": [],
   "source": [
    "from skfin.datasets import load_loughran_mcdonald_dictionary, load_10X_summaries"
   ]
  },
  {
   "cell_type": "code",
   "execution_count": null,
   "id": "a4d0f75d-280c-4cc3-b7f6-15105ee32352",
   "metadata": {
    "execution": {
     "iopub.execute_input": "2024-11-07T16:51:31.360701Z",
     "iopub.status.busy": "2024-11-07T16:51:31.360416Z",
     "iopub.status.idle": "2024-11-07T16:51:34.713360Z",
     "shell.execute_reply": "2024-11-07T16:51:34.712844Z"
    }
   },
   "outputs": [],
   "source": [
    "%%time\n",
    "filing_summaries = load_10X_summaries(force_reload=False)"
   ]
  },
  {
   "cell_type": "code",
   "execution_count": null,
   "id": "e7a17a68",
   "metadata": {
    "execution": {
     "iopub.execute_input": "2024-11-07T16:51:34.715807Z",
     "iopub.status.busy": "2024-11-07T16:51:34.715456Z",
     "iopub.status.idle": "2024-11-07T16:51:34.870947Z",
     "shell.execute_reply": "2024-11-07T16:51:34.870434Z"
    },
    "tags": []
   },
   "outputs": [],
   "source": [
    "%%time\n",
    "lm = load_loughran_mcdonald_dictionary(force_reload=False)"
   ]
  },
  {
   "cell_type": "markdown",
   "id": "f406d437-3a07-4765-b7a0-1fd2800c752a",
   "metadata": {},
   "source": [
    "### Goyal long-term market data"
   ]
  },
  {
   "cell_type": "code",
   "execution_count": null,
   "id": "bdcb9de1-d99f-4ca3-a1fd-2b2d251f585c",
   "metadata": {
    "execution": {
     "iopub.execute_input": "2024-11-07T16:51:34.873374Z",
     "iopub.status.busy": "2024-11-07T16:51:34.873040Z",
     "iopub.status.idle": "2024-11-07T16:51:34.895249Z",
     "shell.execute_reply": "2024-11-07T16:51:34.894812Z"
    },
    "tags": []
   },
   "outputs": [],
   "source": [
    "from skfin.datasets import load_ag_features"
   ]
  },
  {
   "cell_type": "code",
   "execution_count": null,
   "id": "921a37d4-85be-421a-8717-faf482be84a3",
   "metadata": {
    "execution": {
     "iopub.execute_input": "2024-11-07T16:51:34.897353Z",
     "iopub.status.busy": "2024-11-07T16:51:34.897053Z",
     "iopub.status.idle": "2024-11-07T16:51:35.473582Z",
     "shell.execute_reply": "2024-11-07T16:51:35.473070Z"
    },
    "tags": []
   },
   "outputs": [],
   "source": [
    "%%time \n",
    "ag = load_ag_features(force_reload=False)"
   ]
  }
 ],
 "metadata": {
  "hide_input": false,
  "jupytext": {
   "encoding": "# -*- coding: utf-8 -*-"
  },
  "kernelspec": {
   "display_name": "skfin 2024",
   "language": "python",
   "name": "skfin"
  },
  "language_info": {
   "codemirror_mode": {
    "name": "ipython",
    "version": 3
   },
   "file_extension": ".py",
   "mimetype": "text/x-python",
   "name": "python",
   "nbconvert_exporter": "python",
   "pygments_lexer": "ipython3",
   "version": "3.9.20"
  },
  "toc": {
   "base_numbering": 1,
   "nav_menu": {},
   "number_sections": false,
   "sideBar": true,
   "skip_h1_title": false,
   "title_cell": "Table of Contents",
   "title_sidebar": "Contents",
   "toc_cell": false,
   "toc_position": {},
   "toc_section_display": true,
   "toc_window_display": false
  },
  "widgets": {
   "application/vnd.jupyter.widget-state+json": {
    "state": {
     "021bcaf7e33f4de8870d26c821068e8e": {
      "model_module": "@jupyter-widgets/base",
      "model_module_version": "2.0.0",
      "model_name": "LayoutModel",
      "state": {
       "_model_module": "@jupyter-widgets/base",
       "_model_module_version": "2.0.0",
       "_model_name": "LayoutModel",
       "_view_count": null,
       "_view_module": "@jupyter-widgets/base",
       "_view_module_version": "2.0.0",
       "_view_name": "LayoutView",
       "align_content": null,
       "align_items": null,
       "align_self": null,
       "border_bottom": null,
       "border_left": null,
       "border_right": null,
       "border_top": null,
       "bottom": null,
       "display": null,
       "flex": null,
       "flex_flow": null,
       "grid_area": null,
       "grid_auto_columns": null,
       "grid_auto_flow": null,
       "grid_auto_rows": null,
       "grid_column": null,
       "grid_gap": null,
       "grid_row": null,
       "grid_template_areas": null,
       "grid_template_columns": null,
       "grid_template_rows": null,
       "height": null,
       "justify_content": null,
       "justify_items": null,
       "left": null,
       "margin": null,
       "max_height": null,
       "max_width": null,
       "min_height": null,
       "min_width": null,
       "object_fit": null,
       "object_position": null,
       "order": null,
       "overflow": null,
       "padding": null,
       "right": null,
       "top": null,
       "visibility": null,
       "width": null
      }
     },
     "190d506b0e394e518e07094de48539bb": {
      "model_module": "@jupyter-widgets/controls",
      "model_module_version": "2.0.0",
      "model_name": "HBoxModel",
      "state": {
       "_dom_classes": [],
       "_model_module": "@jupyter-widgets/controls",
       "_model_module_version": "2.0.0",
       "_model_name": "HBoxModel",
       "_view_count": null,
       "_view_module": "@jupyter-widgets/controls",
       "_view_module_version": "2.0.0",
       "_view_name": "HBoxView",
       "box_style": "",
       "children": [
        "IPY_MODEL_a6f763ba48f844fd9e4d3ed4170ad269",
        "IPY_MODEL_6ddab019338d46e5a5f12fc6f9b3ac32",
        "IPY_MODEL_7be640fb18954e37ac374372f98e285f"
       ],
       "layout": "IPY_MODEL_6f37101d3f284c78aedac1848a74f6bb",
       "tabbable": null,
       "tooltip": null
      }
     },
     "3109fc9d7c4149b5a801535f6b6f647a": {
      "model_module": "@jupyter-widgets/controls",
      "model_module_version": "2.0.0",
      "model_name": "ProgressStyleModel",
      "state": {
       "_model_module": "@jupyter-widgets/controls",
       "_model_module_version": "2.0.0",
       "_model_name": "ProgressStyleModel",
       "_view_count": null,
       "_view_module": "@jupyter-widgets/base",
       "_view_module_version": "2.0.0",
       "_view_name": "StyleView",
       "bar_color": null,
       "description_width": ""
      }
     },
     "3f8586a1d1e4412da041d634db61b847": {
      "model_module": "@jupyter-widgets/controls",
      "model_module_version": "2.0.0",
      "model_name": "HTMLStyleModel",
      "state": {
       "_model_module": "@jupyter-widgets/controls",
       "_model_module_version": "2.0.0",
       "_model_name": "HTMLStyleModel",
       "_view_count": null,
       "_view_module": "@jupyter-widgets/base",
       "_view_module_version": "2.0.0",
       "_view_name": "StyleView",
       "background": null,
       "description_width": "",
       "font_size": null,
       "text_color": null
      }
     },
     "516039fbd0bd43e098419b6a52bbbf9d": {
      "model_module": "@jupyter-widgets/base",
      "model_module_version": "2.0.0",
      "model_name": "LayoutModel",
      "state": {
       "_model_module": "@jupyter-widgets/base",
       "_model_module_version": "2.0.0",
       "_model_name": "LayoutModel",
       "_view_count": null,
       "_view_module": "@jupyter-widgets/base",
       "_view_module_version": "2.0.0",
       "_view_name": "LayoutView",
       "align_content": null,
       "align_items": null,
       "align_self": null,
       "border_bottom": null,
       "border_left": null,
       "border_right": null,
       "border_top": null,
       "bottom": null,
       "display": null,
       "flex": null,
       "flex_flow": null,
       "grid_area": null,
       "grid_auto_columns": null,
       "grid_auto_flow": null,
       "grid_auto_rows": null,
       "grid_column": null,
       "grid_gap": null,
       "grid_row": null,
       "grid_template_areas": null,
       "grid_template_columns": null,
       "grid_template_rows": null,
       "height": null,
       "justify_content": null,
       "justify_items": null,
       "left": null,
       "margin": null,
       "max_height": null,
       "max_width": null,
       "min_height": null,
       "min_width": null,
       "object_fit": null,
       "object_position": null,
       "order": null,
       "overflow": null,
       "padding": null,
       "right": null,
       "top": null,
       "visibility": null,
       "width": null
      }
     },
     "6ddab019338d46e5a5f12fc6f9b3ac32": {
      "model_module": "@jupyter-widgets/controls",
      "model_module_version": "2.0.0",
      "model_name": "FloatProgressModel",
      "state": {
       "_dom_classes": [],
       "_model_module": "@jupyter-widgets/controls",
       "_model_module_version": "2.0.0",
       "_model_name": "FloatProgressModel",
       "_view_count": null,
       "_view_module": "@jupyter-widgets/controls",
       "_view_module_version": "2.0.0",
       "_view_name": "ProgressView",
       "bar_style": "success",
       "description": "",
       "description_allow_html": false,
       "layout": "IPY_MODEL_e646105a66e3441a8d99328952d270d9",
       "max": 209,
       "min": 0,
       "orientation": "horizontal",
       "style": "IPY_MODEL_3109fc9d7c4149b5a801535f6b6f647a",
       "tabbable": null,
       "tooltip": null,
       "value": 209
      }
     },
     "6f37101d3f284c78aedac1848a74f6bb": {
      "model_module": "@jupyter-widgets/base",
      "model_module_version": "2.0.0",
      "model_name": "LayoutModel",
      "state": {
       "_model_module": "@jupyter-widgets/base",
       "_model_module_version": "2.0.0",
       "_model_name": "LayoutModel",
       "_view_count": null,
       "_view_module": "@jupyter-widgets/base",
       "_view_module_version": "2.0.0",
       "_view_name": "LayoutView",
       "align_content": null,
       "align_items": null,
       "align_self": null,
       "border_bottom": null,
       "border_left": null,
       "border_right": null,
       "border_top": null,
       "bottom": null,
       "display": null,
       "flex": null,
       "flex_flow": null,
       "grid_area": null,
       "grid_auto_columns": null,
       "grid_auto_flow": null,
       "grid_auto_rows": null,
       "grid_column": null,
       "grid_gap": null,
       "grid_row": null,
       "grid_template_areas": null,
       "grid_template_columns": null,
       "grid_template_rows": null,
       "height": null,
       "justify_content": null,
       "justify_items": null,
       "left": null,
       "margin": null,
       "max_height": null,
       "max_width": null,
       "min_height": null,
       "min_width": null,
       "object_fit": null,
       "object_position": null,
       "order": null,
       "overflow": null,
       "padding": null,
       "right": null,
       "top": null,
       "visibility": null,
       "width": null
      }
     },
     "7be640fb18954e37ac374372f98e285f": {
      "model_module": "@jupyter-widgets/controls",
      "model_module_version": "2.0.0",
      "model_name": "HTMLModel",
      "state": {
       "_dom_classes": [],
       "_model_module": "@jupyter-widgets/controls",
       "_model_module_version": "2.0.0",
       "_model_name": "HTMLModel",
       "_view_count": null,
       "_view_module": "@jupyter-widgets/controls",
       "_view_module_version": "2.0.0",
       "_view_name": "HTMLView",
       "description": "",
       "description_allow_html": false,
       "layout": "IPY_MODEL_021bcaf7e33f4de8870d26c821068e8e",
       "placeholder": "​",
       "style": "IPY_MODEL_3f8586a1d1e4412da041d634db61b847",
       "tabbable": null,
       "tooltip": null,
       "value": " 209/209 [00:56&lt;00:00,  3.98it/s]"
      }
     },
     "8fc4c25c372d4fdc9ecc06f51f1f039f": {
      "model_module": "@jupyter-widgets/controls",
      "model_module_version": "2.0.0",
      "model_name": "HTMLStyleModel",
      "state": {
       "_model_module": "@jupyter-widgets/controls",
       "_model_module_version": "2.0.0",
       "_model_name": "HTMLStyleModel",
       "_view_count": null,
       "_view_module": "@jupyter-widgets/base",
       "_view_module_version": "2.0.0",
       "_view_name": "StyleView",
       "background": null,
       "description_width": "",
       "font_size": null,
       "text_color": null
      }
     },
     "a6f763ba48f844fd9e4d3ed4170ad269": {
      "model_module": "@jupyter-widgets/controls",
      "model_module_version": "2.0.0",
      "model_name": "HTMLModel",
      "state": {
       "_dom_classes": [],
       "_model_module": "@jupyter-widgets/controls",
       "_model_module_version": "2.0.0",
       "_model_name": "HTMLModel",
       "_view_count": null,
       "_view_module": "@jupyter-widgets/controls",
       "_view_module_version": "2.0.0",
       "_view_name": "HTMLView",
       "description": "",
       "description_allow_html": false,
       "layout": "IPY_MODEL_516039fbd0bd43e098419b6a52bbbf9d",
       "placeholder": "​",
       "style": "IPY_MODEL_8fc4c25c372d4fdc9ecc06f51f1f039f",
       "tabbable": null,
       "tooltip": null,
       "value": "100%"
      }
     },
     "e646105a66e3441a8d99328952d270d9": {
      "model_module": "@jupyter-widgets/base",
      "model_module_version": "2.0.0",
      "model_name": "LayoutModel",
      "state": {
       "_model_module": "@jupyter-widgets/base",
       "_model_module_version": "2.0.0",
       "_model_name": "LayoutModel",
       "_view_count": null,
       "_view_module": "@jupyter-widgets/base",
       "_view_module_version": "2.0.0",
       "_view_name": "LayoutView",
       "align_content": null,
       "align_items": null,
       "align_self": null,
       "border_bottom": null,
       "border_left": null,
       "border_right": null,
       "border_top": null,
       "bottom": null,
       "display": null,
       "flex": null,
       "flex_flow": null,
       "grid_area": null,
       "grid_auto_columns": null,
       "grid_auto_flow": null,
       "grid_auto_rows": null,
       "grid_column": null,
       "grid_gap": null,
       "grid_row": null,
       "grid_template_areas": null,
       "grid_template_columns": null,
       "grid_template_rows": null,
       "height": null,
       "justify_content": null,
       "justify_items": null,
       "left": null,
       "margin": null,
       "max_height": null,
       "max_width": null,
       "min_height": null,
       "min_width": null,
       "object_fit": null,
       "object_position": null,
       "order": null,
       "overflow": null,
       "padding": null,
       "right": null,
       "top": null,
       "visibility": null,
       "width": null
      }
     }
    },
    "version_major": 2,
    "version_minor": 0
   }
  }
 },
 "nbformat": 4,
 "nbformat_minor": 5
}
