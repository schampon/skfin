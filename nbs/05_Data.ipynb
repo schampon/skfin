{
 "cells": [
  {
   "cell_type": "markdown",
   "metadata": {},
   "source": [
    "# Data"
   ]
  },
  {
   "cell_type": "code",
   "execution_count": null,
   "metadata": {},
   "outputs": [],
   "source": [
    "#hide \n",
    "%load_ext autoreload\n",
    "%autoreload 2\n",
    "%matplotlib inline\n",
    "\n",
    "import numpy as np\n",
    "import pandas as pd\n",
    "from IPython.display import Image, display"
   ]
  },
  {
   "cell_type": "markdown",
   "metadata": {},
   "source": [
    "In the prevous section, we described hedge funds, and more generally the buy-side industry, as `consumers of data`. In practice hedge funds have been a beneficiary of the exponential growth in the number of available datasets. We first describe the main classes of datasets that have been made available in the industry. We then introduce some of the illustrative `toy` datasets that will be used across notebooks. "
   ]
  },
  {
   "cell_type": "markdown",
   "metadata": {},
   "source": [
    "## Data deluge"
   ]
  },
  {
   "cell_type": "markdown",
   "metadata": {},
   "source": [
    "There are now sensors everywhere in the physical world and most of the online interactions are tracked -- leading a `data deluge\" (e.g. see [Mary Meeker (2018)](http://www.kpcb.com/internet-trends) on internet trends or [Lori Lewis (2022)](https://www.allaccess.com/merge/archive/31294/infographic-what-happens-in-an-internet-minute)). "
   ]
  },
  {
   "cell_type": "code",
   "execution_count": null,
   "metadata": {},
   "outputs": [],
   "source": [
    "#hide\n",
    "#sidebyside\n",
    "display(Image('images/sensors.PNG',width=500), Image('images/internet_minute_2020.png', width=400))"
   ]
  },
  {
   "cell_type": "markdown",
   "metadata": {},
   "source": [
    "### Data scouting"
   ]
  },
  {
   "cell_type": "markdown",
   "metadata": {},
   "source": [
    ">  Alternative data = web + credit card transactions + geolocalisation + satellite imaging\n"
   ]
  },
  {
   "cell_type": "markdown",
   "metadata": {},
   "source": [
    "Two examples on how data is transforming hedgd funds in the Financial Times and Bloomberg: [FT (08/28/2017)](https://www.ft.com/content/d86ad460-8802-11e7-bf50-e1c239b45787) and [Bloomberg (06/15/2019)](https://www.bloomberg.com/news/articles/2019-05-15/quants-think-like-amateurs-in-the-world-s-wildest-stock-market)."
   ]
  },
  {
   "cell_type": "code",
   "execution_count": null,
   "metadata": {},
   "outputs": [],
   "source": [
    "#hide \n",
    "display(Image(\"images/ftalternativedata.png\", width=700))"
   ]
  },
  {
   "cell_type": "code",
   "execution_count": null,
   "metadata": {},
   "outputs": [],
   "source": [
    "#hide \n",
    "#sidebyside\n",
    "display(Image(\"images/bloomberg_investing_in_china.png\", width=600), Image(\"images/gamestop.png\", width=600))"
   ]
  },
  {
   "cell_type": "markdown",
   "metadata": {},
   "source": [
    "### ML research"
   ]
  },
  {
   "cell_type": "markdown",
   "metadata": {},
   "source": [
    "ML research has become a race with new ideas coming out with an increasing speed -- e.g. as illustrated by the number of papers published on the scientific paper repository arxiv.com ([Jeff Dean (06/02/2019)](https://twitter.com/JeffDean/status/1135114657344237568)). "
   ]
  },
  {
   "cell_type": "code",
   "execution_count": null,
   "metadata": {},
   "outputs": [],
   "source": [
    "#hide \n",
    "Image(\"images/mlarxiv2.png\", width=600)        "
   ]
  },
  {
   "cell_type": "markdown",
   "metadata": {},
   "source": [
    "The success of deep-learning depends on: i) model \"capacity\", ii) computational power, iii) dataset  size. [Sun, Shrivastava, Singh, Gupta (2017)](https://arxiv.org/abs/1707.02968) note that the size of the largest dataset has remained somewhat constant over the last few years. "
   ]
  },
  {
   "cell_type": "code",
   "execution_count": null,
   "metadata": {},
   "outputs": [],
   "source": [
    "#hide \n",
    "#sidebyside \n",
    "display(Image('images/unreasonableEffectiveness.PNG',width=300), Image('images/unreasonableEffectiveness2.PNG', width=300))"
   ]
  },
  {
   "cell_type": "markdown",
   "metadata": {},
   "source": [
    "A particular success of deep-learning has been on Natural Language Processing (NLP) and there too,  the size of the largest models has increased dramatically. [Victor Sanh, Lysandre Debut, Julien Chaumond, Thomas Wolf (2019)](https://arxiv.org/pdf/1910.01108.pdf)."
   ]
  },
  {
   "cell_type": "code",
   "execution_count": null,
   "metadata": {},
   "outputs": [],
   "source": [
    "#hide \n",
    "display(Image(\"images/nlp_model_size.png\", width=800))"
   ]
  },
  {
   "cell_type": "markdown",
   "metadata": {},
   "source": [
    "## Datasets"
   ]
  },
  {
   "cell_type": "markdown",
   "metadata": {},
   "source": [
    "In particular, we look at two datasets:\n",
    "\n",
    "- Ken French's data library (https://mba.tuck.dartmouth.edu/pages/faculty/ken.french/data_library.html).\n",
    "\n",
    "- Berkshire Hathaway"
   ]
  },
  {
   "cell_type": "code",
   "execution_count": null,
   "metadata": {
    "code_folding": [
     0,
     236
    ]
   },
   "outputs": [],
   "source": [
    "%%writefile ../skfin/datasets.py\n",
    "import requests\n",
    "import pandas as pd\n",
    "import numpy as np\n",
    "from zipfile import ZipFile\n",
    "from pathlib import Path\n",
    "from io import BytesIO\n",
    "import sys\n",
    "import os\n",
    "import logging\n",
    "import re\n",
    "from bs4 import BeautifulSoup\n",
    "from tqdm.auto import tqdm\n",
    "import gdown\n",
    "import subprocess\n",
    "\n",
    "\n",
    "logging.basicConfig(stream=sys.stdout, level=logging.INFO)\n",
    "logger = logging.getLogger(__name__)\n",
    "\n",
    "\n",
    "def clean_kf_dataframes(df, multi_df=False):\n",
    "    \"\"\"\n",
    "    extract the annual and monthly dataframes from the csv file with specific formatting\n",
    "    \"\"\"\n",
    "    idx = [-2] + list(np.where(df.notna().sum(axis=1) == 0)[0])\n",
    "    if multi_df:\n",
    "        cols = [\"  Average Value Weighted Returns -- Monthly\"] + list(\n",
    "            df.loc[df.notna().sum(axis=1) == 0].index\n",
    "        )\n",
    "    returns_data = {\"Annual\": {}, \"Monthly\": {}}\n",
    "    for i in range(len(idx)):\n",
    "        if multi_df:\n",
    "            c_ = (\n",
    "                cols[i]\n",
    "                .replace(\"-- Annual\", \"\")\n",
    "                .replace(\"-- Monthly\", \"\")\n",
    "                .strip()\n",
    "                .replace(\"/\", \" \")\n",
    "                .replace(\" \", \"_\")\n",
    "            )\n",
    "        if i != len(idx) - 1:\n",
    "            v = df.iloc[idx[i] + 2: idx[i + 1] - 1].astype(float)\n",
    "            v.index = v.index.str.strip()\n",
    "            if len(v) != 0:\n",
    "                if len(v.index[0]) == 6:\n",
    "                    v.index = pd.to_datetime(v.index, format=\"%Y%m\")\n",
    "                    if multi_df:\n",
    "                        returns_data[\"Monthly\"][c_] = v\n",
    "                    else:\n",
    "                        returns_data[\"Monthly\"] = v\n",
    "                    continue\n",
    "                if len(v.index[0]) == 4:\n",
    "                    v.index = pd.to_datetime(v.index, format=\"%Y\")\n",
    "                    if multi_df:\n",
    "                        returns_data[\"Annual\"][c_] = v\n",
    "                    else:\n",
    "                        returns_data[\"Annual\"] = v\n",
    "    return returns_data\n",
    "\n",
    "\n",
    "def load_kf_returns(\n",
    "    filename=\"12_Industry_Portfolios\", cache_dir=None, force_reload=False\n",
    "):\n",
    "    \"\"\"\n",
    "    load industry returns for Ken French website:\n",
    "    https://mba.tuck.dartmouth.edu/pages/faculty/ken.french/data_library.html\n",
    "    \"\"\"\n",
    "\n",
    "    if filename == \"12_Industry_Portfolios\":\n",
    "        skiprows, multi_df = 11, True\n",
    "    if filename == \"F-F_Research_Data_Factors\":\n",
    "        skiprows, multi_df = 3, False\n",
    "    if filename == \"F-F_Momentum_Factor\":\n",
    "        skiprows, multi_df = 13, False\n",
    "    if filename == \"F-F_Research_Data_Factors_daily\":\n",
    "        skiprows, multi_df = 4, False\n",
    "    if cache_dir is None:\n",
    "        cache_dir = Path(os.getcwd()) / \"data\"\n",
    "    if isinstance(cache_dir, str):\n",
    "        cache_dir = Path(cache_dir)\n",
    "    output_dir = cache_dir / filename\n",
    "    if (output_dir.is_dir()) & (~force_reload):\n",
    "        logger.info(f\"logging from cache directory: {output_dir}\")\n",
    "        returns_data = load_dict(output_dir)\n",
    "    else:\n",
    "        logger.info(\"loading from external source\")\n",
    "        path = (\n",
    "            \"http://mba.tuck.dartmouth.edu/pages/faculty/ken.french/ftp/\"\n",
    "            + filename\n",
    "            + \"_CSV.zip\"\n",
    "        )\n",
    "        r = requests.get(path)\n",
    "        files = ZipFile(BytesIO(r.content))\n",
    "\n",
    "        df = pd.read_csv(files.open(filename + \".CSV\"),\n",
    "                         skiprows=skiprows, index_col=0)\n",
    "        if 'daily' in filename: \n",
    "            returns_data = {'Daily': df.iloc[:-1].pipe(lambda x: x.set_index(pd.to_datetime(x.index)))}            \n",
    "        else: \n",
    "            returns_data = clean_kf_dataframes(df, multi_df=multi_df)\n",
    "\n",
    "\n",
    "        logger.info(f\"saving in cache directory {output_dir}\")\n",
    "        save_dict(returns_data, output_dir)\n",
    "    return returns_data\n",
    "\n",
    "\n",
    "def load_buffets_data(cache_dir=None, force_reload=False):\n",
    "    if cache_dir is None:\n",
    "        cache_dir = Path(os.getcwd()) / \"data\"\n",
    "    if isinstance(cache_dir, str):\n",
    "        cache_dir = Path(cache_dir)\n",
    "\n",
    "    filename = cache_dir / \"ffdata_brk13f.parquet\"\n",
    "\n",
    "    if (filename.is_file()) & (~force_reload):\n",
    "        logger.info(f\"logging from cache directory: {filename}\")\n",
    "        df = pd.read_parquet(filename)\n",
    "\n",
    "    else:\n",
    "        logger.info(\"loading from external source\")\n",
    "        path = \"https://github.com/slihn/buffetts_alpha_R/archive/master.zip\"\n",
    "        r = requests.get(path)\n",
    "        files = ZipFile(BytesIO(r.content))\n",
    "\n",
    "        df = pd.read_csv(\n",
    "            files.open(\"buffetts_alpha_R-master/ffdata_brk13f.csv\"), index_col=0\n",
    "        )\n",
    "        df.index = pd.to_datetime(df.index, format=\"%m/%d/%Y\")\n",
    "        logger.info(f\"saving in cache directory {filename}\")\n",
    "        df.to_parquet(filename)\n",
    "    return df\n",
    "\n",
    "\n",
    "symbol_dict = {\n",
    "    \"TOT\": \"Total\",\n",
    "    \"XOM\": \"Exxon\",\n",
    "    \"CVX\": \"Chevron\",\n",
    "    \"COP\": \"ConocoPhillips\",\n",
    "    \"VLO\": \"Valero Energy\",\n",
    "    \"MSFT\": \"Microsoft\",\n",
    "    \"IBM\": \"IBM\",\n",
    "    \"TWX\": \"Time Warner\",\n",
    "    \"CMCSA\": \"Comcast\",\n",
    "    \"CVC\": \"Cablevision\",\n",
    "    \"YHOO\": \"Yahoo\",\n",
    "    \"DELL\": \"Dell\",\n",
    "    \"HPQ\": \"HP\",\n",
    "    \"AMZN\": \"Amazon\",\n",
    "    \"TM\": \"Toyota\",\n",
    "    \"CAJ\": \"Canon\",\n",
    "    \"SNE\": \"Sony\",\n",
    "    \"F\": \"Ford\",\n",
    "    \"HMC\": \"Honda\",\n",
    "    \"NAV\": \"Navistar\",\n",
    "    \"NOC\": \"Northrop Grumman\",\n",
    "    \"BA\": \"Boeing\",\n",
    "    \"KO\": \"Coca Cola\",\n",
    "    \"MMM\": \"3M\",\n",
    "    \"MCD\": \"McDonald's\",\n",
    "    \"PEP\": \"Pepsi\",\n",
    "    \"K\": \"Kellogg\",\n",
    "    \"UN\": \"Unilever\",\n",
    "    \"MAR\": \"Marriott\",\n",
    "    \"PG\": \"Procter Gamble\",\n",
    "    \"CL\": \"Colgate-Palmolive\",\n",
    "    \"GE\": \"General Electrics\",\n",
    "    \"WFC\": \"Wells Fargo\",\n",
    "    \"JPM\": \"JPMorgan Chase\",\n",
    "    \"AIG\": \"AIG\",\n",
    "    \"AXP\": \"American express\",\n",
    "    \"BAC\": \"Bank of America\",\n",
    "    \"GS\": \"Goldman Sachs\",\n",
    "    \"AAPL\": \"Apple\",\n",
    "    \"SAP\": \"SAP\",\n",
    "    \"CSCO\": \"Cisco\",\n",
    "    \"TXN\": \"Texas Instruments\",\n",
    "    \"XRX\": \"Xerox\",\n",
    "    \"WMT\": \"Wal-Mart\",\n",
    "    \"HD\": \"Home Depot\",\n",
    "    \"GSK\": \"GlaxoSmithKline\",\n",
    "    \"PFE\": \"Pfizer\",\n",
    "    \"SNY\": \"Sanofi-Aventis\",\n",
    "    \"NVS\": \"Novartis\",\n",
    "    \"KMB\": \"Kimberly-Clark\",\n",
    "    \"R\": \"Ryder\",\n",
    "    \"GD\": \"General Dynamics\",\n",
    "    \"RTN\": \"Raytheon\",\n",
    "    \"CVS\": \"CVS\",\n",
    "    \"CAT\": \"Caterpillar\",\n",
    "    \"DD\": \"DuPont de Nemours\",\n",
    "}\n",
    "\n",
    "\n",
    "def load_sklearn_stock_returns(cache_dir=None, force_reload=False):\n",
    "    if cache_dir is None:\n",
    "        cache_dir = Path(os.getcwd()) / \"data\"\n",
    "    if isinstance(cache_dir, str):\n",
    "        cache_dir = Path(cache_dir)\n",
    "\n",
    "    filename = cache_dir / \"sklearn_returns.parquet\"\n",
    "\n",
    "    if (filename.is_file()) & (~force_reload):\n",
    "        logger.info(f\"logging from cache directory: {filename}\")\n",
    "        df = pd.read_parquet(filename)\n",
    "\n",
    "    else:\n",
    "        logger.info(\"loading from external source\")\n",
    "        url = \"https://raw.githubusercontent.com/scikit-learn/examples-data/master/financial-data\"\n",
    "        df = (\n",
    "            pd.concat(\n",
    "                {\n",
    "                    c: pd.read_csv(f\"{url}/{c}.csv\", index_col=0, parse_dates=True)[\n",
    "                        \"close\"\n",
    "                    ].diff()\n",
    "                    for c in symbol_dict.keys()\n",
    "                },\n",
    "                axis=1,\n",
    "            )\n",
    "            .asfreq(\"B\")\n",
    "            .iloc[1:]\n",
    "        )\n",
    "\n",
    "        logger.info(f\"saving in cache directory {filename}\")\n",
    "        df.to_parquet(filename)\n",
    "    return df\n",
    "\n",
    "\n",
    "def save_dict(data, output_dir):\n",
    "    assert isinstance(data, dict)\n",
    "    if output_dir.is_dir() is False:\n",
    "        os.mkdir(output_dir)\n",
    "    for k, v in data.items():\n",
    "        if isinstance(v, pd.DataFrame):\n",
    "            v.to_parquet(output_dir / f\"{k}.parquet\")\n",
    "        else:\n",
    "            save_dict(v, output_dir=output_dir / k)\n",
    "\n",
    "\n",
    "def load_dict(input_dir):\n",
    "    data = {}\n",
    "    for o in os.scandir(input_dir):\n",
    "        if o.name.endswith(\".parquet\"):\n",
    "            k = o.name.replace(\".parquet\", \"\")\n",
    "            data[k] = pd.read_parquet(o)\n",
    "        elif o.is_dir:\n",
    "            data[o.name] = load_dict(o)\n",
    "    return data\n",
    "\n",
    "\n",
    "\n",
    "def get_fomc_urls(from_year = 1999, switch_year=None): \n",
    "    if switch_year is None: \n",
    "        from datetime import datetime\n",
    "        switch_year = datetime.now().year - 5 \n",
    "    calendar_url = 'https://www.federalreserve.gov/monetarypolicy/fomccalendars.htm'\n",
    "    r = requests.get(calendar_url)\n",
    "    soup = BeautifulSoup(r.text, 'html.parser')\n",
    "    contents = soup.find_all('a', href=re.compile('^/newsevents/pressreleases/monetary\\d{8}[ax].htm'))\n",
    "    urls_ = [content.attrs['href'] for content in contents]\n",
    "\n",
    "    for year in range(from_year, switch_year):\n",
    "        yearly_contents = []\n",
    "        fomc_yearly_url = f'https://www.federalreserve.gov/monetarypolicy/fomchistorical{year}.htm'\n",
    "        r_year = requests.get(fomc_yearly_url)\n",
    "        soup_yearly = BeautifulSoup(r_year.text, 'html.parser')\n",
    "        yearly_contents = soup_yearly.findAll('a', text='Statement')\n",
    "        for yearly_content in yearly_contents:\n",
    "            urls_.append(yearly_content.attrs['href'])\n",
    "    \n",
    "    urls = ['https://www.federalreserve.gov' + url for url in urls_]\n",
    "    return urls \n",
    "\n",
    "def sent_cleaner(s): \n",
    "    return s.replace('\\n', ' ').replace('\\r', ' ').replace('\\t', ' ').strip() \n",
    "    \n",
    "def bs_cleaner(bs, html_tag_blocked=None): \n",
    "    if html_tag_blocked is None: \n",
    "        html_tag_blocked = ['style', 'script', '[document]',  'meta',  'a',  'span',  'label', 'strong', 'button', \n",
    "                     'li', 'h6',  'font', 'h1', 'h2',  'h3', 'h5', 'h4',  'em', 'body', 'head']\n",
    "    return [sent_cleaner(t) for t in bs.find_all(text=True) \n",
    "            if (t.parent.name not in html_tag_blocked)&(len(sent_cleaner(t))>0)]\n",
    "\n",
    "\n",
    "\n",
    "regexp = re.compile(r'\\s+', re.UNICODE)\n",
    "\n",
    "def feature_extraction(corpus, sent_filters=None):\n",
    "    if sent_filters is None: \n",
    "        sent_filters = ['Board of Governors', 'Federal Reserve System',\n",
    "                         '20th Street and Constitution Avenue N.W., Washington, DC 20551',\n",
    "                         'Federal Reserve Board - Federal Reserve issues FOMC statement',\n",
    "                         'For immediate release',\n",
    "                         'Federal Reserve Board - FOMC statement',\n",
    "                         'DO NOT REMOVE:  Wireless Generation',\n",
    "                         'For media inquiries', \n",
    "                         'or call 202-452-2955.',\n",
    "                         'Voting', \n",
    "                         'For release at', \n",
    "                         'For immediate release', \n",
    "                        'Last Update', \n",
    "                        'Last update'\n",
    "                        ]\n",
    "\n",
    "    text = [' '.join([regexp.sub(' ', s) for i, s in enumerate(c) \n",
    "                     if (i>1) & np.all([q not in s for q in sent_filters])])\n",
    "            for c in corpus]\n",
    "    \n",
    "    release_date = [pd.to_datetime(c[1].replace('Release Date: ', '')) for c in corpus]\n",
    "    last_update = [pd.to_datetime([s.replace('Last update:', '').replace('Last Update:', '').strip() \n",
    "                   for s in c if 'last update: ' in s.lower()][0]) for c in corpus]\n",
    "    voting = [' '.join([s for s in c if 'Voting' in s]) for c in corpus]\n",
    "    release_time = [' '.join([s for s in c if ('For release at' in s)|('For immediate release' in s)]) for c in corpus]\n",
    "    \n",
    "    return pd.DataFrame({'release_date': release_date, \n",
    "                         'last_update':  last_update, \n",
    "                         'text': text, \n",
    "                         'voting': voting, \n",
    "                         'release_time': release_time})\n",
    "\n",
    "def load_fomc_statements(add_url=True, cache_dir=None, force_reload=False, \n",
    "                        progress_bar=True, from_year=1999):\n",
    "    if cache_dir is None:\n",
    "        cache_dir = Path(os.getcwd()) / \"data\"\n",
    "    if isinstance(cache_dir, str):\n",
    "        cache_dir = Path(cache_dir)\n",
    "        \n",
    "    filename = cache_dir / 'fomc_statements.parquet'\n",
    "    if (filename.exists()) & (~force_reload):\n",
    "        logger.info(f\"logging from cache file: {filename}\")\n",
    "        statements = pd.read_parquet(filename)\n",
    "    else: \n",
    "        logger.info(\"loading from external source\")\n",
    "        urls = get_fomc_urls(from_year = from_year)\n",
    "        if progress_bar: \n",
    "            urls_ = tqdm(urls)\n",
    "        else: \n",
    "            urls_ = urls \n",
    "        corpus = [bs_cleaner(BeautifulSoup(requests.get(url).text, 'html.parser')) for url in urls_]\n",
    "        statements = feature_extraction(corpus).set_index('release_date')\n",
    "        if add_url: \n",
    "            statements = statements.assign(url=urls)\n",
    "        statements= statements.sort_index()\n",
    "        logger.info(f\"saving cache file {filename}\")\n",
    "        statements.to_parquet(filename)\n",
    "    return statements\n",
    "\n",
    "\n",
    "def load_fomc_change_date(as_datetime=True): \n",
    "    change_up = pd.to_datetime(['1999-06-30', '1999-08-24', '1999-11-16', '2000-02-02',\n",
    "                                          '2000-03-21', '2000-05-16', '2004-06-30', '2004-08-10',\n",
    "                                          '2004-09-21', '2004-11-10', '2004-12-14', '2005-02-02',\n",
    "                                          '2005-03-22', '2005-05-03', '2005-06-30', '2005-08-09',\n",
    "                                          '2005-09-20', '2005-11-01', '2005-12-13', '2006-01-31',\n",
    "                                          '2006-03-28', '2006-05-10', '2006-06-29', '2015-12-16',\n",
    "                                          '2016-12-14', '2017-03-15', '2017-06-14', '2017-12-13',\n",
    "                                          '2018-03-21', '2018-06-13', '2018-09-26', '2018-12-19',\n",
    "                                          '2022-03-16', '2022-05-04', '2022-06-15',\n",
    "                                          '2022-07-27'])\n",
    "\n",
    "    change_dw = pd.to_datetime(['2001-01-03', '2001-01-31', '2001-03-20', '2001-04-18',\n",
    "                                          '2001-05-15', '2001-06-27', '2001-08-21', '2001-09-17',\n",
    "                                          '2001-10-02', '2001-11-06', '2001-12-11', '2002-11-06',\n",
    "                                          '2003-06-25', '2007-09-18', '2007-10-31', '2007-12-11',\n",
    "                                          '2008-01-22', '2008-01-30', '2008-03-18', '2008-04-30',\n",
    "                                          '2008-10-08', '2008-10-29', '2008-12-16',\n",
    "                                          '2019-07-31', '2019-09-18', '2019-10-30',\n",
    "                                          '2020-03-03', '2020-03-15'])\n",
    "    if as_datetime: \n",
    "        change_up, change_dw = pd.to_datetime(change_up), pd.to_datetime(change_dw)\n",
    "\n",
    "    return change_up, change_dw\n",
    "\n",
    "\n",
    "def load_loughran_mcdonald_dictionary(cache_dir=None, force_reload=False, quiet=True): \n",
    "    if cache_dir is None:\n",
    "        cache_dir = Path(os.getcwd()) / \"data\"\n",
    "    if isinstance(cache_dir, str):\n",
    "        cache_dir = Path(cache_dir)\n",
    "        \n",
    "    filename = cache_dir / 'Loughran-McDonald_MasterDictionary_1993-2021.csv'\n",
    "    if (filename.exists()) & (~force_reload):\n",
    "        logger.info(f\"logging from cache file: {filename}\")\n",
    "    else: \n",
    "        logger.info(\"loading from external source\")\n",
    "        url = 'https://drive.google.com/uc?id=17CmUZM9hGUdGYjCXcjQLyybjTrcjrhik'\n",
    "        output = str(filename)\n",
    "        gdown.download(url, output, quiet=quiet, fuzzy=True)\n",
    "        \n",
    "    return pd.read_csv(filename)\n",
    "\n",
    "\n",
    "\n",
    "mapping_10X =   {'AAPL': ['APPLE COMPUTER INC', 'APPLE INC'],\n",
    "             'AIG': 'AMERICAN INTERNATIONAL GROUP INC',\n",
    "             'AMZN': 'AMAZON COM INC',\n",
    "             'AXP': 'AMERICAN EXPRESS CO',\n",
    "             'BA': 'BOEING CO',\n",
    "             'BAC': 'BANK OF AMERICA CORP /DE/',\n",
    "             'CAT': 'CATERPILLAR INC',\n",
    "             'CL': 'COLGATE PALMOLIVE CO',\n",
    "             'CMCSA': 'COMCAST CORP',\n",
    "             'COP': 'CONOCOPHILLIPS',\n",
    "             'CSCO': 'CISCO SYSTEMS INC',\n",
    "             'CVC': 'CABLEVISION SYSTEMS CORP /NY',\n",
    "             'CVS': ['CVS CORP', 'CVS/CAREMARK CORP', 'CVS CAREMARK CORP'],\n",
    "             'CVX': ['CHEVRONTEXACO CORP', 'CHEVRON CORP'],\n",
    "             'DD': 'DUPONT E I DE NEMOURS & CO',\n",
    "             'DELL': ['DELL COMPUTER CORP', 'DELL INC'],\n",
    "             'F': 'FORD MOTOR CO',\n",
    "             'GD': 'GENERAL DYNAMICS CORP',\n",
    "             'GE': 'GENERAL ELECTRIC CO',\n",
    "             'GS': 'GOLDMAN SACHS GROUP INC/',\n",
    "             'HD': 'HOME DEPOT INC',\n",
    "             'HPQ': 'HEWLETT PACKARD CO',\n",
    "             'IBM': 'INTERNATIONAL BUSINESS MACHINES CORP',\n",
    "             'JPM': 'J P MORGAN CHASE & CO',\n",
    "             'K': 'KELLOGG CO',\n",
    "             'KMB': 'KIMBERLY CLARK CORP',\n",
    "             'KO': 'COCA COLA CO',\n",
    "             'MAR': 'MARRIOTT INTERNATIONAL INC /MD/',\n",
    "             'MCD': 'MCDONALDS CORP',\n",
    "             'MMM': '3M CO',\n",
    "             'MSFT': 'MICROSOFT CORP',\n",
    "             'NAV': 'NAVISTAR INTERNATIONAL CORP',\n",
    "             'NOC': 'NORTHROP GRUMMAN CORP /DE/',\n",
    "             'PEP': 'PEPSI BOTTLING GROUP INC',\n",
    "             'PFE': 'PFIZER INC',\n",
    "             'PG': 'PROCTER & GAMBLE CO',\n",
    "             'R': 'RYDER SYSTEM INC',\n",
    "             'RTN': 'RAYTHEON CO/',\n",
    "             'TWX': ['AOL TIME WARNER INC', 'TIME WARNER INC'],\n",
    "             'TXN': 'TEXAS INSTRUMENTS INC',\n",
    "             'VLO': 'VALERO ENERGY CORP/TX',\n",
    "             'WFC': 'WELLS FARGO & CO/MN',\n",
    "             'WMT': 'WAL MART STORES INC',\n",
    "             'XOM': 'EXXON MOBIL CORP',\n",
    "             'XRX': 'XEROX CORP',\n",
    "             'YHOO': 'YAHOO INC'}\n",
    "\n",
    "def load_10X_summaries(cache_dir=None, force_reload=False):\n",
    "    if cache_dir is None:\n",
    "        cache_dir = Path(os.getcwd()) / \"data\"\n",
    "    if isinstance(cache_dir, str):\n",
    "        cache_dir = Path(cache_dir)\n",
    "\n",
    "    filename = cache_dir / 'Loughran-McDonald_10X_Summaries_1993-2021.csv'\n",
    "\n",
    "    if (filename.is_file()) & (~force_reload):\n",
    "        logger.info(f\"logging from cache directory: {filename}\")\n",
    "    else:\n",
    "        logger.info(\"loading from external source\")\n",
    "        url = 'https://docs.google.com/uc?export=download&confirm=t&id=1CUzLRwQSZ4aUTfPB9EkRtZ48gPwbCOHA'        \n",
    "        subprocess.run(f\"wget -O '{filename}' '{url}'\", shell=True, capture_output=True);\n",
    "        \n",
    "    df = pd.read_csv(filename).assign(date = lambda x: pd.to_datetime(x.FILING_DATE, format='%Y%m%d'))\n",
    "    return df\n",
    "\n",
    "\n",
    "\n",
    "import warnings\n",
    "warnings.filterwarnings('ignore', category=UserWarning, module='openpyxl')\n",
    "from functools import lru_cache\n",
    "\n",
    "@lru_cache \n",
    "def load_ag_features(cache_dir=None, sheet_name='Monthly'):\n",
    "    \"\"\"\n",
    "    load features from Amit Goyal's website:\n",
    "    https://sites.google.com/view/agoyal145\n",
    "    \"\"\"\n",
    "    \n",
    "    if cache_dir is None:\n",
    "        cache_dir = Path(os.getcwd()) / \"data\"\n",
    "    if isinstance(cache_dir, str):\n",
    "        cache_dir = Path(cache_dir)\n",
    "        \n",
    "    filename = cache_dir / 'PredictorData2021.xlsx'\n",
    "    id = '1OArfD2Wv9IvGoLkJ8JyoXS0YMQLDZfY2'\n",
    "    url = f'https://docs.google.com/uc?export=download&confirm=t&id={id}'        \n",
    "    subprocess.run(f\"wget -O '{filename}' '{url}'\", shell=True, capture_output=True);        \n",
    "    return pd.read_excel(filename, sheet_name=sheet_name)\\\n",
    "             .assign(date = lambda x: pd.to_datetime(x.yyyymm, format='%Y%m'))\\\n",
    "             .set_index('date')"
   ]
  },
  {
   "cell_type": "markdown",
   "metadata": {
    "heading_collapsed": true,
    "lines_to_next_cell": 2
   },
   "source": [
    "### Ken French data: industry returns"
   ]
  },
  {
   "cell_type": "code",
   "execution_count": null,
   "metadata": {
    "hidden": true
   },
   "outputs": [],
   "source": [
    "from skfin.datasets import load_kf_returns, load_sklearn_stock_returns, load_buffets_data"
   ]
  },
  {
   "cell_type": "code",
   "execution_count": null,
   "metadata": {
    "hidden": true
   },
   "outputs": [],
   "source": [
    "%%time\n",
    "returns_data = load_kf_returns(\n",
    "    filename=\"12_Industry_Portfolios\", cache_dir=\"data\", force_reload=True\n",
    ")"
   ]
  },
  {
   "cell_type": "markdown",
   "metadata": {
    "hidden": true
   },
   "source": [
    "Reloading from a cache directory is faster!"
   ]
  },
  {
   "cell_type": "code",
   "execution_count": null,
   "metadata": {
    "hidden": true
   },
   "outputs": [],
   "source": [
    "%%time\n",
    "returns_data = load_kf_returns(\n",
    "    filename=\"12_Industry_Portfolios\", cache_dir=\"data\", force_reload=False\n",
    ")"
   ]
  },
  {
   "cell_type": "code",
   "execution_count": null,
   "metadata": {
    "hidden": true
   },
   "outputs": [],
   "source": [
    "returns_data_SMB_HML = load_kf_returns(\n",
    "    filename=\"F-F_Research_Data_Factors\", cache_dir=\"data\"\n",
    ")"
   ]
  },
  {
   "cell_type": "code",
   "execution_count": null,
   "metadata": {
    "hidden": true
   },
   "outputs": [],
   "source": [
    "returns_data_MOM = load_kf_returns(filename=\"F-F_Momentum_Factor\", cache_dir=\"data\")"
   ]
  },
  {
   "cell_type": "code",
   "execution_count": null,
   "metadata": {
    "hidden": true
   },
   "outputs": [],
   "source": [
    "returns_data_DAILY = load_kf_returns(filename=\"F-F_Research_Data_Factors_daily\", force_reload=True)['Daily']"
   ]
  },
  {
   "cell_type": "markdown",
   "metadata": {
    "heading_collapsed": true
   },
   "source": [
    "### Stock returns (2003-2007)"
   ]
  },
  {
   "cell_type": "code",
   "execution_count": null,
   "metadata": {
    "hidden": true
   },
   "outputs": [],
   "source": [
    "%%time \n",
    "returns_data = load_sklearn_stock_returns(cache_dir=\"data\", force_reload=True)"
   ]
  },
  {
   "cell_type": "code",
   "execution_count": null,
   "metadata": {
    "hidden": true
   },
   "outputs": [],
   "source": [
    "from skfin.metrics import sharpe_ratio\n",
    "from skfin.datasets import symbol_dict\n",
    "from skfin.plot import bar"
   ]
  },
  {
   "cell_type": "code",
   "execution_count": null,
   "metadata": {
    "hidden": true
   },
   "outputs": [],
   "source": [
    "start_date, end_date = returns_data.index[0].strftime('%Y-%m-%d'), returns_data.index[-1].strftime('%Y-%m-%d')\n",
    "\n",
    "df = returns_data.pipe(sharpe_ratio).rename(index=symbol_dict).sort_values()\\\n",
    "            .pipe(lambda x: pd.concat([x.head(), x.tail()]))\n",
    "bar(df, horizontal=True, title=f'Annualized stock sharpe ratio: {start_date} to {end_date}')"
   ]
  },
  {
   "cell_type": "markdown",
   "metadata": {
    "heading_collapsed": true
   },
   "source": [
    "### 13F Berkshire Hathaway"
   ]
  },
  {
   "cell_type": "code",
   "execution_count": null,
   "metadata": {
    "hidden": true
   },
   "outputs": [],
   "source": [
    "%%time \n",
    "df = load_buffets_data(cache_dir=\"data\", force_reload=True)"
   ]
  },
  {
   "cell_type": "markdown",
   "metadata": {
    "heading_collapsed": true
   },
   "source": [
    "### FOMC Statements "
   ]
  },
  {
   "cell_type": "code",
   "execution_count": null,
   "metadata": {
    "hidden": true
   },
   "outputs": [],
   "source": [
    "from skfin.datasets import load_fomc_statements"
   ]
  },
  {
   "cell_type": "code",
   "execution_count": null,
   "metadata": {
    "hidden": true
   },
   "outputs": [],
   "source": [
    "%%time \n",
    "statements = load_fomc_statements(force_reload=True)"
   ]
  },
  {
   "cell_type": "code",
   "execution_count": null,
   "metadata": {
    "hidden": true
   },
   "outputs": [],
   "source": [
    "%%time \n",
    "statements = load_fomc_statements(force_reload=False)"
   ]
  },
  {
   "cell_type": "markdown",
   "metadata": {},
   "source": [
    "### Loughran-McDonalds sentiment dictionary"
   ]
  },
  {
   "cell_type": "code",
   "execution_count": null,
   "metadata": {},
   "outputs": [],
   "source": [
    "from skfin.datasets import load_loughran_mcdonald_dictionary"
   ]
  },
  {
   "cell_type": "code",
   "execution_count": null,
   "metadata": {},
   "outputs": [],
   "source": [
    "lm = load_loughran_mcdonald_dictionary()"
   ]
  },
  {
   "cell_type": "markdown",
   "metadata": {},
   "source": [
    "### FOMC dates "
   ]
  },
  {
   "cell_type": "code",
   "execution_count": null,
   "metadata": {},
   "outputs": [],
   "source": [
    "from skfin.datasets import load_fomc_change_date\n",
    "change_up, change_dw = load_fomc_change_date()"
   ]
  },
  {
   "cell_type": "code",
   "execution_count": null,
   "metadata": {},
   "outputs": [],
   "source": [
    "print('Date with a rate increase:', [c.strftime('%Y-%m-%d') for c in change_up])\n",
    "\n",
    "print('Date with a rate decrease:', [c.strftime('%Y-%m-%d') for c in change_dw])"
   ]
  },
  {
   "cell_type": "code",
   "execution_count": null,
   "metadata": {},
   "outputs": [],
   "source": []
  }
 ],
 "metadata": {
  "hide_input": false,
  "jupytext": {
   "encoding": "# -*- coding: utf-8 -*-"
  },
  "kernelspec": {
   "display_name": "Python (skfin)",
   "language": "python",
   "name": "skfin"
  },
  "language_info": {
   "codemirror_mode": {
    "name": "ipython",
    "version": 3
   },
   "file_extension": ".py",
   "mimetype": "text/x-python",
   "name": "python",
   "nbconvert_exporter": "python",
   "pygments_lexer": "ipython3",
   "version": "3.9.13"
  },
  "toc": {
   "base_numbering": 1,
   "nav_menu": {},
   "number_sections": false,
   "sideBar": true,
   "skip_h1_title": false,
   "title_cell": "Table of Contents",
   "title_sidebar": "Contents",
   "toc_cell": false,
   "toc_position": {},
   "toc_section_display": true,
   "toc_window_display": false
  },
  "widgets": {
   "application/vnd.jupyter.widget-state+json": {
    "state": {
     "093f947389394bfb89c2ec55af4167da": {
      "model_module": "@jupyter-widgets/base",
      "model_module_version": "2.0.0",
      "model_name": "LayoutModel",
      "state": {
       "_model_module": "@jupyter-widgets/base",
       "_model_module_version": "2.0.0",
       "_model_name": "LayoutModel",
       "_view_count": null,
       "_view_module": "@jupyter-widgets/base",
       "_view_module_version": "2.0.0",
       "_view_name": "LayoutView",
       "align_content": null,
       "align_items": null,
       "align_self": null,
       "border_bottom": null,
       "border_left": null,
       "border_right": null,
       "border_top": null,
       "bottom": null,
       "display": null,
       "flex": null,
       "flex_flow": null,
       "grid_area": null,
       "grid_auto_columns": null,
       "grid_auto_flow": null,
       "grid_auto_rows": null,
       "grid_column": null,
       "grid_gap": null,
       "grid_row": null,
       "grid_template_areas": null,
       "grid_template_columns": null,
       "grid_template_rows": null,
       "height": null,
       "justify_content": null,
       "justify_items": null,
       "left": null,
       "margin": null,
       "max_height": null,
       "max_width": null,
       "min_height": null,
       "min_width": null,
       "object_fit": null,
       "object_position": null,
       "order": null,
       "overflow": null,
       "padding": null,
       "right": null,
       "top": null,
       "visibility": null,
       "width": null
      }
     },
     "8610f49f37674569b1bc7c4d853944af": {
      "model_module": "@jupyter-widgets/base",
      "model_module_version": "2.0.0",
      "model_name": "LayoutModel",
      "state": {
       "_model_module": "@jupyter-widgets/base",
       "_model_module_version": "2.0.0",
       "_model_name": "LayoutModel",
       "_view_count": null,
       "_view_module": "@jupyter-widgets/base",
       "_view_module_version": "2.0.0",
       "_view_name": "LayoutView",
       "align_content": null,
       "align_items": null,
       "align_self": null,
       "border_bottom": null,
       "border_left": null,
       "border_right": null,
       "border_top": null,
       "bottom": null,
       "display": null,
       "flex": null,
       "flex_flow": null,
       "grid_area": null,
       "grid_auto_columns": null,
       "grid_auto_flow": null,
       "grid_auto_rows": null,
       "grid_column": null,
       "grid_gap": null,
       "grid_row": null,
       "grid_template_areas": null,
       "grid_template_columns": null,
       "grid_template_rows": null,
       "height": null,
       "justify_content": null,
       "justify_items": null,
       "left": null,
       "margin": null,
       "max_height": null,
       "max_width": null,
       "min_height": null,
       "min_width": null,
       "object_fit": null,
       "object_position": null,
       "order": null,
       "overflow": null,
       "padding": null,
       "right": null,
       "top": null,
       "visibility": null,
       "width": null
      }
     },
     "8fb47b189e3e47a9b12a178bf68705db": {
      "model_module": "@jupyter-widgets/base",
      "model_module_version": "2.0.0",
      "model_name": "LayoutModel",
      "state": {
       "_model_module": "@jupyter-widgets/base",
       "_model_module_version": "2.0.0",
       "_model_name": "LayoutModel",
       "_view_count": null,
       "_view_module": "@jupyter-widgets/base",
       "_view_module_version": "2.0.0",
       "_view_name": "LayoutView",
       "align_content": null,
       "align_items": null,
       "align_self": null,
       "border_bottom": null,
       "border_left": null,
       "border_right": null,
       "border_top": null,
       "bottom": null,
       "display": null,
       "flex": null,
       "flex_flow": null,
       "grid_area": null,
       "grid_auto_columns": null,
       "grid_auto_flow": null,
       "grid_auto_rows": null,
       "grid_column": null,
       "grid_gap": null,
       "grid_row": null,
       "grid_template_areas": null,
       "grid_template_columns": null,
       "grid_template_rows": null,
       "height": null,
       "justify_content": null,
       "justify_items": null,
       "left": null,
       "margin": null,
       "max_height": null,
       "max_width": null,
       "min_height": null,
       "min_width": null,
       "object_fit": null,
       "object_position": null,
       "order": null,
       "overflow": null,
       "padding": null,
       "right": null,
       "top": null,
       "visibility": null,
       "width": null
      }
     },
     "9d1da2d787714817863e9260d8b88d6e": {
      "model_module": "@jupyter-widgets/controls",
      "model_module_version": "2.0.0",
      "model_name": "FloatProgressModel",
      "state": {
       "_dom_classes": [],
       "_model_module": "@jupyter-widgets/controls",
       "_model_module_version": "2.0.0",
       "_model_name": "FloatProgressModel",
       "_view_count": null,
       "_view_module": "@jupyter-widgets/controls",
       "_view_module_version": "2.0.0",
       "_view_name": "ProgressView",
       "bar_style": "success",
       "description": "",
       "description_allow_html": false,
       "layout": "IPY_MODEL_8fb47b189e3e47a9b12a178bf68705db",
       "max": 206.0,
       "min": 0.0,
       "orientation": "horizontal",
       "style": "IPY_MODEL_b81355f0e5184f419b152593e978980b",
       "tabbable": null,
       "tooltip": null,
       "value": 206.0
      }
     },
     "b81355f0e5184f419b152593e978980b": {
      "model_module": "@jupyter-widgets/controls",
      "model_module_version": "2.0.0",
      "model_name": "ProgressStyleModel",
      "state": {
       "_model_module": "@jupyter-widgets/controls",
       "_model_module_version": "2.0.0",
       "_model_name": "ProgressStyleModel",
       "_view_count": null,
       "_view_module": "@jupyter-widgets/base",
       "_view_module_version": "2.0.0",
       "_view_name": "StyleView",
       "bar_color": null,
       "description_width": ""
      }
     },
     "b9f726de621949e68614aabb3b796036": {
      "model_module": "@jupyter-widgets/base",
      "model_module_version": "2.0.0",
      "model_name": "LayoutModel",
      "state": {
       "_model_module": "@jupyter-widgets/base",
       "_model_module_version": "2.0.0",
       "_model_name": "LayoutModel",
       "_view_count": null,
       "_view_module": "@jupyter-widgets/base",
       "_view_module_version": "2.0.0",
       "_view_name": "LayoutView",
       "align_content": null,
       "align_items": null,
       "align_self": null,
       "border_bottom": null,
       "border_left": null,
       "border_right": null,
       "border_top": null,
       "bottom": null,
       "display": null,
       "flex": null,
       "flex_flow": null,
       "grid_area": null,
       "grid_auto_columns": null,
       "grid_auto_flow": null,
       "grid_auto_rows": null,
       "grid_column": null,
       "grid_gap": null,
       "grid_row": null,
       "grid_template_areas": null,
       "grid_template_columns": null,
       "grid_template_rows": null,
       "height": null,
       "justify_content": null,
       "justify_items": null,
       "left": null,
       "margin": null,
       "max_height": null,
       "max_width": null,
       "min_height": null,
       "min_width": null,
       "object_fit": null,
       "object_position": null,
       "order": null,
       "overflow": null,
       "padding": null,
       "right": null,
       "top": null,
       "visibility": null,
       "width": null
      }
     },
     "bdfef6150d654e55ab5bf3441b6d38b9": {
      "model_module": "@jupyter-widgets/controls",
      "model_module_version": "2.0.0",
      "model_name": "HTMLModel",
      "state": {
       "_dom_classes": [],
       "_model_module": "@jupyter-widgets/controls",
       "_model_module_version": "2.0.0",
       "_model_name": "HTMLModel",
       "_view_count": null,
       "_view_module": "@jupyter-widgets/controls",
       "_view_module_version": "2.0.0",
       "_view_name": "HTMLView",
       "description": "",
       "description_allow_html": false,
       "layout": "IPY_MODEL_093f947389394bfb89c2ec55af4167da",
       "placeholder": "​",
       "style": "IPY_MODEL_cde37f87cbbd438ca792517095a7a620",
       "tabbable": null,
       "tooltip": null,
       "value": "100%"
      }
     },
     "c874b76ce99048cfb6b451591e07bc87": {
      "model_module": "@jupyter-widgets/controls",
      "model_module_version": "2.0.0",
      "model_name": "HTMLStyleModel",
      "state": {
       "_model_module": "@jupyter-widgets/controls",
       "_model_module_version": "2.0.0",
       "_model_name": "HTMLStyleModel",
       "_view_count": null,
       "_view_module": "@jupyter-widgets/base",
       "_view_module_version": "2.0.0",
       "_view_name": "StyleView",
       "background": null,
       "description_width": "",
       "font_size": null,
       "text_color": null
      }
     },
     "cde37f87cbbd438ca792517095a7a620": {
      "model_module": "@jupyter-widgets/controls",
      "model_module_version": "2.0.0",
      "model_name": "HTMLStyleModel",
      "state": {
       "_model_module": "@jupyter-widgets/controls",
       "_model_module_version": "2.0.0",
       "_model_name": "HTMLStyleModel",
       "_view_count": null,
       "_view_module": "@jupyter-widgets/base",
       "_view_module_version": "2.0.0",
       "_view_name": "StyleView",
       "background": null,
       "description_width": "",
       "font_size": null,
       "text_color": null
      }
     },
     "e01f000e903e4775ae9d542abfedf13e": {
      "model_module": "@jupyter-widgets/controls",
      "model_module_version": "2.0.0",
      "model_name": "HBoxModel",
      "state": {
       "_dom_classes": [],
       "_model_module": "@jupyter-widgets/controls",
       "_model_module_version": "2.0.0",
       "_model_name": "HBoxModel",
       "_view_count": null,
       "_view_module": "@jupyter-widgets/controls",
       "_view_module_version": "2.0.0",
       "_view_name": "HBoxView",
       "box_style": "",
       "children": [
        "IPY_MODEL_bdfef6150d654e55ab5bf3441b6d38b9",
        "IPY_MODEL_9d1da2d787714817863e9260d8b88d6e",
        "IPY_MODEL_f70a7dea02044175963d811656d4cca4"
       ],
       "layout": "IPY_MODEL_8610f49f37674569b1bc7c4d853944af",
       "tabbable": null,
       "tooltip": null
      }
     },
     "f70a7dea02044175963d811656d4cca4": {
      "model_module": "@jupyter-widgets/controls",
      "model_module_version": "2.0.0",
      "model_name": "HTMLModel",
      "state": {
       "_dom_classes": [],
       "_model_module": "@jupyter-widgets/controls",
       "_model_module_version": "2.0.0",
       "_model_name": "HTMLModel",
       "_view_count": null,
       "_view_module": "@jupyter-widgets/controls",
       "_view_module_version": "2.0.0",
       "_view_name": "HTMLView",
       "description": "",
       "description_allow_html": false,
       "layout": "IPY_MODEL_b9f726de621949e68614aabb3b796036",
       "placeholder": "​",
       "style": "IPY_MODEL_c874b76ce99048cfb6b451591e07bc87",
       "tabbable": null,
       "tooltip": null,
       "value": " 206/206 [01:02&lt;00:00,  3.56it/s]"
      }
     }
    },
    "version_major": 2,
    "version_minor": 0
   }
  }
 },
 "nbformat": 4,
 "nbformat_minor": 5
}
