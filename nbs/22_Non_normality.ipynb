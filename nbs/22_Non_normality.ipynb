{
 "cells": [
  {
   "cell_type": "markdown",
   "id": "689cb3f3",
   "metadata": {},
   "source": [
    "# Non-normality"
   ]
  },
  {
   "cell_type": "code",
   "execution_count": null,
   "id": "bd46a36c",
   "metadata": {
    "execution": {
     "iopub.execute_input": "2024-11-07T16:57:36.882779Z",
     "iopub.status.busy": "2024-11-07T16:57:36.882355Z",
     "iopub.status.idle": "2024-11-07T16:57:38.676052Z",
     "shell.execute_reply": "2024-11-07T16:57:38.675321Z"
    }
   },
   "outputs": [],
   "source": [
    "# hide\n",
    "%load_ext autoreload\n",
    "%autoreload 2\n",
    "%matplotlib inline\n",
    "\n",
    "import logging\n",
    "from pathlib import Path\n",
    "\n",
    "import numpy as np\n",
    "import pandas as pd\n",
    "from IPython.display import Image, display\n",
    "from matplotlib import pyplot as plt\n",
    "from tqdm.auto import tqdm\n",
    "\n",
    "logging.basicConfig(level=logging.CRITICAL)\n",
    "\n",
    "from lightgbm.sklearn import LGBMRegressor\n",
    "from skfin.backtesting import Backtester\n",
    "from skfin.datasets import load_kf_returns\n",
    "from skfin.estimators import MLPRegressor, MultiOutputRegressor, RidgeCV\n",
    "from skfin.metrics import sharpe_ratio\n",
    "from skfin.mv_estimators import MeanVariance\n",
    "from skfin.plot import *\n",
    "from sklearn.pipeline import make_pipeline\n",
    "from sklearn.preprocessing import PolynomialFeatures, StandardScaler\n",
    "\n",
    "returns_data = load_kf_returns(cache_dir=\"data\")\n",
    "ret = returns_data[\"Monthly\"][\"Average_Value_Weighted_Returns\"][:\"1999\"]\n",
    "\n",
    "transform_X = lambda x: x.rolling(12).mean().fillna(0)\n",
    "transform_y = lambda x: x.shift(-1)\n",
    "features = transform_X(ret)\n",
    "target = transform_y(ret)"
   ]
  },
  {
   "cell_type": "markdown",
   "id": "4673ed08",
   "metadata": {},
   "source": [
    "## Non-normality\n",
    "\n",
    "At the stock-level, non-normality (e.g. skewness or kurtosis) may not be a significant problem:\n",
    "\n",
    "- the portfolio might be short a stock with negative skewness\n",
    "\n",
    "- part of the stock kurtosis might diversify away at the portfolio level.\n",
    "\n",
    "But factor-level non-normality is harder to diversify – especially the returns of strategy based on risk-premia (which are generally non-normally distributed):\n",
    "\n",
    "- by definition, in risk-off environments, these strategies do not pay off and the left tails of the return distribution can be very “thick\" leading to “rare disasters\"\n",
    "\n",
    "In this section, we discuss how to document non-normality:\n",
    "\n",
    "- use some test statistics that involve skewness and kurtosis. \n",
    "\n",
    "- illustrate some methods using industry momentum."
   ]
  },
  {
   "cell_type": "markdown",
   "id": "f65e781d",
   "metadata": {},
   "source": [
    "The statistics of higher moments: \n",
    "\n",
    "-  $skewness =  \\frac{E[(x - \\bar{x})^3]}{\\sigma_x^3}$ \n",
    "\n",
    "-  $kurtosis = \\frac{E[(x - \\bar{x})^4]}{\\sigma_x^4}$\n",
    "\n",
    "- Jarque-Bera statistics $JB = \\frac{T}{6} \\left(skewness^2 + \\frac{(kurtosis-3)^2}{4} \\right)$ \n",
    "\n",
    "- If the observations $\\{x_1,..,x_T\\}$ are independant and follow a Normal distribution, then \n",
    "\n",
    "    1. $skewness=0$ \n",
    "\n",
    "    1. $kurtosis=3$ \n",
    "\n",
    "    1. $JB$ follows of Chi-squared distribution with two degrees of freedom. \n",
    "\n",
    "- The third assertion provides a way to test whether a variable is Normally distributed. "
   ]
  },
  {
   "cell_type": "code",
   "execution_count": null,
   "id": "3196462f",
   "metadata": {
    "execution": {
     "iopub.execute_input": "2024-11-07T16:57:38.679078Z",
     "iopub.status.busy": "2024-11-07T16:57:38.678718Z",
     "iopub.status.idle": "2024-11-07T16:57:38.700533Z",
     "shell.execute_reply": "2024-11-07T16:57:38.700010Z"
    }
   },
   "outputs": [],
   "source": [
    "from scipy.stats import jarque_bera, kurtosis, skew"
   ]
  },
  {
   "cell_type": "markdown",
   "id": "692d6615",
   "metadata": {},
   "source": [
    "**Normally distributed random data**:\n",
    "\n",
    "- we can _not_ reject the null hypothesis that the data follows is a Normal distribution! "
   ]
  },
  {
   "cell_type": "code",
   "execution_count": null,
   "id": "86fe57bd",
   "metadata": {
    "execution": {
     "iopub.execute_input": "2024-11-07T16:57:38.702814Z",
     "iopub.status.busy": "2024-11-07T16:57:38.702440Z",
     "iopub.status.idle": "2024-11-07T16:57:38.725660Z",
     "shell.execute_reply": "2024-11-07T16:57:38.725009Z"
    }
   },
   "outputs": [],
   "source": [
    "(T, N) = ret.shape"
   ]
  },
  {
   "cell_type": "code",
   "execution_count": null,
   "id": "443d7b59",
   "metadata": {
    "execution": {
     "iopub.execute_input": "2024-11-07T16:57:38.727864Z",
     "iopub.status.busy": "2024-11-07T16:57:38.727643Z",
     "iopub.status.idle": "2024-11-07T16:57:38.752710Z",
     "shell.execute_reply": "2024-11-07T16:57:38.752140Z"
    }
   },
   "outputs": [],
   "source": [
    "x = np.random.normal(0, 1, T)  # create random values based on a normal distribution\n",
    "\n",
    "print(f\"Excess kurtosis of normal distribution (should be 0): {kurtosis(x):.3f}\")\n",
    "print(f\"Skewness of normal distribution (should be 0): {skew(x):.3f}\")\n",
    "print(f\"Jarque beta of normal distribution (should be 0): {jarque_bera(x)[0]:.3f}\")"
   ]
  },
  {
   "cell_type": "markdown",
   "id": "b5f7a773",
   "metadata": {},
   "source": [
    "With `fisher=False`, the function `kurtosis` computes the raw kurtosis (the default is `fisher=True`). "
   ]
  },
  {
   "cell_type": "code",
   "execution_count": null,
   "id": "c8b68558",
   "metadata": {
    "execution": {
     "iopub.execute_input": "2024-11-07T16:57:38.754855Z",
     "iopub.status.busy": "2024-11-07T16:57:38.754523Z",
     "iopub.status.idle": "2024-11-07T16:57:38.776119Z",
     "shell.execute_reply": "2024-11-07T16:57:38.775598Z"
    }
   },
   "outputs": [],
   "source": [
    "kurtosis(np.random.normal(0, 1, T), fisher=False)"
   ]
  },
  {
   "cell_type": "markdown",
   "id": "8963f383",
   "metadata": {},
   "source": [
    "**Uniformly distributed random data**: \n",
    "\n",
    "- we can reject at any confidence level the null hypothesis that the data follows a Normal distribution! "
   ]
  },
  {
   "cell_type": "code",
   "execution_count": null,
   "id": "9adf2ae7",
   "metadata": {
    "execution": {
     "iopub.execute_input": "2024-11-07T16:57:38.778165Z",
     "iopub.status.busy": "2024-11-07T16:57:38.777937Z",
     "iopub.status.idle": "2024-11-07T16:57:38.799470Z",
     "shell.execute_reply": "2024-11-07T16:57:38.798914Z"
    }
   },
   "outputs": [],
   "source": [
    "x = np.random.uniform(0, 1, T)  # create random values based on a normal distribution\n",
    "\n",
    "print(f\"Excess kurtosis of normal distribution (should be 0): {kurtosis(x):.3f}\")\n",
    "print(f\"Skewness of normal distribution (should be 0): {skew(x):.3f}\")\n",
    "print(f\"Jarque beta of normal distribution (should be 0): {jarque_bera(x)[0]:.3f}\")"
   ]
  },
  {
   "cell_type": "markdown",
   "id": "c6b30cfd",
   "metadata": {},
   "source": [
    "**Industry momentum data**: \n",
    "\n",
    "- we can also reject the null hypothesis of a Normal distribution "
   ]
  },
  {
   "cell_type": "code",
   "execution_count": null,
   "id": "fbf6fd98",
   "metadata": {
    "execution": {
     "iopub.execute_input": "2024-11-07T16:57:38.801534Z",
     "iopub.status.busy": "2024-11-07T16:57:38.801216Z",
     "iopub.status.idle": "2024-11-07T16:57:39.002592Z",
     "shell.execute_reply": "2024-11-07T16:57:39.002015Z"
    }
   },
   "outputs": [],
   "source": [
    "pnl = Backtester(MeanVariance()).compute_holdings(features, target).compute_pnl(ret).pnl_\n"
   ]
  },
  {
   "cell_type": "code",
   "execution_count": null,
   "id": "c0b2432b",
   "metadata": {
    "execution": {
     "iopub.execute_input": "2024-11-07T16:57:39.004833Z",
     "iopub.status.busy": "2024-11-07T16:57:39.004591Z",
     "iopub.status.idle": "2024-11-07T16:57:39.028192Z",
     "shell.execute_reply": "2024-11-07T16:57:39.027633Z"
    }
   },
   "outputs": [],
   "source": [
    "x = pnl\n",
    "\n",
    "print(f\"Excess kurtosis of normal distribution (should be 0): {kurtosis(x):.3f}\")\n",
    "print(f\"Skewness of normal distribution (should be 0): {skew(x):.3f}\")\n",
    "print(f\"Jarque beta of normal distribution (should be 0): {jarque_bera(x)[0]:.3f}\")"
   ]
  },
  {
   "cell_type": "code",
   "execution_count": null,
   "id": "861675e2",
   "metadata": {
    "execution": {
     "iopub.execute_input": "2024-11-07T16:57:39.030216Z",
     "iopub.status.busy": "2024-11-07T16:57:39.029994Z",
     "iopub.status.idle": "2024-11-07T16:57:39.173927Z",
     "shell.execute_reply": "2024-11-07T16:57:39.173361Z"
    }
   },
   "outputs": [],
   "source": [
    "print(f\"Pnl std={pnl.std():.2f}\")\n",
    "pnl.hist();"
   ]
  },
  {
   "cell_type": "markdown",
   "id": "f227a8ce",
   "metadata": {},
   "source": [
    " The test in the notebook shows that the normality assumption is easily rejected for the momentum strategy return – there are a lot of observations (T large) and significant deviations."
   ]
  },
  {
   "cell_type": "markdown",
   "id": "5578489f",
   "metadata": {},
   "source": [
    "## The statistics of rolling sharpe ratio"
   ]
  },
  {
   "cell_type": "markdown",
   "id": "1141ffea",
   "metadata": {},
   "source": [
    "We now focus on 3-year rolling sharpe ratio:\n",
    "\n",
    "- A 3-year horizon is the natural horizon to evaluate the performance of investment strategies.\n",
    "\n",
    "- Significant underperformance over 3 years is almost always a show-stopper!\n",
    "\n",
    "- In particular, we assess the impact of skewness and kurtosis on the rolling sharpe ratio."
   ]
  },
  {
   "cell_type": "markdown",
   "id": "517aa57e",
   "metadata": {},
   "source": [
    "**Lemma** [Lo, 1996]. When the underlying data is iid Normally distributed, the limiting distribution of the estimated  monthly sharpe ratio $\\hat{S}$ (relative to the true unobserved $S$) is \n",
    "$$\n",
    "\\sqrt{T} (\\hat{S} - S) \\rightarrow N\\left(0, 1 + \\frac{S^2}{2}\\right) \n",
    "$$\n",
    "*Proof*. For independently Normally distributed returns, we have\n",
    "$$\n",
    "\\sqrt{T} \\left[ \\begin {array}{c} \\hat{\\mu} - \\mu \\\\ \\hat{\\sigma}^2- \\sigma^2  \\end {array} \\right] \\rightarrow N \\left( \\left[ \\begin {array}{c} 0 \\\\ 0 \\end {array} \\right];  \\left[ \\begin {array}{cc} \\sigma^2 & 0 \\\\ 0 & 2 \\sigma^4  \\end {array} \\right]  \\right)\n",
    "$$\n",
    "For $S = g(\\mu,\\sigma^2) = \\frac{\\mu}{\\sqrt{\\sigma^2}}$, the asymptotic variance of $\\hat{S}$ is \n",
    "$$\n",
    " \\left[ \\begin {array}{c} \\frac{\\partial g}{\\partial \\mu} \\\\ \\frac{\\partial g}{\\partial (\\sigma^2)} \\end {array} \\right]^T \\left[ \\begin {array}{cc} \\sigma^2 &  0 \\\\ 0 & 2 \\sigma^4  \\end {array} \\right]  \\left[ \\begin {array}{c} \\frac{\\partial g}{\\partial \\mu} \\\\ \\frac{\\partial g}{\\partial (\\sigma^2)} \\end {array} \\right]  = \\frac{1}{\\sigma^2} \\sigma^2 +   \\left(- \\frac{\\mu}{2\\sigma^3}\\right)^2 (2 \\sigma^4)\n",
    "$$"
   ]
  },
  {
   "cell_type": "markdown",
   "id": "ec53f202",
   "metadata": {},
   "source": [
    "**Corollary.** The minimum monthly $S_0$ for a monthly strategy where the Sharpe ratio is always statistically different from 0 at the 5\\%-confidence level over a window of $T$ months is given by \n",
    "\n",
    "$$S_0 - 1.96 \\sqrt{\\frac{1+\\frac{S_0^2}{2}}{T}} =0  \\Leftrightarrow  S_0 = \\sqrt{\\frac{1}{\\frac{T}{1.96^2}-1/2}} $$\n",
    "\n",
    "- Rule of thumb: for a 36-month horizon, then the monthly $S_0 \\approx 0.35$ or after annualization \n",
    "\n",
    "$$ S_0^{\\text {annualized}} \\approx .35 \\times  \\sqrt{12} = 1.16 \n",
    "$$"
   ]
  },
  {
   "cell_type": "markdown",
   "id": "15e530c7",
   "metadata": {},
   "source": [
    "When the returns are not Normally distributed ($skewness \\neq 0$ and (excess) $kurtosis\\neq 0$), the Central Limit theorem still ensures the asymptotic normality. (In what follows, `kurtosis` refers to the \"excess kurtosis.)\n",
    "\n",
    "\n",
    "**Lemma** [Mertens, 2002] The asymptotic distribution of $\\hat{S}$ is  \n",
    "\n",
    "$$\n",
    "\\sqrt{T} (\\hat{S} - S) \\rightarrow N\\left(0, V_{\\infty} \\right) \n",
    "$$\n",
    "where $V_{\\infty} = 1 + \\frac{S^2}{2} - skewness \\times S + \\frac{kurtosis \\times S^2}{4}$.\n",
    "\n",
    "*Proof.* The asymptotic variance of $\\left[\\begin {array}{c} \\hat{\\mu} - \\mu \\\\ \\hat{\\sigma}^2 - \\sigma^2 \\end {array} \\right]$ is: \n",
    "$$\n",
    "E\\left[\\begin {array}{cc} (r_t - \\mu)^2 & (r_t - \\mu)[(r_t - \\mu)^2 - \\sigma^2]\\\\ (r_t - \\mu)[(r_t - \\mu)^2 - \\sigma^2] & [(r_t - \\mu)^2 - \\sigma^2]^2 \\end {array} \\right]\\\\\n",
    "= \\left[ \\begin {array}{cc} \\sigma^2 & E[(r_t - \\mu)^3] \\\\ E[(r_t - \\mu)^3] & 2 E[(r_t - \\mu)^4] - \\sigma^4  \\end {array} \\right]\n",
    "$$"
   ]
  },
  {
   "cell_type": "markdown",
   "id": "4f3aa9da",
   "metadata": {},
   "source": [
    "**Corollary.** The minimum $S_0(skewness, kurtosis)$ for a monthly strategy where the information is always statistically different from 0 at the 5%-confidence level over a window of $T$ months is increasing in *kurtosis* and decreasing in *skewness*. \n",
    "\n",
    "*Proof.* The function $f(S,skewness,kurtosis)$ \n",
    "$$\n",
    "= S - 1.96 \\sqrt{\\frac{ 1 + \\frac{S^2}{2} - skewness \\times S + \\frac{kurtosis \\times S^2}{4}}{T}  }\n",
    "$$\n",
    "is increasing in $S$ and *skewness* and decreasing in *kurtosis*, so that $S_0$ defined by $f(S_0,skewness,kurtosis)=0$ is decreasing in *skewness* and increasing in *kurtosis*."
   ]
  },
  {
   "cell_type": "code",
   "execution_count": null,
   "id": "fe021614",
   "metadata": {
    "execution": {
     "iopub.execute_input": "2024-11-07T16:57:39.176333Z",
     "iopub.status.busy": "2024-11-07T16:57:39.176101Z",
     "iopub.status.idle": "2024-11-07T16:57:44.226166Z",
     "shell.execute_reply": "2024-11-07T16:57:44.225336Z"
    }
   },
   "outputs": [],
   "source": [
    "sr3y = pnl.rolling(36).apply(sharpe_ratio)\n",
    "line(sr3y, legend=False, title=\"3-year rolling sharpe ratio\", start_date=\"1945\")"
   ]
  },
  {
   "cell_type": "markdown",
   "id": "9a81e868",
   "metadata": {},
   "source": [
    "Below we compute the two lower bounds for the sharpe ratio."
   ]
  },
  {
   "cell_type": "code",
   "execution_count": null,
   "id": "3fd1543c",
   "metadata": {
    "execution": {
     "iopub.execute_input": "2024-11-07T16:57:44.228733Z",
     "iopub.status.busy": "2024-11-07T16:57:44.228452Z",
     "iopub.status.idle": "2024-11-07T16:57:44.812282Z",
     "shell.execute_reply": "2024-11-07T16:57:44.811664Z"
    }
   },
   "outputs": [],
   "source": [
    "sr3y_lb = sr3y - 1.96 * np.sqrt((1 + 0.5 * sr3y**2) / 36) * np.sqrt(12)\n",
    "skew3y = pnl.rolling(36).apply(skew)\n",
    "kurtosis3y = pnl.rolling(36).apply(kurtosis)\n",
    "sr3y_lb_bis = sr3y - 1.96 * np.sqrt(\n",
    "    (1 + 0.5 * sr3y**2 - skew3y * sr3y + 0.25 * kurtosis3y * sr3y**2) / 36\n",
    ") * np.sqrt(12)"
   ]
  },
  {
   "cell_type": "code",
   "execution_count": null,
   "id": "a6920007",
   "metadata": {
    "execution": {
     "iopub.execute_input": "2024-11-07T16:57:44.814938Z",
     "iopub.status.busy": "2024-11-07T16:57:44.814685Z",
     "iopub.status.idle": "2024-11-07T16:57:44.975778Z",
     "shell.execute_reply": "2024-11-07T16:57:44.975192Z"
    }
   },
   "outputs": [],
   "source": [
    "line(\n",
    "    {\"sr\": sr3y, \"sr minus 1.96 std\": sr3y_lb, \"sr minus 1.96 adjStd\": sr3y_lb_bis},\n",
    "    start_date=\"1945\",\n",
    ")"
   ]
  },
  {
   "cell_type": "markdown",
   "id": "29313313",
   "metadata": {},
   "source": [
    "Even generic momentum strategies (including industry momentum) have a fairly strong Sharpe ratio... \n",
    "\n",
    "-  ... but the performance includes kurtosis/skewness risk premia, with occasional deep underperformance over a 3-year horizon. "
   ]
  }
 ],
 "metadata": {
  "hide_input": false,
  "kernelspec": {
   "display_name": "skfin 2024",
   "language": "python",
   "name": "skfin"
  },
  "language_info": {
   "codemirror_mode": {
    "name": "ipython",
    "version": 3
   },
   "file_extension": ".py",
   "mimetype": "text/x-python",
   "name": "python",
   "nbconvert_exporter": "python",
   "pygments_lexer": "ipython3",
   "version": "3.9.20"
  },
  "toc": {
   "base_numbering": 1,
   "nav_menu": {},
   "number_sections": true,
   "sideBar": true,
   "skip_h1_title": false,
   "title_cell": "Table of Contents",
   "title_sidebar": "Contents",
   "toc_cell": false,
   "toc_position": {},
   "toc_section_display": true,
   "toc_window_display": false
  }
 },
 "nbformat": 4,
 "nbformat_minor": 5
}
