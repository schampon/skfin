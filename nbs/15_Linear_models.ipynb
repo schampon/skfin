{
 "cells": [
  {
   "cell_type": "markdown",
   "id": "2c795ae3",
   "metadata": {},
   "source": [
    "# Linear models"
   ]
  },
  {
   "cell_type": "markdown",
   "id": "09a3e21f",
   "metadata": {},
   "source": [
    "In this section, we take advantage of some of `scikit-learn` powerful features such as the `pipeline` to run backtests with some learning. This is an extension of the industry momentum backtests presented in the previous section. "
   ]
  },
  {
   "cell_type": "code",
   "execution_count": null,
   "id": "3acf8c53",
   "metadata": {
    "execution": {
     "iopub.execute_input": "2024-11-07T16:52:02.053053Z",
     "iopub.status.busy": "2024-11-07T16:52:02.052699Z",
     "iopub.status.idle": "2024-11-07T16:52:03.514870Z",
     "shell.execute_reply": "2024-11-07T16:52:03.514257Z"
    },
    "tags": []
   },
   "outputs": [],
   "source": [
    "# hide\n",
    "%load_ext autoreload\n",
    "%autoreload 2\n",
    "%matplotlib inline\n",
    "\n",
    "import numpy as np\n",
    "import pandas as pd\n",
    "from matplotlib import pyplot as plt\n",
    "from skfin.plot import heatmap, line\n",
    "from tqdm.auto import tqdm"
   ]
  },
  {
   "cell_type": "markdown",
   "id": "82a818e3",
   "metadata": {},
   "source": [
    "## Ridge / Lasso / Elastic net"
   ]
  },
  {
   "cell_type": "markdown",
   "id": "abc2bf28",
   "metadata": {},
   "source": [
    "For a Ridge regression, the betas $\\langle \\beta_1, ..., \\beta_p \\rangle$ are chosen to minimize \n",
    "$$\n",
    "\\frac{1}{2} \\sum_{i=1}^N (y_i - \\beta_0 - \\sum_{j=1}^p x_{ij} \\beta_j)^2 + \\lambda \\sum_{j=1}^p \\beta_j^2. \n",
    "$$\n",
    "The Ridge regression generally provides more stable and accurate estimates than a standard linear regression. \n",
    "\n",
    "For the Lasso regression, the betas $\\langle \\beta_1,...,\\beta_p \\rangle$ are chosen to minimize \n",
    "$$\n",
    "\\frac{1}{2} \\sum_{i=1}^N (y_i - \\beta_0 - \\sum_{j=1}^p x_{ij} \\beta_j)^2 + \\lambda \\sum_{j=1}^p |\\beta_j|. \n",
    "$$\n",
    "The Lasso tends to promote sparse and stable models that can be more easily interpretable. \n"
   ]
  },
  {
   "cell_type": "markdown",
   "id": "9ffed1c4",
   "metadata": {},
   "source": [
    "Finally, for the Elastic net: the betas $\\langle \\beta_1,... ,\\beta_p \\rangle$ are chosen to minimize \n",
    "$$\n",
    "\t\\frac{1}{2} \\sum_{i=1}^N (y_i - \\beta_0 - \\sum_{j=1}^p x_{ij} \\beta_j)^2 + \\lambda \\sum_{j=1}^p [(1-\\alpha) \\beta_j^2 + \\alpha |\\beta_j|]. \n",
    "$$\n",
    "\n",
    "The lasso penalty is not very good at selecting individual predictors when they are strong and closely related, while the ridge penalty tends to make the coefficients of related variables similar. The elastic net finds a middle ground by potentially averaging the impact of closely related features while encouraging a simpler model overall."
   ]
  },
  {
   "cell_type": "markdown",
   "id": "c6142d23",
   "metadata": {},
   "source": [
    "To give an example, we use a diabetes dataset provided by `sklearn`."
   ]
  },
  {
   "cell_type": "code",
   "execution_count": null,
   "id": "ba68ada8",
   "metadata": {
    "execution": {
     "iopub.execute_input": "2024-11-07T16:52:03.518387Z",
     "iopub.status.busy": "2024-11-07T16:52:03.517922Z",
     "iopub.status.idle": "2024-11-07T16:52:03.652853Z",
     "shell.execute_reply": "2024-11-07T16:52:03.652363Z"
    },
    "tags": []
   },
   "outputs": [],
   "source": [
    "from sklearn.datasets import load_diabetes\n",
    "from sklearn.linear_model import enet_path, lasso_path"
   ]
  },
  {
   "cell_type": "code",
   "execution_count": null,
   "id": "2e5a7801",
   "metadata": {
    "execution": {
     "iopub.execute_input": "2024-11-07T16:52:03.655413Z",
     "iopub.status.busy": "2024-11-07T16:52:03.654995Z",
     "iopub.status.idle": "2024-11-07T16:52:03.689411Z",
     "shell.execute_reply": "2024-11-07T16:52:03.688958Z"
    },
    "tags": []
   },
   "outputs": [],
   "source": [
    "X, y = load_diabetes(return_X_y=True, as_frame=True)"
   ]
  },
  {
   "cell_type": "code",
   "execution_count": null,
   "id": "495890d9",
   "metadata": {
    "execution": {
     "iopub.execute_input": "2024-11-07T16:52:03.691571Z",
     "iopub.status.busy": "2024-11-07T16:52:03.691310Z",
     "iopub.status.idle": "2024-11-07T16:52:03.726143Z",
     "shell.execute_reply": "2024-11-07T16:52:03.725703Z"
    },
    "tags": []
   },
   "outputs": [],
   "source": [
    "X /= X.std(axis=0)\n",
    "eps = 5e-3\n",
    "l1_ratio = 0.5\n",
    "\n",
    "alphas_lasso, coefs_lasso, _ = lasso_path(X, y, eps=eps)\n",
    "alphas_enet, coefs_enet, _ = enet_path(X, y, eps=eps, l1_ratio=l1_ratio)"
   ]
  },
  {
   "cell_type": "code",
   "execution_count": null,
   "id": "2c9d976f",
   "metadata": {
    "execution": {
     "iopub.execute_input": "2024-11-07T16:52:03.728401Z",
     "iopub.status.busy": "2024-11-07T16:52:03.727979Z",
     "iopub.status.idle": "2024-11-07T16:52:04.022270Z",
     "shell.execute_reply": "2024-11-07T16:52:04.021785Z"
    },
    "tags": []
   },
   "outputs": [],
   "source": [
    "fig, ax = plt.subplots(1, 2, figsize=(20, 6))\n",
    "fig.suptitle(\"Coefficients as a function of the shrinkage factor (in log)\")\n",
    "line(\n",
    "    pd.DataFrame(coefs_lasso.T, -1 * np.log(alphas_lasso), columns=X.columns),\n",
    "    title=\"Lasso\",\n",
    "    ax=ax[0],\n",
    ")\n",
    "line(\n",
    "    pd.DataFrame(coefs_enet.T, -1 * np.log(alphas_enet), columns=X.columns),\n",
    "    title=f\"Elastic net (l1_ratio={l1_ratio})\",\n",
    "    ax=ax[1],\n",
    ")"
   ]
  },
  {
   "cell_type": "markdown",
   "id": "f2ca2e18",
   "metadata": {},
   "source": [
    "See more discussion in \n",
    "\n",
    "> Hastie, Trevor, et al. *The elements of statistical learning: data mining, inference, and prediction.* Vol. 2. New York: springer, 2009."
   ]
  },
  {
   "cell_type": "markdown",
   "id": "bf80b0d1",
   "metadata": {},
   "source": [
    "## Revisiting the industry backtest with linear models"
   ]
  },
  {
   "attachments": {},
   "cell_type": "markdown",
   "id": "046cb467-ddb6-4187-8d89-52a0ea06233a",
   "metadata": {},
   "source": [
    "In the `Industry momentum` section, we introduced a feature `X` as 12-month trailing past returns and target `y` as the one-month forward return. For $N$ industries (e.g. $N=12$), `X` and `y` are vectors of size $N$. In this section, we are interested in fitting linear models (potentially with regularisation à la Ridge, Lasso or Elastic Net) such that \n",
    "\n",
    "$$ y = B X, $$ \n",
    "\n",
    "where $B$ is a matrix of size $[N \\times N]$. (In this equation, we ignore intercept terms which are generally small.) This equation falls into two lines of research: \n",
    "\n",
    "- in classic Econometrics, this is called a Vector Autoregressive (VAR) model (.e.g see the [wikipedia article](https://en.wikipedia.org/wiki/Vector_autoregression)). \n",
    "\n",
    "- in Machine-learning, this is often called a `multioutput` model. "
   ]
  },
  {
   "cell_type": "markdown",
   "id": "586f696c",
   "metadata": {},
   "source": [
    "The interpretation of this model in the context of industry timing is that it captures cross-industry effect: \n",
    "\n",
    "- for instance, a increasing trend on oil prices (which is positive for the Energy stocks) might be a negative predictor for sectors that use oil as input (e.g. Manufacturing)\n",
    "\n",
    "Such VAR/multioutput models will pick up the positive lead-lag correlations across industries and therefore potentially enrich the simple `Industry momentum` strategy that we introduced in the previous section."
   ]
  },
  {
   "cell_type": "markdown",
   "id": "3a3755c2",
   "metadata": {},
   "source": [
    "### Scikit-learn Pipeline and Multi-output"
   ]
  },
  {
   "cell_type": "markdown",
   "id": "fb7f38ca",
   "metadata": {},
   "source": [
    "From the [documentation](https://scikit-learn.org/stable/modules/generated/sklearn.pipeline.Pipeline.html), the definition of a `sklearn` pipeline is: \n",
    "\n",
    "> Sequentially apply a list of transforms and a final estimator. Intermediate steps of the pipeline must be ‘transforms’, that is, they must implement fit and transform methods. The final estimator only needs to implement fit. "
   ]
  },
  {
   "cell_type": "markdown",
   "id": "b681e3ea",
   "metadata": {},
   "source": [
    "Estimator like linear regressions or `Ridge` regressions have a `multiouput` argument which allows for a joint fit of multiple target at the same time. This provides a similar behavior to a `sklearn` transormations. Moreover: \n",
    "\n",
    "- in the pipelines that we are building, the last step is the `MeanVariance` class that produces the holdings;  \n",
    "\n",
    "- in the `sklearn` pipelines, all the steps except for the last one must be transformations; \n",
    "\n",
    "- despite formally not having a `transform` function, the `multioutput` linear estimators (such as `Ridge` and `Lasso`) are transformations of a vector `X` of size $N$ into a vector `y` of size $N$. \n",
    "\n",
    "In the following module, we extend the estimators that we will be using to have such `transform` property. "
   ]
  },
  {
   "cell_type": "code",
   "execution_count": null,
   "id": "e9fbe26f",
   "metadata": {
    "execution": {
     "iopub.execute_input": "2024-11-07T16:52:04.025563Z",
     "iopub.status.busy": "2024-11-07T16:52:04.025187Z",
     "iopub.status.idle": "2024-11-07T16:52:04.065855Z",
     "shell.execute_reply": "2024-11-07T16:52:04.065388Z"
    }
   },
   "outputs": [],
   "source": [
    "%%writefile ../skfin/estimators.py\n",
    "from lightgbm.sklearn import LGBMRegressor\n",
    "from sklearn.base import BaseEstimator, clone\n",
    "from sklearn.linear_model import LinearRegression, Ridge, RidgeCV\n",
    "from sklearn.multioutput import MultiOutputRegressor\n",
    "from sklearn.neural_network import MLPRegressor\n",
    "\n",
    "\n",
    "def add_transform_method(cls):\n",
    "    \"\"\"\n",
    "    Decorator to add a 'transform' method to a class that uses the 'predict' method.\n",
    "    \"\"\"\n",
    "    def transform(self, X):\n",
    "        return self.predict(X)\n",
    "        \n",
    "    cls.transform = transform\n",
    "    return cls\n",
    "\n",
    "@add_transform_method\n",
    "class LinearRegression(LinearRegression):\n",
    "    pass\n",
    "\n",
    "@add_transform_method\n",
    "class Ridge(Ridge):\n",
    "    pass\n",
    "\n",
    "@add_transform_method\n",
    "class RidgeCV(RidgeCV):\n",
    "    pass\n",
    "\n",
    "@add_transform_method\n",
    "class MLPRegressor(MLPRegressor):\n",
    "    pass\n",
    "\n",
    "@add_transform_method\n",
    "class MultiOutputRegressor(MultiOutputRegressor):\n",
    "    pass\n",
    "\n",
    "\n",
    "class MultiLGBMRegressor(BaseEstimator):\n",
    "    \"\"\"\n",
    "    Multi-output extension of the lightgbm regressor as a transform class\n",
    "    get_params and set_params attributes necessary for cloning the class\n",
    "    \"\"\"\n",
    "\n",
    "    def __init__(self, **kwargs):\n",
    "        if \"n_jobs\" in kwargs.keys():\n",
    "            kwargs[\"n_jobs\"] = 1\n",
    "        else:\n",
    "            kwargs = {\"n_jobs\": 1, **kwargs}\n",
    "        self.m = MultiOutputRegressor(LGBMRegressor(**kwargs))\n",
    "\n",
    "    def get_params(self, deep=True):\n",
    "        return self.m.estimator.get_params(deep=deep)\n",
    "\n",
    "    def set_params(self, **kwargs):\n",
    "        if \"n_jobs\" in kwargs.keys():\n",
    "            kwargs[\"n_jobs\"] = 1\n",
    "        else:\n",
    "            kwargs = {\"n_jobs\": 1, **kwargs}\n",
    "        return self.m.estimator.set_params(**kwargs)\n",
    "\n",
    "    def fit(self, X, y):\n",
    "        return self.m.fit(X, y)\n",
    "\n",
    "    def transform(self, X):\n",
    "        return self.m.transform(X)"
   ]
  },
  {
   "cell_type": "markdown",
   "id": "e4cd499b",
   "metadata": {},
   "source": [
    "### Linear Regression"
   ]
  },
  {
   "cell_type": "markdown",
   "id": "ae824ec9",
   "metadata": {},
   "source": [
    "We first load the data and the main custom functions to run a backtest. "
   ]
  },
  {
   "cell_type": "code",
   "execution_count": null,
   "id": "3a384bbc",
   "metadata": {
    "execution": {
     "iopub.execute_input": "2024-11-07T16:52:04.068309Z",
     "iopub.status.busy": "2024-11-07T16:52:04.067857Z",
     "iopub.status.idle": "2024-11-07T16:52:04.527226Z",
     "shell.execute_reply": "2024-11-07T16:52:04.526648Z"
    },
    "tags": []
   },
   "outputs": [],
   "source": [
    "from skfin.backtesting import Backtester\n",
    "from skfin.datasets import load_kf_returns\n",
    "from skfin.mv_estimators import MeanVariance\n",
    "\n",
    "returns_data = load_kf_returns(cache_dir=\"data\")\n",
    "\n",
    "ret = returns_data[\"Monthly\"][\"Average_Value_Weighted_Returns\"][:\"1999\"]\n",
    "\n",
    "\n",
    "def transform_X(df, window=12):\n",
    "    return df.rolling(window=window).mean()\n",
    "\n",
    "\n",
    "def transform_y(df):\n",
    "    return df.shift(-1)\n",
    "\n",
    "\n",
    "features = transform_X(ret)\n",
    "target = transform_y(ret)"
   ]
  },
  {
   "cell_type": "markdown",
   "id": "416d9239",
   "metadata": {},
   "source": [
    "As a reference, we re-compute the pnl of a simple `Industry momentum` strategy."
   ]
  },
  {
   "cell_type": "code",
   "execution_count": null,
   "id": "0e82bf01",
   "metadata": {
    "execution": {
     "iopub.execute_input": "2024-11-07T16:52:04.530326Z",
     "iopub.status.busy": "2024-11-07T16:52:04.529912Z",
     "iopub.status.idle": "2024-11-07T16:52:04.738612Z",
     "shell.execute_reply": "2024-11-07T16:52:04.738068Z"
    },
    "tags": []
   },
   "outputs": [],
   "source": [
    "pnls = [\n",
    "    Backtester(MeanVariance(), name=\"Industry momentum\").train(features, target, ret)\n",
    "]"
   ]
  },
  {
   "cell_type": "markdown",
   "id": "2fe21518",
   "metadata": {},
   "source": [
    "We now load the functions that are specific to building `sklearn` pipelines. "
   ]
  },
  {
   "cell_type": "code",
   "execution_count": null,
   "id": "e66fee5e",
   "metadata": {
    "execution": {
     "iopub.execute_input": "2024-11-07T16:52:04.741801Z",
     "iopub.status.busy": "2024-11-07T16:52:04.741267Z",
     "iopub.status.idle": "2024-11-07T16:52:04.766191Z",
     "shell.execute_reply": "2024-11-07T16:52:04.765729Z"
    },
    "tags": []
   },
   "outputs": [],
   "source": [
    "from skfin.estimators import LinearRegression, Ridge\n",
    "from sklearn.pipeline import make_pipeline\n",
    "from sklearn.preprocessing import PolynomialFeatures, StandardScaler"
   ]
  },
  {
   "cell_type": "markdown",
   "id": "f22ffd07",
   "metadata": {},
   "source": [
    "In the following simple pipeline, there are two steps: \n",
    "\n",
    "- the first step is a simple `multioutput` linear regression that produces fitted predictions for each industry\n",
    "\n",
    "- the second step takes these predictors and scales them as holdings with a mean-variance optimisation (with the `MeanVariance` class introduced earlier. "
   ]
  },
  {
   "cell_type": "code",
   "execution_count": null,
   "id": "16b70371",
   "metadata": {
    "execution": {
     "iopub.execute_input": "2024-11-07T16:52:04.768713Z",
     "iopub.status.busy": "2024-11-07T16:52:04.768217Z",
     "iopub.status.idle": "2024-11-07T16:52:04.790670Z",
     "shell.execute_reply": "2024-11-07T16:52:04.790257Z"
    },
    "tags": []
   },
   "outputs": [],
   "source": [
    "estimator = make_pipeline(LinearRegression(), MeanVariance())"
   ]
  },
  {
   "cell_type": "code",
   "execution_count": null,
   "id": "1324d29e",
   "metadata": {
    "execution": {
     "iopub.execute_input": "2024-11-07T16:52:04.792832Z",
     "iopub.status.busy": "2024-11-07T16:52:04.792340Z",
     "iopub.status.idle": "2024-11-07T16:52:06.129160Z",
     "shell.execute_reply": "2024-11-07T16:52:06.128590Z"
    },
    "tags": []
   },
   "outputs": [],
   "source": [
    "m = (\n",
    "    Backtester(estimator, name=\"linear_regression\")\n",
    "    .compute_holdings(features, target)\n",
    "    .compute_pnl(ret)\n",
    ")\n",
    "pnls += [m.pnl_]\n",
    "line(m.pnl_, cumsum=True)"
   ]
  },
  {
   "cell_type": "markdown",
   "id": "3846b149",
   "metadata": {},
   "source": [
    "The linear regression fits an intercept and some coefficients. "
   ]
  },
  {
   "cell_type": "code",
   "execution_count": null,
   "id": "7d7e8b4c",
   "metadata": {
    "execution": {
     "iopub.execute_input": "2024-11-07T16:52:06.131558Z",
     "iopub.status.busy": "2024-11-07T16:52:06.131218Z",
     "iopub.status.idle": "2024-11-07T16:52:06.158920Z",
     "shell.execute_reply": "2024-11-07T16:52:06.158440Z"
    },
    "tags": []
   },
   "outputs": [],
   "source": [
    "ols_ = m.estimators_[0].named_steps[\"linearregression\"]\n",
    "coef_ = ols_.coef_\n",
    "intercept_ = ols_.intercept_\n",
    "vec = ret.mean().values\n",
    "np.allclose(ols_.predict(vec[None, :]), coef_.dot(vec) + intercept_)"
   ]
  },
  {
   "cell_type": "code",
   "execution_count": null,
   "id": "ff7b2a16",
   "metadata": {
    "execution": {
     "iopub.execute_input": "2024-11-07T16:52:06.161192Z",
     "iopub.status.busy": "2024-11-07T16:52:06.160695Z",
     "iopub.status.idle": "2024-11-07T16:52:06.185769Z",
     "shell.execute_reply": "2024-11-07T16:52:06.185317Z"
    },
    "tags": []
   },
   "outputs": [],
   "source": [
    "coefs_ = [m.named_steps[\"linearregression\"].coef_ for m in m.estimators_]\n",
    "coefs_mean = pd.DataFrame(sum(coefs_) / len(coefs_), ret.columns, ret.columns).T"
   ]
  },
  {
   "cell_type": "code",
   "execution_count": null,
   "id": "582ef170",
   "metadata": {
    "execution": {
     "iopub.execute_input": "2024-11-07T16:52:06.187967Z",
     "iopub.status.busy": "2024-11-07T16:52:06.187687Z",
     "iopub.status.idle": "2024-11-07T16:52:06.465050Z",
     "shell.execute_reply": "2024-11-07T16:52:06.464531Z"
    },
    "tags": []
   },
   "outputs": [],
   "source": [
    "heatmap(\n",
    "    coefs_mean.loc[\n",
    "        coefs_mean.mean(1).sort_values().index, coefs_mean.mean(1).sort_values().index\n",
    "    ],\n",
    "    title=\"Average linear regression coefficients (x-axis: predictors, y-axis=targets)\",\n",
    ")"
   ]
  },
  {
   "cell_type": "code",
   "execution_count": null,
   "id": "5bb62825",
   "metadata": {
    "execution": {
     "iopub.execute_input": "2024-11-07T16:52:06.467470Z",
     "iopub.status.busy": "2024-11-07T16:52:06.466918Z",
     "iopub.status.idle": "2024-11-07T16:52:10.152844Z",
     "shell.execute_reply": "2024-11-07T16:52:10.152090Z"
    },
    "tags": []
   },
   "outputs": [],
   "source": [
    "pnls_ = {}\n",
    "for hl in [6, 12, 24]:\n",
    "    features_ = ret.ewm(halflife=hl).mean().fillna(0)\n",
    "    pnls_[hl] = Backtester(estimator).train(features_, target, ret)\n",
    "line(pnls_, cumsum=True, title=\"Robustness on feature half-lives\")"
   ]
  },
  {
   "cell_type": "code",
   "execution_count": null,
   "id": "5a660fe8",
   "metadata": {
    "execution": {
     "iopub.execute_input": "2024-11-07T16:52:10.155342Z",
     "iopub.status.busy": "2024-11-07T16:52:10.155051Z",
     "iopub.status.idle": "2024-11-07T16:52:13.880215Z",
     "shell.execute_reply": "2024-11-07T16:52:13.879577Z"
    },
    "tags": []
   },
   "outputs": [],
   "source": [
    "pnls_ = {}\n",
    "for hl in [6, 12, 24]:\n",
    "    features_ = ret.rolling(window=hl).mean().fillna(0)\n",
    "    pnls_[hl] = Backtester(estimator).train(features_, target, ret)\n",
    "line(pnls_, cumsum=True, title=\"Robustness on features with rolling windows\")"
   ]
  },
  {
   "cell_type": "markdown",
   "id": "7ee4599c",
   "metadata": {},
   "source": [
    "### Ridge"
   ]
  },
  {
   "cell_type": "markdown",
   "id": "a27f6819",
   "metadata": {},
   "source": [
    "Given that the `Ridge` regression applies a constraint across features, each feature needs to be properly rescaled, which is done here with `StandardScalar`."
   ]
  },
  {
   "cell_type": "code",
   "execution_count": null,
   "id": "8cddaec4",
   "metadata": {
    "execution": {
     "iopub.execute_input": "2024-11-07T16:52:13.882700Z",
     "iopub.status.busy": "2024-11-07T16:52:13.882431Z",
     "iopub.status.idle": "2024-11-07T16:52:15.128709Z",
     "shell.execute_reply": "2024-11-07T16:52:15.127942Z"
    },
    "tags": []
   },
   "outputs": [],
   "source": [
    "estimator = make_pipeline(StandardScaler(with_mean=False), Ridge(), MeanVariance())\n",
    "m = (\n",
    "    Backtester(estimator, name=\"ridge\")\n",
    "    .compute_holdings(features, target)\n",
    "    .compute_pnl(ret)\n",
    ")\n",
    "pnls += [m.pnl_]\n",
    "line(m.pnl_, cumsum=True)"
   ]
  },
  {
   "cell_type": "code",
   "execution_count": null,
   "id": "39459234",
   "metadata": {
    "execution": {
     "iopub.execute_input": "2024-11-07T16:52:15.131143Z",
     "iopub.status.busy": "2024-11-07T16:52:15.130877Z",
     "iopub.status.idle": "2024-11-07T16:52:19.650025Z",
     "shell.execute_reply": "2024-11-07T16:52:19.649356Z"
    },
    "tags": []
   },
   "outputs": [],
   "source": [
    "pnls_ = {}\n",
    "for alpha in [0.1, 1, 10, 100]:\n",
    "    estimator_ = make_pipeline(\n",
    "        StandardScaler(with_mean=False), Ridge(alpha=alpha), MeanVariance()\n",
    "    )\n",
    "    pnls_[alpha] = Backtester(estimator_).train(features, target, ret)\n",
    "line(pnls_, cumsum=True, title=\"Ridge: Robustness on alpha\")"
   ]
  },
  {
   "cell_type": "markdown",
   "id": "78dd729b",
   "metadata": {},
   "source": [
    "### Ridge with feature expansion"
   ]
  },
  {
   "cell_type": "markdown",
   "id": "fbdedafd",
   "metadata": {},
   "source": [
    "We can expand the set of features by using polynomial transfomrs with `PolynomialFeatures`."
   ]
  },
  {
   "cell_type": "code",
   "execution_count": null,
   "id": "90280d55",
   "metadata": {
    "execution": {
     "iopub.execute_input": "2024-11-07T16:52:19.652443Z",
     "iopub.status.busy": "2024-11-07T16:52:19.652181Z",
     "iopub.status.idle": "2024-11-07T16:52:19.689481Z",
     "shell.execute_reply": "2024-11-07T16:52:19.688917Z"
    },
    "tags": []
   },
   "outputs": [],
   "source": [
    "PolynomialFeatures(degree=2).fit_transform(ret.iloc[:10]).shape"
   ]
  },
  {
   "cell_type": "markdown",
   "id": "6807e5ba",
   "metadata": {},
   "source": [
    "Number of new features: intercept, initial features (=12), squared features (12), all cross features of degree 1 (=6*11): "
   ]
  },
  {
   "cell_type": "code",
   "execution_count": null,
   "id": "060b301d",
   "metadata": {
    "execution": {
     "iopub.execute_input": "2024-11-07T16:52:19.691528Z",
     "iopub.status.busy": "2024-11-07T16:52:19.691314Z",
     "iopub.status.idle": "2024-11-07T16:52:19.713369Z",
     "shell.execute_reply": "2024-11-07T16:52:19.712855Z"
    },
    "tags": []
   },
   "outputs": [],
   "source": [
    "estimator = make_pipeline(\n",
    "    StandardScaler(with_mean=False),\n",
    "    PolynomialFeatures(degree=2),\n",
    "    Ridge(alpha=100),\n",
    "    MeanVariance(),\n",
    ")"
   ]
  },
  {
   "cell_type": "code",
   "execution_count": null,
   "id": "2f7129c3",
   "metadata": {
    "execution": {
     "iopub.execute_input": "2024-11-07T16:52:19.715671Z",
     "iopub.status.busy": "2024-11-07T16:52:19.715252Z",
     "iopub.status.idle": "2024-11-07T16:52:19.735927Z",
     "shell.execute_reply": "2024-11-07T16:52:19.735372Z"
    },
    "tags": []
   },
   "outputs": [],
   "source": [
    "print(f\"Number of features generated by degree=2: {1+ 12 + 12 + 6 * 11}\")"
   ]
  },
  {
   "cell_type": "code",
   "execution_count": null,
   "id": "0629c532",
   "metadata": {
    "execution": {
     "iopub.execute_input": "2024-11-07T16:52:19.737886Z",
     "iopub.status.busy": "2024-11-07T16:52:19.737646Z",
     "iopub.status.idle": "2024-11-07T16:52:21.029589Z",
     "shell.execute_reply": "2024-11-07T16:52:21.028923Z"
    },
    "tags": []
   },
   "outputs": [],
   "source": [
    "pnls += [\n",
    "    Backtester(estimator, name=\"ridge_with_feature_expansion\").train(\n",
    "        features_, target, ret\n",
    "    )\n",
    "]\n",
    "#line(m.pnl_, cumsum=True)"
   ]
  },
  {
   "cell_type": "code",
   "execution_count": null,
   "id": "5980e93d",
   "metadata": {
    "execution": {
     "iopub.execute_input": "2024-11-07T16:52:21.032388Z",
     "iopub.status.busy": "2024-11-07T16:52:21.031996Z",
     "iopub.status.idle": "2024-11-07T16:52:28.220462Z",
     "shell.execute_reply": "2024-11-07T16:52:28.219919Z"
    },
    "tags": []
   },
   "outputs": [],
   "source": [
    "pnls_ = {}\n",
    "for alpha in [0.1, 1, 10, 100, 1000]:\n",
    "    estimator_ = make_pipeline(\n",
    "        StandardScaler(with_mean=False),\n",
    "        PolynomialFeatures(degree=2),\n",
    "        Ridge(alpha=alpha),\n",
    "        MeanVariance(),\n",
    "    )\n",
    "    pnls_[alpha] = Backtester(estimator_).train(features_, target, ret)\n",
    "line(pnls_, cumsum=True, title=\"Ridge with feature expansion: Robustness on alpha\")"
   ]
  },
  {
   "cell_type": "markdown",
   "id": "bb9c7216",
   "metadata": {},
   "source": [
    "Putting all the types of linear predictors together, we can compare the cumulative pnls in the graph below."
   ]
  },
  {
   "cell_type": "code",
   "execution_count": null,
   "id": "8e40c0b7",
   "metadata": {
    "execution": {
     "iopub.execute_input": "2024-11-07T16:52:28.222899Z",
     "iopub.status.busy": "2024-11-07T16:52:28.222505Z",
     "iopub.status.idle": "2024-11-07T16:52:28.943441Z",
     "shell.execute_reply": "2024-11-07T16:52:28.942982Z"
    },
    "tags": []
   },
   "outputs": [],
   "source": [
    "line(pd.concat(pnls, axis=1).assign(ALL=lambda x: x.mean(axis=1)), cumsum=True)"
   ]
  }
 ],
 "metadata": {
  "hide_input": false,
  "kernelspec": {
   "display_name": "skfin 2024",
   "language": "python",
   "name": "skfin"
  },
  "language_info": {
   "codemirror_mode": {
    "name": "ipython",
    "version": 3
   },
   "file_extension": ".py",
   "mimetype": "text/x-python",
   "name": "python",
   "nbconvert_exporter": "python",
   "pygments_lexer": "ipython3",
   "version": "3.9.20"
  },
  "toc": {
   "base_numbering": 1,
   "nav_menu": {},
   "number_sections": false,
   "sideBar": true,
   "skip_h1_title": false,
   "title_cell": "Table of Contents",
   "title_sidebar": "Contents",
   "toc_cell": false,
   "toc_position": {},
   "toc_section_display": true,
   "toc_window_display": false
  },
  "widgets": {
   "application/vnd.jupyter.widget-state+json": {
    "state": {
     "259e9b594fb444a7a69b9d3913447d94": {
      "model_module": "@jupyter-widgets/controls",
      "model_module_version": "2.0.0",
      "model_name": "FloatProgressModel",
      "state": {
       "_dom_classes": [],
       "_model_module": "@jupyter-widgets/controls",
       "_model_module_version": "2.0.0",
       "_model_name": "FloatProgressModel",
       "_view_count": null,
       "_view_module": "@jupyter-widgets/controls",
       "_view_module_version": "2.0.0",
       "_view_name": "ProgressView",
       "bar_style": "success",
       "description": "",
       "description_allow_html": false,
       "layout": "IPY_MODEL_cdb0e5b96f9444f48051e90c3bef15c9",
       "max": 3,
       "min": 0,
       "orientation": "horizontal",
       "style": "IPY_MODEL_5e3e87972f31445aa15827921b26a3aa",
       "tabbable": null,
       "tooltip": null,
       "value": 3
      }
     },
     "4102aa0a4ac64eef92ef75e977f8df35": {
      "model_module": "@jupyter-widgets/base",
      "model_module_version": "2.0.0",
      "model_name": "LayoutModel",
      "state": {
       "_model_module": "@jupyter-widgets/base",
       "_model_module_version": "2.0.0",
       "_model_name": "LayoutModel",
       "_view_count": null,
       "_view_module": "@jupyter-widgets/base",
       "_view_module_version": "2.0.0",
       "_view_name": "LayoutView",
       "align_content": null,
       "align_items": null,
       "align_self": null,
       "border_bottom": null,
       "border_left": null,
       "border_right": null,
       "border_top": null,
       "bottom": null,
       "display": null,
       "flex": null,
       "flex_flow": null,
       "grid_area": null,
       "grid_auto_columns": null,
       "grid_auto_flow": null,
       "grid_auto_rows": null,
       "grid_column": null,
       "grid_gap": null,
       "grid_row": null,
       "grid_template_areas": null,
       "grid_template_columns": null,
       "grid_template_rows": null,
       "height": null,
       "justify_content": null,
       "justify_items": null,
       "left": null,
       "margin": null,
       "max_height": null,
       "max_width": null,
       "min_height": null,
       "min_width": null,
       "object_fit": null,
       "object_position": null,
       "order": null,
       "overflow": null,
       "padding": null,
       "right": null,
       "top": null,
       "visibility": null,
       "width": null
      }
     },
     "43e7d328cdc14916837a92e7aa06f352": {
      "model_module": "@jupyter-widgets/controls",
      "model_module_version": "2.0.0",
      "model_name": "HTMLStyleModel",
      "state": {
       "_model_module": "@jupyter-widgets/controls",
       "_model_module_version": "2.0.0",
       "_model_name": "HTMLStyleModel",
       "_view_count": null,
       "_view_module": "@jupyter-widgets/base",
       "_view_module_version": "2.0.0",
       "_view_name": "StyleView",
       "background": null,
       "description_width": "",
       "font_size": null,
       "text_color": null
      }
     },
     "5e3e87972f31445aa15827921b26a3aa": {
      "model_module": "@jupyter-widgets/controls",
      "model_module_version": "2.0.0",
      "model_name": "ProgressStyleModel",
      "state": {
       "_model_module": "@jupyter-widgets/controls",
       "_model_module_version": "2.0.0",
       "_model_name": "ProgressStyleModel",
       "_view_count": null,
       "_view_module": "@jupyter-widgets/base",
       "_view_module_version": "2.0.0",
       "_view_name": "StyleView",
       "bar_color": null,
       "description_width": ""
      }
     },
     "60b21535e2be4f4997812df845a723f8": {
      "model_module": "@jupyter-widgets/controls",
      "model_module_version": "2.0.0",
      "model_name": "HTMLStyleModel",
      "state": {
       "_model_module": "@jupyter-widgets/controls",
       "_model_module_version": "2.0.0",
       "_model_name": "HTMLStyleModel",
       "_view_count": null,
       "_view_module": "@jupyter-widgets/base",
       "_view_module_version": "2.0.0",
       "_view_name": "StyleView",
       "background": null,
       "description_width": "",
       "font_size": null,
       "text_color": null
      }
     },
     "7baaf86bebca48adbfb24c6da1ae2a62": {
      "model_module": "@jupyter-widgets/base",
      "model_module_version": "2.0.0",
      "model_name": "LayoutModel",
      "state": {
       "_model_module": "@jupyter-widgets/base",
       "_model_module_version": "2.0.0",
       "_model_name": "LayoutModel",
       "_view_count": null,
       "_view_module": "@jupyter-widgets/base",
       "_view_module_version": "2.0.0",
       "_view_name": "LayoutView",
       "align_content": null,
       "align_items": null,
       "align_self": null,
       "border_bottom": null,
       "border_left": null,
       "border_right": null,
       "border_top": null,
       "bottom": null,
       "display": null,
       "flex": null,
       "flex_flow": null,
       "grid_area": null,
       "grid_auto_columns": null,
       "grid_auto_flow": null,
       "grid_auto_rows": null,
       "grid_column": null,
       "grid_gap": null,
       "grid_row": null,
       "grid_template_areas": null,
       "grid_template_columns": null,
       "grid_template_rows": null,
       "height": null,
       "justify_content": null,
       "justify_items": null,
       "left": null,
       "margin": null,
       "max_height": null,
       "max_width": null,
       "min_height": null,
       "min_width": null,
       "object_fit": null,
       "object_position": null,
       "order": null,
       "overflow": null,
       "padding": null,
       "right": null,
       "top": null,
       "visibility": null,
       "width": null
      }
     },
     "949badde7f6e4ca094b695fa9cc250ae": {
      "model_module": "@jupyter-widgets/controls",
      "model_module_version": "2.0.0",
      "model_name": "HTMLModel",
      "state": {
       "_dom_classes": [],
       "_model_module": "@jupyter-widgets/controls",
       "_model_module_version": "2.0.0",
       "_model_name": "HTMLModel",
       "_view_count": null,
       "_view_module": "@jupyter-widgets/controls",
       "_view_module_version": "2.0.0",
       "_view_name": "HTMLView",
       "description": "",
       "description_allow_html": false,
       "layout": "IPY_MODEL_d31af81175764be2adda06127976e6aa",
       "placeholder": "​",
       "style": "IPY_MODEL_43e7d328cdc14916837a92e7aa06f352",
       "tabbable": null,
       "tooltip": null,
       "value": "100%"
      }
     },
     "9c8e75e1d358488fab0e590e10e0f3a8": {
      "model_module": "@jupyter-widgets/controls",
      "model_module_version": "2.0.0",
      "model_name": "HBoxModel",
      "state": {
       "_dom_classes": [],
       "_model_module": "@jupyter-widgets/controls",
       "_model_module_version": "2.0.0",
       "_model_name": "HBoxModel",
       "_view_count": null,
       "_view_module": "@jupyter-widgets/controls",
       "_view_module_version": "2.0.0",
       "_view_name": "HBoxView",
       "box_style": "",
       "children": [
        "IPY_MODEL_949badde7f6e4ca094b695fa9cc250ae",
        "IPY_MODEL_259e9b594fb444a7a69b9d3913447d94",
        "IPY_MODEL_babe618abc6a431b87932f2d6b9abc17"
       ],
       "layout": "IPY_MODEL_4102aa0a4ac64eef92ef75e977f8df35",
       "tabbable": null,
       "tooltip": null
      }
     },
     "babe618abc6a431b87932f2d6b9abc17": {
      "model_module": "@jupyter-widgets/controls",
      "model_module_version": "2.0.0",
      "model_name": "HTMLModel",
      "state": {
       "_dom_classes": [],
       "_model_module": "@jupyter-widgets/controls",
       "_model_module_version": "2.0.0",
       "_model_name": "HTMLModel",
       "_view_count": null,
       "_view_module": "@jupyter-widgets/controls",
       "_view_module_version": "2.0.0",
       "_view_name": "HTMLView",
       "description": "",
       "description_allow_html": false,
       "layout": "IPY_MODEL_7baaf86bebca48adbfb24c6da1ae2a62",
       "placeholder": "​",
       "style": "IPY_MODEL_60b21535e2be4f4997812df845a723f8",
       "tabbable": null,
       "tooltip": null,
       "value": " 3/3 [00:03&lt;00:00,  1.08s/it]"
      }
     },
     "cdb0e5b96f9444f48051e90c3bef15c9": {
      "model_module": "@jupyter-widgets/base",
      "model_module_version": "2.0.0",
      "model_name": "LayoutModel",
      "state": {
       "_model_module": "@jupyter-widgets/base",
       "_model_module_version": "2.0.0",
       "_model_name": "LayoutModel",
       "_view_count": null,
       "_view_module": "@jupyter-widgets/base",
       "_view_module_version": "2.0.0",
       "_view_name": "LayoutView",
       "align_content": null,
       "align_items": null,
       "align_self": null,
       "border_bottom": null,
       "border_left": null,
       "border_right": null,
       "border_top": null,
       "bottom": null,
       "display": null,
       "flex": null,
       "flex_flow": null,
       "grid_area": null,
       "grid_auto_columns": null,
       "grid_auto_flow": null,
       "grid_auto_rows": null,
       "grid_column": null,
       "grid_gap": null,
       "grid_row": null,
       "grid_template_areas": null,
       "grid_template_columns": null,
       "grid_template_rows": null,
       "height": null,
       "justify_content": null,
       "justify_items": null,
       "left": null,
       "margin": null,
       "max_height": null,
       "max_width": null,
       "min_height": null,
       "min_width": null,
       "object_fit": null,
       "object_position": null,
       "order": null,
       "overflow": null,
       "padding": null,
       "right": null,
       "top": null,
       "visibility": null,
       "width": null
      }
     },
     "d31af81175764be2adda06127976e6aa": {
      "model_module": "@jupyter-widgets/base",
      "model_module_version": "2.0.0",
      "model_name": "LayoutModel",
      "state": {
       "_model_module": "@jupyter-widgets/base",
       "_model_module_version": "2.0.0",
       "_model_name": "LayoutModel",
       "_view_count": null,
       "_view_module": "@jupyter-widgets/base",
       "_view_module_version": "2.0.0",
       "_view_name": "LayoutView",
       "align_content": null,
       "align_items": null,
       "align_self": null,
       "border_bottom": null,
       "border_left": null,
       "border_right": null,
       "border_top": null,
       "bottom": null,
       "display": null,
       "flex": null,
       "flex_flow": null,
       "grid_area": null,
       "grid_auto_columns": null,
       "grid_auto_flow": null,
       "grid_auto_rows": null,
       "grid_column": null,
       "grid_gap": null,
       "grid_row": null,
       "grid_template_areas": null,
       "grid_template_columns": null,
       "grid_template_rows": null,
       "height": null,
       "justify_content": null,
       "justify_items": null,
       "left": null,
       "margin": null,
       "max_height": null,
       "max_width": null,
       "min_height": null,
       "min_width": null,
       "object_fit": null,
       "object_position": null,
       "order": null,
       "overflow": null,
       "padding": null,
       "right": null,
       "top": null,
       "visibility": null,
       "width": null
      }
     }
    },
    "version_major": 2,
    "version_minor": 0
   }
  }
 },
 "nbformat": 4,
 "nbformat_minor": 5
}
