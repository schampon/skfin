{
 "cells": [
  {
   "cell_type": "markdown",
   "id": "689cb3f3",
   "metadata": {
    "editable": true,
    "slideshow": {
     "slide_type": ""
    },
    "tags": []
   },
   "source": [
    "# Non-Normality in Portfolio Returns: Implications for Risk and Performance Evaluation"
   ]
  },
  {
   "cell_type": "code",
   "execution_count": null,
   "id": "bd46a36c",
   "metadata": {
    "execution": {
     "iopub.execute_input": "2025-09-29T15:45:09.899060Z",
     "iopub.status.busy": "2025-09-29T15:45:09.898821Z",
     "iopub.status.idle": "2025-09-29T15:45:12.019743Z",
     "shell.execute_reply": "2025-09-29T15:45:12.019093Z"
    }
   },
   "outputs": [],
   "source": [
    "# hide\n",
    "%load_ext autoreload\n",
    "%autoreload 2\n",
    "%matplotlib inline\n",
    "\n",
    "import logging\n",
    "from pathlib import Path\n",
    "\n",
    "import numpy as np\n",
    "import pandas as pd\n",
    "from IPython.display import Image, display\n",
    "from matplotlib import pyplot as plt\n",
    "from tqdm.auto import tqdm\n",
    "\n",
    "logging.basicConfig(level=logging.CRITICAL)\n",
    "\n",
    "from lightgbm.sklearn import LGBMRegressor\n",
    "from skfin.backtesting import Backtester\n",
    "from skfin.datasets_ import load_kf_returns\n",
    "from skfin.estimators import MLPRegressor, MultiOutputRegressor, RidgeCV\n",
    "from skfin.metrics import sharpe_ratio\n",
    "from skfin.mv_estimators import MeanVariance\n",
    "from skfin.plot import *\n",
    "from sklearn.pipeline import make_pipeline\n",
    "from sklearn.preprocessing import PolynomialFeatures, StandardScaler\n",
    "\n",
    "returns_data = load_kf_returns(cache_dir=\"data\")\n",
    "ret = returns_data[\"Monthly\"][\"Average_Value_Weighted_Returns\"][:\"1999\"]\n",
    "\n",
    "transform_X = lambda x: x.rolling(12).mean().fillna(0)\n",
    "transform_y = lambda x: x.shift(-1)\n",
    "features = transform_X(ret)\n",
    "target = transform_y(ret)"
   ]
  },
  {
   "cell_type": "markdown",
   "id": "b83370f1-f519-4893-9e6b-6343ad888ea3",
   "metadata": {},
   "source": [
    "## Non-normality"
   ]
  },
  {
   "cell_type": "markdown",
   "id": "6a8714c2-faab-4a42-895a-edf810700188",
   "metadata": {},
   "source": [
    "At the stock level, non-normality—such as skewness or kurtosis in return distributions—may not be a significant concern. This is because, within a diversified portfolio, it is possible to be short a stock with negative skewness, and some portion of stock-specific kurtosis can be diversified away. The collective effect is that idiosyncratic non-normality at the individual stock level does not typically pose a substantial problem for the overall portfolio.\n",
    "\n",
    "However, non-normality at the factor level is much harder to diversify, particularly when dealing with strategies based on risk premia, which tend to be inherently non-normally distributed. In risk-off environments, by definition, these strategies often fail to deliver positive returns, resulting in particularly thick left tails in the return distribution and exposing the portfolio to “rare disaster” events. \n",
    "\n",
    "In this section, we discuss how to document such non-normality by using statistical tests that focus on skewness and kurtosis, and by illustrating these methods with examples such as industry momentum strategies."
   ]
  },
  {
   "cell_type": "markdown",
   "id": "f65e781d",
   "metadata": {},
   "source": [
    "The statistics of higher moments: \n",
    "\n",
    "-  $skewness =  \\frac{E[(x - \\bar{x})^3]}{\\sigma_x^3}$ \n",
    "\n",
    "-  $kurtosis = \\frac{E[(x - \\bar{x})^4]}{\\sigma_x^4}$\n",
    "\n",
    "- Jarque-Bera statistics $JB = \\frac{T}{6} \\left(skewness^2 + \\frac{(kurtosis-3)^2}{4} \\right)$ \n",
    "\n",
    "If the observations $\\{x_1,..,x_T\\}$ are independant and follow a Normal distribution, then \n",
    "\n",
    "    1. $skewness=0$ \n",
    "\n",
    "    1. $kurtosis=3$ \n",
    "\n",
    "    1. $JB$ follows of Chi-squared distribution with two degrees of freedom. \n",
    "\n",
    "The third assertion provides a way to test whether a variable is Normally distributed. "
   ]
  },
  {
   "cell_type": "code",
   "execution_count": null,
   "id": "3196462f",
   "metadata": {
    "execution": {
     "iopub.execute_input": "2025-09-29T15:45:12.022292Z",
     "iopub.status.busy": "2025-09-29T15:45:12.021915Z",
     "iopub.status.idle": "2025-09-29T15:45:12.047828Z",
     "shell.execute_reply": "2025-09-29T15:45:12.047282Z"
    }
   },
   "outputs": [],
   "source": [
    "from scipy.stats import jarque_bera, kurtosis, skew"
   ]
  },
  {
   "cell_type": "markdown",
   "id": "692d6615",
   "metadata": {},
   "source": [
    "**Normally distributed random data**:"
   ]
  },
  {
   "cell_type": "code",
   "execution_count": null,
   "id": "443d7b59",
   "metadata": {
    "execution": {
     "iopub.execute_input": "2025-09-29T15:45:12.049966Z",
     "iopub.status.busy": "2025-09-29T15:45:12.049611Z",
     "iopub.status.idle": "2025-09-29T15:45:12.078855Z",
     "shell.execute_reply": "2025-09-29T15:45:12.078361Z"
    }
   },
   "outputs": [],
   "source": [
    "(T, N) = ret.shape\n",
    "x = np.random.normal(0, 1, T)  # create random values based on a normal distribution\n",
    "\n",
    "print(f\"Excess kurtosis of normal distribution (should be 0): {kurtosis(x):.3f}\")\n",
    "print(f\"Skewness of normal distribution (should be 0): {skew(x):.3f}\")\n",
    "print(f\"Jarque beta of normal distribution (should be 0): {jarque_bera(x)[0]:.3f}\")"
   ]
  },
  {
   "cell_type": "markdown",
   "id": "32811c4d-6045-4b3a-9fec-d468841ee9ea",
   "metadata": {},
   "source": [
    "We can _not_ reject the null hypothesis that the data follows is a Normal distribution! "
   ]
  },
  {
   "cell_type": "markdown",
   "id": "b5f7a773",
   "metadata": {},
   "source": [
    "With `fisher=False`, the function `kurtosis` computes the raw kurtosis (the default is `fisher=True`). "
   ]
  },
  {
   "cell_type": "code",
   "execution_count": null,
   "id": "c8b68558",
   "metadata": {
    "execution": {
     "iopub.execute_input": "2025-09-29T15:45:12.080754Z",
     "iopub.status.busy": "2025-09-29T15:45:12.080519Z",
     "iopub.status.idle": "2025-09-29T15:45:12.108693Z",
     "shell.execute_reply": "2025-09-29T15:45:12.108204Z"
    }
   },
   "outputs": [],
   "source": [
    "kurtosis(np.random.normal(0, 1, T), fisher=False)"
   ]
  },
  {
   "cell_type": "markdown",
   "id": "8963f383",
   "metadata": {},
   "source": [
    "**Uniformly distributed random data**: "
   ]
  },
  {
   "cell_type": "code",
   "execution_count": null,
   "id": "9adf2ae7",
   "metadata": {
    "execution": {
     "iopub.execute_input": "2025-09-29T15:45:12.110518Z",
     "iopub.status.busy": "2025-09-29T15:45:12.110285Z",
     "iopub.status.idle": "2025-09-29T15:45:12.138524Z",
     "shell.execute_reply": "2025-09-29T15:45:12.138032Z"
    }
   },
   "outputs": [],
   "source": [
    "x = np.random.uniform(0, 1, T)  # create random values based on a normal distribution\n",
    "\n",
    "print(f\"Excess kurtosis of normal distribution (should be 0): {kurtosis(x):.3f}\")\n",
    "print(f\"Skewness of normal distribution (should be 0): {skew(x):.3f}\")\n",
    "print(f\"Jarque beta of normal distribution (should be 0): {jarque_bera(x)[0]:.3f}\")"
   ]
  },
  {
   "cell_type": "markdown",
   "id": "d6d3fd91-3f08-4727-9725-68a2b5f31acd",
   "metadata": {},
   "source": [
    "In this case, we can reject at any confidence level the null hypothesis that the data follows a Normal distribution! "
   ]
  },
  {
   "cell_type": "markdown",
   "id": "c6b30cfd",
   "metadata": {},
   "source": [
    "**Industry momentum data**: "
   ]
  },
  {
   "cell_type": "code",
   "execution_count": null,
   "id": "fbf6fd98",
   "metadata": {
    "execution": {
     "iopub.execute_input": "2025-09-29T15:45:12.140357Z",
     "iopub.status.busy": "2025-09-29T15:45:12.140125Z",
     "iopub.status.idle": "2025-09-29T15:45:12.346565Z",
     "shell.execute_reply": "2025-09-29T15:45:12.345950Z"
    }
   },
   "outputs": [],
   "source": [
    "pnl = (\n",
    "    Backtester(MeanVariance()).compute_holdings(features, target).compute_pnl(ret).pnl_\n",
    ")"
   ]
  },
  {
   "cell_type": "code",
   "execution_count": null,
   "id": "c0b2432b",
   "metadata": {
    "execution": {
     "iopub.execute_input": "2025-09-29T15:45:12.348727Z",
     "iopub.status.busy": "2025-09-29T15:45:12.348437Z",
     "iopub.status.idle": "2025-09-29T15:45:12.380696Z",
     "shell.execute_reply": "2025-09-29T15:45:12.380194Z"
    }
   },
   "outputs": [],
   "source": [
    "x = pnl\n",
    "\n",
    "print(f\"Excess kurtosis of normal distribution (should be 0): {kurtosis(x):.3f}\")\n",
    "print(f\"Skewness of normal distribution (should be 0): {skew(x):.3f}\")\n",
    "print(f\"Jarque beta of normal distribution (should be 0): {jarque_bera(x)[0]:.3f}\")"
   ]
  },
  {
   "cell_type": "markdown",
   "id": "c3310d24-926e-4498-bbb2-9faed19babc2",
   "metadata": {},
   "source": [
    "As in the uniform  case, we can also reject the null hypothesis of a Normal distribution "
   ]
  },
  {
   "cell_type": "code",
   "execution_count": null,
   "id": "861675e2",
   "metadata": {
    "execution": {
     "iopub.execute_input": "2025-09-29T15:45:12.382571Z",
     "iopub.status.busy": "2025-09-29T15:45:12.382316Z",
     "iopub.status.idle": "2025-09-29T15:45:12.534599Z",
     "shell.execute_reply": "2025-09-29T15:45:12.534037Z"
    }
   },
   "outputs": [],
   "source": [
    "print(f\"Pnl std={pnl.std():.2f}\")\n",
    "pnl.hist();"
   ]
  },
  {
   "cell_type": "markdown",
   "id": "f227a8ce",
   "metadata": {},
   "source": [
    " The test in the notebook shows that the normality assumption is easily rejected for the momentum strategy return – there are a lot of observations (T large) and significant deviations."
   ]
  },
  {
   "cell_type": "markdown",
   "id": "5578489f",
   "metadata": {},
   "source": [
    "## The statistics of rolling sharpe ratio"
   ]
  },
  {
   "cell_type": "markdown",
   "id": "1141ffea",
   "metadata": {},
   "source": [
    "We now focus on 3-year rolling sharpe ratio:\n",
    "\n",
    "- A 3-year horizon is the natural horizon to evaluate the performance of investment strategies.\n",
    "\n",
    "- Significant underperformance over 3 years is almost always a show-stopper!\n",
    "\n",
    "- In particular, we assess the impact of skewness and kurtosis on the rolling sharpe ratio."
   ]
  },
  {
   "cell_type": "markdown",
   "id": "517aa57e",
   "metadata": {},
   "source": [
    "**Lemma** [Lo, 1996]. When the underlying data is iid Normally distributed, the limiting distribution of the estimated  monthly sharpe ratio $\\hat{S}$ (relative to the true unobserved $S$) is \n",
    "$$\n",
    "\\sqrt{T} (\\hat{S} - S) \\rightarrow N\\left(0, 1 + \\frac{S^2}{2}\\right) \n",
    "$$\n",
    "*Proof*. For independently Normally distributed returns, we have\n",
    "$$\n",
    "\\sqrt{T} \\left[ \\begin {array}{c} \\hat{\\mu} - \\mu \\\\ \\hat{\\sigma}^2- \\sigma^2  \\end {array} \\right] \\rightarrow N \\left( \\left[ \\begin {array}{c} 0 \\\\ 0 \\end {array} \\right];  \\left[ \\begin {array}{cc} \\sigma^2 & 0 \\\\ 0 & 2 \\sigma^4  \\end {array} \\right]  \\right)\n",
    "$$\n",
    "For $S = g(\\mu,\\sigma^2) = \\frac{\\mu}{\\sqrt{\\sigma^2}}$, the asymptotic variance of $\\hat{S}$ is \n",
    "$$\n",
    " \\left[ \\begin {array}{c} \\frac{\\partial g}{\\partial \\mu} \\\\ \\frac{\\partial g}{\\partial (\\sigma^2)} \\end {array} \\right]^T \\left[ \\begin {array}{cc} \\sigma^2 &  0 \\\\ 0 & 2 \\sigma^4  \\end {array} \\right]  \\left[ \\begin {array}{c} \\frac{\\partial g}{\\partial \\mu} \\\\ \\frac{\\partial g}{\\partial (\\sigma^2)} \\end {array} \\right]  = \\frac{1}{\\sigma^2} \\sigma^2 +   \\left(- \\frac{\\mu}{2\\sigma^3}\\right)^2 (2 \\sigma^4)\n",
    "$$"
   ]
  },
  {
   "cell_type": "markdown",
   "id": "ec53f202",
   "metadata": {},
   "source": [
    "**Corollary.** The minimum monthly $S_0$ for a monthly strategy where the Sharpe ratio is always statistically different from 0 at the 5\\%-confidence level over a window of $T$ months is given by \n",
    "\n",
    "$$S_0 - 1.96 \\sqrt{\\frac{1+\\frac{S_0^2}{2}}{T}} =0  \\Leftrightarrow  S_0 = \\sqrt{\\frac{1}{\\frac{T}{1.96^2}-1/2}} $$\n",
    "\n",
    "- Rule of thumb: for a 36-month horizon, then the monthly $S_0 \\approx 0.35$ or after annualization \n",
    "\n",
    "$$ S_0^{\\text {annualized}} \\approx .35 \\times  \\sqrt{12} = 1.16 \n",
    "$$"
   ]
  },
  {
   "cell_type": "markdown",
   "id": "15e530c7",
   "metadata": {},
   "source": [
    "When the returns are not Normally distributed ($skewness \\neq 0$ and (excess) $kurtosis\\neq 0$), the Central Limit theorem still ensures the asymptotic normality. (In what follows, `kurtosis` refers to the \"excess kurtosis.)\n",
    "\n",
    "\n",
    "**Lemma** [Mertens, 2002] The asymptotic distribution of $\\hat{S}$ is  \n",
    "\n",
    "$$\n",
    "\\sqrt{T} (\\hat{S} - S) \\rightarrow N\\left(0, V_{\\infty} \\right) \n",
    "$$\n",
    "where $V_{\\infty} = 1 + \\frac{S^2}{2} - skewness \\times S + \\frac{kurtosis \\times S^2}{4}$.\n",
    "\n",
    "*Proof.* The asymptotic variance of $\\left[\\begin {array}{c} \\hat{\\mu} - \\mu \\\\ \\hat{\\sigma}^2 - \\sigma^2 \\end {array} \\right]$ is: \n",
    "$$\n",
    "E\\left[\\begin {array}{cc} (r_t - \\mu)^2 & (r_t - \\mu)[(r_t - \\mu)^2 - \\sigma^2]\\\\ (r_t - \\mu)[(r_t - \\mu)^2 - \\sigma^2] & [(r_t - \\mu)^2 - \\sigma^2]^2 \\end {array} \\right]\\\\\n",
    "= \\left[ \\begin {array}{cc} \\sigma^2 & E[(r_t - \\mu)^3] \\\\ E[(r_t - \\mu)^3] & 2 E[(r_t - \\mu)^4] - \\sigma^4  \\end {array} \\right]\n",
    "$$"
   ]
  },
  {
   "cell_type": "markdown",
   "id": "4f3aa9da",
   "metadata": {},
   "source": [
    "**Corollary.** The minimum $S_0(skewness, kurtosis)$ for a monthly strategy where the information is always statistically different from 0 at the 5%-confidence level over a window of $T$ months is increasing in *kurtosis* and decreasing in *skewness*. \n",
    "\n",
    "*Proof.* The function $f(S,skewness,kurtosis)$ \n",
    "$$\n",
    "= S - 1.96 \\sqrt{\\frac{ 1 + \\frac{S^2}{2} - skewness \\times S + \\frac{kurtosis \\times S^2}{4}}{T}  }\n",
    "$$\n",
    "is increasing in $S$ and *skewness* and decreasing in *kurtosis*, so that $S_0$ defined by $f(S_0,skewness,kurtosis)=0$ is decreasing in *skewness* and increasing in *kurtosis*."
   ]
  },
  {
   "cell_type": "code",
   "execution_count": null,
   "id": "fe021614",
   "metadata": {
    "execution": {
     "iopub.execute_input": "2025-09-29T15:45:12.536760Z",
     "iopub.status.busy": "2025-09-29T15:45:12.536496Z",
     "iopub.status.idle": "2025-09-29T15:45:17.791925Z",
     "shell.execute_reply": "2025-09-29T15:45:17.791365Z"
    }
   },
   "outputs": [],
   "source": [
    "sr3y = pnl.rolling(36).apply(sharpe_ratio)\n",
    "line(sr3y, legend=False, title=\"3-year rolling sharpe ratio\", start_date=\"1945\")"
   ]
  },
  {
   "cell_type": "markdown",
   "id": "9a81e868",
   "metadata": {},
   "source": [
    "Below we compute the two lower bounds for the sharpe ratio."
   ]
  },
  {
   "cell_type": "code",
   "execution_count": null,
   "id": "3fd1543c",
   "metadata": {
    "execution": {
     "iopub.execute_input": "2025-09-29T15:45:17.793892Z",
     "iopub.status.busy": "2025-09-29T15:45:17.793631Z",
     "iopub.status.idle": "2025-09-29T15:45:18.382561Z",
     "shell.execute_reply": "2025-09-29T15:45:18.381935Z"
    }
   },
   "outputs": [],
   "source": [
    "sr3y_lb = sr3y - 1.96 * np.sqrt((1 + 0.5 * sr3y**2) / 36) * np.sqrt(12)\n",
    "skew3y = pnl.rolling(36).apply(skew)\n",
    "kurtosis3y = pnl.rolling(36).apply(kurtosis)\n",
    "sr3y_lb_bis = sr3y - 1.96 * np.sqrt(\n",
    "    (1 + 0.5 * sr3y**2 - skew3y * sr3y + 0.25 * kurtosis3y * sr3y**2) / 36\n",
    ") * np.sqrt(12)"
   ]
  },
  {
   "cell_type": "code",
   "execution_count": null,
   "id": "a6920007",
   "metadata": {
    "execution": {
     "iopub.execute_input": "2025-09-29T15:45:18.384803Z",
     "iopub.status.busy": "2025-09-29T15:45:18.384531Z",
     "iopub.status.idle": "2025-09-29T15:45:18.549415Z",
     "shell.execute_reply": "2025-09-29T15:45:18.548884Z"
    }
   },
   "outputs": [],
   "source": [
    "line(\n",
    "    {\"sr\": sr3y, \"sr minus 1.96 std\": sr3y_lb, \"sr minus 1.96 adjStd\": sr3y_lb_bis},\n",
    "    start_date=\"1945\",\n",
    ")"
   ]
  },
  {
   "cell_type": "markdown",
   "id": "29313313",
   "metadata": {},
   "source": [
    "Even generic momentum strategies (including industry momentum) have a fairly strong Sharpe ratio... \n",
    "\n",
    "-  ... but the performance includes kurtosis/skewness risk premia, with occasional deep underperformance over a 3-year horizon. "
   ]
  }
 ],
 "metadata": {
  "hide_input": false,
  "kernelspec": {
   "display_name": "skfin 2024",
   "language": "python",
   "name": "skfin"
  },
  "language_info": {
   "codemirror_mode": {
    "name": "ipython",
    "version": 3
   },
   "file_extension": ".py",
   "mimetype": "text/x-python",
   "name": "python",
   "nbconvert_exporter": "python",
   "pygments_lexer": "ipython3",
   "version": "3.9.20"
  },
  "toc": {
   "base_numbering": 1,
   "nav_menu": {},
   "number_sections": true,
   "sideBar": true,
   "skip_h1_title": false,
   "title_cell": "Table of Contents",
   "title_sidebar": "Contents",
   "toc_cell": false,
   "toc_position": {},
   "toc_section_display": true,
   "toc_window_display": false
  }
 },
 "nbformat": 4,
 "nbformat_minor": 5
}
