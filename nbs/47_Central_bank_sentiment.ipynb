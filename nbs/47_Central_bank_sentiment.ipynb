{
 "cells": [
  {
   "cell_type": "markdown",
   "metadata": {},
   "source": [
    "# Sentiment in FOMC statements"
   ]
  },
  {
   "cell_type": "code",
   "execution_count": null,
   "metadata": {
    "execution": {
     "iopub.execute_input": "2024-11-07T17:06:07.032850Z",
     "iopub.status.busy": "2024-11-07T17:06:07.032443Z",
     "iopub.status.idle": "2024-11-07T17:06:08.581192Z",
     "shell.execute_reply": "2024-11-07T17:06:08.580646Z"
    }
   },
   "outputs": [],
   "source": [
    "# hide\n",
    "%load_ext autoreload\n",
    "%autoreload 2\n",
    "%matplotlib inline\n",
    "\n",
    "from datetime import date\n",
    "from pathlib import Path\n",
    "\n",
    "import pandas as pd\n",
    "from matplotlib import pyplot as plt\n",
    "from skfin.plot import bar, line\n",
    "from tqdm.auto import tqdm"
   ]
  },
  {
   "cell_type": "markdown",
   "metadata": {},
   "source": [
    "In this section, we use rule-based and learning-based methods to measure sentiment in Federal Open Market Committee (FMOC) statements. These two methods have been discussed previously in the context of corporate regulatory filings (10Ks). "
   ]
  },
  {
   "cell_type": "markdown",
   "metadata": {},
   "source": [
    "## Sentiment in FOMC statements: Loughran-McDonalds dictionary"
   ]
  },
  {
   "cell_type": "markdown",
   "metadata": {},
   "source": [
    "In this section, we measure sentiment with the Loughran-McDonalds sentiment dictionary in two ways: \n",
    "\n",
    "- sentiment = (#positive - #negative)/(#positive + #negative)\n",
    "- sentiment = (#positive - #negative)/(#words)\n",
    "\n",
    "In the first case, short documents (with few or no sentiment words) might lead to biased estimates. "
   ]
  },
  {
   "cell_type": "code",
   "execution_count": null,
   "metadata": {
    "execution": {
     "iopub.execute_input": "2024-11-07T17:06:08.584322Z",
     "iopub.status.busy": "2024-11-07T17:06:08.583898Z",
     "iopub.status.idle": "2024-11-07T17:06:08.760323Z",
     "shell.execute_reply": "2024-11-07T17:06:08.759799Z"
    }
   },
   "outputs": [],
   "source": [
    "import pandas as pd\n",
    "from skfin.datasets import load_fomc_statements, load_loughran_mcdonald_dictionary\n",
    "from skfin.plot import line\n",
    "from skfin.text import coefs_plot, show_text\n",
    "from sklearn.feature_extraction.text import CountVectorizer, TfidfVectorizer"
   ]
  },
  {
   "cell_type": "code",
   "execution_count": null,
   "metadata": {
    "execution": {
     "iopub.execute_input": "2024-11-07T17:06:08.762863Z",
     "iopub.status.busy": "2024-11-07T17:06:08.762404Z",
     "iopub.status.idle": "2024-11-07T17:06:09.023152Z",
     "shell.execute_reply": "2024-11-07T17:06:09.022305Z"
    }
   },
   "outputs": [],
   "source": [
    "statements = load_fomc_statements()\n",
    "lm = load_loughran_mcdonald_dictionary()"
   ]
  },
  {
   "cell_type": "code",
   "execution_count": null,
   "metadata": {
    "execution": {
     "iopub.execute_input": "2024-11-07T17:06:09.025997Z",
     "iopub.status.busy": "2024-11-07T17:06:09.025718Z",
     "iopub.status.idle": "2024-11-07T17:06:09.067404Z",
     "shell.execute_reply": "2024-11-07T17:06:09.066940Z"
    }
   },
   "outputs": [],
   "source": [
    "lm"
   ]
  },
  {
   "cell_type": "code",
   "execution_count": null,
   "metadata": {
    "execution": {
     "iopub.execute_input": "2024-11-07T17:06:09.069651Z",
     "iopub.status.busy": "2024-11-07T17:06:09.069283Z",
     "iopub.status.idle": "2024-11-07T17:06:09.090493Z",
     "shell.execute_reply": "2024-11-07T17:06:09.090054Z"
    }
   },
   "outputs": [],
   "source": [
    "X = statements[\"text\"]"
   ]
  },
  {
   "cell_type": "code",
   "execution_count": null,
   "metadata": {
    "execution": {
     "iopub.execute_input": "2024-11-07T17:06:09.092532Z",
     "iopub.status.busy": "2024-11-07T17:06:09.092270Z",
     "iopub.status.idle": "2024-11-07T17:06:09.362839Z",
     "shell.execute_reply": "2024-11-07T17:06:09.362274Z"
    }
   },
   "outputs": [],
   "source": [
    "funcs = {\n",
    "    \"negative\": lambda x: x.Negative > 0,\n",
    "    \"positive\": lambda x: x.Positive > 0,\n",
    "    \"all\": lambda x: x.Word.notna(),\n",
    "}\n",
    "\n",
    "\n",
    "def get_total_count(X, lm, func):\n",
    "    m = CountVectorizer(vocabulary=lm.loc[func].Word.str.lower().values)\n",
    "    return pd.DataFrame(m.fit_transform(X).toarray(), index=X.index).sum(axis=1)\n",
    "\n",
    "\n",
    "lm_counts = pd.concat({k: get_total_count(X, lm, v) for k, v in funcs.items()}, axis=1)"
   ]
  },
  {
   "cell_type": "code",
   "execution_count": null,
   "metadata": {
    "execution": {
     "iopub.execute_input": "2024-11-07T17:06:09.365525Z",
     "iopub.status.busy": "2024-11-07T17:06:09.365196Z",
     "iopub.status.idle": "2024-11-07T17:06:09.579296Z",
     "shell.execute_reply": "2024-11-07T17:06:09.578811Z"
    }
   },
   "outputs": [],
   "source": [
    "line(\n",
    "    lm_counts.pipe(lambda x: (x.positive - x.negative) / (x.positive + x.negative))\n",
    "    .resample(\"B\")\n",
    "    .last()\n",
    "    .ffill(),\n",
    "    legend=False,\n",
    "    title=\"Sentiment=(pos - neg)/(pos + neg) in FOMC statements\",\n",
    ")"
   ]
  },
  {
   "cell_type": "code",
   "execution_count": null,
   "metadata": {
    "execution": {
     "iopub.execute_input": "2024-11-07T17:06:09.581497Z",
     "iopub.status.busy": "2024-11-07T17:06:09.581267Z",
     "iopub.status.idle": "2024-11-07T17:06:09.768858Z",
     "shell.execute_reply": "2024-11-07T17:06:09.768392Z"
    }
   },
   "outputs": [],
   "source": [
    "line(\n",
    "    lm_counts.pipe(lambda x: (x.positive - x.negative) / x[\"all\"])\n",
    "    .resample(\"B\")\n",
    "    .last()\n",
    "    .ffill(),\n",
    "    legend=False,\n",
    "    title=\"Sentiment=(pos - neg)/(all) in FOMC statements\",\n",
    ")"
   ]
  },
  {
   "cell_type": "code",
   "execution_count": null,
   "metadata": {
    "execution": {
     "iopub.execute_input": "2024-11-07T17:06:09.771141Z",
     "iopub.status.busy": "2024-11-07T17:06:09.770828Z",
     "iopub.status.idle": "2024-11-07T17:06:09.803742Z",
     "shell.execute_reply": "2024-11-07T17:06:09.803312Z"
    }
   },
   "outputs": [],
   "source": [
    "lm_lexica = {\n",
    "    \"negative\": pd.Series(1, lm.loc[lm.Negative > 0].Word.str.lower().values),\n",
    "    \"positive\": pd.Series(1, lm.loc[lm.Positive > 0].Word.str.lower().values),\n",
    "}\n",
    "show_text(\n",
    "    statements.loc[[\"2000-12-19\", \"2013-12-18\", \"2014-01-29\"]], lexica=lm_lexica, n=None\n",
    ")"
   ]
  },
  {
   "cell_type": "markdown",
   "metadata": {},
   "source": [
    "## Sentiment in FOMC statements: supervised learning"
   ]
  },
  {
   "cell_type": "markdown",
   "metadata": {},
   "source": [
    "Building on previous analyses, we build here a `scikit-learn pipeline` with a `Tfidfvectorizer` and a regularized regression`ElasticNet`. The target is the return of the market on the day of the statement. "
   ]
  },
  {
   "cell_type": "code",
   "execution_count": null,
   "metadata": {
    "execution": {
     "iopub.execute_input": "2024-11-07T17:06:09.805899Z",
     "iopub.status.busy": "2024-11-07T17:06:09.805681Z",
     "iopub.status.idle": "2024-11-07T17:06:09.828058Z",
     "shell.execute_reply": "2024-11-07T17:06:09.827625Z"
    }
   },
   "outputs": [],
   "source": [
    "import numpy as np\n",
    "from pandas.tseries.offsets import BDay\n",
    "from skfin.datasets import load_kf_returns\n",
    "from skfin.text import show_text\n",
    "from sklearn.feature_extraction.text import TfidfVectorizer\n",
    "from sklearn.linear_model import ElasticNet, ElasticNetCV\n",
    "from sklearn.pipeline import Pipeline"
   ]
  },
  {
   "cell_type": "code",
   "execution_count": null,
   "metadata": {
    "execution": {
     "iopub.execute_input": "2024-11-07T17:06:09.830174Z",
     "iopub.status.busy": "2024-11-07T17:06:09.829798Z",
     "iopub.status.idle": "2024-11-07T17:06:09.856698Z",
     "shell.execute_reply": "2024-11-07T17:06:09.856231Z"
    }
   },
   "outputs": [],
   "source": [
    "ret = load_kf_returns(filename=\"F-F_Research_Data_Factors_daily\")[\"Daily\"]"
   ]
  },
  {
   "cell_type": "code",
   "execution_count": null,
   "metadata": {
    "execution": {
     "iopub.execute_input": "2024-11-07T17:06:09.858908Z",
     "iopub.status.busy": "2024-11-07T17:06:09.858588Z",
     "iopub.status.idle": "2024-11-07T17:06:09.884537Z",
     "shell.execute_reply": "2024-11-07T17:06:09.884076Z"
    }
   },
   "outputs": [],
   "source": [
    "special_days = [\"2008-01-22\", \"2010-05-09\", \"2020-03-15\"]\n",
    "idx0 = pd.to_datetime(pd.Index(special_days))\n",
    "idx = statements.index.difference(idx0).union(idx0 + BDay(1))\n",
    "ret_fomc = ret.div(ret.ewm(252).std()).loc[ret.index.intersection(idx)]"
   ]
  },
  {
   "cell_type": "code",
   "execution_count": null,
   "metadata": {
    "execution": {
     "iopub.execute_input": "2024-11-07T17:06:09.886833Z",
     "iopub.status.busy": "2024-11-07T17:06:09.886436Z",
     "iopub.status.idle": "2024-11-07T17:06:10.301602Z",
     "shell.execute_reply": "2024-11-07T17:06:10.300870Z"
    }
   },
   "outputs": [],
   "source": [
    "est = Pipeline(\n",
    "    [\n",
    "        (\n",
    "            \"tfidf\",\n",
    "            TfidfVectorizer(\n",
    "                vocabulary=None,\n",
    "                ngram_range=(1, 3),\n",
    "                max_features=500,\n",
    "                stop_words=\"english\",\n",
    "                token_pattern=r\"\\b[a-zA-Z]{3,}\\b\",\n",
    "            ),\n",
    "        ),\n",
    "        (\"reg\", ElasticNet(alpha=0.0075)),\n",
    "    ]\n",
    ")\n",
    "y = ret_fomc[\"Mkt-RF\"].dropna()\n",
    "X = statements[\"text\"]\n",
    "idx_ = y.index.intersection(X.index)\n",
    "X, y = X.loc[idx_], y.loc[idx_]\n",
    "est.fit(X, y)\n",
    "vocab_ = pd.Series(est.named_steps[\"tfidf\"].vocabulary_).sort_values().index\n",
    "interpret_coef = pd.DataFrame(np.transpose(est.named_steps[\"reg\"].coef_), index=vocab_)\n",
    "coefs_plot(interpret_coef, title=\"Interpreted coefficients for trained model\")"
   ]
  },
  {
   "cell_type": "code",
   "execution_count": null,
   "metadata": {
    "execution": {
     "iopub.execute_input": "2024-11-07T17:06:10.304052Z",
     "iopub.status.busy": "2024-11-07T17:06:10.303728Z",
     "iopub.status.idle": "2024-11-07T17:06:10.338102Z",
     "shell.execute_reply": "2024-11-07T17:06:10.337542Z"
    }
   },
   "outputs": [],
   "source": [
    "lexica = {\n",
    "    \"positive\": interpret_coef.squeeze().nlargest(n=10),\n",
    "    \"negative\": interpret_coef.squeeze().nsmallest(n=10),\n",
    "}"
   ]
  },
  {
   "cell_type": "code",
   "execution_count": null,
   "metadata": {
    "execution": {
     "iopub.execute_input": "2024-11-07T17:06:10.340341Z",
     "iopub.status.busy": "2024-11-07T17:06:10.340028Z",
     "iopub.status.idle": "2024-11-07T17:06:10.431506Z",
     "shell.execute_reply": "2024-11-07T17:06:10.431043Z"
    },
    "tags": []
   },
   "outputs": [],
   "source": [
    "idx_ = (\n",
    "    pd.Series(est.predict(X), index=X.index)\n",
    "    .sort_values()\n",
    "    .pipe(lambda x: [x.index[0], x.index[-1]])\n",
    ")\n",
    "show_text(statements.loc[idx_], lexica=lexica, n=None)"
   ]
  }
 ],
 "metadata": {
  "hide_input": false,
  "kernelspec": {
   "display_name": "skfin 2024",
   "language": "python",
   "name": "skfin"
  },
  "language_info": {
   "codemirror_mode": {
    "name": "ipython",
    "version": 3
   },
   "file_extension": ".py",
   "mimetype": "text/x-python",
   "name": "python",
   "nbconvert_exporter": "python",
   "pygments_lexer": "ipython3",
   "version": "3.9.20"
  },
  "toc": {
   "base_numbering": 1,
   "nav_menu": {},
   "number_sections": true,
   "sideBar": true,
   "skip_h1_title": false,
   "title_cell": "Table of Contents",
   "title_sidebar": "Contents",
   "toc_cell": false,
   "toc_position": {},
   "toc_section_display": true,
   "toc_window_display": false
  }
 },
 "nbformat": 4,
 "nbformat_minor": 4
}
