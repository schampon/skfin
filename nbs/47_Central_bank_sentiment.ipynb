{
 "cells": [
  {
   "cell_type": "markdown",
   "metadata": {},
   "source": [
    "# Supervised Learning on FOMC Statements: Predicting Rate Decisions and Market Reactions"
   ]
  },
  {
   "cell_type": "code",
   "execution_count": null,
   "metadata": {
    "execution": {
     "iopub.execute_input": "2025-09-29T15:55:07.202027Z",
     "iopub.status.busy": "2025-09-29T15:55:07.201824Z",
     "iopub.status.idle": "2025-09-29T15:55:08.817286Z",
     "shell.execute_reply": "2025-09-29T15:55:08.816602Z"
    }
   },
   "outputs": [],
   "source": [
    "# hide\n",
    "%load_ext autoreload\n",
    "%autoreload 2\n",
    "%matplotlib inline\n",
    "\n",
    "from datetime import date\n",
    "from pathlib import Path\n",
    "\n",
    "import pandas as pd\n",
    "from matplotlib import pyplot as plt\n",
    "from skfin.plot import bar, line\n",
    "from tqdm.auto import tqdm\n",
    "\n",
    "import numpy as np\n",
    "from pandas.tseries.offsets import BDay\n",
    "from skfin.datasets_ import load_kf_returns\n",
    "from skfin.text import show_text\n",
    "from sklearn.feature_extraction.text import TfidfVectorizer\n",
    "from sklearn.linear_model import ElasticNet, ElasticNetCV\n",
    "from sklearn.pipeline import Pipeline"
   ]
  },
  {
   "cell_type": "markdown",
   "metadata": {},
   "source": [
    "## Supervised learning: vector representation + Elastic net"
   ]
  },
  {
   "cell_type": "markdown",
   "metadata": {},
   "source": [
    "In this section, we use the corpus of FOMC statements for supervised learning. More precisely, we match the text of the statements to the decision of the committee to raise rates, decrease rates or do nothing.  \n",
    "\n",
    "In practice, this implemented by using `scikit-learn pipelines` and chaining the `TfidfVectorizer` with a logistic regression. "
   ]
  },
  {
   "cell_type": "code",
   "execution_count": null,
   "metadata": {
    "execution": {
     "iopub.execute_input": "2025-09-29T15:55:08.819776Z",
     "iopub.status.busy": "2025-09-29T15:55:08.819419Z",
     "iopub.status.idle": "2025-09-29T15:55:08.868947Z",
     "shell.execute_reply": "2025-09-29T15:55:08.868358Z"
    }
   },
   "outputs": [],
   "source": [
    "from skfin.datasets_ import load_fomc_statements\n",
    "from skfin.dataloaders.constants.dates import load_fomc_change_date\n",
    "\n",
    "statements = load_fomc_statements(force_reload=False)\n",
    "\n",
    "fomc_change_up, fomc_change_dw = load_fomc_change_date()"
   ]
  },
  {
   "cell_type": "code",
   "execution_count": null,
   "metadata": {
    "execution": {
     "iopub.execute_input": "2025-09-29T15:55:08.870724Z",
     "iopub.status.busy": "2025-09-29T15:55:08.870493Z",
     "iopub.status.idle": "2025-09-29T15:55:08.894513Z",
     "shell.execute_reply": "2025-09-29T15:55:08.893966Z"
    }
   },
   "outputs": [],
   "source": [
    "other = {\n",
    "    \"other_dt_change\": [\"2003-01-09\", \"2008-03-16\", \"2011-06-22\"],\n",
    "    \"statements_dt_change_other\": [\"2007-08-16\"],\n",
    "    \"qe1\": [\"2008-11-25\", \"2008-12-01\", \"2008-12-16\", \"2009-03-18\"],\n",
    "    \"qe2\": [\"2010-11-03\"],\n",
    "    \"twist\": [\"2011-09-21\", \"2012-06-20\"],\n",
    "    \"qe3\": [\"2012-09-13\", \"2012-12-12\", \"2013-12-13\"],\n",
    "    \"corona\": [\"2020-03-20\"],\n",
    "}"
   ]
  },
  {
   "cell_type": "code",
   "execution_count": null,
   "metadata": {
    "execution": {
     "iopub.execute_input": "2025-09-29T15:55:08.896174Z",
     "iopub.status.busy": "2025-09-29T15:55:08.895966Z",
     "iopub.status.idle": "2025-09-29T15:55:08.920571Z",
     "shell.execute_reply": "2025-09-29T15:55:08.920023Z"
    }
   },
   "outputs": [],
   "source": [
    "dates = {\n",
    "    \"up\": fomc_change_up,\n",
    "    \"dw\": fomc_change_dw,\n",
    "    \"other\": [d for c in other.values() for d in c],\n",
    "}\n",
    "dates[\"no change\"] = statements.index.difference([d for c in dates.values() for d in c])"
   ]
  },
  {
   "cell_type": "code",
   "execution_count": null,
   "metadata": {
    "execution": {
     "iopub.execute_input": "2025-09-29T15:55:08.922209Z",
     "iopub.status.busy": "2025-09-29T15:55:08.922000Z",
     "iopub.status.idle": "2025-09-29T15:55:08.943850Z",
     "shell.execute_reply": "2025-09-29T15:55:08.943307Z"
    }
   },
   "outputs": [],
   "source": [
    "from skfin.text import coefs_plot, show_text\n",
    "from sklearn.linear_model import ElasticNet, LogisticRegression\n",
    "from sklearn.preprocessing import FunctionTransformer"
   ]
  },
  {
   "cell_type": "code",
   "execution_count": null,
   "metadata": {
    "execution": {
     "iopub.execute_input": "2025-09-29T15:55:08.945417Z",
     "iopub.status.busy": "2025-09-29T15:55:08.945209Z",
     "iopub.status.idle": "2025-09-29T15:55:09.058591Z",
     "shell.execute_reply": "2025-09-29T15:55:09.058018Z"
    }
   },
   "outputs": [],
   "source": [
    "est = Pipeline(\n",
    "    [\n",
    "        (\n",
    "            \"tfidf\",\n",
    "            TfidfVectorizer(\n",
    "                vocabulary=None,\n",
    "                ngram_range=(1, 3),\n",
    "                max_features=500,\n",
    "                stop_words=\"english\",\n",
    "                token_pattern=r\"\\b[a-zA-Z]{3,}\\b\",\n",
    "            ),\n",
    "        ),\n",
    "        (\"log1p\", FunctionTransformer(np.log1p)),\n",
    "        (\n",
    "            \"reg\",\n",
    "            LogisticRegression(\n",
    "                C=1, l1_ratio=0.35, penalty=\"elasticnet\", solver=\"saga\", max_iter=500\n",
    "            ),\n",
    "        ),\n",
    "    ]\n",
    ")\n",
    "X, y = pd.concat(\n",
    "    [\n",
    "        statements.loc[fomc_change_up].assign(change=1),\n",
    "        statements.loc[fomc_change_dw].assign(change=-1),\n",
    "    ]\n",
    ").pipe(lambda df: (df[\"text\"], df[\"change\"]))\n",
    "est.fit(X, y)\n",
    "vocab_ = pd.Series(est.named_steps[\"tfidf\"].vocabulary_).sort_values().index"
   ]
  },
  {
   "cell_type": "code",
   "execution_count": null,
   "metadata": {
    "execution": {
     "iopub.execute_input": "2025-09-29T15:55:09.060324Z",
     "iopub.status.busy": "2025-09-29T15:55:09.060100Z",
     "iopub.status.idle": "2025-09-29T15:55:09.738612Z",
     "shell.execute_reply": "2025-09-29T15:55:09.737981Z"
    }
   },
   "outputs": [],
   "source": [
    "interpret_coef = pd.DataFrame(np.transpose(est.named_steps[\"reg\"].coef_), index=vocab_)\n",
    "coefs_plot(interpret_coef, title=\"Interpreted coefficients for trained model\")"
   ]
  },
  {
   "cell_type": "markdown",
   "metadata": {},
   "source": [
    "A trick is that using a linear regression (e.g. ElasticNet) instead of a logistic regression is faster and as efficient (even sometimes better)"
   ]
  },
  {
   "cell_type": "code",
   "execution_count": null,
   "metadata": {
    "execution": {
     "iopub.execute_input": "2025-09-29T15:55:09.770802Z",
     "iopub.status.busy": "2025-09-29T15:55:09.770533Z",
     "iopub.status.idle": "2025-09-29T15:55:09.900771Z",
     "shell.execute_reply": "2025-09-29T15:55:09.900123Z"
    }
   },
   "outputs": [],
   "source": [
    "est = Pipeline(\n",
    "    [\n",
    "        (\n",
    "            \"tfidf\",\n",
    "            TfidfVectorizer(\n",
    "                vocabulary=None,\n",
    "                ngram_range=(1, 3),\n",
    "                max_features=500,\n",
    "                stop_words=\"english\",\n",
    "                token_pattern=r\"\\b[a-zA-Z]{3,}\\b\",\n",
    "            ),\n",
    "        ),\n",
    "        (\"log1p\", FunctionTransformer(np.log1p)),\n",
    "        (\"reg\", ElasticNet(alpha=0.01)),\n",
    "    ]\n",
    ")\n",
    "X, y = pd.concat(\n",
    "    [\n",
    "        statements.loc[fomc_change_up].assign(change=1),\n",
    "        statements.loc[fomc_change_dw].assign(change=-1),\n",
    "    ]\n",
    ").pipe(lambda df: (df[\"text\"], df[\"change\"]))\n",
    "est.fit(X, y)\n",
    "vocab_ = pd.Series(est.named_steps[\"tfidf\"].vocabulary_).sort_values().index"
   ]
  },
  {
   "cell_type": "code",
   "execution_count": null,
   "metadata": {
    "execution": {
     "iopub.execute_input": "2025-09-29T15:55:09.902819Z",
     "iopub.status.busy": "2025-09-29T15:55:09.902557Z",
     "iopub.status.idle": "2025-09-29T15:55:10.566570Z",
     "shell.execute_reply": "2025-09-29T15:55:10.565947Z"
    }
   },
   "outputs": [],
   "source": [
    "interpret_coef = pd.DataFrame(np.transpose(est.named_steps[\"reg\"].coef_), index=vocab_)\n",
    "coefs_plot(interpret_coef, title=\"Interpreted coefficients for trained model\")"
   ]
  },
  {
   "cell_type": "code",
   "execution_count": null,
   "metadata": {
    "execution": {
     "iopub.execute_input": "2025-09-29T15:55:10.569020Z",
     "iopub.status.busy": "2025-09-29T15:55:10.568775Z",
     "iopub.status.idle": "2025-09-29T15:55:10.899593Z",
     "shell.execute_reply": "2025-09-29T15:55:10.898987Z"
    }
   },
   "outputs": [],
   "source": [
    "fig, ax = plt.subplots(figsize=(8, 6))\n",
    "pred_tfidf = (\n",
    "    pd.Series(est.predict(statements[\"text\"]), index=statements.index)\n",
    "    .resample(\"B\")\n",
    "    .last()\n",
    "    .ffill()\n",
    ")\n",
    "line(\n",
    "    pred_tfidf.rename(\"implied rate\")\n",
    "    .to_frame()\n",
    "    .join(\n",
    "        pd.Series(1, index=fomc_change_up)\n",
    "        .reindex(pred_tfidf.index)\n",
    "        .fillna(0)\n",
    "        .rename(\"up\")\n",
    "    )\n",
    "    .join(\n",
    "        pd.Series(-1, index=fomc_change_dw)\n",
    "        .reindex(pred_tfidf.index)\n",
    "        .fillna(0)\n",
    "        .rename(\"dw\")\n",
    "    ),\n",
    "    sort=False,\n",
    "    ax=ax,\n",
    "    title=\"Implied interest rate (with forward information)\",\n",
    ")\n",
    "cols = [\"corona\", \"twist\", \"qe1\", \"qe2\", \"qe3\"]\n",
    "for c in cols:\n",
    "    ax.plot(pred_tfidf.loc[other[c]], marker=\"*\", ms=10)\n",
    "ax.legend(\n",
    "    [\"implied rate\", \"up\", \"down\"] + cols, loc=\"center left\", bbox_to_anchor=(1, 0.5)\n",
    ");"
   ]
  },
  {
   "cell_type": "code",
   "execution_count": null,
   "metadata": {
    "execution": {
     "iopub.execute_input": "2025-09-29T15:55:10.901494Z",
     "iopub.status.busy": "2025-09-29T15:55:10.901234Z",
     "iopub.status.idle": "2025-09-29T15:55:10.929791Z",
     "shell.execute_reply": "2025-09-29T15:55:10.929213Z"
    }
   },
   "outputs": [],
   "source": [
    "lexica = {\n",
    "    \"positive\": interpret_coef.squeeze().nlargest(n=10),\n",
    "    \"negative\": interpret_coef.squeeze().nsmallest(n=10),\n",
    "}"
   ]
  },
  {
   "cell_type": "code",
   "execution_count": null,
   "metadata": {
    "execution": {
     "iopub.execute_input": "2025-09-29T15:55:10.931489Z",
     "iopub.status.busy": "2025-09-29T15:55:10.931252Z",
     "iopub.status.idle": "2025-09-29T15:55:10.976856Z",
     "shell.execute_reply": "2025-09-29T15:55:10.976277Z"
    }
   },
   "outputs": [],
   "source": [
    "idx_ = (\n",
    "    pd.Series(est.predict(X), index=X.index)\n",
    "    .sort_values()\n",
    "    .pipe(lambda x: [x.index[0], x.index[-1]])\n",
    ")\n",
    "show_text(statements.loc[idx_], lexica=lexica, n=None)"
   ]
  },
  {
   "cell_type": "markdown",
   "metadata": {},
   "source": [
    "### comparison with sentence transformer embeddings"
   ]
  },
  {
   "cell_type": "markdown",
   "metadata": {},
   "source": [
    "To test the usefulness of these `SentenceTransformer` , we run a regression of the embeddings on the rate decision. Warning: this is a full sample regression, so this is just an illustration, not a statistical test. "
   ]
  },
  {
   "cell_type": "code",
   "execution_count": null,
   "metadata": {
    "execution": {
     "iopub.execute_input": "2025-09-29T15:55:10.978686Z",
     "iopub.status.busy": "2025-09-29T15:55:10.978456Z",
     "iopub.status.idle": "2025-09-29T15:55:27.295157Z",
     "shell.execute_reply": "2025-09-29T15:55:27.294441Z"
    }
   },
   "outputs": [],
   "source": [
    "from sentence_transformers import SentenceTransformer\n",
    "\n",
    "lm_name = \"all-distilroberta-v1\"\n",
    "m = SentenceTransformer(lm_name, device=\"cpu\", trust_remote_code=True)\n",
    "X_sbert = m.encode(statements[\"text\"].values, batch_size=2)"
   ]
  },
  {
   "cell_type": "code",
   "execution_count": null,
   "metadata": {
    "execution": {
     "iopub.execute_input": "2025-09-29T15:55:27.297532Z",
     "iopub.status.busy": "2025-09-29T15:55:27.297125Z",
     "iopub.status.idle": "2025-09-29T15:55:27.771170Z",
     "shell.execute_reply": "2025-09-29T15:55:27.770369Z"
    }
   },
   "outputs": [],
   "source": [
    "df = pd.DataFrame(X_sbert, index=statements.index)\n",
    "m = ElasticNet(alpha=0.01)\n",
    "X_, y_ = pd.concat(\n",
    "    [df.loc[fomc_change_up].assign(change=1), df.loc[fomc_change_dw].assign(change=-1)]\n",
    ").pipe(lambda df: (df.drop(\"change\", axis=1), df[\"change\"]))\n",
    "m.fit(X_, y_)\n",
    "pred_sbert = (\n",
    "    pd.Series(m.predict(df), index=statements.index).resample(\"B\").last().ffill()\n",
    ")"
   ]
  },
  {
   "cell_type": "code",
   "execution_count": null,
   "metadata": {
    "execution": {
     "iopub.execute_input": "2025-09-29T15:55:27.773324Z",
     "iopub.status.busy": "2025-09-29T15:55:27.773035Z",
     "iopub.status.idle": "2025-09-29T15:55:27.829403Z",
     "shell.execute_reply": "2025-09-29T15:55:27.828731Z"
    }
   },
   "outputs": [],
   "source": [
    "corr_tfidf_sbert = (\n",
    "    pd.concat({\"sbert\": pred_sbert, \"tdfidf\": pred_tfidf}, axis=1).corr().iloc[0, 1]\n",
    ")\n",
    "print(\n",
    "    f\"The correlation of the in-sample prediction for the decisions of the Fed for the two text representations (tfidf and sbert) is {corr_tfidf_sbert:.2f}.\"\n",
    ")"
   ]
  },
  {
   "cell_type": "code",
   "execution_count": null,
   "metadata": {
    "execution": {
     "iopub.execute_input": "2025-09-29T15:55:27.831175Z",
     "iopub.status.busy": "2025-09-29T15:55:27.830935Z",
     "iopub.status.idle": "2025-09-29T15:55:28.008895Z",
     "shell.execute_reply": "2025-09-29T15:55:28.008287Z"
    },
    "tags": []
   },
   "outputs": [],
   "source": [
    "line(\n",
    "    pd.concat({\"sbert\": pred_sbert, \"tdfidf\": pred_tfidf}, axis=1).pipe(\n",
    "        lambda x: x.div(x.std())\n",
    "    )\n",
    ")"
   ]
  },
  {
   "cell_type": "markdown",
   "metadata": {},
   "source": [
    "## Sentiment in FOMC statements: supervised learning"
   ]
  },
  {
   "cell_type": "markdown",
   "metadata": {},
   "source": [
    "Building on previous analyses, we build here a `scikit-learn pipeline` with a `Tfidfvectorizer` and a regularized regression`ElasticNet`. The target is the return of the market on the day of the statement. "
   ]
  },
  {
   "cell_type": "code",
   "execution_count": null,
   "metadata": {
    "execution": {
     "iopub.execute_input": "2025-09-29T15:55:28.010766Z",
     "iopub.status.busy": "2025-09-29T15:55:28.010532Z",
     "iopub.status.idle": "2025-09-29T15:55:28.063640Z",
     "shell.execute_reply": "2025-09-29T15:55:28.063062Z"
    }
   },
   "outputs": [],
   "source": [
    "ret = load_kf_returns(filename=\"F-F_Research_Data_Factors_daily\")[\"Daily\"]"
   ]
  },
  {
   "cell_type": "code",
   "execution_count": null,
   "metadata": {
    "execution": {
     "iopub.execute_input": "2025-09-29T15:55:28.065350Z",
     "iopub.status.busy": "2025-09-29T15:55:28.065124Z",
     "iopub.status.idle": "2025-09-29T15:55:28.120943Z",
     "shell.execute_reply": "2025-09-29T15:55:28.120361Z"
    }
   },
   "outputs": [],
   "source": [
    "special_days = [\"2008-01-22\", \"2010-05-09\", \"2020-03-15\"]\n",
    "idx0 = pd.to_datetime(pd.Index(special_days))\n",
    "idx = statements.index.difference(idx0).union(idx0 + BDay(1))\n",
    "ret_fomc = ret.div(ret.ewm(252).std()).loc[ret.index.intersection(idx)]"
   ]
  },
  {
   "cell_type": "code",
   "execution_count": null,
   "metadata": {
    "execution": {
     "iopub.execute_input": "2025-09-29T15:55:28.122677Z",
     "iopub.status.busy": "2025-09-29T15:55:28.122443Z",
     "iopub.status.idle": "2025-09-29T15:55:28.521962Z",
     "shell.execute_reply": "2025-09-29T15:55:28.521339Z"
    }
   },
   "outputs": [],
   "source": [
    "est = Pipeline(\n",
    "    [\n",
    "        (\n",
    "            \"tfidf\",\n",
    "            TfidfVectorizer(\n",
    "                vocabulary=None,\n",
    "                ngram_range=(1, 3),\n",
    "                max_features=500,\n",
    "                stop_words=\"english\",\n",
    "                token_pattern=r\"\\b[a-zA-Z]{3,}\\b\",\n",
    "            ),\n",
    "        ),\n",
    "        (\"reg\", ElasticNet(alpha=0.0075)),\n",
    "    ]\n",
    ")\n",
    "y = ret_fomc[\"Mkt-RF\"].dropna()\n",
    "X = statements[\"text\"]\n",
    "idx_ = y.index.intersection(X.index)\n",
    "X, y = X.loc[idx_], y.loc[idx_]\n",
    "est.fit(X, y)\n",
    "vocab_ = pd.Series(est.named_steps[\"tfidf\"].vocabulary_).sort_values().index\n",
    "interpret_coef = pd.DataFrame(np.transpose(est.named_steps[\"reg\"].coef_), index=vocab_)\n",
    "coefs_plot(interpret_coef, title=\"Interpreted coefficients for trained model\")"
   ]
  },
  {
   "cell_type": "code",
   "execution_count": null,
   "metadata": {
    "execution": {
     "iopub.execute_input": "2025-09-29T15:55:28.523905Z",
     "iopub.status.busy": "2025-09-29T15:55:28.523657Z",
     "iopub.status.idle": "2025-09-29T15:55:28.577357Z",
     "shell.execute_reply": "2025-09-29T15:55:28.576770Z"
    }
   },
   "outputs": [],
   "source": [
    "lexica = {\n",
    "    \"positive\": interpret_coef.squeeze().nlargest(n=10),\n",
    "    \"negative\": interpret_coef.squeeze().nsmallest(n=10),\n",
    "}"
   ]
  },
  {
   "cell_type": "code",
   "execution_count": null,
   "metadata": {
    "execution": {
     "iopub.execute_input": "2025-09-29T15:55:28.579094Z",
     "iopub.status.busy": "2025-09-29T15:55:28.578863Z",
     "iopub.status.idle": "2025-09-29T15:55:28.713798Z",
     "shell.execute_reply": "2025-09-29T15:55:28.713213Z"
    },
    "tags": []
   },
   "outputs": [],
   "source": [
    "idx_ = (\n",
    "    pd.Series(est.predict(X), index=X.index)\n",
    "    .sort_values()\n",
    "    .pipe(lambda x: [x.index[0], x.index[-1]])\n",
    ")\n",
    "show_text(statements.loc[idx_], lexica=lexica, n=None)"
   ]
  }
 ],
 "metadata": {
  "hide_input": false,
  "kernelspec": {
   "display_name": "skfin 2024",
   "language": "python",
   "name": "skfin"
  },
  "language_info": {
   "codemirror_mode": {
    "name": "ipython",
    "version": 3
   },
   "file_extension": ".py",
   "mimetype": "text/x-python",
   "name": "python",
   "nbconvert_exporter": "python",
   "pygments_lexer": "ipython3",
   "version": "3.9.20"
  },
  "toc": {
   "base_numbering": 1,
   "nav_menu": {},
   "number_sections": true,
   "sideBar": true,
   "skip_h1_title": false,
   "title_cell": "Table of Contents",
   "title_sidebar": "Contents",
   "toc_cell": false,
   "toc_position": {},
   "toc_section_display": true,
   "toc_window_display": false
  },
  "widgets": {
   "application/vnd.jupyter.widget-state+json": {
    "state": {
     "045e05fb5cc2468fb917af48b65566f0": {
      "model_module": "@jupyter-widgets/controls",
      "model_module_version": "2.0.0",
      "model_name": "ProgressStyleModel",
      "state": {
       "_model_module": "@jupyter-widgets/controls",
       "_model_module_version": "2.0.0",
       "_model_name": "ProgressStyleModel",
       "_view_count": null,
       "_view_module": "@jupyter-widgets/base",
       "_view_module_version": "2.0.0",
       "_view_name": "StyleView",
       "bar_color": null,
       "description_width": ""
      }
     },
     "20037115a9cb45bf851370dbcf00d5fe": {
      "model_module": "@jupyter-widgets/controls",
      "model_module_version": "2.0.0",
      "model_name": "HTMLStyleModel",
      "state": {
       "_model_module": "@jupyter-widgets/controls",
       "_model_module_version": "2.0.0",
       "_model_name": "HTMLStyleModel",
       "_view_count": null,
       "_view_module": "@jupyter-widgets/base",
       "_view_module_version": "2.0.0",
       "_view_name": "StyleView",
       "background": null,
       "description_width": "",
       "font_size": null,
       "text_color": null
      }
     },
     "205bf6e6cab04fdbb591d05a3bb7ffd9": {
      "model_module": "@jupyter-widgets/controls",
      "model_module_version": "2.0.0",
      "model_name": "HBoxModel",
      "state": {
       "_dom_classes": [],
       "_model_module": "@jupyter-widgets/controls",
       "_model_module_version": "2.0.0",
       "_model_name": "HBoxModel",
       "_view_count": null,
       "_view_module": "@jupyter-widgets/controls",
       "_view_module_version": "2.0.0",
       "_view_name": "HBoxView",
       "box_style": "",
       "children": [
        "IPY_MODEL_2f6cb935e8c5421badec1eeef5b166b4",
        "IPY_MODEL_cd730f52d96e424da5bd10622935ef3b",
        "IPY_MODEL_96deb1069c7b461b9f2ccb9e394f78b1"
       ],
       "layout": "IPY_MODEL_40766538ed4c4a92b462f54e8b17a2ee",
       "tabbable": null,
       "tooltip": null
      }
     },
     "26ea430a34504a3c9a75bb808fd16a8a": {
      "model_module": "@jupyter-widgets/base",
      "model_module_version": "2.0.0",
      "model_name": "LayoutModel",
      "state": {
       "_model_module": "@jupyter-widgets/base",
       "_model_module_version": "2.0.0",
       "_model_name": "LayoutModel",
       "_view_count": null,
       "_view_module": "@jupyter-widgets/base",
       "_view_module_version": "2.0.0",
       "_view_name": "LayoutView",
       "align_content": null,
       "align_items": null,
       "align_self": null,
       "border_bottom": null,
       "border_left": null,
       "border_right": null,
       "border_top": null,
       "bottom": null,
       "display": null,
       "flex": null,
       "flex_flow": null,
       "grid_area": null,
       "grid_auto_columns": null,
       "grid_auto_flow": null,
       "grid_auto_rows": null,
       "grid_column": null,
       "grid_gap": null,
       "grid_row": null,
       "grid_template_areas": null,
       "grid_template_columns": null,
       "grid_template_rows": null,
       "height": null,
       "justify_content": null,
       "justify_items": null,
       "left": null,
       "margin": null,
       "max_height": null,
       "max_width": null,
       "min_height": null,
       "min_width": null,
       "object_fit": null,
       "object_position": null,
       "order": null,
       "overflow": null,
       "padding": null,
       "right": null,
       "top": null,
       "visibility": null,
       "width": null
      }
     },
     "2aad0ca44fb44b33956198551e51fed5": {
      "model_module": "@jupyter-widgets/base",
      "model_module_version": "2.0.0",
      "model_name": "LayoutModel",
      "state": {
       "_model_module": "@jupyter-widgets/base",
       "_model_module_version": "2.0.0",
       "_model_name": "LayoutModel",
       "_view_count": null,
       "_view_module": "@jupyter-widgets/base",
       "_view_module_version": "2.0.0",
       "_view_name": "LayoutView",
       "align_content": null,
       "align_items": null,
       "align_self": null,
       "border_bottom": null,
       "border_left": null,
       "border_right": null,
       "border_top": null,
       "bottom": null,
       "display": null,
       "flex": null,
       "flex_flow": null,
       "grid_area": null,
       "grid_auto_columns": null,
       "grid_auto_flow": null,
       "grid_auto_rows": null,
       "grid_column": null,
       "grid_gap": null,
       "grid_row": null,
       "grid_template_areas": null,
       "grid_template_columns": null,
       "grid_template_rows": null,
       "height": null,
       "justify_content": null,
       "justify_items": null,
       "left": null,
       "margin": null,
       "max_height": null,
       "max_width": null,
       "min_height": null,
       "min_width": null,
       "object_fit": null,
       "object_position": null,
       "order": null,
       "overflow": null,
       "padding": null,
       "right": null,
       "top": null,
       "visibility": null,
       "width": null
      }
     },
     "2f6cb935e8c5421badec1eeef5b166b4": {
      "model_module": "@jupyter-widgets/controls",
      "model_module_version": "2.0.0",
      "model_name": "HTMLModel",
      "state": {
       "_dom_classes": [],
       "_model_module": "@jupyter-widgets/controls",
       "_model_module_version": "2.0.0",
       "_model_name": "HTMLModel",
       "_view_count": null,
       "_view_module": "@jupyter-widgets/controls",
       "_view_module_version": "2.0.0",
       "_view_name": "HTMLView",
       "description": "",
       "description_allow_html": false,
       "layout": "IPY_MODEL_26ea430a34504a3c9a75bb808fd16a8a",
       "placeholder": "​",
       "style": "IPY_MODEL_328d92cae9624e8aad2d3df6655a0e09",
       "tabbable": null,
       "tooltip": null,
       "value": "Batches: 100%"
      }
     },
     "328d92cae9624e8aad2d3df6655a0e09": {
      "model_module": "@jupyter-widgets/controls",
      "model_module_version": "2.0.0",
      "model_name": "HTMLStyleModel",
      "state": {
       "_model_module": "@jupyter-widgets/controls",
       "_model_module_version": "2.0.0",
       "_model_name": "HTMLStyleModel",
       "_view_count": null,
       "_view_module": "@jupyter-widgets/base",
       "_view_module_version": "2.0.0",
       "_view_name": "StyleView",
       "background": null,
       "description_width": "",
       "font_size": null,
       "text_color": null
      }
     },
     "40766538ed4c4a92b462f54e8b17a2ee": {
      "model_module": "@jupyter-widgets/base",
      "model_module_version": "2.0.0",
      "model_name": "LayoutModel",
      "state": {
       "_model_module": "@jupyter-widgets/base",
       "_model_module_version": "2.0.0",
       "_model_name": "LayoutModel",
       "_view_count": null,
       "_view_module": "@jupyter-widgets/base",
       "_view_module_version": "2.0.0",
       "_view_name": "LayoutView",
       "align_content": null,
       "align_items": null,
       "align_self": null,
       "border_bottom": null,
       "border_left": null,
       "border_right": null,
       "border_top": null,
       "bottom": null,
       "display": null,
       "flex": null,
       "flex_flow": null,
       "grid_area": null,
       "grid_auto_columns": null,
       "grid_auto_flow": null,
       "grid_auto_rows": null,
       "grid_column": null,
       "grid_gap": null,
       "grid_row": null,
       "grid_template_areas": null,
       "grid_template_columns": null,
       "grid_template_rows": null,
       "height": null,
       "justify_content": null,
       "justify_items": null,
       "left": null,
       "margin": null,
       "max_height": null,
       "max_width": null,
       "min_height": null,
       "min_width": null,
       "object_fit": null,
       "object_position": null,
       "order": null,
       "overflow": null,
       "padding": null,
       "right": null,
       "top": null,
       "visibility": null,
       "width": null
      }
     },
     "84950460de6d42d6953a0a5e34a33f7f": {
      "model_module": "@jupyter-widgets/base",
      "model_module_version": "2.0.0",
      "model_name": "LayoutModel",
      "state": {
       "_model_module": "@jupyter-widgets/base",
       "_model_module_version": "2.0.0",
       "_model_name": "LayoutModel",
       "_view_count": null,
       "_view_module": "@jupyter-widgets/base",
       "_view_module_version": "2.0.0",
       "_view_name": "LayoutView",
       "align_content": null,
       "align_items": null,
       "align_self": null,
       "border_bottom": null,
       "border_left": null,
       "border_right": null,
       "border_top": null,
       "bottom": null,
       "display": null,
       "flex": null,
       "flex_flow": null,
       "grid_area": null,
       "grid_auto_columns": null,
       "grid_auto_flow": null,
       "grid_auto_rows": null,
       "grid_column": null,
       "grid_gap": null,
       "grid_row": null,
       "grid_template_areas": null,
       "grid_template_columns": null,
       "grid_template_rows": null,
       "height": null,
       "justify_content": null,
       "justify_items": null,
       "left": null,
       "margin": null,
       "max_height": null,
       "max_width": null,
       "min_height": null,
       "min_width": null,
       "object_fit": null,
       "object_position": null,
       "order": null,
       "overflow": null,
       "padding": null,
       "right": null,
       "top": null,
       "visibility": null,
       "width": null
      }
     },
     "96deb1069c7b461b9f2ccb9e394f78b1": {
      "model_module": "@jupyter-widgets/controls",
      "model_module_version": "2.0.0",
      "model_name": "HTMLModel",
      "state": {
       "_dom_classes": [],
       "_model_module": "@jupyter-widgets/controls",
       "_model_module_version": "2.0.0",
       "_model_name": "HTMLModel",
       "_view_count": null,
       "_view_module": "@jupyter-widgets/controls",
       "_view_module_version": "2.0.0",
       "_view_name": "HTMLView",
       "description": "",
       "description_allow_html": false,
       "layout": "IPY_MODEL_84950460de6d42d6953a0a5e34a33f7f",
       "placeholder": "​",
       "style": "IPY_MODEL_20037115a9cb45bf851370dbcf00d5fe",
       "tabbable": null,
       "tooltip": null,
       "value": " 114/114 [00:10&lt;00:00, 21.50it/s]"
      }
     },
     "cd730f52d96e424da5bd10622935ef3b": {
      "model_module": "@jupyter-widgets/controls",
      "model_module_version": "2.0.0",
      "model_name": "FloatProgressModel",
      "state": {
       "_dom_classes": [],
       "_model_module": "@jupyter-widgets/controls",
       "_model_module_version": "2.0.0",
       "_model_name": "FloatProgressModel",
       "_view_count": null,
       "_view_module": "@jupyter-widgets/controls",
       "_view_module_version": "2.0.0",
       "_view_name": "ProgressView",
       "bar_style": "success",
       "description": "",
       "description_allow_html": false,
       "layout": "IPY_MODEL_2aad0ca44fb44b33956198551e51fed5",
       "max": 114,
       "min": 0,
       "orientation": "horizontal",
       "style": "IPY_MODEL_045e05fb5cc2468fb917af48b65566f0",
       "tabbable": null,
       "tooltip": null,
       "value": 114
      }
     }
    },
    "version_major": 2,
    "version_minor": 0
   }
  }
 },
 "nbformat": 4,
 "nbformat_minor": 4
}
