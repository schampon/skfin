{
 "cells": [
  {
   "cell_type": "markdown",
   "metadata": {},
   "source": [
    "# Sentiment in FOMC statements"
   ]
  },
  {
   "cell_type": "code",
   "execution_count": null,
   "metadata": {
    "execution": {
     "iopub.execute_input": "2023-12-07T08:34:04.015471Z",
     "iopub.status.busy": "2023-12-07T08:34:04.014960Z",
     "iopub.status.idle": "2023-12-07T08:34:07.154753Z",
     "shell.execute_reply": "2023-12-07T08:34:07.154025Z"
    }
   },
   "outputs": [],
   "source": [
    "# hide\n",
    "%load_ext autoreload\n",
    "%autoreload 2\n",
    "%matplotlib inline\n",
    "\n",
    "from datetime import date\n",
    "from pathlib import Path\n",
    "\n",
    "import pandas as pd\n",
    "from matplotlib import pyplot as plt\n",
    "from skfin.plot import bar, line\n",
    "from tqdm.auto import tqdm"
   ]
  },
  {
   "cell_type": "markdown",
   "metadata": {},
   "source": [
    "In this section, we use rule-based and learning-based methods to measure sentiment in Federal Open Market Committee (FMOC) statements. These two methods have been discussed previously in the context of corporate regulatory filings (10Ks). "
   ]
  },
  {
   "cell_type": "markdown",
   "metadata": {},
   "source": [
    "## Sentiment in FOMC statements: Loughran-McDonalds dictionary"
   ]
  },
  {
   "cell_type": "markdown",
   "metadata": {},
   "source": [
    "In this section, we measure sentiment with the Loughran-McDonalds sentiment dictionary in two ways: \n",
    "\n",
    "- sentiment = (#positive - #negative)/(#positive + #negative)\n",
    "- sentiment = (#positive - #negative)/(#words)\n",
    "\n",
    "In the first case, short documents (with few or no sentiment words) might lead to biased estimates. "
   ]
  },
  {
   "cell_type": "code",
   "execution_count": null,
   "metadata": {
    "execution": {
     "iopub.execute_input": "2023-12-07T08:34:07.158653Z",
     "iopub.status.busy": "2023-12-07T08:34:07.158394Z",
     "iopub.status.idle": "2023-12-07T08:34:07.352859Z",
     "shell.execute_reply": "2023-12-07T08:34:07.352206Z"
    }
   },
   "outputs": [],
   "source": [
    "import pandas as pd\n",
    "from skfin.datasets import load_fomc_statements, load_loughran_mcdonald_dictionary\n",
    "from skfin.plot import line\n",
    "from skfin.text import coefs_plot, show_text\n",
    "from sklearn.feature_extraction.text import CountVectorizer, TfidfVectorizer"
   ]
  },
  {
   "cell_type": "code",
   "execution_count": null,
   "metadata": {
    "execution": {
     "iopub.execute_input": "2023-12-07T08:34:07.355633Z",
     "iopub.status.busy": "2023-12-07T08:34:07.355399Z",
     "iopub.status.idle": "2023-12-07T08:34:07.617461Z",
     "shell.execute_reply": "2023-12-07T08:34:07.616716Z"
    }
   },
   "outputs": [],
   "source": [
    "statements = load_fomc_statements()\n",
    "lm = load_loughran_mcdonald_dictionary()"
   ]
  },
  {
   "cell_type": "code",
   "execution_count": null,
   "metadata": {
    "execution": {
     "iopub.execute_input": "2023-12-07T08:34:07.620892Z",
     "iopub.status.busy": "2023-12-07T08:34:07.620638Z",
     "iopub.status.idle": "2023-12-07T08:34:07.651061Z",
     "shell.execute_reply": "2023-12-07T08:34:07.650411Z"
    }
   },
   "outputs": [],
   "source": [
    "X = statements[\"text\"]"
   ]
  },
  {
   "cell_type": "code",
   "execution_count": null,
   "metadata": {
    "execution": {
     "iopub.execute_input": "2023-12-07T08:34:07.653897Z",
     "iopub.status.busy": "2023-12-07T08:34:07.653492Z",
     "iopub.status.idle": "2023-12-07T08:34:08.073326Z",
     "shell.execute_reply": "2023-12-07T08:34:08.072588Z"
    }
   },
   "outputs": [],
   "source": [
    "funcs = {\n",
    "    \"negative\": lambda x: x.Negative > 0,\n",
    "    \"positive\": lambda x: x.Positive > 0,\n",
    "    \"all\": lambda x: x.Word.notna(),\n",
    "}\n",
    "\n",
    "\n",
    "def get_total_count(X, lm, func):\n",
    "    m = CountVectorizer(vocabulary=lm.loc[func].Word.str.lower().values)\n",
    "    return pd.DataFrame(m.fit_transform(X).toarray(), index=X.index).sum(axis=1)\n",
    "\n",
    "\n",
    "lm_counts = pd.concat({k: get_total_count(X, lm, v) for k, v in funcs.items()}, axis=1)"
   ]
  },
  {
   "cell_type": "code",
   "execution_count": null,
   "metadata": {
    "execution": {
     "iopub.execute_input": "2023-12-07T08:34:08.076630Z",
     "iopub.status.busy": "2023-12-07T08:34:08.076388Z",
     "iopub.status.idle": "2023-12-07T08:34:08.416014Z",
     "shell.execute_reply": "2023-12-07T08:34:08.415373Z"
    }
   },
   "outputs": [],
   "source": [
    "line(\n",
    "    lm_counts.pipe(lambda x: (x.positive - x.negative) / (x.positive + x.negative))\n",
    "    .resample(\"B\")\n",
    "    .last()\n",
    "    .ffill(),\n",
    "    legend=False,\n",
    "    title=\"Sentiment=(pos - neg)/(pos + neg) in FOMC statements\",\n",
    ")"
   ]
  },
  {
   "cell_type": "code",
   "execution_count": null,
   "metadata": {
    "execution": {
     "iopub.execute_input": "2023-12-07T08:34:08.418951Z",
     "iopub.status.busy": "2023-12-07T08:34:08.418521Z",
     "iopub.status.idle": "2023-12-07T08:34:08.722789Z",
     "shell.execute_reply": "2023-12-07T08:34:08.722145Z"
    }
   },
   "outputs": [],
   "source": [
    "line(\n",
    "    lm_counts.pipe(lambda x: (x.positive - x.negative) / x[\"all\"])\n",
    "    .resample(\"B\")\n",
    "    .last()\n",
    "    .ffill(),\n",
    "    legend=False,\n",
    "    title=\"Sentiment=(pos - neg)/(all) in FOMC statements\",\n",
    ")"
   ]
  },
  {
   "cell_type": "code",
   "execution_count": null,
   "metadata": {
    "execution": {
     "iopub.execute_input": "2023-12-07T08:34:08.725692Z",
     "iopub.status.busy": "2023-12-07T08:34:08.725264Z",
     "iopub.status.idle": "2023-12-07T08:34:08.768862Z",
     "shell.execute_reply": "2023-12-07T08:34:08.768158Z"
    }
   },
   "outputs": [],
   "source": [
    "lm_lexica = {\n",
    "    \"negative\": pd.Series(1, lm.loc[lm.Negative > 0].Word.str.lower().values),\n",
    "    \"positive\": pd.Series(1, lm.loc[lm.Positive > 0].Word.str.lower().values),\n",
    "}\n",
    "show_text(\n",
    "    statements.loc[[\"2000-12-19\", \"2013-12-18\", \"2014-01-29\"]], lexica=lm_lexica, n=None\n",
    ")"
   ]
  },
  {
   "cell_type": "markdown",
   "metadata": {},
   "source": [
    "## Sentiment in FOMC statements: supervised learning"
   ]
  },
  {
   "cell_type": "markdown",
   "metadata": {},
   "source": [
    "Building on previous analyses, we build here a `scikit-learn pipeline` with a `Tfidfvectorizer` and a regularized regression`ElasticNet`. The target is the return of the market on the day of the statement. "
   ]
  },
  {
   "cell_type": "code",
   "execution_count": null,
   "metadata": {
    "execution": {
     "iopub.execute_input": "2023-12-07T08:34:08.772106Z",
     "iopub.status.busy": "2023-12-07T08:34:08.771650Z",
     "iopub.status.idle": "2023-12-07T08:34:08.800543Z",
     "shell.execute_reply": "2023-12-07T08:34:08.799903Z"
    }
   },
   "outputs": [],
   "source": [
    "import numpy as np\n",
    "from pandas.tseries.offsets import BDay\n",
    "from skfin.datasets import load_kf_returns\n",
    "from skfin.text import show_text\n",
    "from sklearn.feature_extraction.text import TfidfVectorizer\n",
    "from sklearn.linear_model import ElasticNet, ElasticNetCV\n",
    "from sklearn.pipeline import Pipeline"
   ]
  },
  {
   "cell_type": "code",
   "execution_count": null,
   "metadata": {
    "execution": {
     "iopub.execute_input": "2023-12-07T08:34:08.803395Z",
     "iopub.status.busy": "2023-12-07T08:34:08.802942Z",
     "iopub.status.idle": "2023-12-07T08:34:08.835975Z",
     "shell.execute_reply": "2023-12-07T08:34:08.835323Z"
    }
   },
   "outputs": [],
   "source": [
    "ret = load_kf_returns(filename=\"F-F_Research_Data_Factors_daily\")[\"Daily\"]"
   ]
  },
  {
   "cell_type": "code",
   "execution_count": null,
   "metadata": {
    "execution": {
     "iopub.execute_input": "2023-12-07T08:34:08.838698Z",
     "iopub.status.busy": "2023-12-07T08:34:08.838462Z",
     "iopub.status.idle": "2023-12-07T08:34:08.873818Z",
     "shell.execute_reply": "2023-12-07T08:34:08.873157Z"
    }
   },
   "outputs": [],
   "source": [
    "special_days = [\"2008-01-22\", \"2010-05-09\", \"2020-03-15\"]\n",
    "idx0 = pd.to_datetime(pd.Index(special_days))\n",
    "idx = statements.index.difference(idx0).union(idx0 + BDay(1))\n",
    "ret_fomc = ret.div(ret.ewm(252).std()).loc[ret.index.intersection(idx)]"
   ]
  },
  {
   "cell_type": "code",
   "execution_count": null,
   "metadata": {
    "execution": {
     "iopub.execute_input": "2023-12-07T08:34:08.876519Z",
     "iopub.status.busy": "2023-12-07T08:34:08.876282Z",
     "iopub.status.idle": "2023-12-07T08:34:09.519177Z",
     "shell.execute_reply": "2023-12-07T08:34:09.518528Z"
    }
   },
   "outputs": [],
   "source": [
    "est = Pipeline(\n",
    "    [\n",
    "        (\n",
    "            \"tfidf\",\n",
    "            TfidfVectorizer(\n",
    "                vocabulary=None,\n",
    "                ngram_range=(1, 3),\n",
    "                max_features=500,\n",
    "                stop_words=\"english\",\n",
    "                token_pattern=r\"\\b[a-zA-Z]{3,}\\b\",\n",
    "            ),\n",
    "        ),\n",
    "        (\"reg\", ElasticNet(alpha=0.0075)),\n",
    "    ]\n",
    ")\n",
    "y = ret_fomc[\"Mkt-RF\"].dropna()\n",
    "X = statements[\"text\"]\n",
    "idx_ = y.index.intersection(X.index)\n",
    "X, y = X.loc[idx_], y.loc[idx_]\n",
    "est.fit(X, y)\n",
    "vocab_ = pd.Series(est.named_steps[\"tfidf\"].vocabulary_).sort_values().index\n",
    "interpret_coef = pd.DataFrame(np.transpose(est.named_steps[\"reg\"].coef_), index=vocab_)\n",
    "coefs_plot(interpret_coef, title=\"Interpreted coefficients for trained model\")"
   ]
  },
  {
   "cell_type": "code",
   "execution_count": null,
   "metadata": {
    "execution": {
     "iopub.execute_input": "2023-12-07T08:34:09.522097Z",
     "iopub.status.busy": "2023-12-07T08:34:09.521686Z",
     "iopub.status.idle": "2023-12-07T08:34:09.551793Z",
     "shell.execute_reply": "2023-12-07T08:34:09.551142Z"
    }
   },
   "outputs": [],
   "source": [
    "lexica = {\n",
    "    \"positive\": interpret_coef.squeeze().nlargest(n=10),\n",
    "    \"negative\": interpret_coef.squeeze().nsmallest(n=10),\n",
    "}"
   ]
  },
  {
   "cell_type": "code",
   "execution_count": null,
   "metadata": {
    "execution": {
     "iopub.execute_input": "2023-12-07T08:34:09.554659Z",
     "iopub.status.busy": "2023-12-07T08:34:09.554174Z",
     "iopub.status.idle": "2023-12-07T08:34:09.697095Z",
     "shell.execute_reply": "2023-12-07T08:34:09.696465Z"
    }
   },
   "outputs": [],
   "source": [
    "idx_ = (\n",
    "    pd.Series(est.predict(X), index=X.index)\n",
    "    .sort_values()\n",
    "    .pipe(lambda x: [x.index[0], x.index[-1]])\n",
    ")\n",
    "show_text(statements.loc[idx_], lexica=lexica, n=None)"
   ]
  }
 ],
 "metadata": {
  "hide_input": false,
  "kernelspec": {
   "display_name": "Python (skfin)",
   "language": "python",
   "name": "skfin"
  },
  "language_info": {
   "codemirror_mode": {
    "name": "ipython",
    "version": 3
   },
   "file_extension": ".py",
   "mimetype": "text/x-python",
   "name": "python",
   "nbconvert_exporter": "python",
   "pygments_lexer": "ipython3",
   "version": "3.8.16"
  },
  "toc": {
   "base_numbering": 1,
   "nav_menu": {},
   "number_sections": true,
   "sideBar": true,
   "skip_h1_title": false,
   "title_cell": "Table of Contents",
   "title_sidebar": "Contents",
   "toc_cell": false,
   "toc_position": {},
   "toc_section_display": true,
   "toc_window_display": false
  }
 },
 "nbformat": 4,
 "nbformat_minor": 4
}
