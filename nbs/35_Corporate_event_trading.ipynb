{
 "cells": [
  {
   "cell_type": "markdown",
   "metadata": {},
   "source": [
    "# Corporate event trading"
   ]
  },
  {
   "cell_type": "code",
   "execution_count": null,
   "metadata": {},
   "outputs": [],
   "source": [
    "#hide\n",
    "%load_ext autoreload\n",
    "%autoreload 2\n",
    "%matplotlib inline\n",
    "\n",
    "import random\n",
    "import numpy as np\n",
    "import pandas as pd\n",
    "from matplotlib import pyplot as plt"
   ]
  },
  {
   "cell_type": "code",
   "execution_count": null,
   "metadata": {},
   "outputs": [],
   "source": [
    "#hide\n",
    "from IPython.display import display, Image"
   ]
  },
  {
   "cell_type": "markdown",
   "metadata": {},
   "source": [
    "## Earnings announcement premium"
   ]
  },
  {
   "cell_type": "code",
   "execution_count": null,
   "metadata": {},
   "outputs": [],
   "source": [
    "#hide \n",
    "display(Image('images/savor_ea_1.png',width=500))"
   ]
  },
  {
   "cell_type": "markdown",
   "metadata": {},
   "source": [
    "Main statements in Savor and Wilson (2016):\n",
    "1. earnings announcement premium = 9.9% / year \n",
    "1. announcing firms are \"risky\" and therefore there should be a compensation for risk\n",
    "1. more precisely, firm earnings contain news about market cash-flow risk and therefore matter for aggreate risk\n",
    "\n",
    "We focus on the first point. "
   ]
  },
  {
   "cell_type": "code",
   "execution_count": null,
   "metadata": {},
   "outputs": [],
   "source": [
    "#hide \n",
    "display(Image('images/savor_ea_2.png',width=700))"
   ]
  },
  {
   "cell_type": "code",
   "execution_count": null,
   "metadata": {},
   "outputs": [],
   "source": [
    "#hide \n",
    "display(Image('images/savor_ea_3.png',width=500))"
   ]
  },
  {
   "cell_type": "markdown",
   "metadata": {},
   "source": [
    "## Regulatory filings"
   ]
  },
  {
   "cell_type": "markdown",
   "metadata": {},
   "source": [
    "The main regulatory filings to the U.S. Securities and Exchange Commission (SEC) are known as the 10-Ks and 10-Qs. \n",
    "- The 10-K is an annual report that gives a summary of the company's financial performance (and includes information such as company history, executive compensation, etc). \n",
    "- The 10-Q is a quarterly report and contains similar information as the 10-K, but with less details. \n",
    "\n",
    "The regulatory filings and the earning conference calls take place typically on the same day, so that all the market-moving information is disclosed to the market at the same time. "
   ]
  },
  {
   "cell_type": "markdown",
   "metadata": {},
   "source": [
    "## Filing dates from 10-Ks/10-Qs"
   ]
  },
  {
   "cell_type": "markdown",
   "metadata": {},
   "source": [
    "In this section, we use the sample of firms from the daily stock return dataset and match it to the McDonald repository (https://sraf.nd.edu/) used in particular in the Loughran-McDonald paper. "
   ]
  },
  {
   "cell_type": "code",
   "execution_count": null,
   "metadata": {},
   "outputs": [],
   "source": [
    "from skfin.plot import line, bar\n",
    "from skfin.datasets import load_sklearn_stock_returns, load_10X_summaries, mapping_10X\n",
    "ret = load_sklearn_stock_returns(cache_dir=\"data\")"
   ]
  },
  {
   "cell_type": "code",
   "execution_count": null,
   "metadata": {},
   "outputs": [],
   "source": [
    "df = load_10X_summaries()"
   ]
  },
  {
   "cell_type": "code",
   "execution_count": null,
   "metadata": {},
   "outputs": [],
   "source": [
    "df.sample(n=5).iloc[:, :10]"
   ]
  },
  {
   "cell_type": "markdown",
   "metadata": {},
   "source": [
    "The mapping of stock tickers to company name is `mapping_10X`:\n",
    "- given that the name of firms can change (e.g. \"Dell computer corp\" becoming \"Dell inc\"), all the possible names need to be tracked. "
   ]
  },
  {
   "cell_type": "code",
   "execution_count": null,
   "metadata": {},
   "outputs": [],
   "source": [
    "random.choices(list(mapping_10X.items()), k=10)"
   ]
  },
  {
   "cell_type": "markdown",
   "metadata": {},
   "source": [
    "The table below shows the number of regulatory filings over time for the selected firms. "
   ]
  },
  {
   "cell_type": "code",
   "execution_count": null,
   "metadata": {},
   "outputs": [],
   "source": [
    "pd.DataFrame.from_dict({k: df.loc[lambda x: x.CoName.isin(v if isinstance(v, list) else [v])]\\\n",
    "                            .set_index('date')\\\n",
    "                            .loc[ret.index[0]:ret.index[-1]]\\\n",
    "                            .groupby(['FORM_TYPE'])['FILING_DATE'].count()\n",
    "                        for k, v in mapping_10X.items()}, orient='index')\\\n",
    "            .assign(**{'10_K_Q': lambda x:x['10-K'] + x['10-Q'], \n",
    "                      'restatements': lambda x:x['10-K-A'] + x['10-Q-A'] })\\\n",
    "            .sort_values(['10_K_Q', 'restatements']).fillna(0).astype(int)"
   ]
  },
  {
   "cell_type": "markdown",
   "metadata": {},
   "source": [
    "### mapping checks"
   ]
  },
  {
   "cell_type": "code",
   "execution_count": null,
   "metadata": {},
   "outputs": [],
   "source": [
    "v = mapping_10X['CVC']\n",
    "print(v)\n",
    "df.loc[lambda x: x.CoName.isin(v if isinstance(v, list) else [v])].set_index('date')\\\n",
    "  .loc[ret.index[0]:ret.index[-1]].loc['2006'].iloc[:, :10]"
   ]
  },
  {
   "cell_type": "markdown",
   "metadata": {},
   "source": [
    "Matching company names is often a time-consuming task: below we use the package `rapidfuzz` to check the candidate matches. "
   ]
  },
  {
   "cell_type": "code",
   "execution_count": null,
   "metadata": {},
   "outputs": [],
   "source": [
    "CoName = list(df.assign(CoName = lambda x:x.CoName.str.upper())\\\n",
    "              .groupby(['date', 'CoName'])['FILING_DATE'].count()\\\n",
    "             .loc[ret.index[0]:ret.index[-1]]\\\n",
    "             .groupby(level=1).count().index)\n",
    "\n",
    "from rapidfuzz import fuzz\n",
    "pd.Series({c: fuzz.token_set_ratio('CABLEVISION', c) for c in CoName}).sort_values(ascending=False).head(5)"
   ]
  },
  {
   "cell_type": "markdown",
   "metadata": {},
   "source": [
    "## Stock returns on filing dates"
   ]
  },
  {
   "cell_type": "code",
   "execution_count": null,
   "metadata": {},
   "outputs": [],
   "source": [
    "ret_norm = ret.pipe(lambda x: x.div(x.ewm(halflife=63, min_periods=21).std()))\\\n",
    "              .dropna(how='all',axis=0)\n",
    "\n",
    "mask = pd.concat({k: df.loc[lambda x: x.CoName.isin(v if isinstance(v, list) else [v])]\\\n",
    "                            .set_index('date')\\\n",
    "                            .loc['2002-01-01':ret.index[-1]]['FORM_TYPE']\n",
    "           for k, v in mapping_10X.items()}).groupby(level=[1, 0]).count()\n",
    "\n",
    "funcs = {'ea': lambda x: x.loc[x.FORM_TYPE.notna()].drop('FORM_TYPE', axis=1), \n",
    "         'not_ea': lambda x: x.loc[x.FORM_TYPE.isna()].drop('FORM_TYPE', axis=1)}\n",
    "\n",
    "ret_ea = pd.concat({k: ret_norm.stack().rename('ret').to_frame().join(mask).pipe(v).squeeze() \n",
    "                    for k, v in funcs.items()}, axis=1)"
   ]
  },
  {
   "cell_type": "markdown",
   "metadata": {},
   "source": [
    "The histogram below shows more extreme returns on filing dates."
   ]
  },
  {
   "cell_type": "code",
   "execution_count": null,
   "metadata": {},
   "outputs": [],
   "source": [
    "bins = np.linspace(-10, 10, 50)\n",
    "plt.hist(ret_ea['not_ea'].dropna(), bins, density=True, alpha=0.5, label='not fomc')\n",
    "plt.hist(ret_ea['ea'].dropna(), bins, density=True, alpha=0.5, label='ea')\n",
    "plt.legend(loc='upper right')\n",
    "plt.show()"
   ]
  },
  {
   "cell_type": "markdown",
   "metadata": {},
   "source": [
    "Statistically, this is confirmed with a higher volatility on filing dates. On this sample, the average returns do not seem different."
   ]
  },
  {
   "cell_type": "code",
   "execution_count": null,
   "metadata": {},
   "outputs": [],
   "source": [
    "pd.concat({'Average volatility': ret_ea.std(), 'Average mean': ret_ea.mean()}, axis=1).round(2)"
   ]
  },
  {
   "cell_type": "code",
   "execution_count": null,
   "metadata": {},
   "outputs": [],
   "source": [
    "ea_std, ea_mean = {}, {}\n",
    "for i in range(-5, 5): \n",
    "    mask_ = mask.unstack().reindex(ret.index).shift(i).stack().rename('FORM_TYPE')\n",
    "    ret_ea_ = pd.concat({k: ret_norm.stack().rename('ret').to_frame().join(mask_).pipe(v).squeeze() \n",
    "                        for k, v in funcs.items()}, axis=1)\n",
    "    ea_std[i] = ret_ea_.std()\n",
    "    ea_mean[i] = ret_ea_.mean()"
   ]
  },
  {
   "cell_type": "code",
   "execution_count": null,
   "metadata": {},
   "outputs": [],
   "source": [
    "fig, ax = plt.subplots(1, 2, figsize=(16, 6))\n",
    "line(pd.DataFrame(ea_std).T, title='Lead-lag volatility', sort=False, ax=ax[0], bbox_to_anchor=None, loc='best')\n",
    "line(pd.DataFrame(ea_mean).T, title='Lead-lag mean', sort=False, ax=ax[1], bbox_to_anchor=None, loc='best')"
   ]
  }
 ],
 "metadata": {
  "hide_input": false,
  "kernelspec": {
   "display_name": "Python (skfin)",
   "language": "python",
   "name": "skfin"
  },
  "language_info": {
   "codemirror_mode": {
    "name": "ipython",
    "version": 3
   },
   "file_extension": ".py",
   "mimetype": "text/x-python",
   "name": "python",
   "nbconvert_exporter": "python",
   "pygments_lexer": "ipython3",
   "version": "3.9.13"
  },
  "toc": {
   "base_numbering": 1,
   "nav_menu": {},
   "number_sections": true,
   "sideBar": true,
   "skip_h1_title": false,
   "title_cell": "Table of Contents",
   "title_sidebar": "Contents",
   "toc_cell": false,
   "toc_position": {},
   "toc_section_display": true,
   "toc_window_display": false
  }
 },
 "nbformat": 4,
 "nbformat_minor": 4
}
