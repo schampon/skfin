{
 "cells": [
  {
   "cell_type": "markdown",
   "metadata": {
    "editable": true,
    "slideshow": {
     "slide_type": ""
    },
    "tags": []
   },
   "source": [
    "# Trading Around Earnings Announcements: Volatility, Risk, and Regulatory Filings"
   ]
  },
  {
   "cell_type": "code",
   "execution_count": null,
   "metadata": {
    "execution": {
     "iopub.execute_input": "2025-09-29T15:52:23.509638Z",
     "iopub.status.busy": "2025-09-29T15:52:23.509368Z",
     "iopub.status.idle": "2025-09-29T15:52:24.494881Z",
     "shell.execute_reply": "2025-09-29T15:52:24.494317Z"
    }
   },
   "outputs": [],
   "source": [
    "# hide\n",
    "%load_ext autoreload\n",
    "%autoreload 2\n",
    "%matplotlib inline\n",
    "\n",
    "import random\n",
    "\n",
    "import numpy as np\n",
    "import pandas as pd\n",
    "from matplotlib import pyplot as plt"
   ]
  },
  {
   "cell_type": "code",
   "execution_count": null,
   "metadata": {
    "execution": {
     "iopub.execute_input": "2025-09-29T15:52:24.497075Z",
     "iopub.status.busy": "2025-09-29T15:52:24.496652Z",
     "iopub.status.idle": "2025-09-29T15:52:24.513559Z",
     "shell.execute_reply": "2025-09-29T15:52:24.513089Z"
    }
   },
   "outputs": [],
   "source": [
    "# hide\n",
    "from IPython.display import Image, display"
   ]
  },
  {
   "cell_type": "markdown",
   "metadata": {},
   "source": [
    "In this section, we discuss the trading around corporate events, specifically earning announcements. For instance in the US, firms releases their earnings generally on a quarterly frequency and this is a significant piece of information that subsequently gets incorporated into prices. "
   ]
  },
  {
   "cell_type": "markdown",
   "metadata": {},
   "source": [
    "## Earnings announcement premium"
   ]
  },
  {
   "cell_type": "code",
   "execution_count": null,
   "metadata": {
    "execution": {
     "iopub.execute_input": "2025-09-29T15:52:24.515504Z",
     "iopub.status.busy": "2025-09-29T15:52:24.515054Z",
     "iopub.status.idle": "2025-09-29T15:52:24.545193Z",
     "shell.execute_reply": "2025-09-29T15:52:24.544708Z"
    }
   },
   "outputs": [],
   "source": [
    "# hide\n",
    "display(Image(\"images/savor_ea_1.png\", width=500))"
   ]
  },
  {
   "cell_type": "markdown",
   "metadata": {},
   "source": [
    "Savor and Wilson (2016) highlight several key points: the earnings announcement premium is 9.9% annually. They also suggest that firms making these announcements are considered \"risky,\" which necessitates compensation for the associated risk. Furthermore, the study indicates that firm earnings contain information about market cash-flow risk, which has implications for aggregate risk. Our emphasis will be on the first point."
   ]
  },
  {
   "cell_type": "code",
   "execution_count": null,
   "metadata": {
    "execution": {
     "iopub.execute_input": "2025-09-29T15:52:24.579464Z",
     "iopub.status.busy": "2025-09-29T15:52:24.579087Z",
     "iopub.status.idle": "2025-09-29T15:52:24.602483Z",
     "shell.execute_reply": "2025-09-29T15:52:24.602014Z"
    }
   },
   "outputs": [],
   "source": [
    "# hide\n",
    "display(Image(\"images/savor_ea_2.png\", width=700))"
   ]
  },
  {
   "cell_type": "code",
   "execution_count": null,
   "metadata": {
    "execution": {
     "iopub.execute_input": "2025-09-29T15:52:24.604933Z",
     "iopub.status.busy": "2025-09-29T15:52:24.604670Z",
     "iopub.status.idle": "2025-09-29T15:52:24.627418Z",
     "shell.execute_reply": "2025-09-29T15:52:24.626931Z"
    }
   },
   "outputs": [],
   "source": [
    "# hide\n",
    "display(Image(\"images/savor_ea_3.png\", width=500))"
   ]
  },
  {
   "cell_type": "markdown",
   "metadata": {},
   "source": [
    "## Regulatory filings"
   ]
  },
  {
   "cell_type": "markdown",
   "metadata": {},
   "source": [
    "The main regulatory filings to the U.S. Securities and Exchange Commission (SEC) are known as the 10-Ks and 10-Qs. \n",
    "\n",
    "- The 10-K is an annual report  required by the U.S. Securities and Exchange Commission (SEC) that gives a summary of the company's financial performance (and includes information such as company history, executive compensation, etc). \n",
    "- The 10-Q is a quarterly report and contains similar information as the 10-K, but with less details. \n",
    "\n",
    "The regulatory filings and the earning conference calls take place typically on the same day, so that all the market-moving information is disclosed to the market at the same time. "
   ]
  },
  {
   "cell_type": "markdown",
   "metadata": {},
   "source": [
    "## Filing dates from 10-Ks/10-Qs"
   ]
  },
  {
   "cell_type": "markdown",
   "metadata": {},
   "source": [
    "In this section, we use the sample of firms from the daily stock return dataset and match it to the McDonald repository (https://sraf.nd.edu/) used in particular in the Loughran-McDonald paper. "
   ]
  },
  {
   "cell_type": "code",
   "execution_count": null,
   "metadata": {
    "editable": true,
    "execution": {
     "iopub.execute_input": "2025-09-29T15:52:24.629892Z",
     "iopub.status.busy": "2025-09-29T15:52:24.629620Z",
     "iopub.status.idle": "2025-09-29T15:52:25.383621Z",
     "shell.execute_reply": "2025-09-29T15:52:25.383027Z"
    },
    "slideshow": {
     "slide_type": ""
    },
    "tags": []
   },
   "outputs": [],
   "source": [
    "from skfin.datasets_ import load_10X_summaries, load_sklearn_stock_returns\n",
    "from skfin.dataloaders.constants.mappings import mapping_10X\n",
    "from skfin.plot import bar, line\n",
    "\n",
    "ret = load_sklearn_stock_returns(cache_dir=\"data\")"
   ]
  },
  {
   "cell_type": "code",
   "execution_count": null,
   "metadata": {
    "editable": true,
    "execution": {
     "iopub.execute_input": "2025-09-29T15:52:25.385874Z",
     "iopub.status.busy": "2025-09-29T15:52:25.385416Z",
     "iopub.status.idle": "2025-09-29T15:52:29.070573Z",
     "shell.execute_reply": "2025-09-29T15:52:29.069985Z"
    },
    "slideshow": {
     "slide_type": ""
    },
    "tags": []
   },
   "outputs": [],
   "source": [
    "df = load_10X_summaries()"
   ]
  },
  {
   "cell_type": "code",
   "execution_count": null,
   "metadata": {
    "execution": {
     "iopub.execute_input": "2025-09-29T15:52:29.072719Z",
     "iopub.status.busy": "2025-09-29T15:52:29.072386Z",
     "iopub.status.idle": "2025-09-29T15:52:29.520597Z",
     "shell.execute_reply": "2025-09-29T15:52:29.520051Z"
    }
   },
   "outputs": [],
   "source": [
    "df.sample(n=5).iloc[:, :12]"
   ]
  },
  {
   "cell_type": "markdown",
   "metadata": {},
   "source": [
    "The mapping of stock tickers to company name is `mapping_10X`:\n",
    "\n",
    "- given that the name of firms can change (e.g. \"Dell computer corp\" becoming \"Dell inc\"), all the possible names need to be tracked. "
   ]
  },
  {
   "cell_type": "code",
   "execution_count": null,
   "metadata": {
    "execution": {
     "iopub.execute_input": "2025-09-29T15:52:29.522573Z",
     "iopub.status.busy": "2025-09-29T15:52:29.522215Z",
     "iopub.status.idle": "2025-09-29T15:52:29.550825Z",
     "shell.execute_reply": "2025-09-29T15:52:29.550340Z"
    }
   },
   "outputs": [],
   "source": [
    "random.choices(list(mapping_10X.items()), k=10)"
   ]
  },
  {
   "cell_type": "markdown",
   "metadata": {},
   "source": [
    "The table below shows the number of regulatory filings over time for the selected firms. "
   ]
  },
  {
   "cell_type": "code",
   "execution_count": null,
   "metadata": {
    "execution": {
     "iopub.execute_input": "2025-09-29T15:52:29.552715Z",
     "iopub.status.busy": "2025-09-29T15:52:29.552427Z",
     "iopub.status.idle": "2025-09-29T15:52:30.732313Z",
     "shell.execute_reply": "2025-09-29T15:52:30.731776Z"
    }
   },
   "outputs": [],
   "source": [
    "pd.DataFrame.from_dict(\n",
    "    {\n",
    "        k: df.loc[lambda x: x.CoName.isin(v if isinstance(v, list) else [v])]\n",
    "        .loc[ret.index[0] : ret.index[-1]]\n",
    "        .groupby([\"FORM_TYPE\"])[\"FILING_DATE\"]\n",
    "        .count()\n",
    "        for k, v in mapping_10X.items()\n",
    "    },\n",
    "    orient=\"index\",\n",
    ").assign(\n",
    "    **{\n",
    "        \"10_K_Q\": lambda x: x[\"10-K\"] + x[\"10-Q\"],\n",
    "        \"restatements\": lambda x: x[\"10-K-A\"] + x[\"10-Q-A\"],\n",
    "    }\n",
    ").sort_values([\"10_K_Q\", \"restatements\"]).fillna(0).astype(int)"
   ]
  },
  {
   "cell_type": "markdown",
   "metadata": {},
   "source": [
    "## Stock returns on filing dates"
   ]
  },
  {
   "cell_type": "code",
   "execution_count": null,
   "metadata": {
    "execution": {
     "iopub.execute_input": "2025-09-29T15:52:30.734272Z",
     "iopub.status.busy": "2025-09-29T15:52:30.733939Z",
     "iopub.status.idle": "2025-09-29T15:52:32.879261Z",
     "shell.execute_reply": "2025-09-29T15:52:32.878688Z"
    }
   },
   "outputs": [],
   "source": [
    "ret_norm = ret.pipe(lambda x: x.div(x.ewm(halflife=63, min_periods=21).std())).dropna(\n",
    "    how=\"all\", axis=0\n",
    ")\n",
    "\n",
    "mask = (\n",
    "    pd.concat(\n",
    "        {\n",
    "            k: df.loc[lambda x: x.CoName.isin(v if isinstance(v, list) else [v])].loc[\n",
    "                \"2002-01-01\" : ret.index[-1]\n",
    "            ][\"FORM_TYPE\"]\n",
    "            for k, v in mapping_10X.items()\n",
    "        }\n",
    "    )\n",
    "    .groupby(level=[1, 0])\n",
    "    .count()\n",
    ")\n",
    "\n",
    "funcs = {\n",
    "    \"ea\": lambda x: x.loc[x.FORM_TYPE.notna()].drop(\"FORM_TYPE\", axis=1),\n",
    "    \"not_ea\": lambda x: x.loc[x.FORM_TYPE.isna()].drop(\"FORM_TYPE\", axis=1),\n",
    "}\n",
    "\n",
    "ret_ea = pd.concat(\n",
    "    {\n",
    "        k: ret_norm.stack().rename(\"ret\").to_frame().join(mask).pipe(v).squeeze()\n",
    "        for k, v in funcs.items()\n",
    "    },\n",
    "    axis=1,\n",
    ")"
   ]
  },
  {
   "cell_type": "markdown",
   "metadata": {},
   "source": [
    "The histogram below shows more extreme returns on filing dates."
   ]
  },
  {
   "cell_type": "code",
   "execution_count": null,
   "metadata": {
    "execution": {
     "iopub.execute_input": "2025-09-29T15:52:32.881356Z",
     "iopub.status.busy": "2025-09-29T15:52:32.881009Z",
     "iopub.status.idle": "2025-09-29T15:52:33.114910Z",
     "shell.execute_reply": "2025-09-29T15:52:33.114376Z"
    }
   },
   "outputs": [],
   "source": [
    "bins = np.linspace(-10, 10, 50)\n",
    "plt.hist(ret_ea[\"not_ea\"].dropna(), bins, density=True, alpha=0.5, label=\"not ea\")\n",
    "plt.hist(ret_ea[\"ea\"].dropna(), bins, density=True, alpha=0.5, label=\"ea\")\n",
    "plt.legend(loc=\"upper right\")\n",
    "plt.show()"
   ]
  },
  {
   "cell_type": "markdown",
   "metadata": {
    "editable": true,
    "slideshow": {
     "slide_type": ""
    },
    "tags": []
   },
   "source": [
    "Statistically, this is confirmed with a higher volatility on filing dates. On this sample, the average returns do not seem different."
   ]
  },
  {
   "cell_type": "code",
   "execution_count": null,
   "metadata": {
    "execution": {
     "iopub.execute_input": "2025-09-29T15:52:33.116856Z",
     "iopub.status.busy": "2025-09-29T15:52:33.116530Z",
     "iopub.status.idle": "2025-09-29T15:52:33.257864Z",
     "shell.execute_reply": "2025-09-29T15:52:33.257330Z"
    }
   },
   "outputs": [],
   "source": [
    "fig, ax = plt.subplots(1, 2, figsize=(8, 3))\n",
    "bar(ret_ea.std(), title=\"Average volatility\", ax=ax[0], sort=False)\n",
    "bar(ret_ea.mean(), title=\"Average mean\", ax=ax[1], sort=False)"
   ]
  },
  {
   "cell_type": "code",
   "execution_count": null,
   "metadata": {
    "editable": true,
    "execution": {
     "iopub.execute_input": "2025-09-29T15:52:33.259748Z",
     "iopub.status.busy": "2025-09-29T15:52:33.259446Z",
     "iopub.status.idle": "2025-09-29T15:52:42.023042Z",
     "shell.execute_reply": "2025-09-29T15:52:42.022439Z"
    },
    "slideshow": {
     "slide_type": ""
    },
    "tags": []
   },
   "outputs": [],
   "source": [
    "ea_std, ea_mean = {}, {}\n",
    "for i in range(-5, 5):\n",
    "    mask_ = mask.unstack().reindex(ret.index).shift(i).stack().rename(\"FORM_TYPE\")\n",
    "    ret_ea_ = pd.concat(\n",
    "        {\n",
    "            k: ret_norm.stack().rename(\"ret\").to_frame().join(mask_).pipe(v).squeeze()\n",
    "            for k, v in funcs.items()\n",
    "        },\n",
    "        axis=1,\n",
    "    )\n",
    "    ea_std[i] = ret_ea_.std()\n",
    "    ea_mean[i] = ret_ea_.mean()"
   ]
  },
  {
   "cell_type": "code",
   "execution_count": null,
   "metadata": {
    "execution": {
     "iopub.execute_input": "2025-09-29T15:52:42.025161Z",
     "iopub.status.busy": "2025-09-29T15:52:42.024815Z",
     "iopub.status.idle": "2025-09-29T15:52:42.252690Z",
     "shell.execute_reply": "2025-09-29T15:52:42.252171Z"
    },
    "tags": []
   },
   "outputs": [],
   "source": [
    "fig, ax = plt.subplots(1, 2, figsize=(16, 6))\n",
    "line(\n",
    "    pd.DataFrame(ea_std).T,\n",
    "    title=\"Lead-lag volatility\",\n",
    "    sort=False,\n",
    "    ax=ax[0],\n",
    "    bbox_to_anchor=None,\n",
    "    loc=\"best\",\n",
    ")\n",
    "line(\n",
    "    pd.DataFrame(ea_mean).T,\n",
    "    title=\"Lead-lag mean\",\n",
    "    sort=False,\n",
    "    ax=ax[1],\n",
    "    bbox_to_anchor=None,\n",
    "    loc=\"best\",\n",
    ")"
   ]
  }
 ],
 "metadata": {
  "hide_input": false,
  "kernelspec": {
   "display_name": "skfin 2024",
   "language": "python",
   "name": "skfin"
  },
  "language_info": {
   "codemirror_mode": {
    "name": "ipython",
    "version": 3
   },
   "file_extension": ".py",
   "mimetype": "text/x-python",
   "name": "python",
   "nbconvert_exporter": "python",
   "pygments_lexer": "ipython3",
   "version": "3.9.20"
  },
  "toc": {
   "base_numbering": 1,
   "nav_menu": {},
   "number_sections": true,
   "sideBar": true,
   "skip_h1_title": false,
   "title_cell": "Table of Contents",
   "title_sidebar": "Contents",
   "toc_cell": false,
   "toc_position": {},
   "toc_section_display": true,
   "toc_window_display": false
  }
 },
 "nbformat": 4,
 "nbformat_minor": 4
}
