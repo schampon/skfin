{
 "cells": [
  {
   "cell_type": "markdown",
   "metadata": {},
   "source": [
    "# Corporate event trading"
   ]
  },
  {
   "cell_type": "code",
   "execution_count": null,
   "metadata": {
    "execution": {
     "iopub.execute_input": "2024-11-07T17:03:43.828486Z",
     "iopub.status.busy": "2024-11-07T17:03:43.828272Z",
     "iopub.status.idle": "2024-11-07T17:03:44.771852Z",
     "shell.execute_reply": "2024-11-07T17:03:44.771317Z"
    }
   },
   "outputs": [],
   "source": [
    "# hide\n",
    "%load_ext autoreload\n",
    "%autoreload 2\n",
    "%matplotlib inline\n",
    "\n",
    "import random\n",
    "\n",
    "import numpy as np\n",
    "import pandas as pd\n",
    "from matplotlib import pyplot as plt"
   ]
  },
  {
   "cell_type": "code",
   "execution_count": null,
   "metadata": {
    "execution": {
     "iopub.execute_input": "2024-11-07T17:03:44.774574Z",
     "iopub.status.busy": "2024-11-07T17:03:44.774263Z",
     "iopub.status.idle": "2024-11-07T17:03:44.789048Z",
     "shell.execute_reply": "2024-11-07T17:03:44.788621Z"
    }
   },
   "outputs": [],
   "source": [
    "# hide\n",
    "from IPython.display import Image, display"
   ]
  },
  {
   "cell_type": "markdown",
   "metadata": {},
   "source": [
    "In this section, we discuss the trading around corporate events, specifically earning announcements. For instance in the US, firms releases their earnings generally on a quarterly frequency and this is a significant piece of information that subsequently gets incorporated into prices. "
   ]
  },
  {
   "cell_type": "markdown",
   "metadata": {},
   "source": [
    "## Earnings announcement premium"
   ]
  },
  {
   "cell_type": "code",
   "execution_count": null,
   "metadata": {
    "execution": {
     "iopub.execute_input": "2024-11-07T17:03:44.791163Z",
     "iopub.status.busy": "2024-11-07T17:03:44.790948Z",
     "iopub.status.idle": "2024-11-07T17:03:44.817576Z",
     "shell.execute_reply": "2024-11-07T17:03:44.817138Z"
    }
   },
   "outputs": [],
   "source": [
    "# hide\n",
    "display(Image(\"images/savor_ea_1.png\", width=500))"
   ]
  },
  {
   "cell_type": "markdown",
   "metadata": {},
   "source": [
    "The main statements in Savor and Wilson (2016) are: \n",
    "\n",
    "1. earnings announcement premium = 9.9% / year \n",
    "1. announcing firms are \"risky\" and therefore there should be a compensation for risk\n",
    "1. more precisely, firm earnings contain news about market cash-flow risk and therefore matter for aggregate risk\n",
    "\n",
    "We focus on the first point. "
   ]
  },
  {
   "cell_type": "code",
   "execution_count": null,
   "metadata": {
    "execution": {
     "iopub.execute_input": "2024-11-07T17:03:44.849496Z",
     "iopub.status.busy": "2024-11-07T17:03:44.849243Z",
     "iopub.status.idle": "2024-11-07T17:03:44.868714Z",
     "shell.execute_reply": "2024-11-07T17:03:44.868276Z"
    }
   },
   "outputs": [],
   "source": [
    "# hide\n",
    "display(Image(\"images/savor_ea_2.png\", width=700))"
   ]
  },
  {
   "cell_type": "code",
   "execution_count": null,
   "metadata": {
    "execution": {
     "iopub.execute_input": "2024-11-07T17:03:44.871591Z",
     "iopub.status.busy": "2024-11-07T17:03:44.871375Z",
     "iopub.status.idle": "2024-11-07T17:03:44.914456Z",
     "shell.execute_reply": "2024-11-07T17:03:44.914048Z"
    }
   },
   "outputs": [],
   "source": [
    "# hide\n",
    "display(Image(\"images/savor_ea_3.png\", width=500))"
   ]
  },
  {
   "cell_type": "markdown",
   "metadata": {},
   "source": [
    "## Regulatory filings"
   ]
  },
  {
   "cell_type": "markdown",
   "metadata": {},
   "source": [
    "The main regulatory filings to the U.S. Securities and Exchange Commission (SEC) are known as the 10-Ks and 10-Qs. \n",
    "\n",
    "- The 10-K is an annual report  required by the U.S. Securities and Exchange Commission (SEC) that gives a summary of the company's financial performance (and includes information such as company history, executive compensation, etc). \n",
    "- The 10-Q is a quarterly report and contains similar information as the 10-K, but with less details. \n",
    "\n",
    "The regulatory filings and the earning conference calls take place typically on the same day, so that all the market-moving information is disclosed to the market at the same time. "
   ]
  },
  {
   "cell_type": "markdown",
   "metadata": {},
   "source": [
    "## Filing dates from 10-Ks/10-Qs"
   ]
  },
  {
   "cell_type": "markdown",
   "metadata": {},
   "source": [
    "In this section, we use the sample of firms from the daily stock return dataset and match it to the McDonald repository (https://sraf.nd.edu/) used in particular in the Loughran-McDonald paper. "
   ]
  },
  {
   "cell_type": "code",
   "execution_count": null,
   "metadata": {
    "execution": {
     "iopub.execute_input": "2024-11-07T17:03:44.917438Z",
     "iopub.status.busy": "2024-11-07T17:03:44.917109Z",
     "iopub.status.idle": "2024-11-07T17:03:45.711871Z",
     "shell.execute_reply": "2024-11-07T17:03:45.711332Z"
    }
   },
   "outputs": [],
   "source": [
    "from skfin.datasets import load_10X_summaries, load_sklearn_stock_returns, mapping_10X\n",
    "from skfin.plot import bar, line\n",
    "\n",
    "ret = load_sklearn_stock_returns(cache_dir=\"data\")"
   ]
  },
  {
   "cell_type": "code",
   "execution_count": null,
   "metadata": {
    "execution": {
     "iopub.execute_input": "2024-11-07T17:03:45.714473Z",
     "iopub.status.busy": "2024-11-07T17:03:45.714136Z",
     "iopub.status.idle": "2024-11-07T17:03:48.906420Z",
     "shell.execute_reply": "2024-11-07T17:03:48.905575Z"
    }
   },
   "outputs": [],
   "source": [
    "df = load_10X_summaries()"
   ]
  },
  {
   "cell_type": "code",
   "execution_count": null,
   "metadata": {
    "execution": {
     "iopub.execute_input": "2024-11-07T17:03:48.909379Z",
     "iopub.status.busy": "2024-11-07T17:03:48.909101Z",
     "iopub.status.idle": "2024-11-07T17:03:48.968536Z",
     "shell.execute_reply": "2024-11-07T17:03:48.968072Z"
    }
   },
   "outputs": [],
   "source": [
    "df.sample(n=5).iloc[:, :12]"
   ]
  },
  {
   "cell_type": "markdown",
   "metadata": {},
   "source": [
    "The mapping of stock tickers to company name is `mapping_10X`:\n",
    "\n",
    "- given that the name of firms can change (e.g. \"Dell computer corp\" becoming \"Dell inc\"), all the possible names need to be tracked. "
   ]
  },
  {
   "cell_type": "code",
   "execution_count": null,
   "metadata": {
    "execution": {
     "iopub.execute_input": "2024-11-07T17:03:48.970808Z",
     "iopub.status.busy": "2024-11-07T17:03:48.970462Z",
     "iopub.status.idle": "2024-11-07T17:03:48.995339Z",
     "shell.execute_reply": "2024-11-07T17:03:48.994908Z"
    }
   },
   "outputs": [],
   "source": [
    "random.choices(list(mapping_10X.items()), k=10)"
   ]
  },
  {
   "cell_type": "markdown",
   "metadata": {},
   "source": [
    "The table below shows the number of regulatory filings over time for the selected firms. "
   ]
  },
  {
   "cell_type": "code",
   "execution_count": null,
   "metadata": {
    "execution": {
     "iopub.execute_input": "2024-11-07T17:03:48.997320Z",
     "iopub.status.busy": "2024-11-07T17:03:48.997119Z",
     "iopub.status.idle": "2024-11-07T17:03:50.047921Z",
     "shell.execute_reply": "2024-11-07T17:03:50.047402Z"
    }
   },
   "outputs": [],
   "source": [
    "pd.DataFrame.from_dict(\n",
    "    {\n",
    "        k: df.loc[lambda x: x.CoName.isin(v if isinstance(v, list) else [v])]\n",
    "        .set_index(\"date\")\n",
    "        .loc[ret.index[0] : ret.index[-1]]\n",
    "        .groupby([\"FORM_TYPE\"])[\"FILING_DATE\"]\n",
    "        .count()\n",
    "        for k, v in mapping_10X.items()\n",
    "    },\n",
    "    orient=\"index\",\n",
    ").assign(\n",
    "    **{\n",
    "        \"10_K_Q\": lambda x: x[\"10-K\"] + x[\"10-Q\"],\n",
    "        \"restatements\": lambda x: x[\"10-K-A\"] + x[\"10-Q-A\"],\n",
    "    }\n",
    ").sort_values(\n",
    "    [\"10_K_Q\", \"restatements\"]\n",
    ").fillna(\n",
    "    0\n",
    ").astype(\n",
    "    int\n",
    ")"
   ]
  },
  {
   "cell_type": "markdown",
   "metadata": {},
   "source": [
    "### mapping checks"
   ]
  },
  {
   "cell_type": "code",
   "execution_count": null,
   "metadata": {
    "execution": {
     "iopub.execute_input": "2024-11-07T17:03:50.050208Z",
     "iopub.status.busy": "2024-11-07T17:03:50.049951Z",
     "iopub.status.idle": "2024-11-07T17:03:50.101376Z",
     "shell.execute_reply": "2024-11-07T17:03:50.100902Z"
    }
   },
   "outputs": [],
   "source": [
    "v = mapping_10X[\"CVC\"]\n",
    "print(v)\n",
    "df.loc[lambda x: x.CoName.isin(v if isinstance(v, list) else [v])].set_index(\n",
    "    \"date\"\n",
    ").loc[ret.index[0] : ret.index[-1]].loc[\"2006\"].iloc[:, :10]"
   ]
  },
  {
   "cell_type": "markdown",
   "metadata": {},
   "source": [
    "Matching company names is often a time-consuming task: below we use the package `rapidfuzz` to check the candidate matches. "
   ]
  },
  {
   "cell_type": "code",
   "execution_count": null,
   "metadata": {
    "execution": {
     "iopub.execute_input": "2024-11-07T17:03:50.103682Z",
     "iopub.status.busy": "2024-11-07T17:03:50.103286Z",
     "iopub.status.idle": "2024-11-07T17:03:51.383583Z",
     "shell.execute_reply": "2024-11-07T17:03:51.383054Z"
    }
   },
   "outputs": [],
   "source": [
    "CoName = list(\n",
    "    df.assign(CoName=lambda x: x.CoName.str.upper())\n",
    "    .groupby([\"date\", \"CoName\"])[\"FILING_DATE\"]\n",
    "    .count()\n",
    "    .loc[ret.index[0] : ret.index[-1]]\n",
    "    .groupby(level=1)\n",
    "    .count()\n",
    "    .index\n",
    ")\n",
    "\n",
    "from rapidfuzz import fuzz\n",
    "\n",
    "pd.Series({c: fuzz.token_set_ratio(\"CABLEVISION\", c) for c in CoName}).sort_values(\n",
    "    ascending=False\n",
    ").head(5)"
   ]
  },
  {
   "cell_type": "markdown",
   "metadata": {},
   "source": [
    "## Stock returns on filing dates"
   ]
  },
  {
   "cell_type": "code",
   "execution_count": null,
   "metadata": {
    "execution": {
     "iopub.execute_input": "2024-11-07T17:03:51.385903Z",
     "iopub.status.busy": "2024-11-07T17:03:51.385651Z",
     "iopub.status.idle": "2024-11-07T17:03:53.326971Z",
     "shell.execute_reply": "2024-11-07T17:03:53.326425Z"
    }
   },
   "outputs": [],
   "source": [
    "ret_norm = ret.pipe(lambda x: x.div(x.ewm(halflife=63, min_periods=21).std())).dropna(\n",
    "    how=\"all\", axis=0\n",
    ")\n",
    "\n",
    "mask = (\n",
    "    pd.concat(\n",
    "        {\n",
    "            k: df.loc[lambda x: x.CoName.isin(v if isinstance(v, list) else [v])]\n",
    "            .set_index(\"date\")\n",
    "            .loc[\"2002-01-01\" : ret.index[-1]][\"FORM_TYPE\"]\n",
    "            for k, v in mapping_10X.items()\n",
    "        }\n",
    "    )\n",
    "    .groupby(level=[1, 0])\n",
    "    .count()\n",
    ")\n",
    "\n",
    "funcs = {\n",
    "    \"ea\": lambda x: x.loc[x.FORM_TYPE.notna()].drop(\"FORM_TYPE\", axis=1),\n",
    "    \"not_ea\": lambda x: x.loc[x.FORM_TYPE.isna()].drop(\"FORM_TYPE\", axis=1),\n",
    "}\n",
    "\n",
    "ret_ea = pd.concat(\n",
    "    {\n",
    "        k: ret_norm.stack().rename(\"ret\").to_frame().join(mask).pipe(v).squeeze()\n",
    "        for k, v in funcs.items()\n",
    "    },\n",
    "    axis=1,\n",
    ")"
   ]
  },
  {
   "cell_type": "markdown",
   "metadata": {},
   "source": [
    "The histogram below shows more extreme returns on filing dates."
   ]
  },
  {
   "cell_type": "code",
   "execution_count": null,
   "metadata": {
    "execution": {
     "iopub.execute_input": "2024-11-07T17:03:53.329856Z",
     "iopub.status.busy": "2024-11-07T17:03:53.329461Z",
     "iopub.status.idle": "2024-11-07T17:03:53.554420Z",
     "shell.execute_reply": "2024-11-07T17:03:53.553977Z"
    }
   },
   "outputs": [],
   "source": [
    "bins = np.linspace(-10, 10, 50)\n",
    "plt.hist(ret_ea[\"not_ea\"].dropna(), bins, density=True, alpha=0.5, label=\"not fomc\")\n",
    "plt.hist(ret_ea[\"ea\"].dropna(), bins, density=True, alpha=0.5, label=\"ea\")\n",
    "plt.legend(loc=\"upper right\")\n",
    "plt.show()"
   ]
  },
  {
   "cell_type": "markdown",
   "metadata": {},
   "source": [
    "Statistically, this is confirmed with a higher volatility on filing dates. On this sample, the average returns do not seem different."
   ]
  },
  {
   "cell_type": "code",
   "execution_count": null,
   "metadata": {
    "execution": {
     "iopub.execute_input": "2024-11-07T17:03:53.556642Z",
     "iopub.status.busy": "2024-11-07T17:03:53.556346Z",
     "iopub.status.idle": "2024-11-07T17:03:53.586059Z",
     "shell.execute_reply": "2024-11-07T17:03:53.585618Z"
    }
   },
   "outputs": [],
   "source": [
    "pd.concat(\n",
    "    {\"Average volatility\": ret_ea.std(), \"Average mean\": ret_ea.mean()}, axis=1\n",
    ").round(2)"
   ]
  },
  {
   "cell_type": "code",
   "execution_count": null,
   "metadata": {
    "execution": {
     "iopub.execute_input": "2024-11-07T17:03:53.588152Z",
     "iopub.status.busy": "2024-11-07T17:03:53.587804Z",
     "iopub.status.idle": "2024-11-07T17:04:01.794495Z",
     "shell.execute_reply": "2024-11-07T17:04:01.793907Z"
    }
   },
   "outputs": [],
   "source": [
    "ea_std, ea_mean = {}, {}\n",
    "for i in range(-5, 5):\n",
    "    mask_ = mask.unstack().reindex(ret.index).shift(i).stack().rename(\"FORM_TYPE\")\n",
    "    ret_ea_ = pd.concat(\n",
    "        {\n",
    "            k: ret_norm.stack().rename(\"ret\").to_frame().join(mask_).pipe(v).squeeze()\n",
    "            for k, v in funcs.items()\n",
    "        },\n",
    "        axis=1,\n",
    "    )\n",
    "    ea_std[i] = ret_ea_.std()\n",
    "    ea_mean[i] = ret_ea_.mean()"
   ]
  },
  {
   "cell_type": "code",
   "execution_count": null,
   "metadata": {
    "execution": {
     "iopub.execute_input": "2024-11-07T17:04:01.797415Z",
     "iopub.status.busy": "2024-11-07T17:04:01.797016Z",
     "iopub.status.idle": "2024-11-07T17:04:02.019080Z",
     "shell.execute_reply": "2024-11-07T17:04:02.018569Z"
    },
    "tags": []
   },
   "outputs": [],
   "source": [
    "fig, ax = plt.subplots(1, 2, figsize=(16, 6))\n",
    "line(\n",
    "    pd.DataFrame(ea_std).T,\n",
    "    title=\"Lead-lag volatility\",\n",
    "    sort=False,\n",
    "    ax=ax[0],\n",
    "    bbox_to_anchor=None,\n",
    "    loc=\"best\",\n",
    ")\n",
    "line(\n",
    "    pd.DataFrame(ea_mean).T,\n",
    "    title=\"Lead-lag mean\",\n",
    "    sort=False,\n",
    "    ax=ax[1],\n",
    "    bbox_to_anchor=None,\n",
    "    loc=\"best\",\n",
    ")"
   ]
  }
 ],
 "metadata": {
  "hide_input": false,
  "kernelspec": {
   "display_name": "skfin 2024",
   "language": "python",
   "name": "skfin"
  },
  "language_info": {
   "codemirror_mode": {
    "name": "ipython",
    "version": 3
   },
   "file_extension": ".py",
   "mimetype": "text/x-python",
   "name": "python",
   "nbconvert_exporter": "python",
   "pygments_lexer": "ipython3",
   "version": "3.9.20"
  },
  "toc": {
   "base_numbering": 1,
   "nav_menu": {},
   "number_sections": true,
   "sideBar": true,
   "skip_h1_title": false,
   "title_cell": "Table of Contents",
   "title_sidebar": "Contents",
   "toc_cell": false,
   "toc_position": {},
   "toc_section_display": true,
   "toc_window_display": false
  }
 },
 "nbformat": 4,
 "nbformat_minor": 4
}
