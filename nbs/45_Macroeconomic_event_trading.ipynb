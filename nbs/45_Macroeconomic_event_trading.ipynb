{
 "cells": [
  {
   "cell_type": "markdown",
   "metadata": {},
   "source": [
    "# Macroeconomic event trading"
   ]
  },
  {
   "cell_type": "markdown",
   "metadata": {},
   "source": [
    "In this section, we describe trading around specific scheduled macroeconomic events. "
   ]
  },
  {
   "cell_type": "markdown",
   "metadata": {},
   "source": [
    "## Macroeconomic events"
   ]
  },
  {
   "cell_type": "code",
   "execution_count": null,
   "metadata": {
    "execution": {
     "iopub.execute_input": "2024-11-07T17:05:06.396277Z",
     "iopub.status.busy": "2024-11-07T17:05:06.395848Z",
     "iopub.status.idle": "2024-11-07T17:05:06.402466Z",
     "shell.execute_reply": "2024-11-07T17:05:06.402055Z"
    }
   },
   "outputs": [],
   "source": [
    "# hide\n",
    "from IPython.display import Image, display"
   ]
  },
  {
   "cell_type": "code",
   "execution_count": null,
   "metadata": {
    "execution": {
     "iopub.execute_input": "2024-11-07T17:05:06.404641Z",
     "iopub.status.busy": "2024-11-07T17:05:06.404243Z",
     "iopub.status.idle": "2024-11-07T17:05:06.443043Z",
     "shell.execute_reply": "2024-11-07T17:05:06.442624Z"
    }
   },
   "outputs": [],
   "source": [
    "# hide\n",
    "display(Image(\"images/savor_title.png\", width=500))"
   ]
  },
  {
   "cell_type": "markdown",
   "metadata": {},
   "source": [
    "Three statements in Savor and Wilson (2013): \n",
    "\n",
    "- U.S. stock market returns are significantly higher on days when important macroeconomic news is scheduled to be announced.\n",
    "- Inversely, the returns on T-Bills is significantly lower on these days.\n",
    "- The announcement surprises do not seem to predict the returns. \n",
    "\n",
    "These facts are consistent with risk-averse investors demanding higher return for holding event risk. \n",
    "\n",
    "Data: \n",
    "\n",
    "- 157 prescheduled CPI announcements from Jan. 1958 to Jan. 1971 and 467 for the PPI from Feb. 1971 to Dec. 2009. \n",
    "- 621 employment announcements from Jan. 1958 to Dec. 2009. \n",
    "-  FOMC interest rate announcements start in Jan. 1978 and end in Dec. 2009. \n",
    "\n",
    "Any unscheduled announcements are excluded, leaving us with 279 FOMC observations."
   ]
  },
  {
   "cell_type": "code",
   "execution_count": null,
   "metadata": {
    "execution": {
     "iopub.execute_input": "2024-11-07T17:05:06.473214Z",
     "iopub.status.busy": "2024-11-07T17:05:06.472659Z",
     "iopub.status.idle": "2024-11-07T17:05:06.503319Z",
     "shell.execute_reply": "2024-11-07T17:05:06.502916Z"
    }
   },
   "outputs": [],
   "source": [
    "# hide\n",
    "display(Image(\"images/l6_savor_1.PNG\", width=500))"
   ]
  },
  {
   "cell_type": "code",
   "execution_count": null,
   "metadata": {
    "execution": {
     "iopub.execute_input": "2024-11-07T17:05:06.505627Z",
     "iopub.status.busy": "2024-11-07T17:05:06.505232Z",
     "iopub.status.idle": "2024-11-07T17:05:06.539027Z",
     "shell.execute_reply": "2024-11-07T17:05:06.538621Z"
    }
   },
   "outputs": [],
   "source": [
    "# hide\n",
    "display(Image(\"images/l6_savor_2.PNG\", width=500))"
   ]
  },
  {
   "cell_type": "markdown",
   "metadata": {},
   "source": [
    "The return (resp. standard deviation) is 11.4bps (resp. 98.6 bps) on announcement days and 1.1bps (resp. 94.6 bps) on non-announcement days, so that the annualized Sharpe ratios very different, 1.8 and .18 respectively. The next two figures show similar statements (with inverse sign) for the risk-free asset (= T-Bills) -- impacted by precautionary saving demand."
   ]
  },
  {
   "cell_type": "code",
   "execution_count": null,
   "metadata": {
    "execution": {
     "iopub.execute_input": "2024-11-07T17:05:06.541381Z",
     "iopub.status.busy": "2024-11-07T17:05:06.541035Z",
     "iopub.status.idle": "2024-11-07T17:05:06.572941Z",
     "shell.execute_reply": "2024-11-07T17:05:06.572500Z"
    }
   },
   "outputs": [],
   "source": [
    "# hide\n",
    "display(Image(\"images/savorWilsonTable3.PNG\", width=500))"
   ]
  },
  {
   "cell_type": "code",
   "execution_count": null,
   "metadata": {
    "execution": {
     "iopub.execute_input": "2024-11-07T17:05:06.575062Z",
     "iopub.status.busy": "2024-11-07T17:05:06.574645Z",
     "iopub.status.idle": "2024-11-07T17:05:06.582215Z",
     "shell.execute_reply": "2024-11-07T17:05:06.581810Z"
    }
   },
   "outputs": [],
   "source": [
    "# hide\n",
    "display(Image(\"images/savorWilsonTable4.PNG\", width=500))"
   ]
  },
  {
   "cell_type": "code",
   "execution_count": null,
   "metadata": {
    "execution": {
     "iopub.execute_input": "2024-11-07T17:05:06.584354Z",
     "iopub.status.busy": "2024-11-07T17:05:06.583882Z",
     "iopub.status.idle": "2024-11-07T17:05:06.590637Z",
     "shell.execute_reply": "2024-11-07T17:05:06.590242Z"
    }
   },
   "outputs": [],
   "source": [
    "# hide\n",
    "display(Image(\"images/savorWilsonTable5.PNG\", width=500))"
   ]
  },
  {
   "cell_type": "markdown",
   "metadata": {},
   "source": [
    "Other events from the follow-up paper: Savor and Wilson (2014): ``Asset pricing: a Tale of Two Days,\" "
   ]
  },
  {
   "cell_type": "code",
   "execution_count": null,
   "metadata": {
    "execution": {
     "iopub.execute_input": "2024-11-07T17:05:06.592864Z",
     "iopub.status.busy": "2024-11-07T17:05:06.592381Z",
     "iopub.status.idle": "2024-11-07T17:05:06.599937Z",
     "shell.execute_reply": "2024-11-07T17:05:06.599443Z"
    }
   },
   "outputs": [],
   "source": [
    "# hide\n",
    "display(Image(\"images/l6_savor_3.PNG\", width=500))"
   ]
  },
  {
   "cell_type": "markdown",
   "metadata": {},
   "source": [
    "## FOMC dates"
   ]
  },
  {
   "cell_type": "code",
   "execution_count": null,
   "metadata": {
    "execution": {
     "iopub.execute_input": "2024-11-07T17:05:06.602114Z",
     "iopub.status.busy": "2024-11-07T17:05:06.601687Z",
     "iopub.status.idle": "2024-11-07T17:05:07.654467Z",
     "shell.execute_reply": "2024-11-07T17:05:07.653725Z"
    }
   },
   "outputs": [],
   "source": [
    "# hide\n",
    "%load_ext autoreload\n",
    "%autoreload 2\n",
    "%matplotlib inline\n",
    "\n",
    "import numpy as np\n",
    "import pandas as pd\n",
    "from IPython.display import Image\n",
    "from matplotlib import pyplot as plt\n",
    "from tqdm.auto import tqdm"
   ]
  },
  {
   "cell_type": "code",
   "execution_count": null,
   "metadata": {
    "execution": {
     "iopub.execute_input": "2024-11-07T17:05:07.657255Z",
     "iopub.status.busy": "2024-11-07T17:05:07.656870Z",
     "iopub.status.idle": "2024-11-07T17:05:08.328368Z",
     "shell.execute_reply": "2024-11-07T17:05:08.327725Z"
    }
   },
   "outputs": [],
   "source": [
    "from skfin.datasets import load_fomc_statements\n",
    "from skfin.plot import bar, line\n",
    "from skfin.text import show_text"
   ]
  },
  {
   "cell_type": "code",
   "execution_count": null,
   "metadata": {
    "execution": {
     "iopub.execute_input": "2024-11-07T17:05:08.331261Z",
     "iopub.status.busy": "2024-11-07T17:05:08.330869Z",
     "iopub.status.idle": "2024-11-07T17:05:08.433859Z",
     "shell.execute_reply": "2024-11-07T17:05:08.433243Z"
    }
   },
   "outputs": [],
   "source": [
    "statements = load_fomc_statements(force_reload=False)"
   ]
  },
  {
   "cell_type": "code",
   "execution_count": null,
   "metadata": {
    "execution": {
     "iopub.execute_input": "2024-11-07T17:05:08.436318Z",
     "iopub.status.busy": "2024-11-07T17:05:08.436042Z",
     "iopub.status.idle": "2024-11-07T17:05:08.626380Z",
     "shell.execute_reply": "2024-11-07T17:05:08.625828Z"
    }
   },
   "outputs": [],
   "source": [
    "bar(\n",
    "    statements.groupby(lambda x: x.year)[\"text\"].count(),\n",
    "    sort=False,\n",
    "    horizontal=True,\n",
    "    title=\"Number of FOMC statement per year\",\n",
    ")"
   ]
  },
  {
   "cell_type": "markdown",
   "metadata": {},
   "source": [
    "## Returns on statement days"
   ]
  },
  {
   "cell_type": "code",
   "execution_count": null,
   "metadata": {
    "execution": {
     "iopub.execute_input": "2024-11-07T17:05:08.628634Z",
     "iopub.status.busy": "2024-11-07T17:05:08.628356Z",
     "iopub.status.idle": "2024-11-07T17:05:08.658861Z",
     "shell.execute_reply": "2024-11-07T17:05:08.658344Z"
    }
   },
   "outputs": [],
   "source": [
    "import numpy as np\n",
    "import pandas as pd\n",
    "from pandas.tseries.offsets import BDay\n",
    "from skfin.datasets import load_kf_returns\n",
    "\n",
    "ret = load_kf_returns(filename=\"F-F_Research_Data_Factors_daily\")[\"Daily\"]"
   ]
  },
  {
   "cell_type": "code",
   "execution_count": null,
   "metadata": {
    "execution": {
     "iopub.execute_input": "2024-11-07T17:05:08.661265Z",
     "iopub.status.busy": "2024-11-07T17:05:08.660897Z",
     "iopub.status.idle": "2024-11-07T17:05:08.749928Z",
     "shell.execute_reply": "2024-11-07T17:05:08.749437Z"
    }
   },
   "outputs": [],
   "source": [
    "ret_norm = ret.div(ret.ewm(252).std())[statements.sort_index().index[0] :].asfreq(\"B\")"
   ]
  },
  {
   "cell_type": "markdown",
   "metadata": {},
   "source": [
    "Some FOMC meetings on Sundays or when the markets are closed: \n",
    "\n",
    "- '2008-01-21': Luther King Jr Day \n",
    "- '2010-05-09': Sunday \n",
    "- '2020-03-15': (note the release time!!!)"
   ]
  },
  {
   "cell_type": "code",
   "execution_count": null,
   "metadata": {
    "execution": {
     "iopub.execute_input": "2024-11-07T17:05:08.752381Z",
     "iopub.status.busy": "2024-11-07T17:05:08.751996Z",
     "iopub.status.idle": "2024-11-07T17:05:08.776930Z",
     "shell.execute_reply": "2024-11-07T17:05:08.776490Z"
    }
   },
   "outputs": [],
   "source": [
    "special_days = [\"2008-01-22\", \"2010-05-09\", \"2020-03-15\"]\n",
    "idx0 = pd.to_datetime(pd.Index(special_days))\n",
    "idx = statements.index.difference(idx0).union(idx0 + BDay(1))"
   ]
  },
  {
   "cell_type": "code",
   "execution_count": null,
   "metadata": {
    "execution": {
     "iopub.execute_input": "2024-11-07T17:05:08.779029Z",
     "iopub.status.busy": "2024-11-07T17:05:08.778819Z",
     "iopub.status.idle": "2024-11-07T17:05:08.805365Z",
     "shell.execute_reply": "2024-11-07T17:05:08.804924Z"
    }
   },
   "outputs": [],
   "source": [
    "ret_fomc = pd.concat(\n",
    "    {\n",
    "        \"fomc\": ret_norm.loc[ret_norm.index.intersection(idx)],\n",
    "        \"not fomc\": ret_norm.loc[ret_norm.index.difference(idx)],\n",
    "    },\n",
    "    axis=1,\n",
    ")"
   ]
  },
  {
   "cell_type": "code",
   "execution_count": null,
   "metadata": {
    "execution": {
     "iopub.execute_input": "2024-11-07T17:05:08.807315Z",
     "iopub.status.busy": "2024-11-07T17:05:08.807104Z",
     "iopub.status.idle": "2024-11-07T17:05:09.029093Z",
     "shell.execute_reply": "2024-11-07T17:05:09.028465Z"
    }
   },
   "outputs": [],
   "source": [
    "bins = np.linspace(-10, 10, 50)\n",
    "plt.hist(\n",
    "    ret_fomc[\"not fomc\"][\"Mkt-RF\"].dropna(),\n",
    "    bins,\n",
    "    density=True,\n",
    "    alpha=0.5,\n",
    "    label=\"not fomc\",\n",
    ")\n",
    "plt.hist(\n",
    "    ret_fomc[\"fomc\"][\"Mkt-RF\"].dropna(), bins, density=True, alpha=0.5, label=\"fomc\"\n",
    ")\n",
    "plt.legend(loc=\"upper right\")\n",
    "plt.show()"
   ]
  },
  {
   "cell_type": "code",
   "execution_count": null,
   "metadata": {
    "execution": {
     "iopub.execute_input": "2024-11-07T17:05:09.031377Z",
     "iopub.status.busy": "2024-11-07T17:05:09.031092Z",
     "iopub.status.idle": "2024-11-07T17:05:09.370861Z",
     "shell.execute_reply": "2024-11-07T17:05:09.370269Z"
    }
   },
   "outputs": [],
   "source": [
    "line(\n",
    "    ret_fomc.xs(\"Mkt-RF\", axis=1, level=1)\n",
    "    .fillna(0)\n",
    "    .assign(ALL=lambda x: x.sum(axis=1))[\"1996\":],\n",
    "    cumsum=True,\n",
    "    title=\"Cumulative return from being long the market\",\n",
    ")"
   ]
  },
  {
   "cell_type": "code",
   "execution_count": null,
   "metadata": {
    "execution": {
     "iopub.execute_input": "2024-11-07T17:05:09.373098Z",
     "iopub.status.busy": "2024-11-07T17:05:09.372811Z",
     "iopub.status.idle": "2024-11-07T17:05:09.404832Z",
     "shell.execute_reply": "2024-11-07T17:05:09.404282Z"
    }
   },
   "outputs": [],
   "source": [
    "ret_fomc.std().unstack().round(2)"
   ]
  },
  {
   "cell_type": "code",
   "execution_count": null,
   "metadata": {
    "execution": {
     "iopub.execute_input": "2024-11-07T17:05:09.406969Z",
     "iopub.status.busy": "2024-11-07T17:05:09.406734Z",
     "iopub.status.idle": "2024-11-07T17:05:09.429553Z",
     "shell.execute_reply": "2024-11-07T17:05:09.429014Z"
    }
   },
   "outputs": [],
   "source": [
    "from skfin.metrics import sharpe_ratio"
   ]
  },
  {
   "cell_type": "code",
   "execution_count": null,
   "metadata": {
    "execution": {
     "iopub.execute_input": "2024-11-07T17:05:09.431642Z",
     "iopub.status.busy": "2024-11-07T17:05:09.431422Z",
     "iopub.status.idle": "2024-11-07T17:05:09.514523Z",
     "shell.execute_reply": "2024-11-07T17:05:09.514080Z"
    }
   },
   "outputs": [],
   "source": [
    "ret_fomc.pipe(sharpe_ratio).unstack().round(2)"
   ]
  },
  {
   "cell_type": "code",
   "execution_count": null,
   "metadata": {
    "execution": {
     "iopub.execute_input": "2024-11-07T17:05:09.516588Z",
     "iopub.status.busy": "2024-11-07T17:05:09.516233Z",
     "iopub.status.idle": "2024-11-07T17:05:09.607981Z",
     "shell.execute_reply": "2024-11-07T17:05:09.607537Z"
    }
   },
   "outputs": [],
   "source": [
    "ret_fomc.clip(lower=-3, upper=3).pipe(sharpe_ratio).unstack().round(2)"
   ]
  },
  {
   "cell_type": "code",
   "execution_count": null,
   "metadata": {
    "execution": {
     "iopub.execute_input": "2024-11-07T17:05:09.609901Z",
     "iopub.status.busy": "2024-11-07T17:05:09.609695Z",
     "iopub.status.idle": "2024-11-07T17:05:09.748510Z",
     "shell.execute_reply": "2024-11-07T17:05:09.747923Z"
    },
    "tags": []
   },
   "outputs": [],
   "source": [
    "ret_fomc.drop(pd.to_datetime(\"2020-03-16\")).asfreq(\"B\").pipe(\n",
    "    sharpe_ratio\n",
    ").unstack().round(2)"
   ]
  }
 ],
 "metadata": {
  "hide_input": false,
  "kernelspec": {
   "display_name": "Python (skfin)",
   "language": "python",
   "name": "skfin"
  },
  "language_info": {
   "codemirror_mode": {
    "name": "ipython",
    "version": 3
   },
   "file_extension": ".py",
   "mimetype": "text/x-python",
   "name": "python",
   "nbconvert_exporter": "python",
   "pygments_lexer": "ipython3",
   "version": "3.9.20"
  },
  "toc": {
   "base_numbering": 1,
   "nav_menu": {},
   "number_sections": true,
   "sideBar": true,
   "skip_h1_title": false,
   "title_cell": "Table of Contents",
   "title_sidebar": "Contents",
   "toc_cell": false,
   "toc_position": {},
   "toc_section_display": true,
   "toc_window_display": false
  }
 },
 "nbformat": 4,
 "nbformat_minor": 4
}
