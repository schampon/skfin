{
 "cells": [
  {
   "cell_type": "markdown",
   "metadata": {},
   "source": [
    "# Market Reactions to Scheduled Macroeconomic Announcements: Evidence from FOMC and Other Key Events"
   ]
  },
  {
   "cell_type": "markdown",
   "metadata": {},
   "source": [
    "In this section, we describe trading around specific scheduled macroeconomic events. "
   ]
  },
  {
   "cell_type": "markdown",
   "metadata": {},
   "source": [
    "## Macroeconomic events"
   ]
  },
  {
   "cell_type": "code",
   "execution_count": null,
   "metadata": {
    "execution": {
     "iopub.execute_input": "2025-09-29T15:53:59.701867Z",
     "iopub.status.busy": "2025-09-29T15:53:59.701607Z",
     "iopub.status.idle": "2025-09-29T15:53:59.707241Z",
     "shell.execute_reply": "2025-09-29T15:53:59.706758Z"
    }
   },
   "outputs": [],
   "source": [
    "# hide\n",
    "from IPython.display import Image, display"
   ]
  },
  {
   "cell_type": "code",
   "execution_count": null,
   "metadata": {
    "execution": {
     "iopub.execute_input": "2025-09-29T15:53:59.708825Z",
     "iopub.status.busy": "2025-09-29T15:53:59.708576Z",
     "iopub.status.idle": "2025-09-29T15:53:59.733675Z",
     "shell.execute_reply": "2025-09-29T15:53:59.733223Z"
    }
   },
   "outputs": [],
   "source": [
    "# hide\n",
    "display(Image(\"images/savor_title.png\", width=600))"
   ]
  },
  {
   "cell_type": "markdown",
   "metadata": {},
   "source": [
    "Three statements in Savor and Wilson (2013): \n",
    "\n",
    "- U.S. stock market returns are significantly higher on days when important macroeconomic news is scheduled to be announced.\n",
    "- Inversely, the returns on T-Bills is significantly lower on these days.\n",
    "- The announcement surprises do not seem to predict the returns. \n",
    "\n",
    "These facts are consistent with risk-averse investors demanding higher return for holding event risk. \n",
    "\n",
    "Data: \n",
    "\n",
    "- 157 prescheduled CPI announcements from Jan. 1958 to Jan. 1971 and 467 for the PPI from Feb. 1971 to Dec. 2009. \n",
    "- 621 employment announcements from Jan. 1958 to Dec. 2009. \n",
    "-  FOMC interest rate announcements start in Jan. 1978 and end in Dec. 2009. \n",
    "\n",
    "Any unscheduled announcements are excluded, leaving us with 279 FOMC observations."
   ]
  },
  {
   "cell_type": "code",
   "execution_count": null,
   "metadata": {
    "execution": {
     "iopub.execute_input": "2025-09-29T15:53:59.764970Z",
     "iopub.status.busy": "2025-09-29T15:53:59.764671Z",
     "iopub.status.idle": "2025-09-29T15:53:59.770105Z",
     "shell.execute_reply": "2025-09-29T15:53:59.769671Z"
    }
   },
   "outputs": [],
   "source": [
    "# hide\n",
    "display(Image(\"images/l6_savor_1.PNG\", width=500))"
   ]
  },
  {
   "cell_type": "code",
   "execution_count": null,
   "metadata": {
    "execution": {
     "iopub.execute_input": "2025-09-29T15:53:59.771750Z",
     "iopub.status.busy": "2025-09-29T15:53:59.771502Z",
     "iopub.status.idle": "2025-09-29T15:53:59.783826Z",
     "shell.execute_reply": "2025-09-29T15:53:59.783403Z"
    }
   },
   "outputs": [],
   "source": [
    "# hide\n",
    "display(Image(\"images/l6_savor_2.PNG\", width=500))"
   ]
  },
  {
   "cell_type": "markdown",
   "metadata": {},
   "source": [
    "The return (resp. standard deviation) is 11.4bps (resp. 98.6 bps) on announcement days and 1.1bps (resp. 94.6 bps) on non-announcement days, so that the annualized Sharpe ratios very different, 1.8 and .18 respectively. The next two figures show similar statements (with inverse sign) for the risk-free asset (= T-Bills) -- impacted by precautionary saving demand."
   ]
  },
  {
   "cell_type": "code",
   "execution_count": null,
   "metadata": {
    "execution": {
     "iopub.execute_input": "2025-09-29T15:53:59.785516Z",
     "iopub.status.busy": "2025-09-29T15:53:59.785258Z",
     "iopub.status.idle": "2025-09-29T15:53:59.796527Z",
     "shell.execute_reply": "2025-09-29T15:53:59.796103Z"
    }
   },
   "outputs": [],
   "source": [
    "# hide\n",
    "display(Image(\"images/savorWilsonTable3.PNG\", width=500))"
   ]
  },
  {
   "cell_type": "code",
   "execution_count": null,
   "metadata": {
    "execution": {
     "iopub.execute_input": "2025-09-29T15:53:59.798126Z",
     "iopub.status.busy": "2025-09-29T15:53:59.797879Z",
     "iopub.status.idle": "2025-09-29T15:53:59.813145Z",
     "shell.execute_reply": "2025-09-29T15:53:59.812725Z"
    }
   },
   "outputs": [],
   "source": [
    "# hide\n",
    "display(Image(\"images/savorWilsonTable4.PNG\", width=500))"
   ]
  },
  {
   "cell_type": "code",
   "execution_count": null,
   "metadata": {
    "execution": {
     "iopub.execute_input": "2025-09-29T15:53:59.814699Z",
     "iopub.status.busy": "2025-09-29T15:53:59.814449Z",
     "iopub.status.idle": "2025-09-29T15:53:59.828628Z",
     "shell.execute_reply": "2025-09-29T15:53:59.828204Z"
    }
   },
   "outputs": [],
   "source": [
    "# hide\n",
    "display(Image(\"images/savorWilsonTable5.PNG\", width=500))"
   ]
  },
  {
   "cell_type": "markdown",
   "metadata": {},
   "source": [
    "Other events from the follow-up paper: Savor and Wilson (2014): ``Asset pricing: a Tale of Two Days,\" "
   ]
  },
  {
   "cell_type": "code",
   "execution_count": null,
   "metadata": {
    "execution": {
     "iopub.execute_input": "2025-09-29T15:53:59.830236Z",
     "iopub.status.busy": "2025-09-29T15:53:59.829983Z",
     "iopub.status.idle": "2025-09-29T15:53:59.847623Z",
     "shell.execute_reply": "2025-09-29T15:53:59.847203Z"
    }
   },
   "outputs": [],
   "source": [
    "# hide\n",
    "display(Image(\"images/l6_savor_3.PNG\", width=500))"
   ]
  },
  {
   "cell_type": "markdown",
   "metadata": {},
   "source": [
    "## FOMC dates"
   ]
  },
  {
   "cell_type": "markdown",
   "metadata": {},
   "source": [
    "The Federal Open Market Committee (FOMC) is a component of the Federal Reserve System, responsible for overseeing the country's open market operations and essentially setting U.S. monetary policy. The FOMC makes key decisions regarding interest rates and the growth of the United States money supply, influencing economic activity, employment, and inflation.\n",
    "\n",
    "FOMC statements are important for financial markets because they provide insights into the committee's economic outlook and monetary policy intentions. Investors, analysts, and economists closely examine these statements for clues about the future direction of interest rates and other policy measures. Any changes or signals in the FOMC's approach can lead to significant movements in financial markets, affecting everything from stock prices and bond yields to currency exchange rates and commodity prices.\n",
    "\n",
    "In this section, in this section, we focus only on the dates when statements are released -- ignoring what was said in the statement. We will cover later how to extract information from these statements. "
   ]
  },
  {
   "cell_type": "code",
   "execution_count": null,
   "metadata": {
    "execution": {
     "iopub.execute_input": "2025-09-29T15:53:59.849289Z",
     "iopub.status.busy": "2025-09-29T15:53:59.849042Z",
     "iopub.status.idle": "2025-09-29T15:54:00.859401Z",
     "shell.execute_reply": "2025-09-29T15:54:00.858846Z"
    }
   },
   "outputs": [],
   "source": [
    "# hide\n",
    "%load_ext autoreload\n",
    "%autoreload 2\n",
    "%matplotlib inline\n",
    "\n",
    "import numpy as np\n",
    "import pandas as pd\n",
    "from IPython.display import Image\n",
    "from matplotlib import pyplot as plt\n",
    "from tqdm.auto import tqdm"
   ]
  },
  {
   "cell_type": "code",
   "execution_count": null,
   "metadata": {
    "execution": {
     "iopub.execute_input": "2025-09-29T15:54:00.861533Z",
     "iopub.status.busy": "2025-09-29T15:54:00.861106Z",
     "iopub.status.idle": "2025-09-29T15:54:01.604874Z",
     "shell.execute_reply": "2025-09-29T15:54:01.604107Z"
    }
   },
   "outputs": [],
   "source": [
    "from skfin.datasets_ import load_fomc_statements\n",
    "from skfin.plot import bar, line\n",
    "from skfin.text import show_text"
   ]
  },
  {
   "cell_type": "code",
   "execution_count": null,
   "metadata": {
    "execution": {
     "iopub.execute_input": "2025-09-29T15:54:01.607399Z",
     "iopub.status.busy": "2025-09-29T15:54:01.606991Z",
     "iopub.status.idle": "2025-09-29T15:54:01.684191Z",
     "shell.execute_reply": "2025-09-29T15:54:01.683556Z"
    }
   },
   "outputs": [],
   "source": [
    "statements = load_fomc_statements(force_reload=False)"
   ]
  },
  {
   "cell_type": "code",
   "execution_count": null,
   "metadata": {
    "execution": {
     "iopub.execute_input": "2025-09-29T15:54:01.686164Z",
     "iopub.status.busy": "2025-09-29T15:54:01.685905Z",
     "iopub.status.idle": "2025-09-29T15:54:01.891029Z",
     "shell.execute_reply": "2025-09-29T15:54:01.890363Z"
    }
   },
   "outputs": [],
   "source": [
    "bar(\n",
    "    statements.groupby(lambda x: x.year)[\"text\"].count(),\n",
    "    sort=False,\n",
    "    horizontal=True,\n",
    "    title=\"Number of FOMC statement per year\",\n",
    ")"
   ]
  },
  {
   "cell_type": "markdown",
   "metadata": {},
   "source": [
    "## Returns on statement days"
   ]
  },
  {
   "cell_type": "code",
   "execution_count": null,
   "metadata": {
    "execution": {
     "iopub.execute_input": "2025-09-29T15:54:01.893103Z",
     "iopub.status.busy": "2025-09-29T15:54:01.892827Z",
     "iopub.status.idle": "2025-09-29T15:54:01.950937Z",
     "shell.execute_reply": "2025-09-29T15:54:01.950340Z"
    }
   },
   "outputs": [],
   "source": [
    "import numpy as np\n",
    "import pandas as pd\n",
    "from pandas.tseries.offsets import BDay\n",
    "from skfin.datasets_ import load_kf_returns\n",
    "\n",
    "ret = load_kf_returns(filename=\"F-F_Research_Data_Factors_daily\")[\"Daily\"]"
   ]
  },
  {
   "cell_type": "code",
   "execution_count": null,
   "metadata": {
    "execution": {
     "iopub.execute_input": "2025-09-29T15:54:01.952810Z",
     "iopub.status.busy": "2025-09-29T15:54:01.952567Z",
     "iopub.status.idle": "2025-09-29T15:54:02.035210Z",
     "shell.execute_reply": "2025-09-29T15:54:02.034616Z"
    }
   },
   "outputs": [],
   "source": [
    "ret_norm = ret.div(ret.ewm(halflife=252).std())[\n",
    "    statements.sort_index().index[0] :\n",
    "].asfreq(\"B\")"
   ]
  },
  {
   "cell_type": "markdown",
   "metadata": {},
   "source": [
    "Some FOMC meetings on Sundays or when the markets are closed: \n",
    "\n",
    "- '2008-01-21': Luther King Jr Day \n",
    "- '2010-05-09': Sunday \n",
    "- '2020-03-15': (note the release time!!!)"
   ]
  },
  {
   "cell_type": "code",
   "execution_count": null,
   "metadata": {
    "execution": {
     "iopub.execute_input": "2025-09-29T15:54:02.037116Z",
     "iopub.status.busy": "2025-09-29T15:54:02.036882Z",
     "iopub.status.idle": "2025-09-29T15:54:02.064351Z",
     "shell.execute_reply": "2025-09-29T15:54:02.063783Z"
    }
   },
   "outputs": [],
   "source": [
    "special_days = [\"2008-01-22\", \"2010-05-09\", \"2020-03-15\"]\n",
    "idx0 = pd.to_datetime(pd.Index(special_days))\n",
    "idx = statements.index.difference(idx0).union(idx0 + BDay(1))"
   ]
  },
  {
   "cell_type": "code",
   "execution_count": null,
   "metadata": {
    "execution": {
     "iopub.execute_input": "2025-09-29T15:54:02.066022Z",
     "iopub.status.busy": "2025-09-29T15:54:02.065801Z",
     "iopub.status.idle": "2025-09-29T15:54:02.112504Z",
     "shell.execute_reply": "2025-09-29T15:54:02.111915Z"
    }
   },
   "outputs": [],
   "source": [
    "ret_fomc = pd.concat(\n",
    "    {\n",
    "        \"fomc\": ret_norm.loc[ret_norm.index.intersection(idx)],\n",
    "        \"not fomc\": ret_norm.loc[ret_norm.index.difference(idx)],\n",
    "    },\n",
    "    axis=1,\n",
    ")"
   ]
  },
  {
   "cell_type": "code",
   "execution_count": null,
   "metadata": {
    "execution": {
     "iopub.execute_input": "2025-09-29T15:54:02.114274Z",
     "iopub.status.busy": "2025-09-29T15:54:02.114033Z",
     "iopub.status.idle": "2025-09-29T15:54:02.352806Z",
     "shell.execute_reply": "2025-09-29T15:54:02.352134Z"
    }
   },
   "outputs": [],
   "source": [
    "bins = np.linspace(-10, 10, 50)\n",
    "plt.hist(\n",
    "    ret_fomc[\"not fomc\"][\"Mkt-RF\"].dropna(),\n",
    "    bins,\n",
    "    density=True,\n",
    "    alpha=0.5,\n",
    "    label=\"not fomc\",\n",
    ")\n",
    "plt.hist(\n",
    "    ret_fomc[\"fomc\"][\"Mkt-RF\"].dropna(), bins, density=True, alpha=0.5, label=\"fomc\"\n",
    ")\n",
    "plt.legend(loc=\"upper right\")\n",
    "plt.show()"
   ]
  },
  {
   "cell_type": "code",
   "execution_count": null,
   "metadata": {
    "execution": {
     "iopub.execute_input": "2025-09-29T15:54:02.354813Z",
     "iopub.status.busy": "2025-09-29T15:54:02.354535Z",
     "iopub.status.idle": "2025-09-29T15:54:02.705230Z",
     "shell.execute_reply": "2025-09-29T15:54:02.704546Z"
    }
   },
   "outputs": [],
   "source": [
    "line(\n",
    "    ret_fomc.xs(\"Mkt-RF\", axis=1, level=1)\n",
    "    .fillna(0)\n",
    "    .assign(ALL=lambda x: x.sum(axis=1))[\"1996\":],\n",
    "    cumsum=True,\n",
    "    title=\"Cumulative return from being long the market\",\n",
    ")"
   ]
  },
  {
   "cell_type": "code",
   "execution_count": null,
   "metadata": {
    "execution": {
     "iopub.execute_input": "2025-09-29T15:54:02.707264Z",
     "iopub.status.busy": "2025-09-29T15:54:02.706989Z",
     "iopub.status.idle": "2025-09-29T15:54:02.737062Z",
     "shell.execute_reply": "2025-09-29T15:54:02.736472Z"
    }
   },
   "outputs": [],
   "source": [
    "from skfin.metrics import sharpe_ratio\n",
    "def bars(df, wspace=.5, suptitle='', y=1): \n",
    "    T, N = df.shape\n",
    "    fig, axs = plt.subplots(1, N, figsize=(8, 3))\n",
    "    fig.subplots_adjust(wspace=wspace)\n",
    "    fig.suptitle(suptitle, y=y, fontsize=12)\n",
    "    for i, c in enumerate(df.columns): \n",
    "        bar(df[c], ax=axs[i], title=c)"
   ]
  },
  {
   "cell_type": "code",
   "execution_count": null,
   "metadata": {
    "execution": {
     "iopub.execute_input": "2025-09-29T15:54:02.738949Z",
     "iopub.status.busy": "2025-09-29T15:54:02.738712Z",
     "iopub.status.idle": "2025-09-29T15:54:03.063228Z",
     "shell.execute_reply": "2025-09-29T15:54:03.062533Z"
    }
   },
   "outputs": [],
   "source": [
    "bars(ret_fomc.std().unstack(), suptitle='Return std', y=1.05)"
   ]
  },
  {
   "cell_type": "code",
   "execution_count": null,
   "metadata": {
    "execution": {
     "iopub.execute_input": "2025-09-29T15:54:03.065300Z",
     "iopub.status.busy": "2025-09-29T15:54:03.065018Z",
     "iopub.status.idle": "2025-09-29T15:54:03.352905Z",
     "shell.execute_reply": "2025-09-29T15:54:03.352216Z"
    }
   },
   "outputs": [],
   "source": [
    "bars(ret_fomc.pipe(sharpe_ratio).unstack(), suptitle='Return Sharpe ratio', y=1.05)"
   ]
  },
  {
   "cell_type": "code",
   "execution_count": null,
   "metadata": {
    "execution": {
     "iopub.execute_input": "2025-09-29T15:54:03.355002Z",
     "iopub.status.busy": "2025-09-29T15:54:03.354726Z",
     "iopub.status.idle": "2025-09-29T15:54:03.672129Z",
     "shell.execute_reply": "2025-09-29T15:54:03.671446Z"
    }
   },
   "outputs": [],
   "source": [
    "bars(ret_fomc.clip(lower=-3, upper=3).pipe(sharpe_ratio).unstack(), suptitle='Return Sharpe ratio (3-sigma clipping)', y=1.05)"
   ]
  },
  {
   "cell_type": "code",
   "execution_count": null,
   "metadata": {
    "execution": {
     "iopub.execute_input": "2025-09-29T15:54:03.674143Z",
     "iopub.status.busy": "2025-09-29T15:54:03.673864Z",
     "iopub.status.idle": "2025-09-29T15:54:04.026980Z",
     "shell.execute_reply": "2025-09-29T15:54:04.026282Z"
    }
   },
   "outputs": [],
   "source": [
    "bars(ret_fomc.drop(pd.to_datetime(\"2020-03-16\")).asfreq(\"B\").pipe(sharpe_ratio).unstack(), suptitle='Return Sharpe ratio (dropping March 16th 2020)', y=1.05)"
   ]
  }
 ],
 "metadata": {
  "hide_input": false,
  "kernelspec": {
   "display_name": "skfin 2024",
   "language": "python",
   "name": "skfin"
  },
  "language_info": {
   "codemirror_mode": {
    "name": "ipython",
    "version": 3
   },
   "file_extension": ".py",
   "mimetype": "text/x-python",
   "name": "python",
   "nbconvert_exporter": "python",
   "pygments_lexer": "ipython3",
   "version": "3.9.20"
  },
  "toc": {
   "base_numbering": 1,
   "nav_menu": {},
   "number_sections": true,
   "sideBar": true,
   "skip_h1_title": false,
   "title_cell": "Table of Contents",
   "title_sidebar": "Contents",
   "toc_cell": false,
   "toc_position": {},
   "toc_section_display": true,
   "toc_window_display": false
  }
 },
 "nbformat": 4,
 "nbformat_minor": 4
}
