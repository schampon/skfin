{
 "cells": [
  {
   "cell_type": "markdown",
   "metadata": {},
   "source": [
    "# Macroeconomic event trading"
   ]
  },
  {
   "cell_type": "markdown",
   "metadata": {},
   "source": [
    "In this section, we describe trading around specific scheduled macroeconomic events. "
   ]
  },
  {
   "cell_type": "markdown",
   "metadata": {},
   "source": [
    "## Macroeconomic events"
   ]
  },
  {
   "cell_type": "code",
   "execution_count": null,
   "metadata": {
    "execution": {
     "iopub.execute_input": "2023-12-07T08:32:24.259709Z",
     "iopub.status.busy": "2023-12-07T08:32:24.259217Z",
     "iopub.status.idle": "2023-12-07T08:32:24.267101Z",
     "shell.execute_reply": "2023-12-07T08:32:24.266471Z"
    }
   },
   "outputs": [],
   "source": [
    "# hide\n",
    "from IPython.display import Image, display"
   ]
  },
  {
   "cell_type": "code",
   "execution_count": null,
   "metadata": {
    "execution": {
     "iopub.execute_input": "2023-12-07T08:32:24.269961Z",
     "iopub.status.busy": "2023-12-07T08:32:24.269557Z",
     "iopub.status.idle": "2023-12-07T08:32:24.296754Z",
     "shell.execute_reply": "2023-12-07T08:32:24.296135Z"
    }
   },
   "outputs": [],
   "source": [
    "# hide\n",
    "display(Image(\"images/savor_title.png\", width=500))"
   ]
  },
  {
   "cell_type": "markdown",
   "metadata": {},
   "source": [
    "Three statements in Savor and Wilson (2013): \n",
    "\n",
    "- U.S. stock market returns are significantly higher on days when important macroeconomic news is scheduled to be announced.\n",
    "- Inversely, the returns on T-Bills is significantly lower on these days.\n",
    "- The announcement surprises do not seem to predict the returns. \n",
    "\n",
    "These facts are consistent with risk-averse investors demanding higher return for holding event risk. \n",
    "\n",
    "Data: \n",
    "\n",
    "- 157 prescheduled CPI announcements from Jan. 1958 to Jan. 1971 and 467 for the PPI from Feb. 1971 to Dec. 2009. \n",
    "- 621 employment announcements from Jan. 1958 to Dec. 2009. \n",
    "-  FOMC interest rate announcements start in Jan. 1978 and end in Dec. 2009. \n",
    "\n",
    "Any unscheduled announcements are excluded, leaving us with 279 FOMC observations."
   ]
  },
  {
   "cell_type": "code",
   "execution_count": null,
   "metadata": {
    "execution": {
     "iopub.execute_input": "2023-12-07T08:32:24.339249Z",
     "iopub.status.busy": "2023-12-07T08:32:24.339026Z",
     "iopub.status.idle": "2023-12-07T08:32:24.346944Z",
     "shell.execute_reply": "2023-12-07T08:32:24.346347Z"
    }
   },
   "outputs": [],
   "source": [
    "# hide\n",
    "display(Image(\"images/l6_savor_1.PNG\", width=500))"
   ]
  },
  {
   "cell_type": "code",
   "execution_count": null,
   "metadata": {
    "execution": {
     "iopub.execute_input": "2023-12-07T08:32:24.349877Z",
     "iopub.status.busy": "2023-12-07T08:32:24.349455Z",
     "iopub.status.idle": "2023-12-07T08:32:24.366388Z",
     "shell.execute_reply": "2023-12-07T08:32:24.365787Z"
    }
   },
   "outputs": [],
   "source": [
    "# hide\n",
    "display(Image(\"images/l6_savor_2.PNG\", width=500))"
   ]
  },
  {
   "cell_type": "markdown",
   "metadata": {},
   "source": [
    "The return (resp. standard deviation) is 11.4bps (resp. 98.6 bps) on announcement days and 1.1bps (resp. 94.6 bps) on non-announcement days, so that the annualized Sharpe ratios very different, 1.8 and .18 respectively. The next two figures show similar statements (with inverse sign) for the risk-free asset (= T-Bills) -- impacted by precautionary saving demand."
   ]
  },
  {
   "cell_type": "code",
   "execution_count": null,
   "metadata": {
    "execution": {
     "iopub.execute_input": "2023-12-07T08:32:24.369858Z",
     "iopub.status.busy": "2023-12-07T08:32:24.369387Z",
     "iopub.status.idle": "2023-12-07T08:32:24.376902Z",
     "shell.execute_reply": "2023-12-07T08:32:24.376309Z"
    }
   },
   "outputs": [],
   "source": [
    "# hide\n",
    "display(Image(\"images/savorWilsonTable3.PNG\", width=500))"
   ]
  },
  {
   "cell_type": "code",
   "execution_count": null,
   "metadata": {
    "execution": {
     "iopub.execute_input": "2023-12-07T08:32:24.379624Z",
     "iopub.status.busy": "2023-12-07T08:32:24.379273Z",
     "iopub.status.idle": "2023-12-07T08:32:24.388020Z",
     "shell.execute_reply": "2023-12-07T08:32:24.387429Z"
    }
   },
   "outputs": [],
   "source": [
    "# hide\n",
    "display(Image(\"images/savorWilsonTable4.PNG\", width=500))"
   ]
  },
  {
   "cell_type": "code",
   "execution_count": null,
   "metadata": {
    "execution": {
     "iopub.execute_input": "2023-12-07T08:32:24.390826Z",
     "iopub.status.busy": "2023-12-07T08:32:24.390387Z",
     "iopub.status.idle": "2023-12-07T08:32:24.398564Z",
     "shell.execute_reply": "2023-12-07T08:32:24.397966Z"
    }
   },
   "outputs": [],
   "source": [
    "# hide\n",
    "display(Image(\"images/savorWilsonTable5.PNG\", width=500))"
   ]
  },
  {
   "cell_type": "markdown",
   "metadata": {},
   "source": [
    "Other events from the follow-up paper: Savor and Wilson (2014): ``Asset pricing: a Tale of Two Days,\" "
   ]
  },
  {
   "cell_type": "code",
   "execution_count": null,
   "metadata": {
    "execution": {
     "iopub.execute_input": "2023-12-07T08:32:24.401309Z",
     "iopub.status.busy": "2023-12-07T08:32:24.401077Z",
     "iopub.status.idle": "2023-12-07T08:32:24.409106Z",
     "shell.execute_reply": "2023-12-07T08:32:24.408513Z"
    }
   },
   "outputs": [],
   "source": [
    "# hide\n",
    "display(Image(\"images/l6_savor_3.PNG\", width=500))"
   ]
  },
  {
   "cell_type": "markdown",
   "metadata": {},
   "source": [
    "## FOMC dates"
   ]
  },
  {
   "cell_type": "code",
   "execution_count": null,
   "metadata": {
    "execution": {
     "iopub.execute_input": "2023-12-07T08:32:24.412067Z",
     "iopub.status.busy": "2023-12-07T08:32:24.411629Z",
     "iopub.status.idle": "2023-12-07T08:32:26.154318Z",
     "shell.execute_reply": "2023-12-07T08:32:26.153560Z"
    }
   },
   "outputs": [],
   "source": [
    "# hide\n",
    "%load_ext autoreload\n",
    "%autoreload 2\n",
    "%matplotlib inline\n",
    "\n",
    "import numpy as np\n",
    "import pandas as pd\n",
    "from IPython.display import Image\n",
    "from matplotlib import pyplot as plt\n",
    "from tqdm.auto import tqdm"
   ]
  },
  {
   "cell_type": "code",
   "execution_count": null,
   "metadata": {
    "execution": {
     "iopub.execute_input": "2023-12-07T08:32:26.157677Z",
     "iopub.status.busy": "2023-12-07T08:32:26.157419Z",
     "iopub.status.idle": "2023-12-07T08:32:27.947874Z",
     "shell.execute_reply": "2023-12-07T08:32:27.947175Z"
    }
   },
   "outputs": [],
   "source": [
    "from skfin.datasets import load_fomc_statements\n",
    "from skfin.plot import bar, line\n",
    "from skfin.text import show_text"
   ]
  },
  {
   "cell_type": "code",
   "execution_count": null,
   "metadata": {
    "execution": {
     "iopub.execute_input": "2023-12-07T08:32:27.951189Z",
     "iopub.status.busy": "2023-12-07T08:32:27.950935Z",
     "iopub.status.idle": "2023-12-07T08:32:28.068164Z",
     "shell.execute_reply": "2023-12-07T08:32:28.067505Z"
    }
   },
   "outputs": [],
   "source": [
    "statements = load_fomc_statements(force_reload=False)"
   ]
  },
  {
   "cell_type": "code",
   "execution_count": null,
   "metadata": {
    "execution": {
     "iopub.execute_input": "2023-12-07T08:32:28.071111Z",
     "iopub.status.busy": "2023-12-07T08:32:28.070880Z",
     "iopub.status.idle": "2023-12-07T08:32:28.357427Z",
     "shell.execute_reply": "2023-12-07T08:32:28.356794Z"
    }
   },
   "outputs": [],
   "source": [
    "bar(\n",
    "    statements.groupby(lambda x: x.year)[\"text\"].count(),\n",
    "    sort=False,\n",
    "    horizontal=True,\n",
    "    title=\"Number of FOMC statement per year\",\n",
    ")"
   ]
  },
  {
   "cell_type": "markdown",
   "metadata": {},
   "source": [
    "## Returns on statement days"
   ]
  },
  {
   "cell_type": "code",
   "execution_count": null,
   "metadata": {
    "execution": {
     "iopub.execute_input": "2023-12-07T08:32:28.360467Z",
     "iopub.status.busy": "2023-12-07T08:32:28.360035Z",
     "iopub.status.idle": "2023-12-07T08:32:28.393179Z",
     "shell.execute_reply": "2023-12-07T08:32:28.392542Z"
    }
   },
   "outputs": [],
   "source": [
    "import numpy as np\n",
    "import pandas as pd\n",
    "from pandas.tseries.offsets import BDay\n",
    "from skfin.datasets import load_kf_returns\n",
    "\n",
    "ret = load_kf_returns(filename=\"F-F_Research_Data_Factors_daily\")[\"Daily\"]"
   ]
  },
  {
   "cell_type": "code",
   "execution_count": null,
   "metadata": {
    "execution": {
     "iopub.execute_input": "2023-12-07T08:32:28.396157Z",
     "iopub.status.busy": "2023-12-07T08:32:28.395600Z",
     "iopub.status.idle": "2023-12-07T08:32:28.530004Z",
     "shell.execute_reply": "2023-12-07T08:32:28.529368Z"
    }
   },
   "outputs": [],
   "source": [
    "ret_norm = ret.div(ret.ewm(252).std())[statements.sort_index().index[0] :].asfreq(\"B\")"
   ]
  },
  {
   "cell_type": "markdown",
   "metadata": {},
   "source": [
    "Some FOMC meetings on Sundays or when the markets are closed: \n",
    "\n",
    "- '2008-01-21': Luther King Jr Day \n",
    "- '2010-05-09': Sunday \n",
    "- '2020-03-15': (note the release time!!!)"
   ]
  },
  {
   "cell_type": "code",
   "execution_count": null,
   "metadata": {
    "execution": {
     "iopub.execute_input": "2023-12-07T08:32:28.532991Z",
     "iopub.status.busy": "2023-12-07T08:32:28.532576Z",
     "iopub.status.idle": "2023-12-07T08:32:28.560205Z",
     "shell.execute_reply": "2023-12-07T08:32:28.559549Z"
    }
   },
   "outputs": [],
   "source": [
    "special_days = [\"2008-01-22\", \"2010-05-09\", \"2020-03-15\"]\n",
    "idx0 = pd.to_datetime(pd.Index(special_days))\n",
    "idx = statements.index.difference(idx0).union(idx0 + BDay(1))"
   ]
  },
  {
   "cell_type": "code",
   "execution_count": null,
   "metadata": {
    "execution": {
     "iopub.execute_input": "2023-12-07T08:32:28.562977Z",
     "iopub.status.busy": "2023-12-07T08:32:28.562606Z",
     "iopub.status.idle": "2023-12-07T08:32:28.594749Z",
     "shell.execute_reply": "2023-12-07T08:32:28.594114Z"
    }
   },
   "outputs": [],
   "source": [
    "ret_fomc = pd.concat(\n",
    "    {\n",
    "        \"fomc\": ret_norm.loc[ret_norm.index.intersection(idx)],\n",
    "        \"not fomc\": ret_norm.loc[ret_norm.index.difference(idx)],\n",
    "    },\n",
    "    axis=1,\n",
    ")"
   ]
  },
  {
   "cell_type": "code",
   "execution_count": null,
   "metadata": {
    "execution": {
     "iopub.execute_input": "2023-12-07T08:32:28.597692Z",
     "iopub.status.busy": "2023-12-07T08:32:28.597139Z",
     "iopub.status.idle": "2023-12-07T08:32:28.968664Z",
     "shell.execute_reply": "2023-12-07T08:32:28.968013Z"
    }
   },
   "outputs": [],
   "source": [
    "bins = np.linspace(-10, 10, 50)\n",
    "plt.hist(\n",
    "    ret_fomc[\"not fomc\"][\"Mkt-RF\"].dropna(),\n",
    "    bins,\n",
    "    density=True,\n",
    "    alpha=0.5,\n",
    "    label=\"not fomc\",\n",
    ")\n",
    "plt.hist(\n",
    "    ret_fomc[\"fomc\"][\"Mkt-RF\"].dropna(), bins, density=True, alpha=0.5, label=\"fomc\"\n",
    ")\n",
    "plt.legend(loc=\"upper right\")\n",
    "plt.show()"
   ]
  },
  {
   "cell_type": "code",
   "execution_count": null,
   "metadata": {
    "execution": {
     "iopub.execute_input": "2023-12-07T08:32:28.971633Z",
     "iopub.status.busy": "2023-12-07T08:32:28.971153Z",
     "iopub.status.idle": "2023-12-07T08:32:29.542884Z",
     "shell.execute_reply": "2023-12-07T08:32:29.542249Z"
    }
   },
   "outputs": [],
   "source": [
    "line(\n",
    "    ret_fomc.xs(\"Mkt-RF\", axis=1, level=1)\n",
    "    .fillna(0)\n",
    "    .assign(ALL=lambda x: x.sum(axis=1))[\"1996\":],\n",
    "    cumsum=True,\n",
    "    title=\"Cumulative return from being long the market\",\n",
    ")"
   ]
  },
  {
   "cell_type": "code",
   "execution_count": null,
   "metadata": {
    "execution": {
     "iopub.execute_input": "2023-12-07T08:32:29.545798Z",
     "iopub.status.busy": "2023-12-07T08:32:29.545316Z",
     "iopub.status.idle": "2023-12-07T08:32:29.583237Z",
     "shell.execute_reply": "2023-12-07T08:32:29.582605Z"
    }
   },
   "outputs": [],
   "source": [
    "ret_fomc.std().unstack().round(2)"
   ]
  },
  {
   "cell_type": "code",
   "execution_count": null,
   "metadata": {
    "execution": {
     "iopub.execute_input": "2023-12-07T08:32:29.586008Z",
     "iopub.status.busy": "2023-12-07T08:32:29.585623Z",
     "iopub.status.idle": "2023-12-07T08:32:29.611168Z",
     "shell.execute_reply": "2023-12-07T08:32:29.610542Z"
    }
   },
   "outputs": [],
   "source": [
    "from skfin.metrics import sharpe_ratio"
   ]
  },
  {
   "cell_type": "code",
   "execution_count": null,
   "metadata": {
    "execution": {
     "iopub.execute_input": "2023-12-07T08:32:29.613929Z",
     "iopub.status.busy": "2023-12-07T08:32:29.613523Z",
     "iopub.status.idle": "2023-12-07T08:32:29.758572Z",
     "shell.execute_reply": "2023-12-07T08:32:29.757940Z"
    }
   },
   "outputs": [],
   "source": [
    "ret_fomc.pipe(sharpe_ratio).unstack().round(2)"
   ]
  },
  {
   "cell_type": "code",
   "execution_count": null,
   "metadata": {
    "execution": {
     "iopub.execute_input": "2023-12-07T08:32:29.761344Z",
     "iopub.status.busy": "2023-12-07T08:32:29.760944Z",
     "iopub.status.idle": "2023-12-07T08:32:29.980781Z",
     "shell.execute_reply": "2023-12-07T08:32:29.980117Z"
    }
   },
   "outputs": [],
   "source": [
    "ret_fomc.clip(lower=-3, upper=3).pipe(sharpe_ratio).unstack().round(2)"
   ]
  },
  {
   "cell_type": "code",
   "execution_count": null,
   "metadata": {
    "execution": {
     "iopub.execute_input": "2023-12-07T08:32:29.983782Z",
     "iopub.status.busy": "2023-12-07T08:32:29.983535Z",
     "iopub.status.idle": "2023-12-07T08:32:30.235462Z",
     "shell.execute_reply": "2023-12-07T08:32:30.234824Z"
    }
   },
   "outputs": [],
   "source": [
    "ret_fomc.drop(pd.to_datetime(\"2020-03-16\")).asfreq(\"B\").pipe(\n",
    "    sharpe_ratio\n",
    ").unstack().round(2)"
   ]
  }
 ],
 "metadata": {
  "hide_input": false,
  "kernelspec": {
   "display_name": "Python (skfin)",
   "language": "python",
   "name": "skfin"
  },
  "language_info": {
   "codemirror_mode": {
    "name": "ipython",
    "version": 3
   },
   "file_extension": ".py",
   "mimetype": "text/x-python",
   "name": "python",
   "nbconvert_exporter": "python",
   "pygments_lexer": "ipython3",
   "version": "3.8.16"
  },
  "toc": {
   "base_numbering": 1,
   "nav_menu": {},
   "number_sections": true,
   "sideBar": true,
   "skip_h1_title": false,
   "title_cell": "Table of Contents",
   "title_sidebar": "Contents",
   "toc_cell": false,
   "toc_position": {},
   "toc_section_display": true,
   "toc_window_display": false
  }
 },
 "nbformat": 4,
 "nbformat_minor": 4
}
