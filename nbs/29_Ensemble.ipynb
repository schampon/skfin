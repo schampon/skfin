{
 "cells": [
  {
   "cell_type": "markdown",
   "id": "54768db1",
   "metadata": {},
   "source": [
    "# Combining Multiple Strategies: Ensemble Methods in Portfolio Construction"
   ]
  },
  {
   "cell_type": "code",
   "execution_count": null,
   "id": "c905c1af",
   "metadata": {
    "execution": {
     "iopub.execute_input": "2025-09-29T15:45:39.260256Z",
     "iopub.status.busy": "2025-09-29T15:45:39.259993Z",
     "iopub.status.idle": "2025-09-29T15:45:40.939620Z",
     "shell.execute_reply": "2025-09-29T15:45:40.938865Z"
    }
   },
   "outputs": [],
   "source": [
    "# hide\n",
    "%load_ext autoreload\n",
    "%autoreload 2\n",
    "%matplotlib inline\n",
    "\n",
    "import logging\n",
    "\n",
    "import numpy as np\n",
    "import pandas as pd\n",
    "from IPython.display import Image, display\n",
    "from lightgbm.sklearn import LGBMRegressor\n",
    "from matplotlib import pyplot as plt\n",
    "from skfin.backtesting import Backtester\n",
    "from skfin.datasets_ import load_kf_returns\n",
    "from skfin.estimators import MLPRegressor, MultiOutputRegressor, RidgeCV\n",
    "from skfin.metrics import sharpe_ratio\n",
    "from skfin.mv_estimators import MeanVariance\n",
    "from skfin.plot import bar, line\n",
    "from sklearn.pipeline import make_pipeline\n",
    "from sklearn.preprocessing import PolynomialFeatures, StandardScaler\n",
    "from tqdm.auto import tqdm\n",
    "\n",
    "logging.getLogger(\"skfin.datasets\").setLevel(logging.CRITICAL)\n",
    "\n",
    "returns_data = load_kf_returns(cache_dir=\"data\")\n",
    "ret = returns_data[\"Monthly\"][\"Average_Value_Weighted_Returns\"][:\"1999\"]\n",
    "\n",
    "transform_X = lambda x: x.rolling(12).mean().fillna(0)\n",
    "transform_y = lambda x: x.shift(-1)\n",
    "X = transform_X(ret)\n",
    "y = transform_y(ret)"
   ]
  },
  {
   "cell_type": "markdown",
   "id": "ce176a64-642d-42bc-9e05-cf3e6e33b0ed",
   "metadata": {},
   "source": [
    "In previous sections (e.g. on hyperparameter tuning), we have described strategies to identify the best parameters for a given objective. In this section, rather than choosing a single estimator (or set of parameters) among many, we describe how to combine all multiple strategies. More precisely, the differences across strategies might be due to: \n",
    "\n",
    "- different hyperparameters; \n",
    "\n",
    "- different estimators;  \n",
    "\n",
    "- different data inputs. \n",
    "\n",
    "\n",
    "Combination of strategies that are not perfectly correlated is actually powerful because it exploits gains from diversification. To combine weights, there are two setups: \n",
    "\n",
    "1. either the weights are known\n",
    "\n",
    "2. or they need to be learned. \n",
    "\n",
    "In Finance (and more generally in Data Science), the \"known weights\" case is generally very strong, often as the equal-weight \"1-over-N\" baseline. This is generally due to the fact that in setups with a lot of noise, learning the weights is hard. In a latter section below, we introduce a setup with \"learned weights\": the main challenge is that the weights have to be learned over rolling windows (jointly with the derivation of the individual strategy positions). "
   ]
  },
  {
   "cell_type": "markdown",
   "id": "129d4f38",
   "metadata": {},
   "source": [
    "## Ensemble with scikit-learn"
   ]
  },
  {
   "cell_type": "markdown",
   "id": "f977793f",
   "metadata": {},
   "source": [
    "In the spirit of this course, we first use `scikit-learn` to combine strategy with known weights, in particular, the `VotingRegressor` class.\n",
    "\n",
    "Disclaimer: I have found that using these `Ensemble` classes from `scikit-learn` is quite cumbersome (see also the `StackingRegressor`), in particular because these classes do not interact well with `scikit-learn` pipelines. "
   ]
  },
  {
   "cell_type": "code",
   "execution_count": null,
   "id": "547bbd40",
   "metadata": {
    "execution": {
     "iopub.execute_input": "2025-09-29T15:45:40.942230Z",
     "iopub.status.busy": "2025-09-29T15:45:40.941784Z",
     "iopub.status.idle": "2025-09-29T15:45:41.205314Z",
     "shell.execute_reply": "2025-09-29T15:45:41.204626Z"
    }
   },
   "outputs": [],
   "source": [
    "from skfin.estimators import Ridge\n",
    "from sklearn.ensemble import VotingRegressor\n",
    "\n",
    "\n",
    "class VotingRegressor(VotingRegressor):\n",
    "    def transform(self, X):\n",
    "        return self.predict(X)"
   ]
  },
  {
   "cell_type": "code",
   "execution_count": null,
   "id": "7126e4f6-5821-451f-b752-4a0d875edd86",
   "metadata": {
    "execution": {
     "iopub.execute_input": "2025-09-29T15:45:41.207440Z",
     "iopub.status.busy": "2025-09-29T15:45:41.207110Z",
     "iopub.status.idle": "2025-09-29T15:45:41.233569Z",
     "shell.execute_reply": "2025-09-29T15:45:41.232953Z"
    }
   },
   "outputs": [],
   "source": [
    "estimators_ = [\n",
    "    (\"ridge1\", Ridge(alpha=1)),\n",
    "    (\"ridge2\", Ridge(alpha=100)),\n",
    "]"
   ]
  },
  {
   "cell_type": "markdown",
   "id": "841eec1e",
   "metadata": {},
   "source": [
    "By default, `VotingRegressor` applies equal weights across regressors. "
   ]
  },
  {
   "cell_type": "code",
   "execution_count": null,
   "id": "02dce43c-4b17-423a-93c9-b887652dc572",
   "metadata": {
    "execution": {
     "iopub.execute_input": "2025-09-29T15:45:41.235592Z",
     "iopub.status.busy": "2025-09-29T15:45:41.235291Z",
     "iopub.status.idle": "2025-09-29T15:45:43.227560Z",
     "shell.execute_reply": "2025-09-29T15:45:43.226861Z"
    }
   },
   "outputs": [],
   "source": [
    "pnls0 = pd.concat(\n",
    "    {\n",
    "        k: Backtester(\n",
    "            make_pipeline(StandardScaler(with_mean=False), v, MeanVariance())\n",
    "        ).train(X, y, ret)\n",
    "        for k, v in estimators_\n",
    "    },\n",
    "    axis=1,\n",
    ")"
   ]
  },
  {
   "cell_type": "code",
   "execution_count": null,
   "id": "1ea191ae-8ee4-49c9-abde-fe2e0da2dd5c",
   "metadata": {
    "execution": {
     "iopub.execute_input": "2025-09-29T15:45:43.229650Z",
     "iopub.status.busy": "2025-09-29T15:45:43.229362Z",
     "iopub.status.idle": "2025-09-29T15:45:43.676952Z",
     "shell.execute_reply": "2025-09-29T15:45:43.676306Z"
    }
   },
   "outputs": [],
   "source": [
    "line(pnls0, cumsum=True)"
   ]
  },
  {
   "cell_type": "code",
   "execution_count": null,
   "id": "17a51935",
   "metadata": {
    "execution": {
     "iopub.execute_input": "2025-09-29T15:45:43.678887Z",
     "iopub.status.busy": "2025-09-29T15:45:43.678616Z",
     "iopub.status.idle": "2025-09-29T15:45:43.705316Z",
     "shell.execute_reply": "2025-09-29T15:45:43.704716Z"
    }
   },
   "outputs": [],
   "source": [
    "estimator = make_pipeline(\n",
    "    StandardScaler(with_mean=False),\n",
    "    MultiOutputRegressor(VotingRegressor(estimators=estimators_)),\n",
    "    MeanVariance(),\n",
    ")"
   ]
  },
  {
   "cell_type": "code",
   "execution_count": null,
   "id": "6ebe36d2",
   "metadata": {
    "execution": {
     "iopub.execute_input": "2025-09-29T15:45:43.707150Z",
     "iopub.status.busy": "2025-09-29T15:45:43.706910Z",
     "iopub.status.idle": "2025-09-29T15:45:58.973209Z",
     "shell.execute_reply": "2025-09-29T15:45:58.972563Z"
    }
   },
   "outputs": [],
   "source": [
    "pnls0[\"voting regressor (equal weight)\"] = Backtester(estimator).train(X, y, ret)\n",
    "line(pnls0, cumsum=True)"
   ]
  },
  {
   "cell_type": "code",
   "execution_count": null,
   "id": "dc73b611-358b-46db-82f0-1a42f68e0d85",
   "metadata": {
    "execution": {
     "iopub.execute_input": "2025-09-29T15:45:58.975161Z",
     "iopub.status.busy": "2025-09-29T15:45:58.974899Z",
     "iopub.status.idle": "2025-09-29T15:45:59.013648Z",
     "shell.execute_reply": "2025-09-29T15:45:59.013085Z"
    }
   },
   "outputs": [],
   "source": [
    "estimator2 = make_pipeline(\n",
    "    StandardScaler(with_mean=False),\n",
    "    MultiOutputRegressor(VotingRegressor(estimators=estimators_, weights=[5, 1])),\n",
    "    MeanVariance(),\n",
    ")"
   ]
  },
  {
   "cell_type": "code",
   "execution_count": null,
   "id": "f11a8dcf-c2a5-4a18-9f41-f5ff18235229",
   "metadata": {
    "execution": {
     "iopub.execute_input": "2025-09-29T15:45:59.015468Z",
     "iopub.status.busy": "2025-09-29T15:45:59.015245Z",
     "iopub.status.idle": "2025-09-29T15:46:14.862915Z",
     "shell.execute_reply": "2025-09-29T15:46:14.862276Z"
    }
   },
   "outputs": [],
   "source": [
    "pnls0[\"voting regressor (unequal weight)\"] = Backtester(estimator2).train(X, y, ret)\n",
    "line(pnls0, cumsum=True)"
   ]
  },
  {
   "cell_type": "code",
   "execution_count": null,
   "id": "619e839e-a90c-44d7-8582-004bee740294",
   "metadata": {
    "execution": {
     "iopub.execute_input": "2025-09-29T15:46:14.864879Z",
     "iopub.status.busy": "2025-09-29T15:46:14.864612Z",
     "iopub.status.idle": "2025-09-29T15:46:40.211035Z",
     "shell.execute_reply": "2025-09-29T15:46:40.210361Z"
    }
   },
   "outputs": [],
   "source": [
    "estimators_ = [\n",
    "    (\"ridge1\", make_pipeline(StandardScaler(with_mean=False), Ridge(alpha=1))),\n",
    "    (\"ridge2\", make_pipeline(StandardScaler(with_mean=False), Ridge(alpha=100))),\n",
    "]\n",
    "\n",
    "estimator = make_pipeline(\n",
    "    MultiOutputRegressor(VotingRegressor(estimators=estimators_)),\n",
    "    MeanVariance(),\n",
    ")\n",
    "\n",
    "pnl_ = Backtester(estimator).train(X, y, ret)\n",
    "line(pnl_, cumsum=True)"
   ]
  },
  {
   "cell_type": "markdown",
   "id": "a9051d37",
   "metadata": {},
   "source": [
    "## Rolling ensemble backtest"
   ]
  },
  {
   "cell_type": "markdown",
   "id": "a3548ff3",
   "metadata": {},
   "source": [
    "In this section, we build a custom ensemble method to learn weights on different estimators from pnls. "
   ]
  },
  {
   "cell_type": "markdown",
   "id": "20c33ff6",
   "metadata": {},
   "source": [
    "### StackingBacktester"
   ]
  },
  {
   "cell_type": "markdown",
   "id": "9ad6807b",
   "metadata": {},
   "source": [
    "We consider three estimators: \n",
    "    \n",
    "- the simple Industry momentum. \n",
    "\n",
    "- a strategy that learns cross-industry effect with `Ridge`. \n",
    "\n",
    "- a strategy that learns cross-industry effect with `Lightgbm`. "
   ]
  },
  {
   "cell_type": "code",
   "execution_count": null,
   "id": "5b178f7b",
   "metadata": {
    "execution": {
     "iopub.execute_input": "2025-09-29T15:46:40.213203Z",
     "iopub.status.busy": "2025-09-29T15:46:40.212910Z",
     "iopub.status.idle": "2025-09-29T15:46:40.297181Z",
     "shell.execute_reply": "2025-09-29T15:46:40.296596Z"
    }
   },
   "outputs": [],
   "source": [
    "estimators = {\n",
    "    \"momentum\": MeanVariance(),\n",
    "    \"ridge\": make_pipeline(StandardScaler(with_mean=False), Ridge(), MeanVariance()),\n",
    "    \"lightgbm\": make_pipeline(\n",
    "        MultiOutputRegressor(\n",
    "            LGBMRegressor(min_child_samples=5, n_estimators=25, n_jobs=1)\n",
    "        ),\n",
    "        MeanVariance(),\n",
    "    ),\n",
    "}"
   ]
  },
  {
   "cell_type": "code",
   "execution_count": null,
   "id": "a9d0358a",
   "metadata": {
    "execution": {
     "iopub.execute_input": "2025-09-29T15:46:40.299002Z",
     "iopub.status.busy": "2025-09-29T15:46:40.298763Z",
     "iopub.status.idle": "2025-09-29T15:47:21.520692Z",
     "shell.execute_reply": "2025-09-29T15:47:21.519950Z"
    }
   },
   "outputs": [],
   "source": [
    "pnls = pd.concat(\n",
    "    {k: Backtester(v).train(X, y, ret) for k, v in estimators.items()},\n",
    "    axis=1,\n",
    ")"
   ]
  },
  {
   "cell_type": "markdown",
   "id": "8f27d5f8",
   "metadata": {},
   "source": [
    "To construct an equal-weight strategy, we scale the sum of the pnl by the square-root of the number of strategy: \n",
    "    \n",
    "$$pnl_{\\text{equal weight}} = \\frac{\\sum_{n=1}^{n=N} pnl_n}{\\sqrt{N}}.$$\n",
    "\n",
    "In this case, if the individual pnls $pnl_n$ are identically and independently distributed (with the same standard deviation), then $pnl_{\\text{equal weight}}$ has the same ex-ante standard deviation.  "
   ]
  },
  {
   "cell_type": "code",
   "execution_count": null,
   "id": "6281ffef",
   "metadata": {
    "execution": {
     "iopub.execute_input": "2025-09-29T15:47:21.523010Z",
     "iopub.status.busy": "2025-09-29T15:47:21.522735Z",
     "iopub.status.idle": "2025-09-29T15:47:22.648514Z",
     "shell.execute_reply": "2025-09-29T15:47:22.647868Z"
    }
   },
   "outputs": [],
   "source": [
    "pnls_ = pnls.assign(equal_weight=lambda x: x.sum(axis=1).div(np.sqrt(x.shape[1])))\n",
    "line(pnls_, cumsum=True)"
   ]
  },
  {
   "cell_type": "code",
   "execution_count": null,
   "id": "a5403f43",
   "metadata": {
    "execution": {
     "iopub.execute_input": "2025-09-29T15:47:22.650497Z",
     "iopub.status.busy": "2025-09-29T15:47:22.650234Z",
     "iopub.status.idle": "2025-09-29T15:47:22.745006Z",
     "shell.execute_reply": "2025-09-29T15:47:22.744337Z"
    }
   },
   "outputs": [],
   "source": [
    "bar(pnls_.std())"
   ]
  },
  {
   "cell_type": "markdown",
   "id": "1a75e3c0",
   "metadata": {},
   "source": [
    "The average correlation is not particularly high, which explains with some simple ensemble seems to help. "
   ]
  },
  {
   "cell_type": "code",
   "execution_count": null,
   "id": "932d77da",
   "metadata": {
    "execution": {
     "iopub.execute_input": "2025-09-29T15:47:22.747014Z",
     "iopub.status.busy": "2025-09-29T15:47:22.746743Z",
     "iopub.status.idle": "2025-09-29T15:47:22.777960Z",
     "shell.execute_reply": "2025-09-29T15:47:22.777229Z"
    }
   },
   "outputs": [],
   "source": [
    "print(\n",
    "    f\"The average pnl correlation between estimators is {pnls.corr().stack().loc[lambda x: x != 1].mean():.2f}\"\n",
    ")"
   ]
  },
  {
   "cell_type": "markdown",
   "id": "05549f71",
   "metadata": {},
   "source": [
    "We introduce a `StackingBacktester` with the `sklearn` API. "
   ]
  },
  {
   "cell_type": "code",
   "execution_count": null,
   "id": "b46e9ccf",
   "metadata": {
    "execution": {
     "iopub.execute_input": "2025-09-29T15:47:22.780107Z",
     "iopub.status.busy": "2025-09-29T15:47:22.779688Z",
     "iopub.status.idle": "2025-09-29T15:47:22.814883Z",
     "shell.execute_reply": "2025-09-29T15:47:22.814230Z"
    }
   },
   "outputs": [],
   "source": [
    "%%writefile ../skfin/ensemble.py\n",
    "from dataclasses import dataclass\n",
    "\n",
    "import numpy as np\n",
    "import pandas as pd\n",
    "from skfin.mv_estimators import Mbj\n",
    "from sklearn.base import BaseEstimator\n",
    "from sklearn.model_selection import TimeSeriesSplit\n",
    "\n",
    "\n",
    "@dataclass\n",
    "class StackingBacktester:\n",
    "    estimators: dict\n",
    "    max_train_size: int = 36\n",
    "    test_size: int = 1\n",
    "    start_date: str = \"1945-01-01\"\n",
    "    end_date: str = None\n",
    "    window: int = 60\n",
    "    min_periods: int = 60\n",
    "    final_estimator: BaseEstimator = Mbj()\n",
    "\n",
    "    def train(self, X, y, ret):\n",
    "        cv = TimeSeriesSplit(\n",
    "            max_train_size=self.max_train_size,\n",
    "            test_size=self.test_size,\n",
    "            n_splits=1 + len(X.loc[self.start_date : self.end_date]) // self.test_size,\n",
    "        )\n",
    "        N_estimators = len(self.estimators)\n",
    "        cols = X.columns\n",
    "        idx = X.index[np.concatenate([test for _, test in cv.split(X)])]\n",
    "\n",
    "        _h = {k: [] for k in list(self.estimators.keys()) + [\"ensemble\"]}\n",
    "        _next_pnls = {k: [] for k in self.estimators.keys()}\n",
    "        _coef = []\n",
    "        for i, (train, test) in enumerate(cv.split(X)):\n",
    "            h_ = {}\n",
    "            # each strategy position and next-period pnls \n",
    "            for k, m in self.estimators.items():\n",
    "                m.fit(X.iloc[train], y.iloc[train])\n",
    "                h_[k] = m.predict(X.iloc[test])\n",
    "                _h[k] += [h_[k]]\n",
    "                if i + 1 < len(idx):\n",
    "                    _next_pnls[k] += [ret.loc[idx[i + 1]].dot(np.squeeze(h_[k]))]\n",
    "            # compute coef from strategy pnls   \n",
    "            if i <= self.min_periods:\n",
    "                _coef += [np.zeros(N_estimators)]\n",
    "            else:\n",
    "                pnl_window = np.stack(\n",
    "                    [np.array(v[-self.window-1 :-1]) for k, v in _next_pnls.items()], axis=1\n",
    "                )\n",
    "                coef_ = self.final_estimator.fit(pnl_window).coef_\n",
    "                _coef += [coef_]                      \n",
    "            # ensemble \n",
    "            if i <= self.min_periods:\n",
    "                h_ensemble = np.zeros([len(cols), 1])\n",
    "            else: \n",
    "                h_ensemble = (\n",
    "                    np.stack([np.squeeze(v) for v in h_.values()], axis=1)\n",
    "                    .dot(coef_)\n",
    "                    .reshape(-1, 1)\n",
    "                )\n",
    "                V_ = m.named_steps[\"meanvariance\"].V_\n",
    "                h_ensemble = h_ensemble / np.sqrt(\n",
    "                    np.diag(h_ensemble.T.dot(V_.dot(h_ensemble)))\n",
    "                )                \n",
    "            _h[\"ensemble\"] += [h_ensemble.T]\n",
    "            \n",
    "        self.h_ = {\n",
    "            k: pd.DataFrame(np.concatenate(_h[k]), index=idx, columns=cols)\n",
    "            for k in _h.keys()\n",
    "        }\n",
    "        self.pnls_ = pd.concat(\n",
    "            {\n",
    "                k: v.shift(1).mul(ret).sum(axis=1)[self.start_date :]\n",
    "                for k, v in self.h_.items()\n",
    "            },\n",
    "            axis=1,\n",
    "        )\n",
    "        self.coef_ = pd.DataFrame(\n",
    "            np.stack(_coef), index=idx, columns=self.estimators.keys()\n",
    "        )\n",
    "        self.cv = cv \n",
    "        return self"
   ]
  },
  {
   "cell_type": "code",
   "execution_count": null,
   "id": "f13987ec",
   "metadata": {
    "execution": {
     "iopub.execute_input": "2025-09-29T15:47:22.816660Z",
     "iopub.status.busy": "2025-09-29T15:47:22.816410Z",
     "iopub.status.idle": "2025-09-29T15:47:22.842068Z",
     "shell.execute_reply": "2025-09-29T15:47:22.841470Z"
    }
   },
   "outputs": [],
   "source": [
    "from skfin.mv_estimators import Mbj"
   ]
  },
  {
   "cell_type": "markdown",
   "id": "5a68d4fe",
   "metadata": {},
   "source": [
    "We first use the Britten-Jones (1999) trick (with the `Mbj` estimator) to compute the unconstrained mean-variance weigts over the full sample: "
   ]
  },
  {
   "cell_type": "code",
   "execution_count": null,
   "id": "eb22c434",
   "metadata": {
    "execution": {
     "iopub.execute_input": "2025-09-29T15:47:22.843826Z",
     "iopub.status.busy": "2025-09-29T15:47:22.843596Z",
     "iopub.status.idle": "2025-09-29T15:47:22.935088Z",
     "shell.execute_reply": "2025-09-29T15:47:22.934430Z"
    }
   },
   "outputs": [],
   "source": [
    "m = Mbj()\n",
    "m.fit(pnls)\n",
    "bar(pd.Series(m.coef_, index=pnls.columns))"
   ]
  },
  {
   "cell_type": "markdown",
   "id": "dd40f270",
   "metadata": {},
   "source": [
    "These in-sample optimal weights improve even more the sharpe ratio -- but this is `in-sample`! "
   ]
  },
  {
   "cell_type": "code",
   "execution_count": null,
   "id": "a380044b",
   "metadata": {
    "execution": {
     "iopub.execute_input": "2025-09-29T15:47:22.937030Z",
     "iopub.status.busy": "2025-09-29T15:47:22.936759Z",
     "iopub.status.idle": "2025-09-29T15:47:23.786088Z",
     "shell.execute_reply": "2025-09-29T15:47:23.785447Z"
    }
   },
   "outputs": [],
   "source": [
    "line(pnls_.assign(in_sample_optimal=Mbj().fit_transform(pnls)), cumsum=True)"
   ]
  },
  {
   "cell_type": "markdown",
   "id": "af55f22c",
   "metadata": {},
   "source": [
    "The `StackingBacktester` computes the performance with the learned weights over rolling windows of 60 months (5 years). "
   ]
  },
  {
   "cell_type": "code",
   "execution_count": null,
   "id": "31d1c830",
   "metadata": {
    "execution": {
     "iopub.execute_input": "2025-09-29T15:47:23.788141Z",
     "iopub.status.busy": "2025-09-29T15:47:23.787868Z",
     "iopub.status.idle": "2025-09-29T15:47:23.825093Z",
     "shell.execute_reply": "2025-09-29T15:47:23.824354Z"
    }
   },
   "outputs": [],
   "source": [
    "from skfin.ensemble import StackingBacktester"
   ]
  },
  {
   "cell_type": "code",
   "execution_count": null,
   "id": "74b0e141",
   "metadata": {
    "execution": {
     "iopub.execute_input": "2025-09-29T15:47:23.826918Z",
     "iopub.status.busy": "2025-09-29T15:47:23.826673Z",
     "iopub.status.idle": "2025-09-29T15:48:15.135150Z",
     "shell.execute_reply": "2025-09-29T15:48:15.134380Z"
    }
   },
   "outputs": [],
   "source": [
    "m = StackingBacktester(estimators=estimators, window=60, min_periods=60).train(\n",
    "    X, y, ret\n",
    ")\n",
    "pnls = pnls.assign(ensemble_mbj=m.pnls_[\"ensemble\"])"
   ]
  },
  {
   "cell_type": "code",
   "execution_count": null,
   "id": "9233850d",
   "metadata": {
    "execution": {
     "iopub.execute_input": "2025-09-29T15:48:15.137591Z",
     "iopub.status.busy": "2025-09-29T15:48:15.137283Z",
     "iopub.status.idle": "2025-09-29T15:48:15.788817Z",
     "shell.execute_reply": "2025-09-29T15:48:15.788178Z"
    }
   },
   "outputs": [],
   "source": [
    "line(m.pnls_[\"1950-02-01\":], cumsum=True)"
   ]
  },
  {
   "cell_type": "markdown",
   "id": "3ed8b56d",
   "metadata": {},
   "source": [
    "To understand why the performance is lower, it is useful to look at the weights -- in this case, the weights are often negative. "
   ]
  },
  {
   "cell_type": "code",
   "execution_count": null,
   "id": "52213bd3",
   "metadata": {
    "execution": {
     "iopub.execute_input": "2025-09-29T15:48:15.790809Z",
     "iopub.status.busy": "2025-09-29T15:48:15.790540Z",
     "iopub.status.idle": "2025-09-29T15:48:15.953506Z",
     "shell.execute_reply": "2025-09-29T15:48:15.952871Z"
    }
   },
   "outputs": [],
   "source": [
    "line(m.coef_)"
   ]
  },
  {
   "cell_type": "markdown",
   "id": "da21a48e",
   "metadata": {},
   "source": [
    "We redo the exercise with a positive-weight constraint. "
   ]
  },
  {
   "cell_type": "code",
   "execution_count": null,
   "id": "f6a928ba",
   "metadata": {
    "execution": {
     "iopub.execute_input": "2025-09-29T15:48:15.955499Z",
     "iopub.status.busy": "2025-09-29T15:48:15.955242Z",
     "iopub.status.idle": "2025-09-29T15:48:15.981490Z",
     "shell.execute_reply": "2025-09-29T15:48:15.980919Z"
    }
   },
   "outputs": [],
   "source": [
    "from skfin.mv_estimators import Mbj"
   ]
  },
  {
   "cell_type": "code",
   "execution_count": null,
   "id": "a75fec6a",
   "metadata": {
    "execution": {
     "iopub.execute_input": "2025-09-29T15:48:15.983248Z",
     "iopub.status.busy": "2025-09-29T15:48:15.983028Z",
     "iopub.status.idle": "2025-09-29T15:49:06.827702Z",
     "shell.execute_reply": "2025-09-29T15:49:06.826962Z"
    }
   },
   "outputs": [],
   "source": [
    "m = StackingBacktester(\n",
    "    estimators=estimators,\n",
    "    final_estimator=Mbj(positive=True),\n",
    "    window=60,\n",
    "    min_periods=60,\n",
    ")\n",
    "m.train(X, y, ret)\n",
    "pnls[\"ensemble_mbj_positive\"] = m.pnls_[\"ensemble\"]"
   ]
  },
  {
   "cell_type": "code",
   "execution_count": null,
   "id": "8ca93934",
   "metadata": {
    "execution": {
     "iopub.execute_input": "2025-09-29T15:49:06.829930Z",
     "iopub.status.busy": "2025-09-29T15:49:06.829663Z",
     "iopub.status.idle": "2025-09-29T15:49:07.569670Z",
     "shell.execute_reply": "2025-09-29T15:49:07.569075Z"
    }
   },
   "outputs": [],
   "source": [
    "fig, ax = plt.subplots(1, 2, figsize=(20, 5))\n",
    "line(m.pnls_[\"1950-02-01\":], cumsum=True, ax=ax[0], loc=\"best\")\n",
    "line(m.coef_, ax=ax[1], loc=\"best\")"
   ]
  },
  {
   "cell_type": "markdown",
   "id": "39c6e9ae",
   "metadata": {},
   "source": [
    "Over longer periods with positive constraints, the performance is closer to the industry momentum."
   ]
  },
  {
   "cell_type": "code",
   "execution_count": null,
   "id": "7fb4cdbf",
   "metadata": {
    "execution": {
     "iopub.execute_input": "2025-09-29T15:49:07.571761Z",
     "iopub.status.busy": "2025-09-29T15:49:07.571522Z",
     "iopub.status.idle": "2025-09-29T15:49:58.484097Z",
     "shell.execute_reply": "2025-09-29T15:49:58.483375Z"
    }
   },
   "outputs": [],
   "source": [
    "m = StackingBacktester(\n",
    "    estimators=estimators,\n",
    "    final_estimator=Mbj(positive=True),\n",
    "    window=180,\n",
    "    min_periods=60,\n",
    ")\n",
    "m.train(X, y, ret)\n",
    "pnls[\"ensemble_mbj_positive_long_window\"] = m.pnls_[\"ensemble\"]"
   ]
  },
  {
   "cell_type": "code",
   "execution_count": null,
   "id": "df1ccf45",
   "metadata": {
    "execution": {
     "iopub.execute_input": "2025-09-29T15:49:58.486359Z",
     "iopub.status.busy": "2025-09-29T15:49:58.486061Z",
     "iopub.status.idle": "2025-09-29T15:49:59.272929Z",
     "shell.execute_reply": "2025-09-29T15:49:59.272308Z"
    }
   },
   "outputs": [],
   "source": [
    "fig, ax = plt.subplots(1, 2, figsize=(20, 5))\n",
    "line(m.pnls_, cumsum=True, ax=ax[0], loc=\"best\")\n",
    "line(m.coef_, ax=ax[1], loc=\"best\")"
   ]
  },
  {
   "cell_type": "markdown",
   "id": "20ef47c8",
   "metadata": {},
   "source": [
    "Putting the different ensembles, we compare the pnls in the graph below "
   ]
  },
  {
   "cell_type": "code",
   "execution_count": null,
   "id": "83444eb7",
   "metadata": {
    "execution": {
     "iopub.execute_input": "2025-09-29T15:49:59.274864Z",
     "iopub.status.busy": "2025-09-29T15:49:59.274612Z",
     "iopub.status.idle": "2025-09-29T15:50:00.110661Z",
     "shell.execute_reply": "2025-09-29T15:50:00.110048Z"
    },
    "tags": []
   },
   "outputs": [],
   "source": [
    "line(pnls[\"1950-02-01\":], cumsum=True)"
   ]
  }
 ],
 "metadata": {
  "hide_input": false,
  "kernelspec": {
   "display_name": "skfin 2024",
   "language": "python",
   "name": "skfin"
  },
  "language_info": {
   "codemirror_mode": {
    "name": "ipython",
    "version": 3
   },
   "file_extension": ".py",
   "mimetype": "text/x-python",
   "name": "python",
   "nbconvert_exporter": "python",
   "pygments_lexer": "ipython3",
   "version": "3.9.20"
  },
  "toc": {
   "base_numbering": 1,
   "nav_menu": {},
   "number_sections": true,
   "sideBar": true,
   "skip_h1_title": false,
   "title_cell": "Table of Contents",
   "title_sidebar": "Contents",
   "toc_cell": false,
   "toc_position": {},
   "toc_section_display": true,
   "toc_window_display": false
  }
 },
 "nbformat": 4,
 "nbformat_minor": 5
}
