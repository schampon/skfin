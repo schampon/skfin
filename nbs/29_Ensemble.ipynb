{
 "cells": [
  {
   "cell_type": "markdown",
   "id": "54768db1",
   "metadata": {},
   "source": [
    "# Ensemble"
   ]
  },
  {
   "cell_type": "code",
   "execution_count": null,
   "id": "c905c1af",
   "metadata": {
    "execution": {
     "iopub.execute_input": "2023-12-07T08:23:30.708414Z",
     "iopub.status.busy": "2023-12-07T08:23:30.708104Z",
     "iopub.status.idle": "2023-12-07T08:23:34.097877Z",
     "shell.execute_reply": "2023-12-07T08:23:34.097144Z"
    }
   },
   "outputs": [],
   "source": [
    "# hide\n",
    "%load_ext autoreload\n",
    "%autoreload 2\n",
    "%matplotlib inline\n",
    "\n",
    "import logging\n",
    "\n",
    "import numpy as np\n",
    "import pandas as pd\n",
    "from IPython.display import Image, display\n",
    "from lightgbm.sklearn import LGBMRegressor\n",
    "from matplotlib import pyplot as plt\n",
    "from skfin.backtesting import Backtester\n",
    "from skfin.datasets import load_kf_returns\n",
    "from skfin.estimators import MLPRegressor, MultiOutputRegressor, RidgeCV\n",
    "from skfin.metrics import sharpe_ratio\n",
    "from skfin.mv_estimators import MeanVariance\n",
    "from skfin.plot import bar, line\n",
    "from sklearn.pipeline import make_pipeline\n",
    "from sklearn.preprocessing import PolynomialFeatures, StandardScaler\n",
    "from tqdm.auto import tqdm\n",
    "\n",
    "logging.getLogger(\"skfin.datasets\").setLevel(logging.CRITICAL)\n",
    "\n",
    "returns_data = load_kf_returns(cache_dir=\"data\")\n",
    "ret = returns_data[\"Monthly\"][\"Average_Value_Weighted_Returns\"][:\"1999\"]\n",
    "\n",
    "transform_X = lambda x: x.rolling(12).mean().fillna(0)\n",
    "transform_y = lambda x: x.shift(-1)\n",
    "features = transform_X(ret)\n",
    "target = transform_y(ret)"
   ]
  },
  {
   "cell_type": "markdown",
   "id": "129d4f38",
   "metadata": {},
   "source": [
    "## Ensemble "
   ]
  },
  {
   "cell_type": "markdown",
   "id": "f977793f",
   "metadata": {},
   "source": [
    "Rather than choosing a single estimator (or set of parameters) among many, another stategy is to combine all the possible estimators/parameters. `scikit-learn` allows to do that with classes such as `VotingRegressor`."
   ]
  },
  {
   "cell_type": "code",
   "execution_count": null,
   "id": "547bbd40",
   "metadata": {
    "execution": {
     "iopub.execute_input": "2023-12-07T08:23:34.101795Z",
     "iopub.status.busy": "2023-12-07T08:23:34.101511Z",
     "iopub.status.idle": "2023-12-07T08:23:34.431380Z",
     "shell.execute_reply": "2023-12-07T08:23:34.430719Z"
    }
   },
   "outputs": [],
   "source": [
    "from skfin.estimators import Ridge\n",
    "from sklearn.ensemble import VotingRegressor\n",
    "\n",
    "\n",
    "class VotingRegressor(VotingRegressor):\n",
    "    def transform(self, X):\n",
    "        return self.predict(X)"
   ]
  },
  {
   "cell_type": "code",
   "execution_count": null,
   "id": "a84b84f8",
   "metadata": {
    "execution": {
     "iopub.execute_input": "2023-12-07T08:23:34.434241Z",
     "iopub.status.busy": "2023-12-07T08:23:34.433988Z",
     "iopub.status.idle": "2023-12-07T08:23:34.459892Z",
     "shell.execute_reply": "2023-12-07T08:23:34.459266Z"
    }
   },
   "outputs": [],
   "source": [
    "estimators_ = [\n",
    "    (\"ridge1\", Ridge(alpha=1)),\n",
    "    (\"ridge2\", Ridge(alpha=100)),\n",
    "]"
   ]
  },
  {
   "cell_type": "markdown",
   "id": "841eec1e",
   "metadata": {},
   "source": [
    "By default, `VotingRegressor` applies equal weights across regressors. "
   ]
  },
  {
   "cell_type": "code",
   "execution_count": null,
   "id": "17a51935",
   "metadata": {
    "execution": {
     "iopub.execute_input": "2023-12-07T08:23:34.462929Z",
     "iopub.status.busy": "2023-12-07T08:23:34.462497Z",
     "iopub.status.idle": "2023-12-07T08:23:34.488298Z",
     "shell.execute_reply": "2023-12-07T08:23:34.487660Z"
    }
   },
   "outputs": [],
   "source": [
    "estimator = make_pipeline(\n",
    "    StandardScaler(with_mean=False),\n",
    "    MultiOutputRegressor(VotingRegressor(estimators=estimators_)),\n",
    "    MeanVariance(),\n",
    ")"
   ]
  },
  {
   "cell_type": "code",
   "execution_count": null,
   "id": "6ebe36d2",
   "metadata": {
    "execution": {
     "iopub.execute_input": "2023-12-07T08:23:34.491101Z",
     "iopub.status.busy": "2023-12-07T08:23:34.490692Z",
     "iopub.status.idle": "2023-12-07T08:23:57.046978Z",
     "shell.execute_reply": "2023-12-07T08:23:57.046291Z"
    }
   },
   "outputs": [],
   "source": [
    "pnl_ = Backtester(estimator, name=\"Voting regressor\").train(features, target, ret)\n",
    "line(pnl_, cumsum=True)"
   ]
  },
  {
   "cell_type": "markdown",
   "id": "242fd47e",
   "metadata": {},
   "source": [
    "In `scikit-learn`, there is also a `StackingRegressor` but it requires a bit more work to make it work with `MultiOutputRegressor` (and constraints on transform/regressors). "
   ]
  },
  {
   "cell_type": "markdown",
   "id": "a9051d37",
   "metadata": {},
   "source": [
    "## Rolling ensemble backtest"
   ]
  },
  {
   "cell_type": "markdown",
   "id": "a3548ff3",
   "metadata": {},
   "source": [
    "In this section, we build a custom ensemble method to learn weights on different estimators from pnls. "
   ]
  },
  {
   "cell_type": "markdown",
   "id": "20c33ff6",
   "metadata": {},
   "source": [
    "### StackingBacktester"
   ]
  },
  {
   "cell_type": "markdown",
   "id": "9ad6807b",
   "metadata": {},
   "source": [
    "We consider three estimators: \n",
    "    \n",
    "- the simple Industry momentum. \n",
    "\n",
    "- a strategy that learns cross-industry effect with `Ridge`. \n",
    "\n",
    "- a strategy that learns cross-industry effect with `Lightgbm`. "
   ]
  },
  {
   "cell_type": "code",
   "execution_count": null,
   "id": "5b178f7b",
   "metadata": {
    "execution": {
     "iopub.execute_input": "2023-12-07T08:23:57.051095Z",
     "iopub.status.busy": "2023-12-07T08:23:57.050660Z",
     "iopub.status.idle": "2023-12-07T08:23:57.086255Z",
     "shell.execute_reply": "2023-12-07T08:23:57.085607Z"
    }
   },
   "outputs": [],
   "source": [
    "estimators = {\n",
    "    \"momentum\": MeanVariance(),\n",
    "    \"ridge\": make_pipeline(StandardScaler(with_mean=False), Ridge(), MeanVariance()),\n",
    "    \"lightgbm\": make_pipeline(\n",
    "        MultiOutputRegressor(\n",
    "            LGBMRegressor(min_child_samples=5, n_estimators=25, n_jobs=1)\n",
    "        ),\n",
    "        MeanVariance(),\n",
    "    ),\n",
    "}"
   ]
  },
  {
   "cell_type": "code",
   "execution_count": null,
   "id": "a9d0358a",
   "metadata": {
    "execution": {
     "iopub.execute_input": "2023-12-07T08:23:57.089099Z",
     "iopub.status.busy": "2023-12-07T08:23:57.088768Z",
     "iopub.status.idle": "2023-12-07T08:24:42.285667Z",
     "shell.execute_reply": "2023-12-07T08:24:42.284764Z"
    }
   },
   "outputs": [],
   "source": [
    "pnls = pd.concat(\n",
    "    {k: Backtester(v).train(features, target, ret) for k, v in estimators.items()},\n",
    "    axis=1,\n",
    ")"
   ]
  },
  {
   "cell_type": "markdown",
   "id": "8f27d5f8",
   "metadata": {},
   "source": [
    "To construct an equal-weight strategy, we scale the sum of the pnl by the square-root of the number of strategy: \n",
    "    \n",
    "$$pnl_{\\text{equal weight}} = \\frac{\\sum_{n=1}^{n=N} pnl_n}{\\sqrt{N}}.$$\n",
    "\n",
    "In this case, if the individual pnls $pnl_n$ are identically and independently distributed (with the same standard deviation), then $pnl_{\\text{equal weight}}$ has the same ex-ante standard deviation.  "
   ]
  },
  {
   "cell_type": "code",
   "execution_count": null,
   "id": "6281ffef",
   "metadata": {
    "execution": {
     "iopub.execute_input": "2023-12-07T08:24:42.289645Z",
     "iopub.status.busy": "2023-12-07T08:24:42.289354Z",
     "iopub.status.idle": "2023-12-07T08:24:43.772123Z",
     "shell.execute_reply": "2023-12-07T08:24:43.771472Z"
    }
   },
   "outputs": [],
   "source": [
    "pnls_ = pnls.assign(equal_weight=lambda x: x.sum(axis=1).div(np.sqrt(x.shape[1])))\n",
    "line(pnls_, cumsum=True)"
   ]
  },
  {
   "cell_type": "code",
   "execution_count": null,
   "id": "a5403f43",
   "metadata": {
    "execution": {
     "iopub.execute_input": "2023-12-07T08:24:43.774932Z",
     "iopub.status.busy": "2023-12-07T08:24:43.774683Z",
     "iopub.status.idle": "2023-12-07T08:24:43.913043Z",
     "shell.execute_reply": "2023-12-07T08:24:43.912422Z"
    }
   },
   "outputs": [],
   "source": [
    "bar(pnls_.std())"
   ]
  },
  {
   "cell_type": "markdown",
   "id": "1a75e3c0",
   "metadata": {},
   "source": [
    "The average correlation is not particularly high, which explains with some simple ensemble seems to help. "
   ]
  },
  {
   "cell_type": "code",
   "execution_count": null,
   "id": "932d77da",
   "metadata": {
    "execution": {
     "iopub.execute_input": "2023-12-07T08:24:43.915881Z",
     "iopub.status.busy": "2023-12-07T08:24:43.915626Z",
     "iopub.status.idle": "2023-12-07T08:24:43.943646Z",
     "shell.execute_reply": "2023-12-07T08:24:43.942994Z"
    }
   },
   "outputs": [],
   "source": [
    "print(\n",
    "    f\"The average pnl correlation between estimators is {pnls.corr().stack().loc[lambda x: x!=1].mean():.2f}\"\n",
    ")"
   ]
  },
  {
   "cell_type": "markdown",
   "id": "05549f71",
   "metadata": {},
   "source": [
    "We introduce a `StackingBacktester` with the `sklearn` api. "
   ]
  },
  {
   "cell_type": "code",
   "execution_count": null,
   "id": "b46e9ccf",
   "metadata": {
    "execution": {
     "iopub.execute_input": "2023-12-07T08:24:43.946792Z",
     "iopub.status.busy": "2023-12-07T08:24:43.946372Z",
     "iopub.status.idle": "2023-12-07T08:24:43.979988Z",
     "shell.execute_reply": "2023-12-07T08:24:43.979341Z"
    }
   },
   "outputs": [],
   "source": [
    "%%writefile ../skfin/ensemble.py\n",
    "from dataclasses import dataclass\n",
    "\n",
    "import numpy as np\n",
    "import pandas as pd\n",
    "from skfin.mv_estimators import Mbj\n",
    "from sklearn.base import BaseEstimator\n",
    "from sklearn.linear_model import LinearRegression\n",
    "from sklearn.model_selection import TimeSeriesSplit\n",
    "\n",
    "\n",
    "@dataclass\n",
    "class StackingBacktester:\n",
    "    estimators: dict\n",
    "    ret: pd.DataFrame\n",
    "    max_train_size: int = 36\n",
    "    test_size: int = 1\n",
    "    start_date: str = \"1945-01-01\"\n",
    "    end_date: str = None\n",
    "    window: int = 60\n",
    "    min_periods: int = 60\n",
    "    final_estimator: BaseEstimator = Mbj()\n",
    "\n",
    "    def __post_init__(self):\n",
    "        self.ret = self.ret[: self.end_date]\n",
    "        self.cv = TimeSeriesSplit(\n",
    "            max_train_size=self.max_train_size,\n",
    "            test_size=self.test_size,\n",
    "            n_splits=1\n",
    "            + len(self.ret.loc[self.start_date : self.end_date]) // self.test_size,\n",
    "        )\n",
    "\n",
    "    def train(self, features, target):\n",
    "        N_estimators = len(self.estimators)\n",
    "        cols = self.ret.columns\n",
    "        idx = self.ret.index[\n",
    "            np.concatenate([test for _, test in self.cv.split(self.ret)])\n",
    "        ]\n",
    "\n",
    "        _h = {k: [] for k in list(self.estimators.keys()) + [\"ensemble\"]}\n",
    "        _pnls = {k: [] for k in self.estimators.keys()}\n",
    "        _coef = []\n",
    "        for i, (train, test) in enumerate(self.cv.split(self.ret)):\n",
    "            h_ = {}\n",
    "            if i > self.min_periods:\n",
    "                pnl_window = np.stack(\n",
    "                    [np.array(v[-self.window :]) for k, v in _pnls.items()], axis=1\n",
    "                )\n",
    "                coef_ = self.final_estimator.fit(pnl_window).coef_\n",
    "                _coef += [coef_]\n",
    "            else:\n",
    "                _coef += [np.zeros(N_estimators)]\n",
    "            for k, m in self.estimators.items():\n",
    "                m.fit(features.iloc[train], target.iloc[train])\n",
    "                h_[k] = m.predict(features.iloc[test])\n",
    "                _h[k] += [h_[k]]\n",
    "                if i + 1 < len(idx):\n",
    "                    _pnls[k] += [self.ret.loc[idx[i + 1]].dot(np.squeeze(h_[k]))]\n",
    "            if i > self.min_periods:\n",
    "                h_ensemble = (\n",
    "                    np.stack([np.squeeze(v) for v in h_.values()], axis=1)\n",
    "                    .dot(coef_)\n",
    "                    .reshape(-1, 1)\n",
    "                )\n",
    "                V_ = m.named_steps[\"meanvariance\"].V_\n",
    "                h_ensemble = h_ensemble / np.sqrt(\n",
    "                    np.diag(h_ensemble.T.dot(V_.dot(h_ensemble)))\n",
    "                )\n",
    "            else:\n",
    "                h_ensemble = np.zeros([len(cols), 1])\n",
    "            _h[\"ensemble\"] += [h_ensemble.T]\n",
    "\n",
    "        self.h_ = {\n",
    "            k: pd.DataFrame(np.concatenate(_h[k]), index=idx, columns=cols)\n",
    "            for k in _h.keys()\n",
    "        }\n",
    "        self.pnls_ = pd.concat(\n",
    "            {\n",
    "                k: v.shift(1).mul(self.ret).sum(axis=1)[self.start_date :]\n",
    "                for k, v in self.h_.items()\n",
    "            },\n",
    "            axis=1,\n",
    "        )\n",
    "        self.coef_ = pd.DataFrame(\n",
    "            np.stack(_coef), index=idx, columns=self.estimators.keys()\n",
    "        )\n",
    "        return self"
   ]
  },
  {
   "cell_type": "code",
   "execution_count": null,
   "id": "f13987ec",
   "metadata": {
    "execution": {
     "iopub.execute_input": "2023-12-07T08:24:43.982877Z",
     "iopub.status.busy": "2023-12-07T08:24:43.982490Z",
     "iopub.status.idle": "2023-12-07T08:24:44.008839Z",
     "shell.execute_reply": "2023-12-07T08:24:44.008175Z"
    }
   },
   "outputs": [],
   "source": [
    "from skfin.mv_estimators import Mbj"
   ]
  },
  {
   "cell_type": "markdown",
   "id": "5a68d4fe",
   "metadata": {},
   "source": [
    "We first use the Britten-Jones (1999) trick (with the `Mbj` estimator) to compute the unconstrained mean-variance weigts over the full sample: "
   ]
  },
  {
   "cell_type": "code",
   "execution_count": null,
   "id": "eb22c434",
   "metadata": {
    "execution": {
     "iopub.execute_input": "2023-12-07T08:24:44.011953Z",
     "iopub.status.busy": "2023-12-07T08:24:44.011462Z",
     "iopub.status.idle": "2023-12-07T08:24:44.216872Z",
     "shell.execute_reply": "2023-12-07T08:24:44.216223Z"
    }
   },
   "outputs": [],
   "source": [
    "m = Mbj()\n",
    "m.fit(pnls)\n",
    "bar(pd.Series(m.coef_, index=pnls.columns))"
   ]
  },
  {
   "cell_type": "markdown",
   "id": "dd40f270",
   "metadata": {},
   "source": [
    "These in-sample optimal weights improve even more the sharpe ratio -- but this is `in-sample`! "
   ]
  },
  {
   "cell_type": "code",
   "execution_count": null,
   "id": "a380044b",
   "metadata": {
    "execution": {
     "iopub.execute_input": "2023-12-07T08:24:44.220163Z",
     "iopub.status.busy": "2023-12-07T08:24:44.219709Z",
     "iopub.status.idle": "2023-12-07T08:24:45.672802Z",
     "shell.execute_reply": "2023-12-07T08:24:45.672151Z"
    }
   },
   "outputs": [],
   "source": [
    "line(pnls_.assign(in_sample_optimal=Mbj().fit_transform(pnls)), cumsum=True)"
   ]
  },
  {
   "cell_type": "markdown",
   "id": "af55f22c",
   "metadata": {},
   "source": [
    "The `StackingBacktester` computes the performance with the learned weights over rolling windows of 60 months (5 years). "
   ]
  },
  {
   "cell_type": "code",
   "execution_count": null,
   "id": "31d1c830",
   "metadata": {
    "execution": {
     "iopub.execute_input": "2023-12-07T08:24:45.675778Z",
     "iopub.status.busy": "2023-12-07T08:24:45.675526Z",
     "iopub.status.idle": "2023-12-07T08:24:45.713196Z",
     "shell.execute_reply": "2023-12-07T08:24:45.712446Z"
    }
   },
   "outputs": [],
   "source": [
    "from skfin.ensemble import StackingBacktester"
   ]
  },
  {
   "cell_type": "code",
   "execution_count": null,
   "id": "74b0e141",
   "metadata": {
    "execution": {
     "iopub.execute_input": "2023-12-07T08:24:45.715838Z",
     "iopub.status.busy": "2023-12-07T08:24:45.715601Z",
     "iopub.status.idle": "2023-12-07T08:25:46.046168Z",
     "shell.execute_reply": "2023-12-07T08:25:46.045350Z"
    }
   },
   "outputs": [],
   "source": [
    "m = StackingBacktester(estimators=estimators, ret=ret, window=60, min_periods=60).train(\n",
    "    features, target\n",
    ")\n",
    "pnls = pnls.assign(ensemble_mbj=m.pnls_[\"ensemble\"])"
   ]
  },
  {
   "cell_type": "code",
   "execution_count": null,
   "id": "9233850d",
   "metadata": {
    "execution": {
     "iopub.execute_input": "2023-12-07T08:25:46.049654Z",
     "iopub.status.busy": "2023-12-07T08:25:46.049376Z",
     "iopub.status.idle": "2023-12-07T08:25:47.421971Z",
     "shell.execute_reply": "2023-12-07T08:25:47.421322Z"
    }
   },
   "outputs": [],
   "source": [
    "line(m.pnls_[\"1950-02-01\":], cumsum=True)"
   ]
  },
  {
   "cell_type": "markdown",
   "id": "3ed8b56d",
   "metadata": {},
   "source": [
    "To understand why the performance is lower, it is useful to look at the weights -- in this case, the weights are often negative. "
   ]
  },
  {
   "cell_type": "code",
   "execution_count": null,
   "id": "52213bd3",
   "metadata": {
    "execution": {
     "iopub.execute_input": "2023-12-07T08:25:47.424924Z",
     "iopub.status.busy": "2023-12-07T08:25:47.424673Z",
     "iopub.status.idle": "2023-12-07T08:25:47.660938Z",
     "shell.execute_reply": "2023-12-07T08:25:47.659868Z"
    }
   },
   "outputs": [],
   "source": [
    "line(m.coef_)"
   ]
  },
  {
   "cell_type": "markdown",
   "id": "da21a48e",
   "metadata": {},
   "source": [
    "We redo the exercise with a positive-weight constraint. "
   ]
  },
  {
   "cell_type": "code",
   "execution_count": null,
   "id": "f6a928ba",
   "metadata": {
    "execution": {
     "iopub.execute_input": "2023-12-07T08:25:47.664393Z",
     "iopub.status.busy": "2023-12-07T08:25:47.663954Z",
     "iopub.status.idle": "2023-12-07T08:25:47.689375Z",
     "shell.execute_reply": "2023-12-07T08:25:47.688738Z"
    }
   },
   "outputs": [],
   "source": [
    "from skfin.mv_estimators import Mbj"
   ]
  },
  {
   "cell_type": "code",
   "execution_count": null,
   "id": "a75fec6a",
   "metadata": {
    "execution": {
     "iopub.execute_input": "2023-12-07T08:25:47.692103Z",
     "iopub.status.busy": "2023-12-07T08:25:47.691802Z",
     "iopub.status.idle": "2023-12-07T08:26:48.032953Z",
     "shell.execute_reply": "2023-12-07T08:26:48.032125Z"
    }
   },
   "outputs": [],
   "source": [
    "m = StackingBacktester(\n",
    "    estimators=estimators,\n",
    "    final_estimator=Mbj(positive=True),\n",
    "    ret=ret,\n",
    "    window=60,\n",
    "    min_periods=60,\n",
    ")\n",
    "m.train(features, target)\n",
    "pnls[\"ensemble_mbj_positive\"] = m.pnls_[\"ensemble\"]"
   ]
  },
  {
   "cell_type": "code",
   "execution_count": null,
   "id": "8ca93934",
   "metadata": {
    "execution": {
     "iopub.execute_input": "2023-12-07T08:26:48.036485Z",
     "iopub.status.busy": "2023-12-07T08:26:48.036209Z",
     "iopub.status.idle": "2023-12-07T08:26:49.610572Z",
     "shell.execute_reply": "2023-12-07T08:26:49.609900Z"
    }
   },
   "outputs": [],
   "source": [
    "fig, ax = plt.subplots(1, 2, figsize=(20, 5))\n",
    "line(m.pnls_[\"1950-02-01\":], cumsum=True, ax=ax[0], loc=\"best\")\n",
    "line(m.coef_, ax=ax[1], loc=\"best\")"
   ]
  },
  {
   "cell_type": "markdown",
   "id": "39c6e9ae",
   "metadata": {},
   "source": [
    "Over longer periods with positive constraints, the performance is closer to the industry momentum."
   ]
  },
  {
   "cell_type": "code",
   "execution_count": null,
   "id": "7fb4cdbf",
   "metadata": {
    "execution": {
     "iopub.execute_input": "2023-12-07T08:26:49.613843Z",
     "iopub.status.busy": "2023-12-07T08:26:49.613584Z",
     "iopub.status.idle": "2023-12-07T08:27:50.088288Z",
     "shell.execute_reply": "2023-12-07T08:27:50.087452Z"
    }
   },
   "outputs": [],
   "source": [
    "m = StackingBacktester(\n",
    "    estimators=estimators,\n",
    "    final_estimator=Mbj(positive=True),\n",
    "    ret=ret,\n",
    "    window=180,\n",
    "    min_periods=60,\n",
    ")\n",
    "\n",
    "m.train(features, target)\n",
    "pnls[\"ensemble_mbj_positive_long_window\"] = m.pnls_[\"ensemble\"]"
   ]
  },
  {
   "cell_type": "code",
   "execution_count": null,
   "id": "df1ccf45",
   "metadata": {
    "execution": {
     "iopub.execute_input": "2023-12-07T08:27:50.091771Z",
     "iopub.status.busy": "2023-12-07T08:27:50.091491Z",
     "iopub.status.idle": "2023-12-07T08:27:51.761050Z",
     "shell.execute_reply": "2023-12-07T08:27:51.760399Z"
    }
   },
   "outputs": [],
   "source": [
    "fig, ax = plt.subplots(1, 2, figsize=(20, 5))\n",
    "line(m.pnls_, cumsum=True, ax=ax[0], loc=\"best\")\n",
    "line(m.coef_, ax=ax[1], loc=\"best\")"
   ]
  },
  {
   "cell_type": "markdown",
   "id": "20ef47c8",
   "metadata": {},
   "source": [
    "Putting the different ensembles, we compare the pnls in the graph below "
   ]
  },
  {
   "cell_type": "code",
   "execution_count": null,
   "id": "83444eb7",
   "metadata": {
    "execution": {
     "iopub.execute_input": "2023-12-07T08:27:51.764454Z",
     "iopub.status.busy": "2023-12-07T08:27:51.764202Z",
     "iopub.status.idle": "2023-12-07T08:27:53.341349Z",
     "shell.execute_reply": "2023-12-07T08:27:53.340698Z"
    }
   },
   "outputs": [],
   "source": [
    "line(pnls[\"1950-02-01\":], cumsum=True)"
   ]
  }
 ],
 "metadata": {
  "hide_input": false,
  "kernelspec": {
   "display_name": "Python (skfin)",
   "language": "python",
   "name": "skfin"
  },
  "language_info": {
   "codemirror_mode": {
    "name": "ipython",
    "version": 3
   },
   "file_extension": ".py",
   "mimetype": "text/x-python",
   "name": "python",
   "nbconvert_exporter": "python",
   "pygments_lexer": "ipython3",
   "version": "3.8.16"
  },
  "toc": {
   "base_numbering": 1,
   "nav_menu": {},
   "number_sections": true,
   "sideBar": true,
   "skip_h1_title": false,
   "title_cell": "Table of Contents",
   "title_sidebar": "Contents",
   "toc_cell": false,
   "toc_position": {},
   "toc_section_display": true,
   "toc_window_display": false
  }
 },
 "nbformat": 4,
 "nbformat_minor": 5
}
