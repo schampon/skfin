{
 "cells": [
  {
   "cell_type": "markdown",
   "id": "b8c96844-ce98-4fc1-99d6-09099973ef14",
   "metadata": {},
   "source": [
    "# Understanding Portfolio Leverage: Techniques, Risks, and Optimization Constraints"
   ]
  },
  {
   "cell_type": "code",
   "execution_count": null,
   "id": "5706413c-ea4b-40d1-806e-4b31fa663dcc",
   "metadata": {
    "editable": true,
    "execution": {
     "iopub.execute_input": "2025-09-29T15:44:50.894980Z",
     "iopub.status.busy": "2025-09-29T15:44:50.894721Z",
     "iopub.status.idle": "2025-09-29T15:44:52.833401Z",
     "shell.execute_reply": "2025-09-29T15:44:52.832824Z"
    },
    "slideshow": {
     "slide_type": ""
    },
    "tags": []
   },
   "outputs": [],
   "source": [
    "# hide\n",
    "%load_ext autoreload\n",
    "%autoreload 2\n",
    "%matplotlib inline\n",
    "\n",
    "import random\n",
    "\n",
    "import numpy as np\n",
    "import pandas as pd\n",
    "from matplotlib import pyplot as plt\n",
    "\n",
    "from skfin.backtesting import Backtester\n",
    "from skfin.datasets_ import load_kf_returns\n",
    "from skfin.mv_estimators import MeanVariance\n",
    "from skfin.plot import bar, line\n",
    "\n",
    "import logging\n",
    "\n",
    "logging.getLogger(\"skfin.datasets\").setLevel(level=logging.CRITICAL)\n",
    "\n",
    "returns_data = load_kf_returns(cache_dir=\"data\")\n",
    "ret = returns_data[\"Monthly\"][\"Average_Value_Weighted_Returns\"][:\"1999\"]\n",
    "\n",
    "transform_X = lambda x: x.rolling(12).mean()\n",
    "transform_y = lambda x: x.shift(-1)\n",
    "features = transform_X(ret)\n",
    "target = transform_y(ret)"
   ]
  },
  {
   "cell_type": "markdown",
   "id": "12cf63a2-771b-469e-ac26-6c1cf68e0b01",
   "metadata": {},
   "source": [
    "## Methods of Implementing Leverage"
   ]
  },
  {
   "cell_type": "markdown",
   "id": "f2f8660a-7940-4d4d-b42e-25f801dd9685",
   "metadata": {
    "editable": true,
    "slideshow": {
     "slide_type": ""
    },
    "tags": []
   },
   "source": [
    "Portfolio leverage refers to the use of various financial techniques and instruments to amplify the potential returns of an investment portfolio. Essentially, it involves borrowing funds or using derivative instruments to increase the size of a position beyond the actual capital invested. This approach allows investors to potentially enhance returns, but it also increases risk, as the potential for losses is also magnified.\n",
    "\n",
    "Leverage can be achieved through several means, including:\n",
    "\n",
    "1. Margin Trading: Borrowing money from a broker to buy more securities than one could with available cash alone.\n",
    "1. Derivatives: Using instruments like options, futures, and swaps that provide exposure to an underlying asset at a fraction of the asset’s cost.\n",
    "1. Borrowing: Taking out loans to invest more capital into the portfolio.\n",
    "1. Short Selling: Borrowing securities to sell them with the aim of buying them back at a lower price.\n",
    "\n",
    "While leverage can increase the profitability of winning investments, it can lead to significant losses if the market moves against the leveraged position. Risk management is all the more important when leverage is high. "
   ]
  },
  {
   "cell_type": "markdown",
   "id": "1dfe86c3-91f6-4d17-993b-e1acd43db9b7",
   "metadata": {},
   "source": [
    "For example, we go back to the industry momentum backtest and measure the leverage of the strategy. "
   ]
  },
  {
   "cell_type": "code",
   "execution_count": null,
   "id": "a91f7e1a-96ab-4e9e-9a23-b3e2564dcef9",
   "metadata": {
    "editable": true,
    "execution": {
     "iopub.execute_input": "2025-09-29T15:44:52.835845Z",
     "iopub.status.busy": "2025-09-29T15:44:52.835378Z",
     "iopub.status.idle": "2025-09-29T15:44:53.171285Z",
     "shell.execute_reply": "2025-09-29T15:44:53.170776Z"
    },
    "slideshow": {
     "slide_type": ""
    },
    "tags": []
   },
   "outputs": [],
   "source": [
    "m0 = (\n",
    "    Backtester(MeanVariance(risk_target=1), name=\"baseline\")\n",
    "    .compute_holdings(features, target)\n",
    "    .compute_pnl(ret)\n",
    ")\n",
    "line(\n",
    "    m0.h_.abs().sum(axis=1).rename(\"leverage\"),\n",
    "    title=\"Industry momentum: leverage\",\n",
    "    legend=False,\n",
    ")"
   ]
  },
  {
   "cell_type": "markdown",
   "id": "85b6ac81-4827-4477-affd-2f85c3883f65",
   "metadata": {},
   "source": [
    "## Leverage-aware optimisation "
   ]
  },
  {
   "cell_type": "markdown",
   "id": "5873f6fc-30ec-436b-b65b-639f5777c16b",
   "metadata": {},
   "source": [
    "With the same previous protfolio setup (universe is made of $N$ assets, $r$ is a vector of returns for each asset, $\\alpha$ is the asset return forecast: $\\alpha = E(r)$ and $V$ is the return covariance matrix that measures that correlation between each asset: $V = Var(r)$), we add a leverage constraint: \n",
    "\n",
    "\n",
    "$$U = h^T \\alpha - \\frac{h^T V h}{2 \\lambda} - \\eta \\sum_n | h_n |,$$\n",
    "\n",
    "where $\\lambda$ is the risk-tolerance and $\\eta$ is a measure of the cost of leverage. The leverage metric is an L1-norm $||h ||_1 = \\sum_n | h_n |$. "
   ]
  },
  {
   "cell_type": "code",
   "execution_count": null,
   "id": "b21ffa00-a801-49a0-be11-4cd40c67da5f",
   "metadata": {
    "editable": true,
    "execution": {
     "iopub.execute_input": "2025-09-29T15:44:53.173436Z",
     "iopub.status.busy": "2025-09-29T15:44:53.173119Z",
     "iopub.status.idle": "2025-09-29T15:44:53.217302Z",
     "shell.execute_reply": "2025-09-29T15:44:53.216821Z"
    },
    "slideshow": {
     "slide_type": ""
    },
    "tags": []
   },
   "outputs": [],
   "source": [
    "%%writefile ../skfin/mv_estimators_with_leverage.py\n",
    "import cvxpy as cp\n",
    "import numpy as np\n",
    "from dataclasses import dataclass\n",
    "from typing import Optional\n",
    "from skfin.mv_estimators import MeanVariance\n",
    "\n",
    "def compute_holdings_with_leverage(\n",
    "    pred, V, A=None, risk_target=None, leverage_target=None\n",
    "):\n",
    "    \"\"\"\n",
    "    Optimize the array h to maximize np.sum(h * pred) under specified constraints.\n",
    "\n",
    "    Parameters:\n",
    "    - pred (numpy.array): A 1D array representing the predicted returns.\n",
    "    - V (numpy.array): A 2D covariance matrix of returns.\n",
    "    - leverage_target (float): The desired leverage, defined as the sum of absolute values of h.\n",
    "\n",
    "    Returns:\n",
    "    - numpy.array: The optimal array h that maximizes the objective under the constraints.\n",
    "    \"\"\"\n",
    "    n = len(pred)\n",
    "\n",
    "    # Define the optimization variable\n",
    "    h = cp.Variable(n)\n",
    "\n",
    "    # Objective function: maximize the sum of element-wise multiplication of h and pred\n",
    "    objective = cp.Maximize(cp.sum(h @ pred))\n",
    "\n",
    "    # Constraints\n",
    "    constraints = []\n",
    "    if A is not None:\n",
    "        constraints += [h.T @ A == 0]\n",
    "    if risk_target is not None:\n",
    "        constraints += [\n",
    "            cp.quad_form(h, V) <= risk_target\n",
    "        ]  # Ensures the quadratic form (h^T V h) is 1\n",
    "    if leverage_target is not None:\n",
    "        constraints += [\n",
    "            cp.norm(h, 1) <= leverage_target\n",
    "        ]  # Ensures the sum of absolute values of h equals leverage_target\n",
    "\n",
    "    # Create and solve the problem\n",
    "    problem = cp.Problem(objective, constraints)\n",
    "    problem.solve(solver=cp.SCS, eps=1e-9, max_iters=10000, verbose=False)\n",
    "    problem.solve()\n",
    "\n",
    "    # Retrieve the optimal value for h\n",
    "    h_value = h.value\n",
    "\n",
    "    return h_value\n",
    "\n",
    "\n",
    "@dataclass\n",
    "class MeanVarianceWithLeverage(MeanVariance):\n",
    "    \"\"\"\n",
    "    Mean-variance optimization estimator with leverage constraints.\n",
    "\n",
    "    Attributes:\n",
    "        leverage_target (Optional[float]): Leverage target for the portfolio.\n",
    "    \"\"\"\n",
    "\n",
    "    leverage_target: Optional[float] = None\n",
    "\n",
    "    def __post_init__(self):\n",
    "        \"\"\"\n",
    "        Post-initialization to update holdings keyword arguments.\n",
    "        \"\"\"\n",
    "        self.holdings_kwargs = {\n",
    "            \"risk_target\": self.risk_target,\n",
    "            \"leverage_target\": self.leverage_target,\n",
    "        }\n",
    "\n",
    "    @staticmethod\n",
    "    def compute_batch_holdings(pred, V, A, **kwargs):\n",
    "        \"\"\"\n",
    "        Compute portfolio holdings considering leverage.\n",
    "\n",
    "        Parameters:\n",
    "            pred (np.ndarray): Predicted returns (squeezed for computation).\n",
    "            V (np.ndarray): Covariance matrix.\n",
    "            A (np.ndarray): Constraint matrix.\n",
    "            **kwargs: Additional keyword arguments.\n",
    "\n",
    "        Returns:\n",
    "            np.ndarray: Portfolio holdings considering leverage.\n",
    "        \"\"\"\n",
    "        pred = pred.squeeze()  # Squeeze prediction array for computation\n",
    "        h = compute_holdings_with_leverage(pred, V, A, **kwargs)\n",
    "        return h[:, np.newaxis].T"
   ]
  },
  {
   "cell_type": "code",
   "execution_count": null,
   "id": "67a42c99-a816-43f6-a8ac-bd228f5dd03a",
   "metadata": {
    "execution": {
     "iopub.execute_input": "2025-09-29T15:44:53.219110Z",
     "iopub.status.busy": "2025-09-29T15:44:53.218817Z",
     "iopub.status.idle": "2025-09-29T15:44:54.095355Z",
     "shell.execute_reply": "2025-09-29T15:44:54.094800Z"
    }
   },
   "outputs": [],
   "source": [
    "from skfin.mv_estimators_with_leverage import MeanVarianceWithLeverage\n",
    "\n",
    "for train, test in m0.cv_.split(features):\n",
    "    m = MeanVariance()\n",
    "    m.fit(features.values[train], target.values[train])\n",
    "    h0 = m.predict(features.values[test])\n",
    "\n",
    "    m_ = MeanVarianceWithLeverage(leverage_target=1)\n",
    "    m_.fit(features.values[train], target.values[train])\n",
    "    h = m_.predict(features.values[test], leverage_target=1)\n",
    "    break\n",
    "\n",
    "df = pd.DataFrame(\n",
    "    {\"baseline\": h0.squeeze(), \"leverage=1\": h.squeeze()}, index=features.columns\n",
    ")\n",
    "\n",
    "print(\n",
    "    f\"Correlation between unconstrained and unit-leverage holdings : {df.corr().iloc[0, 1]:.2f}\"\n",
    ")"
   ]
  },
  {
   "cell_type": "markdown",
   "id": "aee5a489-fa4e-491e-8035-c450dd18317a",
   "metadata": {},
   "source": [
    "The following graph shows that with a leverage constraint, some positions are exactly equal to zero (while these positions would be non-zero with no leverage constraint). This is similar to zero-coefficients in a Lasso regression. "
   ]
  },
  {
   "cell_type": "code",
   "execution_count": null,
   "id": "45b7baad-ee48-42a0-be94-c835b2a3ed0e",
   "metadata": {
    "editable": true,
    "execution": {
     "iopub.execute_input": "2025-09-29T15:44:54.097477Z",
     "iopub.status.busy": "2025-09-29T15:44:54.097110Z",
     "iopub.status.idle": "2025-09-29T15:44:54.252783Z",
     "shell.execute_reply": "2025-09-29T15:44:54.252247Z"
    },
    "slideshow": {
     "slide_type": ""
    },
    "tags": []
   },
   "outputs": [],
   "source": [
    "fig, ax = plt.subplots(1, 1, figsize=(8, 5))\n",
    "\n",
    "cols = list(df.columns)\n",
    "idx = list(df.index)\n",
    "\n",
    "ax.scatter(df.iloc[:, 0].values, df.iloc[:, 1].values)\n",
    "ax.set_xlabel(cols[0])\n",
    "ax.set_ylabel(cols[1])\n",
    "xshift, yshift, rotation = 0.01, 0, 0\n",
    "for i, txt in enumerate(idx):\n",
    "    ax.text(\n",
    "        df.iloc[i, 0] + xshift,\n",
    "        df.iloc[i, 1] + yshift,\n",
    "        txt,\n",
    "        fontsize=12,\n",
    "        rotation=rotation,\n",
    "    )"
   ]
  },
  {
   "cell_type": "code",
   "execution_count": null,
   "id": "64f55691-bbbd-4735-95a6-b8ae47be9b5d",
   "metadata": {
    "editable": true,
    "execution": {
     "iopub.execute_input": "2025-09-29T15:44:54.254765Z",
     "iopub.status.busy": "2025-09-29T15:44:54.254430Z",
     "iopub.status.idle": "2025-09-29T15:45:05.082668Z",
     "shell.execute_reply": "2025-09-29T15:45:05.082100Z"
    },
    "slideshow": {
     "slide_type": ""
    },
    "tags": []
   },
   "outputs": [],
   "source": [
    "%%time \n",
    "m = Backtester(estimator=MeanVarianceWithLeverage(leverage_target=1), name=\"Leverage=1\")\n",
    "pnl_ = m.train(features, target, ret)"
   ]
  },
  {
   "cell_type": "markdown",
   "id": "c16059c9-55e3-4582-907d-146a01419906",
   "metadata": {},
   "source": [
    "In this case, adding the leverage constraint slightly improves the Sharpe ratio (while decreasing the realized risk)."
   ]
  },
  {
   "cell_type": "code",
   "execution_count": null,
   "id": "68e0090f-bd2a-493d-93d9-6b95bea2b8bf",
   "metadata": {
    "execution": {
     "iopub.execute_input": "2025-09-29T15:45:05.084705Z",
     "iopub.status.busy": "2025-09-29T15:45:05.084360Z",
     "iopub.status.idle": "2025-09-29T15:45:05.857672Z",
     "shell.execute_reply": "2025-09-29T15:45:05.857161Z"
    }
   },
   "outputs": [],
   "source": [
    "line(pd.concat([m0.pnl_, m.pnl_], axis=1), cumsum=True)"
   ]
  },
  {
   "cell_type": "code",
   "execution_count": null,
   "id": "33d4190e-4d95-46f7-92cd-f2b49330c07c",
   "metadata": {
    "editable": true,
    "execution": {
     "iopub.execute_input": "2025-09-29T15:45:05.859574Z",
     "iopub.status.busy": "2025-09-29T15:45:05.859257Z",
     "iopub.status.idle": "2025-09-29T15:45:06.016038Z",
     "shell.execute_reply": "2025-09-29T15:45:06.015514Z"
    },
    "slideshow": {
     "slide_type": ""
    },
    "tags": []
   },
   "outputs": [],
   "source": [
    "line(\n",
    "    {\"baseline\": m0.h_.abs().sum(axis=1), \"leverage=1\": m.h_.abs().sum(axis=1)},\n",
    "    title=\"Leverage comparison\",\n",
    ")"
   ]
  },
  {
   "cell_type": "markdown",
   "id": "c2332909-db7d-484b-b954-6970f1af7e66",
   "metadata": {},
   "source": [
    "The graph above shows that the proportion of zero holdings with a leverage constraint is significant for all periods. "
   ]
  },
  {
   "cell_type": "code",
   "execution_count": null,
   "id": "461923e7-b8df-4c7e-a748-21b2445da818",
   "metadata": {
    "editable": true,
    "execution": {
     "iopub.execute_input": "2025-09-29T15:45:06.017958Z",
     "iopub.status.busy": "2025-09-29T15:45:06.017670Z",
     "iopub.status.idle": "2025-09-29T15:45:06.172968Z",
     "shell.execute_reply": "2025-09-29T15:45:06.172455Z"
    },
    "slideshow": {
     "slide_type": ""
    },
    "tags": []
   },
   "outputs": [],
   "source": [
    "line(\n",
    "    m.h_.pipe(lambda x: x.abs().le(1e-4)).mean(axis=1),\n",
    "    legend=False,\n",
    "    title=\"Proportion of zero holdings with a leverage constraint\",\n",
    ")"
   ]
  }
 ],
 "metadata": {
  "kernelspec": {
   "display_name": "skfin 2024",
   "language": "python",
   "name": "skfin"
  },
  "language_info": {
   "codemirror_mode": {
    "name": "ipython",
    "version": 3
   },
   "file_extension": ".py",
   "mimetype": "text/x-python",
   "name": "python",
   "nbconvert_exporter": "python",
   "pygments_lexer": "ipython3",
   "version": "3.9.20"
  },
  "toc": {
   "base_numbering": 1
  }
 },
 "nbformat": 4,
 "nbformat_minor": 5
}
