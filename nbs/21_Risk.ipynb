{
 "cells": [
  {
   "cell_type": "markdown",
   "id": "689cb3f3",
   "metadata": {},
   "source": [
    "# Risk"
   ]
  },
  {
   "cell_type": "code",
   "execution_count": null,
   "id": "bd46a36c",
   "metadata": {
    "execution": {
     "iopub.execute_input": "2024-11-07T16:57:19.447583Z",
     "iopub.status.busy": "2024-11-07T16:57:19.447163Z",
     "iopub.status.idle": "2024-11-07T16:57:21.400829Z",
     "shell.execute_reply": "2024-11-07T16:57:21.400130Z"
    }
   },
   "outputs": [],
   "source": [
    "# hide\n",
    "%load_ext autoreload\n",
    "%autoreload 2\n",
    "%matplotlib inline\n",
    "\n",
    "import logging\n",
    "from pathlib import Path\n",
    "\n",
    "import numpy as np\n",
    "import pandas as pd\n",
    "from IPython.display import Image, display\n",
    "from matplotlib import pyplot as plt\n",
    "from tqdm.auto import tqdm\n",
    "\n",
    "logging.basicConfig(level=logging.CRITICAL)\n",
    "\n",
    "from lightgbm.sklearn import LGBMRegressor\n",
    "from skfin.backtesting import Backtester\n",
    "from skfin.datasets import load_kf_returns\n",
    "from skfin.estimators import MLPRegressor, MultiOutputRegressor, RidgeCV\n",
    "from skfin.metrics import sharpe_ratio\n",
    "from skfin.mv_estimators import MeanVariance\n",
    "from skfin.plot import *\n",
    "from sklearn.pipeline import make_pipeline\n",
    "from sklearn.preprocessing import PolynomialFeatures, StandardScaler\n",
    "\n",
    "returns_data = load_kf_returns(cache_dir=\"data\")\n",
    "ret = returns_data[\"Monthly\"][\"Average_Value_Weighted_Returns\"][:\"1999\"]\n",
    "\n",
    "transform_X = lambda x: x.rolling(12).mean().fillna(0)\n",
    "transform_y = lambda x: x.shift(-1)\n",
    "features = transform_X(ret)\n",
    "target = transform_y(ret)"
   ]
  },
  {
   "attachments": {},
   "cell_type": "markdown",
   "id": "dfed8543-1937-4854-977e-f35594a79c42",
   "metadata": {},
   "source": [
    "A key ingredient of portfolio construction is the ability to predict portfolio risk (in particular, with a risk-model) to be able to properly size the positions. \n",
    "\n",
    "In this section, we discuss different ways to estimate risk. More precisely, for the empirical covariance matrix $V$, there might be transformation $\\Phi: V \\mapsto V_{\\Phi}$ that improve the forward-looking estimates (and the portfolio construction). For a given portfolio $h_{\\Phi}$ using the covariance $V_{\\Phi}$, the metric that we use is the `risk-bias` given by \n",
    "\n",
    "$$ \\text {RiskBias}_{\\Phi}  = Std \\left[\\frac{h_{\\Phi}^T r}{\\sqrt{h^T V_{\\Phi} h }} \\right] -1 , $$\n",
    "where the variance is evaluated over empirical returns. "
   ]
  },
  {
   "cell_type": "code",
   "execution_count": null,
   "id": "099c2b5e-6adf-4dde-8280-2d72e9a95e10",
   "metadata": {
    "execution": {
     "iopub.execute_input": "2024-11-07T16:57:21.403812Z",
     "iopub.status.busy": "2024-11-07T16:57:21.403400Z",
     "iopub.status.idle": "2024-11-07T16:57:21.431897Z",
     "shell.execute_reply": "2024-11-07T16:57:21.431229Z"
    }
   },
   "outputs": [],
   "source": [
    "# hide\n",
    "display(Image(\"images/ledoit_2004.png\", width=600))"
   ]
  },
  {
   "cell_type": "markdown",
   "id": "b52d796c-6b73-4fdd-b741-d2e65beef4eb",
   "metadata": {},
   "source": [
    "The insight of Ledoit and Wolf (2004) is to use a weighted average of two matrices to reduce estimation error\n",
    "\n",
    "- the empirical covariance matrix $V$ is asymptotically an unbiased estimated – but with a slow convergence for small samples\n",
    "\n",
    "- there are biased estimators but with a faster rate of convergence –- for instance the diagonal $Diag(V)$ of $V$ -- and on smaller samples, such biased estimators can be more efficient than the unbiased ones\n",
    "\n",
    "- The covariance matrix used in the portfolio optimisation is \n",
    "\n",
    "$$V_{\\omega} = \\omega \\times Diag(V) + (1-\\omega) \\times V.$$\n",
    "\n",
    "How to determine $\\omega$? Ledoit and Wolf (2004) minimize a norm that applies to matrices (Frobenius norm). In what follows, we test different shrinkage values. "
   ]
  },
  {
   "cell_type": "markdown",
   "id": "de740c9d",
   "metadata": {},
   "source": [
    "## Risk in the industry momentum backtest"
   ]
  },
  {
   "cell_type": "code",
   "execution_count": null,
   "id": "5d3024d7",
   "metadata": {
    "execution": {
     "iopub.execute_input": "2024-11-07T16:57:21.434332Z",
     "iopub.status.busy": "2024-11-07T16:57:21.433875Z",
     "iopub.status.idle": "2024-11-07T16:57:21.455098Z",
     "shell.execute_reply": "2024-11-07T16:57:21.454577Z"
    }
   },
   "outputs": [],
   "source": [
    "from skfin.metrics import drawdown, sharpe_ratio"
   ]
  },
  {
   "cell_type": "markdown",
   "id": "7a17de38",
   "metadata": {},
   "source": [
    "We first compute the Industry momentum benchmark. "
   ]
  },
  {
   "cell_type": "code",
   "execution_count": null,
   "id": "fbf6fd98",
   "metadata": {
    "execution": {
     "iopub.execute_input": "2024-11-07T16:57:21.457143Z",
     "iopub.status.busy": "2024-11-07T16:57:21.456885Z",
     "iopub.status.idle": "2024-11-07T16:57:21.665406Z",
     "shell.execute_reply": "2024-11-07T16:57:21.664702Z"
    }
   },
   "outputs": [],
   "source": [
    "m = Backtester(MeanVariance()).compute_holdings(features, target).compute_pnl(ret)\n",
    "h0, pnl0, estimators0 = m.h_, m.pnl_, m.estimators_"
   ]
  },
  {
   "cell_type": "code",
   "execution_count": null,
   "id": "24235cb3",
   "metadata": {
    "execution": {
     "iopub.execute_input": "2024-11-07T16:57:21.668064Z",
     "iopub.status.busy": "2024-11-07T16:57:21.667751Z",
     "iopub.status.idle": "2024-11-07T16:57:22.052965Z",
     "shell.execute_reply": "2024-11-07T16:57:22.052357Z"
    }
   },
   "outputs": [],
   "source": [
    "fig, ax = plt.subplots(1, 2, figsize=(16, 5))\n",
    "line(\n",
    "    pnl0.rename(\"Industry momentum\"),\n",
    "    cumsum=True,\n",
    "    loc=\"best\",\n",
    "    title=\"Cumulative pnl\",\n",
    "    ax=ax[0],\n",
    ")\n",
    "line(\n",
    "    pnl0.rolling(36).std().mul(np.sqrt(12)),\n",
    "    title=\"Annualized risk\",\n",
    "    legend=False,\n",
    "    ax=ax[1],\n",
    ")"
   ]
  },
  {
   "cell_type": "markdown",
   "id": "a594889c-f75a-45ae-9fe9-d8b1e75d5fbe",
   "metadata": {},
   "source": [
    "The definition of a drawdown (in unit of annualized risk) is: \n",
    "    \n",
    "$$ dd_t = \\frac{\\sum_{s=0}^{s=t} pnl_s - Max_{\\tau}\\left(\\sum_{s=0}^{s=\\tau} pnl_s \\right)}{annualized\\_factor \\times \\sqrt{Var[pnl_s|s \\leq t]} }.$$"
   ]
  },
  {
   "cell_type": "code",
   "execution_count": null,
   "id": "8ec7aebf",
   "metadata": {
    "execution": {
     "iopub.execute_input": "2024-11-07T16:57:22.055308Z",
     "iopub.status.busy": "2024-11-07T16:57:22.055017Z",
     "iopub.status.idle": "2024-11-07T16:57:22.201140Z",
     "shell.execute_reply": "2024-11-07T16:57:22.200527Z"
    }
   },
   "outputs": [],
   "source": [
    "line(\n",
    "    pnl0.pipe(drawdown),\n",
    "    title=\"Drawdown in unit of annualized risk\",\n",
    "    legend=False,\n",
    "    figsize=(8, 5),\n",
    ")"
   ]
  },
  {
   "cell_type": "markdown",
   "id": "b1500410-6dc1-4a99-81ca-92cc8b96f1d4",
   "metadata": {},
   "source": [
    "The followning graph shows that on the period up to 2000, large absolute returns tend to be positive. It turns out that in the following period, the pnl of Momentum becomes left-skewed with large negative returns. For instance, February/March 2009 is a famous example of a Momentum drawdown. "
   ]
  },
  {
   "cell_type": "code",
   "execution_count": null,
   "id": "a99705d6",
   "metadata": {
    "execution": {
     "iopub.execute_input": "2024-11-07T16:57:22.203416Z",
     "iopub.status.busy": "2024-11-07T16:57:22.203140Z",
     "iopub.status.idle": "2024-11-07T16:57:22.323800Z",
     "shell.execute_reply": "2024-11-07T16:57:22.323197Z"
    }
   },
   "outputs": [],
   "source": [
    "line(\n",
    "    pnl0.rename(\"pnl\")\n",
    "    .to_frame()\n",
    "    .assign(pnl_abs=lambda x: x.pnl.abs())\n",
    "    .sort_values(\"pnl_abs\")\n",
    "    .reset_index(drop=True)[\"pnl\"],\n",
    "    cumsum=True,\n",
    "    title=\"Cumulative returns sorted by absolute monthly return\",\n",
    "    legend_sharpe_ratio=False,\n",
    ")"
   ]
  },
  {
   "cell_type": "markdown",
   "id": "4aa21343",
   "metadata": {},
   "source": [
    "## Return covariance eigenvalues"
   ]
  },
  {
   "cell_type": "markdown",
   "id": "8abbc62b",
   "metadata": {},
   "source": [
    "The risk-model is defined here as the covariance of returns $V$. To understand its impact on the backtest, it is important to remember that in the mean-variance optimisation, it is the inverse of the covariance matrix $V^{-1}$ that is used. \n",
    "\n",
    "Viewed from the point of view of a singular value decomposition, the smallest eigenvalues of $V$ are not only estimated with noise, but their impact is magnified in $V^{-1}$, leading to potentially significant noise in the estimate of positions. "
   ]
  },
  {
   "cell_type": "code",
   "execution_count": null,
   "id": "dd668b11-2fb0-444b-aef4-797c52ff65f2",
   "metadata": {
    "execution": {
     "iopub.execute_input": "2024-11-07T16:57:22.326167Z",
     "iopub.status.busy": "2024-11-07T16:57:22.325778Z",
     "iopub.status.idle": "2024-11-07T16:57:22.349863Z",
     "shell.execute_reply": "2024-11-07T16:57:22.349320Z"
    }
   },
   "outputs": [],
   "source": [
    "for train, test in m.cv_.split(ret):\n",
    "    break\n",
    "\n",
    "u, s, _ = np.linalg.svd(ret.iloc[train].cov())"
   ]
  },
  {
   "cell_type": "markdown",
   "id": "c4daefbb",
   "metadata": {},
   "source": [
    "The graph below shows that the largest eigenvalue is two-order of magnitude larger than the smallest one. "
   ]
  },
  {
   "cell_type": "code",
   "execution_count": null,
   "id": "9614dba2",
   "metadata": {
    "execution": {
     "iopub.execute_input": "2024-11-07T16:57:22.352053Z",
     "iopub.status.busy": "2024-11-07T16:57:22.351681Z",
     "iopub.status.idle": "2024-11-07T16:57:22.615807Z",
     "shell.execute_reply": "2024-11-07T16:57:22.615171Z"
    }
   },
   "outputs": [],
   "source": [
    "df = pd.Series(s, np.arange(1, 13))\n",
    "scatter(\n",
    "    df,\n",
    "    xscale=\"log\",\n",
    "    yscale=\"log\",\n",
    "    xlabel=\"Eigenvalue (log scale)\",\n",
    "    ylabel=\"Rank (log scale)\",\n",
    "    xticks=[1, 2, 4, 8, 16],\n",
    "    yticks=[0.1, 1, 10, 100],\n",
    "    title=\"Distribution of return covariance eigenvalues\",\n",
    ")"
   ]
  },
  {
   "cell_type": "code",
   "execution_count": null,
   "id": "f2465c26",
   "metadata": {
    "execution": {
     "iopub.execute_input": "2024-11-07T16:57:22.618224Z",
     "iopub.status.busy": "2024-11-07T16:57:22.617767Z",
     "iopub.status.idle": "2024-11-07T16:57:22.643813Z",
     "shell.execute_reply": "2024-11-07T16:57:22.643228Z"
    }
   },
   "outputs": [],
   "source": [
    "print(f\"The ratio of the largest to the smallest eigenvalue is {s[0]/s[-1]:.1f}\")"
   ]
  },
  {
   "cell_type": "code",
   "execution_count": null,
   "id": "00f8b487-c58a-4090-862b-95f5e90fa55b",
   "metadata": {
    "execution": {
     "iopub.execute_input": "2024-11-07T16:57:22.645976Z",
     "iopub.status.busy": "2024-11-07T16:57:22.645595Z",
     "iopub.status.idle": "2024-11-07T16:57:22.965442Z",
     "shell.execute_reply": "2024-11-07T16:57:22.964862Z"
    }
   },
   "outputs": [],
   "source": [
    "d = {'largest eigenvalue': pd.Series(u[:, 0]/np.sign(np.mean(u[:, 0])), ret.columns), \n",
    "     'smallest eigenvalue': pd.Series(u[:, -1]/np.sign(np.mean(u[:, 1])), ret.columns)}\n",
    "fig, ax = plt.subplots(1, 2, figsize=(20, 6))\n",
    "fig.suptitle('Eigvectors', y=.95)\n",
    "for i, (k, v) in enumerate(d.items()): \n",
    "    bar(v, title=k, ax=ax[i])"
   ]
  },
  {
   "cell_type": "markdown",
   "id": "57cd186f-63d0-47ff-8625-e2b73f8fe4d7",
   "metadata": {},
   "source": [
    "**Lemma**: the eigenvector associated to the largest eigenvalue maximizes $u^T V u$ such that $u^T u = 1$. \n",
    "\n",
    "*Proof*. Introducing the Lagrange multiplier $\\xi$ on the constraint, the first-order condition is \n",
    "\n",
    "$$ V u = \\xi u, $$\n",
    "\n",
    "so that $u$ is an eigenvector and the value of the objective is the eigenvalue associated to $u$. So the objective is maximized for the largest eigenvalue. \n",
    "\n",
    "\n",
    "**Corollary**:  the eigenvector associated to the smallest eigenvalue minimizes $u^T V u$ such that $u^T u = 1$. "
   ]
  },
  {
   "cell_type": "markdown",
   "id": "4dcf6b03-d2cd-45c1-bc97-52d6ac027494",
   "metadata": {},
   "source": [
    "The Lemma and corollary above show that the eigenvalues measure the *in-sample* variance of a mode. But how well does the in-sample variance predicts the out-of-sample variance? \n",
    "\n",
    "To test assess this point, we construct the pnls of modes (defined as the portfolio with the eigenvectors as positions), normalized by the ex-ante standard deviation (as the square-root of the eigenvalue) and signed so that the in-sample pnl is positive.  "
   ]
  },
  {
   "cell_type": "code",
   "execution_count": null,
   "id": "257c4e68-eb44-4eed-bfbc-7fb09b1e2ae5",
   "metadata": {
    "execution": {
     "iopub.execute_input": "2024-11-07T16:57:22.967897Z",
     "iopub.status.busy": "2024-11-07T16:57:22.967447Z",
     "iopub.status.idle": "2024-11-07T16:57:24.052307Z",
     "shell.execute_reply": "2024-11-07T16:57:24.051443Z"
    }
   },
   "outputs": [],
   "source": [
    "mode_pnl = []\n",
    "for train, test in m.cv_.split(ret):\n",
    "    V_ = ret.iloc[train].cov()\n",
    "    u, s, _ = np.linalg.svd(V_)\n",
    "    mu = ret.iloc[train].dot(u).mean()\n",
    "    mode_pnl +=[ret.iloc[test].dot(u).mul(np.sign(mu)).div(np.sqrt(s))]\n",
    "mode_pnl = pd.concat(mode_pnl)"
   ]
  },
  {
   "cell_type": "markdown",
   "id": "05a4e1bd-6504-4127-8f4e-ce5cefa04d89",
   "metadata": {},
   "source": [
    "The graph below shows the out-of-sample risk of each mode pnl which has been rescaled to unit ex-ante risk (so that the natural baseline is 1). This metric is called a `risk bias` and will be defined formally in the next section. We see that for the first largest modes, the risk bias is close to 1, so that the ex-ante risk measures well the out-of-sample risk. However, for the smallest modes, this ex-ante meausre is completely off. For the smallest modes, the positions \"overfit\" information from the covariance matrix (in particular the correlation) and it is intuitive that the small in-sample risk estimates mean-revert to larger out-of-sample volatility.  "
   ]
  },
  {
   "cell_type": "code",
   "execution_count": null,
   "id": "b3968edb-841d-4856-a873-c2c8826dd85d",
   "metadata": {
    "execution": {
     "iopub.execute_input": "2024-11-07T16:57:24.055530Z",
     "iopub.status.busy": "2024-11-07T16:57:24.054985Z",
     "iopub.status.idle": "2024-11-07T16:57:24.186081Z",
     "shell.execute_reply": "2024-11-07T16:57:24.185498Z"
    }
   },
   "outputs": [],
   "source": [
    "bar(mode_pnl.std(), sort=False, title=\"Covariance mode risk bias\")"
   ]
  },
  {
   "cell_type": "markdown",
   "id": "f59b0697-f2ad-4af7-8201-e58e80151f36",
   "metadata": {},
   "source": [
    "In the next section, we discuss techniques to regularize the covariance matrix so that the risk estimates are better at forecasting out-of-sample volatility. We also test whether better risk estimates lead to higher sharpe ratio. "
   ]
  },
  {
   "cell_type": "code",
   "execution_count": null,
   "id": "82b984ee-c3c0-4090-a1b0-54c844f5aa36",
   "metadata": {
    "execution": {
     "iopub.execute_input": "2024-11-07T16:57:24.188558Z",
     "iopub.status.busy": "2024-11-07T16:57:24.188139Z",
     "iopub.status.idle": "2024-11-07T16:57:24.223874Z",
     "shell.execute_reply": "2024-11-07T16:57:24.223332Z"
    }
   },
   "outputs": [],
   "source": [
    "from sklearn.covariance import LedoitWolf, ShrunkCovariance\n"
   ]
  },
  {
   "cell_type": "markdown",
   "id": "6f150bb3-6111-4d3e-942c-ba371e4d9fad",
   "metadata": {},
   "source": [
    "$$ShrunkCovariance = (1 - shrinkage) * cov + shrinkage * mu * np.identity(n\\_features), $$\n",
    "\n",
    "where mu = trace(cov) / n_features"
   ]
  },
  {
   "cell_type": "code",
   "execution_count": null,
   "id": "889f94a9-9faa-493e-a5ff-f6b62d30a8ca",
   "metadata": {
    "execution": {
     "iopub.execute_input": "2024-11-07T16:57:24.226018Z",
     "iopub.status.busy": "2024-11-07T16:57:24.225777Z",
     "iopub.status.idle": "2024-11-07T16:57:24.262476Z",
     "shell.execute_reply": "2024-11-07T16:57:24.261950Z"
    }
   },
   "outputs": [],
   "source": [
    "S = {}\n",
    "U0 = {}\n",
    "for shrinkage in np.arange(0, 1.1, .1): \n",
    "    V_ = shrinkage * np.diag(np.diag(ret.iloc[train].cov())) + (1-shrinkage) * ret.iloc[train].cov()\n",
    "    u, s, _ = np.linalg.svd(V_)\n",
    "    S[shrinkage] = s \n",
    "    U0[shrinkage] = u[:, 0] * np.sign(np.mean(u[:, 0]))\n",
    "S = pd.DataFrame.from_dict(S, orient='index')\n",
    "U0 = pd.DataFrame.from_dict(U0, orient='index').rename(columns = {i: c for i, c in enumerate(ret.columns)})"
   ]
  },
  {
   "cell_type": "code",
   "execution_count": null,
   "id": "2f439efe-4bc0-49a5-aa12-6e243ca6419e",
   "metadata": {
    "execution": {
     "iopub.execute_input": "2024-11-07T16:57:24.264462Z",
     "iopub.status.busy": "2024-11-07T16:57:24.264238Z",
     "iopub.status.idle": "2024-11-07T16:57:24.417831Z",
     "shell.execute_reply": "2024-11-07T16:57:24.417242Z"
    }
   },
   "outputs": [],
   "source": [
    "line(S, title='Eigenvalues (x=0: no shrinkage; x=1: full shrinkage)')"
   ]
  },
  {
   "cell_type": "code",
   "execution_count": null,
   "id": "6d5469ee-96ad-4072-b295-f4c99fc055a8",
   "metadata": {
    "execution": {
     "iopub.execute_input": "2024-11-07T16:57:24.420012Z",
     "iopub.status.busy": "2024-11-07T16:57:24.419770Z",
     "iopub.status.idle": "2024-11-07T16:57:24.581361Z",
     "shell.execute_reply": "2024-11-07T16:57:24.580766Z"
    }
   },
   "outputs": [],
   "source": [
    "line(U0, title='Loadings of first mode (x=0: no shrinkage; x=1: full shrinkage)')"
   ]
  },
  {
   "cell_type": "code",
   "execution_count": null,
   "id": "f2f483f3-dc72-4bfd-a03f-45ca65203cfc",
   "metadata": {
    "execution": {
     "iopub.execute_input": "2024-11-07T16:57:24.583520Z",
     "iopub.status.busy": "2024-11-07T16:57:24.583277Z",
     "iopub.status.idle": "2024-11-07T16:57:24.744938Z",
     "shell.execute_reply": "2024-11-07T16:57:24.744354Z"
    }
   },
   "outputs": [],
   "source": [
    "line(U0, title='Loadings of first mode (x=0: no shrinkage; x=1: full shrinkage)')"
   ]
  },
  {
   "cell_type": "code",
   "execution_count": null,
   "id": "72ee3c19-430f-4f59-b0f4-61a6793e5a1b",
   "metadata": {
    "execution": {
     "iopub.execute_input": "2024-11-07T16:57:24.747128Z",
     "iopub.status.busy": "2024-11-07T16:57:24.746883Z",
     "iopub.status.idle": "2024-11-07T16:57:24.769961Z",
     "shell.execute_reply": "2024-11-07T16:57:24.769435Z"
    }
   },
   "outputs": [],
   "source": [
    "def simple_shrunk_covariance(x, shrinkage): \n",
    "    v = np.cov(x.T)\n",
    "    return shrinkage * np.diag(np.diag(v)) + (1-shrinkage) * v"
   ]
  },
  {
   "cell_type": "code",
   "execution_count": null,
   "id": "62c410f1-555c-4a23-940e-b2838a324696",
   "metadata": {
    "execution": {
     "iopub.execute_input": "2024-11-07T16:57:24.772010Z",
     "iopub.status.busy": "2024-11-07T16:57:24.771785Z",
     "iopub.status.idle": "2024-11-07T16:57:26.432909Z",
     "shell.execute_reply": "2024-11-07T16:57:26.432292Z"
    }
   },
   "outputs": [],
   "source": [
    "pnls = {}\n",
    "for shrinkage in [0, 0.01, 0.05, 0.1, 1]:\n",
    "    transform_V_ = lambda x: simple_shrunk_covariance(x, shrinkage=shrinkage)\n",
    "    estimator = MeanVariance(transform_V=transform_V_)\n",
    "    pnls[shrinkage] = Backtester(estimator).train(features, target, ret)\n",
    "line(\n",
    "    pnls, cumsum=True, title=\"Robustness for different value of the shrinkage parameter\"\n",
    ")"
   ]
  },
  {
   "cell_type": "code",
   "execution_count": null,
   "id": "479a929b-615d-482b-8293-5f020903dee9",
   "metadata": {
    "execution": {
     "iopub.execute_input": "2024-11-07T16:57:26.435205Z",
     "iopub.status.busy": "2024-11-07T16:57:26.434950Z",
     "iopub.status.idle": "2024-11-07T16:57:28.345940Z",
     "shell.execute_reply": "2024-11-07T16:57:28.345309Z"
    }
   },
   "outputs": [],
   "source": [
    "from sklearn.covariance import shrunk_covariance\n",
    "pnls = {}\n",
    "for shrinkage in [0, 0.01, 0.05, 0.1, 1]:\n",
    "    transform_V_ = lambda x: shrunk_covariance(np.cov(x.T), shrinkage=shrinkage)\n",
    "    estimator = MeanVariance(transform_V=transform_V_)\n",
    "    pnls[shrinkage] = Backtester(estimator).train(features, target, ret)\n",
    "line(\n",
    "    pnls, cumsum=True, title=\"Robustness for different value of the shrinkage parameter\"\n",
    ")"
   ]
  },
  {
   "cell_type": "code",
   "execution_count": null,
   "id": "d3759571-e7f5-4e0b-af01-a51edfb22e8c",
   "metadata": {
    "execution": {
     "iopub.execute_input": "2024-11-07T16:57:28.348224Z",
     "iopub.status.busy": "2024-11-07T16:57:28.347968Z",
     "iopub.status.idle": "2024-11-07T16:57:28.517403Z",
     "shell.execute_reply": "2024-11-07T16:57:28.516781Z"
    }
   },
   "outputs": [],
   "source": [
    "S = {}\n",
    "for shrinkage in np.arange(0, 1.01, .1): \n",
    "    V_ = ShrunkCovariance(shrinkage=shrinkage).fit(ret.iloc[train].cov()).covariance_\n",
    "    _, s, _ = np.linalg.svd(V_)\n",
    "    S[shrinkage] = s \n",
    "S = pd.DataFrame.from_dict(S, orient='index')\n",
    "\n",
    "line(S)"
   ]
  },
  {
   "cell_type": "markdown",
   "id": "9f44cfff-b332-4ad8-9ad8-1a2981d0444e",
   "metadata": {},
   "source": [
    "## Risk model estimation"
   ]
  },
  {
   "cell_type": "code",
   "execution_count": null,
   "id": "1f8b9c4b",
   "metadata": {
    "execution": {
     "iopub.execute_input": "2024-11-07T16:57:28.519643Z",
     "iopub.status.busy": "2024-11-07T16:57:28.519394Z",
     "iopub.status.idle": "2024-11-07T16:57:28.542333Z",
     "shell.execute_reply": "2024-11-07T16:57:28.541815Z"
    }
   },
   "outputs": [],
   "source": [
    "from sklearn.covariance import LedoitWolf, ShrunkCovariance"
   ]
  },
  {
   "cell_type": "markdown",
   "id": "bf812803",
   "metadata": {},
   "source": [
    "The default value of the `shrinkage` parameter for `ShrunkCovariance` is 0.1. When `shrinkage=0`, there is no shrinkage and when `shrinkage=1`, all the off-diagonal terms are set to zero and the covariance matrix is diagonal.   "
   ]
  },
  {
   "cell_type": "code",
   "execution_count": null,
   "id": "cddbcb58",
   "metadata": {
    "execution": {
     "iopub.execute_input": "2024-11-07T16:57:28.544388Z",
     "iopub.status.busy": "2024-11-07T16:57:28.544167Z",
     "iopub.status.idle": "2024-11-07T16:57:29.442969Z",
     "shell.execute_reply": "2024-11-07T16:57:29.442353Z"
    }
   },
   "outputs": [],
   "source": [
    "transform_V_ = lambda x: ShrunkCovariance(shrinkage=0.1).fit(x).covariance_\n",
    "m = (\n",
    "    Backtester(MeanVariance(transform_V=transform_V_))\n",
    "    .compute_holdings(features, target)\n",
    "    .compute_pnl(ret)\n",
    ")\n",
    "h, pnl, estimators = m.h_, m.pnl_, m.estimators_\n",
    "line({\"benchmark\": pnl0, \"shrunk covariance\": pnl}, cumsum=True)"
   ]
  },
  {
   "cell_type": "markdown",
   "id": "500a0665",
   "metadata": {},
   "source": [
    "The estimation of risk with the shrunk covariance is much closer to the ex-ante risk (of 1). "
   ]
  },
  {
   "cell_type": "code",
   "execution_count": null,
   "id": "81e96878",
   "metadata": {
    "execution": {
     "iopub.execute_input": "2024-11-07T16:57:29.445309Z",
     "iopub.status.busy": "2024-11-07T16:57:29.445056Z",
     "iopub.status.idle": "2024-11-07T16:57:29.597714Z",
     "shell.execute_reply": "2024-11-07T16:57:29.597097Z"
    }
   },
   "outputs": [],
   "source": [
    "line(\n",
    "    {\"benchmark\": pnl0.rolling(36).std(), \"shrunk covariance\": pnl.rolling(36).std()},\n",
    "    title=\"Rolling risk bias (36-month)\",\n",
    ")"
   ]
  },
  {
   "cell_type": "markdown",
   "id": "ea2cf0ef",
   "metadata": {},
   "source": [
    "The ratio of the largest to the smallest eigenvalue is an order of magnitude smaller for the backtest with the shrunk covariance relative to the benchmark. "
   ]
  },
  {
   "cell_type": "code",
   "execution_count": null,
   "id": "f05131de-d4ad-4e68-bf9f-7cae05472b98",
   "metadata": {
    "execution": {
     "iopub.execute_input": "2024-11-07T16:57:29.599958Z",
     "iopub.status.busy": "2024-11-07T16:57:29.599712Z",
     "iopub.status.idle": "2024-11-07T16:57:29.622483Z",
     "shell.execute_reply": "2024-11-07T16:57:29.621973Z"
    }
   },
   "outputs": [],
   "source": [
    "for m in estimators0: \n",
    "    break "
   ]
  },
  {
   "cell_type": "code",
   "execution_count": null,
   "id": "2dfa8785-81da-4120-8fd7-f570614941c9",
   "metadata": {
    "execution": {
     "iopub.execute_input": "2024-11-07T16:57:29.624443Z",
     "iopub.status.busy": "2024-11-07T16:57:29.624230Z",
     "iopub.status.idle": "2024-11-07T16:57:29.645769Z",
     "shell.execute_reply": "2024-11-07T16:57:29.645263Z"
    }
   },
   "outputs": [],
   "source": [
    "s = np.linalg.svd(np.diag(np.diag(m.V_)), compute_uv=False)"
   ]
  },
  {
   "cell_type": "code",
   "execution_count": null,
   "id": "a639b8ae",
   "metadata": {
    "execution": {
     "iopub.execute_input": "2024-11-07T16:57:29.647775Z",
     "iopub.status.busy": "2024-11-07T16:57:29.647559Z",
     "iopub.status.idle": "2024-11-07T16:57:29.960588Z",
     "shell.execute_reply": "2024-11-07T16:57:29.959979Z"
    }
   },
   "outputs": [],
   "source": [
    "get_eigenvalues = lambda estimators: pd.DataFrame(\n",
    "    [np.linalg.svd(m.V_, compute_uv=False) for m in estimators]\n",
    ")\n",
    "\n",
    "ratio_largest_smallest_eigenvalue = lambda x: x.pipe(\n",
    "    lambda x: x.iloc[:, 0] / x.iloc[:, -1]\n",
    ")\n",
    "\n",
    "eigenvalues0 = get_eigenvalues(estimators0)\n",
    "eigenvalues = get_eigenvalues(estimators)\n",
    "\n",
    "line(\n",
    "    {\n",
    "        \"benchmark\": eigenvalues0.pipe(ratio_largest_smallest_eigenvalue),\n",
    "        \"shrunk covariance\": eigenvalues.pipe(ratio_largest_smallest_eigenvalue),\n",
    "    },\n",
    "    yscale=\"log\",\n",
    "    title=\"Ratio of the largest-to-the-smallest-eigenvalues\",\n",
    ")"
   ]
  },
  {
   "cell_type": "code",
   "execution_count": null,
   "id": "d59ff9ad",
   "metadata": {
    "execution": {
     "iopub.execute_input": "2024-11-07T16:57:29.962855Z",
     "iopub.status.busy": "2024-11-07T16:57:29.962597Z",
     "iopub.status.idle": "2024-11-07T16:57:32.236589Z",
     "shell.execute_reply": "2024-11-07T16:57:32.235900Z"
    }
   },
   "outputs": [],
   "source": [
    "pnls = {}\n",
    "for shrinkage in [0, 0.01, 0.1, 1]:\n",
    "    transform_V_ = lambda x: ShrunkCovariance(shrinkage=shrinkage).fit(x).covariance_\n",
    "    estimator = MeanVariance(transform_V=transform_V_)\n",
    "    pnls[shrinkage] = Backtester(estimator).train(features, target, ret)\n",
    "line(\n",
    "    pnls, cumsum=True, title=\"Robustness for different value of the shrinkage parameter\"\n",
    ")"
   ]
  },
  {
   "cell_type": "markdown",
   "id": "3d339216",
   "metadata": {},
   "source": [
    "A related shrinkage is to use the `LedoitWolf` method to determine the shrinkage and it yield similar performance. "
   ]
  },
  {
   "cell_type": "code",
   "execution_count": null,
   "id": "95e01b86",
   "metadata": {
    "execution": {
     "iopub.execute_input": "2024-11-07T16:57:32.239080Z",
     "iopub.status.busy": "2024-11-07T16:57:32.238803Z",
     "iopub.status.idle": "2024-11-07T16:57:33.194375Z",
     "shell.execute_reply": "2024-11-07T16:57:33.193752Z"
    }
   },
   "outputs": [],
   "source": [
    "transform_V_ = lambda x: LedoitWolf().fit(x).covariance_\n",
    "estimator = MeanVariance(transform_V=transform_V_)\n",
    "pnl_ = Backtester(estimator).train(features, target, ret)\n",
    "line(\n",
    "    {\"benchmark\": pnl0, \"shrunk covaraince\": pnl, \"ledoit-wolf\": pnl_},\n",
    "    cumsum=True,\n",
    "    title=\"Ledoit-Wolf shrinkage\",\n",
    ")"
   ]
  },
  {
   "cell_type": "markdown",
   "id": "e4e146e5",
   "metadata": {},
   "source": [
    "The key empirical point is that the sharpe ratio is maximized for a covariance that involves a small amount of shrinkage."
   ]
  }
 ],
 "metadata": {
  "hide_input": false,
  "kernelspec": {
   "display_name": "skfin 2024",
   "language": "python",
   "name": "skfin"
  },
  "language_info": {
   "codemirror_mode": {
    "name": "ipython",
    "version": 3
   },
   "file_extension": ".py",
   "mimetype": "text/x-python",
   "name": "python",
   "nbconvert_exporter": "python",
   "pygments_lexer": "ipython3",
   "version": "3.9.20"
  },
  "toc": {
   "base_numbering": 1,
   "nav_menu": {},
   "number_sections": true,
   "sideBar": true,
   "skip_h1_title": false,
   "title_cell": "Table of Contents",
   "title_sidebar": "Contents",
   "toc_cell": false,
   "toc_position": {},
   "toc_section_display": true,
   "toc_window_display": false
  }
 },
 "nbformat": 4,
 "nbformat_minor": 5
}
