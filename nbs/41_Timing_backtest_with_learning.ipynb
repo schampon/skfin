{
 "cells": [
  {
   "cell_type": "markdown",
   "metadata": {},
   "source": [
    "# Timing backtest with learning"
   ]
  },
  {
   "cell_type": "code",
   "execution_count": null,
   "metadata": {
    "execution": {
     "iopub.execute_input": "2023-12-07T08:31:22.515283Z",
     "iopub.status.busy": "2023-12-07T08:31:22.514893Z",
     "iopub.status.idle": "2023-12-07T08:31:25.884533Z",
     "shell.execute_reply": "2023-12-07T08:31:25.883692Z"
    }
   },
   "outputs": [],
   "source": [
    "# hide\n",
    "%load_ext autoreload\n",
    "%autoreload 2\n",
    "%matplotlib inline\n",
    "\n",
    "import os\n",
    "import subprocess\n",
    "from pathlib import Path\n",
    "\n",
    "import numpy as np\n",
    "import pandas as pd\n",
    "from IPython.display import Image, display\n",
    "from skfin.plot import bar, line"
   ]
  },
  {
   "cell_type": "markdown",
   "metadata": {},
   "source": [
    "In previous sections, we studied the predictability of industry and stock returns in a long-short \"cash-neutral\" setting. In this section, we shift to the predictability of a single asset (ie. the \"market\" as the S\\&P 500 US index)."
   ]
  },
  {
   "cell_type": "markdown",
   "metadata": {},
   "source": [
    "## Timing the market"
   ]
  },
  {
   "cell_type": "markdown",
   "metadata": {},
   "source": [
    "To evaluate the out-of-sample predictability of a variable, Welch-Goyal (2008) compare two regressions:\n",
    "\n",
    "- conditional regression (based on the predictor)\n",
    "- unconditional regression (based on a rolling mean)\n",
    "- the comparison between the two regression provides a test of whether the predictor has any value.\n",
    "\n",
    "\n",
    "Intuition\n",
    "\n",
    "- “low\" prices relative to dividends forecast higher subsequent returns\n",
    "- other ratios (earnings, book value, moving average of past prices instead of dividends) should also work\n",
    "- expected returns vary over the business cycle and higher risk premium required to get people to hold stocks at the bottom of a recession: dividend-price ratios can be interpreted a state-variable capturing business cycle risk\n",
    "\n",
    "Critical view\n",
    "\n",
    "- are the in-sample results robust out-of-sample?\n",
    "\n",
    "\n",
    "Data\n",
    "\n",
    "- dividend price ratio (“d/p\"): difference between the log of dividends and the log of prices\n",
    "-  dividend yield (“d/y\"): difference between the log of dividends and the log of lagged prices\n",
    "- percent equity issuing (“equis\"): ratio of equity issuing activity as a fraction of total issuing equity"
   ]
  },
  {
   "cell_type": "code",
   "execution_count": null,
   "metadata": {
    "execution": {
     "iopub.execute_input": "2023-12-07T08:31:25.888658Z",
     "iopub.status.busy": "2023-12-07T08:31:25.888386Z",
     "iopub.status.idle": "2023-12-07T08:31:25.920650Z",
     "shell.execute_reply": "2023-12-07T08:31:25.919926Z"
    }
   },
   "outputs": [],
   "source": [
    "# hide\n",
    "display(Image(\"images/gw_1.png\", width=500))"
   ]
  },
  {
   "cell_type": "code",
   "execution_count": null,
   "metadata": {
    "execution": {
     "iopub.execute_input": "2023-12-07T08:31:25.965141Z",
     "iopub.status.busy": "2023-12-07T08:31:25.964881Z",
     "iopub.status.idle": "2023-12-07T08:31:25.993783Z",
     "shell.execute_reply": "2023-12-07T08:31:25.993095Z"
    }
   },
   "outputs": [],
   "source": [
    "# hide\n",
    "display(Image(\"images/gw_2.png\", width=700))"
   ]
  },
  {
   "cell_type": "markdown",
   "metadata": {},
   "source": [
    "Welch-Goyal summary: very little predictability and the oil shock 1974 important in explaining results in the literature."
   ]
  },
  {
   "cell_type": "code",
   "execution_count": null,
   "metadata": {
    "execution": {
     "iopub.execute_input": "2023-12-07T08:31:25.997910Z",
     "iopub.status.busy": "2023-12-07T08:31:25.997573Z",
     "iopub.status.idle": "2023-12-07T08:31:26.023605Z",
     "shell.execute_reply": "2023-12-07T08:31:26.022932Z"
    }
   },
   "outputs": [],
   "source": [
    "# hide\n",
    "display(Image(\"images/gw_3.png\", width=500))"
   ]
  },
  {
   "cell_type": "markdown",
   "metadata": {},
   "source": [
    "Campbell-Thompson: impose “sign-restrictions\"\n",
    "\n",
    "-  “in practice, an investor would not use a perverse coefficient but would likely conclude that the coefficient is zero, in effect imposing prior knowledge on the output of the regression\" (p. 1516)\n",
    "\n",
    "Sign restrictions\n",
    "\n",
    "-  set the regression coefficient to zero whenever it has the \"wrong\" sign (different from the theoretically expected sign estimated over the sample)\n",
    "- set the forecast equity premium to zero whenever it is negative"
   ]
  },
  {
   "cell_type": "markdown",
   "metadata": {},
   "source": [
    "Summary: does dividend yield predict returns?\n",
    "\n",
    "-  Yes: dividend yield is a strong predictor in the 1970s and 1980s (in-sample!)\n",
    "-  No: the relationship became weaker in 1990s\n",
    "- No: the statistical evidence is much weaker when adjusting for fact that regressors highly persistent\n",
    "- No: dividend yield is also weak predictor out-of-sample –and rarely better than a moving-average.\n",
    "\n",
    "Ways to improve predictability\n",
    "- Impose restrictions on coefficients (Campbell and Thompson, 2005)"
   ]
  },
  {
   "cell_type": "markdown",
   "metadata": {},
   "source": [
    "## Data"
   ]
  },
  {
   "cell_type": "markdown",
   "metadata": {},
   "source": [
    "The data provided by Amit Goyal on the S\\&P 500 is essentially identical to the one provided by Ken French."
   ]
  },
  {
   "cell_type": "code",
   "execution_count": null,
   "metadata": {
    "execution": {
     "iopub.execute_input": "2023-12-07T08:31:26.027077Z",
     "iopub.status.busy": "2023-12-07T08:31:26.026731Z",
     "iopub.status.idle": "2023-12-07T08:31:27.172392Z",
     "shell.execute_reply": "2023-12-07T08:31:27.171573Z"
    }
   },
   "outputs": [],
   "source": [
    "from skfin.datasets import load_ag_features, load_kf_returns\n",
    "\n",
    "df = load_ag_features()[:\"1999\"]"
   ]
  },
  {
   "cell_type": "code",
   "execution_count": null,
   "metadata": {
    "execution": {
     "iopub.execute_input": "2023-12-07T08:31:27.175668Z",
     "iopub.status.busy": "2023-12-07T08:31:27.175394Z",
     "iopub.status.idle": "2023-12-07T08:31:27.289723Z",
     "shell.execute_reply": "2023-12-07T08:31:27.288994Z"
    }
   },
   "outputs": [],
   "source": [
    "ret = load_kf_returns(filename=\"F-F_Research_Data_Factors\")[\"Monthly\"][:\"1999\"]"
   ]
  },
  {
   "cell_type": "code",
   "execution_count": null,
   "metadata": {
    "execution": {
     "iopub.execute_input": "2023-12-07T08:31:27.292611Z",
     "iopub.status.busy": "2023-12-07T08:31:27.292357Z",
     "iopub.status.idle": "2023-12-07T08:31:27.326222Z",
     "shell.execute_reply": "2023-12-07T08:31:27.325500Z"
    }
   },
   "outputs": [],
   "source": [
    "corr_ = df[[\"CRSP_SPvw\"]].corrwith(\n",
    "    ret.assign(Mkt=lambda x: x[\"Mkt-RF\"] + x[\"RF\"])[\"Mkt\"]\n",
    ")[\"CRSP_SPvw\"]\n",
    "print(f\"Correlation data Ken French/Amit Goyal:{corr_:.2f}\")"
   ]
  },
  {
   "cell_type": "code",
   "execution_count": null,
   "metadata": {
    "execution": {
     "iopub.execute_input": "2023-12-07T08:31:27.329029Z",
     "iopub.status.busy": "2023-12-07T08:31:27.328678Z",
     "iopub.status.idle": "2023-12-07T08:31:28.719616Z",
     "shell.execute_reply": "2023-12-07T08:31:28.718882Z"
    }
   },
   "outputs": [],
   "source": [
    "line(\n",
    "    {\n",
    "        \"Amit Goyal\": df[\"CRSP_SPvw\"],\n",
    "        \"Ken French\": ret.assign(Mkt=lambda x: x[\"Mkt-RF\"] + x[\"RF\"])[\"Mkt\"] / 100,\n",
    "    },\n",
    "    cumsum=True,\n",
    ")"
   ]
  },
  {
   "cell_type": "markdown",
   "metadata": {},
   "source": [
    "## Timing backtest"
   ]
  },
  {
   "cell_type": "code",
   "execution_count": null,
   "metadata": {
    "execution": {
     "iopub.execute_input": "2023-12-07T08:31:28.722816Z",
     "iopub.status.busy": "2023-12-07T08:31:28.722550Z",
     "iopub.status.idle": "2023-12-07T08:31:28.754716Z",
     "shell.execute_reply": "2023-12-07T08:31:28.754024Z"
    }
   },
   "outputs": [],
   "source": [
    "from skfin.estimators import Ridge, RidgeCV\n",
    "from skfin.mv_estimators import TimingMeanVariance\n",
    "from sklearn.model_selection import TimeSeriesSplit\n",
    "from sklearn.pipeline import make_pipeline\n",
    "from sklearn.preprocessing import StandardScaler"
   ]
  },
  {
   "cell_type": "code",
   "execution_count": null,
   "metadata": {
    "execution": {
     "iopub.execute_input": "2023-12-07T08:31:28.757427Z",
     "iopub.status.busy": "2023-12-07T08:31:28.757171Z",
     "iopub.status.idle": "2023-12-07T08:31:28.787339Z",
     "shell.execute_reply": "2023-12-07T08:31:28.786648Z"
    }
   },
   "outputs": [],
   "source": [
    "start_date = \"1945-01-01\"\n",
    "test_size = 1\n",
    "params = dict(max_train_size=36, test_size=test_size, gap=0)\n",
    "params[\"n_splits\"] = 1 + len(ret[:\"1999\"].loc[start_date:]) // test_size\n",
    "\n",
    "cv = TimeSeriesSplit(**params)"
   ]
  },
  {
   "cell_type": "code",
   "execution_count": null,
   "metadata": {
    "execution": {
     "iopub.execute_input": "2023-12-07T08:31:28.790074Z",
     "iopub.status.busy": "2023-12-07T08:31:28.789810Z",
     "iopub.status.idle": "2023-12-07T08:31:28.819526Z",
     "shell.execute_reply": "2023-12-07T08:31:28.818836Z"
    }
   },
   "outputs": [],
   "source": [
    "cols = [\n",
    "    \"D12\",\n",
    "    \"E12\",\n",
    "    \"b/m\",\n",
    "    \"tbl\",\n",
    "    \"AAA\",\n",
    "    \"BAA\",\n",
    "    \"lty\",\n",
    "    \"ntis\",\n",
    "    \"Rfree\",\n",
    "    \"infl\",\n",
    "    \"ltr\",\n",
    "    \"corpr\",\n",
    "    \"svar\",\n",
    "    \"csp\",\n",
    "]\n",
    "ret_ = ret[\"Mkt-RF\"]\n",
    "target = ret_\n",
    "features = df.loc[ret.index, cols].fillna(0)"
   ]
  },
  {
   "cell_type": "code",
   "execution_count": null,
   "metadata": {
    "execution": {
     "iopub.execute_input": "2023-12-07T08:31:28.822394Z",
     "iopub.status.busy": "2023-12-07T08:31:28.822019Z",
     "iopub.status.idle": "2023-12-07T08:31:33.015874Z",
     "shell.execute_reply": "2023-12-07T08:31:33.014961Z"
    }
   },
   "outputs": [],
   "source": [
    "m = make_pipeline(\n",
    "    StandardScaler(), Ridge(), TimingMeanVariance(a_min=-0.25, a_max=0.25)\n",
    ")\n",
    "\n",
    "_h = []\n",
    "for train, test in cv.split(ret):\n",
    "    m.fit(features.iloc[train], target.iloc[train])\n",
    "    _h += [m.predict(features.iloc[test])]\n",
    "\n",
    "idx = ret.index[np.concatenate([test for _, test in cv.split(ret)])]\n",
    "h = pd.Series(np.concatenate(_h), index=idx)\n",
    "pnl = h.shift(1).mul(ret_).dropna()\n",
    "line(pnl, cumsum=True)"
   ]
  },
  {
   "cell_type": "markdown",
   "metadata": {},
   "source": [
    "We can plot the holdings and in this case, we see that the positions vary significantly and that there is a significant positive `tilt` (defined as the exponential average over the positions with a 252-day halflife). "
   ]
  },
  {
   "cell_type": "code",
   "execution_count": null,
   "metadata": {
    "execution": {
     "iopub.execute_input": "2023-12-07T08:31:33.019912Z",
     "iopub.status.busy": "2023-12-07T08:31:33.019346Z",
     "iopub.status.idle": "2023-12-07T08:31:33.254890Z",
     "shell.execute_reply": "2023-12-07T08:31:33.254161Z"
    }
   },
   "outputs": [],
   "source": [
    "line({\"holding\": h, \"tilt\": h.ewm(halflife=252).mean()})"
   ]
  },
  {
   "cell_type": "markdown",
   "metadata": {},
   "source": [
    "Decomposing the pnl attributed to the `tilt` and the `timing` (defined as the difference between the positions and the `tilt`), we see that both contribute -- although the `timing` pnl has a lower sharpe ratio. "
   ]
  },
  {
   "cell_type": "code",
   "execution_count": null,
   "metadata": {
    "execution": {
     "iopub.execute_input": "2023-12-07T08:31:33.258036Z",
     "iopub.status.busy": "2023-12-07T08:31:33.257595Z",
     "iopub.status.idle": "2023-12-07T08:31:34.192573Z",
     "shell.execute_reply": "2023-12-07T08:31:34.191828Z"
    }
   },
   "outputs": [],
   "source": [
    "line(\n",
    "    {\n",
    "        \"ALL\": pnl,\n",
    "        \"tilt\": h.ewm(halflife=12).mean().shift(1).mul(ret_).dropna(),\n",
    "        \"timing\": h.sub(h.ewm(halflife=12).mean()).shift(1).mul(ret_).dropna(),\n",
    "    },\n",
    "    cumsum=True, title='Tilt/timing decomposition'\n",
    ")"
   ]
  },
  {
   "cell_type": "markdown",
   "metadata": {},
   "source": [
    "In what follows, we use the `Backtester` clas with the timing pipeline. "
   ]
  },
  {
   "cell_type": "code",
   "execution_count": null,
   "metadata": {
    "execution": {
     "iopub.execute_input": "2023-12-07T08:31:34.195928Z",
     "iopub.status.busy": "2023-12-07T08:31:34.195507Z",
     "iopub.status.idle": "2023-12-07T08:31:35.583619Z",
     "shell.execute_reply": "2023-12-07T08:31:35.582899Z"
    }
   },
   "outputs": [],
   "source": [
    "from skfin.backtesting import Backtester\n",
    "\n",
    "estimator = make_pipeline(\n",
    "    StandardScaler(), Ridge(), TimingMeanVariance(a_min=-0.25, a_max=0.25)\n",
    ")\n",
    "\n",
    "m = Backtester(estimator=estimator)\n",
    "m.compute_holdings(features, target).compute_pnl(ret_)\n",
    "\n",
    "np.allclose(h, m.h_), np.allclose(pnl, m.pnl_)"
   ]
  },
  {
   "cell_type": "markdown",
   "metadata": {},
   "source": [
    "## Other timing backtest statistics"
   ]
  },
  {
   "cell_type": "code",
   "execution_count": null,
   "metadata": {
    "execution": {
     "iopub.execute_input": "2023-12-07T08:31:35.586865Z",
     "iopub.status.busy": "2023-12-07T08:31:35.586449Z",
     "iopub.status.idle": "2023-12-07T08:31:35.927830Z",
     "shell.execute_reply": "2023-12-07T08:31:35.927102Z"
    }
   },
   "outputs": [],
   "source": [
    "coef = pd.DataFrame(\n",
    "    [m_.steps[1][1].coef_ for m_ in m.estimators_], columns=cols, index=m.h_.index\n",
    ")\n",
    "line(coef, title=\"Ridge coefficient\")"
   ]
  },
  {
   "cell_type": "code",
   "execution_count": null,
   "metadata": {
    "execution": {
     "iopub.execute_input": "2023-12-07T08:31:35.930949Z",
     "iopub.status.busy": "2023-12-07T08:31:35.930665Z",
     "iopub.status.idle": "2023-12-07T08:31:35.962135Z",
     "shell.execute_reply": "2023-12-07T08:31:35.961444Z"
    }
   },
   "outputs": [],
   "source": [
    "from skfin.metrics import sharpe_ratio"
   ]
  },
  {
   "cell_type": "code",
   "execution_count": null,
   "metadata": {
    "execution": {
     "iopub.execute_input": "2023-12-07T08:31:35.965108Z",
     "iopub.status.busy": "2023-12-07T08:31:35.964683Z",
     "iopub.status.idle": "2023-12-07T08:31:43.291220Z",
     "shell.execute_reply": "2023-12-07T08:31:43.290547Z"
    }
   },
   "outputs": [],
   "source": [
    "sr = {i: m.h_.shift(1 + i).mul(ret_).pipe(sharpe_ratio) for i in range(-10, 12)}\n",
    "bar(sr, baseline=0, sort=False, title=\"Lead-lag sharpe ratio\")"
   ]
  },
  {
   "cell_type": "code",
   "execution_count": null,
   "metadata": {
    "execution": {
     "iopub.execute_input": "2023-12-07T08:31:43.294442Z",
     "iopub.status.busy": "2023-12-07T08:31:43.293981Z",
     "iopub.status.idle": "2023-12-07T08:32:08.476880Z",
     "shell.execute_reply": "2023-12-07T08:32:08.475892Z"
    }
   },
   "outputs": [],
   "source": [
    "pnls_ = {}\n",
    "for c in cols + [\"ALL\"]:\n",
    "    features_ = df.loc[ret.index].drop(c, axis=1, errors=\"ignore\").fillna(0)\n",
    "    pnls_[c] = Backtester(estimator=estimator).train(features_, target, ret=ret_)\n",
    "line(pnls_, cumsum=True, title=\"Feature off the top\")"
   ]
  },
  {
   "cell_type": "code",
   "execution_count": null,
   "metadata": {
    "execution": {
     "iopub.execute_input": "2023-12-07T08:32:08.480447Z",
     "iopub.status.busy": "2023-12-07T08:32:08.480101Z",
     "iopub.status.idle": "2023-12-07T08:32:16.629424Z",
     "shell.execute_reply": "2023-12-07T08:32:16.628588Z"
    }
   },
   "outputs": [],
   "source": [
    "pnls_ = {}\n",
    "for alpha in [0.1, 1, 10, 100, 1000]:\n",
    "    estimator_ = make_pipeline(\n",
    "        StandardScaler(),\n",
    "        Ridge(alpha=alpha),\n",
    "        TimingMeanVariance(a_min=-0.25, a_max=0.25),\n",
    "    )\n",
    "    pnls_[alpha] = Backtester(estimator=estimator_).train(features, target, ret=ret_)\n",
    "line(pnls_, cumsum=True, title=\"Robustness: ridge alpha\")"
   ]
  },
  {
   "cell_type": "code",
   "execution_count": null,
   "metadata": {
    "execution": {
     "iopub.execute_input": "2023-12-07T08:32:16.633089Z",
     "iopub.status.busy": "2023-12-07T08:32:16.632382Z",
     "iopub.status.idle": "2023-12-07T08:32:19.083759Z",
     "shell.execute_reply": "2023-12-07T08:32:19.082996Z"
    }
   },
   "outputs": [],
   "source": [
    "estimator_ = make_pipeline(\n",
    "    StandardScaler(),\n",
    "    RidgeCV(alphas=[1, 10, 100, 1000]),\n",
    "    TimingMeanVariance(a_min=-0.25, a_max=0.25),\n",
    ")\n",
    "\n",
    "m_ = Backtester(estimator=estimator_)\n",
    "m_.compute_holdings(features, target).compute_pnl(ret_)\n",
    "line({\"ridge\": m.pnl_, \"ridgeCV\": m_.pnl_}, cumsum=True, title=\"Robustness: estimator\")"
   ]
  },
  {
   "cell_type": "markdown",
   "metadata": {},
   "source": [
    "The following graph shows the regularization paramter `alpha` estimated by cross-validation by the `RidgeCV` estimator. "
   ]
  },
  {
   "cell_type": "code",
   "execution_count": null,
   "metadata": {
    "execution": {
     "iopub.execute_input": "2023-12-07T08:32:19.087218Z",
     "iopub.status.busy": "2023-12-07T08:32:19.086732Z",
     "iopub.status.idle": "2023-12-07T08:32:19.291099Z",
     "shell.execute_reply": "2023-12-07T08:32:19.290400Z"
    },
    "tags": []
   },
   "outputs": [],
   "source": [
    "alpha = pd.Series([m_.steps[1][1].alpha_ for m_ in m_.estimators_], index=m_.h_.index)\n",
    "line(alpha, legend=False, title=\"RidgeCV alpha\")"
   ]
  }
 ],
 "metadata": {
  "hide_input": false,
  "kernelspec": {
   "display_name": "Python (skfin)",
   "language": "python",
   "name": "skfin"
  },
  "language_info": {
   "codemirror_mode": {
    "name": "ipython",
    "version": 3
   },
   "file_extension": ".py",
   "mimetype": "text/x-python",
   "name": "python",
   "nbconvert_exporter": "python",
   "pygments_lexer": "ipython3",
   "version": "3.8.16"
  },
  "toc": {
   "base_numbering": 1,
   "nav_menu": {},
   "number_sections": true,
   "sideBar": true,
   "skip_h1_title": false,
   "title_cell": "Table of Contents",
   "title_sidebar": "Contents",
   "toc_cell": false,
   "toc_position": {},
   "toc_section_display": true,
   "toc_window_display": false
  }
 },
 "nbformat": 4,
 "nbformat_minor": 4
}
