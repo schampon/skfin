{
 "cells": [
  {
   "cell_type": "markdown",
   "metadata": {},
   "source": [
    "# Out-of-Sample Predictability of the S&P 500: A Critical Assessment"
   ]
  },
  {
   "cell_type": "code",
   "execution_count": null,
   "metadata": {
    "execution": {
     "iopub.execute_input": "2025-09-29T15:53:11.196383Z",
     "iopub.status.busy": "2025-09-29T15:53:11.196150Z",
     "iopub.status.idle": "2025-09-29T15:53:12.629823Z",
     "shell.execute_reply": "2025-09-29T15:53:12.629118Z"
    }
   },
   "outputs": [],
   "source": [
    "# hide\n",
    "%load_ext autoreload\n",
    "%autoreload 2\n",
    "%matplotlib inline\n",
    "\n",
    "import os\n",
    "import subprocess\n",
    "from pathlib import Path\n",
    "\n",
    "import numpy as np\n",
    "import pandas as pd\n",
    "from IPython.display import Image, display\n",
    "from skfin.plot import bar, line"
   ]
  },
  {
   "cell_type": "markdown",
   "metadata": {},
   "source": [
    "In previous sections, we studied the predictability of industry and stock returns in a long-short \"cash-neutral\" setting. In this section, we shift to the predictability of a single asset (ie. the \"market\" as the S\\&P 500 US index)."
   ]
  },
  {
   "cell_type": "markdown",
   "metadata": {},
   "source": [
    "## Timing the market"
   ]
  },
  {
   "cell_type": "code",
   "execution_count": null,
   "metadata": {
    "execution": {
     "iopub.execute_input": "2025-09-29T15:53:12.632406Z",
     "iopub.status.busy": "2025-09-29T15:53:12.632017Z",
     "iopub.status.idle": "2025-09-29T15:53:12.661868Z",
     "shell.execute_reply": "2025-09-29T15:53:12.661246Z"
    }
   },
   "outputs": [],
   "source": [
    "# hide\n",
    "display(Image(\"images/welch_goyal_head.png\", width=600))"
   ]
  },
  {
   "cell_type": "markdown",
   "metadata": {},
   "source": [
    "To evaluate the out-of-sample predictability of a variable, Welch-Goyal (2008) compare two regressions:\n",
    "\n",
    "- conditional regression (based on the predictor)\n",
    "- unconditional regression (based on a rolling mean)\n",
    "\n",
    "The comparison between the two regression provides a test of whether the predictor has any value. \n",
    "\n",
    "The main intuitions for why the predictability of some variables for the S&P 500 are related to valuations: \n",
    "\n",
    "- “low\" prices relative to dividends forecast higher subsequent returns; \n",
    "- other ratios (earnings, book value, moving average of past prices instead of dividends) should also work; \n",
    "- expected returns vary over the business cycle and higher risk premium required to get people to hold stocks at the bottom of a recession: dividend-price ratios can be interpreted a state-variable capturing business cycle risk. \n",
    "\n",
    "The main critical question that Welch-Goyal (2008) ask is whether in-sample results also hold out-of-sample. \n",
    "\n",
    "Data for the following graphs: \n",
    "\n",
    "- dividend price ratio (“d/p\"): difference between the log of dividends and the log of prices\n",
    "- dividend yield (“d/y\"): difference between the log of dividends and the log of lagged prices\n",
    "- percent equity issuing (“equis\"): ratio of equity issuing activity as a fraction of total issuing equity"
   ]
  },
  {
   "cell_type": "code",
   "execution_count": null,
   "metadata": {
    "execution": {
     "iopub.execute_input": "2025-09-29T15:53:12.692849Z",
     "iopub.status.busy": "2025-09-29T15:53:12.692561Z",
     "iopub.status.idle": "2025-09-29T15:53:12.721914Z",
     "shell.execute_reply": "2025-09-29T15:53:12.721308Z"
    }
   },
   "outputs": [],
   "source": [
    "# hide\n",
    "display(Image(\"images/gw_1.png\", width=500))"
   ]
  },
  {
   "cell_type": "code",
   "execution_count": null,
   "metadata": {
    "execution": {
     "iopub.execute_input": "2025-09-29T15:53:12.723736Z",
     "iopub.status.busy": "2025-09-29T15:53:12.723500Z",
     "iopub.status.idle": "2025-09-29T15:53:12.753829Z",
     "shell.execute_reply": "2025-09-29T15:53:12.753226Z"
    }
   },
   "outputs": [],
   "source": [
    "# hide\n",
    "display(Image(\"images/gw_2.png\", width=700))"
   ]
  },
  {
   "cell_type": "markdown",
   "metadata": {},
   "source": [
    "Welch-Goyal summary: very little predictability and the oil shock 1974 important in explaining results in the literature."
   ]
  },
  {
   "cell_type": "code",
   "execution_count": null,
   "metadata": {
    "execution": {
     "iopub.execute_input": "2025-09-29T15:53:12.756298Z",
     "iopub.status.busy": "2025-09-29T15:53:12.756061Z",
     "iopub.status.idle": "2025-09-29T15:53:12.781673Z",
     "shell.execute_reply": "2025-09-29T15:53:12.781093Z"
    }
   },
   "outputs": [],
   "source": [
    "# hide\n",
    "display(Image(\"images/gw_3.png\", width=500))"
   ]
  },
  {
   "cell_type": "markdown",
   "metadata": {},
   "source": [
    "Responding to Welch-Goyal (2008), Campbell-Thompson (2008): impose “sign-restrictions\"\n",
    "\n",
    ">  “in practice, an investor would not use a perverse coefficient but would likely conclude that the coefficient is zero, in effect imposing prior knowledge on the output of the regression\" (p. 1516)\n",
    "\n",
    "Sign restrictions\n",
    "\n",
    "- set the regression coefficient to zero whenever it has the \"wrong\" sign (different from the theoretically expected sign estimated over the sample)\n",
    "- set the forecast equity premium to zero whenever it is negative"
   ]
  },
  {
   "cell_type": "markdown",
   "metadata": {},
   "source": [
    "Summary: does dividend yield predict returns?\n",
    "\n",
    "- Yes: dividend yield is a strong predictor in the 1970s and 1980s (in-sample!)\n",
    "- No: the relationship became weaker in 1990s\n",
    "- No: the statistical evidence is much weaker when adjusting for fact that regressors highly persistent\n",
    "- No: dividend yield is also weak predictor out-of-sample –and rarely better than a moving-average."
   ]
  },
  {
   "cell_type": "markdown",
   "metadata": {},
   "source": [
    "## Data"
   ]
  },
  {
   "cell_type": "markdown",
   "metadata": {},
   "source": [
    "The data provided by Amit Goyal on the S\\&P 500 is essentially identical to the one provided by Ken French."
   ]
  },
  {
   "cell_type": "code",
   "execution_count": null,
   "metadata": {
    "execution": {
     "iopub.execute_input": "2025-09-29T15:53:12.783624Z",
     "iopub.status.busy": "2025-09-29T15:53:12.783397Z",
     "iopub.status.idle": "2025-09-29T15:53:13.973010Z",
     "shell.execute_reply": "2025-09-29T15:53:13.972282Z"
    }
   },
   "outputs": [],
   "source": [
    "from skfin.datasets_ import load_ag_features, load_kf_returns\n",
    "\n",
    "df = load_ag_features()[:\"1999\"]"
   ]
  },
  {
   "cell_type": "code",
   "execution_count": null,
   "metadata": {
    "execution": {
     "iopub.execute_input": "2025-09-29T15:53:13.975202Z",
     "iopub.status.busy": "2025-09-29T15:53:13.974804Z",
     "iopub.status.idle": "2025-09-29T15:53:14.052223Z",
     "shell.execute_reply": "2025-09-29T15:53:14.051546Z"
    }
   },
   "outputs": [],
   "source": [
    "ret = load_kf_returns(filename=\"F-F_Research_Data_Factors\")[\"Monthly\"][:\"1999\"]"
   ]
  },
  {
   "cell_type": "code",
   "execution_count": null,
   "metadata": {
    "execution": {
     "iopub.execute_input": "2025-09-29T15:53:14.054298Z",
     "iopub.status.busy": "2025-09-29T15:53:14.054034Z",
     "iopub.status.idle": "2025-09-29T15:53:14.087921Z",
     "shell.execute_reply": "2025-09-29T15:53:14.087256Z"
    }
   },
   "outputs": [],
   "source": [
    "corr_ = df[[\"ret\"]].corrwith(ret.assign(Mkt=lambda x: x[\"Mkt-RF\"] + x[\"RF\"])[\"Mkt\"])[\n",
    "    \"ret\"\n",
    "]\n",
    "print(f\"Correlation data Ken French/Amit Goyal:{corr_:.2f}\")"
   ]
  },
  {
   "cell_type": "code",
   "execution_count": null,
   "metadata": {
    "execution": {
     "iopub.execute_input": "2025-09-29T15:53:14.089774Z",
     "iopub.status.busy": "2025-09-29T15:53:14.089522Z",
     "iopub.status.idle": "2025-09-29T15:53:14.117925Z",
     "shell.execute_reply": "2025-09-29T15:53:14.117352Z"
    }
   },
   "outputs": [],
   "source": [
    "df[\"ret\"].std() * np.sqrt(12)"
   ]
  },
  {
   "cell_type": "code",
   "execution_count": null,
   "metadata": {
    "execution": {
     "iopub.execute_input": "2025-09-29T15:53:14.119694Z",
     "iopub.status.busy": "2025-09-29T15:53:14.119466Z",
     "iopub.status.idle": "2025-09-29T15:53:14.852920Z",
     "shell.execute_reply": "2025-09-29T15:53:14.852257Z"
    }
   },
   "outputs": [],
   "source": [
    "line(\n",
    "    {\n",
    "        \"Amit Goyal\": df[\"ret\"],\n",
    "        \"Ken French\": ret.assign(Mkt=lambda x: x[\"Mkt-RF\"] + x[\"RF\"])[\"Mkt\"] / 100,\n",
    "    },\n",
    "    cumsum=True,\n",
    ")"
   ]
  },
  {
   "cell_type": "markdown",
   "metadata": {},
   "source": [
    "## Timing backtest"
   ]
  },
  {
   "cell_type": "code",
   "execution_count": null,
   "metadata": {
    "execution": {
     "iopub.execute_input": "2025-09-29T15:53:14.854998Z",
     "iopub.status.busy": "2025-09-29T15:53:14.854708Z",
     "iopub.status.idle": "2025-09-29T15:53:14.885797Z",
     "shell.execute_reply": "2025-09-29T15:53:14.885142Z"
    }
   },
   "outputs": [],
   "source": [
    "from skfin.estimators import Ridge, RidgeCV\n",
    "from skfin.mv_estimators import TimingMeanVariance\n",
    "from sklearn.model_selection import TimeSeriesSplit\n",
    "from sklearn.pipeline import make_pipeline\n",
    "from sklearn.preprocessing import StandardScaler"
   ]
  },
  {
   "cell_type": "code",
   "execution_count": null,
   "metadata": {
    "execution": {
     "iopub.execute_input": "2025-09-29T15:53:14.887830Z",
     "iopub.status.busy": "2025-09-29T15:53:14.887548Z",
     "iopub.status.idle": "2025-09-29T15:53:14.918930Z",
     "shell.execute_reply": "2025-09-29T15:53:14.918317Z"
    }
   },
   "outputs": [],
   "source": [
    "start_date = \"1945-01-01\"\n",
    "test_size = 1\n",
    "params = dict(max_train_size=36, test_size=test_size, gap=0)\n",
    "params[\"n_splits\"] = 1 + len(ret[:\"1999\"].loc[start_date:]) // test_size\n",
    "\n",
    "cv = TimeSeriesSplit(**params)"
   ]
  },
  {
   "cell_type": "code",
   "execution_count": null,
   "metadata": {
    "execution": {
     "iopub.execute_input": "2025-09-29T15:53:14.920805Z",
     "iopub.status.busy": "2025-09-29T15:53:14.920553Z",
     "iopub.status.idle": "2025-09-29T15:53:14.951923Z",
     "shell.execute_reply": "2025-09-29T15:53:14.951253Z"
    }
   },
   "outputs": [],
   "source": [
    "cols = [\n",
    "    \"d12\",\n",
    "    \"e12\",\n",
    "    \"b/m\",\n",
    "    \"tbl\",\n",
    "    \"AAA\",\n",
    "    \"BAA\",\n",
    "    \"lty\",\n",
    "    \"ntis\",\n",
    "    \"Rfree\",\n",
    "    \"infl\",\n",
    "    \"ltr\",\n",
    "    \"corpr\",\n",
    "    \"svar\",\n",
    "    \"csp\",\n",
    "]\n",
    "ret_ = ret[\"Mkt-RF\"]\n",
    "target = ret_\n",
    "features = df.loc[ret.index, cols].fillna(0)"
   ]
  },
  {
   "cell_type": "code",
   "execution_count": null,
   "metadata": {
    "execution": {
     "iopub.execute_input": "2025-09-29T15:53:14.953837Z",
     "iopub.status.busy": "2025-09-29T15:53:14.953588Z",
     "iopub.status.idle": "2025-09-29T15:53:17.484567Z",
     "shell.execute_reply": "2025-09-29T15:53:17.483892Z"
    }
   },
   "outputs": [],
   "source": [
    "m = make_pipeline(\n",
    "    StandardScaler(), Ridge(), TimingMeanVariance(a_min=-0.25, a_max=0.25)\n",
    ")\n",
    "\n",
    "_h = []\n",
    "for train, test in cv.split(ret):\n",
    "    m.fit(features.iloc[train], target.iloc[train])\n",
    "    _h += [m.predict(features.iloc[test])]\n",
    "\n",
    "idx = ret.index[np.concatenate([test for _, test in cv.split(ret)])]\n",
    "h = pd.Series(np.concatenate(_h), index=idx)\n",
    "pnl = h.shift(1).mul(ret_).dropna()\n",
    "line(pnl, cumsum=True)"
   ]
  },
  {
   "cell_type": "markdown",
   "metadata": {},
   "source": [
    "We can plot the holdings and in this case, we see that the positions vary significantly and that there is a significant positive `tilt` (defined as the exponential average over the positions with a 252-day halflife). "
   ]
  },
  {
   "cell_type": "code",
   "execution_count": null,
   "metadata": {
    "execution": {
     "iopub.execute_input": "2025-09-29T15:53:17.486669Z",
     "iopub.status.busy": "2025-09-29T15:53:17.486373Z",
     "iopub.status.idle": "2025-09-29T15:53:17.653118Z",
     "shell.execute_reply": "2025-09-29T15:53:17.652476Z"
    }
   },
   "outputs": [],
   "source": [
    "line({\"holding\": h, \"tilt\": h.ewm(halflife=12).mean()})"
   ]
  },
  {
   "cell_type": "markdown",
   "metadata": {},
   "source": [
    "Decomposing the pnl attributed to the `tilt` and the `timing` (defined as the difference between the positions and the `tilt`), we see that both contribute -- although the `timing` pnl has a lower sharpe ratio. "
   ]
  },
  {
   "cell_type": "code",
   "execution_count": null,
   "metadata": {
    "execution": {
     "iopub.execute_input": "2025-09-29T15:53:17.655130Z",
     "iopub.status.busy": "2025-09-29T15:53:17.654878Z",
     "iopub.status.idle": "2025-09-29T15:53:18.160834Z",
     "shell.execute_reply": "2025-09-29T15:53:18.160166Z"
    }
   },
   "outputs": [],
   "source": [
    "line(\n",
    "    {\n",
    "        \"ALL\": pnl,\n",
    "        \"tilt\": h.ewm(halflife=12).mean().shift(1).mul(ret_).dropna(),\n",
    "        \"timing\": h.sub(h.ewm(halflife=12).mean()).shift(1).mul(ret_).dropna(),\n",
    "    },\n",
    "    cumsum=True,\n",
    "    title=\"Tilt/timing decomposition\",\n",
    ")"
   ]
  },
  {
   "cell_type": "markdown",
   "metadata": {},
   "source": [
    "In what follows, we use the `Backtester` clas with the timing pipeline. "
   ]
  },
  {
   "cell_type": "code",
   "execution_count": null,
   "metadata": {
    "execution": {
     "iopub.execute_input": "2025-09-29T15:53:18.162885Z",
     "iopub.status.busy": "2025-09-29T15:53:18.162604Z",
     "iopub.status.idle": "2025-09-29T15:53:19.086644Z",
     "shell.execute_reply": "2025-09-29T15:53:19.086019Z"
    }
   },
   "outputs": [],
   "source": [
    "from skfin.backtesting import Backtester\n",
    "\n",
    "estimator = make_pipeline(\n",
    "    StandardScaler(), Ridge(), TimingMeanVariance(a_min=-0.25, a_max=0.25)\n",
    ")\n",
    "\n",
    "m = Backtester(estimator=estimator)\n",
    "m.compute_holdings(features, target).compute_pnl(ret_)\n",
    "\n",
    "np.allclose(h, m.h_), np.allclose(pnl, m.pnl_)"
   ]
  },
  {
   "cell_type": "markdown",
   "metadata": {},
   "source": [
    "## Other timing backtest statistics"
   ]
  },
  {
   "cell_type": "code",
   "execution_count": null,
   "metadata": {
    "execution": {
     "iopub.execute_input": "2025-09-29T15:53:19.088624Z",
     "iopub.status.busy": "2025-09-29T15:53:19.088354Z",
     "iopub.status.idle": "2025-09-29T15:53:19.343704Z",
     "shell.execute_reply": "2025-09-29T15:53:19.343033Z"
    }
   },
   "outputs": [],
   "source": [
    "coef = pd.DataFrame(\n",
    "    [m_.steps[1][1].coef_ for m_ in m.estimators_], columns=cols, index=m.h_.index\n",
    ")\n",
    "line(coef, title=\"Ridge coefficient\")"
   ]
  },
  {
   "cell_type": "code",
   "execution_count": null,
   "metadata": {
    "execution": {
     "iopub.execute_input": "2025-09-29T15:53:19.346189Z",
     "iopub.status.busy": "2025-09-29T15:53:19.345908Z",
     "iopub.status.idle": "2025-09-29T15:53:19.824553Z",
     "shell.execute_reply": "2025-09-29T15:53:19.823891Z"
    }
   },
   "outputs": [],
   "source": [
    "bar(coef.mean(), horizontal=True)"
   ]
  },
  {
   "cell_type": "code",
   "execution_count": null,
   "metadata": {
    "execution": {
     "iopub.execute_input": "2025-09-29T15:53:19.826580Z",
     "iopub.status.busy": "2025-09-29T15:53:19.826284Z",
     "iopub.status.idle": "2025-09-29T15:53:19.855872Z",
     "shell.execute_reply": "2025-09-29T15:53:19.855262Z"
    }
   },
   "outputs": [],
   "source": [
    "from skfin.metrics import sharpe_ratio"
   ]
  },
  {
   "cell_type": "code",
   "execution_count": null,
   "metadata": {
    "execution": {
     "iopub.execute_input": "2025-09-29T15:53:19.857690Z",
     "iopub.status.busy": "2025-09-29T15:53:19.857445Z",
     "iopub.status.idle": "2025-09-29T15:53:23.457145Z",
     "shell.execute_reply": "2025-09-29T15:53:23.456515Z"
    }
   },
   "outputs": [],
   "source": [
    "sr = {i: m.h_.shift(1 + i).mul(ret_).pipe(sharpe_ratio) for i in range(-10, 12)}\n",
    "bar(sr, baseline=0, sort=False, title=\"Lead-lag sharpe ratio\")"
   ]
  },
  {
   "cell_type": "code",
   "execution_count": null,
   "metadata": {
    "execution": {
     "iopub.execute_input": "2025-09-29T15:53:23.459113Z",
     "iopub.status.busy": "2025-09-29T15:53:23.458830Z",
     "iopub.status.idle": "2025-09-29T15:53:40.545073Z",
     "shell.execute_reply": "2025-09-29T15:53:40.544434Z"
    }
   },
   "outputs": [],
   "source": [
    "pnls_ = {}\n",
    "for c in cols + [\"ALL\"]:\n",
    "    features_ = df.loc[ret.index].drop(c, axis=1, errors=\"ignore\").fillna(0)\n",
    "    pnls_[c] = Backtester(estimator=estimator).train(features_, target, ret=ret_)\n",
    "line(pnls_, cumsum=True, title=\"Feature off the top\")"
   ]
  },
  {
   "cell_type": "code",
   "execution_count": null,
   "metadata": {
    "execution": {
     "iopub.execute_input": "2025-09-29T15:53:40.547097Z",
     "iopub.status.busy": "2025-09-29T15:53:40.546831Z",
     "iopub.status.idle": "2025-09-29T15:53:45.764363Z",
     "shell.execute_reply": "2025-09-29T15:53:45.763716Z"
    }
   },
   "outputs": [],
   "source": [
    "pnls_ = {}\n",
    "for alpha in [0.1, 1, 10, 100, 1000]:\n",
    "    estimator_ = make_pipeline(\n",
    "        StandardScaler(),\n",
    "        Ridge(alpha=alpha),\n",
    "        TimingMeanVariance(a_min=-0.25, a_max=0.25),\n",
    "    )\n",
    "    pnls_[alpha] = Backtester(estimator=estimator_).train(features, target, ret=ret_)\n",
    "line(pnls_, cumsum=True, title=\"Robustness: ridge alpha\")"
   ]
  },
  {
   "cell_type": "code",
   "execution_count": null,
   "metadata": {
    "execution": {
     "iopub.execute_input": "2025-09-29T15:53:45.766387Z",
     "iopub.status.busy": "2025-09-29T15:53:45.766095Z",
     "iopub.status.idle": "2025-09-29T15:53:47.273350Z",
     "shell.execute_reply": "2025-09-29T15:53:47.272692Z"
    }
   },
   "outputs": [],
   "source": [
    "estimator_ = make_pipeline(\n",
    "    StandardScaler(),\n",
    "    RidgeCV(alphas=[1, 10, 100, 1000]),\n",
    "    TimingMeanVariance(a_min=-0.25, a_max=0.25),\n",
    ")\n",
    "\n",
    "m_ = Backtester(estimator=estimator_)\n",
    "m_.compute_holdings(features, target).compute_pnl(ret_)\n",
    "line({\"ridge\": m.pnl_, \"ridgeCV\": m_.pnl_}, cumsum=True, title=\"Robustness: estimator\")"
   ]
  },
  {
   "cell_type": "markdown",
   "metadata": {},
   "source": [
    "The following graph shows the regularization paramter `alpha` estimated by cross-validation by the `RidgeCV` estimator. "
   ]
  },
  {
   "cell_type": "code",
   "execution_count": null,
   "metadata": {
    "execution": {
     "iopub.execute_input": "2025-09-29T15:53:47.275477Z",
     "iopub.status.busy": "2025-09-29T15:53:47.275175Z",
     "iopub.status.idle": "2025-09-29T15:53:47.416072Z",
     "shell.execute_reply": "2025-09-29T15:53:47.415446Z"
    },
    "tags": []
   },
   "outputs": [],
   "source": [
    "alpha = pd.Series([m_.steps[1][1].alpha_ for m_ in m_.estimators_], index=m_.h_.index)\n",
    "line(alpha, legend=False, title=\"RidgeCV alpha\")"
   ]
  }
 ],
 "metadata": {
  "hide_input": false,
  "kernelspec": {
   "display_name": "skfin 2024",
   "language": "python",
   "name": "skfin"
  },
  "language_info": {
   "codemirror_mode": {
    "name": "ipython",
    "version": 3
   },
   "file_extension": ".py",
   "mimetype": "text/x-python",
   "name": "python",
   "nbconvert_exporter": "python",
   "pygments_lexer": "ipython3",
   "version": "3.9.20"
  },
  "toc": {
   "base_numbering": 1,
   "nav_menu": {},
   "number_sections": true,
   "sideBar": true,
   "skip_h1_title": false,
   "title_cell": "Table of Contents",
   "title_sidebar": "Contents",
   "toc_cell": false,
   "toc_position": {},
   "toc_section_display": true,
   "toc_window_display": false
  }
 },
 "nbformat": 4,
 "nbformat_minor": 4
}
